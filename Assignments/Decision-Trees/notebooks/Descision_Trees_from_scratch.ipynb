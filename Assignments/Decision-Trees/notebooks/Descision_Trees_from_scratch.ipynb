{
 "cells": [
  {
   "cell_type": "code",
   "execution_count": 1,
   "metadata": {},
   "outputs": [],
   "source": [
    "import numpy as np\n",
    "from collections import Counter\n",
    "import matplotlib.pyplot as plt"
   ]
  },
  {
   "cell_type": "code",
   "execution_count": 2,
   "metadata": {},
   "outputs": [],
   "source": [
    "class Node:\n",
    "    def __init__(self, feature=None, threshold=None, left=None, right=None, value=None):\n",
    "        self.feature = feature\n",
    "        self.threshold = threshold\n",
    "        self.left = left\n",
    "        self.right = right\n",
    "        self.value = value\n",
    "        \n",
    "class DecisionTreeClassifier:\n",
    "    def __init__(self, max_depth=None, min_samples_split=2):\n",
    "        self.max_depth = max_depth\n",
    "        self.min_samples_split = min_samples_split\n",
    "        self.root = None\n",
    "        \n",
    "    def _calculate_gini(self, y):\n",
    "        \"\"\"Calculate Gini impurity of a node\"\"\"\n",
    "        proportions = np.bincount(y) / len(y)\n",
    "        gini = 1 - np.sum(proportions ** 2)\n",
    "        return gini\n",
    "    \n",
    "    def _split_data(self, X, y, feature, threshold):\n",
    "        \"\"\"Split the data based on a feature and threshold\"\"\"\n",
    "        left_mask = X[:, feature] <= threshold\n",
    "        right_mask = ~left_mask\n",
    "        return X[left_mask], X[right_mask], y[left_mask], y[right_mask]\n",
    "    \n",
    "    def _best_split(self, X, y):\n",
    "        \"\"\"Find the best split for a node\"\"\"\n",
    "        num_samples, num_features = X.shape\n",
    "        best_gain = -1\n",
    "        best_split = {}\n",
    "        \n",
    "        # Calculate parent gini impurity\n",
    "        parent_gini = self._calculate_gini(y)\n",
    "        \n",
    "        # Try all features\n",
    "        for feature in range(num_features):\n",
    "            thresholds = np.unique(X[:, feature])\n",
    "            \n",
    "            # Try all possible thresholds\n",
    "            for threshold in thresholds:\n",
    "                # Split the data\n",
    "                X_left, X_right, y_left, y_right = self._split_data(X, y, feature, threshold)\n",
    "                \n",
    "                if len(y_left) == 0 or len(y_right) == 0:\n",
    "                    continue\n",
    "                \n",
    "                # Calculate gini impurity for children\n",
    "                gini_left = self._calculate_gini(y_left)\n",
    "                gini_right = self._calculate_gini(y_right)\n",
    "                \n",
    "                # Calculate weighted average gini impurity\n",
    "                n_left, n_right = len(y_left), len(y_right)\n",
    "                gini_split = (n_left * gini_left + n_right * gini_right) / num_samples\n",
    "                \n",
    "                # Calculate information gain\n",
    "                info_gain = parent_gini - gini_split\n",
    "                \n",
    "                # Update best split if this split is better\n",
    "                if info_gain > best_gain:\n",
    "                    best_gain = info_gain\n",
    "                    best_split = {\n",
    "                        'feature': feature,\n",
    "                        'threshold': threshold,\n",
    "                        'X_left': X_left,\n",
    "                        'X_right': X_right,\n",
    "                        'y_left': y_left,\n",
    "                        'y_right': y_right,\n",
    "                        'gain': info_gain\n",
    "                    }\n",
    "                    \n",
    "        return best_split\n",
    "    \n",
    "    def _build_tree(self, X, y, depth=0):\n",
    "        \"\"\"Recursively build the decision tree\"\"\"\n",
    "        num_samples, num_features = X.shape\n",
    "        num_classes = len(np.unique(y))\n",
    "        \n",
    "        # Stopping criteria\n",
    "        if (self.max_depth is not None and depth >= self.max_depth) or \\\n",
    "           num_samples < self.min_samples_split or \\\n",
    "           num_classes == 1:\n",
    "            leaf_value = self._most_common_label(y)\n",
    "            return Node(value=leaf_value)\n",
    "        \n",
    "        # Find the best split\n",
    "        best_split = self._best_split(X, y)\n",
    "        \n",
    "        # If no split improves the score, make a leaf node\n",
    "        if not best_split:\n",
    "            leaf_value = self._most_common_label(y)\n",
    "            return Node(value=leaf_value)\n",
    "            \n",
    "        # Create child nodes\n",
    "        left = self._build_tree(best_split['X_left'], best_split['y_left'], depth + 1)\n",
    "        right = self._build_tree(best_split['X_right'], best_split['y_right'], depth + 1)\n",
    "        \n",
    "        return Node(\n",
    "            feature=best_split['feature'],\n",
    "            threshold=best_split['threshold'],\n",
    "            left=left,\n",
    "            right=right\n",
    "        )\n",
    "    \n",
    "    def _most_common_label(self, y):\n",
    "        \"\"\"Return the most common label in a node\"\"\"\n",
    "        counter = Counter(y)\n",
    "        return counter.most_common(1)[0][0]\n",
    "    \n",
    "    def fit(self, X, y):\n",
    "        self.n_classes = len(np.unique(y))\n",
    "        self.root = self._build_tree(X, y)\n",
    "        return self\n",
    "        \n",
    "    def _traverse_tree(self, x, node):\n",
    "        \"\"\"Traverse the tree to make a prediction for a single sample\"\"\"\n",
    "        if node.value is not None:\n",
    "            return node.value\n",
    "        \n",
    "        if x[node.feature] <= node.threshold:\n",
    "            return self._traverse_tree(x, node.left)\n",
    "        return self._traverse_tree(x, node.right)\n",
    "    \n",
    "    def predict(self, X):\n",
    "        return np.array([self._traverse_tree(x, self.root) for x in X])\n",
    "    \n",
    "    def visualize_tree(self, node=None, depth=0, feature_names=None):\n",
    "        if node is None:\n",
    "            node = self.root\n",
    "            \n",
    "        if node.value is not None:\n",
    "            print('  ' * depth + f'Predict: {node.value}')\n",
    "            return\n",
    "            \n",
    "        feature_name = f'Feature {node.feature}' if feature_names is None else feature_names[node.feature]\n",
    "        print('  ' * depth + f'{feature_name} <= {node.threshold}')\n",
    "        \n",
    "        print('  ' * depth + '--> True:')\n",
    "        self.visualize_tree(node.left, depth + 1, feature_names)\n",
    "        \n",
    "        print('  ' * depth + '--> False:')\n",
    "        self.visualize_tree(node.right, depth + 1, feature_names)"
   ]
  },
  {
   "cell_type": "code",
   "execution_count": 3,
   "metadata": {},
   "outputs": [],
   "source": [
    "# Cell 1: Import libraries and create synthetic data\n",
    "from sklearn.datasets import make_classification\n",
    "from sklearn.model_selection import train_test_split\n",
    "\n",
    "# Generate a random binary classification problem\n",
    "X, y = make_classification(\n",
    "    n_samples=100,\n",
    "    n_features=2,\n",
    "    n_redundant=0,\n",
    "    n_informative=2,\n",
    "    random_state=1,\n",
    "    n_clusters_per_class=1\n",
    ")\n",
    "\n",
    "# Split the data\n",
    "X_train, X_test, y_train, y_test = train_test_split(\n",
    "    X, y, test_size=0.2, random_state=42\n",
    ")"
   ]
  },
  {
   "cell_type": "code",
   "execution_count": 4,
   "metadata": {},
   "outputs": [
    {
     "data": {
      "text/plain": [
       "<__main__.DecisionTreeClassifier at 0x22049203790>"
      ]
     },
     "execution_count": 4,
     "metadata": {},
     "output_type": "execute_result"
    }
   ],
   "source": [
    "# Cell 2: Create and train the Decision Tree\n",
    "# Initialize the classifier\n",
    "dt = DecisionTreeClassifier(max_depth=3, min_samples_split=2)\n",
    "\n",
    "# Fit the classifier\n",
    "dt.fit(X_train, y_train)"
   ]
  },
  {
   "cell_type": "code",
   "execution_count": 5,
   "metadata": {},
   "outputs": [
    {
     "name": "stdout",
     "output_type": "stream",
     "text": [
      "Test accuracy: 1.0000\n"
     ]
    }
   ],
   "source": [
    "# Cell 3: Make predictions and calculate accuracy\n",
    "# Make predictions\n",
    "y_pred = dt.predict(X_test)\n",
    "\n",
    "# Calculate accuracy\n",
    "accuracy = np.mean(y_pred == y_test)\n",
    "print(f\"Test accuracy: {accuracy:.4f}\")"
   ]
  },
  {
   "cell_type": "code",
   "execution_count": 6,
   "metadata": {},
   "outputs": [
    {
     "name": "stdout",
     "output_type": "stream",
     "text": [
      "Decision Tree Structure:\n",
      "Feature 0 <= -0.49385699654064075\n",
      "--> True:\n",
      "  Predict: 1\n",
      "--> False:\n",
      "  Predict: 0\n"
     ]
    }
   ],
   "source": [
    "# Cell 4: Visualize the decision tree structure\n",
    "print(\"Decision Tree Structure:\")\n",
    "feature_names = [f\"Feature {i}\" for i in range(X.shape[1])]\n",
    "dt.visualize_tree(feature_names=feature_names)"
   ]
  },
  {
   "cell_type": "code",
   "execution_count": 7,
   "metadata": {},
   "outputs": [
    {
     "data": {
      "image/png": "[encoded data removed]",
      "text/plain": [
       "<Figure size 800x600 with 1 Axes>"
      ]
     },
     "metadata": {},
     "output_type": "display_data"
    }
   ],
   "source": [
    "# Cell 5: Visualize the decision boundary\n",
    "def plot_decision_boundary(X, y, classifier, title=\"Decision Boundary\"):\n",
    "    h = 0.02  # Step size in the mesh\n",
    "    x_min, x_max = X[:, 0].min() - 1, X[:, 0].max() + 1\n",
    "    y_min, y_max = X[:, 1].min() - 1, X[:, 1].max() + 1\n",
    "    xx, yy = np.meshgrid(np.arange(x_min, x_max, h), np.arange(y_min, y_max, h))\n",
    "\n",
    "    Z = classifier.predict(np.c_[xx.ravel(), yy.ravel()])\n",
    "    Z = Z.reshape(xx.shape)\n",
    "\n",
    "    plt.figure(figsize=(8, 6))\n",
    "    plt.contourf(xx, yy, Z, alpha=0.4)\n",
    "    plt.scatter(X[:, 0], X[:, 1], c=y, alpha=0.8)\n",
    "    plt.title(title)\n",
    "    plt.xlabel(\"Feature 1\")\n",
    "    plt.ylabel(\"Feature 2\")\n",
    "    plt.show()\n",
    "\n",
    "plot_decision_boundary(X, y, dt, \"Decision Tree Decision Boundary\")"
   ]
  },
  {
   "cell_type": "code",
   "execution_count": null,
   "metadata": {},
   "outputs": [],
   "source": []
  }
 ],
 "metadata": {
  "kernelspec": {
   "display_name": ".venv",
   "language": "python",
   "name": "python3"
  },
  "language_info": {
   "codemirror_mode": {
    "name": "ipython",
    "version": 3
   },
   "file_extension": ".py",
   "mimetype": "text/x-python",
   "name": "python",
   "nbconvert_exporter": "python",
   "pygments_lexer": "ipython3",
   "version": "3.10.8"
  }
 },
 "nbformat": 4,
 "nbformat_minor": 2
}
