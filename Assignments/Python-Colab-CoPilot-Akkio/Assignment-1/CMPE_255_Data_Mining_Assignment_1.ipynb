{
  "cells": [
    {
      "cell_type": "markdown",
      "metadata": {
        "id": "nwmKRE809mFE"
      },
      "source": [
        "# **Assignment 1: Python**\n",
        "\n",
        "\n",
        "## The assignment is in two parts:\n",
        "\n",
        "Section 1: Implementation of code from Derek Banas Python Tutorial.\n",
        "\n",
        "Section 2: Implementation of advanced Colab Features from the slides."
      ]
    },
    {
      "cell_type": "markdown",
      "metadata": {
        "id": "pB-8X9Fh97ii"
      },
      "source": [
        "### **Section 1: Implementation of code from Derek Banas Python Tutorial.**"
      ]
    },
    {
      "cell_type": "markdown",
      "source": [
        "Demonstration of simple Hello World program in python"
      ],
      "metadata": {
        "id": "V1SkfwBoxbRG"
      }
    },
    {
      "cell_type": "code",
      "execution_count": 2,
      "metadata": {
        "colab": {
          "base_uri": "https://localhost:8080/",
          "height": 53
        },
        "id": "Zu0w0cp43V8M",
        "outputId": "35f7e34b-78a6-4f1e-9c9f-337028b9c915"
      },
      "outputs": [
        {
          "output_type": "stream",
          "name": "stdout",
          "text": [
            "Hello World\n"
          ]
        },
        {
          "output_type": "execute_result",
          "data": {
            "text/plain": [
              "'\\nThis is a multi-line comment\\n'"
            ],
            "application/vnd.google.colaboratory.intrinsic+json": {
              "type": "string"
            }
          },
          "metadata": {},
          "execution_count": 2
        }
      ],
      "source": [
        "import random\n",
        "import sys\n",
        "import os\n",
        "\n",
        "print(\"Hello World\")\n",
        "\n",
        "'''\n",
        "This is a multi-line comment\n",
        "'''"
      ]
    },
    {
      "cell_type": "markdown",
      "source": [
        "#### **Variables in python**"
      ],
      "metadata": {
        "id": "_XP5W74SyV97"
      }
    },
    {
      "cell_type": "code",
      "execution_count": 3,
      "metadata": {
        "colab": {
          "base_uri": "https://localhost:8080/"
        },
        "id": "rvWKx_kj3n5S",
        "outputId": "ba88ff38-8db8-4c1a-8775-8d302941b059"
      },
      "outputs": [
        {
          "output_type": "stream",
          "name": "stdout",
          "text": [
            "Pruthvik\n"
          ]
        }
      ],
      "source": [
        "name = \"Pruthvik\"\n",
        "print(name)"
      ]
    },
    {
      "cell_type": "markdown",
      "source": [
        "#### **Arithmetic Operations in Python**\n",
        "\n",
        "The arithmetic operators +, -, *, /, %, **, //"
      ],
      "metadata": {
        "id": "svMJHQoJybZY"
      }
    },
    {
      "cell_type": "code",
      "execution_count": 4,
      "metadata": {
        "colab": {
          "base_uri": "https://localhost:8080/"
        },
        "id": "rUVc4Zre3qmq",
        "outputId": "00de2d4c-31ba-46ea-e744-056b38f951e1"
      },
      "outputs": [
        {
          "output_type": "stream",
          "name": "stdout",
          "text": [
            "5 + 2 = 7\n",
            "5 - 2 = 3\n",
            "5 * 2 = 10\n",
            "5 / 2 = 2.5\n",
            "5 % 2 = 1\n",
            "5 ** 2 = 25\n",
            "5 // 2 = 2\n"
          ]
        }
      ],
      "source": [
        "print(\"5 + 2 =\", 5+2)\n",
        "print(\"5 - 2 =\", 5-2)\n",
        "print(\"5 * 2 =\", 5*2)\n",
        "print(\"5 / 2 =\", 5/2)\n",
        "print(\"5 % 2 =\", 5%2)\n",
        "print(\"5 ** 2 =\", 5**2)\n",
        "print(\"5 // 2 =\", 5//2)"
      ]
    },
    {
      "cell_type": "markdown",
      "source": [
        "#### **Order of operation states**\n"
      ],
      "metadata": {
        "id": "oLwgImNo0Zeu"
      }
    },
    {
      "cell_type": "code",
      "execution_count": 5,
      "metadata": {
        "colab": {
          "base_uri": "https://localhost:8080/"
        },
        "id": "cqzCHjP-3to6",
        "outputId": "f099950e-48ed-4c60-f9df-500f00a6a97a"
      },
      "outputs": [
        {
          "output_type": "stream",
          "name": "stdout",
          "text": [
            "1 + 2 - 3 * 2 = -3\n",
            "(1 + 2 - 3) * 2 = 0\n"
          ]
        }
      ],
      "source": [
        "print(\"1 + 2 - 3 * 2 =\", 1 + 2 - 3 * 2)\n",
        "print(\"(1 + 2 - 3) * 2 =\", (1 + 2 - 3) * 2)"
      ]
    },
    {
      "cell_type": "markdown",
      "source": [
        "#### **Printing strings**"
      ],
      "metadata": {
        "id": "u11A0NvE157B"
      }
    },
    {
      "cell_type": "code",
      "execution_count": 6,
      "metadata": {
        "colab": {
          "base_uri": "https://localhost:8080/"
        },
        "id": "9hlyH8Ua3wxR",
        "outputId": "bd5b434f-4384-4bb3-f856-e8052684e026"
      },
      "outputs": [
        {
          "output_type": "stream",
          "name": "stdout",
          "text": [
            "\"Always remember your unique, just\n",
            "like everyone else\" \n",
            "I like the quote \"Always remember your unique,  just\n",
            "like everyone else\" \n",
            "I don't like newlines\n",
            "\n",
            "\n",
            "\n",
            "\n",
            "\n",
            "\n"
          ]
        }
      ],
      "source": [
        "quote = \"\\\"Always remember your unique,\"\n",
        "# A multi-line quote\n",
        "multi_line_quote = ''' just\n",
        "like everyone else\" '''\n",
        "\n",
        "print(quote + multi_line_quote)\n",
        "\n",
        "# To embed a string in output use %s\n",
        "print(\"%s %s %s\" % ('I like the quote', quote, multi_line_quote))\n",
        "\n",
        "# To keep from printing newlines use end=\"\"\n",
        "print(\"I don't like \", end=\"\")\n",
        "print(\"newlines\")\n",
        "\n",
        "# You can print a string multiple times with *\n",
        "print('\\n' * 5)"
      ]
    },
    {
      "cell_type": "markdown",
      "source": [
        "#### **Lists and its operations**"
      ],
      "metadata": {
        "id": "pgw2i9TR4H8h"
      }
    },
    {
      "cell_type": "code",
      "execution_count": 7,
      "metadata": {
        "colab": {
          "base_uri": "https://localhost:8080/"
        },
        "id": "nMdXrNER4C1j",
        "outputId": "1fbe3636-daa9-4f46-beed-7e671f1f8ff1"
      },
      "outputs": [
        {
          "output_type": "stream",
          "name": "stdout",
          "text": [
            "The first item is Tomatoes\n",
            "['Green Juice', 'Tomatoes', 'Potatoes', 'Bananas']\n",
            "['Tomatoes', 'Potatoes']\n",
            "[['Wash Car', 'Pick up Kids', 'Cash Check'], ['Green Juice', 'Tomatoes', 'Potatoes', 'Bananas']]\n",
            "Tomatoes\n",
            "[['Wash Car', 'Pick up Kids', 'Cash Check'], ['Green Juice', 'Tomatoes', 'Potatoes', 'Bananas', 'onions']]\n",
            "[['Wash Car', 'Pick up Kids', 'Cash Check'], ['onions', 'Tomatoes', 'Potatoes', 'Green Juice']]\n",
            "['Wash Car', 'Pick up Kids', 'Cash Check', 'onions', 'Tomatoes', 'Potatoes', 'Green Juice']\n",
            "7\n",
            "onions\n",
            "Cash Check\n"
          ]
        }
      ],
      "source": [
        "grocery_list = ['Juice', 'Tomatoes', 'Potatoes', 'Bananas']\n",
        "print('The first item is', grocery_list[1])\n",
        "\n",
        "# You can change the value stored in a list box\n",
        "grocery_list[0] = \"Green Juice\"\n",
        "print(grocery_list)\n",
        "\n",
        "# You can get a subset of the list with [min:up to but not including max]\n",
        "\n",
        "print(grocery_list[1:3])\n",
        "\n",
        "# You can put any data type in a a list including a list\n",
        "other_events = ['Wash Car', 'Pick up Kids', 'Cash Check']\n",
        "to_do_list = [other_events, grocery_list]\n",
        "\n",
        "print(to_do_list)\n",
        "\n",
        "# Get the second item in the second list (Boxes inside of boxes)\n",
        "print(to_do_list[1][1])\n",
        "\n",
        "# You add values using append\n",
        "grocery_list.append('onions')\n",
        "print(to_do_list)\n",
        "grocery_list.insert(1, \"Pickle\")\n",
        "# Remove item from list\n",
        "grocery_list.remove(\"Pickle\")\n",
        "\n",
        "# Sorts items in list\n",
        "grocery_list.sort()\n",
        "\n",
        "# Reverse sort items in list\n",
        "grocery_list.reverse()\n",
        "\n",
        "# del deletes an item at specified index\n",
        "del grocery_list[4]\n",
        "print(to_do_list)\n",
        "\n",
        "# We can combine lists with a +\n",
        "to_do_list = other_events + grocery_list\n",
        "print(to_do_list)\n",
        "\n",
        "# Get length of list\n",
        "print(len(to_do_list))\n",
        "\n",
        "# Get the max item in list\n",
        "print(max(to_do_list))\n",
        "\n",
        "# Get the minimum item in list\n",
        "print(min(to_do_list))"
      ]
    },
    {
      "cell_type": "markdown",
      "source": [
        "#### **Tuples, Dictionary and its operations**"
      ],
      "metadata": {
        "id": "fqJJdlK545dY"
      }
    },
    {
      "cell_type": "code",
      "execution_count": 8,
      "metadata": {
        "colab": {
          "base_uri": "https://localhost:8080/"
        },
        "id": "4o2whaLa4Lyq",
        "outputId": "857d4cdd-d015-49f4-d57c-b6abe1c6006b"
      },
      "outputs": [
        {
          "output_type": "stream",
          "name": "stdout",
          "text": [
            "Leonard Snart\n",
            "{'Captain Cold': 'Leonard Snart', 'Weather Wizard': 'Mark Mardon', 'Mirror Master': 'Sam Scudder', 'Pied Piper': 'Thomas Peterson'}\n",
            "4\n",
            "Hartley Rathaway\n",
            "dict_keys(['Captain Cold', 'Weather Wizard', 'Mirror Master', 'Pied Piper'])\n",
            "dict_values(['Leonard Snart', 'Mark Mardon', 'Sam Scudder', 'Hartley Rathaway'])\n"
          ]
        }
      ],
      "source": [
        "pi_tuple = (3, 1, 4, 1, 5, 9)\n",
        "new_tuple = list(pi_tuple)\n",
        "\n",
        "super_villains = {'Fiddler' : 'Isaac Bowin',\n",
        "                  'Captain Cold' : 'Leonard Snart',\n",
        "                  'Weather Wizard' : 'Mark Mardon',\n",
        "                  'Mirror Master' : 'Sam Scudder',\n",
        "                  'Pied Piper' : 'Thomas Peterson'}\n",
        "\n",
        "print(super_villains['Captain Cold'])\n",
        "\n",
        "# Delete an entry\n",
        "del super_villains['Fiddler']\n",
        "print(super_villains)\n",
        "\n",
        "# Replace a value\n",
        "super_villains['Pied Piper'] = 'Hartley Rathaway'\n",
        "\n",
        "# Print the number of items in the dictionary\n",
        "print(len(super_villains))\n",
        "\n",
        "# Get the value for the passed key\n",
        "print(super_villains.get(\"Pied Piper\"))\n",
        "print(super_villains.keys())\n",
        "\n",
        "# Get a list of dictionary values\n",
        "print(super_villains.values())"
      ]
    },
    {
      "cell_type": "markdown",
      "source": [
        "#### **Conditionals statements in python**"
      ],
      "metadata": {
        "id": "UXis5eEN5ICw"
      }
    },
    {
      "cell_type": "code",
      "execution_count": 9,
      "metadata": {
        "colab": {
          "base_uri": "https://localhost:8080/"
        },
        "id": "AcvwOTZQ4Xhr",
        "outputId": "41a25dea-e325-4014-922e-bce3dcc9b94a"
      },
      "outputs": [
        {
          "output_type": "stream",
          "name": "stdout",
          "text": [
            "You are old enough to drive\n",
            "You are old enough to drive\n",
            "You are old enough to drive a tractor trailer\n",
            "You get a birthday party yeah\n"
          ]
        }
      ],
      "source": [
        "age = 30\n",
        "if age > 16 :\n",
        "    print('You are old enough to drive')\n",
        "\n",
        "# Use an if statement if you want to execute different code regardless\n",
        "# of whether the condition ws met or not\n",
        "\n",
        "if age > 16 :\n",
        "    print('You are old enough to drive')\n",
        "else :\n",
        "    print('You are not old enough to drive')\n",
        "\n",
        "# If you want to check for multiple conditions use elif\n",
        "# If the first matches it won't check other conditions that follow\n",
        "\n",
        "if age >= 21 :\n",
        "    print('You are old enough to drive a tractor trailer')\n",
        "elif age >= 16:\n",
        "    print('You are old enough to drive a car')\n",
        "else :\n",
        "    print('You are not old enough to drive')\n",
        "\n",
        "# You can combine conditions with logical operators\n",
        "# Logical Operators : and, or, not\n",
        "\n",
        "if ((age >= 1) and (age <= 18)):\n",
        "    print(\"You get a birthday party\")\n",
        "elif (age == 21) or (age >= 65):\n",
        "    print(\"You get a birthday party\")\n",
        "elif not(age == 30):\n",
        "    print(\"You don't get a birthday party\")\n",
        "else:\n",
        "    print(\"You get a birthday party yeah\")"
      ]
    },
    {
      "cell_type": "markdown",
      "source": [
        "#### **Loops in Python**"
      ],
      "metadata": {
        "id": "8CQjTlnw5cMZ"
      }
    },
    {
      "cell_type": "code",
      "execution_count": 10,
      "metadata": {
        "colab": {
          "base_uri": "https://localhost:8080/"
        },
        "id": "PdIuMruq4eqK",
        "outputId": "906149dc-402e-4c91-ba21-2e6a2010f01a"
      },
      "outputs": [
        {
          "output_type": "stream",
          "name": "stdout",
          "text": [
            "0  1  2  3  4  5  6  7  8  9  \n",
            "\n",
            "Juice\n",
            "Tomatoes\n",
            "Potatoes\n",
            "Bananas\n",
            "2\n",
            "4\n",
            "6\n",
            "8\n",
            "10\n",
            "1\n",
            "2\n",
            "3\n",
            "10\n",
            "20\n",
            "30\n",
            "100\n",
            "200\n",
            "300\n",
            "99\n",
            "87\n",
            "4\n",
            "16\n",
            "81\n",
            "82\n",
            "97\n",
            "25\n",
            "13\n",
            "45\n",
            "90\n",
            "12\n",
            "83\n",
            "47\n",
            "84\n",
            "23\n",
            "28\n",
            "54\n",
            "51\n",
            "7\n",
            "28\n",
            "59\n",
            "96\n",
            "90\n",
            "9\n",
            "19\n",
            "12\n",
            "49\n",
            "94\n",
            "76\n",
            "25\n",
            "49\n",
            "65\n",
            "72\n",
            "20\n",
            "50\n",
            "22\n",
            "56\n",
            "24\n",
            "28\n",
            "76\n",
            "22\n",
            "0\n",
            "92\n",
            "85\n",
            "63\n",
            "65\n",
            "62\n",
            "47\n",
            "8\n",
            "0\n",
            "2\n",
            "4\n",
            "6\n",
            "8\n"
          ]
        }
      ],
      "source": [
        "for x in range(0, 10):\n",
        "    print(x , ' ', end=\"\")\n",
        "\n",
        "print('\\n')\n",
        "\n",
        "# You can use for loops to cycle through a list\n",
        "grocery_list = ['Juice', 'Tomatoes', 'Potatoes', 'Bananas']\n",
        "\n",
        "for y in grocery_list:\n",
        "    print(y)\n",
        "\n",
        "# You can also define a list of numbers to cycle through\n",
        "for x in [2,4,6,8,10]:\n",
        "    print(x)\n",
        "\n",
        "# You can double up for loops to cycle through lists\n",
        "num_list =[[1,2,3],[10,20,30],[100,200,300]];\n",
        "\n",
        "for x in range(0,3):\n",
        "    for y in range(0,3):\n",
        "        print(num_list[x][y])\n",
        "\n",
        "#While Loops\n",
        "random_num = random.randrange(0,100)\n",
        "\n",
        "while (random_num != 15):\n",
        "    print(random_num)\n",
        "    random_num = random.randrange(0,100)\n",
        "\n",
        "# An iterator for a while loop is defined before the loop\n",
        "i = 0;\n",
        "while (i <= 20):\n",
        "    if(i%2 == 0):\n",
        "        print(i)\n",
        "    elif(i == 9):\n",
        "        # Forces the loop to end all together\n",
        "        break\n",
        "    else:\n",
        "        # Shorthand for i = i + 1\n",
        "        i += 1\n",
        "        # Skips to the next iteration of the loop\n",
        "        continue\n",
        "\n",
        "    i += 1"
      ]
    },
    {
      "cell_type": "markdown",
      "source": [
        "#### **Functions and Scoping in Python**"
      ],
      "metadata": {
        "id": "3Tv7Hpit5tSj"
      }
    },
    {
      "cell_type": "code",
      "execution_count": 11,
      "metadata": {
        "colab": {
          "base_uri": "https://localhost:8080/"
        },
        "id": "BvsZ68Xp4h6K",
        "outputId": "735b70be-205d-4215-d00e-ed2dbcb0cf5e"
      },
      "outputs": [
        {
          "output_type": "stream",
          "name": "stdout",
          "text": [
            "5\n",
            "-3\n",
            "What is your name?\n",
            "Hello \n"
          ]
        }
      ],
      "source": [
        "def addNumbers(fNum, sNum):\n",
        "    sumNum = fNum + sNum\n",
        "    return sumNum\n",
        "\n",
        "print(addNumbers(1, 4))\n",
        "\n",
        "# Can't get the value of rNum because it was created in a function\n",
        "# It is said to be out of scope\n",
        "# print(sumNum)\n",
        "\n",
        "# If you define a variable outside of the function it works every place\n",
        "newNum = 0;\n",
        "def subNumbers(fNum, sNum):\n",
        "    newNum = fNum - sNum\n",
        "    return newNum\n",
        "\n",
        "print(subNumbers(1, 4))\n",
        "\n",
        "# USER INPUT -------------\n",
        "print('What is your name?')\n",
        "\n",
        "# Stores everything typed up until ENTER\n",
        "name = sys.stdin.readline()\n",
        "\n",
        "print('Hello', name)"
      ]
    },
    {
      "cell_type": "markdown",
      "source": [
        "#### **Operations on strings**"
      ],
      "metadata": {
        "id": "UWT42gxx6FH2"
      }
    },
    {
      "cell_type": "code",
      "execution_count": 12,
      "metadata": {
        "colab": {
          "base_uri": "https://localhost:8080/"
        },
        "id": "uPasq7Np4k9b",
        "outputId": "f6f96462-c92a-4601-d601-6310e032f4d9"
      },
      "outputs": [
        {
          "output_type": "stream",
          "name": "stdout",
          "text": [
            "I'll\n",
            "Floor\n",
            "I'll catch you if you fall - The \n",
            "I'll be there\n",
            "X is my favorite letter and my number 1 number is 0.14000\n",
            "I'll catch you if you fall - the floor\n",
            "33\n",
            "False\n",
            "False\n",
            "38\n",
            "I'll catch you if you fall - The Ground\n",
            "I'll catch you if you fall - The Floor\n",
            "[\"I'll\", 'catch', 'you', 'if', 'you', 'fall', '-', 'The', 'Floor']\n"
          ]
        }
      ],
      "source": [
        "long_string = \"I'll catch you if you fall - The Floor\"\n",
        "\n",
        "# Retrieve the first 4 characters\n",
        "print(long_string[0:4])\n",
        "\n",
        "# Get the last 5 characters\n",
        "print(long_string[-5:])\n",
        "\n",
        "# Everything up to the last 5 characters\n",
        "print(long_string[:-5])\n",
        "\n",
        "# Concatenate part of a string to another\n",
        "print(long_string[:4] + \" be there\")\n",
        "\n",
        "# String formatting\n",
        "print(\"%c is my %s letter and my number %d number is %.5f\" % ('X', 'favorite', 1, .14))\n",
        "\n",
        "# Capitalizes the first letter\n",
        "print(long_string.capitalize())\n",
        "\n",
        "# Returns the index of the start of the string\n",
        "# case sensitive\n",
        "print(long_string.find(\"Floor\"))\n",
        "\n",
        "# Returns true if all characters are letters ' isn't a letter\n",
        "print(long_string.isalpha())\n",
        "\n",
        "# Returns true if all characters are numbers\n",
        "print(long_string.isalnum())\n",
        "\n",
        "# Returns the string length\n",
        "print(len(long_string))\n",
        "\n",
        "# Replace the first word with the second (Add a number to replace more)\n",
        "print(long_string.replace(\"Floor\", \"Ground\"))\n",
        "\n",
        "# Remove white space from front and end\n",
        "print(long_string.strip())\n",
        "\n",
        "# Split a string into a list based on the delimiter you provide\n",
        "quote_list = long_string.split(\" \")\n",
        "print(quote_list)"
      ]
    },
    {
      "cell_type": "markdown",
      "source": [
        "#### **Handling files in Python**"
      ],
      "metadata": {
        "id": "vztowHVT6P7X"
      }
    },
    {
      "cell_type": "code",
      "execution_count": 13,
      "metadata": {
        "colab": {
          "base_uri": "https://localhost:8080/"
        },
        "id": "fRmTUv4R4nez",
        "outputId": "f6bc89f6-ecd2-4b02-bff8-c85c8f3f50d4"
      },
      "outputs": [
        {
          "output_type": "stream",
          "name": "stdout",
          "text": [
            "wb\n",
            "test.txt\n",
            "Write me to the file\n",
            "\n"
          ]
        }
      ],
      "source": [
        "# Overwrite or create a file for writing\n",
        "test_file = open(\"test.txt\", \"wb\")\n",
        "\n",
        "# Get the file mode used\n",
        "print(test_file.mode)\n",
        "\n",
        "# Get the files name\n",
        "print(test_file.name)\n",
        "\n",
        "# Write text to a file with a newline\n",
        "test_file.write(bytes(\"Write me to the file\\n\", 'UTF-8'))\n",
        "\n",
        "# Close the file\n",
        "test_file.close()\n",
        "\n",
        "# Opens a file for reading and writing\n",
        "test_file = open(\"test.txt\", \"r+\")\n",
        "\n",
        "# Read text from the file\n",
        "text_in_file = test_file.read()\n",
        "\n",
        "print(text_in_file)\n",
        "\n",
        "# Delete the file\n",
        "os.remove(\"test.txt\")"
      ]
    },
    {
      "cell_type": "markdown",
      "source": [
        "#### **Classes in Python**"
      ],
      "metadata": {
        "id": "EkCUbG3M6acT"
      }
    },
    {
      "cell_type": "code",
      "execution_count": 14,
      "metadata": {
        "colab": {
          "base_uri": "https://localhost:8080/"
        },
        "id": "kUl2XT_y4rF6",
        "outputId": "344f11fa-2789-4d1a-e58d-7f0e61c85417"
      },
      "outputs": [
        {
          "output_type": "stream",
          "name": "stdout",
          "text": [
            "Whiskers is 33 cm tall and 10 kilograms and says Meow\n"
          ]
        }
      ],
      "source": [
        "class Animal:\n",
        "    # None signifies the lack of a value\n",
        "    # You can make a variable private by starting it with __\n",
        "    __name = None\n",
        "    __height = None\n",
        "    __weight = None\n",
        "    __sound = None\n",
        "\n",
        "    # The constructor is called to set up or initialize an object\n",
        "    # self allows an object to refer to itself inside of the class\n",
        "    def __init__(self, name, height, weight, sound):\n",
        "        self.__name = name\n",
        "        self.__height = height\n",
        "        self.__weight = weight\n",
        "        self.__sound = sound\n",
        "\n",
        "    def set_name(self, name):\n",
        "        self.__name = name\n",
        "\n",
        "    def set_height(self, height):\n",
        "        self.__height = height\n",
        "\n",
        "    def set_weight(self, height):\n",
        "        self.__height = height\n",
        "\n",
        "    def set_sound(self, sound):\n",
        "        self.__sound = sound\n",
        "\n",
        "    def get_name(self):\n",
        "        return self.__name\n",
        "\n",
        "    def get_height(self):\n",
        "        return str(self.__height)\n",
        "\n",
        "    def get_weight(self):\n",
        "        return str(self.__weight)\n",
        "\n",
        "    def get_sound(self):\n",
        "        return self.__sound\n",
        "\n",
        "    def get_type(self):\n",
        "        print(\"Animal\")\n",
        "\n",
        "    def toString(self):\n",
        "        return \"{} is {} cm tall and {} kilograms and says {}\".format(self.__name, self.__height, self.__weight, self.__sound)\n",
        "\n",
        "# How to create a Animal object\n",
        "cat = Animal('Whiskers', 33, 10, 'Meow')\n",
        "\n",
        "print(cat.toString())\n",
        "\n",
        "# You can't access this value directly because it is private\n",
        "#print(cat.__name)\n",
        "\n"
      ]
    },
    {
      "cell_type": "markdown",
      "source": [
        "Demonstrating Inheritance"
      ],
      "metadata": {
        "id": "8t9eKFof6wEs"
      }
    },
    {
      "cell_type": "code",
      "execution_count": 15,
      "metadata": {
        "colab": {
          "base_uri": "https://localhost:8080/"
        },
        "id": "l_Wf_NIt4wLc",
        "outputId": "7264ed6f-1f3b-49fc-ca81-c188976abd1e"
      },
      "outputs": [
        {
          "output_type": "stream",
          "name": "stdout",
          "text": [
            "Spot is 53 cm tall and 27 kilograms and says Ruff. His owner is Derek\n"
          ]
        }
      ],
      "source": [
        "class Dog(Animal):\n",
        "    __owner = None\n",
        "\n",
        "    def __init__(self, name, height, weight, sound, owner):\n",
        "        self.__owner = owner\n",
        "        self.__animal_type = None\n",
        "\n",
        "        # How to call the super class constructor\n",
        "        super(Dog, self).__init__(name, height, weight, sound)\n",
        "\n",
        "    def set_owner(self, owner):\n",
        "        self.__owner = owner\n",
        "\n",
        "    def get_owner(self):\n",
        "        return self.__owner\n",
        "\n",
        "    def get_type(self):\n",
        "        print (\"Dog\")\n",
        "\n",
        "    # We can overwrite functions in the super class\n",
        "    def toString(self):\n",
        "        return \"{} is {} cm tall and {} kilograms and says {}. His owner is {}\".format(self.get_name(), self.get_height(), self.get_weight(), self.get_sound(), self.__owner)\n",
        "\n",
        "    # You don't have to require attributes to be sent\n",
        "    # This allows for method overloading\n",
        "    def multiple_sounds(self, how_many=None):\n",
        "        if how_many is None:\n",
        "            print(self.get_sound)\n",
        "        else:\n",
        "            print(self.get_sound() * how_many)\n",
        "\n",
        "spot = Dog(\"Spot\", 53, 27, \"Ruff\", \"Derek\")\n",
        "\n",
        "print(spot.toString())"
      ]
    },
    {
      "cell_type": "markdown",
      "source": [
        "Demonstrating Polymorphism"
      ],
      "metadata": {
        "id": "nPQoSDnk7CVE"
      }
    },
    {
      "cell_type": "code",
      "execution_count": 16,
      "metadata": {
        "colab": {
          "base_uri": "https://localhost:8080/"
        },
        "id": "NOXoeaBC4yyy",
        "outputId": "67d9e55a-d618-4a1e-eef9-100f9f53d834"
      },
      "outputs": [
        {
          "output_type": "stream",
          "name": "stdout",
          "text": [
            "Animal\n",
            "Dog\n",
            "RuffRuffRuffRuff\n"
          ]
        }
      ],
      "source": [
        "class AnimalTesting:\n",
        "    def get_type(self, animal):\n",
        "        animal.get_type()\n",
        "\n",
        "test_animals = AnimalTesting()\n",
        "\n",
        "test_animals.get_type(cat)\n",
        "test_animals.get_type(spot)\n",
        "\n",
        "spot.multiple_sounds(4)"
      ]
    },
    {
      "cell_type": "markdown",
      "metadata": {
        "id": "K4ahIUUN-CFa"
      },
      "source": [
        "## **Section 2: Implementation of advanced Colab Features from the slides.**"
      ]
    },
    {
      "cell_type": "markdown",
      "source": [
        "#### **Running HTML code in the cell**"
      ],
      "metadata": {
        "id": "f3mpWNQy7S22"
      }
    },
    {
      "cell_type": "code",
      "execution_count": 17,
      "metadata": {
        "colab": {
          "base_uri": "https://localhost:8080/",
          "height": 74
        },
        "id": "w8k3wmZ35v6a",
        "outputId": "a3673ec8-2874-4d49-b50c-3ab1103d76c5"
      },
      "outputs": [
        {
          "output_type": "display_data",
          "data": {
            "text/plain": [
              "<IPython.core.display.HTML object>"
            ],
            "text/html": [
              "<h1>Heading 1</h1>\n"
            ]
          },
          "metadata": {}
        }
      ],
      "source": [
        "%%html\n",
        "<h1>Heading 1</h1>"
      ]
    },
    {
      "cell_type": "markdown",
      "source": [
        "#### **Running cli commands in the cell**"
      ],
      "metadata": {
        "id": "tAz1_Uap7bnF"
      }
    },
    {
      "cell_type": "code",
      "execution_count": 18,
      "metadata": {
        "id": "bHtQ4_sh504i"
      },
      "outputs": [],
      "source": [
        "%load_ext rpy2.ipython"
      ]
    },
    {
      "cell_type": "code",
      "execution_count": 19,
      "metadata": {
        "colab": {
          "base_uri": "https://localhost:8080/"
        },
        "id": "uBr4CQTc53EE",
        "outputId": "b047b11a-2a64-4b24-ff5b-829c36e95c90"
      },
      "outputs": [
        {
          "output_type": "stream",
          "name": "stdout",
          "text": [
            "[1] 42\n"
          ]
        }
      ],
      "source": [
        "%%R\n",
        "x <- 42\n",
        "print(x)"
      ]
    },
    {
      "cell_type": "markdown",
      "metadata": {
        "id": "cQwEk30N6MW8"
      },
      "source": [
        "#### **Drawing in Jupyter Notebooks**\n"
      ]
    },
    {
      "cell_type": "code",
      "execution_count": 20,
      "metadata": {
        "id": "qmcuf-MW6BPL"
      },
      "outputs": [],
      "source": [
        "import re\n",
        "from IPython.display import HTML\n",
        "from IPython.core.magic import register_cell_magic"
      ]
    },
    {
      "cell_type": "code",
      "execution_count": 21,
      "metadata": {
        "id": "fdwhM2eP6CgD"
      },
      "outputs": [],
      "source": [
        "def var_sub(m):\n",
        "  v = globals()[m[1]]\n",
        "  if type(v) != str:\n",
        "    v = repr(v)\n",
        "  return v"
      ]
    },
    {
      "cell_type": "code",
      "execution_count": 22,
      "metadata": {
        "id": "nDANVRbB6EgS"
      },
      "outputs": [],
      "source": [
        "@register_cell_magic\n",
        "def javascript(line=\"\", cell=\"\"):\n",
        "  # var sub\n",
        "  cell = re.sub(r'\\{\\{(\\w+)+}}', var_sub, cell)\n",
        "\n",
        "  m = re.match(r'\\w+', line)\n",
        "  if m:                       # assign to a variable\n",
        "    globals()[m[0]] = cell\n",
        "  else:                       # normal display\n",
        "    display(HTML(\"\"\"\n",
        "<div id=\"drawing\"></div>\n",
        "<script src=\"https://cdnjs.cloudflare.com/ajax/libs/svg.js/2.6.5/svg.js\"></script>\n",
        "<script>\n",
        "var draw = SVG('drawing').size('100%', 100)\n",
        "var y_cursor_pos = 0\n",
        "function print(x){\n",
        "  draw.text(x.toString()).move(400, y_cursor_pos)\n",
        "  y_cursor_pos += 20\n",
        "}\n",
        "\n",
        "text = s=> draw.text(s).font('anchor', 'middle')\n",
        "line = (x1,y1, x2,y2)=> draw.line(x1,y1, x2, y2).stroke({width: 1})\n",
        "max = Math.max\n",
        "\"\"\" + cell))"
      ]
    },
    {
      "cell_type": "code",
      "execution_count": 23,
      "metadata": {
        "colab": {
          "base_uri": "https://localhost:8080/",
          "height": 121
        },
        "id": "EcZ7u1Qj6F7C",
        "outputId": "2e508111-7e5b-46fb-cb70-43888206ee0e"
      },
      "outputs": [
        {
          "output_type": "display_data",
          "data": {
            "text/plain": [
              "<IPython.core.display.HTML object>"
            ],
            "text/html": [
              "\n",
              "<div id=\"drawing\"></div>\n",
              "<script src=\"https://cdnjs.cloudflare.com/ajax/libs/svg.js/2.6.5/svg.js\"></script>\n",
              "<script>\n",
              "var draw = SVG('drawing').size('100%', 100)\n",
              "var y_cursor_pos = 0\n",
              "function print(x){\n",
              "  draw.text(x.toString()).move(400, y_cursor_pos)\n",
              "  y_cursor_pos += 20\n",
              "}\n",
              "\n",
              "text = s=> draw.text(s).font('anchor', 'middle')\n",
              "line = (x1,y1, x2,y2)=> draw.line(x1,y1, x2, y2).stroke({width: 1})\n",
              "max = Math.max\n",
              "\n",
              "draw.rect(100, 100)\n"
            ]
          },
          "metadata": {}
        }
      ],
      "source": [
        "%%javascript\n",
        "\n",
        "draw.rect(100, 100)"
      ]
    },
    {
      "cell_type": "markdown",
      "metadata": {
        "id": "hkzrmH8S6SOc"
      },
      "source": [
        "# **Elasticsearch magic**"
      ]
    },
    {
      "cell_type": "code",
      "execution_count": 24,
      "metadata": {
        "id": "jjRMoB-B6R6s"
      },
      "outputs": [],
      "source": [
        "# install\n",
        "!wget https://artifacts.elastic.co/downloads/elasticsearch/elasticsearch-7.0.0-linux-x86_64.tar.gz -q\n",
        "!tar -xzf elasticsearch-7.0.0-linux-x86_64.tar.gz\n",
        "!chown -R daemon:daemon elasticsearch-7.0.0"
      ]
    },
    {
      "cell_type": "code",
      "execution_count": 25,
      "metadata": {
        "id": "oH8cw4RT6VDE"
      },
      "outputs": [],
      "source": [
        "# start server\n",
        "import os\n",
        "from subprocess import Popen, PIPE, STDOUT\n",
        "es_server = Popen(['elasticsearch-7.0.0/bin/elasticsearch'],\n",
        "                  stdout=PIPE, stderr=STDOUT,\n",
        "                  preexec_fn=lambda: os.setuid(1)  # as daemon\n",
        "                 )"
      ]
    },
    {
      "cell_type": "code",
      "execution_count": 28,
      "metadata": {
        "colab": {
          "base_uri": "https://localhost:8080/"
        },
        "id": "86BFNU1M6WRy",
        "outputId": "f836556b-4c60-443f-92a9-da2f79f2fa2c"
      },
      "outputs": [
        {
          "output_type": "stream",
          "name": "stdout",
          "text": [
            "{\n",
            "  \"name\" : \"47bc849bf1e6\",\n",
            "  \"cluster_name\" : \"elasticsearch\",\n",
            "  \"cluster_uuid\" : \"ZV0-ARTHTbaq58TJVfDjEQ\",\n",
            "  \"version\" : {\n",
            "    \"number\" : \"7.0.0\",\n",
            "    \"build_flavor\" : \"default\",\n",
            "    \"build_type\" : \"tar\",\n",
            "    \"build_hash\" : \"b7e28a7\",\n",
            "    \"build_date\" : \"2019-04-05T22:55:32.697037Z\",\n",
            "    \"build_snapshot\" : false,\n",
            "    \"lucene_version\" : \"8.0.0\",\n",
            "    \"minimum_wire_compatibility_version\" : \"6.7.0\",\n",
            "    \"minimum_index_compatibility_version\" : \"6.0.0-beta1\"\n",
            "  },\n",
            "  \"tagline\" : \"You Know, for Search\"\n",
            "}\n"
          ]
        }
      ],
      "source": [
        "# wait a bit then test\n",
        "!curl -X GET \"localhost:9200/\""
      ]
    },
    {
      "cell_type": "code",
      "execution_count": 29,
      "metadata": {
        "id": "GwM8Lp2S7QiD"
      },
      "outputs": [],
      "source": [
        "from requests import models, Session, Request\n",
        "from urllib.parse import urljoin\n",
        "from IPython.core.magic import register_cell_magic\n",
        "import re\n",
        "\n",
        "# to display json response\n",
        "def render(r):\n",
        "  text = r.text\n",
        "  if text[0] in \"[{\":  # really json\n",
        "    return \"\"\"\n",
        "    <script src=\"https://rawgit.com/caldwell/renderjson/master/renderjson.js\"></script>\n",
        "    <script>\n",
        "    renderjson.set_show_to_level(1)\n",
        "    document.body.appendChild(renderjson(%s))\n",
        "    new ResizeObserver(google.colab.output.resizeIframeToContent).observe(document.body)\n",
        "    </script>\n",
        "    \"\"\" % text\n",
        "  else:    # other status text\n",
        "    return \"<pre>%s</pre>\" % text\n",
        "models.Response._repr_html_ = render"
      ]
    },
    {
      "cell_type": "code",
      "execution_count": 30,
      "metadata": {
        "id": "BqyZIhOQ7UKq"
      },
      "outputs": [],
      "source": [
        "# %%es magic\n",
        "@register_cell_magic\n",
        "def es(line=None, cell=\"\"):\n",
        "  cell = re.sub(r'(?m)^\\s*#.*\\n?','', cell) # remove comment\n",
        "  line1 = (cell + '\\n').find('\\n')\n",
        "  method, path = cell[:line1].split(None, 1)\n",
        "  body = cell[line1:].strip()\n",
        "  args = {}\n",
        "  if body:\n",
        "    args['data'] = (body + '\\n').encode()  # in case _bulk\n",
        "    args['headers'] = {'Content-Type': 'application/json'}\n",
        "\n",
        "  rsp = Session().send(\n",
        "          Request(method, urljoin('http://localhost:9200', path), **args)\n",
        "            .prepare())\n",
        "  return rsp"
      ]
    },
    {
      "cell_type": "code",
      "execution_count": 31,
      "metadata": {
        "colab": {
          "base_uri": "https://localhost:8080/",
          "height": 139
        },
        "id": "1Nu_cSIC7VcC",
        "outputId": "b827e721-1f34-4526-c373-55e8750eaf83"
      },
      "outputs": [
        {
          "output_type": "execute_result",
          "data": {
            "text/plain": [
              "<Response [200]>"
            ],
            "text/html": [
              "\n",
              "    <script src=\"https://rawgit.com/caldwell/renderjson/master/renderjson.js\"></script>\n",
              "    <script>\n",
              "    renderjson.set_show_to_level(1)\n",
              "    document.body.appendChild(renderjson({\n",
              "  \"name\" : \"47bc849bf1e6\",\n",
              "  \"cluster_name\" : \"elasticsearch\",\n",
              "  \"cluster_uuid\" : \"ZV0-ARTHTbaq58TJVfDjEQ\",\n",
              "  \"version\" : {\n",
              "    \"number\" : \"7.0.0\",\n",
              "    \"build_flavor\" : \"default\",\n",
              "    \"build_type\" : \"tar\",\n",
              "    \"build_hash\" : \"b7e28a7\",\n",
              "    \"build_date\" : \"2019-04-05T22:55:32.697037Z\",\n",
              "    \"build_snapshot\" : false,\n",
              "    \"lucene_version\" : \"8.0.0\",\n",
              "    \"minimum_wire_compatibility_version\" : \"6.7.0\",\n",
              "    \"minimum_index_compatibility_version\" : \"6.0.0-beta1\"\n",
              "  },\n",
              "  \"tagline\" : \"You Know, for Search\"\n",
              "}\n",
              "))\n",
              "    new ResizeObserver(google.colab.output.resizeIframeToContent).observe(document.body)\n",
              "    </script>\n",
              "    "
            ]
          },
          "metadata": {},
          "execution_count": 31
        }
      ],
      "source": [
        "%%es\n",
        "GET /"
      ]
    },
    {
      "cell_type": "code",
      "execution_count": 32,
      "metadata": {
        "colab": {
          "base_uri": "https://localhost:8080/",
          "height": 191
        },
        "id": "lksvPoax7Wzy",
        "outputId": "1d65951a-c079-41b1-c143-1b667b63bb72"
      },
      "outputs": [
        {
          "output_type": "execute_result",
          "data": {
            "text/plain": [
              "<Response [201]>"
            ],
            "text/html": [
              "\n",
              "    <script src=\"https://rawgit.com/caldwell/renderjson/master/renderjson.js\"></script>\n",
              "    <script>\n",
              "    renderjson.set_show_to_level(1)\n",
              "    document.body.appendChild(renderjson({\"_index\":\"customer\",\"_type\":\"_doc\",\"_id\":\"1\",\"_version\":1,\"result\":\"created\",\"_shards\":{\"total\":2,\"successful\":1,\"failed\":0},\"_seq_no\":0,\"_primary_term\":1}))\n",
              "    new ResizeObserver(google.colab.output.resizeIframeToContent).observe(document.body)\n",
              "    </script>\n",
              "    "
            ]
          },
          "metadata": {},
          "execution_count": 32
        }
      ],
      "source": [
        "%%es\n",
        "PUT /customer/_doc/1\n",
        "{\n",
        "  \"name\": \"John Doe\"\n",
        "}"
      ]
    },
    {
      "cell_type": "code",
      "execution_count": 33,
      "metadata": {
        "colab": {
          "base_uri": "https://localhost:8080/",
          "height": 191
        },
        "id": "BeWBkguI7YMb",
        "outputId": "d5161b22-679b-40f6-fdd3-8dbe611529a6"
      },
      "outputs": [
        {
          "output_type": "execute_result",
          "data": {
            "text/plain": [
              "<Response [201]>"
            ],
            "text/html": [
              "\n",
              "    <script src=\"https://rawgit.com/caldwell/renderjson/master/renderjson.js\"></script>\n",
              "    <script>\n",
              "    renderjson.set_show_to_level(1)\n",
              "    document.body.appendChild(renderjson({\"_index\":\"customer\",\"_type\":\"_doc\",\"_id\":\"2\",\"_version\":1,\"result\":\"created\",\"_shards\":{\"total\":2,\"successful\":1,\"failed\":0},\"_seq_no\":1,\"_primary_term\":1}))\n",
              "    new ResizeObserver(google.colab.output.resizeIframeToContent).observe(document.body)\n",
              "    </script>\n",
              "    "
            ]
          },
          "metadata": {},
          "execution_count": 33
        }
      ],
      "source": [
        "%%es\n",
        "PUT customer/_doc/2\n",
        "{\n",
        "  \"name\": \"John Smith\"\n",
        "}"
      ]
    },
    {
      "cell_type": "markdown",
      "metadata": {
        "id": "4odbr9Lb7rsL"
      },
      "source": [
        "# Python calls JS"
      ]
    },
    {
      "cell_type": "code",
      "execution_count": 34,
      "metadata": {
        "colab": {
          "base_uri": "https://localhost:8080/",
          "height": 34
        },
        "id": "glp2X8kc71Y7",
        "outputId": "d88cf24f-4b32-4823-b3fa-31d9e1d3a94b"
      },
      "outputs": [
        {
          "output_type": "display_data",
          "data": {
            "text/plain": [
              "<IPython.core.display.HTML object>"
            ],
            "text/html": [
              "<script>\n",
              "document.body.append(document.createTextNode(\"Hello\"))\n",
              "</script>\n"
            ]
          },
          "metadata": {}
        }
      ],
      "source": [
        "%%html\n",
        "<script>\n",
        "document.body.append(document.createTextNode(\"Hello\"))\n",
        "</script>"
      ]
    },
    {
      "cell_type": "code",
      "execution_count": 35,
      "metadata": {
        "colab": {
          "base_uri": "https://localhost:8080/",
          "height": 34
        },
        "id": "kTobsSMk77R7",
        "outputId": "0fd696fc-8844-4f92-c9a9-6b52d1554fb3"
      },
      "outputs": [
        {
          "output_type": "execute_result",
          "data": {
            "text/plain": [
              "<IPython.core.display.Javascript object>"
            ],
            "application/javascript": [
              "document.body.append(document.createTextNode(\"Hello\"))"
            ]
          },
          "metadata": {},
          "execution_count": 35
        }
      ],
      "source": [
        "from IPython.display import Javascript\n",
        "Javascript('document.body.append(document.createTextNode(\"Hello\"))')"
      ]
    },
    {
      "cell_type": "code",
      "execution_count": 36,
      "metadata": {
        "colab": {
          "base_uri": "https://localhost:8080/",
          "height": 34
        },
        "id": "mleIWr5S78Ua",
        "outputId": "8bcc0eed-69a0-42ff-c196-0ff1202a6067"
      },
      "outputs": [
        {
          "output_type": "execute_result",
          "data": {
            "text/plain": [
              "2"
            ]
          },
          "metadata": {},
          "execution_count": 36
        }
      ],
      "source": [
        "from google.colab.output import eval_js\n",
        "eval_js('1+1')"
      ]
    },
    {
      "cell_type": "markdown",
      "metadata": {
        "id": "cKPhIKM17-Kj"
      },
      "source": [
        "# **JS calls in Python**"
      ]
    },
    {
      "cell_type": "markdown",
      "metadata": {
        "id": "bqyqHV628eOL"
      },
      "source": [
        "### Toy Example"
      ]
    },
    {
      "cell_type": "code",
      "execution_count": 37,
      "metadata": {
        "id": "BRYiUmGq8BHT"
      },
      "outputs": [],
      "source": [
        "from IPython.display import JSON\n",
        "import IPython.display as idisplay\n",
        "from google.colab import output\n",
        "\n",
        "def concat(a, b):\n",
        "  return JSON({'result': '%s %s' % (a, b)})\n",
        "\n",
        "output.register_callback('notebook.concat', concat)"
      ]
    },
    {
      "cell_type": "code",
      "execution_count": 38,
      "metadata": {
        "colab": {
          "base_uri": "https://localhost:8080/",
          "height": 34
        },
        "id": "BPLsLXy08SXz",
        "outputId": "e5b512b1-fee4-470b-85e8-c1884da01c3d"
      },
      "outputs": [
        {
          "output_type": "execute_result",
          "data": {
            "text/plain": [
              "<IPython.core.display.Javascript object>"
            ],
            "application/javascript": [
              "\n",
              "(async function() {\n",
              "\n",
              "  const result = await google.colab.kernel.invokeFunction(\n",
              "    'notebook.concat',\n",
              "    ['hello', 'world!'],\n",
              "    {});\n",
              "\n",
              "  const text = result.data['application/json'].result;\n",
              "\n",
              "  document.querySelector(\"#output-area\").appendChild(document.createTextNode(text))\n",
              "\n",
              "})();\n"
            ]
          },
          "metadata": {},
          "execution_count": 38
        }
      ],
      "source": [
        "idisplay.Javascript('''\n",
        "(async function() {\n",
        "\n",
        "  const result = await google.colab.kernel.invokeFunction(\n",
        "    'notebook.concat',\n",
        "    ['hello', 'world!'],\n",
        "    {});\n",
        "\n",
        "  const text = result.data['application/json'].result;\n",
        "\n",
        "  document.querySelector(\"#output-area\").appendChild(document.createTextNode(text))\n",
        "\n",
        "})();\n",
        "''')"
      ]
    },
    {
      "cell_type": "markdown",
      "metadata": {
        "id": "_vb2KDmm8ZWd"
      },
      "source": [
        "# **Taking a photo using HTML and JavsScript**\n"
      ]
    },
    {
      "cell_type": "code",
      "execution_count": 43,
      "metadata": {
        "id": "86RxK2Wt8prr"
      },
      "outputs": [],
      "source": [
        "from IPython.display import HTML, Image\n",
        "from google.colab.output import eval_js\n",
        "from base64 import b64decode"
      ]
    },
    {
      "cell_type": "code",
      "execution_count": 44,
      "metadata": {
        "id": "Tmqwmd4s8sH7"
      },
      "outputs": [],
      "source": [
        "VIDEO_HTML = \"\"\"\n",
        "<video autoplay\n",
        " width=800 height=600></video>\n",
        "<script>\n",
        "var video = document.querySelector('video')\n",
        "navigator.mediaDevices.getUserMedia({ video: true })\n",
        "  .then(stream=> video.srcObject = stream)\n",
        "\n",
        "var data = new Promise(resolve=>{\n",
        "  video.onclick = ()=>{\n",
        "    var canvas = document.createElement('canvas')\n",
        "    var [w,h] = [video.offsetWidth, video.offsetHeight]\n",
        "    canvas.width = w\n",
        "    canvas.height = h\n",
        "    canvas.getContext('2d')\n",
        "          .drawImage(video, 0, 0, w, h)\n",
        "    video.srcObject.getVideoTracks()[0].stop()\n",
        "    video.replaceWith(canvas)\n",
        "    resolve(canvas.toDataURL('image/jpeg', %f))\n",
        "  }\n",
        "})\n",
        "</script>\n",
        "\"\"\""
      ]
    },
    {
      "cell_type": "code",
      "execution_count": 45,
      "metadata": {
        "id": "mb5Ot0Oq8tdj"
      },
      "outputs": [],
      "source": [
        "def take_photo(filename='photo.jpg', quality=0.8):\n",
        "  display(HTML(VIDEO_HTML % quality))\n",
        "  data = eval_js(\"data\")\n",
        "  binary = b64decode(data.split(',')[1])\n",
        "  with open(filename, 'wb') as f:\n",
        "    f.write(binary)\n",
        "  return len(binary)"
      ]
    },
    {
      "cell_type": "code",
      "execution_count": 49,
      "metadata": {
        "colab": {
          "base_uri": "https://localhost:8080/",
          "height": 639
        },
        "id": "CQiEMbv-8uoq",
        "outputId": "707faab1-7da1-447e-b428-85d56058a27b"
      },
      "outputs": [
        {
          "output_type": "display_data",
          "data": {
            "text/plain": [
              "<IPython.core.display.HTML object>"
            ],
            "text/html": [
              "\n",
              "<video autoplay\n",
              " width=800 height=600></video>\n",
              "<script>\n",
              "var video = document.querySelector('video')\n",
              "navigator.mediaDevices.getUserMedia({ video: true })\n",
              "  .then(stream=> video.srcObject = stream)\n",
              "\n",
              "var data = new Promise(resolve=>{\n",
              "  video.onclick = ()=>{\n",
              "    var canvas = document.createElement('canvas')\n",
              "    var [w,h] = [video.offsetWidth, video.offsetHeight]\n",
              "    canvas.width = w\n",
              "    canvas.height = h\n",
              "    canvas.getContext('2d')\n",
              "          .drawImage(video, 0, 0, w, h)\n",
              "    video.srcObject.getVideoTracks()[0].stop()\n",
              "    video.replaceWith(canvas)\n",
              "    resolve(canvas.toDataURL('image/jpeg', 0.800000))\n",
              "  }\n",
              "})\n",
              "</script>\n"
            ]
          },
          "metadata": {}
        },
        {
          "output_type": "execute_result",
          "data": {
            "text/plain": [
              "36283"
            ]
          },
          "metadata": {},
          "execution_count": 49
        }
      ],
      "source": [
        "take_photo()"
      ]
    },
    {
      "cell_type": "markdown",
      "source": [
        "References:\n",
        "\n",
        "\n",
        "Derek Banas Python Tutorial: https://www.youtube.com/watch?v=N4mEzFDjqtA\n",
        "\n",
        "Derek Banas Python Cheat Sheet: https://www.newthinktank.com/2014/11/python-programming/\n",
        "\n",
        "Advanced Colab Tutorial: https://www.youtube.com/watch?v=qxBWBeDnLt8&t=2256s"
      ],
      "metadata": {
        "id": "o3HMGmQuj87V"
      }
    }
  ],
  "metadata": {
    "colab": {
      "provenance": []
    },
    "kernelspec": {
      "display_name": "Python 3",
      "name": "python3"
    },
    "language_info": {
      "name": "python"
    }
  },
  "nbformat": 4,
  "nbformat_minor": 0
}