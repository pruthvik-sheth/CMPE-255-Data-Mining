{
 "cells": [
  {
   "cell_type": "code",
   "execution_count": 0,
   "metadata": {
    "application/vnd.databricks.v1+cell": {
     "cellMetadata": {
      "byteLimit": 2048000,
      "rowLimit": 10000
     },
     "inputWidgets": {},
     "nuid": "3835073e-85e3-4293-83ff-195e65aab668",
     "showTitle": false,
     "tableResultSettingsMap": {},
     "title": ""
    }
   },
   "outputs": [
    {
     "output_type": "display_data",
     "data": {
      "application/vnd.databricks.v1+bamboolib_hint": "{\"pd.DataFrames\": [], \"version\": \"0.0.1\"}",
      "text/plain": []
     },
     "metadata": {},
     "output_type": "display_data"
    }
   ],
   "source": [
    "from pyspark.ml.feature import PCA, StandardScaler, VectorAssembler\n",
    "from pyspark.sql import SparkSession\n",
    "from pyspark.ml import Pipeline\n",
    "import numpy as np\n",
    "import pandas as pd\n",
    "\n",
    "# Create Spark session (already available in Databricks)\n",
    "spark = SparkSession.builder.appName(\"DimensionalityReduction\").getOrCreate()"
   ]
  },
  {
   "cell_type": "code",
   "execution_count": 0,
   "metadata": {
    "application/vnd.databricks.v1+cell": {
     "cellMetadata": {
      "byteLimit": 2048000,
      "rowLimit": 10000
     },
     "inputWidgets": {},
     "nuid": "34564839-92c4-470a-bd42-30f573a954ce",
     "showTitle": false,
     "tableResultSettingsMap": {},
     "title": ""
    }
   },
   "outputs": [
    {
     "output_type": "stream",
     "name": "stdout",
     "output_type": "stream",
     "text": [
      "Dataset loaded with shape: (569, 30)\n+--------------------+-----+\n|            features|label|\n+--------------------+-----+\n|[17.99,10.38,122....|    0|\n|[20.57,17.77,132....|    0|\n|[19.69,21.25,130....|    0|\n|[11.42,20.38,77.5...|    0|\n|[20.29,14.34,135....|    0|\n+--------------------+-----+\nonly showing top 5 rows\n\n"
     ]
    }
   ],
   "source": [
    "from pyspark.ml.linalg import Vectors\n",
    "from sklearn.datasets import load_breast_cancer\n",
    "\n",
    "# Load breast cancer dataset\n",
    "bc = load_breast_cancer()\n",
    "data = [(Vectors.dense(features), str(label)) for features, label in zip(bc.data, bc.target)]\n",
    "\n",
    "# Create DataFrame\n",
    "df = spark.createDataFrame(data, [\"features\", \"label\"])\n",
    "print(\"Dataset loaded with shape:\", (df.count(), len(bc.feature_names)))\n",
    "df.show(5)"
   ]
  },
  {
   "cell_type": "code",
   "execution_count": 0,
   "metadata": {
    "application/vnd.databricks.v1+cell": {
     "cellMetadata": {
      "byteLimit": 2048000,
      "rowLimit": 10000
     },
     "inputWidgets": {},
     "nuid": "49d4157e-0b13-4a49-a809-b835dbf14b02",
     "showTitle": false,
     "tableResultSettingsMap": {},
     "title": ""
    }
   },
   "outputs": [],
   "source": [
    "# Vector Assembler is already part of our input, so we can skip that step\n",
    "# Create scaler\n",
    "scaler = StandardScaler(\n",
    "   inputCol=\"features\",\n",
    "   outputCol=\"scaled_features\",\n",
    "   withStd=True,\n",
    "   withMean=True\n",
    ")\n",
    "\n",
    "# Create PCA model\n",
    "pca = PCA(\n",
    "   k=2,  # reduce to 2 dimensions\n",
    "   inputCol=\"scaled_features\",\n",
    "   outputCol=\"pca_features\"\n",
    ")\n",
    "\n",
    "# Create and run the pipeline\n",
    "pipeline = Pipeline(stages=[scaler, pca])"
   ]
  },
  {
   "cell_type": "code",
   "execution_count": 0,
   "metadata": {
    "application/vnd.databricks.v1+cell": {
     "cellMetadata": {
      "byteLimit": 2048000,
      "rowLimit": 10000
     },
     "inputWidgets": {},
     "nuid": "46ec42ec-8ed7-40b1-9c88-217dcc31b64b",
     "showTitle": false,
     "tableResultSettingsMap": {},
     "title": ""
    }
   },
   "outputs": [
    {
     "output_type": "stream",
     "name": "stdout",
     "output_type": "stream",
     "text": [
      "Original Features: ['mean radius' 'mean texture' 'mean perimeter' 'mean area'\n 'mean smoothness' 'mean compactness' 'mean concavity'\n 'mean concave points' 'mean symmetry' 'mean fractal dimension'\n 'radius error' 'texture error' 'perimeter error' 'area error'\n 'smoothness error' 'compactness error' 'concavity error'\n 'concave points error' 'symmetry error' 'fractal dimension error'\n 'worst radius' 'worst texture' 'worst perimeter' 'worst area'\n 'worst smoothness' 'worst compactness' 'worst concavity'\n 'worst concave points' 'worst symmetry' 'worst fractal dimension']\n\nPrincipal components:\nDenseMatrix([[-0.21890244,  0.23385713],\n             [-0.10372458,  0.05970609],\n             [-0.22753729,  0.21518136],\n             [-0.22099499,  0.23107671],\n             [-0.14258969, -0.18611302],\n             [-0.23928535, -0.15189161],\n             [-0.25840048, -0.06016536],\n             [-0.26085376,  0.0347675 ],\n             [-0.13816696, -0.19034877],\n             [-0.06436335, -0.36657547],\n             [-0.20597878,  0.10555215],\n             [-0.01742803, -0.08997968],\n             [-0.21132592,  0.08945723],\n             [-0.20286964,  0.15229263],\n             [-0.01453145, -0.20443045],\n             [-0.17039345, -0.2327159 ],\n             [-0.15358979, -0.19720728],\n             [-0.1834174 , -0.13032156],\n             [-0.04249842, -0.183848  ],\n             [-0.10256832, -0.28009203],\n             [-0.22799663,  0.21986638],\n             [-0.10446933,  0.0454673 ],\n             [-0.23663968,  0.19987843],\n             [-0.22487053,  0.21935186],\n             [-0.12795256, -0.17230435],\n             [-0.21009588, -0.14359317],\n             [-0.22876753, -0.09796411],\n             [-0.25088597,  0.00825724],\n             [-0.12290456, -0.14188335],\n             [-0.13178394, -0.27533947]])\n+-----+----------------------------------------+\n|label|pca_features                            |\n+-----+----------------------------------------+\n|0    |[-9.184755209858798,-1.9468700303852997]|\n|0    |[-2.385702628982577,3.764859062972658]  |\n|0    |[-5.728855490819108,1.0742285887048915] |\n|0    |[-7.116691259621306,-10.266555635124405]|\n|0    |[-3.931842466790753,1.9463589770798275] |\n+-----+----------------------------------------+\nonly showing top 5 rows\n\n"
     ]
    },
    {
     "output_type": "display_data",
     "data": {
      "text/html": [
       "<style scoped>\n",
       "  .table-result-container {\n",
       "    max-height: 300px;\n",
       "    overflow: auto;\n",
       "  }\n",
       "  table, th, td {\n",
       "    border: 1px solid black;\n",
       "    border-collapse: collapse;\n",
       "  }\n",
       "  th, td {\n",
       "    padding: 5px;\n",
       "  }\n",
       "  th {\n",
       "    text-align: left;\n",
       "  }\n",
       "</style><div class='table-result-container'><table class='table-result'><thead style='background-color: white'><tr><th>label</th><th>pca_features</th></tr></thead><tbody><tr><td>0</td><td>Map(vectorType -> dense, length -> 2, values -> List(-9.184755209858798, -1.9468700303852997))</td></tr><tr><td>0</td><td>Map(vectorType -> dense, length -> 2, values -> List(-2.385702628982577, 3.764859062972658))</td></tr><tr><td>0</td><td>Map(vectorType -> dense, length -> 2, values -> List(-5.728855490819108, 1.0742285887048915))</td></tr><tr><td>0</td><td>Map(vectorType -> dense, length -> 2, values -> List(-7.116691259621306, -10.266555635124405))</td></tr><tr><td>0</td><td>Map(vectorType -> dense, length -> 2, values -> List(-3.931842466790753, 1.9463589770798275))</td></tr><tr><td>0</td><td>Map(vectorType -> dense, length -> 2, values -> List(-2.3781546249740986, -3.9464564299158127))</td></tr><tr><td>0</td><td>Map(vectorType -> dense, length -> 2, values -> List(-2.236915058609935, 2.6876664141795787))</td></tr><tr><td>0</td><td>Map(vectorType -> dense, length -> 2, values -> List(-2.1414142815514485, -2.3381866491831156))</td></tr><tr><td>0</td><td>Map(vectorType -> dense, length -> 2, values -> List(-3.172133150308517, -3.3888311376864144))</td></tr><tr><td>0</td><td>Map(vectorType -> dense, length -> 2, values -> List(-6.346162835225129, -7.720380945492959))</td></tr><tr><td>0</td><td>Map(vectorType -> dense, length -> 2, values -> List(0.8097013190408896, 2.656937672621719))</td></tr><tr><td>0</td><td>Map(vectorType -> dense, length -> 2, values -> List(-2.6487698390097, -0.06650940530101429))</td></tr><tr><td>0</td><td>Map(vectorType -> dense, length -> 2, values -> List(-8.177838822068551, -2.6986020073253876))</td></tr><tr><td>0</td><td>Map(vectorType -> dense, length -> 2, values -> List(-0.34182514389774243, 0.9674280261783395))</td></tr><tr><td>0</td><td>Map(vectorType -> dense, length -> 2, values -> List(-4.338561717694848, -4.856809831831542))</td></tr><tr><td>0</td><td>Map(vectorType -> dense, length -> 2, values -> List(-4.07207318021357, -2.9744439832196963))</td></tr><tr><td>0</td><td>Map(vectorType -> dense, length -> 2, values -> List(-0.22985276950326078, 1.563382113820491))</td></tr><tr><td>0</td><td>Map(vectorType -> dense, length -> 2, values -> List(-4.414126949591796, -1.4174231504677404))</td></tr><tr><td>0</td><td>Map(vectorType -> dense, length -> 2, values -> List(-4.944353041108302, 4.110716527760167))</td></tr><tr><td>1</td><td>Map(vectorType -> dense, length -> 2, values -> List(1.235975828519116, 0.18804949002889026))</td></tr><tr><td>1</td><td>Map(vectorType -> dense, length -> 2, values -> List(1.5767738400518536, -0.5723046247698896))</td></tr><tr><td>1</td><td>Map(vectorType -> dense, length -> 2, values -> List(3.5542090442654697, -1.6614879693604343))</td></tr><tr><td>0</td><td>Map(vectorType -> dense, length -> 2, values -> List(-4.729049722976225, -3.3020582651138817))</td></tr><tr><td>0</td><td>Map(vectorType -> dense, length -> 2, values -> List(-4.204824406832293, 5.123858058987457))</td></tr><tr><td>0</td><td>Map(vectorType -> dense, length -> 2, values -> List(-4.945280748242438, 1.5423951430023812))</td></tr><tr><td>0</td><td>Map(vectorType -> dense, length -> 2, values -> List(-7.092322358888266, -2.0168357342714707))</td></tr><tr><td>0</td><td>Map(vectorType -> dense, length -> 2, values -> List(-3.5071766582289667, -2.1697159942950077))</td></tr><tr><td>0</td><td>Map(vectorType -> dense, length -> 2, values -> List(-3.061360211796454, 1.874902631018983))</td></tr><tr><td>0</td><td>Map(vectorType -> dense, length -> 2, values -> List(-4.003741273398027, -0.5367698596377992))</td></tr><tr><td>0</td><td>Map(vectorType -> dense, length -> 2, values -> List(-1.7138017616568975, 1.5223655018101776))</td></tr><tr><td>0</td><td>Map(vectorType -> dense, length -> 2, values -> List(-6.0541185274085345, 0.7565118002441548))</td></tr><tr><td>0</td><td>Map(vectorType -> dense, length -> 2, values -> List(-2.899684688150535, -4.001774372782243))</td></tr><tr><td>0</td><td>Map(vectorType -> dense, length -> 2, values -> List(-4.550778483480172, -0.33723941876735425))</td></tr><tr><td>0</td><td>Map(vectorType -> dense, length -> 2, values -> List(-4.98621537857523, 1.1315932229451566))</td></tr><tr><td>0</td><td>Map(vectorType -> dense, length -> 2, values -> List(-2.9827163130446697, -0.7577564966701601))</td></tr><tr><td>0</td><td>Map(vectorType -> dense, length -> 2, values -> List(-2.7639371844217004, 0.3540444207048967))</td></tr><tr><td>0</td><td>Map(vectorType -> dense, length -> 2, values -> List(-1.295059249402728, -0.9123934661705099))</td></tr><tr><td>1</td><td>Map(vectorType -> dense, length -> 2, values -> List(3.746017295612612, 1.4122305036725344))</td></tr><tr><td>0</td><td>Map(vectorType -> dense, length -> 2, values -> List(0.9971914775009062, 3.3483467310234842))</td></tr><tr><td>0</td><td>Map(vectorType -> dense, length -> 2, values -> List(-0.764591355604326, -0.8854648371667375))</td></tr><tr><td>0</td><td>Map(vectorType -> dense, length -> 2, values -> List(2.149062522258757, 1.922300194308556))</td></tr><tr><td>0</td><td>Map(vectorType -> dense, length -> 2, values -> List(0.09324933698075474, -2.2587645315178184))</td></tr><tr><td>0</td><td>Map(vectorType -> dense, length -> 2, values -> List(-9.080010225451238, -2.016898441324291))</td></tr><tr><td>0</td><td>Map(vectorType -> dense, length -> 2, values -> List(-0.9895830367496765, -0.9840641476689251))</td></tr><tr><td>0</td><td>Map(vectorType -> dense, length -> 2, values -> List(0.2932884879762997, 0.13697856412444143))</td></tr><tr><td>0</td><td>Map(vectorType -> dense, length -> 2, values -> List(-5.376209908961654, 0.13475840449503856))</td></tr><tr><td>1</td><td>Map(vectorType -> dense, length -> 2, values -> List(4.577908595212511, -1.4829155084495484))</td></tr><tr><td>0</td><td>Map(vectorType -> dense, length -> 2, values -> List(-1.6985123749994018, -2.350203862012345))</td></tr><tr><td>1</td><td>Map(vectorType -> dense, length -> 2, values -> List(2.1345670832706904, -0.09574536366108702))</td></tr><tr><td>1</td><td>Map(vectorType -> dense, length -> 2, values -> List(1.566100993427759, 1.2073708547187902))</td></tr><tr><td>1</td><td>Map(vectorType -> dense, length -> 2, values -> List(3.539790914613369, 1.281368109614397))</td></tr><tr><td>1</td><td>Map(vectorType -> dense, length -> 2, values -> List(3.155037949380859, 1.6874737964866235))</td></tr><tr><td>1</td><td>Map(vectorType -> dense, length -> 2, values -> List(3.4474551464077874, 0.49778071959150105))</td></tr><tr><td>0</td><td>Map(vectorType -> dense, length -> 2, values -> List(-3.2996476093220637, 1.1299435737147892))</td></tr><tr><td>0</td><td>Map(vectorType -> dense, length -> 2, values -> List(0.6740262135577757, 2.114549136533497))</td></tr><tr><td>1</td><td>Map(vectorType -> dense, length -> 2, values -> List(2.8556457728003637, -0.15258887411272043))</td></tr><tr><td>0</td><td>Map(vectorType -> dense, length -> 2, values -> List(-4.644652068242386, 2.3083015082587246))</td></tr><tr><td>0</td><td>Map(vectorType -> dense, length -> 2, values -> List(-2.174949156248412, -0.9712614383238205))</td></tr><tr><td>1</td><td>Map(vectorType -> dense, length -> 2, values -> List(3.718187379898406, 1.7860700970608108))</td></tr><tr><td>1</td><td>Map(vectorType -> dense, length -> 2, values -> List(4.132326931707893, -2.4016792608874233))</td></tr><tr><td>1</td><td>Map(vectorType -> dense, length -> 2, values -> List(2.383738224783428, -2.7552338144184616))</td></tr><tr><td>1</td><td>Map(vectorType -> dense, length -> 2, values -> List(2.5766161014186637, -3.1359126501904933))</td></tr><tr><td>0</td><td>Map(vectorType -> dense, length -> 2, values -> List(-4.7549283181968045, -3.0090328746490678))</td></tr><tr><td>1</td><td>Map(vectorType -> dense, length -> 2, values -> List(2.3120978470008, -3.2651167207221268))</td></tr><tr><td>0</td><td>Map(vectorType -> dense, length -> 2, values -> List(-1.690120795036984, -1.5393221159132306))</td></tr><tr><td>0</td><td>Map(vectorType -> dense, length -> 2, values -> List(-1.8107121691780637, -0.7221048150632118))</td></tr><tr><td>1</td><td>Map(vectorType -> dense, length -> 2, values -> List(2.7834755915717917, -2.308617372387838))</td></tr><tr><td>1</td><td>Map(vectorType -> dense, length -> 2, values -> List(3.5155550218280442, 0.657730735549507))</td></tr><tr><td>1</td><td>Map(vectorType -> dense, length -> 2, values -> List(-4.326196052613209, -9.194435551699886))</td></tr><tr><td>1</td><td>Map(vectorType -> dense, length -> 2, values -> List(3.2584124133410364, 0.9370136471243264))</td></tr><tr><td>0</td><td>Map(vectorType -> dense, length -> 2, values -> List(-2.702218505205821, 4.433240984891397))</td></tr><tr><td>1</td><td>Map(vectorType -> dense, length -> 2, values -> List(0.3075851279890566, -7.381317395929899))</td></tr><tr><td>0</td><td>Map(vectorType -> dense, length -> 2, values -> List(-5.498866892103152, -0.9375005134764515))</td></tr><tr><td>0</td><td>Map(vectorType -> dense, length -> 2, values -> List(0.36139120652866014, -0.1196338211958474))</td></tr><tr><td>1</td><td>Map(vectorType -> dense, length -> 2, values -> List(2.627664570741694, 0.6966963492687757))</td></tr><tr><td>0</td><td>Map(vectorType -> dense, length -> 2, values -> List(-1.4269120607028623, 1.9653720916439372))</td></tr><tr><td>1</td><td>Map(vectorType -> dense, length -> 2, values -> List(0.8337842392556142, -1.9638768597292673))</td></tr><tr><td>0</td><td>Map(vectorType -> dense, length -> 2, values -> List(-6.225418799624563, -0.9192606901744491))</td></tr><tr><td>0</td><td>Map(vectorType -> dense, length -> 2, values -> List(-11.658456435666892, -4.7444425930734235))</td></tr><tr><td>1</td><td>Map(vectorType -> dense, length -> 2, values -> List(2.0198004469637176, 0.25467574616148353))</td></tr><tr><td>1</td><td>Map(vectorType -> dense, length -> 2, values -> List(1.6369445986800977, -1.7144405868911354))</td></tr><tr><td>1</td><td>Map(vectorType -> dense, length -> 2, values -> List(-1.1664352709963526, -2.5123052861935284))</td></tr><tr><td>0</td><td>Map(vectorType -> dense, length -> 2, values -> List(-10.759775351229562, 2.25599785781172))</td></tr><tr><td>0</td><td>Map(vectorType -> dense, length -> 2, values -> List(-5.030384877079519, -0.7737283569771864))</td></tr><tr><td>1</td><td>Map(vectorType -> dense, length -> 2, values -> List(2.1725526922012715, -0.496441168924977))</td></tr><tr><td>0</td><td>Map(vectorType -> dense, length -> 2, values -> List(-3.285344627777663, 1.6667704797343097))</td></tr><tr><td>0</td><td>Map(vectorType -> dense, length -> 2, values -> List(-0.607073784243589, -0.16207191874894683))</td></tr><tr><td>0</td><td>Map(vectorType -> dense, length -> 2, values -> List(-3.5804132398493693, 2.2047219162839213))</td></tr><tr><td>1</td><td>Map(vectorType -> dense, length -> 2, values -> List(0.9333368663416973, -0.9268859190310914))</td></tr><tr><td>1</td><td>Map(vectorType -> dense, length -> 2, values -> List(-1.2584973023904544, -1.014684255071954))</td></tr><tr><td>1</td><td>Map(vectorType -> dense, length -> 2, values -> List(1.5868676958892003, 1.6182329540103404))</td></tr><tr><td>0</td><td>Map(vectorType -> dense, length -> 2, values -> List(-0.2522755916003695, 0.530884424915292))</td></tr><tr><td>1</td><td>Map(vectorType -> dense, length -> 2, values -> List(2.844928349652454, 2.8911037319207855))</td></tr><tr><td>1</td><td>Map(vectorType -> dense, length -> 2, values -> List(1.9632226839332967, 0.9643084982548302))</td></tr><tr><td>0</td><td>Map(vectorType -> dense, length -> 2, values -> List(-2.773425247151511, -0.557509976757413))</td></tr><tr><td>0</td><td>Map(vectorType -> dense, length -> 2, values -> List(-4.392363138171209, 2.1216408918292844))</td></tr><tr><td>1</td><td>Map(vectorType -> dense, length -> 2, values -> List(2.589804073230505, -0.21344611982789297))</td></tr><tr><td>1</td><td>Map(vectorType -> dense, length -> 2, values -> List(3.900905764302463, -1.1890204211664386))</td></tr><tr><td>1</td><td>Map(vectorType -> dense, length -> 2, values -> List(2.8157536467617743, -0.36756056672604126))</td></tr><tr><td>0</td><td>Map(vectorType -> dense, length -> 2, values -> List(-0.6157390843403041, -0.6383499883109449))</td></tr><tr><td>0</td><td>Map(vectorType -> dense, length -> 2, values -> List(0.43247968428512473, 1.390820523329051))</td></tr><tr><td>1</td><td>Map(vectorType -> dense, length -> 2, values -> List(4.551024418715486, -3.5256837878131457))</td></tr><tr><td>1</td><td>Map(vectorType -> dense, length -> 2, values -> List(3.445152170485421, 1.4233700401235052))</td></tr><tr><td>1</td><td>Map(vectorType -> dense, length -> 2, values -> List(2.1141000788234177, -1.8477477817558619))</td></tr><tr><td>1</td><td>Map(vectorType -> dense, length -> 2, values -> List(2.688986180588338, -1.4188133337752493))</td></tr><tr><td>0</td><td>Map(vectorType -> dense, length -> 2, values -> List(-3.2110913432991848, -4.043198634073635))</td></tr><tr><td>1</td><td>Map(vectorType -> dense, length -> 2, values -> List(0.7486126561287516, -1.7960581752732854))</td></tr><tr><td>1</td><td>Map(vectorType -> dense, length -> 2, values -> List(3.1562288887130996, 1.0348388776990332))</td></tr><tr><td>0</td><td>Map(vectorType -> dense, length -> 2, values -> List(-13.044643947118486, -0.9806503574605676))</td></tr><tr><td>1</td><td>Map(vectorType -> dense, length -> 2, values -> List(2.2267205341066245, -0.6668239016416191))</td></tr><tr><td>1</td><td>Map(vectorType -> dense, length -> 2, values -> List(2.4906395353764794, -2.5964017081976385))</td></tr><tr><td>1</td><td>Map(vectorType -> dense, length -> 2, values -> List(0.10325956887870977, -2.2781390146787253))</td></tr><tr><td>1</td><td>Map(vectorType -> dense, length -> 2, values -> List(-3.5881369364374964, -3.9228814330897817))</td></tr><tr><td>1</td><td>Map(vectorType -> dense, length -> 2, values -> List(1.3477627936910612, -3.553098748124878))</td></tr><tr><td>1</td><td>Map(vectorType -> dense, length -> 2, values -> List(2.507910978274425, -3.248461200088754))</td></tr><tr><td>1</td><td>Map(vectorType -> dense, length -> 2, values -> List(2.0442308647877296, -0.3046168360404698))</td></tr><tr><td>1</td><td>Map(vectorType -> dense, length -> 2, values -> List(2.0952255918005553, -3.6638720623651575))</td></tr><tr><td>0</td><td>Map(vectorType -> dense, length -> 2, values -> List(-3.1077931629832842, -1.5680098728032148))</td></tr><tr><td>0</td><td>Map(vectorType -> dense, length -> 2, values -> List(-4.952368008219316, -2.382749650207092))</td></tr><tr><td>0</td><td>Map(vectorType -> dense, length -> 2, values -> List(-0.8502661181133304, 2.304707467911811))</td></tr><tr><td>1</td><td>Map(vectorType -> dense, length -> 2, values -> List(2.9633917342885567, -0.37117988308380523))</td></tr><tr><td>0</td><td>Map(vectorType -> dense, length -> 2, values -> List(-3.331202091345631, 1.3243920287519007))</td></tr><tr><td>0</td><td>Map(vectorType -> dense, length -> 2, values -> List(-12.8832762090226, -2.314585872823187))</td></tr><tr><td>1</td><td>Map(vectorType -> dense, length -> 2, values -> List(0.770066100541669, 0.06405286022784357))</td></tr><tr><td>1</td><td>Map(vectorType -> dense, length -> 2, values -> List(2.200579246024579, 0.7349585441539866))</td></tr><tr><td>1</td><td>Map(vectorType -> dense, length -> 2, values -> List(3.1406488057317365, 1.8757585568762567))</td></tr><tr><td>0</td><td>Map(vectorType -> dense, length -> 2, values -> List(0.6383188466749707, 0.9105648277387001))</td></tr><tr><td>0</td><td>Map(vectorType -> dense, length -> 2, values -> List(-1.9174462720607244, 3.534971965704516))</td></tr><tr><td>1</td><td>Map(vectorType -> dense, length -> 2, values -> List(-1.4076297975592051, -1.303782215446646))</td></tr><tr><td>0</td><td>Map(vectorType -> dense, length -> 2, values -> List(-4.639608949805652, 1.480714296902346))</td></tr><tr><td>1</td><td>Map(vectorType -> dense, length -> 2, values -> List(1.875816842535797, -1.4219794520209585))</td></tr><tr><td>0</td><td>Map(vectorType -> dense, length -> 2, values -> List(-1.4308104644206412, 1.0486812201637816))</td></tr><tr><td>0</td><td>Map(vectorType -> dense, length -> 2, values -> List(-1.3514379025047487, 1.1531268416676224))</td></tr><tr><td>1</td><td>Map(vectorType -> dense, length -> 2, values -> List(0.7084914339488595, 1.5668536574634873))</td></tr><tr><td>0</td><td>Map(vectorType -> dense, length -> 2, values -> List(-2.16950708077604, 2.823776100829295))</td></tr><tr><td>0</td><td>Map(vectorType -> dense, length -> 2, values -> List(1.9751024733516598, 0.4190187545862016))</td></tr><tr><td>1</td><td>Map(vectorType -> dense, length -> 2, values -> List(2.59850309522373, 0.48191143623214344))</td></tr><tr><td>1</td><td>Map(vectorType -> dense, length -> 2, values -> List(3.2551431766212113, 0.417953650542393))</td></tr><tr><td>0</td><td>Map(vectorType -> dense, length -> 2, values -> List(-3.778701596515092, -0.8596252179512075))</td></tr><tr><td>1</td><td>Map(vectorType -> dense, length -> 2, values -> List(1.9902834824907458, -1.3281865083916466))</td></tr><tr><td>1</td><td>Map(vectorType -> dense, length -> 2, values -> List(5.010599890275268, -0.5741947482063134))</td></tr><tr><td>0</td><td>Map(vectorType -> dense, length -> 2, values -> List(-1.3438380019594123, 1.2736502780620558))</td></tr><tr><td>1</td><td>Map(vectorType -> dense, length -> 2, values -> List(2.4538097168107567, -0.8976654414043106))</td></tr><tr><td>1</td><td>Map(vectorType -> dense, length -> 2, values -> List(1.8356664765287183, 0.09094674191163107))</td></tr><tr><td>1</td><td>Map(vectorType -> dense, length -> 2, values -> List(4.342668621633104, 0.8927867080020948))</td></tr><tr><td>1</td><td>Map(vectorType -> dense, length -> 2, values -> List(0.7321686848841821, -3.698927716334959))</td></tr><tr><td>0</td><td>Map(vectorType -> dense, length -> 2, values -> List(-2.3978879545325613, -4.8337356419503745))</td></tr><tr><td>1</td><td>Map(vectorType -> dense, length -> 2, values -> List(-0.3927530826218365, -1.0821159150961952))</td></tr><tr><td>1</td><td>Map(vectorType -> dense, length -> 2, values -> List(0.41196532673628217, 0.389288784006076))</td></tr><tr><td>1</td><td>Map(vectorType -> dense, length -> 2, values -> List(3.0472436872382715, 2.235817238795145))</td></tr><tr><td>1</td><td>Map(vectorType -> dense, length -> 2, values -> List(1.4412955434660437, -0.305601552317848))</td></tr><tr><td>1</td><td>Map(vectorType -> dense, length -> 2, values -> List(-0.08311297195894712, -7.144073768197734))</td></tr><tr><td>1</td><td>Map(vectorType -> dense, length -> 2, values -> List(-7.087070838949417, -12.562140868978332))</td></tr><tr><td>1</td><td>Map(vectorType -> dense, length -> 2, values -> List(3.7401136372673087, -0.2502813056021372))</td></tr><tr><td>1</td><td>Map(vectorType -> dense, length -> 2, values -> List(0.9683207941410804, -0.9441135819226691))</td></tr><tr><td>1</td><td>Map(vectorType -> dense, length -> 2, values -> List(2.416593560539964, -0.005547531739681007))</td></tr><tr><td>0</td><td>Map(vectorType -> dense, length -> 2, values -> List(-4.0971826377870375, 0.3784708057605489))</td></tr><tr><td>1</td><td>Map(vectorType -> dense, length -> 2, values -> List(0.7509422555127223, 3.0679491866145))</td></tr><tr><td>1</td><td>Map(vectorType -> dense, length -> 2, values -> List(3.651433651563705, 0.6740556439403642))</td></tr><tr><td>1</td><td>Map(vectorType -> dense, length -> 2, values -> List(4.676097103502341, 1.10288682345121))</td></tr><tr><td>1</td><td>Map(vectorType -> dense, length -> 2, values -> List(0.5972562440800077, -1.7840810718355007))</td></tr><tr><td>0</td><td>Map(vectorType -> dense, length -> 2, values -> List(-3.384352890865804, 2.908477953178305))</td></tr><tr><td>0</td><td>Map(vectorType -> dense, length -> 2, values -> List(-6.144479695567227, 2.0158789937746477))</td></tr><tr><td>1</td><td>Map(vectorType -> dense, length -> 2, values -> List(1.3238664840948287, -1.468002337228917))</td></tr><tr><td>0</td><td>Map(vectorType -> dense, length -> 2, values -> List(-5.489322772303608, 4.162167037247703))</td></tr><tr><td>1</td><td>Map(vectorType -> dense, length -> 2, values -> List(2.9947681268795883, 2.7364532614587054))</td></tr><tr><td>1</td><td>Map(vectorType -> dense, length -> 2, values -> List(4.382876252034909, -0.006866239711844024))</td></tr><tr><td>0</td><td>Map(vectorType -> dense, length -> 2, values -> List(-1.2125676804145147, 2.0372463953120428))</td></tr><tr><td>0</td><td>Map(vectorType -> dense, length -> 2, values -> List(-5.065204235707061, 1.783582969267652))</td></tr><tr><td>1</td><td>Map(vectorType -> dense, length -> 2, values -> List(1.9759628006688976, 1.84115939446237))</td></tr><tr><td>1</td><td>Map(vectorType -> dense, length -> 2, values -> List(2.512665538094374, -0.11415185728328553))</td></tr><tr><td>0</td><td>Map(vectorType -> dense, length -> 2, values -> List(0.9466549351985862, 1.6832724441193998))</td></tr><tr><td>0</td><td>Map(vectorType -> dense, length -> 2, values -> List(-2.8168897774102652, -1.2639909533709472))</td></tr><tr><td>1</td><td>Map(vectorType -> dense, length -> 2, values -> List(3.4809234523308104, -1.6182680772420517))</td></tr><tr><td>1</td><td>Map(vectorType -> dense, length -> 2, values -> List(4.654633990732292, 0.2227188459265475))</td></tr><tr><td>1</td><td>Map(vectorType -> dense, length -> 2, values -> List(5.346913394805295, -1.0258552141595594))</td></tr><tr><td>1</td><td>Map(vectorType -> dense, length -> 2, values -> List(-1.1698684180216836, -7.008319995898495))</td></tr><tr><td>0</td><td>Map(vectorType -> dense, length -> 2, values -> List(-2.953702919945471, -0.7058008217765863))</td></tr><tr><td>1</td><td>Map(vectorType -> dense, length -> 2, values -> List(4.971327817743079, 3.3832279834158325))</td></tr><tr><td>1</td><td>Map(vectorType -> dense, length -> 2, values -> List(4.060452888239647, 1.2450706432840835))</td></tr><tr><td>0</td><td>Map(vectorType -> dense, length -> 2, values -> List(-9.504307055873683, 5.598558051824166))</td></tr><tr><td>0</td><td>Map(vectorType -> dense, length -> 2, values -> List(-8.99924713748581, -0.5805202806336891))</td></tr><tr><td>0</td><td>Map(vectorType -> dense, length -> 2, values -> List(-0.7582113387114503, 1.6071184807982521))</td></tr><tr><td>1</td><td>Map(vectorType -> dense, length -> 2, values -> List(2.657021716338433, -0.5394611319693707))</td></tr><tr><td>0</td><td>Map(vectorType -> dense, length -> 2, values -> List(0.3896761071631376, 0.9883726891537293))</td></tr><tr><td>1</td><td>Map(vectorType -> dense, length -> 2, values -> List(3.8856465678206793, -0.8153542849565183))</td></tr><tr><td>0</td><td>Map(vectorType -> dense, length -> 2, values -> List(-0.3645553815353931, 3.5713188418258013))</td></tr><tr><td>1</td><td>Map(vectorType -> dense, length -> 2, values -> List(2.8333978267575493, 0.39837916234531845))</td></tr><tr><td>1</td><td>Map(vectorType -> dense, length -> 2, values -> List(3.307373480730301, -0.1556042796224762))</td></tr><tr><td>1</td><td>Map(vectorType -> dense, length -> 2, values -> List(3.3543529255868116, 1.1027621091603794))</td></tr><tr><td>0</td><td>Map(vectorType -> dense, length -> 2, values -> List(-6.517382011166436, -8.004126823765688))</td></tr><tr><td>1</td><td>Map(vectorType -> dense, length -> 2, values -> List(1.716225078957832, 0.5426880190282252))</td></tr><tr><td>1</td><td>Map(vectorType -> dense, length -> 2, values -> List(5.560842943398813, 0.4774274929424864))</td></tr><tr><td>0</td><td>Map(vectorType -> dense, length -> 2, values -> List(-1.7780969513569727, -2.7741462134520165))</td></tr><tr><td>0</td><td>Map(vectorType -> dense, length -> 2, values -> List(-2.6091890818216363, -1.5600490304583217))</td></tr><tr><td>1</td><td>Map(vectorType -> dense, length -> 2, values -> List(2.81656023352004, 0.9692577223481751))</td></tr><tr><td>0</td><td>Map(vectorType -> dense, length -> 2, values -> List(-2.4962424475167926, -2.276479789862448))</td></tr><tr><td>0</td><td>Map(vectorType -> dense, length -> 2, values -> List(-1.275904513829326, 2.4411110438899812))</td></tr><tr><td>0</td><td>Map(vectorType -> dense, length -> 2, values -> List(-3.470143981958466, 2.275846405119393))</td></tr><tr><td>0</td><td>Map(vectorType -> dense, length -> 2, values -> List(-1.2555703424425486, -0.38205709440413826))</td></tr><tr><td>1</td><td>Map(vectorType -> dense, length -> 2, values -> List(1.4721360446853025, -0.11678749584162215))</td></tr><tr><td>0</td><td>Map(vectorType -> dense, length -> 2, values -> List(-1.6480106203166893, 2.100442902308144))</td></tr><tr><td>0</td><td>Map(vectorType -> dense, length -> 2, values -> List(-9.028645224281451, 0.6545968488688727))</td></tr><tr><td>0</td><td>Map(vectorType -> dense, length -> 2, values -> List(-4.550586028792268, -3.0839256264353505))</td></tr><tr><td>1</td><td>Map(vectorType -> dense, length -> 2, values -> List(0.7805032063552411, -0.6522753252252638))</td></tr><tr><td>0</td><td>Map(vectorType -> dense, length -> 2, values -> List(0.22289648137749804, 0.7012045041875619))</td></tr><tr><td>1</td><td>Map(vectorType -> dense, length -> 2, values -> List(3.451858114839652, -1.3057897654953268))</td></tr><tr><td>0</td><td>Map(vectorType -> dense, length -> 2, values -> List(-0.4461518298391931, 2.7852570082147827))</td></tr><tr><td>1</td><td>Map(vectorType -> dense, length -> 2, values -> List(-0.3141617966983834, -2.0757343005542124))</td></tr><tr><td>1</td><td>Map(vectorType -> dense, length -> 2, values -> List(2.0573816635646485, 2.4706139080117415))</td></tr><tr><td>0</td><td>Map(vectorType -> dense, length -> 2, values -> List(-4.804741578644551, 3.0264400192113654))</td></tr><tr><td>1</td><td>Map(vectorType -> dense, length -> 2, values -> List(2.9960742986927817, 0.3964292123288678))</td></tr><tr><td>0</td><td>Map(vectorType -> dense, length -> 2, values -> List(-12.27421974008282, 7.536778598643883))</td></tr><tr><td>0</td><td>Map(vectorType -> dense, length -> 2, values -> List(-3.3692320216392955, -2.585550416174371))</td></tr><tr><td>0</td><td>Map(vectorType -> dense, length -> 2, values -> List(-2.5065608023508408, -2.6123498850288525))</td></tr><tr><td>0</td><td>Map(vectorType -> dense, length -> 2, values -> List(-1.3169097348008016, -2.152585452838559))</td></tr><tr><td>1</td><td>Map(vectorType -> dense, length -> 2, values -> List(0.3884145349104365, -2.274796313785692))</td></tr><tr><td>1</td><td>Map(vectorType -> dense, length -> 2, values -> List(2.7545093134335943, -1.0858792262280101))</td></tr><tr><td>0</td><td>Map(vectorType -> dense, length -> 2, values -> List(-4.939235008379087, 2.845820435747167))</td></tr><tr><td>0</td><td>Map(vectorType -> dense, length -> 2, values -> List(-4.294298799576767, 4.662172958398716))</td></tr><tr><td>1</td><td>Map(vectorType -> dense, length -> 2, values -> List(2.371415206580928, 0.7327578143464887))</td></tr><tr><td>1</td><td>Map(vectorType -> dense, length -> 2, values -> List(0.9663400342412815, -0.43805274138140315))</td></tr><tr><td>1</td><td>Map(vectorType -> dense, length -> 2, values -> List(2.973182700588683, -1.8093817105584709))</td></tr><tr><td>0</td><td>Map(vectorType -> dense, length -> 2, values -> List(-1.8016617480543298, -0.16631461790202312))</td></tr><tr><td>1</td><td>Map(vectorType -> dense, length -> 2, values -> List(2.476180734357764, 1.4173293464504262))</td></tr><tr><td>1</td><td>Map(vectorType -> dense, length -> 2, values -> List(0.8253131039081664, 1.249148354188872))</td></tr><tr><td>1</td><td>Map(vectorType -> dense, length -> 2, values -> List(3.891273417938517, -0.5380972756254689))</td></tr><tr><td>1</td><td>Map(vectorType -> dense, length -> 2, values -> List(0.3892356039180487, 0.613875324449998))</td></tr><tr><td>1</td><td>Map(vectorType -> dense, length -> 2, values -> List(1.4560401949184865, 0.20154941477167584))</td></tr><tr><td>0</td><td>Map(vectorType -> dense, length -> 2, values -> List(-2.7531455233218116, -3.4627267693133152))</td></tr><tr><td>0</td><td>Map(vectorType -> dense, length -> 2, values -> List(-3.254391152333232, 0.12509042564652945))</td></tr><tr><td>1</td><td>Map(vectorType -> dense, length -> 2, values -> List(4.015606929779589, 1.3530568336035458))</td></tr><tr><td>1</td><td>Map(vectorType -> dense, length -> 2, values -> List(3.673181280856314, 1.2904935620339735))</td></tr><tr><td>0</td><td>Map(vectorType -> dense, length -> 2, values -> List(-3.3134086631131745, 3.9356892675858393))</td></tr><tr><td>1</td><td>Map(vectorType -> dense, length -> 2, values -> List(4.0330586952594905, -1.1615240891991265))</td></tr><tr><td>1</td><td>Map(vectorType -> dense, length -> 2, values -> List(2.332181276558638, 1.3477938157103568))</td></tr><tr><td>0</td><td>Map(vectorType -> dense, length -> 2, values -> List(-8.396459114567051, 4.150252991487551))</td></tr><tr><td>0</td><td>Map(vectorType -> dense, length -> 2, values -> List(-2.645241099769492, 3.947699392177443))</td></tr><tr><td>1</td><td>Map(vectorType -> dense, length -> 2, values -> List(0.6811695085597811, 1.134992456901795))</td></tr><tr><td>0</td><td>Map(vectorType -> dense, length -> 2, values -> List(-3.3473504750853267, 2.1526758988005272))</td></tr><tr><td>1</td><td>Map(vectorType -> dense, length -> 2, values -> List(2.225762082820186, 1.2139315550121692))</td></tr><tr><td>1</td><td>Map(vectorType -> dense, length -> 2, values -> List(4.473648316810695, 1.7395986990016745))</td></tr><tr><td>1</td><td>Map(vectorType -> dense, length -> 2, values -> List(-1.3214586745096857, -4.785266054191078))</td></tr><tr><td>1</td><td>Map(vectorType -> dense, length -> 2, values -> List(1.8484634072018238, 1.5827355092570183))</td></tr><tr><td>0</td><td>Map(vectorType -> dense, length -> 2, values -> List(-3.7922288801761828, 1.025330459219364))</td></tr><tr><td>1</td><td>Map(vectorType -> dense, length -> 2, values -> List(2.2793125444788847, -2.075859442194888))</td></tr><tr><td>1</td><td>Map(vectorType -> dense, length -> 2, values -> List(3.2259316385038423, 1.1710430842293764))</td></tr><tr><td>1</td><td>Map(vectorType -> dense, length -> 2, values -> List(-1.0249988966720756, -2.3591861092433453))</td></tr><tr><td>1</td><td>Map(vectorType -> dense, length -> 2, values -> List(2.580285458084775, -0.7285720474808405))</td></tr><tr><td>1</td><td>Map(vectorType -> dense, length -> 2, values -> List(2.4836978332373185, -0.4601914826896939))</td></tr><tr><td>0</td><td>Map(vectorType -> dense, length -> 2, values -> List(-7.13756173714527, 2.073018195139842))</td></tr><tr><td>1</td><td>Map(vectorType -> dense, length -> 2, values -> List(3.029815222770883, 0.648897838165118))</td></tr><tr><td>0</td><td>Map(vectorType -> dense, length -> 2, values -> List(-7.078782066793522, -0.5277587995773976))</td></tr><tr><td>0</td><td>Map(vectorType -> dense, length -> 2, values -> List(-1.3129437515041626, 1.7738650170431625))</td></tr><tr><td>0</td><td>Map(vectorType -> dense, length -> 2, values -> List(-3.7083865255645923, 2.8050089983868287))</td></tr><tr><td>0</td><td>Map(vectorType -> dense, length -> 2, values -> List(-0.4600742739863428, -0.3938197686403613))</td></tr><tr><td>0</td><td>Map(vectorType -> dense, length -> 2, values -> List(-6.387030007430574, 1.821491442867628))</td></tr><tr><td>0</td><td>Map(vectorType -> dense, length -> 2, values -> List(-5.250924689588624, -3.891107225655192))</td></tr><tr><td>0</td><td>Map(vectorType -> dense, length -> 2, values -> List(-8.726183381467218, -3.2769939657143716))</td></tr><tr><td>0</td><td>Map(vectorType -> dense, length -> 2, values -> List(-3.6880727649812464, -1.0647092355384506))</td></tr><tr><td>0</td><td>Map(vectorType -> dense, length -> 2, values -> List(-3.3752809812447255, 3.3682641746415576))</td></tr><tr><td>0</td><td>Map(vectorType -> dense, length -> 2, values -> List(0.8394710078446104, 3.4970080337579934))</td></tr><tr><td>0</td><td>Map(vectorType -> dense, length -> 2, values -> List(-3.2814852588700103, 0.9898022792791088))</td></tr><tr><td>0</td><td>Map(vectorType -> dense, length -> 2, values -> List(1.9070908891938627, 3.119201237203347))</td></tr><tr><td>0</td><td>Map(vectorType -> dense, length -> 2, values -> List(-1.6133623365757193, 2.4723978983559065))</td></tr><tr><td>0</td><td>Map(vectorType -> dense, length -> 2, values -> List(-6.613906806066417, 5.997998810891651))</td></tr><tr><td>1</td><td>Map(vectorType -> dense, length -> 2, values -> List(1.4633883060156407, -1.685149060625749))</td></tr><tr><td>1</td><td>Map(vectorType -> dense, length -> 2, values -> List(2.0103835029649497, 1.1025164598842423))</td></tr><tr><td>1</td><td>Map(vectorType -> dense, length -> 2, values -> List(2.282332040471847, -0.009485293138450299))</td></tr><tr><td>1</td><td>Map(vectorType -> dense, length -> 2, values -> List(0.7390927619274819, -3.149749157849665))</td></tr><tr><td>1</td><td>Map(vectorType -> dense, length -> 2, values -> List(4.502600696719506, 3.166486413631368))</td></tr><tr><td>1</td><td>Map(vectorType -> dense, length -> 2, values -> List(3.1559773740122634, -0.4099410900241174))</td></tr><tr><td>0</td><td>Map(vectorType -> dense, length -> 2, values -> List(-7.6694012070934345, 3.072602737491275))</td></tr><tr><td>1</td><td>Map(vectorType -> dense, length -> 2, values -> List(3.6359367261303492, -1.5881896245823244))</td></tr><tr><td>0</td><td>Map(vectorType -> dense, length -> 2, values -> List(-0.3370489251204577, 3.1416091727542197))</td></tr><tr><td>1</td><td>Map(vectorType -> dense, length -> 2, values -> List(1.2754611078320632, -0.8483065631109162))</td></tr><tr><td>1</td><td>Map(vectorType -> dense, length -> 2, values -> List(4.342193381795932, 0.3216949991143457))</td></tr><tr><td>0</td><td>Map(vectorType -> dense, length -> 2, values -> List(-0.01741546771171315, 3.456302109699558))</td></tr><tr><td>1</td><td>Map(vectorType -> dense, length -> 2, values -> List(3.4893557720452133, 2.6317667234807156))</td></tr><tr><td>1</td><td>Map(vectorType -> dense, length -> 2, values -> List(1.864907931297847, 0.9012711860481959))</td></tr><tr><td>0</td><td>Map(vectorType -> dense, length -> 2, values -> List(-4.955907441716645, 1.3399440378897656))</td></tr><tr><td>1</td><td>Map(vectorType -> dense, length -> 2, values -> List(2.4685506209044195, 0.1379049225435279))</td></tr><tr><td>0</td><td>Map(vectorType -> dense, length -> 2, values -> List(-3.781732576915012, 1.9002354094267013))</td></tr><tr><td>0</td><td>Map(vectorType -> dense, length -> 2, values -> List(-2.634937310206687, -0.5766476067361099))</td></tr><tr><td>1</td><td>Map(vectorType -> dense, length -> 2, values -> List(1.3714782673685932, -0.005800357721781113))</td></tr><tr><td>1</td><td>Map(vectorType -> dense, length -> 2, values -> List(4.13524399446935, 1.375298122929749))</td></tr><tr><td>1</td><td>Map(vectorType -> dense, length -> 2, values -> List(0.6863363877211871, -1.6935195059813446))</td></tr><tr><td>1</td><td>Map(vectorType -> dense, length -> 2, values -> List(4.308338698860459, 1.9767468042610254))</td></tr><tr><td>1</td><td>Map(vectorType -> dense, length -> 2, values -> List(-0.4029548635748549, -3.7201606544330987))</td></tr><tr><td>1</td><td>Map(vectorType -> dense, length -> 2, values -> List(3.000965262243705, -0.35384887774716584))</td></tr><tr><td>1</td><td>Map(vectorType -> dense, length -> 2, values -> List(-3.1312530328587043, -4.269702670189467))</td></tr><tr><td>1</td><td>Map(vectorType -> dense, length -> 2, values -> List(0.41746953769710166, 0.8078657343689332))</td></tr><tr><td>1</td><td>Map(vectorType -> dense, length -> 2, values -> List(1.4189745870297155, -1.3927526376556778))</td></tr><tr><td>1</td><td>Map(vectorType -> dense, length -> 2, values -> List(2.8680647531464465, 0.268408338101326))</td></tr><tr><td>1</td><td>Map(vectorType -> dense, length -> 2, values -> List(3.3628867182650546, 0.8068906366540134))</td></tr><tr><td>1</td><td>Map(vectorType -> dense, length -> 2, values -> List(3.3120858684223364, 1.4409083819701411))</td></tr><tr><td>1</td><td>Map(vectorType -> dense, length -> 2, values -> List(4.7655170071007955, 0.5424845304417008))</td></tr><tr><td>0</td><td>Map(vectorType -> dense, length -> 2, values -> List(2.383785278667096, 0.8233910735604927))</td></tr><tr><td>1</td><td>Map(vectorType -> dense, length -> 2, values -> List(2.7846458146634814, 2.530807159428553))</td></tr><tr><td>1</td><td>Map(vectorType -> dense, length -> 2, values -> List(3.3908581737798005, -0.7533011314133292))</td></tr><tr><td>0</td><td>Map(vectorType -> dense, length -> 2, values -> List(-6.58444232820841, 1.4835570760795582))</td></tr><tr><td>1</td><td>Map(vectorType -> dense, length -> 2, values -> List(1.4540511062050259, -0.5914224783050939))</td></tr><tr><td>0</td><td>Map(vectorType -> dense, length -> 2, values -> List(-7.176618434402277, -0.05509758012513949))</td></tr><tr><td>1</td><td>Map(vectorType -> dense, length -> 2, values -> List(3.5756891739127767, -0.890799182251582))</td></tr><tr><td>1</td><td>Map(vectorType -> dense, length -> 2, values -> List(3.0543451401303825, 0.17905583600501274))</td></tr><tr><td>1</td><td>Map(vectorType -> dense, length -> 2, values -> List(3.0717330303073704, 0.3057893730497704))</td></tr><tr><td>1</td><td>Map(vectorType -> dense, length -> 2, values -> List(3.850152005362842, 1.5233860034932076))</td></tr><tr><td>1</td><td>Map(vectorType -> dense, length -> 2, values -> List(5.3855177059185495, -0.5557664886960754))</td></tr><tr><td>1</td><td>Map(vectorType -> dense, length -> 2, values -> List(4.65358766791471, 3.062692587047921))</td></tr><tr><td>1</td><td>Map(vectorType -> dense, length -> 2, values -> List(4.024001690818717, 2.5406715203364776))</td></tr><tr><td>1</td><td>Map(vectorType -> dense, length -> 2, values -> List(3.3448788008728587, 0.06850277259966837))</td></tr><tr><td>1</td><td>Map(vectorType -> dense, length -> 2, values -> List(3.2969410508974435, 3.1359500887137717))</td></tr><tr><td>1</td><td>Map(vectorType -> dense, length -> 2, values -> List(2.134525984500311, 0.0043889867928022935))</td></tr><tr><td>1</td><td>Map(vectorType -> dense, length -> 2, values -> List(4.034467235871257, 0.2404864516410689))</td></tr><tr><td>1</td><td>Map(vectorType -> dense, length -> 2, values -> List(3.762104298066469, -4.39433394265753))</td></tr><tr><td>1</td><td>Map(vectorType -> dense, length -> 2, values -> List(4.86695697440386, 2.337158334463167))</td></tr><tr><td>1</td><td>Map(vectorType -> dense, length -> 2, values -> List(4.743075110258775, 1.7968209625108593))</td></tr><tr><td>0</td><td>Map(vectorType -> dense, length -> 2, values -> List(-1.8936500638857314, 2.3901349362668816))</td></tr><tr><td>1</td><td>Map(vectorType -> dense, length -> 2, values -> List(-1.571548343734521, -6.503377020577063))</td></tr><tr><td>1</td><td>Map(vectorType -> dense, length -> 2, values -> List(4.023080366038678, 1.4009737529462152))</td></tr><tr><td>1</td><td>Map(vectorType -> dense, length -> 2, values -> List(1.29372782598917, -3.4677573783806075))</td></tr><tr><td>0</td><td>Map(vectorType -> dense, length -> 2, values -> List(-1.8332274202713865, 4.317723822665098))</td></tr><tr><td>1</td><td>Map(vectorType -> dense, length -> 2, values -> List(1.808789015235209, -0.39585898806435427))</td></tr><tr><td>0</td><td>Map(vectorType -> dense, length -> 2, values -> List(-7.230123567830955, 0.035670410920752404))</td></tr><tr><td>1</td><td>Map(vectorType -> dense, length -> 2, values -> List(3.1428847812274205, 0.741873771312808))</td></tr><tr><td>1</td><td>Map(vectorType -> dense, length -> 2, values -> List(2.8847298001152506, 0.46432306918826133))</td></tr><tr><td>1</td><td>Map(vectorType -> dense, length -> 2, values -> List(3.146885056706513, 1.7696912547970154))</td></tr><tr><td>1</td><td>Map(vectorType -> dense, length -> 2, values -> List(4.624310577223516, 1.8340046311486002))</td></tr><tr><td>0</td><td>Map(vectorType -> dense, length -> 2, values -> List(-2.248531903058634, 0.3482295351152985))</td></tr><tr><td>0</td><td>Map(vectorType -> dense, length -> 2, values -> List(-2.105948215451635, -1.1209875925308008))</td></tr><tr><td>0</td><td>Map(vectorType -> dense, length -> 2, values -> List(-1.7843799140989622, 0.2689849572661148))</td></tr><tr><td>1</td><td>Map(vectorType -> dense, length -> 2, values -> List(0.527232708197753, -1.264758768867036))</td></tr><tr><td>1</td><td>Map(vectorType -> dense, length -> 2, values -> List(3.2106759241477616, -1.1024730816943964))</td></tr><tr><td>1</td><td>Map(vectorType -> dense, length -> 2, values -> List(4.382566769758078, 0.7604346273021849))</td></tr><tr><td>1</td><td>Map(vectorType -> dense, length -> 2, values -> List(3.80666840292402, 0.9091186263481879))</td></tr><tr><td>0</td><td>Map(vectorType -> dense, length -> 2, values -> List(-3.3167555762556, 1.5756664220302594))</td></tr><tr><td>1</td><td>Map(vectorType -> dense, length -> 2, values -> List(2.3911719850536737, -0.9891604207881478))</td></tr><tr><td>0</td><td>Map(vectorType -> dense, length -> 2, values -> List(-4.676051829725837, 0.9677414434843))</td></tr><tr><td>1</td><td>Map(vectorType -> dense, length -> 2, values -> List(3.0649982652345846, -1.1348390297023678))</td></tr><tr><td>0</td><td>Map(vectorType -> dense, length -> 2, values -> List(-7.346754205800324, 5.238014242213437))</td></tr><tr><td>1</td><td>Map(vectorType -> dense, length -> 2, values -> List(-0.2950535672123393, -0.22673553279496178))</td></tr><tr><td>1</td><td>Map(vectorType -> dense, length -> 2, values -> List(1.937264908048494, -2.54275075984208))</td></tr><tr><td>1</td><td>Map(vectorType -> dense, length -> 2, values -> List(2.075352829718506, -1.8049313395291142))</td></tr><tr><td>0</td><td>Map(vectorType -> dense, length -> 2, values -> List(-4.970788588463213, 1.3314006873626998))</td></tr><tr><td>1</td><td>Map(vectorType -> dense, length -> 2, values -> List(2.1750031061333353, -0.9580682603151646))</td></tr><tr><td>1</td><td>Map(vectorType -> dense, length -> 2, values -> List(2.429413826943072, -3.44417335730377))</td></tr><tr><td>1</td><td>Map(vectorType -> dense, length -> 2, values -> List(3.3650049292694186, 0.5624340150809102))</td></tr><tr><td>1</td><td>Map(vectorType -> dense, length -> 2, values -> List(1.205537044997321, 1.315886496793601))</td></tr><tr><td>1</td><td>Map(vectorType -> dense, length -> 2, values -> List(3.3231552224306244, -0.4747538482010823))</td></tr><tr><td>1</td><td>Map(vectorType -> dense, length -> 2, values -> List(1.9270997575978313, -1.460184988708072))</td></tr><tr><td>1</td><td>Map(vectorType -> dense, length -> 2, values -> List(4.038281827650134, 1.3557245619959968))</td></tr><tr><td>0</td><td>Map(vectorType -> dense, length -> 2, values -> List(-6.176848765923755, -5.103514894361796))</td></tr><tr><td>0</td><td>Map(vectorType -> dense, length -> 2, values -> List(-10.924685586759175, 3.699998471871134))</td></tr><tr><td>0</td><td>Map(vectorType -> dense, length -> 2, values -> List(-2.1166345166823373, -0.2963682967476071))</td></tr><tr><td>1</td><td>Map(vectorType -> dense, length -> 2, values -> List(3.0095468861563317, -0.243545681202486))</td></tr><tr><td>1</td><td>Map(vectorType -> dense, length -> 2, values -> List(0.9817847142179241, -0.7965515125202817))</td></tr><tr><td>1</td><td>Map(vectorType -> dense, length -> 2, values -> List(-0.35757923049032636, -2.125968004265042))</td></tr><tr><td>1</td><td>Map(vectorType -> dense, length -> 2, values -> List(3.191110025081194, 1.847526444761871))</td></tr><tr><td>1</td><td>Map(vectorType -> dense, length -> 2, values -> List(2.990601886844637, -1.6299580146726662))</td></tr><tr><td>1</td><td>Map(vectorType -> dense, length -> 2, values -> List(3.191106313310075, -0.5788301325936451))</td></tr><tr><td>1</td><td>Map(vectorType -> dense, length -> 2, values -> List(4.587924963183574, 2.7586997322892137))</td></tr><tr><td>1</td><td>Map(vectorType -> dense, length -> 2, values -> List(2.483730733194703, 1.1878941827853875))</td></tr><tr><td>1</td><td>Map(vectorType -> dense, length -> 2, values -> List(2.396556629015861, 0.2505243553016716))</td></tr><tr><td>1</td><td>Map(vectorType -> dense, length -> 2, values -> List(0.7789298236156389, 2.1224758723954773))</td></tr><tr><td>1</td><td>Map(vectorType -> dense, length -> 2, values -> List(3.137227995833936, 1.486714010385516))</td></tr><tr><td>0</td><td>Map(vectorType -> dense, length -> 2, values -> List(-2.7326073652576093, 3.9416999500655043))</td></tr><tr><td>0</td><td>Map(vectorType -> dense, length -> 2, values -> List(-6.221551679069684, 1.3888876163638892))</td></tr><tr><td>1</td><td>Map(vectorType -> dense, length -> 2, values -> List(2.221820777512973, 0.35684672329234746))</td></tr><tr><td>0</td><td>Map(vectorType -> dense, length -> 2, values -> List(-5.302474403497606, 6.717504287902137))</td></tr><tr><td>0</td><td>Map(vectorType -> dense, length -> 2, values -> List(-7.241629190977243, 3.6522555297061396))</td></tr><tr><td>0</td><td>Map(vectorType -> dense, length -> 2, values -> List(-4.203521962751312, -1.1752088219527228))</td></tr><tr><td>1</td><td>Map(vectorType -> dense, length -> 2, values -> List(2.4974388911606744, 2.016761089657906))</td></tr><tr><td>0</td><td>Map(vectorType -> dense, length -> 2, values -> List(-3.631819328529832, 1.9547209619987518))</td></tr><tr><td>0</td><td>Map(vectorType -> dense, length -> 2, values -> List(-3.516154429778133, 3.8552149374108557))</td></tr><tr><td>1</td><td>Map(vectorType -> dense, length -> 2, values -> List(2.6126494511410927, 1.101505250877788))</td></tr><tr><td>1</td><td>Map(vectorType -> dense, length -> 2, values -> List(0.09602362590836018, 0.12973343110973548))</td></tr><tr><td>1</td><td>Map(vectorType -> dense, length -> 2, values -> List(-2.0430592577934314, -6.421169886591277))</td></tr><tr><td>1</td><td>Map(vectorType -> dense, length -> 2, values -> List(3.0640534834955355, 2.1801773735430845))</td></tr><tr><td>1</td><td>Map(vectorType -> dense, length -> 2, values -> List(1.6021766967898312, -0.2923389949332684))</td></tr><tr><td>0</td><td>Map(vectorType -> dense, length -> 2, values -> List(-3.762621443878961, -5.980033549309579))</td></tr><tr><td>1</td><td>Map(vectorType -> dense, length -> 2, values -> List(0.9247529181246392, -2.3004572704552135))</td></tr><tr><td>1</td><td>Map(vectorType -> dense, length -> 2, values -> List(3.2854587367562074, -0.20113435938521462))</td></tr><tr><td>1</td><td>Map(vectorType -> dense, length -> 2, values -> List(1.5534852463993922, -0.9789963158207404))</td></tr><tr><td>1</td><td>Map(vectorType -> dense, length -> 2, values -> List(0.39842934176183803, -2.1593127242758463))</td></tr><tr><td>1</td><td>Map(vectorType -> dense, length -> 2, values -> List(2.2985453437371177, 0.9312581750160045))</td></tr><tr><td>0</td><td>Map(vectorType -> dense, length -> 2, values -> List(0.542424088151976, 1.3159100480444743))</td></tr><tr><td>1</td><td>Map(vectorType -> dense, length -> 2, values -> List(2.057009504309962, -0.32015344453125083))</td></tr><tr><td>1</td><td>Map(vectorType -> dense, length -> 2, values -> List(3.4215074893256583, 2.443368505138404))</td></tr><tr><td>1</td><td>Map(vectorType -> dense, length -> 2, values -> List(0.47199124930973096, -3.699574203312585))</td></tr><tr><td>0</td><td>Map(vectorType -> dense, length -> 2, values -> List(-4.699365785201365, 0.19578348601557083))</td></tr><tr><td>1</td><td>Map(vectorType -> dense, length -> 2, values -> List(3.640177266356688, -0.786168171276902))</td></tr><tr><td>1</td><td>Map(vectorType -> dense, length -> 2, values -> List(3.5915291765229544, -2.602797029692257))</td></tr><tr><td>0</td><td>Map(vectorType -> dense, length -> 2, values -> List(-4.145449783640533, -0.7668141287529167))</td></tr><tr><td>0</td><td>Map(vectorType -> dense, length -> 2, values -> List(-7.665396811495929, 0.8597276809314314))</td></tr><tr><td>1</td><td>Map(vectorType -> dense, length -> 2, values -> List(2.0086120468983655, -0.4293118113846647))</td></tr><tr><td>1</td><td>Map(vectorType -> dense, length -> 2, values -> List(2.9182657286307934, 1.6989775538427376))</td></tr><tr><td>1</td><td>Map(vectorType -> dense, length -> 2, values -> List(0.5002975911258666, -0.10663763480732191))</td></tr><tr><td>1</td><td>Map(vectorType -> dense, length -> 2, values -> List(1.909818136290534, 0.6508212257862362))</td></tr><tr><td>1</td><td>Map(vectorType -> dense, length -> 2, values -> List(3.7817716673916792, 0.3258596453595585))</td></tr><tr><td>1</td><td>Map(vectorType -> dense, length -> 2, values -> List(2.706012962066895, 0.2194726288777049))</td></tr><tr><td>0</td><td>Map(vectorType -> dense, length -> 2, values -> List(-6.284144085196279, -2.034757025450057))</td></tr><tr><td>1</td><td>Map(vectorType -> dense, length -> 2, values -> List(3.4277546285096903, 0.9917374104621859))</td></tr><tr><td>1</td><td>Map(vectorType -> dense, length -> 2, values -> List(1.9996290036610866, 0.29306859391553763))</td></tr><tr><td>1</td><td>Map(vectorType -> dense, length -> 2, values -> List(2.4711187702674877, 0.3347524795996754))</td></tr><tr><td>1</td><td>Map(vectorType -> dense, length -> 2, values -> List(3.6440513653380244, 1.2402738149716068))</td></tr><tr><td>1</td><td>Map(vectorType -> dense, length -> 2, values -> List(2.344124268696747, -0.6821411046260262))</td></tr><tr><td>1</td><td>Map(vectorType -> dense, length -> 2, values -> List(1.1419920938905654, 1.9604465077671769))</td></tr><tr><td>1</td><td>Map(vectorType -> dense, length -> 2, values -> List(1.349669736242352, -0.36924900183406884))</td></tr><tr><td>0</td><td>Map(vectorType -> dense, length -> 2, values -> List(-2.760941448865499, 1.0776852596095776))</td></tr><tr><td>1</td><td>Map(vectorType -> dense, length -> 2, values -> List(1.967592331203069, 0.17569391630596184))</td></tr><tr><td>1</td><td>Map(vectorType -> dense, length -> 2, values -> List(2.92861018720084, 0.49442119061084133))</td></tr><tr><td>1</td><td>Map(vectorType -> dense, length -> 2, values -> List(2.92380174883021, -0.3770005363916792))</td></tr><tr><td>1</td><td>Map(vectorType -> dense, length -> 2, values -> List(3.99267514417972, -0.9590122600837145))</td></tr><tr><td>1</td><td>Map(vectorType -> dense, length -> 2, values -> List(-0.1550016743349039, 0.437623165978837))</td></tr><tr><td>0</td><td>Map(vectorType -> dense, length -> 2, values -> List(0.9332696314803103, 2.104094210067527))</td></tr><tr><td>1</td><td>Map(vectorType -> dense, length -> 2, values -> List(1.927925359175412, -0.8916821038232392))</td></tr><tr><td>1</td><td>Map(vectorType -> dense, length -> 2, values -> List(2.6200332486414437, -2.499901967771065))</td></tr><tr><td>0</td><td>Map(vectorType -> dense, length -> 2, values -> List(-5.998338685657266, 0.09094919644802113))</td></tr><tr><td>1</td><td>Map(vectorType -> dense, length -> 2, values -> List(2.9193091202939803, 0.00920458204064542))</td></tr><tr><td>1</td><td>Map(vectorType -> dense, length -> 2, values -> List(3.3390068299273357, 0.022205192232515797))</td></tr><tr><td>1</td><td>Map(vectorType -> dense, length -> 2, values -> List(2.0131436791939663, -0.7777677776660812))</td></tr><tr><td>1</td><td>Map(vectorType -> dense, length -> 2, values -> List(-1.9867140066590794, -2.314011967419204))</td></tr><tr><td>1</td><td>Map(vectorType -> dense, length -> 2, values -> List(1.6681361466415952, -0.8615607699852146))</td></tr><tr><td>1</td><td>Map(vectorType -> dense, length -> 2, values -> List(0.37085180302599974, -0.11351277941469305))</td></tr><tr><td>1</td><td>Map(vectorType -> dense, length -> 2, values -> List(1.8473344702440129, -2.5389956007011905))</td></tr><tr><td>1</td><td>Map(vectorType -> dense, length -> 2, values -> List(4.6989076587167675, 0.4319223845700211))</td></tr><tr><td>1</td><td>Map(vectorType -> dense, length -> 2, values -> List(1.2820590739521003, -2.5486667521841357))</td></tr><tr><td>1</td><td>Map(vectorType -> dense, length -> 2, values -> List(2.312212316213461, -0.4016780429615857))</td></tr><tr><td>1</td><td>Map(vectorType -> dense, length -> 2, values -> List(4.654989276563036, 0.7816110211582356))</td></tr><tr><td>1</td><td>Map(vectorType -> dense, length -> 2, values -> List(3.940006591278556, 2.0282316570124226))</td></tr><tr><td>0</td><td>Map(vectorType -> dense, length -> 2, values -> List(-4.945506936786711, -3.003421434951423))</td></tr><tr><td>1</td><td>Map(vectorType -> dense, length -> 2, values -> List(0.914998417180693, -2.476833776056108))</td></tr><tr><td>0</td><td>Map(vectorType -> dense, length -> 2, values -> List(-4.545111927264468, 0.8152831423276554))</td></tr><tr><td>0</td><td>Map(vectorType -> dense, length -> 2, values -> List(-4.43843746105249, 0.9915664239722887))</td></tr><tr><td>1</td><td>Map(vectorType -> dense, length -> 2, values -> List(2.193054644119214, 1.8037661137139487))</td></tr><tr><td>0</td><td>Map(vectorType -> dense, length -> 2, values -> List(-0.6638567906972933, -0.43647680208109413))</td></tr><tr><td>1</td><td>Map(vectorType -> dense, length -> 2, values -> List(2.2389060523360547, 0.4541898722408363))</td></tr><tr><td>1</td><td>Map(vectorType -> dense, length -> 2, values -> List(2.123312146064986, 1.1937465406902616))</td></tr><tr><td>1</td><td>Map(vectorType -> dense, length -> 2, values -> List(2.613018230636058, 1.830449829701576))</td></tr><tr><td>1</td><td>Map(vectorType -> dense, length -> 2, values -> List(3.2081451461269004, 2.233177743167421))</td></tr><tr><td>1</td><td>Map(vectorType -> dense, length -> 2, values -> List(0.30648072797555426, -2.1830779549000954))</td></tr><tr><td>0</td><td>Map(vectorType -> dense, length -> 2, values -> List(-2.4701834157673517, 1.4985062241646343))</td></tr><tr><td>1</td><td>Map(vectorType -> dense, length -> 2, values -> List(3.4516812564733845, 2.134583339853946))</td></tr><tr><td>1</td><td>Map(vectorType -> dense, length -> 2, values -> List(3.897097812804002, -0.7301335297261968))</td></tr><tr><td>0</td><td>Map(vectorType -> dense, length -> 2, values -> List(-0.9808644845488861, 2.208486711616481))</td></tr><tr><td>1</td><td>Map(vectorType -> dense, length -> 2, values -> List(1.2561462947029458, -1.066752884858787))</td></tr><tr><td>0</td><td>Map(vectorType -> dense, length -> 2, values -> List(-3.2425605374516238, 1.7767952397711555))</td></tr><tr><td>1</td><td>Map(vectorType -> dense, length -> 2, values -> List(1.555850428173458, 1.0370146428298208))</td></tr><tr><td>1</td><td>Map(vectorType -> dense, length -> 2, values -> List(1.248159847609764, 1.5874420077235567))</td></tr><tr><td>0</td><td>Map(vectorType -> dense, length -> 2, values -> List(-4.327845296903541, 4.045772564967691))</td></tr><tr><td>1</td><td>Map(vectorType -> dense, length -> 2, values -> List(1.0765041197499041, -1.8020325644596087))</td></tr><tr><td>0</td><td>Map(vectorType -> dense, length -> 2, values -> List(-2.50954496723855, 2.526584455419936))</td></tr><tr><td>1</td><td>Map(vectorType -> dense, length -> 2, values -> List(2.2151432129344313, -0.029865010034000328))</td></tr><tr><td>1</td><td>Map(vectorType -> dense, length -> 2, values -> List(1.1727987075491468, 0.47442206362079425))</td></tr><tr><td>1</td><td>Map(vectorType -> dense, length -> 2, values -> List(2.833807992032256, 1.0172307504970854))</td></tr><tr><td>1</td><td>Map(vectorType -> dense, length -> 2, values -> List(1.855453295571189, 1.5700116743471624))</td></tr><tr><td>1</td><td>Map(vectorType -> dense, length -> 2, values -> List(1.3274463600967459, -0.7764124994109081))</td></tr><tr><td>1</td><td>Map(vectorType -> dense, length -> 2, values -> List(2.800307381480742, 1.664836753413479))</td></tr><tr><td>1</td><td>Map(vectorType -> dense, length -> 2, values -> List(3.1717779665128187, 2.073908798274623))</td></tr><tr><td>1</td><td>Map(vectorType -> dense, length -> 2, values -> List(4.083484325194264, 0.48428396052725586))</td></tr><tr><td>0</td><td>Map(vectorType -> dense, length -> 2, values -> List(-3.4724383684210407, 1.67141372334568))</td></tr><tr><td>0</td><td>Map(vectorType -> dense, length -> 2, values -> List(-16.304886649594216, 7.769016888373382))</td></tr><tr><td>1</td><td>Map(vectorType -> dense, length -> 2, values -> List(2.557864367016561, 2.4918528797022423))</td></tr><tr><td>1</td><td>Map(vectorType -> dense, length -> 2, values -> List(2.9662787832842827, 0.06878661072296705))</td></tr><tr><td>1</td><td>Map(vectorType -> dense, length -> 2, values -> List(2.755006335869314, 1.7923416963765513))</td></tr><tr><td>1</td><td>Map(vectorType -> dense, length -> 2, values -> List(-1.3691351808117749, -2.1081563937309458))</td></tr><tr><td>1</td><td>Map(vectorType -> dense, length -> 2, values -> List(0.4172973149060333, -0.11641726210993464))</td></tr><tr><td>1</td><td>Map(vectorType -> dense, length -> 2, values -> List(3.835024205957114, -0.898388161674005))</td></tr><tr><td>0</td><td>Map(vectorType -> dense, length -> 2, values -> List(-5.9257508235346075, -1.2272168607935359))</td></tr><tr><td>1</td><td>Map(vectorType -> dense, length -> 2, values -> List(-0.6449111936209141, -3.4229995421977764))</td></tr><tr><td>1</td><td>Map(vectorType -> dense, length -> 2, values -> List(2.6814869751157433, -1.4422864689137533))</td></tr><tr><td>1</td><td>Map(vectorType -> dense, length -> 2, values -> List(2.0398691822622053, 0.9024618581445207))</td></tr><tr><td>1</td><td>Map(vectorType -> dense, length -> 2, values -> List(1.398066199236754, 1.770668243981824))</td></tr><tr><td>1</td><td>Map(vectorType -> dense, length -> 2, values -> List(3.5333063582933635, 1.24575801773039))</td></tr><tr><td>1</td><td>Map(vectorType -> dense, length -> 2, values -> List(1.9887795302556113, -1.89779269317917))</td></tr><tr><td>1</td><td>Map(vectorType -> dense, length -> 2, values -> List(1.996428720313028, 0.20618971131568076))</td></tr><tr><td>1</td><td>Map(vectorType -> dense, length -> 2, values -> List(0.5202003908111569, 0.9725121025461498))</td></tr><tr><td>1</td><td>Map(vectorType -> dense, length -> 2, values -> List(3.1695815905766174, 2.0872157681880967))</td></tr><tr><td>1</td><td>Map(vectorType -> dense, length -> 2, values -> List(2.200773740164568, -1.2849087344346048))</td></tr><tr><td>0</td><td>Map(vectorType -> dense, length -> 2, values -> List(-3.821070903352409, -2.3032097346083917))</td></tr><tr><td>1</td><td>Map(vectorType -> dense, length -> 2, values -> List(2.982860087893478, 0.6727472975250199))</td></tr><tr><td>1</td><td>Map(vectorType -> dense, length -> 2, values -> List(2.4788739595090217, 2.361880554620532))</td></tr><tr><td>1</td><td>Map(vectorType -> dense, length -> 2, values -> List(1.2709931213159007, -0.5093856426258698))</td></tr><tr><td>1</td><td>Map(vectorType -> dense, length -> 2, values -> List(2.2331919146098254, 1.297562775248254))</td></tr><tr><td>1</td><td>Map(vectorType -> dense, length -> 2, values -> List(0.056133712562133314, 0.22718349542905497))</td></tr><tr><td>1</td><td>Map(vectorType -> dense, length -> 2, values -> List(-2.3153533394197727, -4.385275754541184))</td></tr><tr><td>1</td><td>Map(vectorType -> dense, length -> 2, values -> List(2.2823230571574515, 2.464672104779668))</td></tr><tr><td>0</td><td>Map(vectorType -> dense, length -> 2, values -> List(-4.750434988655813, 1.4881141767755597))</td></tr><tr><td>1</td><td>Map(vectorType -> dense, length -> 2, values -> List(1.7247932814230538, -0.9973003162547251))</td></tr><tr><td>0</td><td>Map(vectorType -> dense, length -> 2, values -> List(0.7411296510979193, 2.449879330556573))</td></tr><tr><td>1</td><td>Map(vectorType -> dense, length -> 2, values -> List(2.891766211587366, 0.977084587771863))</td></tr><tr><td>1</td><td>Map(vectorType -> dense, length -> 2, values -> List(1.6530673209399034, 4.551659142222769))</td></tr><tr><td>0</td><td>Map(vectorType -> dense, length -> 2, values -> List(-3.1007913344299807, 1.235066483028626))</td></tr><tr><td>1</td><td>Map(vectorType -> dense, length -> 2, values -> List(4.060697611933903, 0.5604610750609345))</td></tr><tr><td>1</td><td>Map(vectorType -> dense, length -> 2, values -> List(2.790874981685018, 1.076940538969515))</td></tr><tr><td>1</td><td>Map(vectorType -> dense, length -> 2, values -> List(1.4736233044459313, 1.5896954369820397))</td></tr><tr><td>1</td><td>Map(vectorType -> dense, length -> 2, values -> List(0.2291929713893269, -1.5145707554059142))</td></tr><tr><td>1</td><td>Map(vectorType -> dense, length -> 2, values -> List(2.551013784403687, 0.7632289241818467))</td></tr><tr><td>0</td><td>Map(vectorType -> dense, length -> 2, values -> List(-3.712438548894881, 1.0577555061741135))</td></tr><tr><td>0</td><td>Map(vectorType -> dense, length -> 2, values -> List(-5.0903628610901865, 2.017432705941421))</td></tr><tr><td>1</td><td>Map(vectorType -> dense, length -> 2, values -> List(0.6000880992881495, 0.8377175598703596))</td></tr><tr><td>0</td><td>Map(vectorType -> dense, length -> 2, values -> List(-2.7879467302084433, -3.382584454086203))</td></tr><tr><td>1</td><td>Map(vectorType -> dense, length -> 2, values -> List(1.4075327339711794, -1.5044468375239244))</td></tr><tr><td>0</td><td>Map(vectorType -> dense, length -> 2, values -> List(-7.252797143875283, 5.49090430233696))</td></tr><tr><td>1</td><td>Map(vectorType -> dense, length -> 2, values -> List(-1.2977246878630824, -7.7230573252406876))</td></tr><tr><td>1</td><td>Map(vectorType -> dense, length -> 2, values -> List(-1.0757467319114502, -8.28748333708094))</td></tr><tr><td>1</td><td>Map(vectorType -> dense, length -> 2, values -> List(1.2486618339884528, -1.5942810552468651))</td></tr><tr><td>1</td><td>Map(vectorType -> dense, length -> 2, values -> List(1.2558234134005026, -4.113567176044441))</td></tr><tr><td>1</td><td>Map(vectorType -> dense, length -> 2, values -> List(1.1655096888161074, 1.664229389288278))</td></tr><tr><td>0</td><td>Map(vectorType -> dense, length -> 2, values -> List(-4.090543310340465, -2.8004631372638533))</td></tr><tr><td>1</td><td>Map(vectorType -> dense, length -> 2, values -> List(1.8859797779694114, -1.670721679773254))</td></tr><tr><td>1</td><td>Map(vectorType -> dense, length -> 2, values -> List(2.7650027918677633, 2.1591489715386922))</td></tr><tr><td>0</td><td>Map(vectorType -> dense, length -> 2, values -> List(-2.2250366914743682, -1.939927827030339))</td></tr><tr><td>1</td><td>Map(vectorType -> dense, length -> 2, values -> List(1.130582097681733, 1.4097615238920558))</td></tr><tr><td>0</td><td>Map(vectorType -> dense, length -> 2, values -> List(0.7331273774331185, 1.9419884383163164))</td></tr><tr><td>1</td><td>Map(vectorType -> dense, length -> 2, values -> List(2.331619157745097, -0.7894519727749363))</td></tr><tr><td>0</td><td>Map(vectorType -> dense, length -> 2, values -> List(-2.6948525682230757, 1.9420011894412628))</td></tr><tr><td>0</td><td>Map(vectorType -> dense, length -> 2, values -> List(-3.3760441048029453, 2.331377578459931))</td></tr><tr><td>1</td><td>Map(vectorType -> dense, length -> 2, values -> List(0.19969486970744776, -1.0754137523919416))</td></tr><tr><td>1</td><td>Map(vectorType -> dense, length -> 2, values -> List(1.1749920441007746, -1.0104810609185944))</td></tr><tr><td>1</td><td>Map(vectorType -> dense, length -> 2, values -> List(1.2915001552911294, -4.95986054770475))</td></tr><tr><td>0</td><td>Map(vectorType -> dense, length -> 2, values -> List(-8.62316837995109, 3.4564106380793023))</td></tr><tr><td>1</td><td>Map(vectorType -> dense, length -> 2, values -> List(4.425562342734112, 0.7853450148775316))</td></tr><tr><td>1</td><td>Map(vectorType -> dense, length -> 2, values -> List(0.6192938271623817, -0.6357898420661944))</td></tr><tr><td>1</td><td>Map(vectorType -> dense, length -> 2, values -> List(3.249456589361688, -1.2847946773825833))</td></tr><tr><td>1</td><td>Map(vectorType -> dense, length -> 2, values -> List(3.3499794247879007, -2.6709504428938526))</td></tr><tr><td>1</td><td>Map(vectorType -> dense, length -> 2, values -> List(0.8590471150995695, -0.09676338102649315))</td></tr><tr><td>1</td><td>Map(vectorType -> dense, length -> 2, values -> List(3.153846915866264, 0.8707764321748559))</td></tr><tr><td>1</td><td>Map(vectorType -> dense, length -> 2, values -> List(-0.34622347304999, -1.5398703522206656))</td></tr><tr><td>1</td><td>Map(vectorType -> dense, length -> 2, values -> List(2.4592427765273936, -0.6003197511282811))</td></tr><tr><td>1</td><td>Map(vectorType -> dense, length -> 2, values -> List(1.5287555778359285, -0.4048615538044331))</td></tr><tr><td>1</td><td>Map(vectorType -> dense, length -> 2, values -> List(1.7720258700967124, -0.803503014434994))</td></tr><tr><td>1</td><td>Map(vectorType -> dense, length -> 2, values -> List(2.678085191313472, 1.4834036616823287))</td></tr><tr><td>0</td><td>Map(vectorType -> dense, length -> 2, values -> List(-4.0248937788414745, 2.9388442248977937))</td></tr><tr><td>1</td><td>Map(vectorType -> dense, length -> 2, values -> List(2.1344731172656486, -1.517245622815041))</td></tr><tr><td>0</td><td>Map(vectorType -> dense, length -> 2, values -> List(-5.160869926813539, 2.3801089865141543))</td></tr><tr><td>0</td><td>Map(vectorType -> dense, length -> 2, values -> List(-0.5354608003698782, -0.3803804509380937))</td></tr><tr><td>1</td><td>Map(vectorType -> dense, length -> 2, values -> List(-0.3428217359545053, -3.5313738153028877))</td></tr><tr><td>1</td><td>Map(vectorType -> dense, length -> 2, values -> List(4.193390244985366, -2.3653110586351427))</td></tr><tr><td>1</td><td>Map(vectorType -> dense, length -> 2, values -> List(1.1418271770489359, -5.594535868456152))</td></tr><tr><td>1</td><td>Map(vectorType -> dense, length -> 2, values -> List(1.664010998953224, -2.3875173612100076))</td></tr><tr><td>1</td><td>Map(vectorType -> dense, length -> 2, values -> List(-1.0108230779795002, -1.091429306814634))</td></tr><tr><td>1</td><td>Map(vectorType -> dense, length -> 2, values -> List(1.2997860372752292, 1.8198140572884016))</td></tr><tr><td>1</td><td>Map(vectorType -> dense, length -> 2, values -> List(2.3713421938590287, 1.6800979291229732))</td></tr><tr><td>1</td><td>Map(vectorType -> dense, length -> 2, values -> List(1.6644065095239404, 0.21377464094397797))</td></tr><tr><td>1</td><td>Map(vectorType -> dense, length -> 2, values -> List(1.9259835298962638, 1.1367397049354833))</td></tr><tr><td>1</td><td>Map(vectorType -> dense, length -> 2, values -> List(4.233491591622636, -0.18411049913664243))</td></tr><tr><td>1</td><td>Map(vectorType -> dense, length -> 2, values -> List(2.67551654832496, -2.313756960760067))</td></tr><tr><td>1</td><td>Map(vectorType -> dense, length -> 2, values -> List(3.8331251057796765, -0.4958136647931506))</td></tr><tr><td>1</td><td>Map(vectorType -> dense, length -> 2, values -> List(2.549197271080616, -0.22812922776495775))</td></tr><tr><td>1</td><td>Map(vectorType -> dense, length -> 2, values -> List(4.690796039132359, 0.7668032380496332))</td></tr><tr><td>1</td><td>Map(vectorType -> dense, length -> 2, values -> List(2.023256911330983, -1.2601331159344544))</td></tr><tr><td>1</td><td>Map(vectorType -> dense, length -> 2, values -> List(2.893402316494323, 1.4503596008448243))</td></tr><tr><td>1</td><td>Map(vectorType -> dense, length -> 2, values -> List(3.499122181891035, -1.7992493424731142))</td></tr><tr><td>1</td><td>Map(vectorType -> dense, length -> 2, values -> List(2.1520101253443116, 0.8293390875025686))</td></tr><tr><td>1</td><td>Map(vectorType -> dense, length -> 2, values -> List(2.053277400329513, -1.6150382046289566))</td></tr><tr><td>1</td><td>Map(vectorType -> dense, length -> 2, values -> List(3.87388097251528, -1.0833015533293562))</td></tr><tr><td>1</td><td>Map(vectorType -> dense, length -> 2, values -> List(4.060289488002569, -0.1220610343738378))</td></tr><tr><td>1</td><td>Map(vectorType -> dense, length -> 2, values -> List(0.09858059215940665, 0.21337209338157492))</td></tr><tr><td>1</td><td>Map(vectorType -> dense, length -> 2, values -> List(1.0884184965311121, -1.2917113284606192))</td></tr><tr><td>1</td><td>Map(vectorType -> dense, length -> 2, values -> List(0.48134742985143564, 0.17786319025918332))</td></tr><tr><td>1</td><td>Map(vectorType -> dense, length -> 2, values -> List(4.866027926474258, 2.1292326072497127))</td></tr><tr><td>0</td><td>Map(vectorType -> dense, length -> 2, values -> List(-5.912410291355404, -3.4795749998679417))</td></tr><tr><td>0</td><td>Map(vectorType -> dense, length -> 2, values -> List(-8.73365338296719, 0.5733501846849253))</td></tr><tr><td>0</td><td>Map(vectorType -> dense, length -> 2, values -> List(-6.4336545461706285, 3.573672988510644))</td></tr><tr><td>0</td><td>Map(vectorType -> dense, length -> 2, values -> List(-3.790047527744144, 3.580897052024049))</td></tr><tr><td>0</td><td>Map(vectorType -> dense, length -> 2, values -> List(-1.2550749425072116, 1.900624363993427))</td></tr><tr><td>0</td><td>Map(vectorType -> dense, length -> 2, values -> List(-10.365673359932295, -1.6705402060588808))</td></tr><tr><td>1</td><td>Map(vectorType -> dense, length -> 2, values -> List(5.470429900908385, 0.6700472198383458))</td></tr></tbody></table></div>"
      ]
     },
     "metadata": {
      "application/vnd.databricks.v1+output": {
       "addedWidgets": {},
       "aggData": [],
       "aggError": "",
       "aggOverflow": false,
       "aggSchema": [],
       "aggSeriesLimitReached": false,
       "aggType": "",
       "arguments": {},
       "columnCustomDisplayInfos": {},
       "data": [
        [
         "0",
         {
          "length": 2,
          "values": [
           -9.184755209858798,
           -1.9468700303852997
          ],
          "vectorType": "dense"
         }
        ],
        [
         "0",
         {
          "length": 2,
          "values": [
           -2.385702628982577,
           3.764859062972658
          ],
          "vectorType": "dense"
         }
        ],
        [
         "0",
         {
          "length": 2,
          "values": [
           -5.728855490819108,
           1.0742285887048915
          ],
          "vectorType": "dense"
         }
        ],
        [
         "0",
         {
          "length": 2,
          "values": [
           -7.116691259621306,
           -10.266555635124405
          ],
          "vectorType": "dense"
         }
        ],
        [
         "0",
         {
          "length": 2,
          "values": [
           -3.931842466790753,
           1.9463589770798275
          ],
          "vectorType": "dense"
         }
        ],
        [
         "0",
         {
          "length": 2,
          "values": [
           -2.3781546249740986,
           -3.9464564299158127
          ],
          "vectorType": "dense"
         }
        ],
        [
         "0",
         {
          "length": 2,
          "values": [
           -2.236915058609935,
           2.6876664141795787
          ],
          "vectorType": "dense"
         }
        ],
        [
         "0",
         {
          "length": 2,
          "values": [
           -2.1414142815514485,
           -2.3381866491831156
          ],
          "vectorType": "dense"
         }
        ],
        [
         "0",
         {
          "length": 2,
          "values": [
           -3.172133150308517,
           -3.3888311376864144
          ],
          "vectorType": "dense"
         }
        ],
        [
         "0",
         {
          "length": 2,
          "values": [
           -6.346162835225129,
           -7.720380945492959
          ],
          "vectorType": "dense"
         }
        ],
        [
         "0",
         {
          "length": 2,
          "values": [
           0.8097013190408896,
           2.656937672621719
          ],
          "vectorType": "dense"
         }
        ],
        [
         "0",
         {
          "length": 2,
          "values": [
           -2.6487698390097,
           -0.06650940530101429
          ],
          "vectorType": "dense"
         }
        ],
        [
         "0",
         {
          "length": 2,
          "values": [
           -8.177838822068551,
           -2.6986020073253876
          ],
          "vectorType": "dense"
         }
        ],
        [
         "0",
         {
          "length": 2,
          "values": [
           -0.34182514389774243,
           0.9674280261783395
          ],
          "vectorType": "dense"
         }
        ],
        [
         "0",
         {
          "length": 2,
          "values": [
           -4.338561717694848,
           -4.856809831831542
          ],
          "vectorType": "dense"
         }
        ],
        [
         "0",
         {
          "length": 2,
          "values": [
           -4.07207318021357,
           -2.9744439832196963
          ],
          "vectorType": "dense"
         }
        ],
        [
         "0",
         {
          "length": 2,
          "values": [
           -0.22985276950326078,
           1.563382113820491
          ],
          "vectorType": "dense"
         }
        ],
        [
         "0",
         {
          "length": 2,
          "values": [
           -4.414126949591796,
           -1.4174231504677404
          ],
          "vectorType": "dense"
         }
        ],
        [
         "0",
         {
          "length": 2,
          "values": [
           -4.944353041108302,
           4.110716527760167
          ],
          "vectorType": "dense"
         }
        ],
        [
         "1",
         {
          "length": 2,
          "values": [
           1.235975828519116,
           0.18804949002889026
          ],
          "vectorType": "dense"
         }
        ],
        [
         "1",
         {
          "length": 2,
          "values": [
           1.5767738400518536,
           -0.5723046247698896
          ],
          "vectorType": "dense"
         }
        ],
        [
         "1",
         {
          "length": 2,
          "values": [
           3.5542090442654697,
           -1.6614879693604343
          ],
          "vectorType": "dense"
         }
        ],
        [
         "0",
         {
          "length": 2,
          "values": [
           -4.729049722976225,
           -3.3020582651138817
          ],
          "vectorType": "dense"
         }
        ],
        [
         "0",
         {
          "length": 2,
          "values": [
           -4.204824406832293,
           5.123858058987457
          ],
          "vectorType": "dense"
         }
        ],
        [
         "0",
         {
          "length": 2,
          "values": [
           -4.945280748242438,
           1.5423951430023812
          ],
          "vectorType": "dense"
         }
        ],
        [
         "0",
         {
          "length": 2,
          "values": [
           -7.092322358888266,
           -2.0168357342714707
          ],
          "vectorType": "dense"
         }
        ],
        [
         "0",
         {
          "length": 2,
          "values": [
           -3.5071766582289667,
           -2.1697159942950077
          ],
          "vectorType": "dense"
         }
        ],
        [
         "0",
         {
          "length": 2,
          "values": [
           -3.061360211796454,
           1.874902631018983
          ],
          "vectorType": "dense"
         }
        ],
        [
         "0",
         {
          "length": 2,
          "values": [
           -4.003741273398027,
           -0.5367698596377992
          ],
          "vectorType": "dense"
         }
        ],
        [
         "0",
         {
          "length": 2,
          "values": [
           -1.7138017616568975,
           1.5223655018101776
          ],
          "vectorType": "dense"
         }
        ],
        [
         "0",
         {
          "length": 2,
          "values": [
           -6.0541185274085345,
           0.7565118002441548
          ],
          "vectorType": "dense"
         }
        ],
        [
         "0",
         {
          "length": 2,
          "values": [
           -2.899684688150535,
           -4.001774372782243
          ],
          "vectorType": "dense"
         }
        ],
        [
         "0",
         {
          "length": 2,
          "values": [
           -4.550778483480172,
           -0.33723941876735425
          ],
          "vectorType": "dense"
         }
        ],
        [
         "0",
         {
          "length": 2,
          "values": [
           -4.98621537857523,
           1.1315932229451566
          ],
          "vectorType": "dense"
         }
        ],
        [
         "0",
         {
          "length": 2,
          "values": [
           -2.9827163130446697,
           -0.7577564966701601
          ],
          "vectorType": "dense"
         }
        ],
        [
         "0",
         {
          "length": 2,
          "values": [
           -2.7639371844217004,
           0.3540444207048967
          ],
          "vectorType": "dense"
         }
        ],
        [
         "0",
         {
          "length": 2,
          "values": [
           -1.295059249402728,
           -0.9123934661705099
          ],
          "vectorType": "dense"
         }
        ],
        [
         "1",
         {
          "length": 2,
          "values": [
           3.746017295612612,
           1.4122305036725344
          ],
          "vectorType": "dense"
         }
        ],
        [
         "0",
         {
          "length": 2,
          "values": [
           0.9971914775009062,
           3.3483467310234842
          ],
          "vectorType": "dense"
         }
        ],
        [
         "0",
         {
          "length": 2,
          "values": [
           -0.764591355604326,
           -0.8854648371667375
          ],
          "vectorType": "dense"
         }
        ],
        [
         "0",
         {
          "length": 2,
          "values": [
           2.149062522258757,
           1.922300194308556
          ],
          "vectorType": "dense"
         }
        ],
        [
         "0",
         {
          "length": 2,
          "values": [
           0.09324933698075474,
           -2.2587645315178184
          ],
          "vectorType": "dense"
         }
        ],
        [
         "0",
         {
          "length": 2,
          "values": [
           -9.080010225451238,
           -2.016898441324291
          ],
          "vectorType": "dense"
         }
        ],
        [
         "0",
         {
          "length": 2,
          "values": [
           -0.9895830367496765,
           -0.9840641476689251
          ],
          "vectorType": "dense"
         }
        ],
        [
         "0",
         {
          "length": 2,
          "values": [
           0.2932884879762997,
           0.13697856412444143
          ],
          "vectorType": "dense"
         }
        ],
        [
         "0",
         {
          "length": 2,
          "values": [
           -5.376209908961654,
           0.13475840449503856
          ],
          "vectorType": "dense"
         }
        ],
        [
         "1",
         {
          "length": 2,
          "values": [
           4.577908595212511,
           -1.4829155084495484
          ],
          "vectorType": "dense"
         }
        ],
        [
         "0",
         {
          "length": 2,
          "values": [
           -1.6985123749994018,
           -2.350203862012345
          ],
          "vectorType": "dense"
         }
        ],
        [
         "1",
         {
          "length": 2,
          "values": [
           2.1345670832706904,
           -0.09574536366108702
          ],
          "vectorType": "dense"
         }
        ],
        [
         "1",
         {
          "length": 2,
          "values": [
           1.566100993427759,
           1.2073708547187902
          ],
          "vectorType": "dense"
         }
        ],
        [
         "1",
         {
          "length": 2,
          "values": [
           3.539790914613369,
           1.281368109614397
          ],
          "vectorType": "dense"
         }
        ],
        [
         "1",
         {
          "length": 2,
          "values": [
           3.155037949380859,
           1.6874737964866235
          ],
          "vectorType": "dense"
         }
        ],
        [
         "1",
         {
          "length": 2,
          "values": [
           3.4474551464077874,
           0.49778071959150105
          ],
          "vectorType": "dense"
         }
        ],
        [
         "0",
         {
          "length": 2,
          "values": [
           -3.2996476093220637,
           1.1299435737147892
          ],
          "vectorType": "dense"
         }
        ],
        [
         "0",
         {
          "length": 2,
          "values": [
           0.6740262135577757,
           2.114549136533497
          ],
          "vectorType": "dense"
         }
        ],
        [
         "1",
         {
          "length": 2,
          "values": [
           2.8556457728003637,
           -0.15258887411272043
          ],
          "vectorType": "dense"
         }
        ],
        [
         "0",
         {
          "length": 2,
          "values": [
           -4.644652068242386,
           2.3083015082587246
          ],
          "vectorType": "dense"
         }
        ],
        [
         "0",
         {
          "length": 2,
          "values": [
           -2.174949156248412,
           -0.9712614383238205
          ],
          "vectorType": "dense"
         }
        ],
        [
         "1",
         {
          "length": 2,
          "values": [
           3.718187379898406,
           1.7860700970608108
          ],
          "vectorType": "dense"
         }
        ],
        [
         "1",
         {
          "length": 2,
          "values": [
           4.132326931707893,
           -2.4016792608874233
          ],
          "vectorType": "dense"
         }
        ],
        [
         "1",
         {
          "length": 2,
          "values": [
           2.383738224783428,
           -2.7552338144184616
          ],
          "vectorType": "dense"
         }
        ],
        [
         "1",
         {
          "length": 2,
          "values": [
           2.5766161014186637,
           -3.1359126501904933
          ],
          "vectorType": "dense"
         }
        ],
        [
         "0",
         {
          "length": 2,
          "values": [
           -4.7549283181968045,
           -3.0090328746490678
          ],
          "vectorType": "dense"
         }
        ],
        [
         "1",
         {
          "length": 2,
          "values": [
           2.3120978470008,
           -3.2651167207221268
          ],
          "vectorType": "dense"
         }
        ],
        [
         "0",
         {
          "length": 2,
          "values": [
           -1.690120795036984,
           -1.5393221159132306
          ],
          "vectorType": "dense"
         }
        ],
        [
         "0",
         {
          "length": 2,
          "values": [
           -1.8107121691780637,
           -0.7221048150632118
          ],
          "vectorType": "dense"
         }
        ],
        [
         "1",
         {
          "length": 2,
          "values": [
           2.7834755915717917,
           -2.308617372387838
          ],
          "vectorType": "dense"
         }
        ],
        [
         "1",
         {
          "length": 2,
          "values": [
           3.5155550218280442,
           0.657730735549507
          ],
          "vectorType": "dense"
         }
        ],
        [
         "1",
         {
          "length": 2,
          "values": [
           -4.326196052613209,
           -9.194435551699886
          ],
          "vectorType": "dense"
         }
        ],
        [
         "1",
         {
          "length": 2,
          "values": [
           3.2584124133410364,
           0.9370136471243264
          ],
          "vectorType": "dense"
         }
        ],
        [
         "0",
         {
          "length": 2,
          "values": [
           -2.702218505205821,
           4.433240984891397
          ],
          "vectorType": "dense"
         }
        ],
        [
         "1",
         {
          "length": 2,
          "values": [
           0.3075851279890566,
           -7.381317395929899
          ],
          "vectorType": "dense"
         }
        ],
        [
         "0",
         {
          "length": 2,
          "values": [
           -5.498866892103152,
           -0.9375005134764515
          ],
          "vectorType": "dense"
         }
        ],
        [
         "0",
         {
          "length": 2,
          "values": [
           0.36139120652866014,
           -0.1196338211958474
          ],
          "vectorType": "dense"
         }
        ],
        [
         "1",
         {
          "length": 2,
          "values": [
           2.627664570741694,
           0.6966963492687757
          ],
          "vectorType": "dense"
         }
        ],
        [
         "0",
         {
          "length": 2,
          "values": [
           -1.4269120607028623,
           1.9653720916439372
          ],
          "vectorType": "dense"
         }
        ],
        [
         "1",
         {
          "length": 2,
          "values": [
           0.8337842392556142,
           -1.9638768597292673
          ],
          "vectorType": "dense"
         }
        ],
        [
         "0",
         {
          "length": 2,
          "values": [
           -6.225418799624563,
           -0.9192606901744491
          ],
          "vectorType": "dense"
         }
        ],
        [
         "0",
         {
          "length": 2,
          "values": [
           -11.658456435666892,
           -4.7444425930734235
          ],
          "vectorType": "dense"
         }
        ],
        [
         "1",
         {
          "length": 2,
          "values": [
           2.0198004469637176,
           0.25467574616148353
          ],
          "vectorType": "dense"
         }
        ],
        [
         "1",
         {
          "length": 2,
          "values": [
           1.6369445986800977,
           -1.7144405868911354
          ],
          "vectorType": "dense"
         }
        ],
        [
         "1",
         {
          "length": 2,
          "values": [
           -1.1664352709963526,
           -2.5123052861935284
          ],
          "vectorType": "dense"
         }
        ],
        [
         "0",
         {
          "length": 2,
          "values": [
           -10.759775351229562,
           2.25599785781172
          ],
          "vectorType": "dense"
         }
        ],
        [
         "0",
         {
          "length": 2,
          "values": [
           -5.030384877079519,
           -0.7737283569771864
          ],
          "vectorType": "dense"
         }
        ],
        [
         "1",
         {
          "length": 2,
          "values": [
           2.1725526922012715,
           -0.496441168924977
          ],
          "vectorType": "dense"
         }
        ],
        [
         "0",
         {
          "length": 2,
          "values": [
           -3.285344627777663,
           1.6667704797343097
          ],
          "vectorType": "dense"
         }
        ],
        [
         "0",
         {
          "length": 2,
          "values": [
           -0.607073784243589,
           -0.16207191874894683
          ],
          "vectorType": "dense"
         }
        ],
        [
         "0",
         {
          "length": 2,
          "values": [
           -3.5804132398493693,
           2.2047219162839213
          ],
          "vectorType": "dense"
         }
        ],
        [
         "1",
         {
          "length": 2,
          "values": [
           0.9333368663416973,
           -0.9268859190310914
          ],
          "vectorType": "dense"
         }
        ],
        [
         "1",
         {
          "length": 2,
          "values": [
           -1.2584973023904544,
           -1.014684255071954
          ],
          "vectorType": "dense"
         }
        ],
        [
         "1",
         {
          "length": 2,
          "values": [
           1.5868676958892003,
           1.6182329540103404
          ],
          "vectorType": "dense"
         }
        ],
        [
         "0",
         {
          "length": 2,
          "values": [
           -0.2522755916003695,
           0.530884424915292
          ],
          "vectorType": "dense"
         }
        ],
        [
         "1",
         {
          "length": 2,
          "values": [
           2.844928349652454,
           2.8911037319207855
          ],
          "vectorType": "dense"
         }
        ],
        [
         "1",
         {
          "length": 2,
          "values": [
           1.9632226839332967,
           0.9643084982548302
          ],
          "vectorType": "dense"
         }
        ],
        [
         "0",
         {
          "length": 2,
          "values": [
           -2.773425247151511,
           -0.557509976757413
          ],
          "vectorType": "dense"
         }
        ],
        [
         "0",
         {
          "length": 2,
          "values": [
           -4.392363138171209,
           2.1216408918292844
          ],
          "vectorType": "dense"
         }
        ],
        [
         "1",
         {
          "length": 2,
          "values": [
           2.589804073230505,
           -0.21344611982789297
          ],
          "vectorType": "dense"
         }
        ],
        [
         "1",
         {
          "length": 2,
          "values": [
           3.900905764302463,
           -1.1890204211664386
          ],
          "vectorType": "dense"
         }
        ],
        [
         "1",
         {
          "length": 2,
          "values": [
           2.8157536467617743,
           -0.36756056672604126
          ],
          "vectorType": "dense"
         }
        ],
        [
         "0",
         {
          "length": 2,
          "values": [
           -0.6157390843403041,
           -0.6383499883109449
          ],
          "vectorType": "dense"
         }
        ],
        [
         "0",
         {
          "length": 2,
          "values": [
           0.43247968428512473,
           1.390820523329051
          ],
          "vectorType": "dense"
         }
        ],
        [
         "1",
         {
          "length": 2,
          "values": [
           4.551024418715486,
           -3.5256837878131457
          ],
          "vectorType": "dense"
         }
        ],
        [
         "1",
         {
          "length": 2,
          "values": [
           3.445152170485421,
           1.4233700401235052
          ],
          "vectorType": "dense"
         }
        ],
        [
         "1",
         {
          "length": 2,
          "values": [
           2.1141000788234177,
           -1.8477477817558619
          ],
          "vectorType": "dense"
         }
        ],
        [
         "1",
         {
          "length": 2,
          "values": [
           2.688986180588338,
           -1.4188133337752493
          ],
          "vectorType": "dense"
         }
        ],
        [
         "0",
         {
          "length": 2,
          "values": [
           -3.2110913432991848,
           -4.043198634073635
          ],
          "vectorType": "dense"
         }
        ],
        [
         "1",
         {
          "length": 2,
          "values": [
           0.7486126561287516,
           -1.7960581752732854
          ],
          "vectorType": "dense"
         }
        ],
        [
         "1",
         {
          "length": 2,
          "values": [
           3.1562288887130996,
           1.0348388776990332
          ],
          "vectorType": "dense"
         }
        ],
        [
         "0",
         {
          "length": 2,
          "values": [
           -13.044643947118486,
           -0.9806503574605676
          ],
          "vectorType": "dense"
         }
        ],
        [
         "1",
         {
          "length": 2,
          "values": [
           2.2267205341066245,
           -0.6668239016416191
          ],
          "vectorType": "dense"
         }
        ],
        [
         "1",
         {
          "length": 2,
          "values": [
           2.4906395353764794,
           -2.5964017081976385
          ],
          "vectorType": "dense"
         }
        ],
        [
         "1",
         {
          "length": 2,
          "values": [
           0.10325956887870977,
           -2.2781390146787253
          ],
          "vectorType": "dense"
         }
        ],
        [
         "1",
         {
          "length": 2,
          "values": [
           -3.5881369364374964,
           -3.9228814330897817
          ],
          "vectorType": "dense"
         }
        ],
        [
         "1",
         {
          "length": 2,
          "values": [
           1.3477627936910612,
           -3.553098748124878
          ],
          "vectorType": "dense"
         }
        ],
        [
         "1",
         {
          "length": 2,
          "values": [
           2.507910978274425,
           -3.248461200088754
          ],
          "vectorType": "dense"
         }
        ],
        [
         "1",
         {
          "length": 2,
          "values": [
           2.0442308647877296,
           -0.3046168360404698
          ],
          "vectorType": "dense"
         }
        ],
        [
         "1",
         {
          "length": 2,
          "values": [
           2.0952255918005553,
           -3.6638720623651575
          ],
          "vectorType": "dense"
         }
        ],
        [
         "0",
         {
          "length": 2,
          "values": [
           -3.1077931629832842,
           -1.5680098728032148
          ],
          "vectorType": "dense"
         }
        ],
        [
         "0",
         {
          "length": 2,
          "values": [
           -4.952368008219316,
           -2.382749650207092
          ],
          "vectorType": "dense"
         }
        ],
        [
         "0",
         {
          "length": 2,
          "values": [
           -0.8502661181133304,
           2.304707467911811
          ],
          "vectorType": "dense"
         }
        ],
        [
         "1",
         {
          "length": 2,
          "values": [
           2.9633917342885567,
           -0.37117988308380523
          ],
          "vectorType": "dense"
         }
        ],
        [
         "0",
         {
          "length": 2,
          "values": [
           -3.331202091345631,
           1.3243920287519007
          ],
          "vectorType": "dense"
         }
        ],
        [
         "0",
         {
          "length": 2,
          "values": [
           -12.8832762090226,
           -2.314585872823187
          ],
          "vectorType": "dense"
         }
        ],
        [
         "1",
         {
          "length": 2,
          "values": [
           0.770066100541669,
           0.06405286022784357
          ],
          "vectorType": "dense"
         }
        ],
        [
         "1",
         {
          "length": 2,
          "values": [
           2.200579246024579,
           0.7349585441539866
          ],
          "vectorType": "dense"
         }
        ],
        [
         "1",
         {
          "length": 2,
          "values": [
           3.1406488057317365,
           1.8757585568762567
          ],
          "vectorType": "dense"
         }
        ],
        [
         "0",
         {
          "length": 2,
          "values": [
           0.6383188466749707,
           0.9105648277387001
          ],
          "vectorType": "dense"
         }
        ],
        [
         "0",
         {
          "length": 2,
          "values": [
           -1.9174462720607244,
           3.534971965704516
          ],
          "vectorType": "dense"
         }
        ],
        [
         "1",
         {
          "length": 2,
          "values": [
           -1.4076297975592051,
           -1.303782215446646
          ],
          "vectorType": "dense"
         }
        ],
        [
         "0",
         {
          "length": 2,
          "values": [
           -4.639608949805652,
           1.480714296902346
          ],
          "vectorType": "dense"
         }
        ],
        [
         "1",
         {
          "length": 2,
          "values": [
           1.875816842535797,
           -1.4219794520209585
          ],
          "vectorType": "dense"
         }
        ],
        [
         "0",
         {
          "length": 2,
          "values": [
           -1.4308104644206412,
           1.0486812201637816
          ],
          "vectorType": "dense"
         }
        ],
        [
         "0",
         {
          "length": 2,
          "values": [
           -1.3514379025047487,
           1.1531268416676224
          ],
          "vectorType": "dense"
         }
        ],
        [
         "1",
         {
          "length": 2,
          "values": [
           0.7084914339488595,
           1.5668536574634873
          ],
          "vectorType": "dense"
         }
        ],
        [
         "0",
         {
          "length": 2,
          "values": [
           -2.16950708077604,
           2.823776100829295
          ],
          "vectorType": "dense"
         }
        ],
        [
         "0",
         {
          "length": 2,
          "values": [
           1.9751024733516598,
           0.4190187545862016
          ],
          "vectorType": "dense"
         }
        ],
        [
         "1",
         {
          "length": 2,
          "values": [
           2.59850309522373,
           0.48191143623214344
          ],
          "vectorType": "dense"
         }
        ],
        [
         "1",
         {
          "length": 2,
          "values": [
           3.2551431766212113,
           0.417953650542393
          ],
          "vectorType": "dense"
         }
        ],
        [
         "0",
         {
          "length": 2,
          "values": [
           -3.778701596515092,
           -0.8596252179512075
          ],
          "vectorType": "dense"
         }
        ],
        [
         "1",
         {
          "length": 2,
          "values": [
           1.9902834824907458,
           -1.3281865083916466
          ],
          "vectorType": "dense"
         }
        ],
        [
         "1",
         {
          "length": 2,
          "values": [
           5.010599890275268,
           -0.5741947482063134
          ],
          "vectorType": "dense"
         }
        ],
        [
         "0",
         {
          "length": 2,
          "values": [
           -1.3438380019594123,
           1.2736502780620558
          ],
          "vectorType": "dense"
         }
        ],
        [
         "1",
         {
          "length": 2,
          "values": [
           2.4538097168107567,
           -0.8976654414043106
          ],
          "vectorType": "dense"
         }
        ],
        [
         "1",
         {
          "length": 2,
          "values": [
           1.8356664765287183,
           0.09094674191163107
          ],
          "vectorType": "dense"
         }
        ],
        [
         "1",
         {
          "length": 2,
          "values": [
           4.342668621633104,
           0.8927867080020948
          ],
          "vectorType": "dense"
         }
        ],
        [
         "1",
         {
          "length": 2,
          "values": [
           0.7321686848841821,
           -3.698927716334959
          ],
          "vectorType": "dense"
         }
        ],
        [
         "0",
         {
          "length": 2,
          "values": [
           -2.3978879545325613,
           -4.8337356419503745
          ],
          "vectorType": "dense"
         }
        ],
        [
         "1",
         {
          "length": 2,
          "values": [
           -0.3927530826218365,
           -1.0821159150961952
          ],
          "vectorType": "dense"
         }
        ],
        [
         "1",
         {
          "length": 2,
          "values": [
           0.41196532673628217,
           0.389288784006076
          ],
          "vectorType": "dense"
         }
        ],
        [
         "1",
         {
          "length": 2,
          "values": [
           3.0472436872382715,
           2.235817238795145
          ],
          "vectorType": "dense"
         }
        ],
        [
         "1",
         {
          "length": 2,
          "values": [
           1.4412955434660437,
           -0.305601552317848
          ],
          "vectorType": "dense"
         }
        ],
        [
         "1",
         {
          "length": 2,
          "values": [
           -0.08311297195894712,
           -7.144073768197734
          ],
          "vectorType": "dense"
         }
        ],
        [
         "1",
         {
          "length": 2,
          "values": [
           -7.087070838949417,
           -12.562140868978332
          ],
          "vectorType": "dense"
         }
        ],
        [
         "1",
         {
          "length": 2,
          "values": [
           3.7401136372673087,
           -0.2502813056021372
          ],
          "vectorType": "dense"
         }
        ],
        [
         "1",
         {
          "length": 2,
          "values": [
           0.9683207941410804,
           -0.9441135819226691
          ],
          "vectorType": "dense"
         }
        ],
        [
         "1",
         {
          "length": 2,
          "values": [
           2.416593560539964,
           -0.005547531739681007
          ],
          "vectorType": "dense"
         }
        ],
        [
         "0",
         {
          "length": 2,
          "values": [
           -4.0971826377870375,
           0.3784708057605489
          ],
          "vectorType": "dense"
         }
        ],
        [
         "1",
         {
          "length": 2,
          "values": [
           0.7509422555127223,
           3.0679491866145
          ],
          "vectorType": "dense"
         }
        ],
        [
         "1",
         {
          "length": 2,
          "values": [
           3.651433651563705,
           0.6740556439403642
          ],
          "vectorType": "dense"
         }
        ],
        [
         "1",
         {
          "length": 2,
          "values": [
           4.676097103502341,
           1.10288682345121
          ],
          "vectorType": "dense"
         }
        ],
        [
         "1",
         {
          "length": 2,
          "values": [
           0.5972562440800077,
           -1.7840810718355007
          ],
          "vectorType": "dense"
         }
        ],
        [
         "0",
         {
          "length": 2,
          "values": [
           -3.384352890865804,
           2.908477953178305
          ],
          "vectorType": "dense"
         }
        ],
        [
         "0",
         {
          "length": 2,
          "values": [
           -6.144479695567227,
           2.0158789937746477
          ],
          "vectorType": "dense"
         }
        ],
        [
         "1",
         {
          "length": 2,
          "values": [
           1.3238664840948287,
           -1.468002337228917
          ],
          "vectorType": "dense"
         }
        ],
        [
         "0",
         {
          "length": 2,
          "values": [
           -5.489322772303608,
           4.162167037247703
          ],
          "vectorType": "dense"
         }
        ],
        [
         "1",
         {
          "length": 2,
          "values": [
           2.9947681268795883,
           2.7364532614587054
          ],
          "vectorType": "dense"
         }
        ],
        [
         "1",
         {
          "length": 2,
          "values": [
           4.382876252034909,
           -0.006866239711844024
          ],
          "vectorType": "dense"
         }
        ],
        [
         "0",
         {
          "length": 2,
          "values": [
           -1.2125676804145147,
           2.0372463953120428
          ],
          "vectorType": "dense"
         }
        ],
        [
         "0",
         {
          "length": 2,
          "values": [
           -5.065204235707061,
           1.783582969267652
          ],
          "vectorType": "dense"
         }
        ],
        [
         "1",
         {
          "length": 2,
          "values": [
           1.9759628006688976,
           1.84115939446237
          ],
          "vectorType": "dense"
         }
        ],
        [
         "1",
         {
          "length": 2,
          "values": [
           2.512665538094374,
           -0.11415185728328553
          ],
          "vectorType": "dense"
         }
        ],
        [
         "0",
         {
          "length": 2,
          "values": [
           0.9466549351985862,
           1.6832724441193998
          ],
          "vectorType": "dense"
         }
        ],
        [
         "0",
         {
          "length": 2,
          "values": [
           -2.8168897774102652,
           -1.2639909533709472
          ],
          "vectorType": "dense"
         }
        ],
        [
         "1",
         {
          "length": 2,
          "values": [
           3.4809234523308104,
           -1.6182680772420517
          ],
          "vectorType": "dense"
         }
        ],
        [
         "1",
         {
          "length": 2,
          "values": [
           4.654633990732292,
           0.2227188459265475
          ],
          "vectorType": "dense"
         }
        ],
        [
         "1",
         {
          "length": 2,
          "values": [
           5.346913394805295,
           -1.0258552141595594
          ],
          "vectorType": "dense"
         }
        ],
        [
         "1",
         {
          "length": 2,
          "values": [
           -1.1698684180216836,
           -7.008319995898495
          ],
          "vectorType": "dense"
         }
        ],
        [
         "0",
         {
          "length": 2,
          "values": [
           -2.953702919945471,
           -0.7058008217765863
          ],
          "vectorType": "dense"
         }
        ],
        [
         "1",
         {
          "length": 2,
          "values": [
           4.971327817743079,
           3.3832279834158325
          ],
          "vectorType": "dense"
         }
        ],
        [
         "1",
         {
          "length": 2,
          "values": [
           4.060452888239647,
           1.2450706432840835
          ],
          "vectorType": "dense"
         }
        ],
        [
         "0",
         {
          "length": 2,
          "values": [
           -9.504307055873683,
           5.598558051824166
          ],
          "vectorType": "dense"
         }
        ],
        [
         "0",
         {
          "length": 2,
          "values": [
           -8.99924713748581,
           -0.5805202806336891
          ],
          "vectorType": "dense"
         }
        ],
        [
         "0",
         {
          "length": 2,
          "values": [
           -0.7582113387114503,
           1.6071184807982521
          ],
          "vectorType": "dense"
         }
        ],
        [
         "1",
         {
          "length": 2,
          "values": [
           2.657021716338433,
           -0.5394611319693707
          ],
          "vectorType": "dense"
         }
        ],
        [
         "0",
         {
          "length": 2,
          "values": [
           0.3896761071631376,
           0.9883726891537293
          ],
          "vectorType": "dense"
         }
        ],
        [
         "1",
         {
          "length": 2,
          "values": [
           3.8856465678206793,
           -0.8153542849565183
          ],
          "vectorType": "dense"
         }
        ],
        [
         "0",
         {
          "length": 2,
          "values": [
           -0.3645553815353931,
           3.5713188418258013
          ],
          "vectorType": "dense"
         }
        ],
        [
         "1",
         {
          "length": 2,
          "values": [
           2.8333978267575493,
           0.39837916234531845
          ],
          "vectorType": "dense"
         }
        ],
        [
         "1",
         {
          "length": 2,
          "values": [
           3.307373480730301,
           -0.1556042796224762
          ],
          "vectorType": "dense"
         }
        ],
        [
         "1",
         {
          "length": 2,
          "values": [
           3.3543529255868116,
           1.1027621091603794
          ],
          "vectorType": "dense"
         }
        ],
        [
         "0",
         {
          "length": 2,
          "values": [
           -6.517382011166436,
           -8.004126823765688
          ],
          "vectorType": "dense"
         }
        ],
        [
         "1",
         {
          "length": 2,
          "values": [
           1.716225078957832,
           0.5426880190282252
          ],
          "vectorType": "dense"
         }
        ],
        [
         "1",
         {
          "length": 2,
          "values": [
           5.560842943398813,
           0.4774274929424864
          ],
          "vectorType": "dense"
         }
        ],
        [
         "0",
         {
          "length": 2,
          "values": [
           -1.7780969513569727,
           -2.7741462134520165
          ],
          "vectorType": "dense"
         }
        ],
        [
         "0",
         {
          "length": 2,
          "values": [
           -2.6091890818216363,
           -1.5600490304583217
          ],
          "vectorType": "dense"
         }
        ],
        [
         "1",
         {
          "length": 2,
          "values": [
           2.81656023352004,
           0.9692577223481751
          ],
          "vectorType": "dense"
         }
        ],
        [
         "0",
         {
          "length": 2,
          "values": [
           -2.4962424475167926,
           -2.276479789862448
          ],
          "vectorType": "dense"
         }
        ],
        [
         "0",
         {
          "length": 2,
          "values": [
           -1.275904513829326,
           2.4411110438899812
          ],
          "vectorType": "dense"
         }
        ],
        [
         "0",
         {
          "length": 2,
          "values": [
           -3.470143981958466,
           2.275846405119393
          ],
          "vectorType": "dense"
         }
        ],
        [
         "0",
         {
          "length": 2,
          "values": [
           -1.2555703424425486,
           -0.38205709440413826
          ],
          "vectorType": "dense"
         }
        ],
        [
         "1",
         {
          "length": 2,
          "values": [
           1.4721360446853025,
           -0.11678749584162215
          ],
          "vectorType": "dense"
         }
        ],
        [
         "0",
         {
          "length": 2,
          "values": [
           -1.6480106203166893,
           2.100442902308144
          ],
          "vectorType": "dense"
         }
        ],
        [
         "0",
         {
          "length": 2,
          "values": [
           -9.028645224281451,
           0.6545968488688727
          ],
          "vectorType": "dense"
         }
        ],
        [
         "0",
         {
          "length": 2,
          "values": [
           -4.550586028792268,
           -3.0839256264353505
          ],
          "vectorType": "dense"
         }
        ],
        [
         "1",
         {
          "length": 2,
          "values": [
           0.7805032063552411,
           -0.6522753252252638
          ],
          "vectorType": "dense"
         }
        ],
        [
         "0",
         {
          "length": 2,
          "values": [
           0.22289648137749804,
           0.7012045041875619
          ],
          "vectorType": "dense"
         }
        ],
        [
         "1",
         {
          "length": 2,
          "values": [
           3.451858114839652,
           -1.3057897654953268
          ],
          "vectorType": "dense"
         }
        ],
        [
         "0",
         {
          "length": 2,
          "values": [
           -0.4461518298391931,
           2.7852570082147827
          ],
          "vectorType": "dense"
         }
        ],
        [
         "1",
         {
          "length": 2,
          "values": [
           -0.3141617966983834,
           -2.0757343005542124
          ],
          "vectorType": "dense"
         }
        ],
        [
         "1",
         {
          "length": 2,
          "values": [
           2.0573816635646485,
           2.4706139080117415
          ],
          "vectorType": "dense"
         }
        ],
        [
         "0",
         {
          "length": 2,
          "values": [
           -4.804741578644551,
           3.0264400192113654
          ],
          "vectorType": "dense"
         }
        ],
        [
         "1",
         {
          "length": 2,
          "values": [
           2.9960742986927817,
           0.3964292123288678
          ],
          "vectorType": "dense"
         }
        ],
        [
         "0",
         {
          "length": 2,
          "values": [
           -12.27421974008282,
           7.536778598643883
          ],
          "vectorType": "dense"
         }
        ],
        [
         "0",
         {
          "length": 2,
          "values": [
           -3.3692320216392955,
           -2.585550416174371
          ],
          "vectorType": "dense"
         }
        ],
        [
         "0",
         {
          "length": 2,
          "values": [
           -2.5065608023508408,
           -2.6123498850288525
          ],
          "vectorType": "dense"
         }
        ],
        [
         "0",
         {
          "length": 2,
          "values": [
           -1.3169097348008016,
           -2.152585452838559
          ],
          "vectorType": "dense"
         }
        ],
        [
         "1",
         {
          "length": 2,
          "values": [
           0.3884145349104365,
           -2.274796313785692
          ],
          "vectorType": "dense"
         }
        ],
        [
         "1",
         {
          "length": 2,
          "values": [
           2.7545093134335943,
           -1.0858792262280101
          ],
          "vectorType": "dense"
         }
        ],
        [
         "0",
         {
          "length": 2,
          "values": [
           -4.939235008379087,
           2.845820435747167
          ],
          "vectorType": "dense"
         }
        ],
        [
         "0",
         {
          "length": 2,
          "values": [
           -4.294298799576767,
           4.662172958398716
          ],
          "vectorType": "dense"
         }
        ],
        [
         "1",
         {
          "length": 2,
          "values": [
           2.371415206580928,
           0.7327578143464887
          ],
          "vectorType": "dense"
         }
        ],
        [
         "1",
         {
          "length": 2,
          "values": [
           0.9663400342412815,
           -0.43805274138140315
          ],
          "vectorType": "dense"
         }
        ],
        [
         "1",
         {
          "length": 2,
          "values": [
           2.973182700588683,
           -1.8093817105584709
          ],
          "vectorType": "dense"
         }
        ],
        [
         "0",
         {
          "length": 2,
          "values": [
           -1.8016617480543298,
           -0.16631461790202312
          ],
          "vectorType": "dense"
         }
        ],
        [
         "1",
         {
          "length": 2,
          "values": [
           2.476180734357764,
           1.4173293464504262
          ],
          "vectorType": "dense"
         }
        ],
        [
         "1",
         {
          "length": 2,
          "values": [
           0.8253131039081664,
           1.249148354188872
          ],
          "vectorType": "dense"
         }
        ],
        [
         "1",
         {
          "length": 2,
          "values": [
           3.891273417938517,
           -0.5380972756254689
          ],
          "vectorType": "dense"
         }
        ],
        [
         "1",
         {
          "length": 2,
          "values": [
           0.3892356039180487,
           0.613875324449998
          ],
          "vectorType": "dense"
         }
        ],
        [
         "1",
         {
          "length": 2,
          "values": [
           1.4560401949184865,
           0.20154941477167584
          ],
          "vectorType": "dense"
         }
        ],
        [
         "0",
         {
          "length": 2,
          "values": [
           -2.7531455233218116,
           -3.4627267693133152
          ],
          "vectorType": "dense"
         }
        ],
        [
         "0",
         {
          "length": 2,
          "values": [
           -3.254391152333232,
           0.12509042564652945
          ],
          "vectorType": "dense"
         }
        ],
        [
         "1",
         {
          "length": 2,
          "values": [
           4.015606929779589,
           1.3530568336035458
          ],
          "vectorType": "dense"
         }
        ],
        [
         "1",
         {
          "length": 2,
          "values": [
           3.673181280856314,
           1.2904935620339735
          ],
          "vectorType": "dense"
         }
        ],
        [
         "0",
         {
          "length": 2,
          "values": [
           -3.3134086631131745,
           3.9356892675858393
          ],
          "vectorType": "dense"
         }
        ],
        [
         "1",
         {
          "length": 2,
          "values": [
           4.0330586952594905,
           -1.1615240891991265
          ],
          "vectorType": "dense"
         }
        ],
        [
         "1",
         {
          "length": 2,
          "values": [
           2.332181276558638,
           1.3477938157103568
          ],
          "vectorType": "dense"
         }
        ],
        [
         "0",
         {
          "length": 2,
          "values": [
           -8.396459114567051,
           4.150252991487551
          ],
          "vectorType": "dense"
         }
        ],
        [
         "0",
         {
          "length": 2,
          "values": [
           -2.645241099769492,
           3.947699392177443
          ],
          "vectorType": "dense"
         }
        ],
        [
         "1",
         {
          "length": 2,
          "values": [
           0.6811695085597811,
           1.134992456901795
          ],
          "vectorType": "dense"
         }
        ],
        [
         "0",
         {
          "length": 2,
          "values": [
           -3.3473504750853267,
           2.1526758988005272
          ],
          "vectorType": "dense"
         }
        ],
        [
         "1",
         {
          "length": 2,
          "values": [
           2.225762082820186,
           1.2139315550121692
          ],
          "vectorType": "dense"
         }
        ],
        [
         "1",
         {
          "length": 2,
          "values": [
           4.473648316810695,
           1.7395986990016745
          ],
          "vectorType": "dense"
         }
        ],
        [
         "1",
         {
          "length": 2,
          "values": [
           -1.3214586745096857,
           -4.785266054191078
          ],
          "vectorType": "dense"
         }
        ],
        [
         "1",
         {
          "length": 2,
          "values": [
           1.8484634072018238,
           1.5827355092570183
          ],
          "vectorType": "dense"
         }
        ],
        [
         "0",
         {
          "length": 2,
          "values": [
           -3.7922288801761828,
           1.025330459219364
          ],
          "vectorType": "dense"
         }
        ],
        [
         "1",
         {
          "length": 2,
          "values": [
           2.2793125444788847,
           -2.075859442194888
          ],
          "vectorType": "dense"
         }
        ],
        [
         "1",
         {
          "length": 2,
          "values": [
           3.2259316385038423,
           1.1710430842293764
          ],
          "vectorType": "dense"
         }
        ],
        [
         "1",
         {
          "length": 2,
          "values": [
           -1.0249988966720756,
           -2.3591861092433453
          ],
          "vectorType": "dense"
         }
        ],
        [
         "1",
         {
          "length": 2,
          "values": [
           2.580285458084775,
           -0.7285720474808405
          ],
          "vectorType": "dense"
         }
        ],
        [
         "1",
         {
          "length": 2,
          "values": [
           2.4836978332373185,
           -0.4601914826896939
          ],
          "vectorType": "dense"
         }
        ],
        [
         "0",
         {
          "length": 2,
          "values": [
           -7.13756173714527,
           2.073018195139842
          ],
          "vectorType": "dense"
         }
        ],
        [
         "1",
         {
          "length": 2,
          "values": [
           3.029815222770883,
           0.648897838165118
          ],
          "vectorType": "dense"
         }
        ],
        [
         "0",
         {
          "length": 2,
          "values": [
           -7.078782066793522,
           -0.5277587995773976
          ],
          "vectorType": "dense"
         }
        ],
        [
         "0",
         {
          "length": 2,
          "values": [
           -1.3129437515041626,
           1.7738650170431625
          ],
          "vectorType": "dense"
         }
        ],
        [
         "0",
         {
          "length": 2,
          "values": [
           -3.7083865255645923,
           2.8050089983868287
          ],
          "vectorType": "dense"
         }
        ],
        [
         "0",
         {
          "length": 2,
          "values": [
           -0.4600742739863428,
           -0.3938197686403613
          ],
          "vectorType": "dense"
         }
        ],
        [
         "0",
         {
          "length": 2,
          "values": [
           -6.387030007430574,
           1.821491442867628
          ],
          "vectorType": "dense"
         }
        ],
        [
         "0",
         {
          "length": 2,
          "values": [
           -5.250924689588624,
           -3.891107225655192
          ],
          "vectorType": "dense"
         }
        ],
        [
         "0",
         {
          "length": 2,
          "values": [
           -8.726183381467218,
           -3.2769939657143716
          ],
          "vectorType": "dense"
         }
        ],
        [
         "0",
         {
          "length": 2,
          "values": [
           -3.6880727649812464,
           -1.0647092355384506
          ],
          "vectorType": "dense"
         }
        ],
        [
         "0",
         {
          "length": 2,
          "values": [
           -3.3752809812447255,
           3.3682641746415576
          ],
          "vectorType": "dense"
         }
        ],
        [
         "0",
         {
          "length": 2,
          "values": [
           0.8394710078446104,
           3.4970080337579934
          ],
          "vectorType": "dense"
         }
        ],
        [
         "0",
         {
          "length": 2,
          "values": [
           -3.2814852588700103,
           0.9898022792791088
          ],
          "vectorType": "dense"
         }
        ],
        [
         "0",
         {
          "length": 2,
          "values": [
           1.9070908891938627,
           3.119201237203347
          ],
          "vectorType": "dense"
         }
        ],
        [
         "0",
         {
          "length": 2,
          "values": [
           -1.6133623365757193,
           2.4723978983559065
          ],
          "vectorType": "dense"
         }
        ],
        [
         "0",
         {
          "length": 2,
          "values": [
           -6.613906806066417,
           5.997998810891651
          ],
          "vectorType": "dense"
         }
        ],
        [
         "1",
         {
          "length": 2,
          "values": [
           1.4633883060156407,
           -1.685149060625749
          ],
          "vectorType": "dense"
         }
        ],
        [
         "1",
         {
          "length": 2,
          "values": [
           2.0103835029649497,
           1.1025164598842423
          ],
          "vectorType": "dense"
         }
        ],
        [
         "1",
         {
          "length": 2,
          "values": [
           2.282332040471847,
           -0.009485293138450299
          ],
          "vectorType": "dense"
         }
        ],
        [
         "1",
         {
          "length": 2,
          "values": [
           0.7390927619274819,
           -3.149749157849665
          ],
          "vectorType": "dense"
         }
        ],
        [
         "1",
         {
          "length": 2,
          "values": [
           4.502600696719506,
           3.166486413631368
          ],
          "vectorType": "dense"
         }
        ],
        [
         "1",
         {
          "length": 2,
          "values": [
           3.1559773740122634,
           -0.4099410900241174
          ],
          "vectorType": "dense"
         }
        ],
        [
         "0",
         {
          "length": 2,
          "values": [
           -7.6694012070934345,
           3.072602737491275
          ],
          "vectorType": "dense"
         }
        ],
        [
         "1",
         {
          "length": 2,
          "values": [
           3.6359367261303492,
           -1.5881896245823244
          ],
          "vectorType": "dense"
         }
        ],
        [
         "0",
         {
          "length": 2,
          "values": [
           -0.3370489251204577,
           3.1416091727542197
          ],
          "vectorType": "dense"
         }
        ],
        [
         "1",
         {
          "length": 2,
          "values": [
           1.2754611078320632,
           -0.8483065631109162
          ],
          "vectorType": "dense"
         }
        ],
        [
         "1",
         {
          "length": 2,
          "values": [
           4.342193381795932,
           0.3216949991143457
          ],
          "vectorType": "dense"
         }
        ],
        [
         "0",
         {
          "length": 2,
          "values": [
           -0.01741546771171315,
           3.456302109699558
          ],
          "vectorType": "dense"
         }
        ],
        [
         "1",
         {
          "length": 2,
          "values": [
           3.4893557720452133,
           2.6317667234807156
          ],
          "vectorType": "dense"
         }
        ],
        [
         "1",
         {
          "length": 2,
          "values": [
           1.864907931297847,
           0.9012711860481959
          ],
          "vectorType": "dense"
         }
        ],
        [
         "0",
         {
          "length": 2,
          "values": [
           -4.955907441716645,
           1.3399440378897656
          ],
          "vectorType": "dense"
         }
        ],
        [
         "1",
         {
          "length": 2,
          "values": [
           2.4685506209044195,
           0.1379049225435279
          ],
          "vectorType": "dense"
         }
        ],
        [
         "0",
         {
          "length": 2,
          "values": [
           -3.781732576915012,
           1.9002354094267013
          ],
          "vectorType": "dense"
         }
        ],
        [
         "0",
         {
          "length": 2,
          "values": [
           -2.634937310206687,
           -0.5766476067361099
          ],
          "vectorType": "dense"
         }
        ],
        [
         "1",
         {
          "length": 2,
          "values": [
           1.3714782673685932,
           -0.005800357721781113
          ],
          "vectorType": "dense"
         }
        ],
        [
         "1",
         {
          "length": 2,
          "values": [
           4.13524399446935,
           1.375298122929749
          ],
          "vectorType": "dense"
         }
        ],
        [
         "1",
         {
          "length": 2,
          "values": [
           0.6863363877211871,
           -1.6935195059813446
          ],
          "vectorType": "dense"
         }
        ],
        [
         "1",
         {
          "length": 2,
          "values": [
           4.308338698860459,
           1.9767468042610254
          ],
          "vectorType": "dense"
         }
        ],
        [
         "1",
         {
          "length": 2,
          "values": [
           -0.4029548635748549,
           -3.7201606544330987
          ],
          "vectorType": "dense"
         }
        ],
        [
         "1",
         {
          "length": 2,
          "values": [
           3.000965262243705,
           -0.35384887774716584
          ],
          "vectorType": "dense"
         }
        ],
        [
         "1",
         {
          "length": 2,
          "values": [
           -3.1312530328587043,
           -4.269702670189467
          ],
          "vectorType": "dense"
         }
        ],
        [
         "1",
         {
          "length": 2,
          "values": [
           0.41746953769710166,
           0.8078657343689332
          ],
          "vectorType": "dense"
         }
        ],
        [
         "1",
         {
          "length": 2,
          "values": [
           1.4189745870297155,
           -1.3927526376556778
          ],
          "vectorType": "dense"
         }
        ],
        [
         "1",
         {
          "length": 2,
          "values": [
           2.8680647531464465,
           0.268408338101326
          ],
          "vectorType": "dense"
         }
        ],
        [
         "1",
         {
          "length": 2,
          "values": [
           3.3628867182650546,
           0.8068906366540134
          ],
          "vectorType": "dense"
         }
        ],
        [
         "1",
         {
          "length": 2,
          "values": [
           3.3120858684223364,
           1.4409083819701411
          ],
          "vectorType": "dense"
         }
        ],
        [
         "1",
         {
          "length": 2,
          "values": [
           4.7655170071007955,
           0.5424845304417008
          ],
          "vectorType": "dense"
         }
        ],
        [
         "0",
         {
          "length": 2,
          "values": [
           2.383785278667096,
           0.8233910735604927
          ],
          "vectorType": "dense"
         }
        ],
        [
         "1",
         {
          "length": 2,
          "values": [
           2.7846458146634814,
           2.530807159428553
          ],
          "vectorType": "dense"
         }
        ],
        [
         "1",
         {
          "length": 2,
          "values": [
           3.3908581737798005,
           -0.7533011314133292
          ],
          "vectorType": "dense"
         }
        ],
        [
         "0",
         {
          "length": 2,
          "values": [
           -6.58444232820841,
           1.4835570760795582
          ],
          "vectorType": "dense"
         }
        ],
        [
         "1",
         {
          "length": 2,
          "values": [
           1.4540511062050259,
           -0.5914224783050939
          ],
          "vectorType": "dense"
         }
        ],
        [
         "0",
         {
          "length": 2,
          "values": [
           -7.176618434402277,
           -0.05509758012513949
          ],
          "vectorType": "dense"
         }
        ],
        [
         "1",
         {
          "length": 2,
          "values": [
           3.5756891739127767,
           -0.890799182251582
          ],
          "vectorType": "dense"
         }
        ],
        [
         "1",
         {
          "length": 2,
          "values": [
           3.0543451401303825,
           0.17905583600501274
          ],
          "vectorType": "dense"
         }
        ],
        [
         "1",
         {
          "length": 2,
          "values": [
           3.0717330303073704,
           0.3057893730497704
          ],
          "vectorType": "dense"
         }
        ],
        [
         "1",
         {
          "length": 2,
          "values": [
           3.850152005362842,
           1.5233860034932076
          ],
          "vectorType": "dense"
         }
        ],
        [
         "1",
         {
          "length": 2,
          "values": [
           5.3855177059185495,
           -0.5557664886960754
          ],
          "vectorType": "dense"
         }
        ],
        [
         "1",
         {
          "length": 2,
          "values": [
           4.65358766791471,
           3.062692587047921
          ],
          "vectorType": "dense"
         }
        ],
        [
         "1",
         {
          "length": 2,
          "values": [
           4.024001690818717,
           2.5406715203364776
          ],
          "vectorType": "dense"
         }
        ],
        [
         "1",
         {
          "length": 2,
          "values": [
           3.3448788008728587,
           0.06850277259966837
          ],
          "vectorType": "dense"
         }
        ],
        [
         "1",
         {
          "length": 2,
          "values": [
           3.2969410508974435,
           3.1359500887137717
          ],
          "vectorType": "dense"
         }
        ],
        [
         "1",
         {
          "length": 2,
          "values": [
           2.134525984500311,
           0.0043889867928022935
          ],
          "vectorType": "dense"
         }
        ],
        [
         "1",
         {
          "length": 2,
          "values": [
           4.034467235871257,
           0.2404864516410689
          ],
          "vectorType": "dense"
         }
        ],
        [
         "1",
         {
          "length": 2,
          "values": [
           3.762104298066469,
           -4.39433394265753
          ],
          "vectorType": "dense"
         }
        ],
        [
         "1",
         {
          "length": 2,
          "values": [
           4.86695697440386,
           2.337158334463167
          ],
          "vectorType": "dense"
         }
        ],
        [
         "1",
         {
          "length": 2,
          "values": [
           4.743075110258775,
           1.7968209625108593
          ],
          "vectorType": "dense"
         }
        ],
        [
         "0",
         {
          "length": 2,
          "values": [
           -1.8936500638857314,
           2.3901349362668816
          ],
          "vectorType": "dense"
         }
        ],
        [
         "1",
         {
          "length": 2,
          "values": [
           -1.571548343734521,
           -6.503377020577063
          ],
          "vectorType": "dense"
         }
        ],
        [
         "1",
         {
          "length": 2,
          "values": [
           4.023080366038678,
           1.4009737529462152
          ],
          "vectorType": "dense"
         }
        ],
        [
         "1",
         {
          "length": 2,
          "values": [
           1.29372782598917,
           -3.4677573783806075
          ],
          "vectorType": "dense"
         }
        ],
        [
         "0",
         {
          "length": 2,
          "values": [
           -1.8332274202713865,
           4.317723822665098
          ],
          "vectorType": "dense"
         }
        ],
        [
         "1",
         {
          "length": 2,
          "values": [
           1.808789015235209,
           -0.39585898806435427
          ],
          "vectorType": "dense"
         }
        ],
        [
         "0",
         {
          "length": 2,
          "values": [
           -7.230123567830955,
           0.035670410920752404
          ],
          "vectorType": "dense"
         }
        ],
        [
         "1",
         {
          "length": 2,
          "values": [
           3.1428847812274205,
           0.741873771312808
          ],
          "vectorType": "dense"
         }
        ],
        [
         "1",
         {
          "length": 2,
          "values": [
           2.8847298001152506,
           0.46432306918826133
          ],
          "vectorType": "dense"
         }
        ],
        [
         "1",
         {
          "length": 2,
          "values": [
           3.146885056706513,
           1.7696912547970154
          ],
          "vectorType": "dense"
         }
        ],
        [
         "1",
         {
          "length": 2,
          "values": [
           4.624310577223516,
           1.8340046311486002
          ],
          "vectorType": "dense"
         }
        ],
        [
         "0",
         {
          "length": 2,
          "values": [
           -2.248531903058634,
           0.3482295351152985
          ],
          "vectorType": "dense"
         }
        ],
        [
         "0",
         {
          "length": 2,
          "values": [
           -2.105948215451635,
           -1.1209875925308008
          ],
          "vectorType": "dense"
         }
        ],
        [
         "0",
         {
          "length": 2,
          "values": [
           -1.7843799140989622,
           0.2689849572661148
          ],
          "vectorType": "dense"
         }
        ],
        [
         "1",
         {
          "length": 2,
          "values": [
           0.527232708197753,
           -1.264758768867036
          ],
          "vectorType": "dense"
         }
        ],
        [
         "1",
         {
          "length": 2,
          "values": [
           3.2106759241477616,
           -1.1024730816943964
          ],
          "vectorType": "dense"
         }
        ],
        [
         "1",
         {
          "length": 2,
          "values": [
           4.382566769758078,
           0.7604346273021849
          ],
          "vectorType": "dense"
         }
        ],
        [
         "1",
         {
          "length": 2,
          "values": [
           3.80666840292402,
           0.9091186263481879
          ],
          "vectorType": "dense"
         }
        ],
        [
         "0",
         {
          "length": 2,
          "values": [
           -3.3167555762556,
           1.5756664220302594
          ],
          "vectorType": "dense"
         }
        ],
        [
         "1",
         {
          "length": 2,
          "values": [
           2.3911719850536737,
           -0.9891604207881478
          ],
          "vectorType": "dense"
         }
        ],
        [
         "0",
         {
          "length": 2,
          "values": [
           -4.676051829725837,
           0.9677414434843
          ],
          "vectorType": "dense"
         }
        ],
        [
         "1",
         {
          "length": 2,
          "values": [
           3.0649982652345846,
           -1.1348390297023678
          ],
          "vectorType": "dense"
         }
        ],
        [
         "0",
         {
          "length": 2,
          "values": [
           -7.346754205800324,
           5.238014242213437
          ],
          "vectorType": "dense"
         }
        ],
        [
         "1",
         {
          "length": 2,
          "values": [
           -0.2950535672123393,
           -0.22673553279496178
          ],
          "vectorType": "dense"
         }
        ],
        [
         "1",
         {
          "length": 2,
          "values": [
           1.937264908048494,
           -2.54275075984208
          ],
          "vectorType": "dense"
         }
        ],
        [
         "1",
         {
          "length": 2,
          "values": [
           2.075352829718506,
           -1.8049313395291142
          ],
          "vectorType": "dense"
         }
        ],
        [
         "0",
         {
          "length": 2,
          "values": [
           -4.970788588463213,
           1.3314006873626998
          ],
          "vectorType": "dense"
         }
        ],
        [
         "1",
         {
          "length": 2,
          "values": [
           2.1750031061333353,
           -0.9580682603151646
          ],
          "vectorType": "dense"
         }
        ],
        [
         "1",
         {
          "length": 2,
          "values": [
           2.429413826943072,
           -3.44417335730377
          ],
          "vectorType": "dense"
         }
        ],
        [
         "1",
         {
          "length": 2,
          "values": [
           3.3650049292694186,
           0.5624340150809102
          ],
          "vectorType": "dense"
         }
        ],
        [
         "1",
         {
          "length": 2,
          "values": [
           1.205537044997321,
           1.315886496793601
          ],
          "vectorType": "dense"
         }
        ],
        [
         "1",
         {
          "length": 2,
          "values": [
           3.3231552224306244,
           -0.4747538482010823
          ],
          "vectorType": "dense"
         }
        ],
        [
         "1",
         {
          "length": 2,
          "values": [
           1.9270997575978313,
           -1.460184988708072
          ],
          "vectorType": "dense"
         }
        ],
        [
         "1",
         {
          "length": 2,
          "values": [
           4.038281827650134,
           1.3557245619959968
          ],
          "vectorType": "dense"
         }
        ],
        [
         "0",
         {
          "length": 2,
          "values": [
           -6.176848765923755,
           -5.103514894361796
          ],
          "vectorType": "dense"
         }
        ],
        [
         "0",
         {
          "length": 2,
          "values": [
           -10.924685586759175,
           3.699998471871134
          ],
          "vectorType": "dense"
         }
        ],
        [
         "0",
         {
          "length": 2,
          "values": [
           -2.1166345166823373,
           -0.2963682967476071
          ],
          "vectorType": "dense"
         }
        ],
        [
         "1",
         {
          "length": 2,
          "values": [
           3.0095468861563317,
           -0.243545681202486
          ],
          "vectorType": "dense"
         }
        ],
        [
         "1",
         {
          "length": 2,
          "values": [
           0.9817847142179241,
           -0.7965515125202817
          ],
          "vectorType": "dense"
         }
        ],
        [
         "1",
         {
          "length": 2,
          "values": [
           -0.35757923049032636,
           -2.125968004265042
          ],
          "vectorType": "dense"
         }
        ],
        [
         "1",
         {
          "length": 2,
          "values": [
           3.191110025081194,
           1.847526444761871
          ],
          "vectorType": "dense"
         }
        ],
        [
         "1",
         {
          "length": 2,
          "values": [
           2.990601886844637,
           -1.6299580146726662
          ],
          "vectorType": "dense"
         }
        ],
        [
         "1",
         {
          "length": 2,
          "values": [
           3.191106313310075,
           -0.5788301325936451
          ],
          "vectorType": "dense"
         }
        ],
        [
         "1",
         {
          "length": 2,
          "values": [
           4.587924963183574,
           2.7586997322892137
          ],
          "vectorType": "dense"
         }
        ],
        [
         "1",
         {
          "length": 2,
          "values": [
           2.483730733194703,
           1.1878941827853875
          ],
          "vectorType": "dense"
         }
        ],
        [
         "1",
         {
          "length": 2,
          "values": [
           2.396556629015861,
           0.2505243553016716
          ],
          "vectorType": "dense"
         }
        ],
        [
         "1",
         {
          "length": 2,
          "values": [
           0.7789298236156389,
           2.1224758723954773
          ],
          "vectorType": "dense"
         }
        ],
        [
         "1",
         {
          "length": 2,
          "values": [
           3.137227995833936,
           1.486714010385516
          ],
          "vectorType": "dense"
         }
        ],
        [
         "0",
         {
          "length": 2,
          "values": [
           -2.7326073652576093,
           3.9416999500655043
          ],
          "vectorType": "dense"
         }
        ],
        [
         "0",
         {
          "length": 2,
          "values": [
           -6.221551679069684,
           1.3888876163638892
          ],
          "vectorType": "dense"
         }
        ],
        [
         "1",
         {
          "length": 2,
          "values": [
           2.221820777512973,
           0.35684672329234746
          ],
          "vectorType": "dense"
         }
        ],
        [
         "0",
         {
          "length": 2,
          "values": [
           -5.302474403497606,
           6.717504287902137
          ],
          "vectorType": "dense"
         }
        ],
        [
         "0",
         {
          "length": 2,
          "values": [
           -7.241629190977243,
           3.6522555297061396
          ],
          "vectorType": "dense"
         }
        ],
        [
         "0",
         {
          "length": 2,
          "values": [
           -4.203521962751312,
           -1.1752088219527228
          ],
          "vectorType": "dense"
         }
        ],
        [
         "1",
         {
          "length": 2,
          "values": [
           2.4974388911606744,
           2.016761089657906
          ],
          "vectorType": "dense"
         }
        ],
        [
         "0",
         {
          "length": 2,
          "values": [
           -3.631819328529832,
           1.9547209619987518
          ],
          "vectorType": "dense"
         }
        ],
        [
         "0",
         {
          "length": 2,
          "values": [
           -3.516154429778133,
           3.8552149374108557
          ],
          "vectorType": "dense"
         }
        ],
        [
         "1",
         {
          "length": 2,
          "values": [
           2.6126494511410927,
           1.101505250877788
          ],
          "vectorType": "dense"
         }
        ],
        [
         "1",
         {
          "length": 2,
          "values": [
           0.09602362590836018,
           0.12973343110973548
          ],
          "vectorType": "dense"
         }
        ],
        [
         "1",
         {
          "length": 2,
          "values": [
           -2.0430592577934314,
           -6.421169886591277
          ],
          "vectorType": "dense"
         }
        ],
        [
         "1",
         {
          "length": 2,
          "values": [
           3.0640534834955355,
           2.1801773735430845
          ],
          "vectorType": "dense"
         }
        ],
        [
         "1",
         {
          "length": 2,
          "values": [
           1.6021766967898312,
           -0.2923389949332684
          ],
          "vectorType": "dense"
         }
        ],
        [
         "0",
         {
          "length": 2,
          "values": [
           -3.762621443878961,
           -5.980033549309579
          ],
          "vectorType": "dense"
         }
        ],
        [
         "1",
         {
          "length": 2,
          "values": [
           0.9247529181246392,
           -2.3004572704552135
          ],
          "vectorType": "dense"
         }
        ],
        [
         "1",
         {
          "length": 2,
          "values": [
           3.2854587367562074,
           -0.20113435938521462
          ],
          "vectorType": "dense"
         }
        ],
        [
         "1",
         {
          "length": 2,
          "values": [
           1.5534852463993922,
           -0.9789963158207404
          ],
          "vectorType": "dense"
         }
        ],
        [
         "1",
         {
          "length": 2,
          "values": [
           0.39842934176183803,
           -2.1593127242758463
          ],
          "vectorType": "dense"
         }
        ],
        [
         "1",
         {
          "length": 2,
          "values": [
           2.2985453437371177,
           0.9312581750160045
          ],
          "vectorType": "dense"
         }
        ],
        [
         "0",
         {
          "length": 2,
          "values": [
           0.542424088151976,
           1.3159100480444743
          ],
          "vectorType": "dense"
         }
        ],
        [
         "1",
         {
          "length": 2,
          "values": [
           2.057009504309962,
           -0.32015344453125083
          ],
          "vectorType": "dense"
         }
        ],
        [
         "1",
         {
          "length": 2,
          "values": [
           3.4215074893256583,
           2.443368505138404
          ],
          "vectorType": "dense"
         }
        ],
        [
         "1",
         {
          "length": 2,
          "values": [
           0.47199124930973096,
           -3.699574203312585
          ],
          "vectorType": "dense"
         }
        ],
        [
         "0",
         {
          "length": 2,
          "values": [
           -4.699365785201365,
           0.19578348601557083
          ],
          "vectorType": "dense"
         }
        ],
        [
         "1",
         {
          "length": 2,
          "values": [
           3.640177266356688,
           -0.786168171276902
          ],
          "vectorType": "dense"
         }
        ],
        [
         "1",
         {
          "length": 2,
          "values": [
           3.5915291765229544,
           -2.602797029692257
          ],
          "vectorType": "dense"
         }
        ],
        [
         "0",
         {
          "length": 2,
          "values": [
           -4.145449783640533,
           -0.7668141287529167
          ],
          "vectorType": "dense"
         }
        ],
        [
         "0",
         {
          "length": 2,
          "values": [
           -7.665396811495929,
           0.8597276809314314
          ],
          "vectorType": "dense"
         }
        ],
        [
         "1",
         {
          "length": 2,
          "values": [
           2.0086120468983655,
           -0.4293118113846647
          ],
          "vectorType": "dense"
         }
        ],
        [
         "1",
         {
          "length": 2,
          "values": [
           2.9182657286307934,
           1.6989775538427376
          ],
          "vectorType": "dense"
         }
        ],
        [
         "1",
         {
          "length": 2,
          "values": [
           0.5002975911258666,
           -0.10663763480732191
          ],
          "vectorType": "dense"
         }
        ],
        [
         "1",
         {
          "length": 2,
          "values": [
           1.909818136290534,
           0.6508212257862362
          ],
          "vectorType": "dense"
         }
        ],
        [
         "1",
         {
          "length": 2,
          "values": [
           3.7817716673916792,
           0.3258596453595585
          ],
          "vectorType": "dense"
         }
        ],
        [
         "1",
         {
          "length": 2,
          "values": [
           2.706012962066895,
           0.2194726288777049
          ],
          "vectorType": "dense"
         }
        ],
        [
         "0",
         {
          "length": 2,
          "values": [
           -6.284144085196279,
           -2.034757025450057
          ],
          "vectorType": "dense"
         }
        ],
        [
         "1",
         {
          "length": 2,
          "values": [
           3.4277546285096903,
           0.9917374104621859
          ],
          "vectorType": "dense"
         }
        ],
        [
         "1",
         {
          "length": 2,
          "values": [
           1.9996290036610866,
           0.29306859391553763
          ],
          "vectorType": "dense"
         }
        ],
        [
         "1",
         {
          "length": 2,
          "values": [
           2.4711187702674877,
           0.3347524795996754
          ],
          "vectorType": "dense"
         }
        ],
        [
         "1",
         {
          "length": 2,
          "values": [
           3.6440513653380244,
           1.2402738149716068
          ],
          "vectorType": "dense"
         }
        ],
        [
         "1",
         {
          "length": 2,
          "values": [
           2.344124268696747,
           -0.6821411046260262
          ],
          "vectorType": "dense"
         }
        ],
        [
         "1",
         {
          "length": 2,
          "values": [
           1.1419920938905654,
           1.9604465077671769
          ],
          "vectorType": "dense"
         }
        ],
        [
         "1",
         {
          "length": 2,
          "values": [
           1.349669736242352,
           -0.36924900183406884
          ],
          "vectorType": "dense"
         }
        ],
        [
         "0",
         {
          "length": 2,
          "values": [
           -2.760941448865499,
           1.0776852596095776
          ],
          "vectorType": "dense"
         }
        ],
        [
         "1",
         {
          "length": 2,
          "values": [
           1.967592331203069,
           0.17569391630596184
          ],
          "vectorType": "dense"
         }
        ],
        [
         "1",
         {
          "length": 2,
          "values": [
           2.92861018720084,
           0.49442119061084133
          ],
          "vectorType": "dense"
         }
        ],
        [
         "1",
         {
          "length": 2,
          "values": [
           2.92380174883021,
           -0.3770005363916792
          ],
          "vectorType": "dense"
         }
        ],
        [
         "1",
         {
          "length": 2,
          "values": [
           3.99267514417972,
           -0.9590122600837145
          ],
          "vectorType": "dense"
         }
        ],
        [
         "1",
         {
          "length": 2,
          "values": [
           -0.1550016743349039,
           0.437623165978837
          ],
          "vectorType": "dense"
         }
        ],
        [
         "0",
         {
          "length": 2,
          "values": [
           0.9332696314803103,
           2.104094210067527
          ],
          "vectorType": "dense"
         }
        ],
        [
         "1",
         {
          "length": 2,
          "values": [
           1.927925359175412,
           -0.8916821038232392
          ],
          "vectorType": "dense"
         }
        ],
        [
         "1",
         {
          "length": 2,
          "values": [
           2.6200332486414437,
           -2.499901967771065
          ],
          "vectorType": "dense"
         }
        ],
        [
         "0",
         {
          "length": 2,
          "values": [
           -5.998338685657266,
           0.09094919644802113
          ],
          "vectorType": "dense"
         }
        ],
        [
         "1",
         {
          "length": 2,
          "values": [
           2.9193091202939803,
           0.00920458204064542
          ],
          "vectorType": "dense"
         }
        ],
        [
         "1",
         {
          "length": 2,
          "values": [
           3.3390068299273357,
           0.022205192232515797
          ],
          "vectorType": "dense"
         }
        ],
        [
         "1",
         {
          "length": 2,
          "values": [
           2.0131436791939663,
           -0.7777677776660812
          ],
          "vectorType": "dense"
         }
        ],
        [
         "1",
         {
          "length": 2,
          "values": [
           -1.9867140066590794,
           -2.314011967419204
          ],
          "vectorType": "dense"
         }
        ],
        [
         "1",
         {
          "length": 2,
          "values": [
           1.6681361466415952,
           -0.8615607699852146
          ],
          "vectorType": "dense"
         }
        ],
        [
         "1",
         {
          "length": 2,
          "values": [
           0.37085180302599974,
           -0.11351277941469305
          ],
          "vectorType": "dense"
         }
        ],
        [
         "1",
         {
          "length": 2,
          "values": [
           1.8473344702440129,
           -2.5389956007011905
          ],
          "vectorType": "dense"
         }
        ],
        [
         "1",
         {
          "length": 2,
          "values": [
           4.6989076587167675,
           0.4319223845700211
          ],
          "vectorType": "dense"
         }
        ],
        [
         "1",
         {
          "length": 2,
          "values": [
           1.2820590739521003,
           -2.5486667521841357
          ],
          "vectorType": "dense"
         }
        ],
        [
         "1",
         {
          "length": 2,
          "values": [
           2.312212316213461,
           -0.4016780429615857
          ],
          "vectorType": "dense"
         }
        ],
        [
         "1",
         {
          "length": 2,
          "values": [
           4.654989276563036,
           0.7816110211582356
          ],
          "vectorType": "dense"
         }
        ],
        [
         "1",
         {
          "length": 2,
          "values": [
           3.940006591278556,
           2.0282316570124226
          ],
          "vectorType": "dense"
         }
        ],
        [
         "0",
         {
          "length": 2,
          "values": [
           -4.945506936786711,
           -3.003421434951423
          ],
          "vectorType": "dense"
         }
        ],
        [
         "1",
         {
          "length": 2,
          "values": [
           0.914998417180693,
           -2.476833776056108
          ],
          "vectorType": "dense"
         }
        ],
        [
         "0",
         {
          "length": 2,
          "values": [
           -4.545111927264468,
           0.8152831423276554
          ],
          "vectorType": "dense"
         }
        ],
        [
         "0",
         {
          "length": 2,
          "values": [
           -4.43843746105249,
           0.9915664239722887
          ],
          "vectorType": "dense"
         }
        ],
        [
         "1",
         {
          "length": 2,
          "values": [
           2.193054644119214,
           1.8037661137139487
          ],
          "vectorType": "dense"
         }
        ],
        [
         "0",
         {
          "length": 2,
          "values": [
           -0.6638567906972933,
           -0.43647680208109413
          ],
          "vectorType": "dense"
         }
        ],
        [
         "1",
         {
          "length": 2,
          "values": [
           2.2389060523360547,
           0.4541898722408363
          ],
          "vectorType": "dense"
         }
        ],
        [
         "1",
         {
          "length": 2,
          "values": [
           2.123312146064986,
           1.1937465406902616
          ],
          "vectorType": "dense"
         }
        ],
        [
         "1",
         {
          "length": 2,
          "values": [
           2.613018230636058,
           1.830449829701576
          ],
          "vectorType": "dense"
         }
        ],
        [
         "1",
         {
          "length": 2,
          "values": [
           3.2081451461269004,
           2.233177743167421
          ],
          "vectorType": "dense"
         }
        ],
        [
         "1",
         {
          "length": 2,
          "values": [
           0.30648072797555426,
           -2.1830779549000954
          ],
          "vectorType": "dense"
         }
        ],
        [
         "0",
         {
          "length": 2,
          "values": [
           -2.4701834157673517,
           1.4985062241646343
          ],
          "vectorType": "dense"
         }
        ],
        [
         "1",
         {
          "length": 2,
          "values": [
           3.4516812564733845,
           2.134583339853946
          ],
          "vectorType": "dense"
         }
        ],
        [
         "1",
         {
          "length": 2,
          "values": [
           3.897097812804002,
           -0.7301335297261968
          ],
          "vectorType": "dense"
         }
        ],
        [
         "0",
         {
          "length": 2,
          "values": [
           -0.9808644845488861,
           2.208486711616481
          ],
          "vectorType": "dense"
         }
        ],
        [
         "1",
         {
          "length": 2,
          "values": [
           1.2561462947029458,
           -1.066752884858787
          ],
          "vectorType": "dense"
         }
        ],
        [
         "0",
         {
          "length": 2,
          "values": [
           -3.2425605374516238,
           1.7767952397711555
          ],
          "vectorType": "dense"
         }
        ],
        [
         "1",
         {
          "length": 2,
          "values": [
           1.555850428173458,
           1.0370146428298208
          ],
          "vectorType": "dense"
         }
        ],
        [
         "1",
         {
          "length": 2,
          "values": [
           1.248159847609764,
           1.5874420077235567
          ],
          "vectorType": "dense"
         }
        ],
        [
         "0",
         {
          "length": 2,
          "values": [
           -4.327845296903541,
           4.045772564967691
          ],
          "vectorType": "dense"
         }
        ],
        [
         "1",
         {
          "length": 2,
          "values": [
           1.0765041197499041,
           -1.8020325644596087
          ],
          "vectorType": "dense"
         }
        ],
        [
         "0",
         {
          "length": 2,
          "values": [
           -2.50954496723855,
           2.526584455419936
          ],
          "vectorType": "dense"
         }
        ],
        [
         "1",
         {
          "length": 2,
          "values": [
           2.2151432129344313,
           -0.029865010034000328
          ],
          "vectorType": "dense"
         }
        ],
        [
         "1",
         {
          "length": 2,
          "values": [
           1.1727987075491468,
           0.47442206362079425
          ],
          "vectorType": "dense"
         }
        ],
        [
         "1",
         {
          "length": 2,
          "values": [
           2.833807992032256,
           1.0172307504970854
          ],
          "vectorType": "dense"
         }
        ],
        [
         "1",
         {
          "length": 2,
          "values": [
           1.855453295571189,
           1.5700116743471624
          ],
          "vectorType": "dense"
         }
        ],
        [
         "1",
         {
          "length": 2,
          "values": [
           1.3274463600967459,
           -0.7764124994109081
          ],
          "vectorType": "dense"
         }
        ],
        [
         "1",
         {
          "length": 2,
          "values": [
           2.800307381480742,
           1.664836753413479
          ],
          "vectorType": "dense"
         }
        ],
        [
         "1",
         {
          "length": 2,
          "values": [
           3.1717779665128187,
           2.073908798274623
          ],
          "vectorType": "dense"
         }
        ],
        [
         "1",
         {
          "length": 2,
          "values": [
           4.083484325194264,
           0.48428396052725586
          ],
          "vectorType": "dense"
         }
        ],
        [
         "0",
         {
          "length": 2,
          "values": [
           -3.4724383684210407,
           1.67141372334568
          ],
          "vectorType": "dense"
         }
        ],
        [
         "0",
         {
          "length": 2,
          "values": [
           -16.304886649594216,
           7.769016888373382
          ],
          "vectorType": "dense"
         }
        ],
        [
         "1",
         {
          "length": 2,
          "values": [
           2.557864367016561,
           2.4918528797022423
          ],
          "vectorType": "dense"
         }
        ],
        [
         "1",
         {
          "length": 2,
          "values": [
           2.9662787832842827,
           0.06878661072296705
          ],
          "vectorType": "dense"
         }
        ],
        [
         "1",
         {
          "length": 2,
          "values": [
           2.755006335869314,
           1.7923416963765513
          ],
          "vectorType": "dense"
         }
        ],
        [
         "1",
         {
          "length": 2,
          "values": [
           -1.3691351808117749,
           -2.1081563937309458
          ],
          "vectorType": "dense"
         }
        ],
        [
         "1",
         {
          "length": 2,
          "values": [
           0.4172973149060333,
           -0.11641726210993464
          ],
          "vectorType": "dense"
         }
        ],
        [
         "1",
         {
          "length": 2,
          "values": [
           3.835024205957114,
           -0.898388161674005
          ],
          "vectorType": "dense"
         }
        ],
        [
         "0",
         {
          "length": 2,
          "values": [
           -5.9257508235346075,
           -1.2272168607935359
          ],
          "vectorType": "dense"
         }
        ],
        [
         "1",
         {
          "length": 2,
          "values": [
           -0.6449111936209141,
           -3.4229995421977764
          ],
          "vectorType": "dense"
         }
        ],
        [
         "1",
         {
          "length": 2,
          "values": [
           2.6814869751157433,
           -1.4422864689137533
          ],
          "vectorType": "dense"
         }
        ],
        [
         "1",
         {
          "length": 2,
          "values": [
           2.0398691822622053,
           0.9024618581445207
          ],
          "vectorType": "dense"
         }
        ],
        [
         "1",
         {
          "length": 2,
          "values": [
           1.398066199236754,
           1.770668243981824
          ],
          "vectorType": "dense"
         }
        ],
        [
         "1",
         {
          "length": 2,
          "values": [
           3.5333063582933635,
           1.24575801773039
          ],
          "vectorType": "dense"
         }
        ],
        [
         "1",
         {
          "length": 2,
          "values": [
           1.9887795302556113,
           -1.89779269317917
          ],
          "vectorType": "dense"
         }
        ],
        [
         "1",
         {
          "length": 2,
          "values": [
           1.996428720313028,
           0.20618971131568076
          ],
          "vectorType": "dense"
         }
        ],
        [
         "1",
         {
          "length": 2,
          "values": [
           0.5202003908111569,
           0.9725121025461498
          ],
          "vectorType": "dense"
         }
        ],
        [
         "1",
         {
          "length": 2,
          "values": [
           3.1695815905766174,
           2.0872157681880967
          ],
          "vectorType": "dense"
         }
        ],
        [
         "1",
         {
          "length": 2,
          "values": [
           2.200773740164568,
           -1.2849087344346048
          ],
          "vectorType": "dense"
         }
        ],
        [
         "0",
         {
          "length": 2,
          "values": [
           -3.821070903352409,
           -2.3032097346083917
          ],
          "vectorType": "dense"
         }
        ],
        [
         "1",
         {
          "length": 2,
          "values": [
           2.982860087893478,
           0.6727472975250199
          ],
          "vectorType": "dense"
         }
        ],
        [
         "1",
         {
          "length": 2,
          "values": [
           2.4788739595090217,
           2.361880554620532
          ],
          "vectorType": "dense"
         }
        ],
        [
         "1",
         {
          "length": 2,
          "values": [
           1.2709931213159007,
           -0.5093856426258698
          ],
          "vectorType": "dense"
         }
        ],
        [
         "1",
         {
          "length": 2,
          "values": [
           2.2331919146098254,
           1.297562775248254
          ],
          "vectorType": "dense"
         }
        ],
        [
         "1",
         {
          "length": 2,
          "values": [
           0.056133712562133314,
           0.22718349542905497
          ],
          "vectorType": "dense"
         }
        ],
        [
         "1",
         {
          "length": 2,
          "values": [
           -2.3153533394197727,
           -4.385275754541184
          ],
          "vectorType": "dense"
         }
        ],
        [
         "1",
         {
          "length": 2,
          "values": [
           2.2823230571574515,
           2.464672104779668
          ],
          "vectorType": "dense"
         }
        ],
        [
         "0",
         {
          "length": 2,
          "values": [
           -4.750434988655813,
           1.4881141767755597
          ],
          "vectorType": "dense"
         }
        ],
        [
         "1",
         {
          "length": 2,
          "values": [
           1.7247932814230538,
           -0.9973003162547251
          ],
          "vectorType": "dense"
         }
        ],
        [
         "0",
         {
          "length": 2,
          "values": [
           0.7411296510979193,
           2.449879330556573
          ],
          "vectorType": "dense"
         }
        ],
        [
         "1",
         {
          "length": 2,
          "values": [
           2.891766211587366,
           0.977084587771863
          ],
          "vectorType": "dense"
         }
        ],
        [
         "1",
         {
          "length": 2,
          "values": [
           1.6530673209399034,
           4.551659142222769
          ],
          "vectorType": "dense"
         }
        ],
        [
         "0",
         {
          "length": 2,
          "values": [
           -3.1007913344299807,
           1.235066483028626
          ],
          "vectorType": "dense"
         }
        ],
        [
         "1",
         {
          "length": 2,
          "values": [
           4.060697611933903,
           0.5604610750609345
          ],
          "vectorType": "dense"
         }
        ],
        [
         "1",
         {
          "length": 2,
          "values": [
           2.790874981685018,
           1.076940538969515
          ],
          "vectorType": "dense"
         }
        ],
        [
         "1",
         {
          "length": 2,
          "values": [
           1.4736233044459313,
           1.5896954369820397
          ],
          "vectorType": "dense"
         }
        ],
        [
         "1",
         {
          "length": 2,
          "values": [
           0.2291929713893269,
           -1.5145707554059142
          ],
          "vectorType": "dense"
         }
        ],
        [
         "1",
         {
          "length": 2,
          "values": [
           2.551013784403687,
           0.7632289241818467
          ],
          "vectorType": "dense"
         }
        ],
        [
         "0",
         {
          "length": 2,
          "values": [
           -3.712438548894881,
           1.0577555061741135
          ],
          "vectorType": "dense"
         }
        ],
        [
         "0",
         {
          "length": 2,
          "values": [
           -5.0903628610901865,
           2.017432705941421
          ],
          "vectorType": "dense"
         }
        ],
        [
         "1",
         {
          "length": 2,
          "values": [
           0.6000880992881495,
           0.8377175598703596
          ],
          "vectorType": "dense"
         }
        ],
        [
         "0",
         {
          "length": 2,
          "values": [
           -2.7879467302084433,
           -3.382584454086203
          ],
          "vectorType": "dense"
         }
        ],
        [
         "1",
         {
          "length": 2,
          "values": [
           1.4075327339711794,
           -1.5044468375239244
          ],
          "vectorType": "dense"
         }
        ],
        [
         "0",
         {
          "length": 2,
          "values": [
           -7.252797143875283,
           5.49090430233696
          ],
          "vectorType": "dense"
         }
        ],
        [
         "1",
         {
          "length": 2,
          "values": [
           -1.2977246878630824,
           -7.7230573252406876
          ],
          "vectorType": "dense"
         }
        ],
        [
         "1",
         {
          "length": 2,
          "values": [
           -1.0757467319114502,
           -8.28748333708094
          ],
          "vectorType": "dense"
         }
        ],
        [
         "1",
         {
          "length": 2,
          "values": [
           1.2486618339884528,
           -1.5942810552468651
          ],
          "vectorType": "dense"
         }
        ],
        [
         "1",
         {
          "length": 2,
          "values": [
           1.2558234134005026,
           -4.113567176044441
          ],
          "vectorType": "dense"
         }
        ],
        [
         "1",
         {
          "length": 2,
          "values": [
           1.1655096888161074,
           1.664229389288278
          ],
          "vectorType": "dense"
         }
        ],
        [
         "0",
         {
          "length": 2,
          "values": [
           -4.090543310340465,
           -2.8004631372638533
          ],
          "vectorType": "dense"
         }
        ],
        [
         "1",
         {
          "length": 2,
          "values": [
           1.8859797779694114,
           -1.670721679773254
          ],
          "vectorType": "dense"
         }
        ],
        [
         "1",
         {
          "length": 2,
          "values": [
           2.7650027918677633,
           2.1591489715386922
          ],
          "vectorType": "dense"
         }
        ],
        [
         "0",
         {
          "length": 2,
          "values": [
           -2.2250366914743682,
           -1.939927827030339
          ],
          "vectorType": "dense"
         }
        ],
        [
         "1",
         {
          "length": 2,
          "values": [
           1.130582097681733,
           1.4097615238920558
          ],
          "vectorType": "dense"
         }
        ],
        [
         "0",
         {
          "length": 2,
          "values": [
           0.7331273774331185,
           1.9419884383163164
          ],
          "vectorType": "dense"
         }
        ],
        [
         "1",
         {
          "length": 2,
          "values": [
           2.331619157745097,
           -0.7894519727749363
          ],
          "vectorType": "dense"
         }
        ],
        [
         "0",
         {
          "length": 2,
          "values": [
           -2.6948525682230757,
           1.9420011894412628
          ],
          "vectorType": "dense"
         }
        ],
        [
         "0",
         {
          "length": 2,
          "values": [
           -3.3760441048029453,
           2.331377578459931
          ],
          "vectorType": "dense"
         }
        ],
        [
         "1",
         {
          "length": 2,
          "values": [
           0.19969486970744776,
           -1.0754137523919416
          ],
          "vectorType": "dense"
         }
        ],
        [
         "1",
         {
          "length": 2,
          "values": [
           1.1749920441007746,
           -1.0104810609185944
          ],
          "vectorType": "dense"
         }
        ],
        [
         "1",
         {
          "length": 2,
          "values": [
           1.2915001552911294,
           -4.95986054770475
          ],
          "vectorType": "dense"
         }
        ],
        [
         "0",
         {
          "length": 2,
          "values": [
           -8.62316837995109,
           3.4564106380793023
          ],
          "vectorType": "dense"
         }
        ],
        [
         "1",
         {
          "length": 2,
          "values": [
           4.425562342734112,
           0.7853450148775316
          ],
          "vectorType": "dense"
         }
        ],
        [
         "1",
         {
          "length": 2,
          "values": [
           0.6192938271623817,
           -0.6357898420661944
          ],
          "vectorType": "dense"
         }
        ],
        [
         "1",
         {
          "length": 2,
          "values": [
           3.249456589361688,
           -1.2847946773825833
          ],
          "vectorType": "dense"
         }
        ],
        [
         "1",
         {
          "length": 2,
          "values": [
           3.3499794247879007,
           -2.6709504428938526
          ],
          "vectorType": "dense"
         }
        ],
        [
         "1",
         {
          "length": 2,
          "values": [
           0.8590471150995695,
           -0.09676338102649315
          ],
          "vectorType": "dense"
         }
        ],
        [
         "1",
         {
          "length": 2,
          "values": [
           3.153846915866264,
           0.8707764321748559
          ],
          "vectorType": "dense"
         }
        ],
        [
         "1",
         {
          "length": 2,
          "values": [
           -0.34622347304999,
           -1.5398703522206656
          ],
          "vectorType": "dense"
         }
        ],
        [
         "1",
         {
          "length": 2,
          "values": [
           2.4592427765273936,
           -0.6003197511282811
          ],
          "vectorType": "dense"
         }
        ],
        [
         "1",
         {
          "length": 2,
          "values": [
           1.5287555778359285,
           -0.4048615538044331
          ],
          "vectorType": "dense"
         }
        ],
        [
         "1",
         {
          "length": 2,
          "values": [
           1.7720258700967124,
           -0.803503014434994
          ],
          "vectorType": "dense"
         }
        ],
        [
         "1",
         {
          "length": 2,
          "values": [
           2.678085191313472,
           1.4834036616823287
          ],
          "vectorType": "dense"
         }
        ],
        [
         "0",
         {
          "length": 2,
          "values": [
           -4.0248937788414745,
           2.9388442248977937
          ],
          "vectorType": "dense"
         }
        ],
        [
         "1",
         {
          "length": 2,
          "values": [
           2.1344731172656486,
           -1.517245622815041
          ],
          "vectorType": "dense"
         }
        ],
        [
         "0",
         {
          "length": 2,
          "values": [
           -5.160869926813539,
           2.3801089865141543
          ],
          "vectorType": "dense"
         }
        ],
        [
         "0",
         {
          "length": 2,
          "values": [
           -0.5354608003698782,
           -0.3803804509380937
          ],
          "vectorType": "dense"
         }
        ],
        [
         "1",
         {
          "length": 2,
          "values": [
           -0.3428217359545053,
           -3.5313738153028877
          ],
          "vectorType": "dense"
         }
        ],
        [
         "1",
         {
          "length": 2,
          "values": [
           4.193390244985366,
           -2.3653110586351427
          ],
          "vectorType": "dense"
         }
        ],
        [
         "1",
         {
          "length": 2,
          "values": [
           1.1418271770489359,
           -5.594535868456152
          ],
          "vectorType": "dense"
         }
        ],
        [
         "1",
         {
          "length": 2,
          "values": [
           1.664010998953224,
           -2.3875173612100076
          ],
          "vectorType": "dense"
         }
        ],
        [
         "1",
         {
          "length": 2,
          "values": [
           -1.0108230779795002,
           -1.091429306814634
          ],
          "vectorType": "dense"
         }
        ],
        [
         "1",
         {
          "length": 2,
          "values": [
           1.2997860372752292,
           1.8198140572884016
          ],
          "vectorType": "dense"
         }
        ],
        [
         "1",
         {
          "length": 2,
          "values": [
           2.3713421938590287,
           1.6800979291229732
          ],
          "vectorType": "dense"
         }
        ],
        [
         "1",
         {
          "length": 2,
          "values": [
           1.6644065095239404,
           0.21377464094397797
          ],
          "vectorType": "dense"
         }
        ],
        [
         "1",
         {
          "length": 2,
          "values": [
           1.9259835298962638,
           1.1367397049354833
          ],
          "vectorType": "dense"
         }
        ],
        [
         "1",
         {
          "length": 2,
          "values": [
           4.233491591622636,
           -0.18411049913664243
          ],
          "vectorType": "dense"
         }
        ],
        [
         "1",
         {
          "length": 2,
          "values": [
           2.67551654832496,
           -2.313756960760067
          ],
          "vectorType": "dense"
         }
        ],
        [
         "1",
         {
          "length": 2,
          "values": [
           3.8331251057796765,
           -0.4958136647931506
          ],
          "vectorType": "dense"
         }
        ],
        [
         "1",
         {
          "length": 2,
          "values": [
           2.549197271080616,
           -0.22812922776495775
          ],
          "vectorType": "dense"
         }
        ],
        [
         "1",
         {
          "length": 2,
          "values": [
           4.690796039132359,
           0.7668032380496332
          ],
          "vectorType": "dense"
         }
        ],
        [
         "1",
         {
          "length": 2,
          "values": [
           2.023256911330983,
           -1.2601331159344544
          ],
          "vectorType": "dense"
         }
        ],
        [
         "1",
         {
          "length": 2,
          "values": [
           2.893402316494323,
           1.4503596008448243
          ],
          "vectorType": "dense"
         }
        ],
        [
         "1",
         {
          "length": 2,
          "values": [
           3.499122181891035,
           -1.7992493424731142
          ],
          "vectorType": "dense"
         }
        ],
        [
         "1",
         {
          "length": 2,
          "values": [
           2.1520101253443116,
           0.8293390875025686
          ],
          "vectorType": "dense"
         }
        ],
        [
         "1",
         {
          "length": 2,
          "values": [
           2.053277400329513,
           -1.6150382046289566
          ],
          "vectorType": "dense"
         }
        ],
        [
         "1",
         {
          "length": 2,
          "values": [
           3.87388097251528,
           -1.0833015533293562
          ],
          "vectorType": "dense"
         }
        ],
        [
         "1",
         {
          "length": 2,
          "values": [
           4.060289488002569,
           -0.1220610343738378
          ],
          "vectorType": "dense"
         }
        ],
        [
         "1",
         {
          "length": 2,
          "values": [
           0.09858059215940665,
           0.21337209338157492
          ],
          "vectorType": "dense"
         }
        ],
        [
         "1",
         {
          "length": 2,
          "values": [
           1.0884184965311121,
           -1.2917113284606192
          ],
          "vectorType": "dense"
         }
        ],
        [
         "1",
         {
          "length": 2,
          "values": [
           0.48134742985143564,
           0.17786319025918332
          ],
          "vectorType": "dense"
         }
        ],
        [
         "1",
         {
          "length": 2,
          "values": [
           4.866027926474258,
           2.1292326072497127
          ],
          "vectorType": "dense"
         }
        ],
        [
         "0",
         {
          "length": 2,
          "values": [
           -5.912410291355404,
           -3.4795749998679417
          ],
          "vectorType": "dense"
         }
        ],
        [
         "0",
         {
          "length": 2,
          "values": [
           -8.73365338296719,
           0.5733501846849253
          ],
          "vectorType": "dense"
         }
        ],
        [
         "0",
         {
          "length": 2,
          "values": [
           -6.4336545461706285,
           3.573672988510644
          ],
          "vectorType": "dense"
         }
        ],
        [
         "0",
         {
          "length": 2,
          "values": [
           -3.790047527744144,
           3.580897052024049
          ],
          "vectorType": "dense"
         }
        ],
        [
         "0",
         {
          "length": 2,
          "values": [
           -1.2550749425072116,
           1.900624363993427
          ],
          "vectorType": "dense"
         }
        ],
        [
         "0",
         {
          "length": 2,
          "values": [
           -10.365673359932295,
           -1.6705402060588808
          ],
          "vectorType": "dense"
         }
        ],
        [
         "1",
         {
          "length": 2,
          "values": [
           5.470429900908385,
           0.6700472198383458
          ],
          "vectorType": "dense"
         }
        ]
       ],
       "datasetInfos": [],
       "dbfsResultPath": null,
       "isJsonSchema": true,
       "metadata": {},
       "overflow": false,
       "plotOptions": {
        "customPlotOptions": {},
        "displayType": "table",
        "pivotAggregation": null,
        "pivotColumns": null,
        "xColumns": null,
        "yColumns": null
       },
       "removedWidgets": [],
       "schema": [
        {
         "metadata": "{}",
         "name": "label",
         "type": "\"string\""
        },
        {
         "metadata": "{\"ml_attr\":{\"num_attrs\":2}}",
         "name": "pca_features",
         "type": "{\"type\":\"udt\",\"class\":\"org.apache.spark.ml.linalg.VectorUDT\",\"pyClass\":\"pyspark.ml.linalg.VectorUDT\",\"sqlType\":{\"type\":\"struct\",\"fields\":[{\"name\":\"type\",\"type\":\"byte\",\"nullable\":false,\"metadata\":{}},{\"name\":\"size\",\"type\":\"integer\",\"nullable\":true,\"metadata\":{}},{\"name\":\"indices\",\"type\":{\"type\":\"array\",\"elementType\":\"integer\",\"containsNull\":false},\"nullable\":true,\"metadata\":{}},{\"name\":\"values\",\"type\":{\"type\":\"array\",\"elementType\":\"double\",\"containsNull\":false},\"nullable\":true,\"metadata\":{}}]}}"
        }
       ],
       "type": "table"
      }
     },
     "output_type": "display_data"
    }
   ],
   "source": [
    "# Fit pipeline\n",
    "model = pipeline.fit(df)\n",
    "\n",
    "# Transform data\n",
    "result = model.transform(df)\n",
    "\n",
    "# Show results\n",
    "print(\"Original Features:\", bc.feature_names)\n",
    "print(\"\\nPrincipal components:\")\n",
    "print(model.stages[-1].pc)  # Get PCA components\n",
    "\n",
    "# Select and display results\n",
    "result.select(\"label\", \"pca_features\").show(5, truncate=False)\n",
    "\n",
    "# Create a visualization using Databricks' display function\n",
    "display(result.select(\"label\", \"pca_features\"))"
   ]
  },
  {
   "cell_type": "code",
   "execution_count": 0,
   "metadata": {
    "application/vnd.databricks.v1+cell": {
     "cellMetadata": {
      "byteLimit": 2048000,
      "rowLimit": 10000
     },
     "inputWidgets": {},
     "nuid": "6ba832d6-6152-4654-90ce-ec978ed97a72",
     "showTitle": false,
     "tableResultSettingsMap": {},
     "title": ""
    }
   },
   "outputs": [
    {
     "output_type": "stream",
     "name": "stderr",
     "output_type": "stream",
     "text": [
      "/databricks/spark/python/pyspark/sql/pandas/conversion.py:122: UserWarning: toPandas attempted Arrow optimization because 'spark.sql.execution.arrow.pyspark.enabled' is set to true; however, failed by the reason below:\n  Unable to convert the field pca_features. If this column is not necessary, you may consider dropping it or converting to primitive type before the conversion.\nDirect cause: Unsupported type in conversion to Arrow: VectorUDT()\nAttempting non-optimization as 'spark.sql.execution.arrow.pyspark.fallback.enabled' is set to true.\n  warn(msg)\n/databricks/spark/python/pyspark/sql/pandas/conversion.py:467: UserWarning: createDataFrame attempted Arrow optimization because 'spark.sql.execution.arrow.pyspark.enabled' is set to true; however, failed by the reason below:\n  Could not convert DenseVector([-9.1848, -1.9469]) with type DenseVector: did not recognize Python value type when inferring an Arrow data type\nAttempting non-optimization as 'spark.sql.execution.arrow.pyspark.fallback.enabled' is set to true.\n  warn(msg)\n"
     ]
    },
    {
     "output_type": "display_data",
     "data": {
      "text/html": [
       "<style scoped>\n",
       "  .table-result-container {\n",
       "    max-height: 300px;\n",
       "    overflow: auto;\n",
       "  }\n",
       "  table, th, td {\n",
       "    border: 1px solid black;\n",
       "    border-collapse: collapse;\n",
       "  }\n",
       "  th, td {\n",
       "    padding: 5px;\n",
       "  }\n",
       "  th {\n",
       "    text-align: left;\n",
       "  }\n",
       "</style><div class='table-result-container'><table class='table-result'><thead style='background-color: white'><tr><th>label</th><th>pca_features</th><th>PC1</th><th>PC2</th></tr></thead><tbody><tr><td>0</td><td>Map(vectorType -> dense, length -> 2, values -> List(-9.184755209858798, -1.9468700303852997))</td><td>-9.184755209858798</td><td>-1.9468700303852997</td></tr><tr><td>0</td><td>Map(vectorType -> dense, length -> 2, values -> List(-2.385702628982577, 3.764859062972658))</td><td>-2.385702628982577</td><td>3.764859062972658</td></tr><tr><td>0</td><td>Map(vectorType -> dense, length -> 2, values -> List(-5.728855490819108, 1.0742285887048915))</td><td>-5.728855490819108</td><td>1.0742285887048915</td></tr><tr><td>0</td><td>Map(vectorType -> dense, length -> 2, values -> List(-7.116691259621306, -10.266555635124405))</td><td>-7.116691259621306</td><td>-10.266555635124405</td></tr><tr><td>0</td><td>Map(vectorType -> dense, length -> 2, values -> List(-3.931842466790753, 1.9463589770798275))</td><td>-3.931842466790753</td><td>1.9463589770798275</td></tr><tr><td>0</td><td>Map(vectorType -> dense, length -> 2, values -> List(-2.3781546249740986, -3.9464564299158127))</td><td>-2.3781546249740986</td><td>-3.9464564299158127</td></tr><tr><td>0</td><td>Map(vectorType -> dense, length -> 2, values -> List(-2.236915058609935, 2.6876664141795787))</td><td>-2.236915058609935</td><td>2.6876664141795787</td></tr><tr><td>0</td><td>Map(vectorType -> dense, length -> 2, values -> List(-2.1414142815514485, -2.3381866491831156))</td><td>-2.1414142815514485</td><td>-2.3381866491831156</td></tr><tr><td>0</td><td>Map(vectorType -> dense, length -> 2, values -> List(-3.172133150308517, -3.3888311376864144))</td><td>-3.172133150308517</td><td>-3.3888311376864144</td></tr><tr><td>0</td><td>Map(vectorType -> dense, length -> 2, values -> List(-6.346162835225129, -7.720380945492959))</td><td>-6.346162835225129</td><td>-7.720380945492959</td></tr><tr><td>0</td><td>Map(vectorType -> dense, length -> 2, values -> List(0.8097013190408896, 2.656937672621719))</td><td>0.8097013190408896</td><td>2.656937672621719</td></tr><tr><td>0</td><td>Map(vectorType -> dense, length -> 2, values -> List(-2.6487698390097, -0.06650940530101429))</td><td>-2.6487698390097</td><td>-0.06650940530101429</td></tr><tr><td>0</td><td>Map(vectorType -> dense, length -> 2, values -> List(-8.177838822068551, -2.6986020073253876))</td><td>-8.177838822068551</td><td>-2.6986020073253876</td></tr><tr><td>0</td><td>Map(vectorType -> dense, length -> 2, values -> List(-0.34182514389774243, 0.9674280261783395))</td><td>-0.34182514389774243</td><td>0.9674280261783395</td></tr><tr><td>0</td><td>Map(vectorType -> dense, length -> 2, values -> List(-4.338561717694848, -4.856809831831542))</td><td>-4.338561717694848</td><td>-4.856809831831542</td></tr><tr><td>0</td><td>Map(vectorType -> dense, length -> 2, values -> List(-4.07207318021357, -2.9744439832196963))</td><td>-4.07207318021357</td><td>-2.9744439832196963</td></tr><tr><td>0</td><td>Map(vectorType -> dense, length -> 2, values -> List(-0.22985276950326078, 1.563382113820491))</td><td>-0.22985276950326078</td><td>1.563382113820491</td></tr><tr><td>0</td><td>Map(vectorType -> dense, length -> 2, values -> List(-4.414126949591796, -1.4174231504677404))</td><td>-4.414126949591796</td><td>-1.4174231504677404</td></tr><tr><td>0</td><td>Map(vectorType -> dense, length -> 2, values -> List(-4.944353041108302, 4.110716527760167))</td><td>-4.944353041108302</td><td>4.110716527760167</td></tr><tr><td>1</td><td>Map(vectorType -> dense, length -> 2, values -> List(1.235975828519116, 0.18804949002889026))</td><td>1.235975828519116</td><td>0.18804949002889026</td></tr><tr><td>1</td><td>Map(vectorType -> dense, length -> 2, values -> List(1.5767738400518536, -0.5723046247698896))</td><td>1.5767738400518536</td><td>-0.5723046247698896</td></tr><tr><td>1</td><td>Map(vectorType -> dense, length -> 2, values -> List(3.5542090442654697, -1.6614879693604343))</td><td>3.5542090442654697</td><td>-1.6614879693604343</td></tr><tr><td>0</td><td>Map(vectorType -> dense, length -> 2, values -> List(-4.729049722976225, -3.3020582651138817))</td><td>-4.729049722976225</td><td>-3.3020582651138817</td></tr><tr><td>0</td><td>Map(vectorType -> dense, length -> 2, values -> List(-4.204824406832293, 5.123858058987457))</td><td>-4.204824406832293</td><td>5.123858058987457</td></tr><tr><td>0</td><td>Map(vectorType -> dense, length -> 2, values -> List(-4.945280748242438, 1.5423951430023812))</td><td>-4.945280748242438</td><td>1.5423951430023812</td></tr><tr><td>0</td><td>Map(vectorType -> dense, length -> 2, values -> List(-7.092322358888266, -2.0168357342714707))</td><td>-7.092322358888266</td><td>-2.0168357342714707</td></tr><tr><td>0</td><td>Map(vectorType -> dense, length -> 2, values -> List(-3.5071766582289667, -2.1697159942950077))</td><td>-3.5071766582289667</td><td>-2.1697159942950077</td></tr><tr><td>0</td><td>Map(vectorType -> dense, length -> 2, values -> List(-3.061360211796454, 1.874902631018983))</td><td>-3.061360211796454</td><td>1.874902631018983</td></tr><tr><td>0</td><td>Map(vectorType -> dense, length -> 2, values -> List(-4.003741273398027, -0.5367698596377992))</td><td>-4.003741273398027</td><td>-0.5367698596377992</td></tr><tr><td>0</td><td>Map(vectorType -> dense, length -> 2, values -> List(-1.7138017616568975, 1.5223655018101776))</td><td>-1.7138017616568975</td><td>1.5223655018101776</td></tr><tr><td>0</td><td>Map(vectorType -> dense, length -> 2, values -> List(-6.0541185274085345, 0.7565118002441548))</td><td>-6.0541185274085345</td><td>0.7565118002441548</td></tr><tr><td>0</td><td>Map(vectorType -> dense, length -> 2, values -> List(-2.899684688150535, -4.001774372782243))</td><td>-2.899684688150535</td><td>-4.001774372782243</td></tr><tr><td>0</td><td>Map(vectorType -> dense, length -> 2, values -> List(-4.550778483480172, -0.33723941876735425))</td><td>-4.550778483480172</td><td>-0.33723941876735425</td></tr><tr><td>0</td><td>Map(vectorType -> dense, length -> 2, values -> List(-4.98621537857523, 1.1315932229451566))</td><td>-4.98621537857523</td><td>1.1315932229451566</td></tr><tr><td>0</td><td>Map(vectorType -> dense, length -> 2, values -> List(-2.9827163130446697, -0.7577564966701601))</td><td>-2.9827163130446697</td><td>-0.7577564966701601</td></tr><tr><td>0</td><td>Map(vectorType -> dense, length -> 2, values -> List(-2.7639371844217004, 0.3540444207048967))</td><td>-2.7639371844217004</td><td>0.3540444207048967</td></tr><tr><td>0</td><td>Map(vectorType -> dense, length -> 2, values -> List(-1.295059249402728, -0.9123934661705099))</td><td>-1.295059249402728</td><td>-0.9123934661705099</td></tr><tr><td>1</td><td>Map(vectorType -> dense, length -> 2, values -> List(3.746017295612612, 1.4122305036725344))</td><td>3.746017295612612</td><td>1.4122305036725344</td></tr><tr><td>0</td><td>Map(vectorType -> dense, length -> 2, values -> List(0.9971914775009062, 3.3483467310234842))</td><td>0.9971914775009062</td><td>3.3483467310234842</td></tr><tr><td>0</td><td>Map(vectorType -> dense, length -> 2, values -> List(-0.764591355604326, -0.8854648371667375))</td><td>-0.764591355604326</td><td>-0.8854648371667375</td></tr><tr><td>0</td><td>Map(vectorType -> dense, length -> 2, values -> List(2.149062522258757, 1.922300194308556))</td><td>2.149062522258757</td><td>1.922300194308556</td></tr><tr><td>0</td><td>Map(vectorType -> dense, length -> 2, values -> List(0.09324933698075474, -2.2587645315178184))</td><td>0.09324933698075474</td><td>-2.2587645315178184</td></tr><tr><td>0</td><td>Map(vectorType -> dense, length -> 2, values -> List(-9.080010225451238, -2.016898441324291))</td><td>-9.080010225451238</td><td>-2.016898441324291</td></tr><tr><td>0</td><td>Map(vectorType -> dense, length -> 2, values -> List(-0.9895830367496765, -0.9840641476689251))</td><td>-0.9895830367496765</td><td>-0.9840641476689251</td></tr><tr><td>0</td><td>Map(vectorType -> dense, length -> 2, values -> List(0.2932884879762997, 0.13697856412444143))</td><td>0.2932884879762997</td><td>0.13697856412444143</td></tr><tr><td>0</td><td>Map(vectorType -> dense, length -> 2, values -> List(-5.376209908961654, 0.13475840449503856))</td><td>-5.376209908961654</td><td>0.13475840449503856</td></tr><tr><td>1</td><td>Map(vectorType -> dense, length -> 2, values -> List(4.577908595212511, -1.4829155084495484))</td><td>4.577908595212511</td><td>-1.4829155084495484</td></tr><tr><td>0</td><td>Map(vectorType -> dense, length -> 2, values -> List(-1.6985123749994018, -2.350203862012345))</td><td>-1.6985123749994018</td><td>-2.350203862012345</td></tr><tr><td>1</td><td>Map(vectorType -> dense, length -> 2, values -> List(2.1345670832706904, -0.09574536366108702))</td><td>2.1345670832706904</td><td>-0.09574536366108702</td></tr><tr><td>1</td><td>Map(vectorType -> dense, length -> 2, values -> List(1.566100993427759, 1.2073708547187902))</td><td>1.566100993427759</td><td>1.2073708547187902</td></tr><tr><td>1</td><td>Map(vectorType -> dense, length -> 2, values -> List(3.539790914613369, 1.281368109614397))</td><td>3.539790914613369</td><td>1.281368109614397</td></tr><tr><td>1</td><td>Map(vectorType -> dense, length -> 2, values -> List(3.155037949380859, 1.6874737964866235))</td><td>3.155037949380859</td><td>1.6874737964866235</td></tr><tr><td>1</td><td>Map(vectorType -> dense, length -> 2, values -> List(3.4474551464077874, 0.49778071959150105))</td><td>3.4474551464077874</td><td>0.49778071959150105</td></tr><tr><td>0</td><td>Map(vectorType -> dense, length -> 2, values -> List(-3.2996476093220637, 1.1299435737147892))</td><td>-3.2996476093220637</td><td>1.1299435737147892</td></tr><tr><td>0</td><td>Map(vectorType -> dense, length -> 2, values -> List(0.6740262135577757, 2.114549136533497))</td><td>0.6740262135577757</td><td>2.114549136533497</td></tr><tr><td>1</td><td>Map(vectorType -> dense, length -> 2, values -> List(2.8556457728003637, -0.15258887411272043))</td><td>2.8556457728003637</td><td>-0.15258887411272043</td></tr><tr><td>0</td><td>Map(vectorType -> dense, length -> 2, values -> List(-4.644652068242386, 2.3083015082587246))</td><td>-4.644652068242386</td><td>2.3083015082587246</td></tr><tr><td>0</td><td>Map(vectorType -> dense, length -> 2, values -> List(-2.174949156248412, -0.9712614383238205))</td><td>-2.174949156248412</td><td>-0.9712614383238205</td></tr><tr><td>1</td><td>Map(vectorType -> dense, length -> 2, values -> List(3.718187379898406, 1.7860700970608108))</td><td>3.718187379898406</td><td>1.7860700970608108</td></tr><tr><td>1</td><td>Map(vectorType -> dense, length -> 2, values -> List(4.132326931707893, -2.4016792608874233))</td><td>4.132326931707893</td><td>-2.4016792608874233</td></tr><tr><td>1</td><td>Map(vectorType -> dense, length -> 2, values -> List(2.383738224783428, -2.7552338144184616))</td><td>2.383738224783428</td><td>-2.7552338144184616</td></tr><tr><td>1</td><td>Map(vectorType -> dense, length -> 2, values -> List(2.5766161014186637, -3.1359126501904933))</td><td>2.5766161014186637</td><td>-3.1359126501904933</td></tr><tr><td>0</td><td>Map(vectorType -> dense, length -> 2, values -> List(-4.7549283181968045, -3.0090328746490678))</td><td>-4.7549283181968045</td><td>-3.0090328746490678</td></tr><tr><td>1</td><td>Map(vectorType -> dense, length -> 2, values -> List(2.3120978470008, -3.2651167207221268))</td><td>2.3120978470008</td><td>-3.2651167207221268</td></tr><tr><td>0</td><td>Map(vectorType -> dense, length -> 2, values -> List(-1.690120795036984, -1.5393221159132306))</td><td>-1.690120795036984</td><td>-1.5393221159132306</td></tr><tr><td>0</td><td>Map(vectorType -> dense, length -> 2, values -> List(-1.8107121691780637, -0.7221048150632118))</td><td>-1.8107121691780637</td><td>-0.7221048150632118</td></tr><tr><td>1</td><td>Map(vectorType -> dense, length -> 2, values -> List(2.7834755915717917, -2.308617372387838))</td><td>2.7834755915717917</td><td>-2.308617372387838</td></tr><tr><td>1</td><td>Map(vectorType -> dense, length -> 2, values -> List(3.5155550218280442, 0.657730735549507))</td><td>3.5155550218280442</td><td>0.657730735549507</td></tr><tr><td>1</td><td>Map(vectorType -> dense, length -> 2, values -> List(-4.326196052613209, -9.194435551699886))</td><td>-4.326196052613209</td><td>-9.194435551699886</td></tr><tr><td>1</td><td>Map(vectorType -> dense, length -> 2, values -> List(3.2584124133410364, 0.9370136471243264))</td><td>3.2584124133410364</td><td>0.9370136471243264</td></tr><tr><td>0</td><td>Map(vectorType -> dense, length -> 2, values -> List(-2.702218505205821, 4.433240984891397))</td><td>-2.702218505205821</td><td>4.433240984891397</td></tr><tr><td>1</td><td>Map(vectorType -> dense, length -> 2, values -> List(0.3075851279890566, -7.381317395929899))</td><td>0.3075851279890566</td><td>-7.381317395929899</td></tr><tr><td>0</td><td>Map(vectorType -> dense, length -> 2, values -> List(-5.498866892103152, -0.9375005134764515))</td><td>-5.498866892103152</td><td>-0.9375005134764515</td></tr><tr><td>0</td><td>Map(vectorType -> dense, length -> 2, values -> List(0.36139120652866014, -0.1196338211958474))</td><td>0.36139120652866014</td><td>-0.1196338211958474</td></tr><tr><td>1</td><td>Map(vectorType -> dense, length -> 2, values -> List(2.627664570741694, 0.6966963492687757))</td><td>2.627664570741694</td><td>0.6966963492687757</td></tr><tr><td>0</td><td>Map(vectorType -> dense, length -> 2, values -> List(-1.4269120607028623, 1.9653720916439372))</td><td>-1.4269120607028623</td><td>1.9653720916439372</td></tr><tr><td>1</td><td>Map(vectorType -> dense, length -> 2, values -> List(0.8337842392556142, -1.9638768597292673))</td><td>0.8337842392556142</td><td>-1.9638768597292673</td></tr><tr><td>0</td><td>Map(vectorType -> dense, length -> 2, values -> List(-6.225418799624563, -0.9192606901744491))</td><td>-6.225418799624563</td><td>-0.9192606901744491</td></tr><tr><td>0</td><td>Map(vectorType -> dense, length -> 2, values -> List(-11.658456435666892, -4.7444425930734235))</td><td>-11.658456435666892</td><td>-4.7444425930734235</td></tr><tr><td>1</td><td>Map(vectorType -> dense, length -> 2, values -> List(2.0198004469637176, 0.25467574616148353))</td><td>2.0198004469637176</td><td>0.25467574616148353</td></tr><tr><td>1</td><td>Map(vectorType -> dense, length -> 2, values -> List(1.6369445986800977, -1.7144405868911354))</td><td>1.6369445986800977</td><td>-1.7144405868911354</td></tr><tr><td>1</td><td>Map(vectorType -> dense, length -> 2, values -> List(-1.1664352709963526, -2.5123052861935284))</td><td>-1.1664352709963526</td><td>-2.5123052861935284</td></tr><tr><td>0</td><td>Map(vectorType -> dense, length -> 2, values -> List(-10.759775351229562, 2.25599785781172))</td><td>-10.759775351229562</td><td>2.25599785781172</td></tr><tr><td>0</td><td>Map(vectorType -> dense, length -> 2, values -> List(-5.030384877079519, -0.7737283569771864))</td><td>-5.030384877079519</td><td>-0.7737283569771864</td></tr><tr><td>1</td><td>Map(vectorType -> dense, length -> 2, values -> List(2.1725526922012715, -0.496441168924977))</td><td>2.1725526922012715</td><td>-0.496441168924977</td></tr><tr><td>0</td><td>Map(vectorType -> dense, length -> 2, values -> List(-3.285344627777663, 1.6667704797343097))</td><td>-3.285344627777663</td><td>1.6667704797343097</td></tr><tr><td>0</td><td>Map(vectorType -> dense, length -> 2, values -> List(-0.607073784243589, -0.16207191874894683))</td><td>-0.607073784243589</td><td>-0.16207191874894683</td></tr><tr><td>0</td><td>Map(vectorType -> dense, length -> 2, values -> List(-3.5804132398493693, 2.2047219162839213))</td><td>-3.5804132398493693</td><td>2.2047219162839213</td></tr><tr><td>1</td><td>Map(vectorType -> dense, length -> 2, values -> List(0.9333368663416973, -0.9268859190310914))</td><td>0.9333368663416973</td><td>-0.9268859190310914</td></tr><tr><td>1</td><td>Map(vectorType -> dense, length -> 2, values -> List(-1.2584973023904544, -1.014684255071954))</td><td>-1.2584973023904544</td><td>-1.014684255071954</td></tr><tr><td>1</td><td>Map(vectorType -> dense, length -> 2, values -> List(1.5868676958892003, 1.6182329540103404))</td><td>1.5868676958892003</td><td>1.6182329540103404</td></tr><tr><td>0</td><td>Map(vectorType -> dense, length -> 2, values -> List(-0.2522755916003695, 0.530884424915292))</td><td>-0.2522755916003695</td><td>0.530884424915292</td></tr><tr><td>1</td><td>Map(vectorType -> dense, length -> 2, values -> List(2.844928349652454, 2.8911037319207855))</td><td>2.844928349652454</td><td>2.8911037319207855</td></tr><tr><td>1</td><td>Map(vectorType -> dense, length -> 2, values -> List(1.9632226839332967, 0.9643084982548302))</td><td>1.9632226839332967</td><td>0.9643084982548302</td></tr><tr><td>0</td><td>Map(vectorType -> dense, length -> 2, values -> List(-2.773425247151511, -0.557509976757413))</td><td>-2.773425247151511</td><td>-0.557509976757413</td></tr><tr><td>0</td><td>Map(vectorType -> dense, length -> 2, values -> List(-4.392363138171209, 2.1216408918292844))</td><td>-4.392363138171209</td><td>2.1216408918292844</td></tr><tr><td>1</td><td>Map(vectorType -> dense, length -> 2, values -> List(2.589804073230505, -0.21344611982789297))</td><td>2.589804073230505</td><td>-0.21344611982789297</td></tr><tr><td>1</td><td>Map(vectorType -> dense, length -> 2, values -> List(3.900905764302463, -1.1890204211664386))</td><td>3.900905764302463</td><td>-1.1890204211664386</td></tr><tr><td>1</td><td>Map(vectorType -> dense, length -> 2, values -> List(2.8157536467617743, -0.36756056672604126))</td><td>2.8157536467617743</td><td>-0.36756056672604126</td></tr><tr><td>0</td><td>Map(vectorType -> dense, length -> 2, values -> List(-0.6157390843403041, -0.6383499883109449))</td><td>-0.6157390843403041</td><td>-0.6383499883109449</td></tr><tr><td>0</td><td>Map(vectorType -> dense, length -> 2, values -> List(0.43247968428512473, 1.390820523329051))</td><td>0.43247968428512473</td><td>1.390820523329051</td></tr><tr><td>1</td><td>Map(vectorType -> dense, length -> 2, values -> List(4.551024418715486, -3.5256837878131457))</td><td>4.551024418715486</td><td>-3.5256837878131457</td></tr><tr><td>1</td><td>Map(vectorType -> dense, length -> 2, values -> List(3.445152170485421, 1.4233700401235052))</td><td>3.445152170485421</td><td>1.4233700401235052</td></tr><tr><td>1</td><td>Map(vectorType -> dense, length -> 2, values -> List(2.1141000788234177, -1.8477477817558619))</td><td>2.1141000788234177</td><td>-1.8477477817558619</td></tr><tr><td>1</td><td>Map(vectorType -> dense, length -> 2, values -> List(2.688986180588338, -1.4188133337752493))</td><td>2.688986180588338</td><td>-1.4188133337752493</td></tr><tr><td>0</td><td>Map(vectorType -> dense, length -> 2, values -> List(-3.2110913432991848, -4.043198634073635))</td><td>-3.2110913432991848</td><td>-4.043198634073635</td></tr><tr><td>1</td><td>Map(vectorType -> dense, length -> 2, values -> List(0.7486126561287516, -1.7960581752732854))</td><td>0.7486126561287516</td><td>-1.7960581752732854</td></tr><tr><td>1</td><td>Map(vectorType -> dense, length -> 2, values -> List(3.1562288887130996, 1.0348388776990332))</td><td>3.1562288887130996</td><td>1.0348388776990332</td></tr><tr><td>0</td><td>Map(vectorType -> dense, length -> 2, values -> List(-13.044643947118486, -0.9806503574605676))</td><td>-13.044643947118486</td><td>-0.9806503574605676</td></tr><tr><td>1</td><td>Map(vectorType -> dense, length -> 2, values -> List(2.2267205341066245, -0.6668239016416191))</td><td>2.2267205341066245</td><td>-0.6668239016416191</td></tr><tr><td>1</td><td>Map(vectorType -> dense, length -> 2, values -> List(2.4906395353764794, -2.5964017081976385))</td><td>2.4906395353764794</td><td>-2.5964017081976385</td></tr><tr><td>1</td><td>Map(vectorType -> dense, length -> 2, values -> List(0.10325956887870977, -2.2781390146787253))</td><td>0.10325956887870977</td><td>-2.2781390146787253</td></tr><tr><td>1</td><td>Map(vectorType -> dense, length -> 2, values -> List(-3.5881369364374964, -3.9228814330897817))</td><td>-3.5881369364374964</td><td>-3.9228814330897817</td></tr><tr><td>1</td><td>Map(vectorType -> dense, length -> 2, values -> List(1.3477627936910612, -3.553098748124878))</td><td>1.3477627936910612</td><td>-3.553098748124878</td></tr><tr><td>1</td><td>Map(vectorType -> dense, length -> 2, values -> List(2.507910978274425, -3.248461200088754))</td><td>2.507910978274425</td><td>-3.248461200088754</td></tr><tr><td>1</td><td>Map(vectorType -> dense, length -> 2, values -> List(2.0442308647877296, -0.3046168360404698))</td><td>2.0442308647877296</td><td>-0.3046168360404698</td></tr><tr><td>1</td><td>Map(vectorType -> dense, length -> 2, values -> List(2.0952255918005553, -3.6638720623651575))</td><td>2.0952255918005553</td><td>-3.6638720623651575</td></tr><tr><td>0</td><td>Map(vectorType -> dense, length -> 2, values -> List(-3.1077931629832842, -1.5680098728032148))</td><td>-3.1077931629832842</td><td>-1.5680098728032148</td></tr><tr><td>0</td><td>Map(vectorType -> dense, length -> 2, values -> List(-4.952368008219316, -2.382749650207092))</td><td>-4.952368008219316</td><td>-2.382749650207092</td></tr><tr><td>0</td><td>Map(vectorType -> dense, length -> 2, values -> List(-0.8502661181133304, 2.304707467911811))</td><td>-0.8502661181133304</td><td>2.304707467911811</td></tr><tr><td>1</td><td>Map(vectorType -> dense, length -> 2, values -> List(2.9633917342885567, -0.37117988308380523))</td><td>2.9633917342885567</td><td>-0.37117988308380523</td></tr><tr><td>0</td><td>Map(vectorType -> dense, length -> 2, values -> List(-3.331202091345631, 1.3243920287519007))</td><td>-3.331202091345631</td><td>1.3243920287519007</td></tr><tr><td>0</td><td>Map(vectorType -> dense, length -> 2, values -> List(-12.8832762090226, -2.314585872823187))</td><td>-12.8832762090226</td><td>-2.314585872823187</td></tr><tr><td>1</td><td>Map(vectorType -> dense, length -> 2, values -> List(0.770066100541669, 0.06405286022784357))</td><td>0.770066100541669</td><td>0.06405286022784357</td></tr><tr><td>1</td><td>Map(vectorType -> dense, length -> 2, values -> List(2.200579246024579, 0.7349585441539866))</td><td>2.200579246024579</td><td>0.7349585441539866</td></tr><tr><td>1</td><td>Map(vectorType -> dense, length -> 2, values -> List(3.1406488057317365, 1.8757585568762567))</td><td>3.1406488057317365</td><td>1.8757585568762567</td></tr><tr><td>0</td><td>Map(vectorType -> dense, length -> 2, values -> List(0.6383188466749707, 0.9105648277387001))</td><td>0.6383188466749707</td><td>0.9105648277387001</td></tr><tr><td>0</td><td>Map(vectorType -> dense, length -> 2, values -> List(-1.9174462720607244, 3.534971965704516))</td><td>-1.9174462720607244</td><td>3.534971965704516</td></tr><tr><td>1</td><td>Map(vectorType -> dense, length -> 2, values -> List(-1.4076297975592051, -1.303782215446646))</td><td>-1.4076297975592051</td><td>-1.303782215446646</td></tr><tr><td>0</td><td>Map(vectorType -> dense, length -> 2, values -> List(-4.639608949805652, 1.480714296902346))</td><td>-4.639608949805652</td><td>1.480714296902346</td></tr><tr><td>1</td><td>Map(vectorType -> dense, length -> 2, values -> List(1.875816842535797, -1.4219794520209585))</td><td>1.875816842535797</td><td>-1.4219794520209585</td></tr><tr><td>0</td><td>Map(vectorType -> dense, length -> 2, values -> List(-1.4308104644206412, 1.0486812201637816))</td><td>-1.4308104644206412</td><td>1.0486812201637816</td></tr><tr><td>0</td><td>Map(vectorType -> dense, length -> 2, values -> List(-1.3514379025047487, 1.1531268416676224))</td><td>-1.3514379025047487</td><td>1.1531268416676224</td></tr><tr><td>1</td><td>Map(vectorType -> dense, length -> 2, values -> List(0.7084914339488595, 1.5668536574634873))</td><td>0.7084914339488595</td><td>1.5668536574634873</td></tr><tr><td>0</td><td>Map(vectorType -> dense, length -> 2, values -> List(-2.16950708077604, 2.823776100829295))</td><td>-2.16950708077604</td><td>2.823776100829295</td></tr><tr><td>0</td><td>Map(vectorType -> dense, length -> 2, values -> List(1.9751024733516598, 0.4190187545862016))</td><td>1.9751024733516598</td><td>0.4190187545862016</td></tr><tr><td>1</td><td>Map(vectorType -> dense, length -> 2, values -> List(2.59850309522373, 0.48191143623214344))</td><td>2.59850309522373</td><td>0.48191143623214344</td></tr><tr><td>1</td><td>Map(vectorType -> dense, length -> 2, values -> List(3.2551431766212113, 0.417953650542393))</td><td>3.2551431766212113</td><td>0.417953650542393</td></tr><tr><td>0</td><td>Map(vectorType -> dense, length -> 2, values -> List(-3.778701596515092, -0.8596252179512075))</td><td>-3.778701596515092</td><td>-0.8596252179512075</td></tr><tr><td>1</td><td>Map(vectorType -> dense, length -> 2, values -> List(1.9902834824907458, -1.3281865083916466))</td><td>1.9902834824907458</td><td>-1.3281865083916466</td></tr><tr><td>1</td><td>Map(vectorType -> dense, length -> 2, values -> List(5.010599890275268, -0.5741947482063134))</td><td>5.010599890275268</td><td>-0.5741947482063134</td></tr><tr><td>0</td><td>Map(vectorType -> dense, length -> 2, values -> List(-1.3438380019594123, 1.2736502780620558))</td><td>-1.3438380019594123</td><td>1.2736502780620558</td></tr><tr><td>1</td><td>Map(vectorType -> dense, length -> 2, values -> List(2.4538097168107567, -0.8976654414043106))</td><td>2.4538097168107567</td><td>-0.8976654414043106</td></tr><tr><td>1</td><td>Map(vectorType -> dense, length -> 2, values -> List(1.8356664765287183, 0.09094674191163107))</td><td>1.8356664765287183</td><td>0.09094674191163107</td></tr><tr><td>1</td><td>Map(vectorType -> dense, length -> 2, values -> List(4.342668621633104, 0.8927867080020948))</td><td>4.342668621633104</td><td>0.8927867080020948</td></tr><tr><td>1</td><td>Map(vectorType -> dense, length -> 2, values -> List(0.7321686848841821, -3.698927716334959))</td><td>0.7321686848841821</td><td>-3.698927716334959</td></tr><tr><td>0</td><td>Map(vectorType -> dense, length -> 2, values -> List(-2.3978879545325613, -4.8337356419503745))</td><td>-2.3978879545325613</td><td>-4.8337356419503745</td></tr><tr><td>1</td><td>Map(vectorType -> dense, length -> 2, values -> List(-0.3927530826218365, -1.0821159150961952))</td><td>-0.3927530826218365</td><td>-1.0821159150961952</td></tr><tr><td>1</td><td>Map(vectorType -> dense, length -> 2, values -> List(0.41196532673628217, 0.389288784006076))</td><td>0.41196532673628217</td><td>0.389288784006076</td></tr><tr><td>1</td><td>Map(vectorType -> dense, length -> 2, values -> List(3.0472436872382715, 2.235817238795145))</td><td>3.0472436872382715</td><td>2.235817238795145</td></tr><tr><td>1</td><td>Map(vectorType -> dense, length -> 2, values -> List(1.4412955434660437, -0.305601552317848))</td><td>1.4412955434660437</td><td>-0.305601552317848</td></tr><tr><td>1</td><td>Map(vectorType -> dense, length -> 2, values -> List(-0.08311297195894712, -7.144073768197734))</td><td>-0.08311297195894712</td><td>-7.144073768197734</td></tr><tr><td>1</td><td>Map(vectorType -> dense, length -> 2, values -> List(-7.087070838949417, -12.562140868978332))</td><td>-7.087070838949417</td><td>-12.562140868978332</td></tr><tr><td>1</td><td>Map(vectorType -> dense, length -> 2, values -> List(3.7401136372673087, -0.2502813056021372))</td><td>3.7401136372673087</td><td>-0.2502813056021372</td></tr><tr><td>1</td><td>Map(vectorType -> dense, length -> 2, values -> List(0.9683207941410804, -0.9441135819226691))</td><td>0.9683207941410804</td><td>-0.9441135819226691</td></tr><tr><td>1</td><td>Map(vectorType -> dense, length -> 2, values -> List(2.416593560539964, -0.005547531739681007))</td><td>2.416593560539964</td><td>-0.005547531739681007</td></tr><tr><td>0</td><td>Map(vectorType -> dense, length -> 2, values -> List(-4.0971826377870375, 0.3784708057605489))</td><td>-4.0971826377870375</td><td>0.3784708057605489</td></tr><tr><td>1</td><td>Map(vectorType -> dense, length -> 2, values -> List(0.7509422555127223, 3.0679491866145))</td><td>0.7509422555127223</td><td>3.0679491866145</td></tr><tr><td>1</td><td>Map(vectorType -> dense, length -> 2, values -> List(3.651433651563705, 0.6740556439403642))</td><td>3.651433651563705</td><td>0.6740556439403642</td></tr><tr><td>1</td><td>Map(vectorType -> dense, length -> 2, values -> List(4.676097103502341, 1.10288682345121))</td><td>4.676097103502341</td><td>1.10288682345121</td></tr><tr><td>1</td><td>Map(vectorType -> dense, length -> 2, values -> List(0.5972562440800077, -1.7840810718355007))</td><td>0.5972562440800077</td><td>-1.7840810718355007</td></tr><tr><td>0</td><td>Map(vectorType -> dense, length -> 2, values -> List(-3.384352890865804, 2.908477953178305))</td><td>-3.384352890865804</td><td>2.908477953178305</td></tr><tr><td>0</td><td>Map(vectorType -> dense, length -> 2, values -> List(-6.144479695567227, 2.0158789937746477))</td><td>-6.144479695567227</td><td>2.0158789937746477</td></tr><tr><td>1</td><td>Map(vectorType -> dense, length -> 2, values -> List(1.3238664840948287, -1.468002337228917))</td><td>1.3238664840948287</td><td>-1.468002337228917</td></tr><tr><td>0</td><td>Map(vectorType -> dense, length -> 2, values -> List(-5.489322772303608, 4.162167037247703))</td><td>-5.489322772303608</td><td>4.162167037247703</td></tr><tr><td>1</td><td>Map(vectorType -> dense, length -> 2, values -> List(2.9947681268795883, 2.7364532614587054))</td><td>2.9947681268795883</td><td>2.7364532614587054</td></tr><tr><td>1</td><td>Map(vectorType -> dense, length -> 2, values -> List(4.382876252034909, -0.006866239711844024))</td><td>4.382876252034909</td><td>-0.006866239711844024</td></tr><tr><td>0</td><td>Map(vectorType -> dense, length -> 2, values -> List(-1.2125676804145147, 2.0372463953120428))</td><td>-1.2125676804145147</td><td>2.0372463953120428</td></tr><tr><td>0</td><td>Map(vectorType -> dense, length -> 2, values -> List(-5.065204235707061, 1.783582969267652))</td><td>-5.065204235707061</td><td>1.783582969267652</td></tr><tr><td>1</td><td>Map(vectorType -> dense, length -> 2, values -> List(1.9759628006688976, 1.84115939446237))</td><td>1.9759628006688976</td><td>1.84115939446237</td></tr><tr><td>1</td><td>Map(vectorType -> dense, length -> 2, values -> List(2.512665538094374, -0.11415185728328553))</td><td>2.512665538094374</td><td>-0.11415185728328553</td></tr><tr><td>0</td><td>Map(vectorType -> dense, length -> 2, values -> List(0.9466549351985862, 1.6832724441193998))</td><td>0.9466549351985862</td><td>1.6832724441193998</td></tr><tr><td>0</td><td>Map(vectorType -> dense, length -> 2, values -> List(-2.8168897774102652, -1.2639909533709472))</td><td>-2.8168897774102652</td><td>-1.2639909533709472</td></tr><tr><td>1</td><td>Map(vectorType -> dense, length -> 2, values -> List(3.4809234523308104, -1.6182680772420517))</td><td>3.4809234523308104</td><td>-1.6182680772420517</td></tr><tr><td>1</td><td>Map(vectorType -> dense, length -> 2, values -> List(4.654633990732292, 0.2227188459265475))</td><td>4.654633990732292</td><td>0.2227188459265475</td></tr><tr><td>1</td><td>Map(vectorType -> dense, length -> 2, values -> List(5.346913394805295, -1.0258552141595594))</td><td>5.346913394805295</td><td>-1.0258552141595594</td></tr><tr><td>1</td><td>Map(vectorType -> dense, length -> 2, values -> List(-1.1698684180216836, -7.008319995898495))</td><td>-1.1698684180216836</td><td>-7.008319995898495</td></tr><tr><td>0</td><td>Map(vectorType -> dense, length -> 2, values -> List(-2.953702919945471, -0.7058008217765863))</td><td>-2.953702919945471</td><td>-0.7058008217765863</td></tr><tr><td>1</td><td>Map(vectorType -> dense, length -> 2, values -> List(4.971327817743079, 3.3832279834158325))</td><td>4.971327817743079</td><td>3.3832279834158325</td></tr><tr><td>1</td><td>Map(vectorType -> dense, length -> 2, values -> List(4.060452888239647, 1.2450706432840835))</td><td>4.060452888239647</td><td>1.2450706432840835</td></tr><tr><td>0</td><td>Map(vectorType -> dense, length -> 2, values -> List(-9.504307055873683, 5.598558051824166))</td><td>-9.504307055873683</td><td>5.598558051824166</td></tr><tr><td>0</td><td>Map(vectorType -> dense, length -> 2, values -> List(-8.99924713748581, -0.5805202806336891))</td><td>-8.99924713748581</td><td>-0.5805202806336891</td></tr><tr><td>0</td><td>Map(vectorType -> dense, length -> 2, values -> List(-0.7582113387114503, 1.6071184807982521))</td><td>-0.7582113387114503</td><td>1.6071184807982521</td></tr><tr><td>1</td><td>Map(vectorType -> dense, length -> 2, values -> List(2.657021716338433, -0.5394611319693707))</td><td>2.657021716338433</td><td>-0.5394611319693707</td></tr><tr><td>0</td><td>Map(vectorType -> dense, length -> 2, values -> List(0.3896761071631376, 0.9883726891537293))</td><td>0.3896761071631376</td><td>0.9883726891537293</td></tr><tr><td>1</td><td>Map(vectorType -> dense, length -> 2, values -> List(3.8856465678206793, -0.8153542849565183))</td><td>3.8856465678206793</td><td>-0.8153542849565183</td></tr><tr><td>0</td><td>Map(vectorType -> dense, length -> 2, values -> List(-0.3645553815353931, 3.5713188418258013))</td><td>-0.3645553815353931</td><td>3.5713188418258013</td></tr><tr><td>1</td><td>Map(vectorType -> dense, length -> 2, values -> List(2.8333978267575493, 0.39837916234531845))</td><td>2.8333978267575493</td><td>0.39837916234531845</td></tr><tr><td>1</td><td>Map(vectorType -> dense, length -> 2, values -> List(3.307373480730301, -0.1556042796224762))</td><td>3.307373480730301</td><td>-0.1556042796224762</td></tr><tr><td>1</td><td>Map(vectorType -> dense, length -> 2, values -> List(3.3543529255868116, 1.1027621091603794))</td><td>3.3543529255868116</td><td>1.1027621091603794</td></tr><tr><td>0</td><td>Map(vectorType -> dense, length -> 2, values -> List(-6.517382011166436, -8.004126823765688))</td><td>-6.517382011166436</td><td>-8.004126823765688</td></tr><tr><td>1</td><td>Map(vectorType -> dense, length -> 2, values -> List(1.716225078957832, 0.5426880190282252))</td><td>1.716225078957832</td><td>0.5426880190282252</td></tr><tr><td>1</td><td>Map(vectorType -> dense, length -> 2, values -> List(5.560842943398813, 0.4774274929424864))</td><td>5.560842943398813</td><td>0.4774274929424864</td></tr><tr><td>0</td><td>Map(vectorType -> dense, length -> 2, values -> List(-1.7780969513569727, -2.7741462134520165))</td><td>-1.7780969513569727</td><td>-2.7741462134520165</td></tr><tr><td>0</td><td>Map(vectorType -> dense, length -> 2, values -> List(-2.6091890818216363, -1.5600490304583217))</td><td>-2.6091890818216363</td><td>-1.5600490304583217</td></tr><tr><td>1</td><td>Map(vectorType -> dense, length -> 2, values -> List(2.81656023352004, 0.9692577223481751))</td><td>2.81656023352004</td><td>0.9692577223481751</td></tr><tr><td>0</td><td>Map(vectorType -> dense, length -> 2, values -> List(-2.4962424475167926, -2.276479789862448))</td><td>-2.4962424475167926</td><td>-2.276479789862448</td></tr><tr><td>0</td><td>Map(vectorType -> dense, length -> 2, values -> List(-1.275904513829326, 2.4411110438899812))</td><td>-1.275904513829326</td><td>2.4411110438899812</td></tr><tr><td>0</td><td>Map(vectorType -> dense, length -> 2, values -> List(-3.470143981958466, 2.275846405119393))</td><td>-3.470143981958466</td><td>2.275846405119393</td></tr><tr><td>0</td><td>Map(vectorType -> dense, length -> 2, values -> List(-1.2555703424425486, -0.38205709440413826))</td><td>-1.2555703424425486</td><td>-0.38205709440413826</td></tr><tr><td>1</td><td>Map(vectorType -> dense, length -> 2, values -> List(1.4721360446853025, -0.11678749584162215))</td><td>1.4721360446853025</td><td>-0.11678749584162215</td></tr><tr><td>0</td><td>Map(vectorType -> dense, length -> 2, values -> List(-1.6480106203166893, 2.100442902308144))</td><td>-1.6480106203166893</td><td>2.100442902308144</td></tr><tr><td>0</td><td>Map(vectorType -> dense, length -> 2, values -> List(-9.028645224281451, 0.6545968488688727))</td><td>-9.028645224281451</td><td>0.6545968488688727</td></tr><tr><td>0</td><td>Map(vectorType -> dense, length -> 2, values -> List(-4.550586028792268, -3.0839256264353505))</td><td>-4.550586028792268</td><td>-3.0839256264353505</td></tr><tr><td>1</td><td>Map(vectorType -> dense, length -> 2, values -> List(0.7805032063552411, -0.6522753252252638))</td><td>0.7805032063552411</td><td>-0.6522753252252638</td></tr><tr><td>0</td><td>Map(vectorType -> dense, length -> 2, values -> List(0.22289648137749804, 0.7012045041875619))</td><td>0.22289648137749804</td><td>0.7012045041875619</td></tr><tr><td>1</td><td>Map(vectorType -> dense, length -> 2, values -> List(3.451858114839652, -1.3057897654953268))</td><td>3.451858114839652</td><td>-1.3057897654953268</td></tr><tr><td>0</td><td>Map(vectorType -> dense, length -> 2, values -> List(-0.4461518298391931, 2.7852570082147827))</td><td>-0.4461518298391931</td><td>2.7852570082147827</td></tr><tr><td>1</td><td>Map(vectorType -> dense, length -> 2, values -> List(-0.3141617966983834, -2.0757343005542124))</td><td>-0.3141617966983834</td><td>-2.0757343005542124</td></tr><tr><td>1</td><td>Map(vectorType -> dense, length -> 2, values -> List(2.0573816635646485, 2.4706139080117415))</td><td>2.0573816635646485</td><td>2.4706139080117415</td></tr><tr><td>0</td><td>Map(vectorType -> dense, length -> 2, values -> List(-4.804741578644551, 3.0264400192113654))</td><td>-4.804741578644551</td><td>3.0264400192113654</td></tr><tr><td>1</td><td>Map(vectorType -> dense, length -> 2, values -> List(2.9960742986927817, 0.3964292123288678))</td><td>2.9960742986927817</td><td>0.3964292123288678</td></tr><tr><td>0</td><td>Map(vectorType -> dense, length -> 2, values -> List(-12.27421974008282, 7.536778598643883))</td><td>-12.27421974008282</td><td>7.536778598643883</td></tr><tr><td>0</td><td>Map(vectorType -> dense, length -> 2, values -> List(-3.3692320216392955, -2.585550416174371))</td><td>-3.3692320216392955</td><td>-2.585550416174371</td></tr><tr><td>0</td><td>Map(vectorType -> dense, length -> 2, values -> List(-2.5065608023508408, -2.6123498850288525))</td><td>-2.5065608023508408</td><td>-2.6123498850288525</td></tr><tr><td>0</td><td>Map(vectorType -> dense, length -> 2, values -> List(-1.3169097348008016, -2.152585452838559))</td><td>-1.3169097348008016</td><td>-2.152585452838559</td></tr><tr><td>1</td><td>Map(vectorType -> dense, length -> 2, values -> List(0.3884145349104365, -2.274796313785692))</td><td>0.3884145349104365</td><td>-2.274796313785692</td></tr><tr><td>1</td><td>Map(vectorType -> dense, length -> 2, values -> List(2.7545093134335943, -1.0858792262280101))</td><td>2.7545093134335943</td><td>-1.0858792262280101</td></tr><tr><td>0</td><td>Map(vectorType -> dense, length -> 2, values -> List(-4.939235008379087, 2.845820435747167))</td><td>-4.939235008379087</td><td>2.845820435747167</td></tr><tr><td>0</td><td>Map(vectorType -> dense, length -> 2, values -> List(-4.294298799576767, 4.662172958398716))</td><td>-4.294298799576767</td><td>4.662172958398716</td></tr><tr><td>1</td><td>Map(vectorType -> dense, length -> 2, values -> List(2.371415206580928, 0.7327578143464887))</td><td>2.371415206580928</td><td>0.7327578143464887</td></tr><tr><td>1</td><td>Map(vectorType -> dense, length -> 2, values -> List(0.9663400342412815, -0.43805274138140315))</td><td>0.9663400342412815</td><td>-0.43805274138140315</td></tr><tr><td>1</td><td>Map(vectorType -> dense, length -> 2, values -> List(2.973182700588683, -1.8093817105584709))</td><td>2.973182700588683</td><td>-1.8093817105584709</td></tr><tr><td>0</td><td>Map(vectorType -> dense, length -> 2, values -> List(-1.8016617480543298, -0.16631461790202312))</td><td>-1.8016617480543298</td><td>-0.16631461790202312</td></tr><tr><td>1</td><td>Map(vectorType -> dense, length -> 2, values -> List(2.476180734357764, 1.4173293464504262))</td><td>2.476180734357764</td><td>1.4173293464504262</td></tr><tr><td>1</td><td>Map(vectorType -> dense, length -> 2, values -> List(0.8253131039081664, 1.249148354188872))</td><td>0.8253131039081664</td><td>1.249148354188872</td></tr><tr><td>1</td><td>Map(vectorType -> dense, length -> 2, values -> List(3.891273417938517, -0.5380972756254689))</td><td>3.891273417938517</td><td>-0.5380972756254689</td></tr><tr><td>1</td><td>Map(vectorType -> dense, length -> 2, values -> List(0.3892356039180487, 0.613875324449998))</td><td>0.3892356039180487</td><td>0.613875324449998</td></tr><tr><td>1</td><td>Map(vectorType -> dense, length -> 2, values -> List(1.4560401949184865, 0.20154941477167584))</td><td>1.4560401949184865</td><td>0.20154941477167584</td></tr><tr><td>0</td><td>Map(vectorType -> dense, length -> 2, values -> List(-2.7531455233218116, -3.4627267693133152))</td><td>-2.7531455233218116</td><td>-3.4627267693133152</td></tr><tr><td>0</td><td>Map(vectorType -> dense, length -> 2, values -> List(-3.254391152333232, 0.12509042564652945))</td><td>-3.254391152333232</td><td>0.12509042564652945</td></tr><tr><td>1</td><td>Map(vectorType -> dense, length -> 2, values -> List(4.015606929779589, 1.3530568336035458))</td><td>4.015606929779589</td><td>1.3530568336035458</td></tr><tr><td>1</td><td>Map(vectorType -> dense, length -> 2, values -> List(3.673181280856314, 1.2904935620339735))</td><td>3.673181280856314</td><td>1.2904935620339735</td></tr><tr><td>0</td><td>Map(vectorType -> dense, length -> 2, values -> List(-3.3134086631131745, 3.9356892675858393))</td><td>-3.3134086631131745</td><td>3.9356892675858393</td></tr><tr><td>1</td><td>Map(vectorType -> dense, length -> 2, values -> List(4.0330586952594905, -1.1615240891991265))</td><td>4.0330586952594905</td><td>-1.1615240891991265</td></tr><tr><td>1</td><td>Map(vectorType -> dense, length -> 2, values -> List(2.332181276558638, 1.3477938157103568))</td><td>2.332181276558638</td><td>1.3477938157103568</td></tr><tr><td>0</td><td>Map(vectorType -> dense, length -> 2, values -> List(-8.396459114567051, 4.150252991487551))</td><td>-8.396459114567051</td><td>4.150252991487551</td></tr><tr><td>0</td><td>Map(vectorType -> dense, length -> 2, values -> List(-2.645241099769492, 3.947699392177443))</td><td>-2.645241099769492</td><td>3.947699392177443</td></tr><tr><td>1</td><td>Map(vectorType -> dense, length -> 2, values -> List(0.6811695085597811, 1.134992456901795))</td><td>0.6811695085597811</td><td>1.134992456901795</td></tr><tr><td>0</td><td>Map(vectorType -> dense, length -> 2, values -> List(-3.3473504750853267, 2.1526758988005272))</td><td>-3.3473504750853267</td><td>2.1526758988005272</td></tr><tr><td>1</td><td>Map(vectorType -> dense, length -> 2, values -> List(2.225762082820186, 1.2139315550121692))</td><td>2.225762082820186</td><td>1.2139315550121692</td></tr><tr><td>1</td><td>Map(vectorType -> dense, length -> 2, values -> List(4.473648316810695, 1.7395986990016745))</td><td>4.473648316810695</td><td>1.7395986990016745</td></tr><tr><td>1</td><td>Map(vectorType -> dense, length -> 2, values -> List(-1.3214586745096857, -4.785266054191078))</td><td>-1.3214586745096857</td><td>-4.785266054191078</td></tr><tr><td>1</td><td>Map(vectorType -> dense, length -> 2, values -> List(1.8484634072018238, 1.5827355092570183))</td><td>1.8484634072018238</td><td>1.5827355092570183</td></tr><tr><td>0</td><td>Map(vectorType -> dense, length -> 2, values -> List(-3.7922288801761828, 1.025330459219364))</td><td>-3.7922288801761828</td><td>1.025330459219364</td></tr><tr><td>1</td><td>Map(vectorType -> dense, length -> 2, values -> List(2.2793125444788847, -2.075859442194888))</td><td>2.2793125444788847</td><td>-2.075859442194888</td></tr><tr><td>1</td><td>Map(vectorType -> dense, length -> 2, values -> List(3.2259316385038423, 1.1710430842293764))</td><td>3.2259316385038423</td><td>1.1710430842293764</td></tr><tr><td>1</td><td>Map(vectorType -> dense, length -> 2, values -> List(-1.0249988966720756, -2.3591861092433453))</td><td>-1.0249988966720756</td><td>-2.3591861092433453</td></tr><tr><td>1</td><td>Map(vectorType -> dense, length -> 2, values -> List(2.580285458084775, -0.7285720474808405))</td><td>2.580285458084775</td><td>-0.7285720474808405</td></tr><tr><td>1</td><td>Map(vectorType -> dense, length -> 2, values -> List(2.4836978332373185, -0.4601914826896939))</td><td>2.4836978332373185</td><td>-0.4601914826896939</td></tr><tr><td>0</td><td>Map(vectorType -> dense, length -> 2, values -> List(-7.13756173714527, 2.073018195139842))</td><td>-7.13756173714527</td><td>2.073018195139842</td></tr><tr><td>1</td><td>Map(vectorType -> dense, length -> 2, values -> List(3.029815222770883, 0.648897838165118))</td><td>3.029815222770883</td><td>0.648897838165118</td></tr><tr><td>0</td><td>Map(vectorType -> dense, length -> 2, values -> List(-7.078782066793522, -0.5277587995773976))</td><td>-7.078782066793522</td><td>-0.5277587995773976</td></tr><tr><td>0</td><td>Map(vectorType -> dense, length -> 2, values -> List(-1.3129437515041626, 1.7738650170431625))</td><td>-1.3129437515041626</td><td>1.7738650170431625</td></tr><tr><td>0</td><td>Map(vectorType -> dense, length -> 2, values -> List(-3.7083865255645923, 2.8050089983868287))</td><td>-3.7083865255645923</td><td>2.8050089983868287</td></tr><tr><td>0</td><td>Map(vectorType -> dense, length -> 2, values -> List(-0.4600742739863428, -0.3938197686403613))</td><td>-0.4600742739863428</td><td>-0.3938197686403613</td></tr><tr><td>0</td><td>Map(vectorType -> dense, length -> 2, values -> List(-6.387030007430574, 1.821491442867628))</td><td>-6.387030007430574</td><td>1.821491442867628</td></tr><tr><td>0</td><td>Map(vectorType -> dense, length -> 2, values -> List(-5.250924689588624, -3.891107225655192))</td><td>-5.250924689588624</td><td>-3.891107225655192</td></tr><tr><td>0</td><td>Map(vectorType -> dense, length -> 2, values -> List(-8.726183381467218, -3.2769939657143716))</td><td>-8.726183381467218</td><td>-3.2769939657143716</td></tr><tr><td>0</td><td>Map(vectorType -> dense, length -> 2, values -> List(-3.6880727649812464, -1.0647092355384506))</td><td>-3.6880727649812464</td><td>-1.0647092355384506</td></tr><tr><td>0</td><td>Map(vectorType -> dense, length -> 2, values -> List(-3.3752809812447255, 3.3682641746415576))</td><td>-3.3752809812447255</td><td>3.3682641746415576</td></tr><tr><td>0</td><td>Map(vectorType -> dense, length -> 2, values -> List(0.8394710078446104, 3.4970080337579934))</td><td>0.8394710078446104</td><td>3.4970080337579934</td></tr><tr><td>0</td><td>Map(vectorType -> dense, length -> 2, values -> List(-3.2814852588700103, 0.9898022792791088))</td><td>-3.2814852588700103</td><td>0.9898022792791088</td></tr><tr><td>0</td><td>Map(vectorType -> dense, length -> 2, values -> List(1.9070908891938627, 3.119201237203347))</td><td>1.9070908891938627</td><td>3.119201237203347</td></tr><tr><td>0</td><td>Map(vectorType -> dense, length -> 2, values -> List(-1.6133623365757193, 2.4723978983559065))</td><td>-1.6133623365757193</td><td>2.4723978983559065</td></tr><tr><td>0</td><td>Map(vectorType -> dense, length -> 2, values -> List(-6.613906806066417, 5.997998810891651))</td><td>-6.613906806066417</td><td>5.997998810891651</td></tr><tr><td>1</td><td>Map(vectorType -> dense, length -> 2, values -> List(1.4633883060156407, -1.685149060625749))</td><td>1.4633883060156407</td><td>-1.685149060625749</td></tr><tr><td>1</td><td>Map(vectorType -> dense, length -> 2, values -> List(2.0103835029649497, 1.1025164598842423))</td><td>2.0103835029649497</td><td>1.1025164598842423</td></tr><tr><td>1</td><td>Map(vectorType -> dense, length -> 2, values -> List(2.282332040471847, -0.009485293138450299))</td><td>2.282332040471847</td><td>-0.009485293138450299</td></tr><tr><td>1</td><td>Map(vectorType -> dense, length -> 2, values -> List(0.7390927619274819, -3.149749157849665))</td><td>0.7390927619274819</td><td>-3.149749157849665</td></tr><tr><td>1</td><td>Map(vectorType -> dense, length -> 2, values -> List(4.502600696719506, 3.166486413631368))</td><td>4.502600696719506</td><td>3.166486413631368</td></tr><tr><td>1</td><td>Map(vectorType -> dense, length -> 2, values -> List(3.1559773740122634, -0.4099410900241174))</td><td>3.1559773740122634</td><td>-0.4099410900241174</td></tr><tr><td>0</td><td>Map(vectorType -> dense, length -> 2, values -> List(-7.6694012070934345, 3.072602737491275))</td><td>-7.6694012070934345</td><td>3.072602737491275</td></tr><tr><td>1</td><td>Map(vectorType -> dense, length -> 2, values -> List(3.6359367261303492, -1.5881896245823244))</td><td>3.6359367261303492</td><td>-1.5881896245823244</td></tr><tr><td>0</td><td>Map(vectorType -> dense, length -> 2, values -> List(-0.3370489251204577, 3.1416091727542197))</td><td>-0.3370489251204577</td><td>3.1416091727542197</td></tr><tr><td>1</td><td>Map(vectorType -> dense, length -> 2, values -> List(1.2754611078320632, -0.8483065631109162))</td><td>1.2754611078320632</td><td>-0.8483065631109162</td></tr><tr><td>1</td><td>Map(vectorType -> dense, length -> 2, values -> List(4.342193381795932, 0.3216949991143457))</td><td>4.342193381795932</td><td>0.3216949991143457</td></tr><tr><td>0</td><td>Map(vectorType -> dense, length -> 2, values -> List(-0.01741546771171315, 3.456302109699558))</td><td>-0.01741546771171315</td><td>3.456302109699558</td></tr><tr><td>1</td><td>Map(vectorType -> dense, length -> 2, values -> List(3.4893557720452133, 2.6317667234807156))</td><td>3.4893557720452133</td><td>2.6317667234807156</td></tr><tr><td>1</td><td>Map(vectorType -> dense, length -> 2, values -> List(1.864907931297847, 0.9012711860481959))</td><td>1.864907931297847</td><td>0.9012711860481959</td></tr><tr><td>0</td><td>Map(vectorType -> dense, length -> 2, values -> List(-4.955907441716645, 1.3399440378897656))</td><td>-4.955907441716645</td><td>1.3399440378897656</td></tr><tr><td>1</td><td>Map(vectorType -> dense, length -> 2, values -> List(2.4685506209044195, 0.1379049225435279))</td><td>2.4685506209044195</td><td>0.1379049225435279</td></tr><tr><td>0</td><td>Map(vectorType -> dense, length -> 2, values -> List(-3.781732576915012, 1.9002354094267013))</td><td>-3.781732576915012</td><td>1.9002354094267013</td></tr><tr><td>0</td><td>Map(vectorType -> dense, length -> 2, values -> List(-2.634937310206687, -0.5766476067361099))</td><td>-2.634937310206687</td><td>-0.5766476067361099</td></tr><tr><td>1</td><td>Map(vectorType -> dense, length -> 2, values -> List(1.3714782673685932, -0.005800357721781113))</td><td>1.3714782673685932</td><td>-0.005800357721781113</td></tr><tr><td>1</td><td>Map(vectorType -> dense, length -> 2, values -> List(4.13524399446935, 1.375298122929749))</td><td>4.13524399446935</td><td>1.375298122929749</td></tr><tr><td>1</td><td>Map(vectorType -> dense, length -> 2, values -> List(0.6863363877211871, -1.6935195059813446))</td><td>0.6863363877211871</td><td>-1.6935195059813446</td></tr><tr><td>1</td><td>Map(vectorType -> dense, length -> 2, values -> List(4.308338698860459, 1.9767468042610254))</td><td>4.308338698860459</td><td>1.9767468042610254</td></tr><tr><td>1</td><td>Map(vectorType -> dense, length -> 2, values -> List(-0.4029548635748549, -3.7201606544330987))</td><td>-0.4029548635748549</td><td>-3.7201606544330987</td></tr><tr><td>1</td><td>Map(vectorType -> dense, length -> 2, values -> List(3.000965262243705, -0.35384887774716584))</td><td>3.000965262243705</td><td>-0.35384887774716584</td></tr><tr><td>1</td><td>Map(vectorType -> dense, length -> 2, values -> List(-3.1312530328587043, -4.269702670189467))</td><td>-3.1312530328587043</td><td>-4.269702670189467</td></tr><tr><td>1</td><td>Map(vectorType -> dense, length -> 2, values -> List(0.41746953769710166, 0.8078657343689332))</td><td>0.41746953769710166</td><td>0.8078657343689332</td></tr><tr><td>1</td><td>Map(vectorType -> dense, length -> 2, values -> List(1.4189745870297155, -1.3927526376556778))</td><td>1.4189745870297155</td><td>-1.3927526376556778</td></tr><tr><td>1</td><td>Map(vectorType -> dense, length -> 2, values -> List(2.8680647531464465, 0.268408338101326))</td><td>2.8680647531464465</td><td>0.268408338101326</td></tr><tr><td>1</td><td>Map(vectorType -> dense, length -> 2, values -> List(3.3628867182650546, 0.8068906366540134))</td><td>3.3628867182650546</td><td>0.8068906366540134</td></tr><tr><td>1</td><td>Map(vectorType -> dense, length -> 2, values -> List(3.3120858684223364, 1.4409083819701411))</td><td>3.3120858684223364</td><td>1.4409083819701411</td></tr><tr><td>1</td><td>Map(vectorType -> dense, length -> 2, values -> List(4.7655170071007955, 0.5424845304417008))</td><td>4.7655170071007955</td><td>0.5424845304417008</td></tr><tr><td>0</td><td>Map(vectorType -> dense, length -> 2, values -> List(2.383785278667096, 0.8233910735604927))</td><td>2.383785278667096</td><td>0.8233910735604927</td></tr><tr><td>1</td><td>Map(vectorType -> dense, length -> 2, values -> List(2.7846458146634814, 2.530807159428553))</td><td>2.7846458146634814</td><td>2.530807159428553</td></tr><tr><td>1</td><td>Map(vectorType -> dense, length -> 2, values -> List(3.3908581737798005, -0.7533011314133292))</td><td>3.3908581737798005</td><td>-0.7533011314133292</td></tr><tr><td>0</td><td>Map(vectorType -> dense, length -> 2, values -> List(-6.58444232820841, 1.4835570760795582))</td><td>-6.58444232820841</td><td>1.4835570760795582</td></tr><tr><td>1</td><td>Map(vectorType -> dense, length -> 2, values -> List(1.4540511062050259, -0.5914224783050939))</td><td>1.4540511062050259</td><td>-0.5914224783050939</td></tr><tr><td>0</td><td>Map(vectorType -> dense, length -> 2, values -> List(-7.176618434402277, -0.05509758012513949))</td><td>-7.176618434402277</td><td>-0.05509758012513949</td></tr><tr><td>1</td><td>Map(vectorType -> dense, length -> 2, values -> List(3.5756891739127767, -0.890799182251582))</td><td>3.5756891739127767</td><td>-0.890799182251582</td></tr><tr><td>1</td><td>Map(vectorType -> dense, length -> 2, values -> List(3.0543451401303825, 0.17905583600501274))</td><td>3.0543451401303825</td><td>0.17905583600501274</td></tr><tr><td>1</td><td>Map(vectorType -> dense, length -> 2, values -> List(3.0717330303073704, 0.3057893730497704))</td><td>3.0717330303073704</td><td>0.3057893730497704</td></tr><tr><td>1</td><td>Map(vectorType -> dense, length -> 2, values -> List(3.850152005362842, 1.5233860034932076))</td><td>3.850152005362842</td><td>1.5233860034932076</td></tr><tr><td>1</td><td>Map(vectorType -> dense, length -> 2, values -> List(5.3855177059185495, -0.5557664886960754))</td><td>5.3855177059185495</td><td>-0.5557664886960754</td></tr><tr><td>1</td><td>Map(vectorType -> dense, length -> 2, values -> List(4.65358766791471, 3.062692587047921))</td><td>4.65358766791471</td><td>3.062692587047921</td></tr><tr><td>1</td><td>Map(vectorType -> dense, length -> 2, values -> List(4.024001690818717, 2.5406715203364776))</td><td>4.024001690818717</td><td>2.5406715203364776</td></tr><tr><td>1</td><td>Map(vectorType -> dense, length -> 2, values -> List(3.3448788008728587, 0.06850277259966837))</td><td>3.3448788008728587</td><td>0.06850277259966837</td></tr><tr><td>1</td><td>Map(vectorType -> dense, length -> 2, values -> List(3.2969410508974435, 3.1359500887137717))</td><td>3.2969410508974435</td><td>3.1359500887137717</td></tr><tr><td>1</td><td>Map(vectorType -> dense, length -> 2, values -> List(2.134525984500311, 0.0043889867928022935))</td><td>2.134525984500311</td><td>0.0043889867928022935</td></tr><tr><td>1</td><td>Map(vectorType -> dense, length -> 2, values -> List(4.034467235871257, 0.2404864516410689))</td><td>4.034467235871257</td><td>0.2404864516410689</td></tr><tr><td>1</td><td>Map(vectorType -> dense, length -> 2, values -> List(3.762104298066469, -4.39433394265753))</td><td>3.762104298066469</td><td>-4.39433394265753</td></tr><tr><td>1</td><td>Map(vectorType -> dense, length -> 2, values -> List(4.86695697440386, 2.337158334463167))</td><td>4.86695697440386</td><td>2.337158334463167</td></tr><tr><td>1</td><td>Map(vectorType -> dense, length -> 2, values -> List(4.743075110258775, 1.7968209625108593))</td><td>4.743075110258775</td><td>1.7968209625108593</td></tr><tr><td>0</td><td>Map(vectorType -> dense, length -> 2, values -> List(-1.8936500638857314, 2.3901349362668816))</td><td>-1.8936500638857314</td><td>2.3901349362668816</td></tr><tr><td>1</td><td>Map(vectorType -> dense, length -> 2, values -> List(-1.571548343734521, -6.503377020577063))</td><td>-1.571548343734521</td><td>-6.503377020577063</td></tr><tr><td>1</td><td>Map(vectorType -> dense, length -> 2, values -> List(4.023080366038678, 1.4009737529462152))</td><td>4.023080366038678</td><td>1.4009737529462152</td></tr><tr><td>1</td><td>Map(vectorType -> dense, length -> 2, values -> List(1.29372782598917, -3.4677573783806075))</td><td>1.29372782598917</td><td>-3.4677573783806075</td></tr><tr><td>0</td><td>Map(vectorType -> dense, length -> 2, values -> List(-1.8332274202713865, 4.317723822665098))</td><td>-1.8332274202713865</td><td>4.317723822665098</td></tr><tr><td>1</td><td>Map(vectorType -> dense, length -> 2, values -> List(1.808789015235209, -0.39585898806435427))</td><td>1.808789015235209</td><td>-0.39585898806435427</td></tr><tr><td>0</td><td>Map(vectorType -> dense, length -> 2, values -> List(-7.230123567830955, 0.035670410920752404))</td><td>-7.230123567830955</td><td>0.035670410920752404</td></tr><tr><td>1</td><td>Map(vectorType -> dense, length -> 2, values -> List(3.1428847812274205, 0.741873771312808))</td><td>3.1428847812274205</td><td>0.741873771312808</td></tr><tr><td>1</td><td>Map(vectorType -> dense, length -> 2, values -> List(2.8847298001152506, 0.46432306918826133))</td><td>2.8847298001152506</td><td>0.46432306918826133</td></tr><tr><td>1</td><td>Map(vectorType -> dense, length -> 2, values -> List(3.146885056706513, 1.7696912547970154))</td><td>3.146885056706513</td><td>1.7696912547970154</td></tr><tr><td>1</td><td>Map(vectorType -> dense, length -> 2, values -> List(4.624310577223516, 1.8340046311486002))</td><td>4.624310577223516</td><td>1.8340046311486002</td></tr><tr><td>0</td><td>Map(vectorType -> dense, length -> 2, values -> List(-2.248531903058634, 0.3482295351152985))</td><td>-2.248531903058634</td><td>0.3482295351152985</td></tr><tr><td>0</td><td>Map(vectorType -> dense, length -> 2, values -> List(-2.105948215451635, -1.1209875925308008))</td><td>-2.105948215451635</td><td>-1.1209875925308008</td></tr><tr><td>0</td><td>Map(vectorType -> dense, length -> 2, values -> List(-1.7843799140989622, 0.2689849572661148))</td><td>-1.7843799140989622</td><td>0.2689849572661148</td></tr><tr><td>1</td><td>Map(vectorType -> dense, length -> 2, values -> List(0.527232708197753, -1.264758768867036))</td><td>0.527232708197753</td><td>-1.264758768867036</td></tr><tr><td>1</td><td>Map(vectorType -> dense, length -> 2, values -> List(3.2106759241477616, -1.1024730816943964))</td><td>3.2106759241477616</td><td>-1.1024730816943964</td></tr><tr><td>1</td><td>Map(vectorType -> dense, length -> 2, values -> List(4.382566769758078, 0.7604346273021849))</td><td>4.382566769758078</td><td>0.7604346273021849</td></tr><tr><td>1</td><td>Map(vectorType -> dense, length -> 2, values -> List(3.80666840292402, 0.9091186263481879))</td><td>3.80666840292402</td><td>0.9091186263481879</td></tr><tr><td>0</td><td>Map(vectorType -> dense, length -> 2, values -> List(-3.3167555762556, 1.5756664220302594))</td><td>-3.3167555762556</td><td>1.5756664220302594</td></tr><tr><td>1</td><td>Map(vectorType -> dense, length -> 2, values -> List(2.3911719850536737, -0.9891604207881478))</td><td>2.3911719850536737</td><td>-0.9891604207881478</td></tr><tr><td>0</td><td>Map(vectorType -> dense, length -> 2, values -> List(-4.676051829725837, 0.9677414434843))</td><td>-4.676051829725837</td><td>0.9677414434843</td></tr><tr><td>1</td><td>Map(vectorType -> dense, length -> 2, values -> List(3.0649982652345846, -1.1348390297023678))</td><td>3.0649982652345846</td><td>-1.1348390297023678</td></tr><tr><td>0</td><td>Map(vectorType -> dense, length -> 2, values -> List(-7.346754205800324, 5.238014242213437))</td><td>-7.346754205800324</td><td>5.238014242213437</td></tr><tr><td>1</td><td>Map(vectorType -> dense, length -> 2, values -> List(-0.2950535672123393, -0.22673553279496178))</td><td>-0.2950535672123393</td><td>-0.22673553279496178</td></tr><tr><td>1</td><td>Map(vectorType -> dense, length -> 2, values -> List(1.937264908048494, -2.54275075984208))</td><td>1.937264908048494</td><td>-2.54275075984208</td></tr><tr><td>1</td><td>Map(vectorType -> dense, length -> 2, values -> List(2.075352829718506, -1.8049313395291142))</td><td>2.075352829718506</td><td>-1.8049313395291142</td></tr><tr><td>0</td><td>Map(vectorType -> dense, length -> 2, values -> List(-4.970788588463213, 1.3314006873626998))</td><td>-4.970788588463213</td><td>1.3314006873626998</td></tr><tr><td>1</td><td>Map(vectorType -> dense, length -> 2, values -> List(2.1750031061333353, -0.9580682603151646))</td><td>2.1750031061333353</td><td>-0.9580682603151646</td></tr><tr><td>1</td><td>Map(vectorType -> dense, length -> 2, values -> List(2.429413826943072, -3.44417335730377))</td><td>2.429413826943072</td><td>-3.44417335730377</td></tr><tr><td>1</td><td>Map(vectorType -> dense, length -> 2, values -> List(3.3650049292694186, 0.5624340150809102))</td><td>3.3650049292694186</td><td>0.5624340150809102</td></tr><tr><td>1</td><td>Map(vectorType -> dense, length -> 2, values -> List(1.205537044997321, 1.315886496793601))</td><td>1.205537044997321</td><td>1.315886496793601</td></tr><tr><td>1</td><td>Map(vectorType -> dense, length -> 2, values -> List(3.3231552224306244, -0.4747538482010823))</td><td>3.3231552224306244</td><td>-0.4747538482010823</td></tr><tr><td>1</td><td>Map(vectorType -> dense, length -> 2, values -> List(1.9270997575978313, -1.460184988708072))</td><td>1.9270997575978313</td><td>-1.460184988708072</td></tr><tr><td>1</td><td>Map(vectorType -> dense, length -> 2, values -> List(4.038281827650134, 1.3557245619959968))</td><td>4.038281827650134</td><td>1.3557245619959968</td></tr><tr><td>0</td><td>Map(vectorType -> dense, length -> 2, values -> List(-6.176848765923755, -5.103514894361796))</td><td>-6.176848765923755</td><td>-5.103514894361796</td></tr><tr><td>0</td><td>Map(vectorType -> dense, length -> 2, values -> List(-10.924685586759175, 3.699998471871134))</td><td>-10.924685586759175</td><td>3.699998471871134</td></tr><tr><td>0</td><td>Map(vectorType -> dense, length -> 2, values -> List(-2.1166345166823373, -0.2963682967476071))</td><td>-2.1166345166823373</td><td>-0.2963682967476071</td></tr><tr><td>1</td><td>Map(vectorType -> dense, length -> 2, values -> List(3.0095468861563317, -0.243545681202486))</td><td>3.0095468861563317</td><td>-0.243545681202486</td></tr><tr><td>1</td><td>Map(vectorType -> dense, length -> 2, values -> List(0.9817847142179241, -0.7965515125202817))</td><td>0.9817847142179241</td><td>-0.7965515125202817</td></tr><tr><td>1</td><td>Map(vectorType -> dense, length -> 2, values -> List(-0.35757923049032636, -2.125968004265042))</td><td>-0.35757923049032636</td><td>-2.125968004265042</td></tr><tr><td>1</td><td>Map(vectorType -> dense, length -> 2, values -> List(3.191110025081194, 1.847526444761871))</td><td>3.191110025081194</td><td>1.847526444761871</td></tr><tr><td>1</td><td>Map(vectorType -> dense, length -> 2, values -> List(2.990601886844637, -1.6299580146726662))</td><td>2.990601886844637</td><td>-1.6299580146726662</td></tr><tr><td>1</td><td>Map(vectorType -> dense, length -> 2, values -> List(3.191106313310075, -0.5788301325936451))</td><td>3.191106313310075</td><td>-0.5788301325936451</td></tr><tr><td>1</td><td>Map(vectorType -> dense, length -> 2, values -> List(4.587924963183574, 2.7586997322892137))</td><td>4.587924963183574</td><td>2.7586997322892137</td></tr><tr><td>1</td><td>Map(vectorType -> dense, length -> 2, values -> List(2.483730733194703, 1.1878941827853875))</td><td>2.483730733194703</td><td>1.1878941827853875</td></tr><tr><td>1</td><td>Map(vectorType -> dense, length -> 2, values -> List(2.396556629015861, 0.2505243553016716))</td><td>2.396556629015861</td><td>0.2505243553016716</td></tr><tr><td>1</td><td>Map(vectorType -> dense, length -> 2, values -> List(0.7789298236156389, 2.1224758723954773))</td><td>0.7789298236156389</td><td>2.1224758723954773</td></tr><tr><td>1</td><td>Map(vectorType -> dense, length -> 2, values -> List(3.137227995833936, 1.486714010385516))</td><td>3.137227995833936</td><td>1.486714010385516</td></tr><tr><td>0</td><td>Map(vectorType -> dense, length -> 2, values -> List(-2.7326073652576093, 3.9416999500655043))</td><td>-2.7326073652576093</td><td>3.9416999500655043</td></tr><tr><td>0</td><td>Map(vectorType -> dense, length -> 2, values -> List(-6.221551679069684, 1.3888876163638892))</td><td>-6.221551679069684</td><td>1.3888876163638892</td></tr><tr><td>1</td><td>Map(vectorType -> dense, length -> 2, values -> List(2.221820777512973, 0.35684672329234746))</td><td>2.221820777512973</td><td>0.35684672329234746</td></tr><tr><td>0</td><td>Map(vectorType -> dense, length -> 2, values -> List(-5.302474403497606, 6.717504287902137))</td><td>-5.302474403497606</td><td>6.717504287902137</td></tr><tr><td>0</td><td>Map(vectorType -> dense, length -> 2, values -> List(-7.241629190977243, 3.6522555297061396))</td><td>-7.241629190977243</td><td>3.6522555297061396</td></tr><tr><td>0</td><td>Map(vectorType -> dense, length -> 2, values -> List(-4.203521962751312, -1.1752088219527228))</td><td>-4.203521962751312</td><td>-1.1752088219527228</td></tr><tr><td>1</td><td>Map(vectorType -> dense, length -> 2, values -> List(2.4974388911606744, 2.016761089657906))</td><td>2.4974388911606744</td><td>2.016761089657906</td></tr><tr><td>0</td><td>Map(vectorType -> dense, length -> 2, values -> List(-3.631819328529832, 1.9547209619987518))</td><td>-3.631819328529832</td><td>1.9547209619987518</td></tr><tr><td>0</td><td>Map(vectorType -> dense, length -> 2, values -> List(-3.516154429778133, 3.8552149374108557))</td><td>-3.516154429778133</td><td>3.8552149374108557</td></tr><tr><td>1</td><td>Map(vectorType -> dense, length -> 2, values -> List(2.6126494511410927, 1.101505250877788))</td><td>2.6126494511410927</td><td>1.101505250877788</td></tr><tr><td>1</td><td>Map(vectorType -> dense, length -> 2, values -> List(0.09602362590836018, 0.12973343110973548))</td><td>0.09602362590836018</td><td>0.12973343110973548</td></tr><tr><td>1</td><td>Map(vectorType -> dense, length -> 2, values -> List(-2.0430592577934314, -6.421169886591277))</td><td>-2.0430592577934314</td><td>-6.421169886591277</td></tr><tr><td>1</td><td>Map(vectorType -> dense, length -> 2, values -> List(3.0640534834955355, 2.1801773735430845))</td><td>3.0640534834955355</td><td>2.1801773735430845</td></tr><tr><td>1</td><td>Map(vectorType -> dense, length -> 2, values -> List(1.6021766967898312, -0.2923389949332684))</td><td>1.6021766967898312</td><td>-0.2923389949332684</td></tr><tr><td>0</td><td>Map(vectorType -> dense, length -> 2, values -> List(-3.762621443878961, -5.980033549309579))</td><td>-3.762621443878961</td><td>-5.980033549309579</td></tr><tr><td>1</td><td>Map(vectorType -> dense, length -> 2, values -> List(0.9247529181246392, -2.3004572704552135))</td><td>0.9247529181246392</td><td>-2.3004572704552135</td></tr><tr><td>1</td><td>Map(vectorType -> dense, length -> 2, values -> List(3.2854587367562074, -0.20113435938521462))</td><td>3.2854587367562074</td><td>-0.20113435938521462</td></tr><tr><td>1</td><td>Map(vectorType -> dense, length -> 2, values -> List(1.5534852463993922, -0.9789963158207404))</td><td>1.5534852463993922</td><td>-0.9789963158207404</td></tr><tr><td>1</td><td>Map(vectorType -> dense, length -> 2, values -> List(0.39842934176183803, -2.1593127242758463))</td><td>0.39842934176183803</td><td>-2.1593127242758463</td></tr><tr><td>1</td><td>Map(vectorType -> dense, length -> 2, values -> List(2.2985453437371177, 0.9312581750160045))</td><td>2.2985453437371177</td><td>0.9312581750160045</td></tr><tr><td>0</td><td>Map(vectorType -> dense, length -> 2, values -> List(0.542424088151976, 1.3159100480444743))</td><td>0.542424088151976</td><td>1.3159100480444743</td></tr><tr><td>1</td><td>Map(vectorType -> dense, length -> 2, values -> List(2.057009504309962, -0.32015344453125083))</td><td>2.057009504309962</td><td>-0.32015344453125083</td></tr><tr><td>1</td><td>Map(vectorType -> dense, length -> 2, values -> List(3.4215074893256583, 2.443368505138404))</td><td>3.4215074893256583</td><td>2.443368505138404</td></tr><tr><td>1</td><td>Map(vectorType -> dense, length -> 2, values -> List(0.47199124930973096, -3.699574203312585))</td><td>0.47199124930973096</td><td>-3.699574203312585</td></tr><tr><td>0</td><td>Map(vectorType -> dense, length -> 2, values -> List(-4.699365785201365, 0.19578348601557083))</td><td>-4.699365785201365</td><td>0.19578348601557083</td></tr><tr><td>1</td><td>Map(vectorType -> dense, length -> 2, values -> List(3.640177266356688, -0.786168171276902))</td><td>3.640177266356688</td><td>-0.786168171276902</td></tr><tr><td>1</td><td>Map(vectorType -> dense, length -> 2, values -> List(3.5915291765229544, -2.602797029692257))</td><td>3.5915291765229544</td><td>-2.602797029692257</td></tr><tr><td>0</td><td>Map(vectorType -> dense, length -> 2, values -> List(-4.145449783640533, -0.7668141287529167))</td><td>-4.145449783640533</td><td>-0.7668141287529167</td></tr><tr><td>0</td><td>Map(vectorType -> dense, length -> 2, values -> List(-7.665396811495929, 0.8597276809314314))</td><td>-7.665396811495929</td><td>0.8597276809314314</td></tr><tr><td>1</td><td>Map(vectorType -> dense, length -> 2, values -> List(2.0086120468983655, -0.4293118113846647))</td><td>2.0086120468983655</td><td>-0.4293118113846647</td></tr><tr><td>1</td><td>Map(vectorType -> dense, length -> 2, values -> List(2.9182657286307934, 1.6989775538427376))</td><td>2.9182657286307934</td><td>1.6989775538427376</td></tr><tr><td>1</td><td>Map(vectorType -> dense, length -> 2, values -> List(0.5002975911258666, -0.10663763480732191))</td><td>0.5002975911258666</td><td>-0.10663763480732191</td></tr><tr><td>1</td><td>Map(vectorType -> dense, length -> 2, values -> List(1.909818136290534, 0.6508212257862362))</td><td>1.909818136290534</td><td>0.6508212257862362</td></tr><tr><td>1</td><td>Map(vectorType -> dense, length -> 2, values -> List(3.7817716673916792, 0.3258596453595585))</td><td>3.7817716673916792</td><td>0.3258596453595585</td></tr><tr><td>1</td><td>Map(vectorType -> dense, length -> 2, values -> List(2.706012962066895, 0.2194726288777049))</td><td>2.706012962066895</td><td>0.2194726288777049</td></tr><tr><td>0</td><td>Map(vectorType -> dense, length -> 2, values -> List(-6.284144085196279, -2.034757025450057))</td><td>-6.284144085196279</td><td>-2.034757025450057</td></tr><tr><td>1</td><td>Map(vectorType -> dense, length -> 2, values -> List(3.4277546285096903, 0.9917374104621859))</td><td>3.4277546285096903</td><td>0.9917374104621859</td></tr><tr><td>1</td><td>Map(vectorType -> dense, length -> 2, values -> List(1.9996290036610866, 0.29306859391553763))</td><td>1.9996290036610866</td><td>0.29306859391553763</td></tr><tr><td>1</td><td>Map(vectorType -> dense, length -> 2, values -> List(2.4711187702674877, 0.3347524795996754))</td><td>2.4711187702674877</td><td>0.3347524795996754</td></tr><tr><td>1</td><td>Map(vectorType -> dense, length -> 2, values -> List(3.6440513653380244, 1.2402738149716068))</td><td>3.6440513653380244</td><td>1.2402738149716068</td></tr><tr><td>1</td><td>Map(vectorType -> dense, length -> 2, values -> List(2.344124268696747, -0.6821411046260262))</td><td>2.344124268696747</td><td>-0.6821411046260262</td></tr><tr><td>1</td><td>Map(vectorType -> dense, length -> 2, values -> List(1.1419920938905654, 1.9604465077671769))</td><td>1.1419920938905654</td><td>1.9604465077671769</td></tr><tr><td>1</td><td>Map(vectorType -> dense, length -> 2, values -> List(1.349669736242352, -0.36924900183406884))</td><td>1.349669736242352</td><td>-0.36924900183406884</td></tr><tr><td>0</td><td>Map(vectorType -> dense, length -> 2, values -> List(-2.760941448865499, 1.0776852596095776))</td><td>-2.760941448865499</td><td>1.0776852596095776</td></tr><tr><td>1</td><td>Map(vectorType -> dense, length -> 2, values -> List(1.967592331203069, 0.17569391630596184))</td><td>1.967592331203069</td><td>0.17569391630596184</td></tr><tr><td>1</td><td>Map(vectorType -> dense, length -> 2, values -> List(2.92861018720084, 0.49442119061084133))</td><td>2.92861018720084</td><td>0.49442119061084133</td></tr><tr><td>1</td><td>Map(vectorType -> dense, length -> 2, values -> List(2.92380174883021, -0.3770005363916792))</td><td>2.92380174883021</td><td>-0.3770005363916792</td></tr><tr><td>1</td><td>Map(vectorType -> dense, length -> 2, values -> List(3.99267514417972, -0.9590122600837145))</td><td>3.99267514417972</td><td>-0.9590122600837145</td></tr><tr><td>1</td><td>Map(vectorType -> dense, length -> 2, values -> List(-0.1550016743349039, 0.437623165978837))</td><td>-0.1550016743349039</td><td>0.437623165978837</td></tr><tr><td>0</td><td>Map(vectorType -> dense, length -> 2, values -> List(0.9332696314803103, 2.104094210067527))</td><td>0.9332696314803103</td><td>2.104094210067527</td></tr><tr><td>1</td><td>Map(vectorType -> dense, length -> 2, values -> List(1.927925359175412, -0.8916821038232392))</td><td>1.927925359175412</td><td>-0.8916821038232392</td></tr><tr><td>1</td><td>Map(vectorType -> dense, length -> 2, values -> List(2.6200332486414437, -2.499901967771065))</td><td>2.6200332486414437</td><td>-2.499901967771065</td></tr><tr><td>0</td><td>Map(vectorType -> dense, length -> 2, values -> List(-5.998338685657266, 0.09094919644802113))</td><td>-5.998338685657266</td><td>0.09094919644802113</td></tr><tr><td>1</td><td>Map(vectorType -> dense, length -> 2, values -> List(2.9193091202939803, 0.00920458204064542))</td><td>2.9193091202939803</td><td>0.00920458204064542</td></tr><tr><td>1</td><td>Map(vectorType -> dense, length -> 2, values -> List(3.3390068299273357, 0.022205192232515797))</td><td>3.3390068299273357</td><td>0.022205192232515797</td></tr><tr><td>1</td><td>Map(vectorType -> dense, length -> 2, values -> List(2.0131436791939663, -0.7777677776660812))</td><td>2.0131436791939663</td><td>-0.7777677776660812</td></tr><tr><td>1</td><td>Map(vectorType -> dense, length -> 2, values -> List(-1.9867140066590794, -2.314011967419204))</td><td>-1.9867140066590794</td><td>-2.314011967419204</td></tr><tr><td>1</td><td>Map(vectorType -> dense, length -> 2, values -> List(1.6681361466415952, -0.8615607699852146))</td><td>1.6681361466415952</td><td>-0.8615607699852146</td></tr><tr><td>1</td><td>Map(vectorType -> dense, length -> 2, values -> List(0.37085180302599974, -0.11351277941469305))</td><td>0.37085180302599974</td><td>-0.11351277941469305</td></tr><tr><td>1</td><td>Map(vectorType -> dense, length -> 2, values -> List(1.8473344702440129, -2.5389956007011905))</td><td>1.8473344702440129</td><td>-2.5389956007011905</td></tr><tr><td>1</td><td>Map(vectorType -> dense, length -> 2, values -> List(4.6989076587167675, 0.4319223845700211))</td><td>4.6989076587167675</td><td>0.4319223845700211</td></tr><tr><td>1</td><td>Map(vectorType -> dense, length -> 2, values -> List(1.2820590739521003, -2.5486667521841357))</td><td>1.2820590739521003</td><td>-2.5486667521841357</td></tr><tr><td>1</td><td>Map(vectorType -> dense, length -> 2, values -> List(2.312212316213461, -0.4016780429615857))</td><td>2.312212316213461</td><td>-0.4016780429615857</td></tr><tr><td>1</td><td>Map(vectorType -> dense, length -> 2, values -> List(4.654989276563036, 0.7816110211582356))</td><td>4.654989276563036</td><td>0.7816110211582356</td></tr><tr><td>1</td><td>Map(vectorType -> dense, length -> 2, values -> List(3.940006591278556, 2.0282316570124226))</td><td>3.940006591278556</td><td>2.0282316570124226</td></tr><tr><td>0</td><td>Map(vectorType -> dense, length -> 2, values -> List(-4.945506936786711, -3.003421434951423))</td><td>-4.945506936786711</td><td>-3.003421434951423</td></tr><tr><td>1</td><td>Map(vectorType -> dense, length -> 2, values -> List(0.914998417180693, -2.476833776056108))</td><td>0.914998417180693</td><td>-2.476833776056108</td></tr><tr><td>0</td><td>Map(vectorType -> dense, length -> 2, values -> List(-4.545111927264468, 0.8152831423276554))</td><td>-4.545111927264468</td><td>0.8152831423276554</td></tr><tr><td>0</td><td>Map(vectorType -> dense, length -> 2, values -> List(-4.43843746105249, 0.9915664239722887))</td><td>-4.43843746105249</td><td>0.9915664239722887</td></tr><tr><td>1</td><td>Map(vectorType -> dense, length -> 2, values -> List(2.193054644119214, 1.8037661137139487))</td><td>2.193054644119214</td><td>1.8037661137139487</td></tr><tr><td>0</td><td>Map(vectorType -> dense, length -> 2, values -> List(-0.6638567906972933, -0.43647680208109413))</td><td>-0.6638567906972933</td><td>-0.43647680208109413</td></tr><tr><td>1</td><td>Map(vectorType -> dense, length -> 2, values -> List(2.2389060523360547, 0.4541898722408363))</td><td>2.2389060523360547</td><td>0.4541898722408363</td></tr><tr><td>1</td><td>Map(vectorType -> dense, length -> 2, values -> List(2.123312146064986, 1.1937465406902616))</td><td>2.123312146064986</td><td>1.1937465406902616</td></tr><tr><td>1</td><td>Map(vectorType -> dense, length -> 2, values -> List(2.613018230636058, 1.830449829701576))</td><td>2.613018230636058</td><td>1.830449829701576</td></tr><tr><td>1</td><td>Map(vectorType -> dense, length -> 2, values -> List(3.2081451461269004, 2.233177743167421))</td><td>3.2081451461269004</td><td>2.233177743167421</td></tr><tr><td>1</td><td>Map(vectorType -> dense, length -> 2, values -> List(0.30648072797555426, -2.1830779549000954))</td><td>0.30648072797555426</td><td>-2.1830779549000954</td></tr><tr><td>0</td><td>Map(vectorType -> dense, length -> 2, values -> List(-2.4701834157673517, 1.4985062241646343))</td><td>-2.4701834157673517</td><td>1.4985062241646343</td></tr><tr><td>1</td><td>Map(vectorType -> dense, length -> 2, values -> List(3.4516812564733845, 2.134583339853946))</td><td>3.4516812564733845</td><td>2.134583339853946</td></tr><tr><td>1</td><td>Map(vectorType -> dense, length -> 2, values -> List(3.897097812804002, -0.7301335297261968))</td><td>3.897097812804002</td><td>-0.7301335297261968</td></tr><tr><td>0</td><td>Map(vectorType -> dense, length -> 2, values -> List(-0.9808644845488861, 2.208486711616481))</td><td>-0.9808644845488861</td><td>2.208486711616481</td></tr><tr><td>1</td><td>Map(vectorType -> dense, length -> 2, values -> List(1.2561462947029458, -1.066752884858787))</td><td>1.2561462947029458</td><td>-1.066752884858787</td></tr><tr><td>0</td><td>Map(vectorType -> dense, length -> 2, values -> List(-3.2425605374516238, 1.7767952397711555))</td><td>-3.2425605374516238</td><td>1.7767952397711555</td></tr><tr><td>1</td><td>Map(vectorType -> dense, length -> 2, values -> List(1.555850428173458, 1.0370146428298208))</td><td>1.555850428173458</td><td>1.0370146428298208</td></tr><tr><td>1</td><td>Map(vectorType -> dense, length -> 2, values -> List(1.248159847609764, 1.5874420077235567))</td><td>1.248159847609764</td><td>1.5874420077235567</td></tr><tr><td>0</td><td>Map(vectorType -> dense, length -> 2, values -> List(-4.327845296903541, 4.045772564967691))</td><td>-4.327845296903541</td><td>4.045772564967691</td></tr><tr><td>1</td><td>Map(vectorType -> dense, length -> 2, values -> List(1.0765041197499041, -1.8020325644596087))</td><td>1.0765041197499041</td><td>-1.8020325644596087</td></tr><tr><td>0</td><td>Map(vectorType -> dense, length -> 2, values -> List(-2.50954496723855, 2.526584455419936))</td><td>-2.50954496723855</td><td>2.526584455419936</td></tr><tr><td>1</td><td>Map(vectorType -> dense, length -> 2, values -> List(2.2151432129344313, -0.029865010034000328))</td><td>2.2151432129344313</td><td>-0.029865010034000328</td></tr><tr><td>1</td><td>Map(vectorType -> dense, length -> 2, values -> List(1.1727987075491468, 0.47442206362079425))</td><td>1.1727987075491468</td><td>0.47442206362079425</td></tr><tr><td>1</td><td>Map(vectorType -> dense, length -> 2, values -> List(2.833807992032256, 1.0172307504970854))</td><td>2.833807992032256</td><td>1.0172307504970854</td></tr><tr><td>1</td><td>Map(vectorType -> dense, length -> 2, values -> List(1.855453295571189, 1.5700116743471624))</td><td>1.855453295571189</td><td>1.5700116743471624</td></tr><tr><td>1</td><td>Map(vectorType -> dense, length -> 2, values -> List(1.3274463600967459, -0.7764124994109081))</td><td>1.3274463600967459</td><td>-0.7764124994109081</td></tr><tr><td>1</td><td>Map(vectorType -> dense, length -> 2, values -> List(2.800307381480742, 1.664836753413479))</td><td>2.800307381480742</td><td>1.664836753413479</td></tr><tr><td>1</td><td>Map(vectorType -> dense, length -> 2, values -> List(3.1717779665128187, 2.073908798274623))</td><td>3.1717779665128187</td><td>2.073908798274623</td></tr><tr><td>1</td><td>Map(vectorType -> dense, length -> 2, values -> List(4.083484325194264, 0.48428396052725586))</td><td>4.083484325194264</td><td>0.48428396052725586</td></tr><tr><td>0</td><td>Map(vectorType -> dense, length -> 2, values -> List(-3.4724383684210407, 1.67141372334568))</td><td>-3.4724383684210407</td><td>1.67141372334568</td></tr><tr><td>0</td><td>Map(vectorType -> dense, length -> 2, values -> List(-16.304886649594216, 7.769016888373382))</td><td>-16.304886649594216</td><td>7.769016888373382</td></tr><tr><td>1</td><td>Map(vectorType -> dense, length -> 2, values -> List(2.557864367016561, 2.4918528797022423))</td><td>2.557864367016561</td><td>2.4918528797022423</td></tr><tr><td>1</td><td>Map(vectorType -> dense, length -> 2, values -> List(2.9662787832842827, 0.06878661072296705))</td><td>2.9662787832842827</td><td>0.06878661072296705</td></tr><tr><td>1</td><td>Map(vectorType -> dense, length -> 2, values -> List(2.755006335869314, 1.7923416963765513))</td><td>2.755006335869314</td><td>1.7923416963765513</td></tr><tr><td>1</td><td>Map(vectorType -> dense, length -> 2, values -> List(-1.3691351808117749, -2.1081563937309458))</td><td>-1.3691351808117749</td><td>-2.1081563937309458</td></tr><tr><td>1</td><td>Map(vectorType -> dense, length -> 2, values -> List(0.4172973149060333, -0.11641726210993464))</td><td>0.4172973149060333</td><td>-0.11641726210993464</td></tr><tr><td>1</td><td>Map(vectorType -> dense, length -> 2, values -> List(3.835024205957114, -0.898388161674005))</td><td>3.835024205957114</td><td>-0.898388161674005</td></tr><tr><td>0</td><td>Map(vectorType -> dense, length -> 2, values -> List(-5.9257508235346075, -1.2272168607935359))</td><td>-5.9257508235346075</td><td>-1.2272168607935359</td></tr><tr><td>1</td><td>Map(vectorType -> dense, length -> 2, values -> List(-0.6449111936209141, -3.4229995421977764))</td><td>-0.6449111936209141</td><td>-3.4229995421977764</td></tr><tr><td>1</td><td>Map(vectorType -> dense, length -> 2, values -> List(2.6814869751157433, -1.4422864689137533))</td><td>2.6814869751157433</td><td>-1.4422864689137533</td></tr><tr><td>1</td><td>Map(vectorType -> dense, length -> 2, values -> List(2.0398691822622053, 0.9024618581445207))</td><td>2.0398691822622053</td><td>0.9024618581445207</td></tr><tr><td>1</td><td>Map(vectorType -> dense, length -> 2, values -> List(1.398066199236754, 1.770668243981824))</td><td>1.398066199236754</td><td>1.770668243981824</td></tr><tr><td>1</td><td>Map(vectorType -> dense, length -> 2, values -> List(3.5333063582933635, 1.24575801773039))</td><td>3.5333063582933635</td><td>1.24575801773039</td></tr><tr><td>1</td><td>Map(vectorType -> dense, length -> 2, values -> List(1.9887795302556113, -1.89779269317917))</td><td>1.9887795302556113</td><td>-1.89779269317917</td></tr><tr><td>1</td><td>Map(vectorType -> dense, length -> 2, values -> List(1.996428720313028, 0.20618971131568076))</td><td>1.996428720313028</td><td>0.20618971131568076</td></tr><tr><td>1</td><td>Map(vectorType -> dense, length -> 2, values -> List(0.5202003908111569, 0.9725121025461498))</td><td>0.5202003908111569</td><td>0.9725121025461498</td></tr><tr><td>1</td><td>Map(vectorType -> dense, length -> 2, values -> List(3.1695815905766174, 2.0872157681880967))</td><td>3.1695815905766174</td><td>2.0872157681880967</td></tr><tr><td>1</td><td>Map(vectorType -> dense, length -> 2, values -> List(2.200773740164568, -1.2849087344346048))</td><td>2.200773740164568</td><td>-1.2849087344346048</td></tr><tr><td>0</td><td>Map(vectorType -> dense, length -> 2, values -> List(-3.821070903352409, -2.3032097346083917))</td><td>-3.821070903352409</td><td>-2.3032097346083917</td></tr><tr><td>1</td><td>Map(vectorType -> dense, length -> 2, values -> List(2.982860087893478, 0.6727472975250199))</td><td>2.982860087893478</td><td>0.6727472975250199</td></tr><tr><td>1</td><td>Map(vectorType -> dense, length -> 2, values -> List(2.4788739595090217, 2.361880554620532))</td><td>2.4788739595090217</td><td>2.361880554620532</td></tr><tr><td>1</td><td>Map(vectorType -> dense, length -> 2, values -> List(1.2709931213159007, -0.5093856426258698))</td><td>1.2709931213159007</td><td>-0.5093856426258698</td></tr><tr><td>1</td><td>Map(vectorType -> dense, length -> 2, values -> List(2.2331919146098254, 1.297562775248254))</td><td>2.2331919146098254</td><td>1.297562775248254</td></tr><tr><td>1</td><td>Map(vectorType -> dense, length -> 2, values -> List(0.056133712562133314, 0.22718349542905497))</td><td>0.056133712562133314</td><td>0.22718349542905497</td></tr><tr><td>1</td><td>Map(vectorType -> dense, length -> 2, values -> List(-2.3153533394197727, -4.385275754541184))</td><td>-2.3153533394197727</td><td>-4.385275754541184</td></tr><tr><td>1</td><td>Map(vectorType -> dense, length -> 2, values -> List(2.2823230571574515, 2.464672104779668))</td><td>2.2823230571574515</td><td>2.464672104779668</td></tr><tr><td>0</td><td>Map(vectorType -> dense, length -> 2, values -> List(-4.750434988655813, 1.4881141767755597))</td><td>-4.750434988655813</td><td>1.4881141767755597</td></tr><tr><td>1</td><td>Map(vectorType -> dense, length -> 2, values -> List(1.7247932814230538, -0.9973003162547251))</td><td>1.7247932814230538</td><td>-0.9973003162547251</td></tr><tr><td>0</td><td>Map(vectorType -> dense, length -> 2, values -> List(0.7411296510979193, 2.449879330556573))</td><td>0.7411296510979193</td><td>2.449879330556573</td></tr><tr><td>1</td><td>Map(vectorType -> dense, length -> 2, values -> List(2.891766211587366, 0.977084587771863))</td><td>2.891766211587366</td><td>0.977084587771863</td></tr><tr><td>1</td><td>Map(vectorType -> dense, length -> 2, values -> List(1.6530673209399034, 4.551659142222769))</td><td>1.6530673209399034</td><td>4.551659142222769</td></tr><tr><td>0</td><td>Map(vectorType -> dense, length -> 2, values -> List(-3.1007913344299807, 1.235066483028626))</td><td>-3.1007913344299807</td><td>1.235066483028626</td></tr><tr><td>1</td><td>Map(vectorType -> dense, length -> 2, values -> List(4.060697611933903, 0.5604610750609345))</td><td>4.060697611933903</td><td>0.5604610750609345</td></tr><tr><td>1</td><td>Map(vectorType -> dense, length -> 2, values -> List(2.790874981685018, 1.076940538969515))</td><td>2.790874981685018</td><td>1.076940538969515</td></tr><tr><td>1</td><td>Map(vectorType -> dense, length -> 2, values -> List(1.4736233044459313, 1.5896954369820397))</td><td>1.4736233044459313</td><td>1.5896954369820397</td></tr><tr><td>1</td><td>Map(vectorType -> dense, length -> 2, values -> List(0.2291929713893269, -1.5145707554059142))</td><td>0.2291929713893269</td><td>-1.5145707554059142</td></tr><tr><td>1</td><td>Map(vectorType -> dense, length -> 2, values -> List(2.551013784403687, 0.7632289241818467))</td><td>2.551013784403687</td><td>0.7632289241818467</td></tr><tr><td>0</td><td>Map(vectorType -> dense, length -> 2, values -> List(-3.712438548894881, 1.0577555061741135))</td><td>-3.712438548894881</td><td>1.0577555061741135</td></tr><tr><td>0</td><td>Map(vectorType -> dense, length -> 2, values -> List(-5.0903628610901865, 2.017432705941421))</td><td>-5.0903628610901865</td><td>2.017432705941421</td></tr><tr><td>1</td><td>Map(vectorType -> dense, length -> 2, values -> List(0.6000880992881495, 0.8377175598703596))</td><td>0.6000880992881495</td><td>0.8377175598703596</td></tr><tr><td>0</td><td>Map(vectorType -> dense, length -> 2, values -> List(-2.7879467302084433, -3.382584454086203))</td><td>-2.7879467302084433</td><td>-3.382584454086203</td></tr><tr><td>1</td><td>Map(vectorType -> dense, length -> 2, values -> List(1.4075327339711794, -1.5044468375239244))</td><td>1.4075327339711794</td><td>-1.5044468375239244</td></tr><tr><td>0</td><td>Map(vectorType -> dense, length -> 2, values -> List(-7.252797143875283, 5.49090430233696))</td><td>-7.252797143875283</td><td>5.49090430233696</td></tr><tr><td>1</td><td>Map(vectorType -> dense, length -> 2, values -> List(-1.2977246878630824, -7.7230573252406876))</td><td>-1.2977246878630824</td><td>-7.7230573252406876</td></tr><tr><td>1</td><td>Map(vectorType -> dense, length -> 2, values -> List(-1.0757467319114502, -8.28748333708094))</td><td>-1.0757467319114502</td><td>-8.28748333708094</td></tr><tr><td>1</td><td>Map(vectorType -> dense, length -> 2, values -> List(1.2486618339884528, -1.5942810552468651))</td><td>1.2486618339884528</td><td>-1.5942810552468651</td></tr><tr><td>1</td><td>Map(vectorType -> dense, length -> 2, values -> List(1.2558234134005026, -4.113567176044441))</td><td>1.2558234134005026</td><td>-4.113567176044441</td></tr><tr><td>1</td><td>Map(vectorType -> dense, length -> 2, values -> List(1.1655096888161074, 1.664229389288278))</td><td>1.1655096888161074</td><td>1.664229389288278</td></tr><tr><td>0</td><td>Map(vectorType -> dense, length -> 2, values -> List(-4.090543310340465, -2.8004631372638533))</td><td>-4.090543310340465</td><td>-2.8004631372638533</td></tr><tr><td>1</td><td>Map(vectorType -> dense, length -> 2, values -> List(1.8859797779694114, -1.670721679773254))</td><td>1.8859797779694114</td><td>-1.670721679773254</td></tr><tr><td>1</td><td>Map(vectorType -> dense, length -> 2, values -> List(2.7650027918677633, 2.1591489715386922))</td><td>2.7650027918677633</td><td>2.1591489715386922</td></tr><tr><td>0</td><td>Map(vectorType -> dense, length -> 2, values -> List(-2.2250366914743682, -1.939927827030339))</td><td>-2.2250366914743682</td><td>-1.939927827030339</td></tr><tr><td>1</td><td>Map(vectorType -> dense, length -> 2, values -> List(1.130582097681733, 1.4097615238920558))</td><td>1.130582097681733</td><td>1.4097615238920558</td></tr><tr><td>0</td><td>Map(vectorType -> dense, length -> 2, values -> List(0.7331273774331185, 1.9419884383163164))</td><td>0.7331273774331185</td><td>1.9419884383163164</td></tr><tr><td>1</td><td>Map(vectorType -> dense, length -> 2, values -> List(2.331619157745097, -0.7894519727749363))</td><td>2.331619157745097</td><td>-0.7894519727749363</td></tr><tr><td>0</td><td>Map(vectorType -> dense, length -> 2, values -> List(-2.6948525682230757, 1.9420011894412628))</td><td>-2.6948525682230757</td><td>1.9420011894412628</td></tr><tr><td>0</td><td>Map(vectorType -> dense, length -> 2, values -> List(-3.3760441048029453, 2.331377578459931))</td><td>-3.3760441048029453</td><td>2.331377578459931</td></tr><tr><td>1</td><td>Map(vectorType -> dense, length -> 2, values -> List(0.19969486970744776, -1.0754137523919416))</td><td>0.19969486970744776</td><td>-1.0754137523919416</td></tr><tr><td>1</td><td>Map(vectorType -> dense, length -> 2, values -> List(1.1749920441007746, -1.0104810609185944))</td><td>1.1749920441007746</td><td>-1.0104810609185944</td></tr><tr><td>1</td><td>Map(vectorType -> dense, length -> 2, values -> List(1.2915001552911294, -4.95986054770475))</td><td>1.2915001552911294</td><td>-4.95986054770475</td></tr><tr><td>0</td><td>Map(vectorType -> dense, length -> 2, values -> List(-8.62316837995109, 3.4564106380793023))</td><td>-8.62316837995109</td><td>3.4564106380793023</td></tr><tr><td>1</td><td>Map(vectorType -> dense, length -> 2, values -> List(4.425562342734112, 0.7853450148775316))</td><td>4.425562342734112</td><td>0.7853450148775316</td></tr><tr><td>1</td><td>Map(vectorType -> dense, length -> 2, values -> List(0.6192938271623817, -0.6357898420661944))</td><td>0.6192938271623817</td><td>-0.6357898420661944</td></tr><tr><td>1</td><td>Map(vectorType -> dense, length -> 2, values -> List(3.249456589361688, -1.2847946773825833))</td><td>3.249456589361688</td><td>-1.2847946773825833</td></tr><tr><td>1</td><td>Map(vectorType -> dense, length -> 2, values -> List(3.3499794247879007, -2.6709504428938526))</td><td>3.3499794247879007</td><td>-2.6709504428938526</td></tr><tr><td>1</td><td>Map(vectorType -> dense, length -> 2, values -> List(0.8590471150995695, -0.09676338102649315))</td><td>0.8590471150995695</td><td>-0.09676338102649315</td></tr><tr><td>1</td><td>Map(vectorType -> dense, length -> 2, values -> List(3.153846915866264, 0.8707764321748559))</td><td>3.153846915866264</td><td>0.8707764321748559</td></tr><tr><td>1</td><td>Map(vectorType -> dense, length -> 2, values -> List(-0.34622347304999, -1.5398703522206656))</td><td>-0.34622347304999</td><td>-1.5398703522206656</td></tr><tr><td>1</td><td>Map(vectorType -> dense, length -> 2, values -> List(2.4592427765273936, -0.6003197511282811))</td><td>2.4592427765273936</td><td>-0.6003197511282811</td></tr><tr><td>1</td><td>Map(vectorType -> dense, length -> 2, values -> List(1.5287555778359285, -0.4048615538044331))</td><td>1.5287555778359285</td><td>-0.4048615538044331</td></tr><tr><td>1</td><td>Map(vectorType -> dense, length -> 2, values -> List(1.7720258700967124, -0.803503014434994))</td><td>1.7720258700967124</td><td>-0.803503014434994</td></tr><tr><td>1</td><td>Map(vectorType -> dense, length -> 2, values -> List(2.678085191313472, 1.4834036616823287))</td><td>2.678085191313472</td><td>1.4834036616823287</td></tr><tr><td>0</td><td>Map(vectorType -> dense, length -> 2, values -> List(-4.0248937788414745, 2.9388442248977937))</td><td>-4.0248937788414745</td><td>2.9388442248977937</td></tr><tr><td>1</td><td>Map(vectorType -> dense, length -> 2, values -> List(2.1344731172656486, -1.517245622815041))</td><td>2.1344731172656486</td><td>-1.517245622815041</td></tr><tr><td>0</td><td>Map(vectorType -> dense, length -> 2, values -> List(-5.160869926813539, 2.3801089865141543))</td><td>-5.160869926813539</td><td>2.3801089865141543</td></tr><tr><td>0</td><td>Map(vectorType -> dense, length -> 2, values -> List(-0.5354608003698782, -0.3803804509380937))</td><td>-0.5354608003698782</td><td>-0.3803804509380937</td></tr><tr><td>1</td><td>Map(vectorType -> dense, length -> 2, values -> List(-0.3428217359545053, -3.5313738153028877))</td><td>-0.3428217359545053</td><td>-3.5313738153028877</td></tr><tr><td>1</td><td>Map(vectorType -> dense, length -> 2, values -> List(4.193390244985366, -2.3653110586351427))</td><td>4.193390244985366</td><td>-2.3653110586351427</td></tr><tr><td>1</td><td>Map(vectorType -> dense, length -> 2, values -> List(1.1418271770489359, -5.594535868456152))</td><td>1.1418271770489359</td><td>-5.594535868456152</td></tr><tr><td>1</td><td>Map(vectorType -> dense, length -> 2, values -> List(1.664010998953224, -2.3875173612100076))</td><td>1.664010998953224</td><td>-2.3875173612100076</td></tr><tr><td>1</td><td>Map(vectorType -> dense, length -> 2, values -> List(-1.0108230779795002, -1.091429306814634))</td><td>-1.0108230779795002</td><td>-1.091429306814634</td></tr><tr><td>1</td><td>Map(vectorType -> dense, length -> 2, values -> List(1.2997860372752292, 1.8198140572884016))</td><td>1.2997860372752292</td><td>1.8198140572884016</td></tr><tr><td>1</td><td>Map(vectorType -> dense, length -> 2, values -> List(2.3713421938590287, 1.6800979291229732))</td><td>2.3713421938590287</td><td>1.6800979291229732</td></tr><tr><td>1</td><td>Map(vectorType -> dense, length -> 2, values -> List(1.6644065095239404, 0.21377464094397797))</td><td>1.6644065095239404</td><td>0.21377464094397797</td></tr><tr><td>1</td><td>Map(vectorType -> dense, length -> 2, values -> List(1.9259835298962638, 1.1367397049354833))</td><td>1.9259835298962638</td><td>1.1367397049354833</td></tr><tr><td>1</td><td>Map(vectorType -> dense, length -> 2, values -> List(4.233491591622636, -0.18411049913664243))</td><td>4.233491591622636</td><td>-0.18411049913664243</td></tr><tr><td>1</td><td>Map(vectorType -> dense, length -> 2, values -> List(2.67551654832496, -2.313756960760067))</td><td>2.67551654832496</td><td>-2.313756960760067</td></tr><tr><td>1</td><td>Map(vectorType -> dense, length -> 2, values -> List(3.8331251057796765, -0.4958136647931506))</td><td>3.8331251057796765</td><td>-0.4958136647931506</td></tr><tr><td>1</td><td>Map(vectorType -> dense, length -> 2, values -> List(2.549197271080616, -0.22812922776495775))</td><td>2.549197271080616</td><td>-0.22812922776495775</td></tr><tr><td>1</td><td>Map(vectorType -> dense, length -> 2, values -> List(4.690796039132359, 0.7668032380496332))</td><td>4.690796039132359</td><td>0.7668032380496332</td></tr><tr><td>1</td><td>Map(vectorType -> dense, length -> 2, values -> List(2.023256911330983, -1.2601331159344544))</td><td>2.023256911330983</td><td>-1.2601331159344544</td></tr><tr><td>1</td><td>Map(vectorType -> dense, length -> 2, values -> List(2.893402316494323, 1.4503596008448243))</td><td>2.893402316494323</td><td>1.4503596008448243</td></tr><tr><td>1</td><td>Map(vectorType -> dense, length -> 2, values -> List(3.499122181891035, -1.7992493424731142))</td><td>3.499122181891035</td><td>-1.7992493424731142</td></tr><tr><td>1</td><td>Map(vectorType -> dense, length -> 2, values -> List(2.1520101253443116, 0.8293390875025686))</td><td>2.1520101253443116</td><td>0.8293390875025686</td></tr><tr><td>1</td><td>Map(vectorType -> dense, length -> 2, values -> List(2.053277400329513, -1.6150382046289566))</td><td>2.053277400329513</td><td>-1.6150382046289566</td></tr><tr><td>1</td><td>Map(vectorType -> dense, length -> 2, values -> List(3.87388097251528, -1.0833015533293562))</td><td>3.87388097251528</td><td>-1.0833015533293562</td></tr><tr><td>1</td><td>Map(vectorType -> dense, length -> 2, values -> List(4.060289488002569, -0.1220610343738378))</td><td>4.060289488002569</td><td>-0.1220610343738378</td></tr><tr><td>1</td><td>Map(vectorType -> dense, length -> 2, values -> List(0.09858059215940665, 0.21337209338157492))</td><td>0.09858059215940665</td><td>0.21337209338157492</td></tr><tr><td>1</td><td>Map(vectorType -> dense, length -> 2, values -> List(1.0884184965311121, -1.2917113284606192))</td><td>1.0884184965311121</td><td>-1.2917113284606192</td></tr><tr><td>1</td><td>Map(vectorType -> dense, length -> 2, values -> List(0.48134742985143564, 0.17786319025918332))</td><td>0.48134742985143564</td><td>0.17786319025918332</td></tr><tr><td>1</td><td>Map(vectorType -> dense, length -> 2, values -> List(4.866027926474258, 2.1292326072497127))</td><td>4.866027926474258</td><td>2.1292326072497127</td></tr><tr><td>0</td><td>Map(vectorType -> dense, length -> 2, values -> List(-5.912410291355404, -3.4795749998679417))</td><td>-5.912410291355404</td><td>-3.4795749998679417</td></tr><tr><td>0</td><td>Map(vectorType -> dense, length -> 2, values -> List(-8.73365338296719, 0.5733501846849253))</td><td>-8.73365338296719</td><td>0.5733501846849253</td></tr><tr><td>0</td><td>Map(vectorType -> dense, length -> 2, values -> List(-6.4336545461706285, 3.573672988510644))</td><td>-6.4336545461706285</td><td>3.573672988510644</td></tr><tr><td>0</td><td>Map(vectorType -> dense, length -> 2, values -> List(-3.790047527744144, 3.580897052024049))</td><td>-3.790047527744144</td><td>3.580897052024049</td></tr><tr><td>0</td><td>Map(vectorType -> dense, length -> 2, values -> List(-1.2550749425072116, 1.900624363993427))</td><td>-1.2550749425072116</td><td>1.900624363993427</td></tr><tr><td>0</td><td>Map(vectorType -> dense, length -> 2, values -> List(-10.365673359932295, -1.6705402060588808))</td><td>-10.365673359932295</td><td>-1.6705402060588808</td></tr><tr><td>1</td><td>Map(vectorType -> dense, length -> 2, values -> List(5.470429900908385, 0.6700472198383458))</td><td>5.470429900908385</td><td>0.6700472198383458</td></tr></tbody></table></div>"
      ]
     },
     "metadata": {
      "application/vnd.databricks.v1+output": {
       "addedWidgets": {},
       "aggData": [],
       "aggError": "",
       "aggOverflow": false,
       "aggSchema": [],
       "aggSeriesLimitReached": false,
       "aggType": "",
       "arguments": {},
       "columnCustomDisplayInfos": {},
       "data": [
        [
         "0",
         {
          "length": 2,
          "values": [
           -9.184755209858798,
           -1.9468700303852997
          ],
          "vectorType": "dense"
         },
         -9.184755209858798,
         -1.9468700303852997
        ],
        [
         "0",
         {
          "length": 2,
          "values": [
           -2.385702628982577,
           3.764859062972658
          ],
          "vectorType": "dense"
         },
         -2.385702628982577,
         3.764859062972658
        ],
        [
         "0",
         {
          "length": 2,
          "values": [
           -5.728855490819108,
           1.0742285887048915
          ],
          "vectorType": "dense"
         },
         -5.728855490819108,
         1.0742285887048915
        ],
        [
         "0",
         {
          "length": 2,
          "values": [
           -7.116691259621306,
           -10.266555635124405
          ],
          "vectorType": "dense"
         },
         -7.116691259621306,
         -10.266555635124405
        ],
        [
         "0",
         {
          "length": 2,
          "values": [
           -3.931842466790753,
           1.9463589770798275
          ],
          "vectorType": "dense"
         },
         -3.931842466790753,
         1.9463589770798275
        ],
        [
         "0",
         {
          "length": 2,
          "values": [
           -2.3781546249740986,
           -3.9464564299158127
          ],
          "vectorType": "dense"
         },
         -2.3781546249740986,
         -3.9464564299158127
        ],
        [
         "0",
         {
          "length": 2,
          "values": [
           -2.236915058609935,
           2.6876664141795787
          ],
          "vectorType": "dense"
         },
         -2.236915058609935,
         2.6876664141795787
        ],
        [
         "0",
         {
          "length": 2,
          "values": [
           -2.1414142815514485,
           -2.3381866491831156
          ],
          "vectorType": "dense"
         },
         -2.1414142815514485,
         -2.3381866491831156
        ],
        [
         "0",
         {
          "length": 2,
          "values": [
           -3.172133150308517,
           -3.3888311376864144
          ],
          "vectorType": "dense"
         },
         -3.172133150308517,
         -3.3888311376864144
        ],
        [
         "0",
         {
          "length": 2,
          "values": [
           -6.346162835225129,
           -7.720380945492959
          ],
          "vectorType": "dense"
         },
         -6.346162835225129,
         -7.720380945492959
        ],
        [
         "0",
         {
          "length": 2,
          "values": [
           0.8097013190408896,
           2.656937672621719
          ],
          "vectorType": "dense"
         },
         0.8097013190408896,
         2.656937672621719
        ],
        [
         "0",
         {
          "length": 2,
          "values": [
           -2.6487698390097,
           -0.06650940530101429
          ],
          "vectorType": "dense"
         },
         -2.6487698390097,
         -0.06650940530101429
        ],
        [
         "0",
         {
          "length": 2,
          "values": [
           -8.177838822068551,
           -2.6986020073253876
          ],
          "vectorType": "dense"
         },
         -8.177838822068551,
         -2.6986020073253876
        ],
        [
         "0",
         {
          "length": 2,
          "values": [
           -0.34182514389774243,
           0.9674280261783395
          ],
          "vectorType": "dense"
         },
         -0.34182514389774243,
         0.9674280261783395
        ],
        [
         "0",
         {
          "length": 2,
          "values": [
           -4.338561717694848,
           -4.856809831831542
          ],
          "vectorType": "dense"
         },
         -4.338561717694848,
         -4.856809831831542
        ],
        [
         "0",
         {
          "length": 2,
          "values": [
           -4.07207318021357,
           -2.9744439832196963
          ],
          "vectorType": "dense"
         },
         -4.07207318021357,
         -2.9744439832196963
        ],
        [
         "0",
         {
          "length": 2,
          "values": [
           -0.22985276950326078,
           1.563382113820491
          ],
          "vectorType": "dense"
         },
         -0.22985276950326078,
         1.563382113820491
        ],
        [
         "0",
         {
          "length": 2,
          "values": [
           -4.414126949591796,
           -1.4174231504677404
          ],
          "vectorType": "dense"
         },
         -4.414126949591796,
         -1.4174231504677404
        ],
        [
         "0",
         {
          "length": 2,
          "values": [
           -4.944353041108302,
           4.110716527760167
          ],
          "vectorType": "dense"
         },
         -4.944353041108302,
         4.110716527760167
        ],
        [
         "1",
         {
          "length": 2,
          "values": [
           1.235975828519116,
           0.18804949002889026
          ],
          "vectorType": "dense"
         },
         1.235975828519116,
         0.18804949002889026
        ],
        [
         "1",
         {
          "length": 2,
          "values": [
           1.5767738400518536,
           -0.5723046247698896
          ],
          "vectorType": "dense"
         },
         1.5767738400518536,
         -0.5723046247698896
        ],
        [
         "1",
         {
          "length": 2,
          "values": [
           3.5542090442654697,
           -1.6614879693604343
          ],
          "vectorType": "dense"
         },
         3.5542090442654697,
         -1.6614879693604343
        ],
        [
         "0",
         {
          "length": 2,
          "values": [
           -4.729049722976225,
           -3.3020582651138817
          ],
          "vectorType": "dense"
         },
         -4.729049722976225,
         -3.3020582651138817
        ],
        [
         "0",
         {
          "length": 2,
          "values": [
           -4.204824406832293,
           5.123858058987457
          ],
          "vectorType": "dense"
         },
         -4.204824406832293,
         5.123858058987457
        ],
        [
         "0",
         {
          "length": 2,
          "values": [
           -4.945280748242438,
           1.5423951430023812
          ],
          "vectorType": "dense"
         },
         -4.945280748242438,
         1.5423951430023812
        ],
        [
         "0",
         {
          "length": 2,
          "values": [
           -7.092322358888266,
           -2.0168357342714707
          ],
          "vectorType": "dense"
         },
         -7.092322358888266,
         -2.0168357342714707
        ],
        [
         "0",
         {
          "length": 2,
          "values": [
           -3.5071766582289667,
           -2.1697159942950077
          ],
          "vectorType": "dense"
         },
         -3.5071766582289667,
         -2.1697159942950077
        ],
        [
         "0",
         {
          "length": 2,
          "values": [
           -3.061360211796454,
           1.874902631018983
          ],
          "vectorType": "dense"
         },
         -3.061360211796454,
         1.874902631018983
        ],
        [
         "0",
         {
          "length": 2,
          "values": [
           -4.003741273398027,
           -0.5367698596377992
          ],
          "vectorType": "dense"
         },
         -4.003741273398027,
         -0.5367698596377992
        ],
        [
         "0",
         {
          "length": 2,
          "values": [
           -1.7138017616568975,
           1.5223655018101776
          ],
          "vectorType": "dense"
         },
         -1.7138017616568975,
         1.5223655018101776
        ],
        [
         "0",
         {
          "length": 2,
          "values": [
           -6.0541185274085345,
           0.7565118002441548
          ],
          "vectorType": "dense"
         },
         -6.0541185274085345,
         0.7565118002441548
        ],
        [
         "0",
         {
          "length": 2,
          "values": [
           -2.899684688150535,
           -4.001774372782243
          ],
          "vectorType": "dense"
         },
         -2.899684688150535,
         -4.001774372782243
        ],
        [
         "0",
         {
          "length": 2,
          "values": [
           -4.550778483480172,
           -0.33723941876735425
          ],
          "vectorType": "dense"
         },
         -4.550778483480172,
         -0.33723941876735425
        ],
        [
         "0",
         {
          "length": 2,
          "values": [
           -4.98621537857523,
           1.1315932229451566
          ],
          "vectorType": "dense"
         },
         -4.98621537857523,
         1.1315932229451566
        ],
        [
         "0",
         {
          "length": 2,
          "values": [
           -2.9827163130446697,
           -0.7577564966701601
          ],
          "vectorType": "dense"
         },
         -2.9827163130446697,
         -0.7577564966701601
        ],
        [
         "0",
         {
          "length": 2,
          "values": [
           -2.7639371844217004,
           0.3540444207048967
          ],
          "vectorType": "dense"
         },
         -2.7639371844217004,
         0.3540444207048967
        ],
        [
         "0",
         {
          "length": 2,
          "values": [
           -1.295059249402728,
           -0.9123934661705099
          ],
          "vectorType": "dense"
         },
         -1.295059249402728,
         -0.9123934661705099
        ],
        [
         "1",
         {
          "length": 2,
          "values": [
           3.746017295612612,
           1.4122305036725344
          ],
          "vectorType": "dense"
         },
         3.746017295612612,
         1.4122305036725344
        ],
        [
         "0",
         {
          "length": 2,
          "values": [
           0.9971914775009062,
           3.3483467310234842
          ],
          "vectorType": "dense"
         },
         0.9971914775009062,
         3.3483467310234842
        ],
        [
         "0",
         {
          "length": 2,
          "values": [
           -0.764591355604326,
           -0.8854648371667375
          ],
          "vectorType": "dense"
         },
         -0.764591355604326,
         -0.8854648371667375
        ],
        [
         "0",
         {
          "length": 2,
          "values": [
           2.149062522258757,
           1.922300194308556
          ],
          "vectorType": "dense"
         },
         2.149062522258757,
         1.922300194308556
        ],
        [
         "0",
         {
          "length": 2,
          "values": [
           0.09324933698075474,
           -2.2587645315178184
          ],
          "vectorType": "dense"
         },
         0.09324933698075474,
         -2.2587645315178184
        ],
        [
         "0",
         {
          "length": 2,
          "values": [
           -9.080010225451238,
           -2.016898441324291
          ],
          "vectorType": "dense"
         },
         -9.080010225451238,
         -2.016898441324291
        ],
        [
         "0",
         {
          "length": 2,
          "values": [
           -0.9895830367496765,
           -0.9840641476689251
          ],
          "vectorType": "dense"
         },
         -0.9895830367496765,
         -0.9840641476689251
        ],
        [
         "0",
         {
          "length": 2,
          "values": [
           0.2932884879762997,
           0.13697856412444143
          ],
          "vectorType": "dense"
         },
         0.2932884879762997,
         0.13697856412444143
        ],
        [
         "0",
         {
          "length": 2,
          "values": [
           -5.376209908961654,
           0.13475840449503856
          ],
          "vectorType": "dense"
         },
         -5.376209908961654,
         0.13475840449503856
        ],
        [
         "1",
         {
          "length": 2,
          "values": [
           4.577908595212511,
           -1.4829155084495484
          ],
          "vectorType": "dense"
         },
         4.577908595212511,
         -1.4829155084495484
        ],
        [
         "0",
         {
          "length": 2,
          "values": [
           -1.6985123749994018,
           -2.350203862012345
          ],
          "vectorType": "dense"
         },
         -1.6985123749994018,
         -2.350203862012345
        ],
        [
         "1",
         {
          "length": 2,
          "values": [
           2.1345670832706904,
           -0.09574536366108702
          ],
          "vectorType": "dense"
         },
         2.1345670832706904,
         -0.09574536366108702
        ],
        [
         "1",
         {
          "length": 2,
          "values": [
           1.566100993427759,
           1.2073708547187902
          ],
          "vectorType": "dense"
         },
         1.566100993427759,
         1.2073708547187902
        ],
        [
         "1",
         {
          "length": 2,
          "values": [
           3.539790914613369,
           1.281368109614397
          ],
          "vectorType": "dense"
         },
         3.539790914613369,
         1.281368109614397
        ],
        [
         "1",
         {
          "length": 2,
          "values": [
           3.155037949380859,
           1.6874737964866235
          ],
          "vectorType": "dense"
         },
         3.155037949380859,
         1.6874737964866235
        ],
        [
         "1",
         {
          "length": 2,
          "values": [
           3.4474551464077874,
           0.49778071959150105
          ],
          "vectorType": "dense"
         },
         3.4474551464077874,
         0.49778071959150105
        ],
        [
         "0",
         {
          "length": 2,
          "values": [
           -3.2996476093220637,
           1.1299435737147892
          ],
          "vectorType": "dense"
         },
         -3.2996476093220637,
         1.1299435737147892
        ],
        [
         "0",
         {
          "length": 2,
          "values": [
           0.6740262135577757,
           2.114549136533497
          ],
          "vectorType": "dense"
         },
         0.6740262135577757,
         2.114549136533497
        ],
        [
         "1",
         {
          "length": 2,
          "values": [
           2.8556457728003637,
           -0.15258887411272043
          ],
          "vectorType": "dense"
         },
         2.8556457728003637,
         -0.15258887411272043
        ],
        [
         "0",
         {
          "length": 2,
          "values": [
           -4.644652068242386,
           2.3083015082587246
          ],
          "vectorType": "dense"
         },
         -4.644652068242386,
         2.3083015082587246
        ],
        [
         "0",
         {
          "length": 2,
          "values": [
           -2.174949156248412,
           -0.9712614383238205
          ],
          "vectorType": "dense"
         },
         -2.174949156248412,
         -0.9712614383238205
        ],
        [
         "1",
         {
          "length": 2,
          "values": [
           3.718187379898406,
           1.7860700970608108
          ],
          "vectorType": "dense"
         },
         3.718187379898406,
         1.7860700970608108
        ],
        [
         "1",
         {
          "length": 2,
          "values": [
           4.132326931707893,
           -2.4016792608874233
          ],
          "vectorType": "dense"
         },
         4.132326931707893,
         -2.4016792608874233
        ],
        [
         "1",
         {
          "length": 2,
          "values": [
           2.383738224783428,
           -2.7552338144184616
          ],
          "vectorType": "dense"
         },
         2.383738224783428,
         -2.7552338144184616
        ],
        [
         "1",
         {
          "length": 2,
          "values": [
           2.5766161014186637,
           -3.1359126501904933
          ],
          "vectorType": "dense"
         },
         2.5766161014186637,
         -3.1359126501904933
        ],
        [
         "0",
         {
          "length": 2,
          "values": [
           -4.7549283181968045,
           -3.0090328746490678
          ],
          "vectorType": "dense"
         },
         -4.7549283181968045,
         -3.0090328746490678
        ],
        [
         "1",
         {
          "length": 2,
          "values": [
           2.3120978470008,
           -3.2651167207221268
          ],
          "vectorType": "dense"
         },
         2.3120978470008,
         -3.2651167207221268
        ],
        [
         "0",
         {
          "length": 2,
          "values": [
           -1.690120795036984,
           -1.5393221159132306
          ],
          "vectorType": "dense"
         },
         -1.690120795036984,
         -1.5393221159132306
        ],
        [
         "0",
         {
          "length": 2,
          "values": [
           -1.8107121691780637,
           -0.7221048150632118
          ],
          "vectorType": "dense"
         },
         -1.8107121691780637,
         -0.7221048150632118
        ],
        [
         "1",
         {
          "length": 2,
          "values": [
           2.7834755915717917,
           -2.308617372387838
          ],
          "vectorType": "dense"
         },
         2.7834755915717917,
         -2.308617372387838
        ],
        [
         "1",
         {
          "length": 2,
          "values": [
           3.5155550218280442,
           0.657730735549507
          ],
          "vectorType": "dense"
         },
         3.5155550218280442,
         0.657730735549507
        ],
        [
         "1",
         {
          "length": 2,
          "values": [
           -4.326196052613209,
           -9.194435551699886
          ],
          "vectorType": "dense"
         },
         -4.326196052613209,
         -9.194435551699886
        ],
        [
         "1",
         {
          "length": 2,
          "values": [
           3.2584124133410364,
           0.9370136471243264
          ],
          "vectorType": "dense"
         },
         3.2584124133410364,
         0.9370136471243264
        ],
        [
         "0",
         {
          "length": 2,
          "values": [
           -2.702218505205821,
           4.433240984891397
          ],
          "vectorType": "dense"
         },
         -2.702218505205821,
         4.433240984891397
        ],
        [
         "1",
         {
          "length": 2,
          "values": [
           0.3075851279890566,
           -7.381317395929899
          ],
          "vectorType": "dense"
         },
         0.3075851279890566,
         -7.381317395929899
        ],
        [
         "0",
         {
          "length": 2,
          "values": [
           -5.498866892103152,
           -0.9375005134764515
          ],
          "vectorType": "dense"
         },
         -5.498866892103152,
         -0.9375005134764515
        ],
        [
         "0",
         {
          "length": 2,
          "values": [
           0.36139120652866014,
           -0.1196338211958474
          ],
          "vectorType": "dense"
         },
         0.36139120652866014,
         -0.1196338211958474
        ],
        [
         "1",
         {
          "length": 2,
          "values": [
           2.627664570741694,
           0.6966963492687757
          ],
          "vectorType": "dense"
         },
         2.627664570741694,
         0.6966963492687757
        ],
        [
         "0",
         {
          "length": 2,
          "values": [
           -1.4269120607028623,
           1.9653720916439372
          ],
          "vectorType": "dense"
         },
         -1.4269120607028623,
         1.9653720916439372
        ],
        [
         "1",
         {
          "length": 2,
          "values": [
           0.8337842392556142,
           -1.9638768597292673
          ],
          "vectorType": "dense"
         },
         0.8337842392556142,
         -1.9638768597292673
        ],
        [
         "0",
         {
          "length": 2,
          "values": [
           -6.225418799624563,
           -0.9192606901744491
          ],
          "vectorType": "dense"
         },
         -6.225418799624563,
         -0.9192606901744491
        ],
        [
         "0",
         {
          "length": 2,
          "values": [
           -11.658456435666892,
           -4.7444425930734235
          ],
          "vectorType": "dense"
         },
         -11.658456435666892,
         -4.7444425930734235
        ],
        [
         "1",
         {
          "length": 2,
          "values": [
           2.0198004469637176,
           0.25467574616148353
          ],
          "vectorType": "dense"
         },
         2.0198004469637176,
         0.25467574616148353
        ],
        [
         "1",
         {
          "length": 2,
          "values": [
           1.6369445986800977,
           -1.7144405868911354
          ],
          "vectorType": "dense"
         },
         1.6369445986800977,
         -1.7144405868911354
        ],
        [
         "1",
         {
          "length": 2,
          "values": [
           -1.1664352709963526,
           -2.5123052861935284
          ],
          "vectorType": "dense"
         },
         -1.1664352709963526,
         -2.5123052861935284
        ],
        [
         "0",
         {
          "length": 2,
          "values": [
           -10.759775351229562,
           2.25599785781172
          ],
          "vectorType": "dense"
         },
         -10.759775351229562,
         2.25599785781172
        ],
        [
         "0",
         {
          "length": 2,
          "values": [
           -5.030384877079519,
           -0.7737283569771864
          ],
          "vectorType": "dense"
         },
         -5.030384877079519,
         -0.7737283569771864
        ],
        [
         "1",
         {
          "length": 2,
          "values": [
           2.1725526922012715,
           -0.496441168924977
          ],
          "vectorType": "dense"
         },
         2.1725526922012715,
         -0.496441168924977
        ],
        [
         "0",
         {
          "length": 2,
          "values": [
           -3.285344627777663,
           1.6667704797343097
          ],
          "vectorType": "dense"
         },
         -3.285344627777663,
         1.6667704797343097
        ],
        [
         "0",
         {
          "length": 2,
          "values": [
           -0.607073784243589,
           -0.16207191874894683
          ],
          "vectorType": "dense"
         },
         -0.607073784243589,
         -0.16207191874894683
        ],
        [
         "0",
         {
          "length": 2,
          "values": [
           -3.5804132398493693,
           2.2047219162839213
          ],
          "vectorType": "dense"
         },
         -3.5804132398493693,
         2.2047219162839213
        ],
        [
         "1",
         {
          "length": 2,
          "values": [
           0.9333368663416973,
           -0.9268859190310914
          ],
          "vectorType": "dense"
         },
         0.9333368663416973,
         -0.9268859190310914
        ],
        [
         "1",
         {
          "length": 2,
          "values": [
           -1.2584973023904544,
           -1.014684255071954
          ],
          "vectorType": "dense"
         },
         -1.2584973023904544,
         -1.014684255071954
        ],
        [
         "1",
         {
          "length": 2,
          "values": [
           1.5868676958892003,
           1.6182329540103404
          ],
          "vectorType": "dense"
         },
         1.5868676958892003,
         1.6182329540103404
        ],
        [
         "0",
         {
          "length": 2,
          "values": [
           -0.2522755916003695,
           0.530884424915292
          ],
          "vectorType": "dense"
         },
         -0.2522755916003695,
         0.530884424915292
        ],
        [
         "1",
         {
          "length": 2,
          "values": [
           2.844928349652454,
           2.8911037319207855
          ],
          "vectorType": "dense"
         },
         2.844928349652454,
         2.8911037319207855
        ],
        [
         "1",
         {
          "length": 2,
          "values": [
           1.9632226839332967,
           0.9643084982548302
          ],
          "vectorType": "dense"
         },
         1.9632226839332967,
         0.9643084982548302
        ],
        [
         "0",
         {
          "length": 2,
          "values": [
           -2.773425247151511,
           -0.557509976757413
          ],
          "vectorType": "dense"
         },
         -2.773425247151511,
         -0.557509976757413
        ],
        [
         "0",
         {
          "length": 2,
          "values": [
           -4.392363138171209,
           2.1216408918292844
          ],
          "vectorType": "dense"
         },
         -4.392363138171209,
         2.1216408918292844
        ],
        [
         "1",
         {
          "length": 2,
          "values": [
           2.589804073230505,
           -0.21344611982789297
          ],
          "vectorType": "dense"
         },
         2.589804073230505,
         -0.21344611982789297
        ],
        [
         "1",
         {
          "length": 2,
          "values": [
           3.900905764302463,
           -1.1890204211664386
          ],
          "vectorType": "dense"
         },
         3.900905764302463,
         -1.1890204211664386
        ],
        [
         "1",
         {
          "length": 2,
          "values": [
           2.8157536467617743,
           -0.36756056672604126
          ],
          "vectorType": "dense"
         },
         2.8157536467617743,
         -0.36756056672604126
        ],
        [
         "0",
         {
          "length": 2,
          "values": [
           -0.6157390843403041,
           -0.6383499883109449
          ],
          "vectorType": "dense"
         },
         -0.6157390843403041,
         -0.6383499883109449
        ],
        [
         "0",
         {
          "length": 2,
          "values": [
           0.43247968428512473,
           1.390820523329051
          ],
          "vectorType": "dense"
         },
         0.43247968428512473,
         1.390820523329051
        ],
        [
         "1",
         {
          "length": 2,
          "values": [
           4.551024418715486,
           -3.5256837878131457
          ],
          "vectorType": "dense"
         },
         4.551024418715486,
         -3.5256837878131457
        ],
        [
         "1",
         {
          "length": 2,
          "values": [
           3.445152170485421,
           1.4233700401235052
          ],
          "vectorType": "dense"
         },
         3.445152170485421,
         1.4233700401235052
        ],
        [
         "1",
         {
          "length": 2,
          "values": [
           2.1141000788234177,
           -1.8477477817558619
          ],
          "vectorType": "dense"
         },
         2.1141000788234177,
         -1.8477477817558619
        ],
        [
         "1",
         {
          "length": 2,
          "values": [
           2.688986180588338,
           -1.4188133337752493
          ],
          "vectorType": "dense"
         },
         2.688986180588338,
         -1.4188133337752493
        ],
        [
         "0",
         {
          "length": 2,
          "values": [
           -3.2110913432991848,
           -4.043198634073635
          ],
          "vectorType": "dense"
         },
         -3.2110913432991848,
         -4.043198634073635
        ],
        [
         "1",
         {
          "length": 2,
          "values": [
           0.7486126561287516,
           -1.7960581752732854
          ],
          "vectorType": "dense"
         },
         0.7486126561287516,
         -1.7960581752732854
        ],
        [
         "1",
         {
          "length": 2,
          "values": [
           3.1562288887130996,
           1.0348388776990332
          ],
          "vectorType": "dense"
         },
         3.1562288887130996,
         1.0348388776990332
        ],
        [
         "0",
         {
          "length": 2,
          "values": [
           -13.044643947118486,
           -0.9806503574605676
          ],
          "vectorType": "dense"
         },
         -13.044643947118486,
         -0.9806503574605676
        ],
        [
         "1",
         {
          "length": 2,
          "values": [
           2.2267205341066245,
           -0.6668239016416191
          ],
          "vectorType": "dense"
         },
         2.2267205341066245,
         -0.6668239016416191
        ],
        [
         "1",
         {
          "length": 2,
          "values": [
           2.4906395353764794,
           -2.5964017081976385
          ],
          "vectorType": "dense"
         },
         2.4906395353764794,
         -2.5964017081976385
        ],
        [
         "1",
         {
          "length": 2,
          "values": [
           0.10325956887870977,
           -2.2781390146787253
          ],
          "vectorType": "dense"
         },
         0.10325956887870977,
         -2.2781390146787253
        ],
        [
         "1",
         {
          "length": 2,
          "values": [
           -3.5881369364374964,
           -3.9228814330897817
          ],
          "vectorType": "dense"
         },
         -3.5881369364374964,
         -3.9228814330897817
        ],
        [
         "1",
         {
          "length": 2,
          "values": [
           1.3477627936910612,
           -3.553098748124878
          ],
          "vectorType": "dense"
         },
         1.3477627936910612,
         -3.553098748124878
        ],
        [
         "1",
         {
          "length": 2,
          "values": [
           2.507910978274425,
           -3.248461200088754
          ],
          "vectorType": "dense"
         },
         2.507910978274425,
         -3.248461200088754
        ],
        [
         "1",
         {
          "length": 2,
          "values": [
           2.0442308647877296,
           -0.3046168360404698
          ],
          "vectorType": "dense"
         },
         2.0442308647877296,
         -0.3046168360404698
        ],
        [
         "1",
         {
          "length": 2,
          "values": [
           2.0952255918005553,
           -3.6638720623651575
          ],
          "vectorType": "dense"
         },
         2.0952255918005553,
         -3.6638720623651575
        ],
        [
         "0",
         {
          "length": 2,
          "values": [
           -3.1077931629832842,
           -1.5680098728032148
          ],
          "vectorType": "dense"
         },
         -3.1077931629832842,
         -1.5680098728032148
        ],
        [
         "0",
         {
          "length": 2,
          "values": [
           -4.952368008219316,
           -2.382749650207092
          ],
          "vectorType": "dense"
         },
         -4.952368008219316,
         -2.382749650207092
        ],
        [
         "0",
         {
          "length": 2,
          "values": [
           -0.8502661181133304,
           2.304707467911811
          ],
          "vectorType": "dense"
         },
         -0.8502661181133304,
         2.304707467911811
        ],
        [
         "1",
         {
          "length": 2,
          "values": [
           2.9633917342885567,
           -0.37117988308380523
          ],
          "vectorType": "dense"
         },
         2.9633917342885567,
         -0.37117988308380523
        ],
        [
         "0",
         {
          "length": 2,
          "values": [
           -3.331202091345631,
           1.3243920287519007
          ],
          "vectorType": "dense"
         },
         -3.331202091345631,
         1.3243920287519007
        ],
        [
         "0",
         {
          "length": 2,
          "values": [
           -12.8832762090226,
           -2.314585872823187
          ],
          "vectorType": "dense"
         },
         -12.8832762090226,
         -2.314585872823187
        ],
        [
         "1",
         {
          "length": 2,
          "values": [
           0.770066100541669,
           0.06405286022784357
          ],
          "vectorType": "dense"
         },
         0.770066100541669,
         0.06405286022784357
        ],
        [
         "1",
         {
          "length": 2,
          "values": [
           2.200579246024579,
           0.7349585441539866
          ],
          "vectorType": "dense"
         },
         2.200579246024579,
         0.7349585441539866
        ],
        [
         "1",
         {
          "length": 2,
          "values": [
           3.1406488057317365,
           1.8757585568762567
          ],
          "vectorType": "dense"
         },
         3.1406488057317365,
         1.8757585568762567
        ],
        [
         "0",
         {
          "length": 2,
          "values": [
           0.6383188466749707,
           0.9105648277387001
          ],
          "vectorType": "dense"
         },
         0.6383188466749707,
         0.9105648277387001
        ],
        [
         "0",
         {
          "length": 2,
          "values": [
           -1.9174462720607244,
           3.534971965704516
          ],
          "vectorType": "dense"
         },
         -1.9174462720607244,
         3.534971965704516
        ],
        [
         "1",
         {
          "length": 2,
          "values": [
           -1.4076297975592051,
           -1.303782215446646
          ],
          "vectorType": "dense"
         },
         -1.4076297975592051,
         -1.303782215446646
        ],
        [
         "0",
         {
          "length": 2,
          "values": [
           -4.639608949805652,
           1.480714296902346
          ],
          "vectorType": "dense"
         },
         -4.639608949805652,
         1.480714296902346
        ],
        [
         "1",
         {
          "length": 2,
          "values": [
           1.875816842535797,
           -1.4219794520209585
          ],
          "vectorType": "dense"
         },
         1.875816842535797,
         -1.4219794520209585
        ],
        [
         "0",
         {
          "length": 2,
          "values": [
           -1.4308104644206412,
           1.0486812201637816
          ],
          "vectorType": "dense"
         },
         -1.4308104644206412,
         1.0486812201637816
        ],
        [
         "0",
         {
          "length": 2,
          "values": [
           -1.3514379025047487,
           1.1531268416676224
          ],
          "vectorType": "dense"
         },
         -1.3514379025047487,
         1.1531268416676224
        ],
        [
         "1",
         {
          "length": 2,
          "values": [
           0.7084914339488595,
           1.5668536574634873
          ],
          "vectorType": "dense"
         },
         0.7084914339488595,
         1.5668536574634873
        ],
        [
         "0",
         {
          "length": 2,
          "values": [
           -2.16950708077604,
           2.823776100829295
          ],
          "vectorType": "dense"
         },
         -2.16950708077604,
         2.823776100829295
        ],
        [
         "0",
         {
          "length": 2,
          "values": [
           1.9751024733516598,
           0.4190187545862016
          ],
          "vectorType": "dense"
         },
         1.9751024733516598,
         0.4190187545862016
        ],
        [
         "1",
         {
          "length": 2,
          "values": [
           2.59850309522373,
           0.48191143623214344
          ],
          "vectorType": "dense"
         },
         2.59850309522373,
         0.48191143623214344
        ],
        [
         "1",
         {
          "length": 2,
          "values": [
           3.2551431766212113,
           0.417953650542393
          ],
          "vectorType": "dense"
         },
         3.2551431766212113,
         0.417953650542393
        ],
        [
         "0",
         {
          "length": 2,
          "values": [
           -3.778701596515092,
           -0.8596252179512075
          ],
          "vectorType": "dense"
         },
         -3.778701596515092,
         -0.8596252179512075
        ],
        [
         "1",
         {
          "length": 2,
          "values": [
           1.9902834824907458,
           -1.3281865083916466
          ],
          "vectorType": "dense"
         },
         1.9902834824907458,
         -1.3281865083916466
        ],
        [
         "1",
         {
          "length": 2,
          "values": [
           5.010599890275268,
           -0.5741947482063134
          ],
          "vectorType": "dense"
         },
         5.010599890275268,
         -0.5741947482063134
        ],
        [
         "0",
         {
          "length": 2,
          "values": [
           -1.3438380019594123,
           1.2736502780620558
          ],
          "vectorType": "dense"
         },
         -1.3438380019594123,
         1.2736502780620558
        ],
        [
         "1",
         {
          "length": 2,
          "values": [
           2.4538097168107567,
           -0.8976654414043106
          ],
          "vectorType": "dense"
         },
         2.4538097168107567,
         -0.8976654414043106
        ],
        [
         "1",
         {
          "length": 2,
          "values": [
           1.8356664765287183,
           0.09094674191163107
          ],
          "vectorType": "dense"
         },
         1.8356664765287183,
         0.09094674191163107
        ],
        [
         "1",
         {
          "length": 2,
          "values": [
           4.342668621633104,
           0.8927867080020948
          ],
          "vectorType": "dense"
         },
         4.342668621633104,
         0.8927867080020948
        ],
        [
         "1",
         {
          "length": 2,
          "values": [
           0.7321686848841821,
           -3.698927716334959
          ],
          "vectorType": "dense"
         },
         0.7321686848841821,
         -3.698927716334959
        ],
        [
         "0",
         {
          "length": 2,
          "values": [
           -2.3978879545325613,
           -4.8337356419503745
          ],
          "vectorType": "dense"
         },
         -2.3978879545325613,
         -4.8337356419503745
        ],
        [
         "1",
         {
          "length": 2,
          "values": [
           -0.3927530826218365,
           -1.0821159150961952
          ],
          "vectorType": "dense"
         },
         -0.3927530826218365,
         -1.0821159150961952
        ],
        [
         "1",
         {
          "length": 2,
          "values": [
           0.41196532673628217,
           0.389288784006076
          ],
          "vectorType": "dense"
         },
         0.41196532673628217,
         0.389288784006076
        ],
        [
         "1",
         {
          "length": 2,
          "values": [
           3.0472436872382715,
           2.235817238795145
          ],
          "vectorType": "dense"
         },
         3.0472436872382715,
         2.235817238795145
        ],
        [
         "1",
         {
          "length": 2,
          "values": [
           1.4412955434660437,
           -0.305601552317848
          ],
          "vectorType": "dense"
         },
         1.4412955434660437,
         -0.305601552317848
        ],
        [
         "1",
         {
          "length": 2,
          "values": [
           -0.08311297195894712,
           -7.144073768197734
          ],
          "vectorType": "dense"
         },
         -0.08311297195894712,
         -7.144073768197734
        ],
        [
         "1",
         {
          "length": 2,
          "values": [
           -7.087070838949417,
           -12.562140868978332
          ],
          "vectorType": "dense"
         },
         -7.087070838949417,
         -12.562140868978332
        ],
        [
         "1",
         {
          "length": 2,
          "values": [
           3.7401136372673087,
           -0.2502813056021372
          ],
          "vectorType": "dense"
         },
         3.7401136372673087,
         -0.2502813056021372
        ],
        [
         "1",
         {
          "length": 2,
          "values": [
           0.9683207941410804,
           -0.9441135819226691
          ],
          "vectorType": "dense"
         },
         0.9683207941410804,
         -0.9441135819226691
        ],
        [
         "1",
         {
          "length": 2,
          "values": [
           2.416593560539964,
           -0.005547531739681007
          ],
          "vectorType": "dense"
         },
         2.416593560539964,
         -0.005547531739681007
        ],
        [
         "0",
         {
          "length": 2,
          "values": [
           -4.0971826377870375,
           0.3784708057605489
          ],
          "vectorType": "dense"
         },
         -4.0971826377870375,
         0.3784708057605489
        ],
        [
         "1",
         {
          "length": 2,
          "values": [
           0.7509422555127223,
           3.0679491866145
          ],
          "vectorType": "dense"
         },
         0.7509422555127223,
         3.0679491866145
        ],
        [
         "1",
         {
          "length": 2,
          "values": [
           3.651433651563705,
           0.6740556439403642
          ],
          "vectorType": "dense"
         },
         3.651433651563705,
         0.6740556439403642
        ],
        [
         "1",
         {
          "length": 2,
          "values": [
           4.676097103502341,
           1.10288682345121
          ],
          "vectorType": "dense"
         },
         4.676097103502341,
         1.10288682345121
        ],
        [
         "1",
         {
          "length": 2,
          "values": [
           0.5972562440800077,
           -1.7840810718355007
          ],
          "vectorType": "dense"
         },
         0.5972562440800077,
         -1.7840810718355007
        ],
        [
         "0",
         {
          "length": 2,
          "values": [
           -3.384352890865804,
           2.908477953178305
          ],
          "vectorType": "dense"
         },
         -3.384352890865804,
         2.908477953178305
        ],
        [
         "0",
         {
          "length": 2,
          "values": [
           -6.144479695567227,
           2.0158789937746477
          ],
          "vectorType": "dense"
         },
         -6.144479695567227,
         2.0158789937746477
        ],
        [
         "1",
         {
          "length": 2,
          "values": [
           1.3238664840948287,
           -1.468002337228917
          ],
          "vectorType": "dense"
         },
         1.3238664840948287,
         -1.468002337228917
        ],
        [
         "0",
         {
          "length": 2,
          "values": [
           -5.489322772303608,
           4.162167037247703
          ],
          "vectorType": "dense"
         },
         -5.489322772303608,
         4.162167037247703
        ],
        [
         "1",
         {
          "length": 2,
          "values": [
           2.9947681268795883,
           2.7364532614587054
          ],
          "vectorType": "dense"
         },
         2.9947681268795883,
         2.7364532614587054
        ],
        [
         "1",
         {
          "length": 2,
          "values": [
           4.382876252034909,
           -0.006866239711844024
          ],
          "vectorType": "dense"
         },
         4.382876252034909,
         -0.006866239711844024
        ],
        [
         "0",
         {
          "length": 2,
          "values": [
           -1.2125676804145147,
           2.0372463953120428
          ],
          "vectorType": "dense"
         },
         -1.2125676804145147,
         2.0372463953120428
        ],
        [
         "0",
         {
          "length": 2,
          "values": [
           -5.065204235707061,
           1.783582969267652
          ],
          "vectorType": "dense"
         },
         -5.065204235707061,
         1.783582969267652
        ],
        [
         "1",
         {
          "length": 2,
          "values": [
           1.9759628006688976,
           1.84115939446237
          ],
          "vectorType": "dense"
         },
         1.9759628006688976,
         1.84115939446237
        ],
        [
         "1",
         {
          "length": 2,
          "values": [
           2.512665538094374,
           -0.11415185728328553
          ],
          "vectorType": "dense"
         },
         2.512665538094374,
         -0.11415185728328553
        ],
        [
         "0",
         {
          "length": 2,
          "values": [
           0.9466549351985862,
           1.6832724441193998
          ],
          "vectorType": "dense"
         },
         0.9466549351985862,
         1.6832724441193998
        ],
        [
         "0",
         {
          "length": 2,
          "values": [
           -2.8168897774102652,
           -1.2639909533709472
          ],
          "vectorType": "dense"
         },
         -2.8168897774102652,
         -1.2639909533709472
        ],
        [
         "1",
         {
          "length": 2,
          "values": [
           3.4809234523308104,
           -1.6182680772420517
          ],
          "vectorType": "dense"
         },
         3.4809234523308104,
         -1.6182680772420517
        ],
        [
         "1",
         {
          "length": 2,
          "values": [
           4.654633990732292,
           0.2227188459265475
          ],
          "vectorType": "dense"
         },
         4.654633990732292,
         0.2227188459265475
        ],
        [
         "1",
         {
          "length": 2,
          "values": [
           5.346913394805295,
           -1.0258552141595594
          ],
          "vectorType": "dense"
         },
         5.346913394805295,
         -1.0258552141595594
        ],
        [
         "1",
         {
          "length": 2,
          "values": [
           -1.1698684180216836,
           -7.008319995898495
          ],
          "vectorType": "dense"
         },
         -1.1698684180216836,
         -7.008319995898495
        ],
        [
         "0",
         {
          "length": 2,
          "values": [
           -2.953702919945471,
           -0.7058008217765863
          ],
          "vectorType": "dense"
         },
         -2.953702919945471,
         -0.7058008217765863
        ],
        [
         "1",
         {
          "length": 2,
          "values": [
           4.971327817743079,
           3.3832279834158325
          ],
          "vectorType": "dense"
         },
         4.971327817743079,
         3.3832279834158325
        ],
        [
         "1",
         {
          "length": 2,
          "values": [
           4.060452888239647,
           1.2450706432840835
          ],
          "vectorType": "dense"
         },
         4.060452888239647,
         1.2450706432840835
        ],
        [
         "0",
         {
          "length": 2,
          "values": [
           -9.504307055873683,
           5.598558051824166
          ],
          "vectorType": "dense"
         },
         -9.504307055873683,
         5.598558051824166
        ],
        [
         "0",
         {
          "length": 2,
          "values": [
           -8.99924713748581,
           -0.5805202806336891
          ],
          "vectorType": "dense"
         },
         -8.99924713748581,
         -0.5805202806336891
        ],
        [
         "0",
         {
          "length": 2,
          "values": [
           -0.7582113387114503,
           1.6071184807982521
          ],
          "vectorType": "dense"
         },
         -0.7582113387114503,
         1.6071184807982521
        ],
        [
         "1",
         {
          "length": 2,
          "values": [
           2.657021716338433,
           -0.5394611319693707
          ],
          "vectorType": "dense"
         },
         2.657021716338433,
         -0.5394611319693707
        ],
        [
         "0",
         {
          "length": 2,
          "values": [
           0.3896761071631376,
           0.9883726891537293
          ],
          "vectorType": "dense"
         },
         0.3896761071631376,
         0.9883726891537293
        ],
        [
         "1",
         {
          "length": 2,
          "values": [
           3.8856465678206793,
           -0.8153542849565183
          ],
          "vectorType": "dense"
         },
         3.8856465678206793,
         -0.8153542849565183
        ],
        [
         "0",
         {
          "length": 2,
          "values": [
           -0.3645553815353931,
           3.5713188418258013
          ],
          "vectorType": "dense"
         },
         -0.3645553815353931,
         3.5713188418258013
        ],
        [
         "1",
         {
          "length": 2,
          "values": [
           2.8333978267575493,
           0.39837916234531845
          ],
          "vectorType": "dense"
         },
         2.8333978267575493,
         0.39837916234531845
        ],
        [
         "1",
         {
          "length": 2,
          "values": [
           3.307373480730301,
           -0.1556042796224762
          ],
          "vectorType": "dense"
         },
         3.307373480730301,
         -0.1556042796224762
        ],
        [
         "1",
         {
          "length": 2,
          "values": [
           3.3543529255868116,
           1.1027621091603794
          ],
          "vectorType": "dense"
         },
         3.3543529255868116,
         1.1027621091603794
        ],
        [
         "0",
         {
          "length": 2,
          "values": [
           -6.517382011166436,
           -8.004126823765688
          ],
          "vectorType": "dense"
         },
         -6.517382011166436,
         -8.004126823765688
        ],
        [
         "1",
         {
          "length": 2,
          "values": [
           1.716225078957832,
           0.5426880190282252
          ],
          "vectorType": "dense"
         },
         1.716225078957832,
         0.5426880190282252
        ],
        [
         "1",
         {
          "length": 2,
          "values": [
           5.560842943398813,
           0.4774274929424864
          ],
          "vectorType": "dense"
         },
         5.560842943398813,
         0.4774274929424864
        ],
        [
         "0",
         {
          "length": 2,
          "values": [
           -1.7780969513569727,
           -2.7741462134520165
          ],
          "vectorType": "dense"
         },
         -1.7780969513569727,
         -2.7741462134520165
        ],
        [
         "0",
         {
          "length": 2,
          "values": [
           -2.6091890818216363,
           -1.5600490304583217
          ],
          "vectorType": "dense"
         },
         -2.6091890818216363,
         -1.5600490304583217
        ],
        [
         "1",
         {
          "length": 2,
          "values": [
           2.81656023352004,
           0.9692577223481751
          ],
          "vectorType": "dense"
         },
         2.81656023352004,
         0.9692577223481751
        ],
        [
         "0",
         {
          "length": 2,
          "values": [
           -2.4962424475167926,
           -2.276479789862448
          ],
          "vectorType": "dense"
         },
         -2.4962424475167926,
         -2.276479789862448
        ],
        [
         "0",
         {
          "length": 2,
          "values": [
           -1.275904513829326,
           2.4411110438899812
          ],
          "vectorType": "dense"
         },
         -1.275904513829326,
         2.4411110438899812
        ],
        [
         "0",
         {
          "length": 2,
          "values": [
           -3.470143981958466,
           2.275846405119393
          ],
          "vectorType": "dense"
         },
         -3.470143981958466,
         2.275846405119393
        ],
        [
         "0",
         {
          "length": 2,
          "values": [
           -1.2555703424425486,
           -0.38205709440413826
          ],
          "vectorType": "dense"
         },
         -1.2555703424425486,
         -0.38205709440413826
        ],
        [
         "1",
         {
          "length": 2,
          "values": [
           1.4721360446853025,
           -0.11678749584162215
          ],
          "vectorType": "dense"
         },
         1.4721360446853025,
         -0.11678749584162215
        ],
        [
         "0",
         {
          "length": 2,
          "values": [
           -1.6480106203166893,
           2.100442902308144
          ],
          "vectorType": "dense"
         },
         -1.6480106203166893,
         2.100442902308144
        ],
        [
         "0",
         {
          "length": 2,
          "values": [
           -9.028645224281451,
           0.6545968488688727
          ],
          "vectorType": "dense"
         },
         -9.028645224281451,
         0.6545968488688727
        ],
        [
         "0",
         {
          "length": 2,
          "values": [
           -4.550586028792268,
           -3.0839256264353505
          ],
          "vectorType": "dense"
         },
         -4.550586028792268,
         -3.0839256264353505
        ],
        [
         "1",
         {
          "length": 2,
          "values": [
           0.7805032063552411,
           -0.6522753252252638
          ],
          "vectorType": "dense"
         },
         0.7805032063552411,
         -0.6522753252252638
        ],
        [
         "0",
         {
          "length": 2,
          "values": [
           0.22289648137749804,
           0.7012045041875619
          ],
          "vectorType": "dense"
         },
         0.22289648137749804,
         0.7012045041875619
        ],
        [
         "1",
         {
          "length": 2,
          "values": [
           3.451858114839652,
           -1.3057897654953268
          ],
          "vectorType": "dense"
         },
         3.451858114839652,
         -1.3057897654953268
        ],
        [
         "0",
         {
          "length": 2,
          "values": [
           -0.4461518298391931,
           2.7852570082147827
          ],
          "vectorType": "dense"
         },
         -0.4461518298391931,
         2.7852570082147827
        ],
        [
         "1",
         {
          "length": 2,
          "values": [
           -0.3141617966983834,
           -2.0757343005542124
          ],
          "vectorType": "dense"
         },
         -0.3141617966983834,
         -2.0757343005542124
        ],
        [
         "1",
         {
          "length": 2,
          "values": [
           2.0573816635646485,
           2.4706139080117415
          ],
          "vectorType": "dense"
         },
         2.0573816635646485,
         2.4706139080117415
        ],
        [
         "0",
         {
          "length": 2,
          "values": [
           -4.804741578644551,
           3.0264400192113654
          ],
          "vectorType": "dense"
         },
         -4.804741578644551,
         3.0264400192113654
        ],
        [
         "1",
         {
          "length": 2,
          "values": [
           2.9960742986927817,
           0.3964292123288678
          ],
          "vectorType": "dense"
         },
         2.9960742986927817,
         0.3964292123288678
        ],
        [
         "0",
         {
          "length": 2,
          "values": [
           -12.27421974008282,
           7.536778598643883
          ],
          "vectorType": "dense"
         },
         -12.27421974008282,
         7.536778598643883
        ],
        [
         "0",
         {
          "length": 2,
          "values": [
           -3.3692320216392955,
           -2.585550416174371
          ],
          "vectorType": "dense"
         },
         -3.3692320216392955,
         -2.585550416174371
        ],
        [
         "0",
         {
          "length": 2,
          "values": [
           -2.5065608023508408,
           -2.6123498850288525
          ],
          "vectorType": "dense"
         },
         -2.5065608023508408,
         -2.6123498850288525
        ],
        [
         "0",
         {
          "length": 2,
          "values": [
           -1.3169097348008016,
           -2.152585452838559
          ],
          "vectorType": "dense"
         },
         -1.3169097348008016,
         -2.152585452838559
        ],
        [
         "1",
         {
          "length": 2,
          "values": [
           0.3884145349104365,
           -2.274796313785692
          ],
          "vectorType": "dense"
         },
         0.3884145349104365,
         -2.274796313785692
        ],
        [
         "1",
         {
          "length": 2,
          "values": [
           2.7545093134335943,
           -1.0858792262280101
          ],
          "vectorType": "dense"
         },
         2.7545093134335943,
         -1.0858792262280101
        ],
        [
         "0",
         {
          "length": 2,
          "values": [
           -4.939235008379087,
           2.845820435747167
          ],
          "vectorType": "dense"
         },
         -4.939235008379087,
         2.845820435747167
        ],
        [
         "0",
         {
          "length": 2,
          "values": [
           -4.294298799576767,
           4.662172958398716
          ],
          "vectorType": "dense"
         },
         -4.294298799576767,
         4.662172958398716
        ],
        [
         "1",
         {
          "length": 2,
          "values": [
           2.371415206580928,
           0.7327578143464887
          ],
          "vectorType": "dense"
         },
         2.371415206580928,
         0.7327578143464887
        ],
        [
         "1",
         {
          "length": 2,
          "values": [
           0.9663400342412815,
           -0.43805274138140315
          ],
          "vectorType": "dense"
         },
         0.9663400342412815,
         -0.43805274138140315
        ],
        [
         "1",
         {
          "length": 2,
          "values": [
           2.973182700588683,
           -1.8093817105584709
          ],
          "vectorType": "dense"
         },
         2.973182700588683,
         -1.8093817105584709
        ],
        [
         "0",
         {
          "length": 2,
          "values": [
           -1.8016617480543298,
           -0.16631461790202312
          ],
          "vectorType": "dense"
         },
         -1.8016617480543298,
         -0.16631461790202312
        ],
        [
         "1",
         {
          "length": 2,
          "values": [
           2.476180734357764,
           1.4173293464504262
          ],
          "vectorType": "dense"
         },
         2.476180734357764,
         1.4173293464504262
        ],
        [
         "1",
         {
          "length": 2,
          "values": [
           0.8253131039081664,
           1.249148354188872
          ],
          "vectorType": "dense"
         },
         0.8253131039081664,
         1.249148354188872
        ],
        [
         "1",
         {
          "length": 2,
          "values": [
           3.891273417938517,
           -0.5380972756254689
          ],
          "vectorType": "dense"
         },
         3.891273417938517,
         -0.5380972756254689
        ],
        [
         "1",
         {
          "length": 2,
          "values": [
           0.3892356039180487,
           0.613875324449998
          ],
          "vectorType": "dense"
         },
         0.3892356039180487,
         0.613875324449998
        ],
        [
         "1",
         {
          "length": 2,
          "values": [
           1.4560401949184865,
           0.20154941477167584
          ],
          "vectorType": "dense"
         },
         1.4560401949184865,
         0.20154941477167584
        ],
        [
         "0",
         {
          "length": 2,
          "values": [
           -2.7531455233218116,
           -3.4627267693133152
          ],
          "vectorType": "dense"
         },
         -2.7531455233218116,
         -3.4627267693133152
        ],
        [
         "0",
         {
          "length": 2,
          "values": [
           -3.254391152333232,
           0.12509042564652945
          ],
          "vectorType": "dense"
         },
         -3.254391152333232,
         0.12509042564652945
        ],
        [
         "1",
         {
          "length": 2,
          "values": [
           4.015606929779589,
           1.3530568336035458
          ],
          "vectorType": "dense"
         },
         4.015606929779589,
         1.3530568336035458
        ],
        [
         "1",
         {
          "length": 2,
          "values": [
           3.673181280856314,
           1.2904935620339735
          ],
          "vectorType": "dense"
         },
         3.673181280856314,
         1.2904935620339735
        ],
        [
         "0",
         {
          "length": 2,
          "values": [
           -3.3134086631131745,
           3.9356892675858393
          ],
          "vectorType": "dense"
         },
         -3.3134086631131745,
         3.9356892675858393
        ],
        [
         "1",
         {
          "length": 2,
          "values": [
           4.0330586952594905,
           -1.1615240891991265
          ],
          "vectorType": "dense"
         },
         4.0330586952594905,
         -1.1615240891991265
        ],
        [
         "1",
         {
          "length": 2,
          "values": [
           2.332181276558638,
           1.3477938157103568
          ],
          "vectorType": "dense"
         },
         2.332181276558638,
         1.3477938157103568
        ],
        [
         "0",
         {
          "length": 2,
          "values": [
           -8.396459114567051,
           4.150252991487551
          ],
          "vectorType": "dense"
         },
         -8.396459114567051,
         4.150252991487551
        ],
        [
         "0",
         {
          "length": 2,
          "values": [
           -2.645241099769492,
           3.947699392177443
          ],
          "vectorType": "dense"
         },
         -2.645241099769492,
         3.947699392177443
        ],
        [
         "1",
         {
          "length": 2,
          "values": [
           0.6811695085597811,
           1.134992456901795
          ],
          "vectorType": "dense"
         },
         0.6811695085597811,
         1.134992456901795
        ],
        [
         "0",
         {
          "length": 2,
          "values": [
           -3.3473504750853267,
           2.1526758988005272
          ],
          "vectorType": "dense"
         },
         -3.3473504750853267,
         2.1526758988005272
        ],
        [
         "1",
         {
          "length": 2,
          "values": [
           2.225762082820186,
           1.2139315550121692
          ],
          "vectorType": "dense"
         },
         2.225762082820186,
         1.2139315550121692
        ],
        [
         "1",
         {
          "length": 2,
          "values": [
           4.473648316810695,
           1.7395986990016745
          ],
          "vectorType": "dense"
         },
         4.473648316810695,
         1.7395986990016745
        ],
        [
         "1",
         {
          "length": 2,
          "values": [
           -1.3214586745096857,
           -4.785266054191078
          ],
          "vectorType": "dense"
         },
         -1.3214586745096857,
         -4.785266054191078
        ],
        [
         "1",
         {
          "length": 2,
          "values": [
           1.8484634072018238,
           1.5827355092570183
          ],
          "vectorType": "dense"
         },
         1.8484634072018238,
         1.5827355092570183
        ],
        [
         "0",
         {
          "length": 2,
          "values": [
           -3.7922288801761828,
           1.025330459219364
          ],
          "vectorType": "dense"
         },
         -3.7922288801761828,
         1.025330459219364
        ],
        [
         "1",
         {
          "length": 2,
          "values": [
           2.2793125444788847,
           -2.075859442194888
          ],
          "vectorType": "dense"
         },
         2.2793125444788847,
         -2.075859442194888
        ],
        [
         "1",
         {
          "length": 2,
          "values": [
           3.2259316385038423,
           1.1710430842293764
          ],
          "vectorType": "dense"
         },
         3.2259316385038423,
         1.1710430842293764
        ],
        [
         "1",
         {
          "length": 2,
          "values": [
           -1.0249988966720756,
           -2.3591861092433453
          ],
          "vectorType": "dense"
         },
         -1.0249988966720756,
         -2.3591861092433453
        ],
        [
         "1",
         {
          "length": 2,
          "values": [
           2.580285458084775,
           -0.7285720474808405
          ],
          "vectorType": "dense"
         },
         2.580285458084775,
         -0.7285720474808405
        ],
        [
         "1",
         {
          "length": 2,
          "values": [
           2.4836978332373185,
           -0.4601914826896939
          ],
          "vectorType": "dense"
         },
         2.4836978332373185,
         -0.4601914826896939
        ],
        [
         "0",
         {
          "length": 2,
          "values": [
           -7.13756173714527,
           2.073018195139842
          ],
          "vectorType": "dense"
         },
         -7.13756173714527,
         2.073018195139842
        ],
        [
         "1",
         {
          "length": 2,
          "values": [
           3.029815222770883,
           0.648897838165118
          ],
          "vectorType": "dense"
         },
         3.029815222770883,
         0.648897838165118
        ],
        [
         "0",
         {
          "length": 2,
          "values": [
           -7.078782066793522,
           -0.5277587995773976
          ],
          "vectorType": "dense"
         },
         -7.078782066793522,
         -0.5277587995773976
        ],
        [
         "0",
         {
          "length": 2,
          "values": [
           -1.3129437515041626,
           1.7738650170431625
          ],
          "vectorType": "dense"
         },
         -1.3129437515041626,
         1.7738650170431625
        ],
        [
         "0",
         {
          "length": 2,
          "values": [
           -3.7083865255645923,
           2.8050089983868287
          ],
          "vectorType": "dense"
         },
         -3.7083865255645923,
         2.8050089983868287
        ],
        [
         "0",
         {
          "length": 2,
          "values": [
           -0.4600742739863428,
           -0.3938197686403613
          ],
          "vectorType": "dense"
         },
         -0.4600742739863428,
         -0.3938197686403613
        ],
        [
         "0",
         {
          "length": 2,
          "values": [
           -6.387030007430574,
           1.821491442867628
          ],
          "vectorType": "dense"
         },
         -6.387030007430574,
         1.821491442867628
        ],
        [
         "0",
         {
          "length": 2,
          "values": [
           -5.250924689588624,
           -3.891107225655192
          ],
          "vectorType": "dense"
         },
         -5.250924689588624,
         -3.891107225655192
        ],
        [
         "0",
         {
          "length": 2,
          "values": [
           -8.726183381467218,
           -3.2769939657143716
          ],
          "vectorType": "dense"
         },
         -8.726183381467218,
         -3.2769939657143716
        ],
        [
         "0",
         {
          "length": 2,
          "values": [
           -3.6880727649812464,
           -1.0647092355384506
          ],
          "vectorType": "dense"
         },
         -3.6880727649812464,
         -1.0647092355384506
        ],
        [
         "0",
         {
          "length": 2,
          "values": [
           -3.3752809812447255,
           3.3682641746415576
          ],
          "vectorType": "dense"
         },
         -3.3752809812447255,
         3.3682641746415576
        ],
        [
         "0",
         {
          "length": 2,
          "values": [
           0.8394710078446104,
           3.4970080337579934
          ],
          "vectorType": "dense"
         },
         0.8394710078446104,
         3.4970080337579934
        ],
        [
         "0",
         {
          "length": 2,
          "values": [
           -3.2814852588700103,
           0.9898022792791088
          ],
          "vectorType": "dense"
         },
         -3.2814852588700103,
         0.9898022792791088
        ],
        [
         "0",
         {
          "length": 2,
          "values": [
           1.9070908891938627,
           3.119201237203347
          ],
          "vectorType": "dense"
         },
         1.9070908891938627,
         3.119201237203347
        ],
        [
         "0",
         {
          "length": 2,
          "values": [
           -1.6133623365757193,
           2.4723978983559065
          ],
          "vectorType": "dense"
         },
         -1.6133623365757193,
         2.4723978983559065
        ],
        [
         "0",
         {
          "length": 2,
          "values": [
           -6.613906806066417,
           5.997998810891651
          ],
          "vectorType": "dense"
         },
         -6.613906806066417,
         5.997998810891651
        ],
        [
         "1",
         {
          "length": 2,
          "values": [
           1.4633883060156407,
           -1.685149060625749
          ],
          "vectorType": "dense"
         },
         1.4633883060156407,
         -1.685149060625749
        ],
        [
         "1",
         {
          "length": 2,
          "values": [
           2.0103835029649497,
           1.1025164598842423
          ],
          "vectorType": "dense"
         },
         2.0103835029649497,
         1.1025164598842423
        ],
        [
         "1",
         {
          "length": 2,
          "values": [
           2.282332040471847,
           -0.009485293138450299
          ],
          "vectorType": "dense"
         },
         2.282332040471847,
         -0.009485293138450299
        ],
        [
         "1",
         {
          "length": 2,
          "values": [
           0.7390927619274819,
           -3.149749157849665
          ],
          "vectorType": "dense"
         },
         0.7390927619274819,
         -3.149749157849665
        ],
        [
         "1",
         {
          "length": 2,
          "values": [
           4.502600696719506,
           3.166486413631368
          ],
          "vectorType": "dense"
         },
         4.502600696719506,
         3.166486413631368
        ],
        [
         "1",
         {
          "length": 2,
          "values": [
           3.1559773740122634,
           -0.4099410900241174
          ],
          "vectorType": "dense"
         },
         3.1559773740122634,
         -0.4099410900241174
        ],
        [
         "0",
         {
          "length": 2,
          "values": [
           -7.6694012070934345,
           3.072602737491275
          ],
          "vectorType": "dense"
         },
         -7.6694012070934345,
         3.072602737491275
        ],
        [
         "1",
         {
          "length": 2,
          "values": [
           3.6359367261303492,
           -1.5881896245823244
          ],
          "vectorType": "dense"
         },
         3.6359367261303492,
         -1.5881896245823244
        ],
        [
         "0",
         {
          "length": 2,
          "values": [
           -0.3370489251204577,
           3.1416091727542197
          ],
          "vectorType": "dense"
         },
         -0.3370489251204577,
         3.1416091727542197
        ],
        [
         "1",
         {
          "length": 2,
          "values": [
           1.2754611078320632,
           -0.8483065631109162
          ],
          "vectorType": "dense"
         },
         1.2754611078320632,
         -0.8483065631109162
        ],
        [
         "1",
         {
          "length": 2,
          "values": [
           4.342193381795932,
           0.3216949991143457
          ],
          "vectorType": "dense"
         },
         4.342193381795932,
         0.3216949991143457
        ],
        [
         "0",
         {
          "length": 2,
          "values": [
           -0.01741546771171315,
           3.456302109699558
          ],
          "vectorType": "dense"
         },
         -0.01741546771171315,
         3.456302109699558
        ],
        [
         "1",
         {
          "length": 2,
          "values": [
           3.4893557720452133,
           2.6317667234807156
          ],
          "vectorType": "dense"
         },
         3.4893557720452133,
         2.6317667234807156
        ],
        [
         "1",
         {
          "length": 2,
          "values": [
           1.864907931297847,
           0.9012711860481959
          ],
          "vectorType": "dense"
         },
         1.864907931297847,
         0.9012711860481959
        ],
        [
         "0",
         {
          "length": 2,
          "values": [
           -4.955907441716645,
           1.3399440378897656
          ],
          "vectorType": "dense"
         },
         -4.955907441716645,
         1.3399440378897656
        ],
        [
         "1",
         {
          "length": 2,
          "values": [
           2.4685506209044195,
           0.1379049225435279
          ],
          "vectorType": "dense"
         },
         2.4685506209044195,
         0.1379049225435279
        ],
        [
         "0",
         {
          "length": 2,
          "values": [
           -3.781732576915012,
           1.9002354094267013
          ],
          "vectorType": "dense"
         },
         -3.781732576915012,
         1.9002354094267013
        ],
        [
         "0",
         {
          "length": 2,
          "values": [
           -2.634937310206687,
           -0.5766476067361099
          ],
          "vectorType": "dense"
         },
         -2.634937310206687,
         -0.5766476067361099
        ],
        [
         "1",
         {
          "length": 2,
          "values": [
           1.3714782673685932,
           -0.005800357721781113
          ],
          "vectorType": "dense"
         },
         1.3714782673685932,
         -0.005800357721781113
        ],
        [
         "1",
         {
          "length": 2,
          "values": [
           4.13524399446935,
           1.375298122929749
          ],
          "vectorType": "dense"
         },
         4.13524399446935,
         1.375298122929749
        ],
        [
         "1",
         {
          "length": 2,
          "values": [
           0.6863363877211871,
           -1.6935195059813446
          ],
          "vectorType": "dense"
         },
         0.6863363877211871,
         -1.6935195059813446
        ],
        [
         "1",
         {
          "length": 2,
          "values": [
           4.308338698860459,
           1.9767468042610254
          ],
          "vectorType": "dense"
         },
         4.308338698860459,
         1.9767468042610254
        ],
        [
         "1",
         {
          "length": 2,
          "values": [
           -0.4029548635748549,
           -3.7201606544330987
          ],
          "vectorType": "dense"
         },
         -0.4029548635748549,
         -3.7201606544330987
        ],
        [
         "1",
         {
          "length": 2,
          "values": [
           3.000965262243705,
           -0.35384887774716584
          ],
          "vectorType": "dense"
         },
         3.000965262243705,
         -0.35384887774716584
        ],
        [
         "1",
         {
          "length": 2,
          "values": [
           -3.1312530328587043,
           -4.269702670189467
          ],
          "vectorType": "dense"
         },
         -3.1312530328587043,
         -4.269702670189467
        ],
        [
         "1",
         {
          "length": 2,
          "values": [
           0.41746953769710166,
           0.8078657343689332
          ],
          "vectorType": "dense"
         },
         0.41746953769710166,
         0.8078657343689332
        ],
        [
         "1",
         {
          "length": 2,
          "values": [
           1.4189745870297155,
           -1.3927526376556778
          ],
          "vectorType": "dense"
         },
         1.4189745870297155,
         -1.3927526376556778
        ],
        [
         "1",
         {
          "length": 2,
          "values": [
           2.8680647531464465,
           0.268408338101326
          ],
          "vectorType": "dense"
         },
         2.8680647531464465,
         0.268408338101326
        ],
        [
         "1",
         {
          "length": 2,
          "values": [
           3.3628867182650546,
           0.8068906366540134
          ],
          "vectorType": "dense"
         },
         3.3628867182650546,
         0.8068906366540134
        ],
        [
         "1",
         {
          "length": 2,
          "values": [
           3.3120858684223364,
           1.4409083819701411
          ],
          "vectorType": "dense"
         },
         3.3120858684223364,
         1.4409083819701411
        ],
        [
         "1",
         {
          "length": 2,
          "values": [
           4.7655170071007955,
           0.5424845304417008
          ],
          "vectorType": "dense"
         },
         4.7655170071007955,
         0.5424845304417008
        ],
        [
         "0",
         {
          "length": 2,
          "values": [
           2.383785278667096,
           0.8233910735604927
          ],
          "vectorType": "dense"
         },
         2.383785278667096,
         0.8233910735604927
        ],
        [
         "1",
         {
          "length": 2,
          "values": [
           2.7846458146634814,
           2.530807159428553
          ],
          "vectorType": "dense"
         },
         2.7846458146634814,
         2.530807159428553
        ],
        [
         "1",
         {
          "length": 2,
          "values": [
           3.3908581737798005,
           -0.7533011314133292
          ],
          "vectorType": "dense"
         },
         3.3908581737798005,
         -0.7533011314133292
        ],
        [
         "0",
         {
          "length": 2,
          "values": [
           -6.58444232820841,
           1.4835570760795582
          ],
          "vectorType": "dense"
         },
         -6.58444232820841,
         1.4835570760795582
        ],
        [
         "1",
         {
          "length": 2,
          "values": [
           1.4540511062050259,
           -0.5914224783050939
          ],
          "vectorType": "dense"
         },
         1.4540511062050259,
         -0.5914224783050939
        ],
        [
         "0",
         {
          "length": 2,
          "values": [
           -7.176618434402277,
           -0.05509758012513949
          ],
          "vectorType": "dense"
         },
         -7.176618434402277,
         -0.05509758012513949
        ],
        [
         "1",
         {
          "length": 2,
          "values": [
           3.5756891739127767,
           -0.890799182251582
          ],
          "vectorType": "dense"
         },
         3.5756891739127767,
         -0.890799182251582
        ],
        [
         "1",
         {
          "length": 2,
          "values": [
           3.0543451401303825,
           0.17905583600501274
          ],
          "vectorType": "dense"
         },
         3.0543451401303825,
         0.17905583600501274
        ],
        [
         "1",
         {
          "length": 2,
          "values": [
           3.0717330303073704,
           0.3057893730497704
          ],
          "vectorType": "dense"
         },
         3.0717330303073704,
         0.3057893730497704
        ],
        [
         "1",
         {
          "length": 2,
          "values": [
           3.850152005362842,
           1.5233860034932076
          ],
          "vectorType": "dense"
         },
         3.850152005362842,
         1.5233860034932076
        ],
        [
         "1",
         {
          "length": 2,
          "values": [
           5.3855177059185495,
           -0.5557664886960754
          ],
          "vectorType": "dense"
         },
         5.3855177059185495,
         -0.5557664886960754
        ],
        [
         "1",
         {
          "length": 2,
          "values": [
           4.65358766791471,
           3.062692587047921
          ],
          "vectorType": "dense"
         },
         4.65358766791471,
         3.062692587047921
        ],
        [
         "1",
         {
          "length": 2,
          "values": [
           4.024001690818717,
           2.5406715203364776
          ],
          "vectorType": "dense"
         },
         4.024001690818717,
         2.5406715203364776
        ],
        [
         "1",
         {
          "length": 2,
          "values": [
           3.3448788008728587,
           0.06850277259966837
          ],
          "vectorType": "dense"
         },
         3.3448788008728587,
         0.06850277259966837
        ],
        [
         "1",
         {
          "length": 2,
          "values": [
           3.2969410508974435,
           3.1359500887137717
          ],
          "vectorType": "dense"
         },
         3.2969410508974435,
         3.1359500887137717
        ],
        [
         "1",
         {
          "length": 2,
          "values": [
           2.134525984500311,
           0.0043889867928022935
          ],
          "vectorType": "dense"
         },
         2.134525984500311,
         0.0043889867928022935
        ],
        [
         "1",
         {
          "length": 2,
          "values": [
           4.034467235871257,
           0.2404864516410689
          ],
          "vectorType": "dense"
         },
         4.034467235871257,
         0.2404864516410689
        ],
        [
         "1",
         {
          "length": 2,
          "values": [
           3.762104298066469,
           -4.39433394265753
          ],
          "vectorType": "dense"
         },
         3.762104298066469,
         -4.39433394265753
        ],
        [
         "1",
         {
          "length": 2,
          "values": [
           4.86695697440386,
           2.337158334463167
          ],
          "vectorType": "dense"
         },
         4.86695697440386,
         2.337158334463167
        ],
        [
         "1",
         {
          "length": 2,
          "values": [
           4.743075110258775,
           1.7968209625108593
          ],
          "vectorType": "dense"
         },
         4.743075110258775,
         1.7968209625108593
        ],
        [
         "0",
         {
          "length": 2,
          "values": [
           -1.8936500638857314,
           2.3901349362668816
          ],
          "vectorType": "dense"
         },
         -1.8936500638857314,
         2.3901349362668816
        ],
        [
         "1",
         {
          "length": 2,
          "values": [
           -1.571548343734521,
           -6.503377020577063
          ],
          "vectorType": "dense"
         },
         -1.571548343734521,
         -6.503377020577063
        ],
        [
         "1",
         {
          "length": 2,
          "values": [
           4.023080366038678,
           1.4009737529462152
          ],
          "vectorType": "dense"
         },
         4.023080366038678,
         1.4009737529462152
        ],
        [
         "1",
         {
          "length": 2,
          "values": [
           1.29372782598917,
           -3.4677573783806075
          ],
          "vectorType": "dense"
         },
         1.29372782598917,
         -3.4677573783806075
        ],
        [
         "0",
         {
          "length": 2,
          "values": [
           -1.8332274202713865,
           4.317723822665098
          ],
          "vectorType": "dense"
         },
         -1.8332274202713865,
         4.317723822665098
        ],
        [
         "1",
         {
          "length": 2,
          "values": [
           1.808789015235209,
           -0.39585898806435427
          ],
          "vectorType": "dense"
         },
         1.808789015235209,
         -0.39585898806435427
        ],
        [
         "0",
         {
          "length": 2,
          "values": [
           -7.230123567830955,
           0.035670410920752404
          ],
          "vectorType": "dense"
         },
         -7.230123567830955,
         0.035670410920752404
        ],
        [
         "1",
         {
          "length": 2,
          "values": [
           3.1428847812274205,
           0.741873771312808
          ],
          "vectorType": "dense"
         },
         3.1428847812274205,
         0.741873771312808
        ],
        [
         "1",
         {
          "length": 2,
          "values": [
           2.8847298001152506,
           0.46432306918826133
          ],
          "vectorType": "dense"
         },
         2.8847298001152506,
         0.46432306918826133
        ],
        [
         "1",
         {
          "length": 2,
          "values": [
           3.146885056706513,
           1.7696912547970154
          ],
          "vectorType": "dense"
         },
         3.146885056706513,
         1.7696912547970154
        ],
        [
         "1",
         {
          "length": 2,
          "values": [
           4.624310577223516,
           1.8340046311486002
          ],
          "vectorType": "dense"
         },
         4.624310577223516,
         1.8340046311486002
        ],
        [
         "0",
         {
          "length": 2,
          "values": [
           -2.248531903058634,
           0.3482295351152985
          ],
          "vectorType": "dense"
         },
         -2.248531903058634,
         0.3482295351152985
        ],
        [
         "0",
         {
          "length": 2,
          "values": [
           -2.105948215451635,
           -1.1209875925308008
          ],
          "vectorType": "dense"
         },
         -2.105948215451635,
         -1.1209875925308008
        ],
        [
         "0",
         {
          "length": 2,
          "values": [
           -1.7843799140989622,
           0.2689849572661148
          ],
          "vectorType": "dense"
         },
         -1.7843799140989622,
         0.2689849572661148
        ],
        [
         "1",
         {
          "length": 2,
          "values": [
           0.527232708197753,
           -1.264758768867036
          ],
          "vectorType": "dense"
         },
         0.527232708197753,
         -1.264758768867036
        ],
        [
         "1",
         {
          "length": 2,
          "values": [
           3.2106759241477616,
           -1.1024730816943964
          ],
          "vectorType": "dense"
         },
         3.2106759241477616,
         -1.1024730816943964
        ],
        [
         "1",
         {
          "length": 2,
          "values": [
           4.382566769758078,
           0.7604346273021849
          ],
          "vectorType": "dense"
         },
         4.382566769758078,
         0.7604346273021849
        ],
        [
         "1",
         {
          "length": 2,
          "values": [
           3.80666840292402,
           0.9091186263481879
          ],
          "vectorType": "dense"
         },
         3.80666840292402,
         0.9091186263481879
        ],
        [
         "0",
         {
          "length": 2,
          "values": [
           -3.3167555762556,
           1.5756664220302594
          ],
          "vectorType": "dense"
         },
         -3.3167555762556,
         1.5756664220302594
        ],
        [
         "1",
         {
          "length": 2,
          "values": [
           2.3911719850536737,
           -0.9891604207881478
          ],
          "vectorType": "dense"
         },
         2.3911719850536737,
         -0.9891604207881478
        ],
        [
         "0",
         {
          "length": 2,
          "values": [
           -4.676051829725837,
           0.9677414434843
          ],
          "vectorType": "dense"
         },
         -4.676051829725837,
         0.9677414434843
        ],
        [
         "1",
         {
          "length": 2,
          "values": [
           3.0649982652345846,
           -1.1348390297023678
          ],
          "vectorType": "dense"
         },
         3.0649982652345846,
         -1.1348390297023678
        ],
        [
         "0",
         {
          "length": 2,
          "values": [
           -7.346754205800324,
           5.238014242213437
          ],
          "vectorType": "dense"
         },
         -7.346754205800324,
         5.238014242213437
        ],
        [
         "1",
         {
          "length": 2,
          "values": [
           -0.2950535672123393,
           -0.22673553279496178
          ],
          "vectorType": "dense"
         },
         -0.2950535672123393,
         -0.22673553279496178
        ],
        [
         "1",
         {
          "length": 2,
          "values": [
           1.937264908048494,
           -2.54275075984208
          ],
          "vectorType": "dense"
         },
         1.937264908048494,
         -2.54275075984208
        ],
        [
         "1",
         {
          "length": 2,
          "values": [
           2.075352829718506,
           -1.8049313395291142
          ],
          "vectorType": "dense"
         },
         2.075352829718506,
         -1.8049313395291142
        ],
        [
         "0",
         {
          "length": 2,
          "values": [
           -4.970788588463213,
           1.3314006873626998
          ],
          "vectorType": "dense"
         },
         -4.970788588463213,
         1.3314006873626998
        ],
        [
         "1",
         {
          "length": 2,
          "values": [
           2.1750031061333353,
           -0.9580682603151646
          ],
          "vectorType": "dense"
         },
         2.1750031061333353,
         -0.9580682603151646
        ],
        [
         "1",
         {
          "length": 2,
          "values": [
           2.429413826943072,
           -3.44417335730377
          ],
          "vectorType": "dense"
         },
         2.429413826943072,
         -3.44417335730377
        ],
        [
         "1",
         {
          "length": 2,
          "values": [
           3.3650049292694186,
           0.5624340150809102
          ],
          "vectorType": "dense"
         },
         3.3650049292694186,
         0.5624340150809102
        ],
        [
         "1",
         {
          "length": 2,
          "values": [
           1.205537044997321,
           1.315886496793601
          ],
          "vectorType": "dense"
         },
         1.205537044997321,
         1.315886496793601
        ],
        [
         "1",
         {
          "length": 2,
          "values": [
           3.3231552224306244,
           -0.4747538482010823
          ],
          "vectorType": "dense"
         },
         3.3231552224306244,
         -0.4747538482010823
        ],
        [
         "1",
         {
          "length": 2,
          "values": [
           1.9270997575978313,
           -1.460184988708072
          ],
          "vectorType": "dense"
         },
         1.9270997575978313,
         -1.460184988708072
        ],
        [
         "1",
         {
          "length": 2,
          "values": [
           4.038281827650134,
           1.3557245619959968
          ],
          "vectorType": "dense"
         },
         4.038281827650134,
         1.3557245619959968
        ],
        [
         "0",
         {
          "length": 2,
          "values": [
           -6.176848765923755,
           -5.103514894361796
          ],
          "vectorType": "dense"
         },
         -6.176848765923755,
         -5.103514894361796
        ],
        [
         "0",
         {
          "length": 2,
          "values": [
           -10.924685586759175,
           3.699998471871134
          ],
          "vectorType": "dense"
         },
         -10.924685586759175,
         3.699998471871134
        ],
        [
         "0",
         {
          "length": 2,
          "values": [
           -2.1166345166823373,
           -0.2963682967476071
          ],
          "vectorType": "dense"
         },
         -2.1166345166823373,
         -0.2963682967476071
        ],
        [
         "1",
         {
          "length": 2,
          "values": [
           3.0095468861563317,
           -0.243545681202486
          ],
          "vectorType": "dense"
         },
         3.0095468861563317,
         -0.243545681202486
        ],
        [
         "1",
         {
          "length": 2,
          "values": [
           0.9817847142179241,
           -0.7965515125202817
          ],
          "vectorType": "dense"
         },
         0.9817847142179241,
         -0.7965515125202817
        ],
        [
         "1",
         {
          "length": 2,
          "values": [
           -0.35757923049032636,
           -2.125968004265042
          ],
          "vectorType": "dense"
         },
         -0.35757923049032636,
         -2.125968004265042
        ],
        [
         "1",
         {
          "length": 2,
          "values": [
           3.191110025081194,
           1.847526444761871
          ],
          "vectorType": "dense"
         },
         3.191110025081194,
         1.847526444761871
        ],
        [
         "1",
         {
          "length": 2,
          "values": [
           2.990601886844637,
           -1.6299580146726662
          ],
          "vectorType": "dense"
         },
         2.990601886844637,
         -1.6299580146726662
        ],
        [
         "1",
         {
          "length": 2,
          "values": [
           3.191106313310075,
           -0.5788301325936451
          ],
          "vectorType": "dense"
         },
         3.191106313310075,
         -0.5788301325936451
        ],
        [
         "1",
         {
          "length": 2,
          "values": [
           4.587924963183574,
           2.7586997322892137
          ],
          "vectorType": "dense"
         },
         4.587924963183574,
         2.7586997322892137
        ],
        [
         "1",
         {
          "length": 2,
          "values": [
           2.483730733194703,
           1.1878941827853875
          ],
          "vectorType": "dense"
         },
         2.483730733194703,
         1.1878941827853875
        ],
        [
         "1",
         {
          "length": 2,
          "values": [
           2.396556629015861,
           0.2505243553016716
          ],
          "vectorType": "dense"
         },
         2.396556629015861,
         0.2505243553016716
        ],
        [
         "1",
         {
          "length": 2,
          "values": [
           0.7789298236156389,
           2.1224758723954773
          ],
          "vectorType": "dense"
         },
         0.7789298236156389,
         2.1224758723954773
        ],
        [
         "1",
         {
          "length": 2,
          "values": [
           3.137227995833936,
           1.486714010385516
          ],
          "vectorType": "dense"
         },
         3.137227995833936,
         1.486714010385516
        ],
        [
         "0",
         {
          "length": 2,
          "values": [
           -2.7326073652576093,
           3.9416999500655043
          ],
          "vectorType": "dense"
         },
         -2.7326073652576093,
         3.9416999500655043
        ],
        [
         "0",
         {
          "length": 2,
          "values": [
           -6.221551679069684,
           1.3888876163638892
          ],
          "vectorType": "dense"
         },
         -6.221551679069684,
         1.3888876163638892
        ],
        [
         "1",
         {
          "length": 2,
          "values": [
           2.221820777512973,
           0.35684672329234746
          ],
          "vectorType": "dense"
         },
         2.221820777512973,
         0.35684672329234746
        ],
        [
         "0",
         {
          "length": 2,
          "values": [
           -5.302474403497606,
           6.717504287902137
          ],
          "vectorType": "dense"
         },
         -5.302474403497606,
         6.717504287902137
        ],
        [
         "0",
         {
          "length": 2,
          "values": [
           -7.241629190977243,
           3.6522555297061396
          ],
          "vectorType": "dense"
         },
         -7.241629190977243,
         3.6522555297061396
        ],
        [
         "0",
         {
          "length": 2,
          "values": [
           -4.203521962751312,
           -1.1752088219527228
          ],
          "vectorType": "dense"
         },
         -4.203521962751312,
         -1.1752088219527228
        ],
        [
         "1",
         {
          "length": 2,
          "values": [
           2.4974388911606744,
           2.016761089657906
          ],
          "vectorType": "dense"
         },
         2.4974388911606744,
         2.016761089657906
        ],
        [
         "0",
         {
          "length": 2,
          "values": [
           -3.631819328529832,
           1.9547209619987518
          ],
          "vectorType": "dense"
         },
         -3.631819328529832,
         1.9547209619987518
        ],
        [
         "0",
         {
          "length": 2,
          "values": [
           -3.516154429778133,
           3.8552149374108557
          ],
          "vectorType": "dense"
         },
         -3.516154429778133,
         3.8552149374108557
        ],
        [
         "1",
         {
          "length": 2,
          "values": [
           2.6126494511410927,
           1.101505250877788
          ],
          "vectorType": "dense"
         },
         2.6126494511410927,
         1.101505250877788
        ],
        [
         "1",
         {
          "length": 2,
          "values": [
           0.09602362590836018,
           0.12973343110973548
          ],
          "vectorType": "dense"
         },
         0.09602362590836018,
         0.12973343110973548
        ],
        [
         "1",
         {
          "length": 2,
          "values": [
           -2.0430592577934314,
           -6.421169886591277
          ],
          "vectorType": "dense"
         },
         -2.0430592577934314,
         -6.421169886591277
        ],
        [
         "1",
         {
          "length": 2,
          "values": [
           3.0640534834955355,
           2.1801773735430845
          ],
          "vectorType": "dense"
         },
         3.0640534834955355,
         2.1801773735430845
        ],
        [
         "1",
         {
          "length": 2,
          "values": [
           1.6021766967898312,
           -0.2923389949332684
          ],
          "vectorType": "dense"
         },
         1.6021766967898312,
         -0.2923389949332684
        ],
        [
         "0",
         {
          "length": 2,
          "values": [
           -3.762621443878961,
           -5.980033549309579
          ],
          "vectorType": "dense"
         },
         -3.762621443878961,
         -5.980033549309579
        ],
        [
         "1",
         {
          "length": 2,
          "values": [
           0.9247529181246392,
           -2.3004572704552135
          ],
          "vectorType": "dense"
         },
         0.9247529181246392,
         -2.3004572704552135
        ],
        [
         "1",
         {
          "length": 2,
          "values": [
           3.2854587367562074,
           -0.20113435938521462
          ],
          "vectorType": "dense"
         },
         3.2854587367562074,
         -0.20113435938521462
        ],
        [
         "1",
         {
          "length": 2,
          "values": [
           1.5534852463993922,
           -0.9789963158207404
          ],
          "vectorType": "dense"
         },
         1.5534852463993922,
         -0.9789963158207404
        ],
        [
         "1",
         {
          "length": 2,
          "values": [
           0.39842934176183803,
           -2.1593127242758463
          ],
          "vectorType": "dense"
         },
         0.39842934176183803,
         -2.1593127242758463
        ],
        [
         "1",
         {
          "length": 2,
          "values": [
           2.2985453437371177,
           0.9312581750160045
          ],
          "vectorType": "dense"
         },
         2.2985453437371177,
         0.9312581750160045
        ],
        [
         "0",
         {
          "length": 2,
          "values": [
           0.542424088151976,
           1.3159100480444743
          ],
          "vectorType": "dense"
         },
         0.542424088151976,
         1.3159100480444743
        ],
        [
         "1",
         {
          "length": 2,
          "values": [
           2.057009504309962,
           -0.32015344453125083
          ],
          "vectorType": "dense"
         },
         2.057009504309962,
         -0.32015344453125083
        ],
        [
         "1",
         {
          "length": 2,
          "values": [
           3.4215074893256583,
           2.443368505138404
          ],
          "vectorType": "dense"
         },
         3.4215074893256583,
         2.443368505138404
        ],
        [
         "1",
         {
          "length": 2,
          "values": [
           0.47199124930973096,
           -3.699574203312585
          ],
          "vectorType": "dense"
         },
         0.47199124930973096,
         -3.699574203312585
        ],
        [
         "0",
         {
          "length": 2,
          "values": [
           -4.699365785201365,
           0.19578348601557083
          ],
          "vectorType": "dense"
         },
         -4.699365785201365,
         0.19578348601557083
        ],
        [
         "1",
         {
          "length": 2,
          "values": [
           3.640177266356688,
           -0.786168171276902
          ],
          "vectorType": "dense"
         },
         3.640177266356688,
         -0.786168171276902
        ],
        [
         "1",
         {
          "length": 2,
          "values": [
           3.5915291765229544,
           -2.602797029692257
          ],
          "vectorType": "dense"
         },
         3.5915291765229544,
         -2.602797029692257
        ],
        [
         "0",
         {
          "length": 2,
          "values": [
           -4.145449783640533,
           -0.7668141287529167
          ],
          "vectorType": "dense"
         },
         -4.145449783640533,
         -0.7668141287529167
        ],
        [
         "0",
         {
          "length": 2,
          "values": [
           -7.665396811495929,
           0.8597276809314314
          ],
          "vectorType": "dense"
         },
         -7.665396811495929,
         0.8597276809314314
        ],
        [
         "1",
         {
          "length": 2,
          "values": [
           2.0086120468983655,
           -0.4293118113846647
          ],
          "vectorType": "dense"
         },
         2.0086120468983655,
         -0.4293118113846647
        ],
        [
         "1",
         {
          "length": 2,
          "values": [
           2.9182657286307934,
           1.6989775538427376
          ],
          "vectorType": "dense"
         },
         2.9182657286307934,
         1.6989775538427376
        ],
        [
         "1",
         {
          "length": 2,
          "values": [
           0.5002975911258666,
           -0.10663763480732191
          ],
          "vectorType": "dense"
         },
         0.5002975911258666,
         -0.10663763480732191
        ],
        [
         "1",
         {
          "length": 2,
          "values": [
           1.909818136290534,
           0.6508212257862362
          ],
          "vectorType": "dense"
         },
         1.909818136290534,
         0.6508212257862362
        ],
        [
         "1",
         {
          "length": 2,
          "values": [
           3.7817716673916792,
           0.3258596453595585
          ],
          "vectorType": "dense"
         },
         3.7817716673916792,
         0.3258596453595585
        ],
        [
         "1",
         {
          "length": 2,
          "values": [
           2.706012962066895,
           0.2194726288777049
          ],
          "vectorType": "dense"
         },
         2.706012962066895,
         0.2194726288777049
        ],
        [
         "0",
         {
          "length": 2,
          "values": [
           -6.284144085196279,
           -2.034757025450057
          ],
          "vectorType": "dense"
         },
         -6.284144085196279,
         -2.034757025450057
        ],
        [
         "1",
         {
          "length": 2,
          "values": [
           3.4277546285096903,
           0.9917374104621859
          ],
          "vectorType": "dense"
         },
         3.4277546285096903,
         0.9917374104621859
        ],
        [
         "1",
         {
          "length": 2,
          "values": [
           1.9996290036610866,
           0.29306859391553763
          ],
          "vectorType": "dense"
         },
         1.9996290036610866,
         0.29306859391553763
        ],
        [
         "1",
         {
          "length": 2,
          "values": [
           2.4711187702674877,
           0.3347524795996754
          ],
          "vectorType": "dense"
         },
         2.4711187702674877,
         0.3347524795996754
        ],
        [
         "1",
         {
          "length": 2,
          "values": [
           3.6440513653380244,
           1.2402738149716068
          ],
          "vectorType": "dense"
         },
         3.6440513653380244,
         1.2402738149716068
        ],
        [
         "1",
         {
          "length": 2,
          "values": [
           2.344124268696747,
           -0.6821411046260262
          ],
          "vectorType": "dense"
         },
         2.344124268696747,
         -0.6821411046260262
        ],
        [
         "1",
         {
          "length": 2,
          "values": [
           1.1419920938905654,
           1.9604465077671769
          ],
          "vectorType": "dense"
         },
         1.1419920938905654,
         1.9604465077671769
        ],
        [
         "1",
         {
          "length": 2,
          "values": [
           1.349669736242352,
           -0.36924900183406884
          ],
          "vectorType": "dense"
         },
         1.349669736242352,
         -0.36924900183406884
        ],
        [
         "0",
         {
          "length": 2,
          "values": [
           -2.760941448865499,
           1.0776852596095776
          ],
          "vectorType": "dense"
         },
         -2.760941448865499,
         1.0776852596095776
        ],
        [
         "1",
         {
          "length": 2,
          "values": [
           1.967592331203069,
           0.17569391630596184
          ],
          "vectorType": "dense"
         },
         1.967592331203069,
         0.17569391630596184
        ],
        [
         "1",
         {
          "length": 2,
          "values": [
           2.92861018720084,
           0.49442119061084133
          ],
          "vectorType": "dense"
         },
         2.92861018720084,
         0.49442119061084133
        ],
        [
         "1",
         {
          "length": 2,
          "values": [
           2.92380174883021,
           -0.3770005363916792
          ],
          "vectorType": "dense"
         },
         2.92380174883021,
         -0.3770005363916792
        ],
        [
         "1",
         {
          "length": 2,
          "values": [
           3.99267514417972,
           -0.9590122600837145
          ],
          "vectorType": "dense"
         },
         3.99267514417972,
         -0.9590122600837145
        ],
        [
         "1",
         {
          "length": 2,
          "values": [
           -0.1550016743349039,
           0.437623165978837
          ],
          "vectorType": "dense"
         },
         -0.1550016743349039,
         0.437623165978837
        ],
        [
         "0",
         {
          "length": 2,
          "values": [
           0.9332696314803103,
           2.104094210067527
          ],
          "vectorType": "dense"
         },
         0.9332696314803103,
         2.104094210067527
        ],
        [
         "1",
         {
          "length": 2,
          "values": [
           1.927925359175412,
           -0.8916821038232392
          ],
          "vectorType": "dense"
         },
         1.927925359175412,
         -0.8916821038232392
        ],
        [
         "1",
         {
          "length": 2,
          "values": [
           2.6200332486414437,
           -2.499901967771065
          ],
          "vectorType": "dense"
         },
         2.6200332486414437,
         -2.499901967771065
        ],
        [
         "0",
         {
          "length": 2,
          "values": [
           -5.998338685657266,
           0.09094919644802113
          ],
          "vectorType": "dense"
         },
         -5.998338685657266,
         0.09094919644802113
        ],
        [
         "1",
         {
          "length": 2,
          "values": [
           2.9193091202939803,
           0.00920458204064542
          ],
          "vectorType": "dense"
         },
         2.9193091202939803,
         0.00920458204064542
        ],
        [
         "1",
         {
          "length": 2,
          "values": [
           3.3390068299273357,
           0.022205192232515797
          ],
          "vectorType": "dense"
         },
         3.3390068299273357,
         0.022205192232515797
        ],
        [
         "1",
         {
          "length": 2,
          "values": [
           2.0131436791939663,
           -0.7777677776660812
          ],
          "vectorType": "dense"
         },
         2.0131436791939663,
         -0.7777677776660812
        ],
        [
         "1",
         {
          "length": 2,
          "values": [
           -1.9867140066590794,
           -2.314011967419204
          ],
          "vectorType": "dense"
         },
         -1.9867140066590794,
         -2.314011967419204
        ],
        [
         "1",
         {
          "length": 2,
          "values": [
           1.6681361466415952,
           -0.8615607699852146
          ],
          "vectorType": "dense"
         },
         1.6681361466415952,
         -0.8615607699852146
        ],
        [
         "1",
         {
          "length": 2,
          "values": [
           0.37085180302599974,
           -0.11351277941469305
          ],
          "vectorType": "dense"
         },
         0.37085180302599974,
         -0.11351277941469305
        ],
        [
         "1",
         {
          "length": 2,
          "values": [
           1.8473344702440129,
           -2.5389956007011905
          ],
          "vectorType": "dense"
         },
         1.8473344702440129,
         -2.5389956007011905
        ],
        [
         "1",
         {
          "length": 2,
          "values": [
           4.6989076587167675,
           0.4319223845700211
          ],
          "vectorType": "dense"
         },
         4.6989076587167675,
         0.4319223845700211
        ],
        [
         "1",
         {
          "length": 2,
          "values": [
           1.2820590739521003,
           -2.5486667521841357
          ],
          "vectorType": "dense"
         },
         1.2820590739521003,
         -2.5486667521841357
        ],
        [
         "1",
         {
          "length": 2,
          "values": [
           2.312212316213461,
           -0.4016780429615857
          ],
          "vectorType": "dense"
         },
         2.312212316213461,
         -0.4016780429615857
        ],
        [
         "1",
         {
          "length": 2,
          "values": [
           4.654989276563036,
           0.7816110211582356
          ],
          "vectorType": "dense"
         },
         4.654989276563036,
         0.7816110211582356
        ],
        [
         "1",
         {
          "length": 2,
          "values": [
           3.940006591278556,
           2.0282316570124226
          ],
          "vectorType": "dense"
         },
         3.940006591278556,
         2.0282316570124226
        ],
        [
         "0",
         {
          "length": 2,
          "values": [
           -4.945506936786711,
           -3.003421434951423
          ],
          "vectorType": "dense"
         },
         -4.945506936786711,
         -3.003421434951423
        ],
        [
         "1",
         {
          "length": 2,
          "values": [
           0.914998417180693,
           -2.476833776056108
          ],
          "vectorType": "dense"
         },
         0.914998417180693,
         -2.476833776056108
        ],
        [
         "0",
         {
          "length": 2,
          "values": [
           -4.545111927264468,
           0.8152831423276554
          ],
          "vectorType": "dense"
         },
         -4.545111927264468,
         0.8152831423276554
        ],
        [
         "0",
         {
          "length": 2,
          "values": [
           -4.43843746105249,
           0.9915664239722887
          ],
          "vectorType": "dense"
         },
         -4.43843746105249,
         0.9915664239722887
        ],
        [
         "1",
         {
          "length": 2,
          "values": [
           2.193054644119214,
           1.8037661137139487
          ],
          "vectorType": "dense"
         },
         2.193054644119214,
         1.8037661137139487
        ],
        [
         "0",
         {
          "length": 2,
          "values": [
           -0.6638567906972933,
           -0.43647680208109413
          ],
          "vectorType": "dense"
         },
         -0.6638567906972933,
         -0.43647680208109413
        ],
        [
         "1",
         {
          "length": 2,
          "values": [
           2.2389060523360547,
           0.4541898722408363
          ],
          "vectorType": "dense"
         },
         2.2389060523360547,
         0.4541898722408363
        ],
        [
         "1",
         {
          "length": 2,
          "values": [
           2.123312146064986,
           1.1937465406902616
          ],
          "vectorType": "dense"
         },
         2.123312146064986,
         1.1937465406902616
        ],
        [
         "1",
         {
          "length": 2,
          "values": [
           2.613018230636058,
           1.830449829701576
          ],
          "vectorType": "dense"
         },
         2.613018230636058,
         1.830449829701576
        ],
        [
         "1",
         {
          "length": 2,
          "values": [
           3.2081451461269004,
           2.233177743167421
          ],
          "vectorType": "dense"
         },
         3.2081451461269004,
         2.233177743167421
        ],
        [
         "1",
         {
          "length": 2,
          "values": [
           0.30648072797555426,
           -2.1830779549000954
          ],
          "vectorType": "dense"
         },
         0.30648072797555426,
         -2.1830779549000954
        ],
        [
         "0",
         {
          "length": 2,
          "values": [
           -2.4701834157673517,
           1.4985062241646343
          ],
          "vectorType": "dense"
         },
         -2.4701834157673517,
         1.4985062241646343
        ],
        [
         "1",
         {
          "length": 2,
          "values": [
           3.4516812564733845,
           2.134583339853946
          ],
          "vectorType": "dense"
         },
         3.4516812564733845,
         2.134583339853946
        ],
        [
         "1",
         {
          "length": 2,
          "values": [
           3.897097812804002,
           -0.7301335297261968
          ],
          "vectorType": "dense"
         },
         3.897097812804002,
         -0.7301335297261968
        ],
        [
         "0",
         {
          "length": 2,
          "values": [
           -0.9808644845488861,
           2.208486711616481
          ],
          "vectorType": "dense"
         },
         -0.9808644845488861,
         2.208486711616481
        ],
        [
         "1",
         {
          "length": 2,
          "values": [
           1.2561462947029458,
           -1.066752884858787
          ],
          "vectorType": "dense"
         },
         1.2561462947029458,
         -1.066752884858787
        ],
        [
         "0",
         {
          "length": 2,
          "values": [
           -3.2425605374516238,
           1.7767952397711555
          ],
          "vectorType": "dense"
         },
         -3.2425605374516238,
         1.7767952397711555
        ],
        [
         "1",
         {
          "length": 2,
          "values": [
           1.555850428173458,
           1.0370146428298208
          ],
          "vectorType": "dense"
         },
         1.555850428173458,
         1.0370146428298208
        ],
        [
         "1",
         {
          "length": 2,
          "values": [
           1.248159847609764,
           1.5874420077235567
          ],
          "vectorType": "dense"
         },
         1.248159847609764,
         1.5874420077235567
        ],
        [
         "0",
         {
          "length": 2,
          "values": [
           -4.327845296903541,
           4.045772564967691
          ],
          "vectorType": "dense"
         },
         -4.327845296903541,
         4.045772564967691
        ],
        [
         "1",
         {
          "length": 2,
          "values": [
           1.0765041197499041,
           -1.8020325644596087
          ],
          "vectorType": "dense"
         },
         1.0765041197499041,
         -1.8020325644596087
        ],
        [
         "0",
         {
          "length": 2,
          "values": [
           -2.50954496723855,
           2.526584455419936
          ],
          "vectorType": "dense"
         },
         -2.50954496723855,
         2.526584455419936
        ],
        [
         "1",
         {
          "length": 2,
          "values": [
           2.2151432129344313,
           -0.029865010034000328
          ],
          "vectorType": "dense"
         },
         2.2151432129344313,
         -0.029865010034000328
        ],
        [
         "1",
         {
          "length": 2,
          "values": [
           1.1727987075491468,
           0.47442206362079425
          ],
          "vectorType": "dense"
         },
         1.1727987075491468,
         0.47442206362079425
        ],
        [
         "1",
         {
          "length": 2,
          "values": [
           2.833807992032256,
           1.0172307504970854
          ],
          "vectorType": "dense"
         },
         2.833807992032256,
         1.0172307504970854
        ],
        [
         "1",
         {
          "length": 2,
          "values": [
           1.855453295571189,
           1.5700116743471624
          ],
          "vectorType": "dense"
         },
         1.855453295571189,
         1.5700116743471624
        ],
        [
         "1",
         {
          "length": 2,
          "values": [
           1.3274463600967459,
           -0.7764124994109081
          ],
          "vectorType": "dense"
         },
         1.3274463600967459,
         -0.7764124994109081
        ],
        [
         "1",
         {
          "length": 2,
          "values": [
           2.800307381480742,
           1.664836753413479
          ],
          "vectorType": "dense"
         },
         2.800307381480742,
         1.664836753413479
        ],
        [
         "1",
         {
          "length": 2,
          "values": [
           3.1717779665128187,
           2.073908798274623
          ],
          "vectorType": "dense"
         },
         3.1717779665128187,
         2.073908798274623
        ],
        [
         "1",
         {
          "length": 2,
          "values": [
           4.083484325194264,
           0.48428396052725586
          ],
          "vectorType": "dense"
         },
         4.083484325194264,
         0.48428396052725586
        ],
        [
         "0",
         {
          "length": 2,
          "values": [
           -3.4724383684210407,
           1.67141372334568
          ],
          "vectorType": "dense"
         },
         -3.4724383684210407,
         1.67141372334568
        ],
        [
         "0",
         {
          "length": 2,
          "values": [
           -16.304886649594216,
           7.769016888373382
          ],
          "vectorType": "dense"
         },
         -16.304886649594216,
         7.769016888373382
        ],
        [
         "1",
         {
          "length": 2,
          "values": [
           2.557864367016561,
           2.4918528797022423
          ],
          "vectorType": "dense"
         },
         2.557864367016561,
         2.4918528797022423
        ],
        [
         "1",
         {
          "length": 2,
          "values": [
           2.9662787832842827,
           0.06878661072296705
          ],
          "vectorType": "dense"
         },
         2.9662787832842827,
         0.06878661072296705
        ],
        [
         "1",
         {
          "length": 2,
          "values": [
           2.755006335869314,
           1.7923416963765513
          ],
          "vectorType": "dense"
         },
         2.755006335869314,
         1.7923416963765513
        ],
        [
         "1",
         {
          "length": 2,
          "values": [
           -1.3691351808117749,
           -2.1081563937309458
          ],
          "vectorType": "dense"
         },
         -1.3691351808117749,
         -2.1081563937309458
        ],
        [
         "1",
         {
          "length": 2,
          "values": [
           0.4172973149060333,
           -0.11641726210993464
          ],
          "vectorType": "dense"
         },
         0.4172973149060333,
         -0.11641726210993464
        ],
        [
         "1",
         {
          "length": 2,
          "values": [
           3.835024205957114,
           -0.898388161674005
          ],
          "vectorType": "dense"
         },
         3.835024205957114,
         -0.898388161674005
        ],
        [
         "0",
         {
          "length": 2,
          "values": [
           -5.9257508235346075,
           -1.2272168607935359
          ],
          "vectorType": "dense"
         },
         -5.9257508235346075,
         -1.2272168607935359
        ],
        [
         "1",
         {
          "length": 2,
          "values": [
           -0.6449111936209141,
           -3.4229995421977764
          ],
          "vectorType": "dense"
         },
         -0.6449111936209141,
         -3.4229995421977764
        ],
        [
         "1",
         {
          "length": 2,
          "values": [
           2.6814869751157433,
           -1.4422864689137533
          ],
          "vectorType": "dense"
         },
         2.6814869751157433,
         -1.4422864689137533
        ],
        [
         "1",
         {
          "length": 2,
          "values": [
           2.0398691822622053,
           0.9024618581445207
          ],
          "vectorType": "dense"
         },
         2.0398691822622053,
         0.9024618581445207
        ],
        [
         "1",
         {
          "length": 2,
          "values": [
           1.398066199236754,
           1.770668243981824
          ],
          "vectorType": "dense"
         },
         1.398066199236754,
         1.770668243981824
        ],
        [
         "1",
         {
          "length": 2,
          "values": [
           3.5333063582933635,
           1.24575801773039
          ],
          "vectorType": "dense"
         },
         3.5333063582933635,
         1.24575801773039
        ],
        [
         "1",
         {
          "length": 2,
          "values": [
           1.9887795302556113,
           -1.89779269317917
          ],
          "vectorType": "dense"
         },
         1.9887795302556113,
         -1.89779269317917
        ],
        [
         "1",
         {
          "length": 2,
          "values": [
           1.996428720313028,
           0.20618971131568076
          ],
          "vectorType": "dense"
         },
         1.996428720313028,
         0.20618971131568076
        ],
        [
         "1",
         {
          "length": 2,
          "values": [
           0.5202003908111569,
           0.9725121025461498
          ],
          "vectorType": "dense"
         },
         0.5202003908111569,
         0.9725121025461498
        ],
        [
         "1",
         {
          "length": 2,
          "values": [
           3.1695815905766174,
           2.0872157681880967
          ],
          "vectorType": "dense"
         },
         3.1695815905766174,
         2.0872157681880967
        ],
        [
         "1",
         {
          "length": 2,
          "values": [
           2.200773740164568,
           -1.2849087344346048
          ],
          "vectorType": "dense"
         },
         2.200773740164568,
         -1.2849087344346048
        ],
        [
         "0",
         {
          "length": 2,
          "values": [
           -3.821070903352409,
           -2.3032097346083917
          ],
          "vectorType": "dense"
         },
         -3.821070903352409,
         -2.3032097346083917
        ],
        [
         "1",
         {
          "length": 2,
          "values": [
           2.982860087893478,
           0.6727472975250199
          ],
          "vectorType": "dense"
         },
         2.982860087893478,
         0.6727472975250199
        ],
        [
         "1",
         {
          "length": 2,
          "values": [
           2.4788739595090217,
           2.361880554620532
          ],
          "vectorType": "dense"
         },
         2.4788739595090217,
         2.361880554620532
        ],
        [
         "1",
         {
          "length": 2,
          "values": [
           1.2709931213159007,
           -0.5093856426258698
          ],
          "vectorType": "dense"
         },
         1.2709931213159007,
         -0.5093856426258698
        ],
        [
         "1",
         {
          "length": 2,
          "values": [
           2.2331919146098254,
           1.297562775248254
          ],
          "vectorType": "dense"
         },
         2.2331919146098254,
         1.297562775248254
        ],
        [
         "1",
         {
          "length": 2,
          "values": [
           0.056133712562133314,
           0.22718349542905497
          ],
          "vectorType": "dense"
         },
         0.056133712562133314,
         0.22718349542905497
        ],
        [
         "1",
         {
          "length": 2,
          "values": [
           -2.3153533394197727,
           -4.385275754541184
          ],
          "vectorType": "dense"
         },
         -2.3153533394197727,
         -4.385275754541184
        ],
        [
         "1",
         {
          "length": 2,
          "values": [
           2.2823230571574515,
           2.464672104779668
          ],
          "vectorType": "dense"
         },
         2.2823230571574515,
         2.464672104779668
        ],
        [
         "0",
         {
          "length": 2,
          "values": [
           -4.750434988655813,
           1.4881141767755597
          ],
          "vectorType": "dense"
         },
         -4.750434988655813,
         1.4881141767755597
        ],
        [
         "1",
         {
          "length": 2,
          "values": [
           1.7247932814230538,
           -0.9973003162547251
          ],
          "vectorType": "dense"
         },
         1.7247932814230538,
         -0.9973003162547251
        ],
        [
         "0",
         {
          "length": 2,
          "values": [
           0.7411296510979193,
           2.449879330556573
          ],
          "vectorType": "dense"
         },
         0.7411296510979193,
         2.449879330556573
        ],
        [
         "1",
         {
          "length": 2,
          "values": [
           2.891766211587366,
           0.977084587771863
          ],
          "vectorType": "dense"
         },
         2.891766211587366,
         0.977084587771863
        ],
        [
         "1",
         {
          "length": 2,
          "values": [
           1.6530673209399034,
           4.551659142222769
          ],
          "vectorType": "dense"
         },
         1.6530673209399034,
         4.551659142222769
        ],
        [
         "0",
         {
          "length": 2,
          "values": [
           -3.1007913344299807,
           1.235066483028626
          ],
          "vectorType": "dense"
         },
         -3.1007913344299807,
         1.235066483028626
        ],
        [
         "1",
         {
          "length": 2,
          "values": [
           4.060697611933903,
           0.5604610750609345
          ],
          "vectorType": "dense"
         },
         4.060697611933903,
         0.5604610750609345
        ],
        [
         "1",
         {
          "length": 2,
          "values": [
           2.790874981685018,
           1.076940538969515
          ],
          "vectorType": "dense"
         },
         2.790874981685018,
         1.076940538969515
        ],
        [
         "1",
         {
          "length": 2,
          "values": [
           1.4736233044459313,
           1.5896954369820397
          ],
          "vectorType": "dense"
         },
         1.4736233044459313,
         1.5896954369820397
        ],
        [
         "1",
         {
          "length": 2,
          "values": [
           0.2291929713893269,
           -1.5145707554059142
          ],
          "vectorType": "dense"
         },
         0.2291929713893269,
         -1.5145707554059142
        ],
        [
         "1",
         {
          "length": 2,
          "values": [
           2.551013784403687,
           0.7632289241818467
          ],
          "vectorType": "dense"
         },
         2.551013784403687,
         0.7632289241818467
        ],
        [
         "0",
         {
          "length": 2,
          "values": [
           -3.712438548894881,
           1.0577555061741135
          ],
          "vectorType": "dense"
         },
         -3.712438548894881,
         1.0577555061741135
        ],
        [
         "0",
         {
          "length": 2,
          "values": [
           -5.0903628610901865,
           2.017432705941421
          ],
          "vectorType": "dense"
         },
         -5.0903628610901865,
         2.017432705941421
        ],
        [
         "1",
         {
          "length": 2,
          "values": [
           0.6000880992881495,
           0.8377175598703596
          ],
          "vectorType": "dense"
         },
         0.6000880992881495,
         0.8377175598703596
        ],
        [
         "0",
         {
          "length": 2,
          "values": [
           -2.7879467302084433,
           -3.382584454086203
          ],
          "vectorType": "dense"
         },
         -2.7879467302084433,
         -3.382584454086203
        ],
        [
         "1",
         {
          "length": 2,
          "values": [
           1.4075327339711794,
           -1.5044468375239244
          ],
          "vectorType": "dense"
         },
         1.4075327339711794,
         -1.5044468375239244
        ],
        [
         "0",
         {
          "length": 2,
          "values": [
           -7.252797143875283,
           5.49090430233696
          ],
          "vectorType": "dense"
         },
         -7.252797143875283,
         5.49090430233696
        ],
        [
         "1",
         {
          "length": 2,
          "values": [
           -1.2977246878630824,
           -7.7230573252406876
          ],
          "vectorType": "dense"
         },
         -1.2977246878630824,
         -7.7230573252406876
        ],
        [
         "1",
         {
          "length": 2,
          "values": [
           -1.0757467319114502,
           -8.28748333708094
          ],
          "vectorType": "dense"
         },
         -1.0757467319114502,
         -8.28748333708094
        ],
        [
         "1",
         {
          "length": 2,
          "values": [
           1.2486618339884528,
           -1.5942810552468651
          ],
          "vectorType": "dense"
         },
         1.2486618339884528,
         -1.5942810552468651
        ],
        [
         "1",
         {
          "length": 2,
          "values": [
           1.2558234134005026,
           -4.113567176044441
          ],
          "vectorType": "dense"
         },
         1.2558234134005026,
         -4.113567176044441
        ],
        [
         "1",
         {
          "length": 2,
          "values": [
           1.1655096888161074,
           1.664229389288278
          ],
          "vectorType": "dense"
         },
         1.1655096888161074,
         1.664229389288278
        ],
        [
         "0",
         {
          "length": 2,
          "values": [
           -4.090543310340465,
           -2.8004631372638533
          ],
          "vectorType": "dense"
         },
         -4.090543310340465,
         -2.8004631372638533
        ],
        [
         "1",
         {
          "length": 2,
          "values": [
           1.8859797779694114,
           -1.670721679773254
          ],
          "vectorType": "dense"
         },
         1.8859797779694114,
         -1.670721679773254
        ],
        [
         "1",
         {
          "length": 2,
          "values": [
           2.7650027918677633,
           2.1591489715386922
          ],
          "vectorType": "dense"
         },
         2.7650027918677633,
         2.1591489715386922
        ],
        [
         "0",
         {
          "length": 2,
          "values": [
           -2.2250366914743682,
           -1.939927827030339
          ],
          "vectorType": "dense"
         },
         -2.2250366914743682,
         -1.939927827030339
        ],
        [
         "1",
         {
          "length": 2,
          "values": [
           1.130582097681733,
           1.4097615238920558
          ],
          "vectorType": "dense"
         },
         1.130582097681733,
         1.4097615238920558
        ],
        [
         "0",
         {
          "length": 2,
          "values": [
           0.7331273774331185,
           1.9419884383163164
          ],
          "vectorType": "dense"
         },
         0.7331273774331185,
         1.9419884383163164
        ],
        [
         "1",
         {
          "length": 2,
          "values": [
           2.331619157745097,
           -0.7894519727749363
          ],
          "vectorType": "dense"
         },
         2.331619157745097,
         -0.7894519727749363
        ],
        [
         "0",
         {
          "length": 2,
          "values": [
           -2.6948525682230757,
           1.9420011894412628
          ],
          "vectorType": "dense"
         },
         -2.6948525682230757,
         1.9420011894412628
        ],
        [
         "0",
         {
          "length": 2,
          "values": [
           -3.3760441048029453,
           2.331377578459931
          ],
          "vectorType": "dense"
         },
         -3.3760441048029453,
         2.331377578459931
        ],
        [
         "1",
         {
          "length": 2,
          "values": [
           0.19969486970744776,
           -1.0754137523919416
          ],
          "vectorType": "dense"
         },
         0.19969486970744776,
         -1.0754137523919416
        ],
        [
         "1",
         {
          "length": 2,
          "values": [
           1.1749920441007746,
           -1.0104810609185944
          ],
          "vectorType": "dense"
         },
         1.1749920441007746,
         -1.0104810609185944
        ],
        [
         "1",
         {
          "length": 2,
          "values": [
           1.2915001552911294,
           -4.95986054770475
          ],
          "vectorType": "dense"
         },
         1.2915001552911294,
         -4.95986054770475
        ],
        [
         "0",
         {
          "length": 2,
          "values": [
           -8.62316837995109,
           3.4564106380793023
          ],
          "vectorType": "dense"
         },
         -8.62316837995109,
         3.4564106380793023
        ],
        [
         "1",
         {
          "length": 2,
          "values": [
           4.425562342734112,
           0.7853450148775316
          ],
          "vectorType": "dense"
         },
         4.425562342734112,
         0.7853450148775316
        ],
        [
         "1",
         {
          "length": 2,
          "values": [
           0.6192938271623817,
           -0.6357898420661944
          ],
          "vectorType": "dense"
         },
         0.6192938271623817,
         -0.6357898420661944
        ],
        [
         "1",
         {
          "length": 2,
          "values": [
           3.249456589361688,
           -1.2847946773825833
          ],
          "vectorType": "dense"
         },
         3.249456589361688,
         -1.2847946773825833
        ],
        [
         "1",
         {
          "length": 2,
          "values": [
           3.3499794247879007,
           -2.6709504428938526
          ],
          "vectorType": "dense"
         },
         3.3499794247879007,
         -2.6709504428938526
        ],
        [
         "1",
         {
          "length": 2,
          "values": [
           0.8590471150995695,
           -0.09676338102649315
          ],
          "vectorType": "dense"
         },
         0.8590471150995695,
         -0.09676338102649315
        ],
        [
         "1",
         {
          "length": 2,
          "values": [
           3.153846915866264,
           0.8707764321748559
          ],
          "vectorType": "dense"
         },
         3.153846915866264,
         0.8707764321748559
        ],
        [
         "1",
         {
          "length": 2,
          "values": [
           -0.34622347304999,
           -1.5398703522206656
          ],
          "vectorType": "dense"
         },
         -0.34622347304999,
         -1.5398703522206656
        ],
        [
         "1",
         {
          "length": 2,
          "values": [
           2.4592427765273936,
           -0.6003197511282811
          ],
          "vectorType": "dense"
         },
         2.4592427765273936,
         -0.6003197511282811
        ],
        [
         "1",
         {
          "length": 2,
          "values": [
           1.5287555778359285,
           -0.4048615538044331
          ],
          "vectorType": "dense"
         },
         1.5287555778359285,
         -0.4048615538044331
        ],
        [
         "1",
         {
          "length": 2,
          "values": [
           1.7720258700967124,
           -0.803503014434994
          ],
          "vectorType": "dense"
         },
         1.7720258700967124,
         -0.803503014434994
        ],
        [
         "1",
         {
          "length": 2,
          "values": [
           2.678085191313472,
           1.4834036616823287
          ],
          "vectorType": "dense"
         },
         2.678085191313472,
         1.4834036616823287
        ],
        [
         "0",
         {
          "length": 2,
          "values": [
           -4.0248937788414745,
           2.9388442248977937
          ],
          "vectorType": "dense"
         },
         -4.0248937788414745,
         2.9388442248977937
        ],
        [
         "1",
         {
          "length": 2,
          "values": [
           2.1344731172656486,
           -1.517245622815041
          ],
          "vectorType": "dense"
         },
         2.1344731172656486,
         -1.517245622815041
        ],
        [
         "0",
         {
          "length": 2,
          "values": [
           -5.160869926813539,
           2.3801089865141543
          ],
          "vectorType": "dense"
         },
         -5.160869926813539,
         2.3801089865141543
        ],
        [
         "0",
         {
          "length": 2,
          "values": [
           -0.5354608003698782,
           -0.3803804509380937
          ],
          "vectorType": "dense"
         },
         -0.5354608003698782,
         -0.3803804509380937
        ],
        [
         "1",
         {
          "length": 2,
          "values": [
           -0.3428217359545053,
           -3.5313738153028877
          ],
          "vectorType": "dense"
         },
         -0.3428217359545053,
         -3.5313738153028877
        ],
        [
         "1",
         {
          "length": 2,
          "values": [
           4.193390244985366,
           -2.3653110586351427
          ],
          "vectorType": "dense"
         },
         4.193390244985366,
         -2.3653110586351427
        ],
        [
         "1",
         {
          "length": 2,
          "values": [
           1.1418271770489359,
           -5.594535868456152
          ],
          "vectorType": "dense"
         },
         1.1418271770489359,
         -5.594535868456152
        ],
        [
         "1",
         {
          "length": 2,
          "values": [
           1.664010998953224,
           -2.3875173612100076
          ],
          "vectorType": "dense"
         },
         1.664010998953224,
         -2.3875173612100076
        ],
        [
         "1",
         {
          "length": 2,
          "values": [
           -1.0108230779795002,
           -1.091429306814634
          ],
          "vectorType": "dense"
         },
         -1.0108230779795002,
         -1.091429306814634
        ],
        [
         "1",
         {
          "length": 2,
          "values": [
           1.2997860372752292,
           1.8198140572884016
          ],
          "vectorType": "dense"
         },
         1.2997860372752292,
         1.8198140572884016
        ],
        [
         "1",
         {
          "length": 2,
          "values": [
           2.3713421938590287,
           1.6800979291229732
          ],
          "vectorType": "dense"
         },
         2.3713421938590287,
         1.6800979291229732
        ],
        [
         "1",
         {
          "length": 2,
          "values": [
           1.6644065095239404,
           0.21377464094397797
          ],
          "vectorType": "dense"
         },
         1.6644065095239404,
         0.21377464094397797
        ],
        [
         "1",
         {
          "length": 2,
          "values": [
           1.9259835298962638,
           1.1367397049354833
          ],
          "vectorType": "dense"
         },
         1.9259835298962638,
         1.1367397049354833
        ],
        [
         "1",
         {
          "length": 2,
          "values": [
           4.233491591622636,
           -0.18411049913664243
          ],
          "vectorType": "dense"
         },
         4.233491591622636,
         -0.18411049913664243
        ],
        [
         "1",
         {
          "length": 2,
          "values": [
           2.67551654832496,
           -2.313756960760067
          ],
          "vectorType": "dense"
         },
         2.67551654832496,
         -2.313756960760067
        ],
        [
         "1",
         {
          "length": 2,
          "values": [
           3.8331251057796765,
           -0.4958136647931506
          ],
          "vectorType": "dense"
         },
         3.8331251057796765,
         -0.4958136647931506
        ],
        [
         "1",
         {
          "length": 2,
          "values": [
           2.549197271080616,
           -0.22812922776495775
          ],
          "vectorType": "dense"
         },
         2.549197271080616,
         -0.22812922776495775
        ],
        [
         "1",
         {
          "length": 2,
          "values": [
           4.690796039132359,
           0.7668032380496332
          ],
          "vectorType": "dense"
         },
         4.690796039132359,
         0.7668032380496332
        ],
        [
         "1",
         {
          "length": 2,
          "values": [
           2.023256911330983,
           -1.2601331159344544
          ],
          "vectorType": "dense"
         },
         2.023256911330983,
         -1.2601331159344544
        ],
        [
         "1",
         {
          "length": 2,
          "values": [
           2.893402316494323,
           1.4503596008448243
          ],
          "vectorType": "dense"
         },
         2.893402316494323,
         1.4503596008448243
        ],
        [
         "1",
         {
          "length": 2,
          "values": [
           3.499122181891035,
           -1.7992493424731142
          ],
          "vectorType": "dense"
         },
         3.499122181891035,
         -1.7992493424731142
        ],
        [
         "1",
         {
          "length": 2,
          "values": [
           2.1520101253443116,
           0.8293390875025686
          ],
          "vectorType": "dense"
         },
         2.1520101253443116,
         0.8293390875025686
        ],
        [
         "1",
         {
          "length": 2,
          "values": [
           2.053277400329513,
           -1.6150382046289566
          ],
          "vectorType": "dense"
         },
         2.053277400329513,
         -1.6150382046289566
        ],
        [
         "1",
         {
          "length": 2,
          "values": [
           3.87388097251528,
           -1.0833015533293562
          ],
          "vectorType": "dense"
         },
         3.87388097251528,
         -1.0833015533293562
        ],
        [
         "1",
         {
          "length": 2,
          "values": [
           4.060289488002569,
           -0.1220610343738378
          ],
          "vectorType": "dense"
         },
         4.060289488002569,
         -0.1220610343738378
        ],
        [
         "1",
         {
          "length": 2,
          "values": [
           0.09858059215940665,
           0.21337209338157492
          ],
          "vectorType": "dense"
         },
         0.09858059215940665,
         0.21337209338157492
        ],
        [
         "1",
         {
          "length": 2,
          "values": [
           1.0884184965311121,
           -1.2917113284606192
          ],
          "vectorType": "dense"
         },
         1.0884184965311121,
         -1.2917113284606192
        ],
        [
         "1",
         {
          "length": 2,
          "values": [
           0.48134742985143564,
           0.17786319025918332
          ],
          "vectorType": "dense"
         },
         0.48134742985143564,
         0.17786319025918332
        ],
        [
         "1",
         {
          "length": 2,
          "values": [
           4.866027926474258,
           2.1292326072497127
          ],
          "vectorType": "dense"
         },
         4.866027926474258,
         2.1292326072497127
        ],
        [
         "0",
         {
          "length": 2,
          "values": [
           -5.912410291355404,
           -3.4795749998679417
          ],
          "vectorType": "dense"
         },
         -5.912410291355404,
         -3.4795749998679417
        ],
        [
         "0",
         {
          "length": 2,
          "values": [
           -8.73365338296719,
           0.5733501846849253
          ],
          "vectorType": "dense"
         },
         -8.73365338296719,
         0.5733501846849253
        ],
        [
         "0",
         {
          "length": 2,
          "values": [
           -6.4336545461706285,
           3.573672988510644
          ],
          "vectorType": "dense"
         },
         -6.4336545461706285,
         3.573672988510644
        ],
        [
         "0",
         {
          "length": 2,
          "values": [
           -3.790047527744144,
           3.580897052024049
          ],
          "vectorType": "dense"
         },
         -3.790047527744144,
         3.580897052024049
        ],
        [
         "0",
         {
          "length": 2,
          "values": [
           -1.2550749425072116,
           1.900624363993427
          ],
          "vectorType": "dense"
         },
         -1.2550749425072116,
         1.900624363993427
        ],
        [
         "0",
         {
          "length": 2,
          "values": [
           -10.365673359932295,
           -1.6705402060588808
          ],
          "vectorType": "dense"
         },
         -10.365673359932295,
         -1.6705402060588808
        ],
        [
         "1",
         {
          "length": 2,
          "values": [
           5.470429900908385,
           0.6700472198383458
          ],
          "vectorType": "dense"
         },
         5.470429900908385,
         0.6700472198383458
        ]
       ],
       "datasetInfos": [],
       "dbfsResultPath": null,
       "isJsonSchema": true,
       "metadata": {},
       "overflow": false,
       "plotOptions": {
        "customPlotOptions": {},
        "displayType": "table",
        "pivotAggregation": null,
        "pivotColumns": null,
        "xColumns": null,
        "yColumns": null
       },
       "removedWidgets": [],
       "schema": [
        {
         "metadata": "{}",
         "name": "label",
         "type": "\"string\""
        },
        {
         "metadata": "{}",
         "name": "pca_features",
         "type": "{\"type\":\"udt\",\"class\":\"org.apache.spark.ml.linalg.VectorUDT\",\"pyClass\":\"pyspark.ml.linalg.VectorUDT\",\"sqlType\":{\"type\":\"struct\",\"fields\":[{\"name\":\"type\",\"type\":\"byte\",\"nullable\":false,\"metadata\":{}},{\"name\":\"size\",\"type\":\"integer\",\"nullable\":true,\"metadata\":{}},{\"name\":\"indices\",\"type\":{\"type\":\"array\",\"elementType\":\"integer\",\"containsNull\":false},\"nullable\":true,\"metadata\":{}},{\"name\":\"values\",\"type\":{\"type\":\"array\",\"elementType\":\"double\",\"containsNull\":false},\"nullable\":true,\"metadata\":{}}]}}"
        },
        {
         "metadata": "{}",
         "name": "PC1",
         "type": "\"double\""
        },
        {
         "metadata": "{}",
         "name": "PC2",
         "type": "\"double\""
        }
       ],
       "type": "table"
      }
     },
     "output_type": "display_data"
    },
    {
     "output_type": "stream",
     "name": "stdout",
     "output_type": "stream",
     "text": [
      "\nExplained Variance Ratio:\nPC1: 0.443\nPC2: 0.190\n"
     ]
    }
   ],
   "source": [
    "# Convert to pandas for better visualization\n",
    "pandas_df = result.select(\"label\", \"pca_features\").toPandas()\n",
    "pandas_df['PC1'] = pandas_df['pca_features'].apply(lambda x: float(x[0]))\n",
    "pandas_df['PC2'] = pandas_df['pca_features'].apply(lambda x: float(x[1]))\n",
    "\n",
    "# Create scatter plot using Databricks' display function\n",
    "display(spark.createDataFrame(pandas_df), \"scatter\", {\n",
    " \"x\": \"PC1\",\n",
    " \"y\": \"PC2\",\n",
    " \"color\": \"label\"\n",
    "})\n",
    "\n",
    "# Calculate explained variance\n",
    "explained_variance = model.stages[-1].explainedVariance\n",
    "print(\"\\nExplained Variance Ratio:\")\n",
    "for i, var in enumerate(explained_variance):\n",
    "   print(f\"PC{i+1}: {var:.3f}\")"
   ]
  },
  {
   "cell_type": "code",
   "execution_count": 0,
   "metadata": {
    "application/vnd.databricks.v1+cell": {
     "cellMetadata": {
      "byteLimit": 2048000,
      "rowLimit": 10000
     },
     "inputWidgets": {},
     "nuid": "1aabb222-fead-434d-8c55-493b0eb6efb6",
     "showTitle": false,
     "tableResultSettingsMap": {},
     "title": ""
    }
   },
   "outputs": [
    {
     "output_type": "stream",
     "name": "stdout",
     "output_type": "stream",
     "text": [
      "Transformation time: 0.09 seconds\n\nFeature contributions to principal components:\n"
     ]
    },
    {
     "output_type": "display_data",
     "data": {
      "text/html": [
       "<style scoped>\n",
       "  .table-result-container {\n",
       "    max-height: 300px;\n",
       "    overflow: auto;\n",
       "  }\n",
       "  table, th, td {\n",
       "    border: 1px solid black;\n",
       "    border-collapse: collapse;\n",
       "  }\n",
       "  th, td {\n",
       "    padding: 5px;\n",
       "  }\n",
       "  th {\n",
       "    text-align: left;\n",
       "  }\n",
       "</style><div class='table-result-container'><table class='table-result'><thead style='background-color: white'><tr><th>index</th><th>PC1</th><th>PC2</th></tr></thead><tbody><tr><td>mean radius</td><td>-0.21890244370000367</td><td>0.23385713174742973</td></tr><tr><td>mean texture</td><td>-0.10372457821570587</td><td>0.059706088291729666</td></tr><tr><td>mean perimeter</td><td>-0.22753729300562642</td><td>0.21518136139677074</td></tr><tr><td>mean area</td><td>-0.22099498538594092</td><td>0.2310767112838646</td></tr><tr><td>mean smoothness</td><td>-0.14258969436023744</td><td>-0.18611302267051946</td></tr><tr><td>mean compactness</td><td>-0.23928535395300016</td><td>-0.1518916100733257</td></tr><tr><td>mean concavity</td><td>-0.25840048124877135</td><td>-0.060165362798662525</td></tr><tr><td>mean concave points</td><td>-0.2608537583857405</td><td>0.03476750049374641</td></tr><tr><td>mean symmetry</td><td>-0.13816695930364875</td><td>-0.19034877037225129</td></tr><tr><td>mean fractal dimension</td><td>-0.06436334637177275</td><td>-0.3665754713782565</td></tr><tr><td>radius error</td><td>-0.2059787758552537</td><td>0.1055521518258318</td></tr><tr><td>texture error</td><td>-0.017428028148950055</td><td>-0.08997968182917268</td></tr><tr><td>perimeter error</td><td>-0.21132591637549475</td><td>0.08945723422110118</td></tr><tr><td>area error</td><td>-0.20286963544140527</td><td>0.1522926281053356</td></tr><tr><td>smoothness error</td><td>-0.0145314521478365</td><td>-0.20443045303003418</td></tr><tr><td>compactness error</td><td>-0.17039345120745797</td><td>-0.2327158961900828</td></tr><tr><td>concavity error</td><td>-0.15358978973978923</td><td>-0.19720728271125873</td></tr><tr><td>concave points error</td><td>-0.18341739696412823</td><td>-0.13032155990733235</td></tr><tr><td>symmetry error</td><td>-0.04249842163303785</td><td>-0.1838479999447396</td></tr><tr><td>fractal dimension error</td><td>-0.10256832209557527</td><td>-0.280092026612388</td></tr><tr><td>worst radius</td><td>-0.2279966342324734</td><td>0.21986637929991004</td></tr><tr><td>worst texture</td><td>-0.10446932545719427</td><td>0.04546729826988897</td></tr><tr><td>worst perimeter</td><td>-0.23663968074164599</td><td>0.1998784279409993</td></tr><tr><td>worst area</td><td>-0.22487053273420643</td><td>0.21935185792265244</td></tr><tr><td>worst smoothness</td><td>-0.12795256119285825</td><td>-0.17230435165173527</td></tr><tr><td>worst compactness</td><td>-0.21009588015782624</td><td>-0.14359317327192478</td></tr><tr><td>worst concavity</td><td>-0.228767532815009</td><td>-0.0979641143357765</td></tr><tr><td>worst concave points</td><td>-0.2508859712179974</td><td>0.008257235069545052</td></tr><tr><td>worst symmetry</td><td>-0.12290455637796838</td><td>-0.14188334860203655</td></tr><tr><td>worst fractal dimension</td><td>-0.13178394287795747</td><td>-0.27533946858058056</td></tr></tbody></table></div>"
      ]
     },
     "metadata": {
      "application/vnd.databricks.v1+output": {
       "addedWidgets": {},
       "aggData": [],
       "aggError": "",
       "aggOverflow": false,
       "aggSchema": [],
       "aggSeriesLimitReached": false,
       "aggType": "",
       "arguments": {},
       "columnCustomDisplayInfos": {},
       "data": [
        [
         "mean radius",
         -0.21890244370000367,
         0.23385713174742973
        ],
        [
         "mean texture",
         -0.10372457821570587,
         0.059706088291729666
        ],
        [
         "mean perimeter",
         -0.22753729300562642,
         0.21518136139677074
        ],
        [
         "mean area",
         -0.22099498538594092,
         0.2310767112838646
        ],
        [
         "mean smoothness",
         -0.14258969436023744,
         -0.18611302267051946
        ],
        [
         "mean compactness",
         -0.23928535395300016,
         -0.1518916100733257
        ],
        [
         "mean concavity",
         -0.25840048124877135,
         -0.060165362798662525
        ],
        [
         "mean concave points",
         -0.2608537583857405,
         0.03476750049374641
        ],
        [
         "mean symmetry",
         -0.13816695930364875,
         -0.19034877037225129
        ],
        [
         "mean fractal dimension",
         -0.06436334637177275,
         -0.3665754713782565
        ],
        [
         "radius error",
         -0.2059787758552537,
         0.1055521518258318
        ],
        [
         "texture error",
         -0.017428028148950055,
         -0.08997968182917268
        ],
        [
         "perimeter error",
         -0.21132591637549475,
         0.08945723422110118
        ],
        [
         "area error",
         -0.20286963544140527,
         0.1522926281053356
        ],
        [
         "smoothness error",
         -0.0145314521478365,
         -0.20443045303003418
        ],
        [
         "compactness error",
         -0.17039345120745797,
         -0.2327158961900828
        ],
        [
         "concavity error",
         -0.15358978973978923,
         -0.19720728271125873
        ],
        [
         "concave points error",
         -0.18341739696412823,
         -0.13032155990733235
        ],
        [
         "symmetry error",
         -0.04249842163303785,
         -0.1838479999447396
        ],
        [
         "fractal dimension error",
         -0.10256832209557527,
         -0.280092026612388
        ],
        [
         "worst radius",
         -0.2279966342324734,
         0.21986637929991004
        ],
        [
         "worst texture",
         -0.10446932545719427,
         0.04546729826988897
        ],
        [
         "worst perimeter",
         -0.23663968074164599,
         0.1998784279409993
        ],
        [
         "worst area",
         -0.22487053273420643,
         0.21935185792265244
        ],
        [
         "worst smoothness",
         -0.12795256119285825,
         -0.17230435165173527
        ],
        [
         "worst compactness",
         -0.21009588015782624,
         -0.14359317327192478
        ],
        [
         "worst concavity",
         -0.228767532815009,
         -0.0979641143357765
        ],
        [
         "worst concave points",
         -0.2508859712179974,
         0.008257235069545052
        ],
        [
         "worst symmetry",
         -0.12290455637796838,
         -0.14188334860203655
        ],
        [
         "worst fractal dimension",
         -0.13178394287795747,
         -0.27533946858058056
        ]
       ],
       "datasetInfos": [],
       "dbfsResultPath": null,
       "isJsonSchema": true,
       "metadata": {},
       "overflow": false,
       "plotOptions": {
        "customPlotOptions": {},
        "displayType": "table",
        "pivotAggregation": null,
        "pivotColumns": null,
        "xColumns": null,
        "yColumns": null
       },
       "removedWidgets": [],
       "schema": [
        {
         "metadata": "{}",
         "name": "index",
         "type": "\"string\""
        },
        {
         "metadata": "{}",
         "name": "PC1",
         "type": "\"double\""
        },
        {
         "metadata": "{}",
         "name": "PC2",
         "type": "\"double\""
        }
       ],
       "type": "table"
      }
     },
     "output_type": "display_data"
    }
   ],
   "source": [
    "from pyspark.ml.stat import Correlation\n",
    "import time\n",
    "\n",
    "# Measure transformation time\n",
    "start_time = time.time()\n",
    "transformed_data = model.transform(df)\n",
    "end_time = time.time()\n",
    "\n",
    "print(f\"Transformation time: {end_time - start_time:.2f} seconds\")\n",
    "\n",
    "# Calculate feature correlations with principal components\n",
    "loadings = model.stages[-1].pc.toArray()\n",
    "feature_importance = pd.DataFrame(\n",
    "    loadings,\n",
    "    columns=[f'PC{i+1}' for i in range(loadings.shape[1])],\n",
    "    index=bc.feature_names\n",
    ")\n",
    "\n",
    "print(\"\\nFeature contributions to principal components:\")\n",
    "display(spark.createDataFrame(feature_importance.reset_index()))"
   ]
  },
  {
   "cell_type": "code",
   "execution_count": 0,
   "metadata": {
    "application/vnd.databricks.v1+cell": {
     "cellMetadata": {
      "byteLimit": 2048000,
      "rowLimit": 10000
     },
     "inputWidgets": {},
     "nuid": "137c3348-cf2f-4f8d-91ad-9df60831e4c0",
     "showTitle": false,
     "tableResultSettingsMap": {},
     "title": ""
    }
   },
   "outputs": [
    {
     "output_type": "stream",
     "name": "stdout",
     "output_type": "stream",
     "text": [
      "Silhouette score: 0.671\n"
     ]
    },
    {
     "output_type": "display_data",
     "data": {
      "text/html": [
       "<style scoped>\n",
       "  .table-result-container {\n",
       "    max-height: 300px;\n",
       "    overflow: auto;\n",
       "  }\n",
       "  table, th, td {\n",
       "    border: 1px solid black;\n",
       "    border-collapse: collapse;\n",
       "  }\n",
       "  th, td {\n",
       "    padding: 5px;\n",
       "  }\n",
       "  th {\n",
       "    text-align: left;\n",
       "  }\n",
       "</style><div class='table-result-container'><table class='table-result'><thead style='background-color: white'><tr><th>label</th><th>cluster</th><th>pca_features</th></tr></thead><tbody><tr><td>0</td><td>1</td><td>Map(vectorType -> dense, length -> 2, values -> List(-9.184755209858798, -1.9468700303852997))</td></tr><tr><td>0</td><td>1</td><td>Map(vectorType -> dense, length -> 2, values -> List(-2.385702628982577, 3.764859062972658))</td></tr><tr><td>0</td><td>1</td><td>Map(vectorType -> dense, length -> 2, values -> List(-5.728855490819108, 1.0742285887048915))</td></tr><tr><td>0</td><td>1</td><td>Map(vectorType -> dense, length -> 2, values -> List(-7.116691259621306, -10.266555635124405))</td></tr><tr><td>0</td><td>1</td><td>Map(vectorType -> dense, length -> 2, values -> List(-3.931842466790753, 1.9463589770798275))</td></tr><tr><td>0</td><td>1</td><td>Map(vectorType -> dense, length -> 2, values -> List(-2.3781546249740986, -3.9464564299158127))</td></tr><tr><td>0</td><td>1</td><td>Map(vectorType -> dense, length -> 2, values -> List(-2.236915058609935, 2.6876664141795787))</td></tr><tr><td>0</td><td>1</td><td>Map(vectorType -> dense, length -> 2, values -> List(-2.1414142815514485, -2.3381866491831156))</td></tr><tr><td>0</td><td>1</td><td>Map(vectorType -> dense, length -> 2, values -> List(-3.172133150308517, -3.3888311376864144))</td></tr><tr><td>0</td><td>1</td><td>Map(vectorType -> dense, length -> 2, values -> List(-6.346162835225129, -7.720380945492959))</td></tr><tr><td>0</td><td>0</td><td>Map(vectorType -> dense, length -> 2, values -> List(0.8097013190408896, 2.656937672621719))</td></tr><tr><td>0</td><td>1</td><td>Map(vectorType -> dense, length -> 2, values -> List(-2.6487698390097, -0.06650940530101429))</td></tr><tr><td>0</td><td>1</td><td>Map(vectorType -> dense, length -> 2, values -> List(-8.177838822068551, -2.6986020073253876))</td></tr><tr><td>0</td><td>0</td><td>Map(vectorType -> dense, length -> 2, values -> List(-0.34182514389774243, 0.9674280261783395))</td></tr><tr><td>0</td><td>1</td><td>Map(vectorType -> dense, length -> 2, values -> List(-4.338561717694848, -4.856809831831542))</td></tr><tr><td>0</td><td>1</td><td>Map(vectorType -> dense, length -> 2, values -> List(-4.07207318021357, -2.9744439832196963))</td></tr><tr><td>0</td><td>0</td><td>Map(vectorType -> dense, length -> 2, values -> List(-0.22985276950326078, 1.563382113820491))</td></tr><tr><td>0</td><td>1</td><td>Map(vectorType -> dense, length -> 2, values -> List(-4.414126949591796, -1.4174231504677404))</td></tr><tr><td>0</td><td>1</td><td>Map(vectorType -> dense, length -> 2, values -> List(-4.944353041108302, 4.110716527760167))</td></tr><tr><td>1</td><td>0</td><td>Map(vectorType -> dense, length -> 2, values -> List(1.235975828519116, 0.18804949002889026))</td></tr><tr><td>1</td><td>0</td><td>Map(vectorType -> dense, length -> 2, values -> List(1.5767738400518536, -0.5723046247698896))</td></tr><tr><td>1</td><td>0</td><td>Map(vectorType -> dense, length -> 2, values -> List(3.5542090442654697, -1.6614879693604343))</td></tr><tr><td>0</td><td>1</td><td>Map(vectorType -> dense, length -> 2, values -> List(-4.729049722976225, -3.3020582651138817))</td></tr><tr><td>0</td><td>1</td><td>Map(vectorType -> dense, length -> 2, values -> List(-4.204824406832293, 5.123858058987457))</td></tr><tr><td>0</td><td>1</td><td>Map(vectorType -> dense, length -> 2, values -> List(-4.945280748242438, 1.5423951430023812))</td></tr><tr><td>0</td><td>1</td><td>Map(vectorType -> dense, length -> 2, values -> List(-7.092322358888266, -2.0168357342714707))</td></tr><tr><td>0</td><td>1</td><td>Map(vectorType -> dense, length -> 2, values -> List(-3.5071766582289667, -2.1697159942950077))</td></tr><tr><td>0</td><td>1</td><td>Map(vectorType -> dense, length -> 2, values -> List(-3.061360211796454, 1.874902631018983))</td></tr><tr><td>0</td><td>1</td><td>Map(vectorType -> dense, length -> 2, values -> List(-4.003741273398027, -0.5367698596377992))</td></tr><tr><td>0</td><td>1</td><td>Map(vectorType -> dense, length -> 2, values -> List(-1.7138017616568975, 1.5223655018101776))</td></tr><tr><td>0</td><td>1</td><td>Map(vectorType -> dense, length -> 2, values -> List(-6.0541185274085345, 0.7565118002441548))</td></tr><tr><td>0</td><td>1</td><td>Map(vectorType -> dense, length -> 2, values -> List(-2.899684688150535, -4.001774372782243))</td></tr><tr><td>0</td><td>1</td><td>Map(vectorType -> dense, length -> 2, values -> List(-4.550778483480172, -0.33723941876735425))</td></tr><tr><td>0</td><td>1</td><td>Map(vectorType -> dense, length -> 2, values -> List(-4.98621537857523, 1.1315932229451566))</td></tr><tr><td>0</td><td>1</td><td>Map(vectorType -> dense, length -> 2, values -> List(-2.9827163130446697, -0.7577564966701601))</td></tr><tr><td>0</td><td>1</td><td>Map(vectorType -> dense, length -> 2, values -> List(-2.7639371844217004, 0.3540444207048967))</td></tr><tr><td>0</td><td>1</td><td>Map(vectorType -> dense, length -> 2, values -> List(-1.295059249402728, -0.9123934661705099))</td></tr><tr><td>1</td><td>0</td><td>Map(vectorType -> dense, length -> 2, values -> List(3.746017295612612, 1.4122305036725344))</td></tr><tr><td>0</td><td>0</td><td>Map(vectorType -> dense, length -> 2, values -> List(0.9971914775009062, 3.3483467310234842))</td></tr><tr><td>0</td><td>0</td><td>Map(vectorType -> dense, length -> 2, values -> List(-0.764591355604326, -0.8854648371667375))</td></tr><tr><td>0</td><td>0</td><td>Map(vectorType -> dense, length -> 2, values -> List(2.149062522258757, 1.922300194308556))</td></tr><tr><td>0</td><td>0</td><td>Map(vectorType -> dense, length -> 2, values -> List(0.09324933698075474, -2.2587645315178184))</td></tr><tr><td>0</td><td>1</td><td>Map(vectorType -> dense, length -> 2, values -> List(-9.080010225451238, -2.016898441324291))</td></tr><tr><td>0</td><td>0</td><td>Map(vectorType -> dense, length -> 2, values -> List(-0.9895830367496765, -0.9840641476689251))</td></tr><tr><td>0</td><td>0</td><td>Map(vectorType -> dense, length -> 2, values -> List(0.2932884879762997, 0.13697856412444143))</td></tr><tr><td>0</td><td>1</td><td>Map(vectorType -> dense, length -> 2, values -> List(-5.376209908961654, 0.13475840449503856))</td></tr><tr><td>1</td><td>0</td><td>Map(vectorType -> dense, length -> 2, values -> List(4.577908595212511, -1.4829155084495484))</td></tr><tr><td>0</td><td>1</td><td>Map(vectorType -> dense, length -> 2, values -> List(-1.6985123749994018, -2.350203862012345))</td></tr><tr><td>1</td><td>0</td><td>Map(vectorType -> dense, length -> 2, values -> List(2.1345670832706904, -0.09574536366108702))</td></tr><tr><td>1</td><td>0</td><td>Map(vectorType -> dense, length -> 2, values -> List(1.566100993427759, 1.2073708547187902))</td></tr><tr><td>1</td><td>0</td><td>Map(vectorType -> dense, length -> 2, values -> List(3.539790914613369, 1.281368109614397))</td></tr><tr><td>1</td><td>0</td><td>Map(vectorType -> dense, length -> 2, values -> List(3.155037949380859, 1.6874737964866235))</td></tr><tr><td>1</td><td>0</td><td>Map(vectorType -> dense, length -> 2, values -> List(3.4474551464077874, 0.49778071959150105))</td></tr><tr><td>0</td><td>1</td><td>Map(vectorType -> dense, length -> 2, values -> List(-3.2996476093220637, 1.1299435737147892))</td></tr><tr><td>0</td><td>0</td><td>Map(vectorType -> dense, length -> 2, values -> List(0.6740262135577757, 2.114549136533497))</td></tr><tr><td>1</td><td>0</td><td>Map(vectorType -> dense, length -> 2, values -> List(2.8556457728003637, -0.15258887411272043))</td></tr><tr><td>0</td><td>1</td><td>Map(vectorType -> dense, length -> 2, values -> List(-4.644652068242386, 2.3083015082587246))</td></tr><tr><td>0</td><td>1</td><td>Map(vectorType -> dense, length -> 2, values -> List(-2.174949156248412, -0.9712614383238205))</td></tr><tr><td>1</td><td>0</td><td>Map(vectorType -> dense, length -> 2, values -> List(3.718187379898406, 1.7860700970608108))</td></tr><tr><td>1</td><td>0</td><td>Map(vectorType -> dense, length -> 2, values -> List(4.132326931707893, -2.4016792608874233))</td></tr><tr><td>1</td><td>0</td><td>Map(vectorType -> dense, length -> 2, values -> List(2.383738224783428, -2.7552338144184616))</td></tr><tr><td>1</td><td>0</td><td>Map(vectorType -> dense, length -> 2, values -> List(2.5766161014186637, -3.1359126501904933))</td></tr><tr><td>0</td><td>1</td><td>Map(vectorType -> dense, length -> 2, values -> List(-4.7549283181968045, -3.0090328746490678))</td></tr><tr><td>1</td><td>0</td><td>Map(vectorType -> dense, length -> 2, values -> List(2.3120978470008, -3.2651167207221268))</td></tr><tr><td>0</td><td>1</td><td>Map(vectorType -> dense, length -> 2, values -> List(-1.690120795036984, -1.5393221159132306))</td></tr><tr><td>0</td><td>1</td><td>Map(vectorType -> dense, length -> 2, values -> List(-1.8107121691780637, -0.7221048150632118))</td></tr><tr><td>1</td><td>0</td><td>Map(vectorType -> dense, length -> 2, values -> List(2.7834755915717917, -2.308617372387838))</td></tr><tr><td>1</td><td>0</td><td>Map(vectorType -> dense, length -> 2, values -> List(3.5155550218280442, 0.657730735549507))</td></tr><tr><td>1</td><td>1</td><td>Map(vectorType -> dense, length -> 2, values -> List(-4.326196052613209, -9.194435551699886))</td></tr><tr><td>1</td><td>0</td><td>Map(vectorType -> dense, length -> 2, values -> List(3.2584124133410364, 0.9370136471243264))</td></tr><tr><td>0</td><td>1</td><td>Map(vectorType -> dense, length -> 2, values -> List(-2.702218505205821, 4.433240984891397))</td></tr><tr><td>1</td><td>0</td><td>Map(vectorType -> dense, length -> 2, values -> List(0.3075851279890566, -7.381317395929899))</td></tr><tr><td>0</td><td>1</td><td>Map(vectorType -> dense, length -> 2, values -> List(-5.498866892103152, -0.9375005134764515))</td></tr><tr><td>0</td><td>0</td><td>Map(vectorType -> dense, length -> 2, values -> List(0.36139120652866014, -0.1196338211958474))</td></tr><tr><td>1</td><td>0</td><td>Map(vectorType -> dense, length -> 2, values -> List(2.627664570741694, 0.6966963492687757))</td></tr><tr><td>0</td><td>1</td><td>Map(vectorType -> dense, length -> 2, values -> List(-1.4269120607028623, 1.9653720916439372))</td></tr><tr><td>1</td><td>0</td><td>Map(vectorType -> dense, length -> 2, values -> List(0.8337842392556142, -1.9638768597292673))</td></tr><tr><td>0</td><td>1</td><td>Map(vectorType -> dense, length -> 2, values -> List(-6.225418799624563, -0.9192606901744491))</td></tr><tr><td>0</td><td>1</td><td>Map(vectorType -> dense, length -> 2, values -> List(-11.658456435666892, -4.7444425930734235))</td></tr><tr><td>1</td><td>0</td><td>Map(vectorType -> dense, length -> 2, values -> List(2.0198004469637176, 0.25467574616148353))</td></tr><tr><td>1</td><td>0</td><td>Map(vectorType -> dense, length -> 2, values -> List(1.6369445986800977, -1.7144405868911354))</td></tr><tr><td>1</td><td>1</td><td>Map(vectorType -> dense, length -> 2, values -> List(-1.1664352709963526, -2.5123052861935284))</td></tr><tr><td>0</td><td>1</td><td>Map(vectorType -> dense, length -> 2, values -> List(-10.759775351229562, 2.25599785781172))</td></tr><tr><td>0</td><td>1</td><td>Map(vectorType -> dense, length -> 2, values -> List(-5.030384877079519, -0.7737283569771864))</td></tr><tr><td>1</td><td>0</td><td>Map(vectorType -> dense, length -> 2, values -> List(2.1725526922012715, -0.496441168924977))</td></tr><tr><td>0</td><td>1</td><td>Map(vectorType -> dense, length -> 2, values -> List(-3.285344627777663, 1.6667704797343097))</td></tr><tr><td>0</td><td>0</td><td>Map(vectorType -> dense, length -> 2, values -> List(-0.607073784243589, -0.16207191874894683))</td></tr><tr><td>0</td><td>1</td><td>Map(vectorType -> dense, length -> 2, values -> List(-3.5804132398493693, 2.2047219162839213))</td></tr><tr><td>1</td><td>0</td><td>Map(vectorType -> dense, length -> 2, values -> List(0.9333368663416973, -0.9268859190310914))</td></tr><tr><td>1</td><td>1</td><td>Map(vectorType -> dense, length -> 2, values -> List(-1.2584973023904544, -1.014684255071954))</td></tr><tr><td>1</td><td>0</td><td>Map(vectorType -> dense, length -> 2, values -> List(1.5868676958892003, 1.6182329540103404))</td></tr><tr><td>0</td><td>0</td><td>Map(vectorType -> dense, length -> 2, values -> List(-0.2522755916003695, 0.530884424915292))</td></tr><tr><td>1</td><td>0</td><td>Map(vectorType -> dense, length -> 2, values -> List(2.844928349652454, 2.8911037319207855))</td></tr><tr><td>1</td><td>0</td><td>Map(vectorType -> dense, length -> 2, values -> List(1.9632226839332967, 0.9643084982548302))</td></tr><tr><td>0</td><td>1</td><td>Map(vectorType -> dense, length -> 2, values -> List(-2.773425247151511, -0.557509976757413))</td></tr><tr><td>0</td><td>1</td><td>Map(vectorType -> dense, length -> 2, values -> List(-4.392363138171209, 2.1216408918292844))</td></tr><tr><td>1</td><td>0</td><td>Map(vectorType -> dense, length -> 2, values -> List(2.589804073230505, -0.21344611982789297))</td></tr><tr><td>1</td><td>0</td><td>Map(vectorType -> dense, length -> 2, values -> List(3.900905764302463, -1.1890204211664386))</td></tr><tr><td>1</td><td>0</td><td>Map(vectorType -> dense, length -> 2, values -> List(2.8157536467617743, -0.36756056672604126))</td></tr><tr><td>0</td><td>0</td><td>Map(vectorType -> dense, length -> 2, values -> List(-0.6157390843403041, -0.6383499883109449))</td></tr><tr><td>0</td><td>0</td><td>Map(vectorType -> dense, length -> 2, values -> List(0.43247968428512473, 1.390820523329051))</td></tr><tr><td>1</td><td>0</td><td>Map(vectorType -> dense, length -> 2, values -> List(4.551024418715486, -3.5256837878131457))</td></tr><tr><td>1</td><td>0</td><td>Map(vectorType -> dense, length -> 2, values -> List(3.445152170485421, 1.4233700401235052))</td></tr><tr><td>1</td><td>0</td><td>Map(vectorType -> dense, length -> 2, values -> List(2.1141000788234177, -1.8477477817558619))</td></tr><tr><td>1</td><td>0</td><td>Map(vectorType -> dense, length -> 2, values -> List(2.688986180588338, -1.4188133337752493))</td></tr><tr><td>0</td><td>1</td><td>Map(vectorType -> dense, length -> 2, values -> List(-3.2110913432991848, -4.043198634073635))</td></tr><tr><td>1</td><td>0</td><td>Map(vectorType -> dense, length -> 2, values -> List(0.7486126561287516, -1.7960581752732854))</td></tr><tr><td>1</td><td>0</td><td>Map(vectorType -> dense, length -> 2, values -> List(3.1562288887130996, 1.0348388776990332))</td></tr><tr><td>0</td><td>1</td><td>Map(vectorType -> dense, length -> 2, values -> List(-13.044643947118486, -0.9806503574605676))</td></tr><tr><td>1</td><td>0</td><td>Map(vectorType -> dense, length -> 2, values -> List(2.2267205341066245, -0.6668239016416191))</td></tr><tr><td>1</td><td>0</td><td>Map(vectorType -> dense, length -> 2, values -> List(2.4906395353764794, -2.5964017081976385))</td></tr><tr><td>1</td><td>0</td><td>Map(vectorType -> dense, length -> 2, values -> List(0.10325956887870977, -2.2781390146787253))</td></tr><tr><td>1</td><td>1</td><td>Map(vectorType -> dense, length -> 2, values -> List(-3.5881369364374964, -3.9228814330897817))</td></tr><tr><td>1</td><td>0</td><td>Map(vectorType -> dense, length -> 2, values -> List(1.3477627936910612, -3.553098748124878))</td></tr><tr><td>1</td><td>0</td><td>Map(vectorType -> dense, length -> 2, values -> List(2.507910978274425, -3.248461200088754))</td></tr><tr><td>1</td><td>0</td><td>Map(vectorType -> dense, length -> 2, values -> List(2.0442308647877296, -0.3046168360404698))</td></tr><tr><td>1</td><td>0</td><td>Map(vectorType -> dense, length -> 2, values -> List(2.0952255918005553, -3.6638720623651575))</td></tr><tr><td>0</td><td>1</td><td>Map(vectorType -> dense, length -> 2, values -> List(-3.1077931629832842, -1.5680098728032148))</td></tr><tr><td>0</td><td>1</td><td>Map(vectorType -> dense, length -> 2, values -> List(-4.952368008219316, -2.382749650207092))</td></tr><tr><td>0</td><td>0</td><td>Map(vectorType -> dense, length -> 2, values -> List(-0.8502661181133304, 2.304707467911811))</td></tr><tr><td>1</td><td>0</td><td>Map(vectorType -> dense, length -> 2, values -> List(2.9633917342885567, -0.37117988308380523))</td></tr><tr><td>0</td><td>1</td><td>Map(vectorType -> dense, length -> 2, values -> List(-3.331202091345631, 1.3243920287519007))</td></tr><tr><td>0</td><td>1</td><td>Map(vectorType -> dense, length -> 2, values -> List(-12.8832762090226, -2.314585872823187))</td></tr><tr><td>1</td><td>0</td><td>Map(vectorType -> dense, length -> 2, values -> List(0.770066100541669, 0.06405286022784357))</td></tr><tr><td>1</td><td>0</td><td>Map(vectorType -> dense, length -> 2, values -> List(2.200579246024579, 0.7349585441539866))</td></tr><tr><td>1</td><td>0</td><td>Map(vectorType -> dense, length -> 2, values -> List(3.1406488057317365, 1.8757585568762567))</td></tr><tr><td>0</td><td>0</td><td>Map(vectorType -> dense, length -> 2, values -> List(0.6383188466749707, 0.9105648277387001))</td></tr><tr><td>0</td><td>1</td><td>Map(vectorType -> dense, length -> 2, values -> List(-1.9174462720607244, 3.534971965704516))</td></tr><tr><td>1</td><td>1</td><td>Map(vectorType -> dense, length -> 2, values -> List(-1.4076297975592051, -1.303782215446646))</td></tr><tr><td>0</td><td>1</td><td>Map(vectorType -> dense, length -> 2, values -> List(-4.639608949805652, 1.480714296902346))</td></tr><tr><td>1</td><td>0</td><td>Map(vectorType -> dense, length -> 2, values -> List(1.875816842535797, -1.4219794520209585))</td></tr><tr><td>0</td><td>1</td><td>Map(vectorType -> dense, length -> 2, values -> List(-1.4308104644206412, 1.0486812201637816))</td></tr><tr><td>0</td><td>1</td><td>Map(vectorType -> dense, length -> 2, values -> List(-1.3514379025047487, 1.1531268416676224))</td></tr><tr><td>1</td><td>0</td><td>Map(vectorType -> dense, length -> 2, values -> List(0.7084914339488595, 1.5668536574634873))</td></tr><tr><td>0</td><td>1</td><td>Map(vectorType -> dense, length -> 2, values -> List(-2.16950708077604, 2.823776100829295))</td></tr><tr><td>0</td><td>0</td><td>Map(vectorType -> dense, length -> 2, values -> List(1.9751024733516598, 0.4190187545862016))</td></tr><tr><td>1</td><td>0</td><td>Map(vectorType -> dense, length -> 2, values -> List(2.59850309522373, 0.48191143623214344))</td></tr><tr><td>1</td><td>0</td><td>Map(vectorType -> dense, length -> 2, values -> List(3.2551431766212113, 0.417953650542393))</td></tr><tr><td>0</td><td>1</td><td>Map(vectorType -> dense, length -> 2, values -> List(-3.778701596515092, -0.8596252179512075))</td></tr><tr><td>1</td><td>0</td><td>Map(vectorType -> dense, length -> 2, values -> List(1.9902834824907458, -1.3281865083916466))</td></tr><tr><td>1</td><td>0</td><td>Map(vectorType -> dense, length -> 2, values -> List(5.010599890275268, -0.5741947482063134))</td></tr><tr><td>0</td><td>1</td><td>Map(vectorType -> dense, length -> 2, values -> List(-1.3438380019594123, 1.2736502780620558))</td></tr><tr><td>1</td><td>0</td><td>Map(vectorType -> dense, length -> 2, values -> List(2.4538097168107567, -0.8976654414043106))</td></tr><tr><td>1</td><td>0</td><td>Map(vectorType -> dense, length -> 2, values -> List(1.8356664765287183, 0.09094674191163107))</td></tr><tr><td>1</td><td>0</td><td>Map(vectorType -> dense, length -> 2, values -> List(4.342668621633104, 0.8927867080020948))</td></tr><tr><td>1</td><td>0</td><td>Map(vectorType -> dense, length -> 2, values -> List(0.7321686848841821, -3.698927716334959))</td></tr><tr><td>0</td><td>1</td><td>Map(vectorType -> dense, length -> 2, values -> List(-2.3978879545325613, -4.8337356419503745))</td></tr><tr><td>1</td><td>0</td><td>Map(vectorType -> dense, length -> 2, values -> List(-0.3927530826218365, -1.0821159150961952))</td></tr><tr><td>1</td><td>0</td><td>Map(vectorType -> dense, length -> 2, values -> List(0.41196532673628217, 0.389288784006076))</td></tr><tr><td>1</td><td>0</td><td>Map(vectorType -> dense, length -> 2, values -> List(3.0472436872382715, 2.235817238795145))</td></tr><tr><td>1</td><td>0</td><td>Map(vectorType -> dense, length -> 2, values -> List(1.4412955434660437, -0.305601552317848))</td></tr><tr><td>1</td><td>0</td><td>Map(vectorType -> dense, length -> 2, values -> List(-0.08311297195894712, -7.144073768197734))</td></tr><tr><td>1</td><td>1</td><td>Map(vectorType -> dense, length -> 2, values -> List(-7.087070838949417, -12.562140868978332))</td></tr><tr><td>1</td><td>0</td><td>Map(vectorType -> dense, length -> 2, values -> List(3.7401136372673087, -0.2502813056021372))</td></tr><tr><td>1</td><td>0</td><td>Map(vectorType -> dense, length -> 2, values -> List(0.9683207941410804, -0.9441135819226691))</td></tr><tr><td>1</td><td>0</td><td>Map(vectorType -> dense, length -> 2, values -> List(2.416593560539964, -0.005547531739681007))</td></tr><tr><td>0</td><td>1</td><td>Map(vectorType -> dense, length -> 2, values -> List(-4.0971826377870375, 0.3784708057605489))</td></tr><tr><td>1</td><td>0</td><td>Map(vectorType -> dense, length -> 2, values -> List(0.7509422555127223, 3.0679491866145))</td></tr><tr><td>1</td><td>0</td><td>Map(vectorType -> dense, length -> 2, values -> List(3.651433651563705, 0.6740556439403642))</td></tr><tr><td>1</td><td>0</td><td>Map(vectorType -> dense, length -> 2, values -> List(4.676097103502341, 1.10288682345121))</td></tr><tr><td>1</td><td>0</td><td>Map(vectorType -> dense, length -> 2, values -> List(0.5972562440800077, -1.7840810718355007))</td></tr><tr><td>0</td><td>1</td><td>Map(vectorType -> dense, length -> 2, values -> List(-3.384352890865804, 2.908477953178305))</td></tr><tr><td>0</td><td>1</td><td>Map(vectorType -> dense, length -> 2, values -> List(-6.144479695567227, 2.0158789937746477))</td></tr><tr><td>1</td><td>0</td><td>Map(vectorType -> dense, length -> 2, values -> List(1.3238664840948287, -1.468002337228917))</td></tr><tr><td>0</td><td>1</td><td>Map(vectorType -> dense, length -> 2, values -> List(-5.489322772303608, 4.162167037247703))</td></tr><tr><td>1</td><td>0</td><td>Map(vectorType -> dense, length -> 2, values -> List(2.9947681268795883, 2.7364532614587054))</td></tr><tr><td>1</td><td>0</td><td>Map(vectorType -> dense, length -> 2, values -> List(4.382876252034909, -0.006866239711844024))</td></tr><tr><td>0</td><td>1</td><td>Map(vectorType -> dense, length -> 2, values -> List(-1.2125676804145147, 2.0372463953120428))</td></tr><tr><td>0</td><td>1</td><td>Map(vectorType -> dense, length -> 2, values -> List(-5.065204235707061, 1.783582969267652))</td></tr><tr><td>1</td><td>0</td><td>Map(vectorType -> dense, length -> 2, values -> List(1.9759628006688976, 1.84115939446237))</td></tr><tr><td>1</td><td>0</td><td>Map(vectorType -> dense, length -> 2, values -> List(2.512665538094374, -0.11415185728328553))</td></tr><tr><td>0</td><td>0</td><td>Map(vectorType -> dense, length -> 2, values -> List(0.9466549351985862, 1.6832724441193998))</td></tr><tr><td>0</td><td>1</td><td>Map(vectorType -> dense, length -> 2, values -> List(-2.8168897774102652, -1.2639909533709472))</td></tr><tr><td>1</td><td>0</td><td>Map(vectorType -> dense, length -> 2, values -> List(3.4809234523308104, -1.6182680772420517))</td></tr><tr><td>1</td><td>0</td><td>Map(vectorType -> dense, length -> 2, values -> List(4.654633990732292, 0.2227188459265475))</td></tr><tr><td>1</td><td>0</td><td>Map(vectorType -> dense, length -> 2, values -> List(5.346913394805295, -1.0258552141595594))</td></tr><tr><td>1</td><td>1</td><td>Map(vectorType -> dense, length -> 2, values -> List(-1.1698684180216836, -7.008319995898495))</td></tr><tr><td>0</td><td>1</td><td>Map(vectorType -> dense, length -> 2, values -> List(-2.953702919945471, -0.7058008217765863))</td></tr><tr><td>1</td><td>0</td><td>Map(vectorType -> dense, length -> 2, values -> List(4.971327817743079, 3.3832279834158325))</td></tr><tr><td>1</td><td>0</td><td>Map(vectorType -> dense, length -> 2, values -> List(4.060452888239647, 1.2450706432840835))</td></tr><tr><td>0</td><td>1</td><td>Map(vectorType -> dense, length -> 2, values -> List(-9.504307055873683, 5.598558051824166))</td></tr><tr><td>0</td><td>1</td><td>Map(vectorType -> dense, length -> 2, values -> List(-8.99924713748581, -0.5805202806336891))</td></tr><tr><td>0</td><td>0</td><td>Map(vectorType -> dense, length -> 2, values -> List(-0.7582113387114503, 1.6071184807982521))</td></tr><tr><td>1</td><td>0</td><td>Map(vectorType -> dense, length -> 2, values -> List(2.657021716338433, -0.5394611319693707))</td></tr><tr><td>0</td><td>0</td><td>Map(vectorType -> dense, length -> 2, values -> List(0.3896761071631376, 0.9883726891537293))</td></tr><tr><td>1</td><td>0</td><td>Map(vectorType -> dense, length -> 2, values -> List(3.8856465678206793, -0.8153542849565183))</td></tr><tr><td>0</td><td>0</td><td>Map(vectorType -> dense, length -> 2, values -> List(-0.3645553815353931, 3.5713188418258013))</td></tr><tr><td>1</td><td>0</td><td>Map(vectorType -> dense, length -> 2, values -> List(2.8333978267575493, 0.39837916234531845))</td></tr><tr><td>1</td><td>0</td><td>Map(vectorType -> dense, length -> 2, values -> List(3.307373480730301, -0.1556042796224762))</td></tr><tr><td>1</td><td>0</td><td>Map(vectorType -> dense, length -> 2, values -> List(3.3543529255868116, 1.1027621091603794))</td></tr><tr><td>0</td><td>1</td><td>Map(vectorType -> dense, length -> 2, values -> List(-6.517382011166436, -8.004126823765688))</td></tr><tr><td>1</td><td>0</td><td>Map(vectorType -> dense, length -> 2, values -> List(1.716225078957832, 0.5426880190282252))</td></tr><tr><td>1</td><td>0</td><td>Map(vectorType -> dense, length -> 2, values -> List(5.560842943398813, 0.4774274929424864))</td></tr><tr><td>0</td><td>1</td><td>Map(vectorType -> dense, length -> 2, values -> List(-1.7780969513569727, -2.7741462134520165))</td></tr><tr><td>0</td><td>1</td><td>Map(vectorType -> dense, length -> 2, values -> List(-2.6091890818216363, -1.5600490304583217))</td></tr><tr><td>1</td><td>0</td><td>Map(vectorType -> dense, length -> 2, values -> List(2.81656023352004, 0.9692577223481751))</td></tr><tr><td>0</td><td>1</td><td>Map(vectorType -> dense, length -> 2, values -> List(-2.4962424475167926, -2.276479789862448))</td></tr><tr><td>0</td><td>1</td><td>Map(vectorType -> dense, length -> 2, values -> List(-1.275904513829326, 2.4411110438899812))</td></tr><tr><td>0</td><td>1</td><td>Map(vectorType -> dense, length -> 2, values -> List(-3.470143981958466, 2.275846405119393))</td></tr><tr><td>0</td><td>1</td><td>Map(vectorType -> dense, length -> 2, values -> List(-1.2555703424425486, -0.38205709440413826))</td></tr><tr><td>1</td><td>0</td><td>Map(vectorType -> dense, length -> 2, values -> List(1.4721360446853025, -0.11678749584162215))</td></tr><tr><td>0</td><td>1</td><td>Map(vectorType -> dense, length -> 2, values -> List(-1.6480106203166893, 2.100442902308144))</td></tr><tr><td>0</td><td>1</td><td>Map(vectorType -> dense, length -> 2, values -> List(-9.028645224281451, 0.6545968488688727))</td></tr><tr><td>0</td><td>1</td><td>Map(vectorType -> dense, length -> 2, values -> List(-4.550586028792268, -3.0839256264353505))</td></tr><tr><td>1</td><td>0</td><td>Map(vectorType -> dense, length -> 2, values -> List(0.7805032063552411, -0.6522753252252638))</td></tr><tr><td>0</td><td>0</td><td>Map(vectorType -> dense, length -> 2, values -> List(0.22289648137749804, 0.7012045041875619))</td></tr><tr><td>1</td><td>0</td><td>Map(vectorType -> dense, length -> 2, values -> List(3.451858114839652, -1.3057897654953268))</td></tr><tr><td>0</td><td>0</td><td>Map(vectorType -> dense, length -> 2, values -> List(-0.4461518298391931, 2.7852570082147827))</td></tr><tr><td>1</td><td>0</td><td>Map(vectorType -> dense, length -> 2, values -> List(-0.3141617966983834, -2.0757343005542124))</td></tr><tr><td>1</td><td>0</td><td>Map(vectorType -> dense, length -> 2, values -> List(2.0573816635646485, 2.4706139080117415))</td></tr><tr><td>0</td><td>1</td><td>Map(vectorType -> dense, length -> 2, values -> List(-4.804741578644551, 3.0264400192113654))</td></tr><tr><td>1</td><td>0</td><td>Map(vectorType -> dense, length -> 2, values -> List(2.9960742986927817, 0.3964292123288678))</td></tr><tr><td>0</td><td>1</td><td>Map(vectorType -> dense, length -> 2, values -> List(-12.27421974008282, 7.536778598643883))</td></tr><tr><td>0</td><td>1</td><td>Map(vectorType -> dense, length -> 2, values -> List(-3.3692320216392955, -2.585550416174371))</td></tr><tr><td>0</td><td>1</td><td>Map(vectorType -> dense, length -> 2, values -> List(-2.5065608023508408, -2.6123498850288525))</td></tr><tr><td>0</td><td>1</td><td>Map(vectorType -> dense, length -> 2, values -> List(-1.3169097348008016, -2.152585452838559))</td></tr><tr><td>1</td><td>0</td><td>Map(vectorType -> dense, length -> 2, values -> List(0.3884145349104365, -2.274796313785692))</td></tr><tr><td>1</td><td>0</td><td>Map(vectorType -> dense, length -> 2, values -> List(2.7545093134335943, -1.0858792262280101))</td></tr><tr><td>0</td><td>1</td><td>Map(vectorType -> dense, length -> 2, values -> List(-4.939235008379087, 2.845820435747167))</td></tr><tr><td>0</td><td>1</td><td>Map(vectorType -> dense, length -> 2, values -> List(-4.294298799576767, 4.662172958398716))</td></tr><tr><td>1</td><td>0</td><td>Map(vectorType -> dense, length -> 2, values -> List(2.371415206580928, 0.7327578143464887))</td></tr><tr><td>1</td><td>0</td><td>Map(vectorType -> dense, length -> 2, values -> List(0.9663400342412815, -0.43805274138140315))</td></tr><tr><td>1</td><td>0</td><td>Map(vectorType -> dense, length -> 2, values -> List(2.973182700588683, -1.8093817105584709))</td></tr><tr><td>0</td><td>1</td><td>Map(vectorType -> dense, length -> 2, values -> List(-1.8016617480543298, -0.16631461790202312))</td></tr><tr><td>1</td><td>0</td><td>Map(vectorType -> dense, length -> 2, values -> List(2.476180734357764, 1.4173293464504262))</td></tr><tr><td>1</td><td>0</td><td>Map(vectorType -> dense, length -> 2, values -> List(0.8253131039081664, 1.249148354188872))</td></tr><tr><td>1</td><td>0</td><td>Map(vectorType -> dense, length -> 2, values -> List(3.891273417938517, -0.5380972756254689))</td></tr><tr><td>1</td><td>0</td><td>Map(vectorType -> dense, length -> 2, values -> List(0.3892356039180487, 0.613875324449998))</td></tr><tr><td>1</td><td>0</td><td>Map(vectorType -> dense, length -> 2, values -> List(1.4560401949184865, 0.20154941477167584))</td></tr><tr><td>0</td><td>1</td><td>Map(vectorType -> dense, length -> 2, values -> List(-2.7531455233218116, -3.4627267693133152))</td></tr><tr><td>0</td><td>1</td><td>Map(vectorType -> dense, length -> 2, values -> List(-3.254391152333232, 0.12509042564652945))</td></tr><tr><td>1</td><td>0</td><td>Map(vectorType -> dense, length -> 2, values -> List(4.015606929779589, 1.3530568336035458))</td></tr><tr><td>1</td><td>0</td><td>Map(vectorType -> dense, length -> 2, values -> List(3.673181280856314, 1.2904935620339735))</td></tr><tr><td>0</td><td>1</td><td>Map(vectorType -> dense, length -> 2, values -> List(-3.3134086631131745, 3.9356892675858393))</td></tr><tr><td>1</td><td>0</td><td>Map(vectorType -> dense, length -> 2, values -> List(4.0330586952594905, -1.1615240891991265))</td></tr><tr><td>1</td><td>0</td><td>Map(vectorType -> dense, length -> 2, values -> List(2.332181276558638, 1.3477938157103568))</td></tr><tr><td>0</td><td>1</td><td>Map(vectorType -> dense, length -> 2, values -> List(-8.396459114567051, 4.150252991487551))</td></tr><tr><td>0</td><td>1</td><td>Map(vectorType -> dense, length -> 2, values -> List(-2.645241099769492, 3.947699392177443))</td></tr><tr><td>1</td><td>0</td><td>Map(vectorType -> dense, length -> 2, values -> List(0.6811695085597811, 1.134992456901795))</td></tr><tr><td>0</td><td>1</td><td>Map(vectorType -> dense, length -> 2, values -> List(-3.3473504750853267, 2.1526758988005272))</td></tr><tr><td>1</td><td>0</td><td>Map(vectorType -> dense, length -> 2, values -> List(2.225762082820186, 1.2139315550121692))</td></tr><tr><td>1</td><td>0</td><td>Map(vectorType -> dense, length -> 2, values -> List(4.473648316810695, 1.7395986990016745))</td></tr><tr><td>1</td><td>1</td><td>Map(vectorType -> dense, length -> 2, values -> List(-1.3214586745096857, -4.785266054191078))</td></tr><tr><td>1</td><td>0</td><td>Map(vectorType -> dense, length -> 2, values -> List(1.8484634072018238, 1.5827355092570183))</td></tr><tr><td>0</td><td>1</td><td>Map(vectorType -> dense, length -> 2, values -> List(-3.7922288801761828, 1.025330459219364))</td></tr><tr><td>1</td><td>0</td><td>Map(vectorType -> dense, length -> 2, values -> List(2.2793125444788847, -2.075859442194888))</td></tr><tr><td>1</td><td>0</td><td>Map(vectorType -> dense, length -> 2, values -> List(3.2259316385038423, 1.1710430842293764))</td></tr><tr><td>1</td><td>0</td><td>Map(vectorType -> dense, length -> 2, values -> List(-1.0249988966720756, -2.3591861092433453))</td></tr><tr><td>1</td><td>0</td><td>Map(vectorType -> dense, length -> 2, values -> List(2.580285458084775, -0.7285720474808405))</td></tr><tr><td>1</td><td>0</td><td>Map(vectorType -> dense, length -> 2, values -> List(2.4836978332373185, -0.4601914826896939))</td></tr><tr><td>0</td><td>1</td><td>Map(vectorType -> dense, length -> 2, values -> List(-7.13756173714527, 2.073018195139842))</td></tr><tr><td>1</td><td>0</td><td>Map(vectorType -> dense, length -> 2, values -> List(3.029815222770883, 0.648897838165118))</td></tr><tr><td>0</td><td>1</td><td>Map(vectorType -> dense, length -> 2, values -> List(-7.078782066793522, -0.5277587995773976))</td></tr><tr><td>0</td><td>1</td><td>Map(vectorType -> dense, length -> 2, values -> List(-1.3129437515041626, 1.7738650170431625))</td></tr><tr><td>0</td><td>1</td><td>Map(vectorType -> dense, length -> 2, values -> List(-3.7083865255645923, 2.8050089983868287))</td></tr><tr><td>0</td><td>0</td><td>Map(vectorType -> dense, length -> 2, values -> List(-0.4600742739863428, -0.3938197686403613))</td></tr><tr><td>0</td><td>1</td><td>Map(vectorType -> dense, length -> 2, values -> List(-6.387030007430574, 1.821491442867628))</td></tr><tr><td>0</td><td>1</td><td>Map(vectorType -> dense, length -> 2, values -> List(-5.250924689588624, -3.891107225655192))</td></tr><tr><td>0</td><td>1</td><td>Map(vectorType -> dense, length -> 2, values -> List(-8.726183381467218, -3.2769939657143716))</td></tr><tr><td>0</td><td>1</td><td>Map(vectorType -> dense, length -> 2, values -> List(-3.6880727649812464, -1.0647092355384506))</td></tr><tr><td>0</td><td>1</td><td>Map(vectorType -> dense, length -> 2, values -> List(-3.3752809812447255, 3.3682641746415576))</td></tr><tr><td>0</td><td>0</td><td>Map(vectorType -> dense, length -> 2, values -> List(0.8394710078446104, 3.4970080337579934))</td></tr><tr><td>0</td><td>1</td><td>Map(vectorType -> dense, length -> 2, values -> List(-3.2814852588700103, 0.9898022792791088))</td></tr><tr><td>0</td><td>0</td><td>Map(vectorType -> dense, length -> 2, values -> List(1.9070908891938627, 3.119201237203347))</td></tr><tr><td>0</td><td>1</td><td>Map(vectorType -> dense, length -> 2, values -> List(-1.6133623365757193, 2.4723978983559065))</td></tr><tr><td>0</td><td>1</td><td>Map(vectorType -> dense, length -> 2, values -> List(-6.613906806066417, 5.997998810891651))</td></tr><tr><td>1</td><td>0</td><td>Map(vectorType -> dense, length -> 2, values -> List(1.4633883060156407, -1.685149060625749))</td></tr><tr><td>1</td><td>0</td><td>Map(vectorType -> dense, length -> 2, values -> List(2.0103835029649497, 1.1025164598842423))</td></tr><tr><td>1</td><td>0</td><td>Map(vectorType -> dense, length -> 2, values -> List(2.282332040471847, -0.009485293138450299))</td></tr><tr><td>1</td><td>0</td><td>Map(vectorType -> dense, length -> 2, values -> List(0.7390927619274819, -3.149749157849665))</td></tr><tr><td>1</td><td>0</td><td>Map(vectorType -> dense, length -> 2, values -> List(4.502600696719506, 3.166486413631368))</td></tr><tr><td>1</td><td>0</td><td>Map(vectorType -> dense, length -> 2, values -> List(3.1559773740122634, -0.4099410900241174))</td></tr><tr><td>0</td><td>1</td><td>Map(vectorType -> dense, length -> 2, values -> List(-7.6694012070934345, 3.072602737491275))</td></tr><tr><td>1</td><td>0</td><td>Map(vectorType -> dense, length -> 2, values -> List(3.6359367261303492, -1.5881896245823244))</td></tr><tr><td>0</td><td>0</td><td>Map(vectorType -> dense, length -> 2, values -> List(-0.3370489251204577, 3.1416091727542197))</td></tr><tr><td>1</td><td>0</td><td>Map(vectorType -> dense, length -> 2, values -> List(1.2754611078320632, -0.8483065631109162))</td></tr><tr><td>1</td><td>0</td><td>Map(vectorType -> dense, length -> 2, values -> List(4.342193381795932, 0.3216949991143457))</td></tr><tr><td>0</td><td>0</td><td>Map(vectorType -> dense, length -> 2, values -> List(-0.01741546771171315, 3.456302109699558))</td></tr><tr><td>1</td><td>0</td><td>Map(vectorType -> dense, length -> 2, values -> List(3.4893557720452133, 2.6317667234807156))</td></tr><tr><td>1</td><td>0</td><td>Map(vectorType -> dense, length -> 2, values -> List(1.864907931297847, 0.9012711860481959))</td></tr><tr><td>0</td><td>1</td><td>Map(vectorType -> dense, length -> 2, values -> List(-4.955907441716645, 1.3399440378897656))</td></tr><tr><td>1</td><td>0</td><td>Map(vectorType -> dense, length -> 2, values -> List(2.4685506209044195, 0.1379049225435279))</td></tr><tr><td>0</td><td>1</td><td>Map(vectorType -> dense, length -> 2, values -> List(-3.781732576915012, 1.9002354094267013))</td></tr><tr><td>0</td><td>1</td><td>Map(vectorType -> dense, length -> 2, values -> List(-2.634937310206687, -0.5766476067361099))</td></tr><tr><td>1</td><td>0</td><td>Map(vectorType -> dense, length -> 2, values -> List(1.3714782673685932, -0.005800357721781113))</td></tr><tr><td>1</td><td>0</td><td>Map(vectorType -> dense, length -> 2, values -> List(4.13524399446935, 1.375298122929749))</td></tr><tr><td>1</td><td>0</td><td>Map(vectorType -> dense, length -> 2, values -> List(0.6863363877211871, -1.6935195059813446))</td></tr><tr><td>1</td><td>0</td><td>Map(vectorType -> dense, length -> 2, values -> List(4.308338698860459, 1.9767468042610254))</td></tr><tr><td>1</td><td>0</td><td>Map(vectorType -> dense, length -> 2, values -> List(-0.4029548635748549, -3.7201606544330987))</td></tr><tr><td>1</td><td>0</td><td>Map(vectorType -> dense, length -> 2, values -> List(3.000965262243705, -0.35384887774716584))</td></tr><tr><td>1</td><td>1</td><td>Map(vectorType -> dense, length -> 2, values -> List(-3.1312530328587043, -4.269702670189467))</td></tr><tr><td>1</td><td>0</td><td>Map(vectorType -> dense, length -> 2, values -> List(0.41746953769710166, 0.8078657343689332))</td></tr><tr><td>1</td><td>0</td><td>Map(vectorType -> dense, length -> 2, values -> List(1.4189745870297155, -1.3927526376556778))</td></tr><tr><td>1</td><td>0</td><td>Map(vectorType -> dense, length -> 2, values -> List(2.8680647531464465, 0.268408338101326))</td></tr><tr><td>1</td><td>0</td><td>Map(vectorType -> dense, length -> 2, values -> List(3.3628867182650546, 0.8068906366540134))</td></tr><tr><td>1</td><td>0</td><td>Map(vectorType -> dense, length -> 2, values -> List(3.3120858684223364, 1.4409083819701411))</td></tr><tr><td>1</td><td>0</td><td>Map(vectorType -> dense, length -> 2, values -> List(4.7655170071007955, 0.5424845304417008))</td></tr><tr><td>0</td><td>0</td><td>Map(vectorType -> dense, length -> 2, values -> List(2.383785278667096, 0.8233910735604927))</td></tr><tr><td>1</td><td>0</td><td>Map(vectorType -> dense, length -> 2, values -> List(2.7846458146634814, 2.530807159428553))</td></tr><tr><td>1</td><td>0</td><td>Map(vectorType -> dense, length -> 2, values -> List(3.3908581737798005, -0.7533011314133292))</td></tr><tr><td>0</td><td>1</td><td>Map(vectorType -> dense, length -> 2, values -> List(-6.58444232820841, 1.4835570760795582))</td></tr><tr><td>1</td><td>0</td><td>Map(vectorType -> dense, length -> 2, values -> List(1.4540511062050259, -0.5914224783050939))</td></tr><tr><td>0</td><td>1</td><td>Map(vectorType -> dense, length -> 2, values -> List(-7.176618434402277, -0.05509758012513949))</td></tr><tr><td>1</td><td>0</td><td>Map(vectorType -> dense, length -> 2, values -> List(3.5756891739127767, -0.890799182251582))</td></tr><tr><td>1</td><td>0</td><td>Map(vectorType -> dense, length -> 2, values -> List(3.0543451401303825, 0.17905583600501274))</td></tr><tr><td>1</td><td>0</td><td>Map(vectorType -> dense, length -> 2, values -> List(3.0717330303073704, 0.3057893730497704))</td></tr><tr><td>1</td><td>0</td><td>Map(vectorType -> dense, length -> 2, values -> List(3.850152005362842, 1.5233860034932076))</td></tr><tr><td>1</td><td>0</td><td>Map(vectorType -> dense, length -> 2, values -> List(5.3855177059185495, -0.5557664886960754))</td></tr><tr><td>1</td><td>0</td><td>Map(vectorType -> dense, length -> 2, values -> List(4.65358766791471, 3.062692587047921))</td></tr><tr><td>1</td><td>0</td><td>Map(vectorType -> dense, length -> 2, values -> List(4.024001690818717, 2.5406715203364776))</td></tr><tr><td>1</td><td>0</td><td>Map(vectorType -> dense, length -> 2, values -> List(3.3448788008728587, 0.06850277259966837))</td></tr><tr><td>1</td><td>0</td><td>Map(vectorType -> dense, length -> 2, values -> List(3.2969410508974435, 3.1359500887137717))</td></tr><tr><td>1</td><td>0</td><td>Map(vectorType -> dense, length -> 2, values -> List(2.134525984500311, 0.0043889867928022935))</td></tr><tr><td>1</td><td>0</td><td>Map(vectorType -> dense, length -> 2, values -> List(4.034467235871257, 0.2404864516410689))</td></tr><tr><td>1</td><td>0</td><td>Map(vectorType -> dense, length -> 2, values -> List(3.762104298066469, -4.39433394265753))</td></tr><tr><td>1</td><td>0</td><td>Map(vectorType -> dense, length -> 2, values -> List(4.86695697440386, 2.337158334463167))</td></tr><tr><td>1</td><td>0</td><td>Map(vectorType -> dense, length -> 2, values -> List(4.743075110258775, 1.7968209625108593))</td></tr><tr><td>0</td><td>1</td><td>Map(vectorType -> dense, length -> 2, values -> List(-1.8936500638857314, 2.3901349362668816))</td></tr><tr><td>1</td><td>1</td><td>Map(vectorType -> dense, length -> 2, values -> List(-1.571548343734521, -6.503377020577063))</td></tr><tr><td>1</td><td>0</td><td>Map(vectorType -> dense, length -> 2, values -> List(4.023080366038678, 1.4009737529462152))</td></tr><tr><td>1</td><td>0</td><td>Map(vectorType -> dense, length -> 2, values -> List(1.29372782598917, -3.4677573783806075))</td></tr><tr><td>0</td><td>1</td><td>Map(vectorType -> dense, length -> 2, values -> List(-1.8332274202713865, 4.317723822665098))</td></tr><tr><td>1</td><td>0</td><td>Map(vectorType -> dense, length -> 2, values -> List(1.808789015235209, -0.39585898806435427))</td></tr><tr><td>0</td><td>1</td><td>Map(vectorType -> dense, length -> 2, values -> List(-7.230123567830955, 0.035670410920752404))</td></tr><tr><td>1</td><td>0</td><td>Map(vectorType -> dense, length -> 2, values -> List(3.1428847812274205, 0.741873771312808))</td></tr><tr><td>1</td><td>0</td><td>Map(vectorType -> dense, length -> 2, values -> List(2.8847298001152506, 0.46432306918826133))</td></tr><tr><td>1</td><td>0</td><td>Map(vectorType -> dense, length -> 2, values -> List(3.146885056706513, 1.7696912547970154))</td></tr><tr><td>1</td><td>0</td><td>Map(vectorType -> dense, length -> 2, values -> List(4.624310577223516, 1.8340046311486002))</td></tr><tr><td>0</td><td>1</td><td>Map(vectorType -> dense, length -> 2, values -> List(-2.248531903058634, 0.3482295351152985))</td></tr><tr><td>0</td><td>1</td><td>Map(vectorType -> dense, length -> 2, values -> List(-2.105948215451635, -1.1209875925308008))</td></tr><tr><td>0</td><td>1</td><td>Map(vectorType -> dense, length -> 2, values -> List(-1.7843799140989622, 0.2689849572661148))</td></tr><tr><td>1</td><td>0</td><td>Map(vectorType -> dense, length -> 2, values -> List(0.527232708197753, -1.264758768867036))</td></tr><tr><td>1</td><td>0</td><td>Map(vectorType -> dense, length -> 2, values -> List(3.2106759241477616, -1.1024730816943964))</td></tr><tr><td>1</td><td>0</td><td>Map(vectorType -> dense, length -> 2, values -> List(4.382566769758078, 0.7604346273021849))</td></tr><tr><td>1</td><td>0</td><td>Map(vectorType -> dense, length -> 2, values -> List(3.80666840292402, 0.9091186263481879))</td></tr><tr><td>0</td><td>1</td><td>Map(vectorType -> dense, length -> 2, values -> List(-3.3167555762556, 1.5756664220302594))</td></tr><tr><td>1</td><td>0</td><td>Map(vectorType -> dense, length -> 2, values -> List(2.3911719850536737, -0.9891604207881478))</td></tr><tr><td>0</td><td>1</td><td>Map(vectorType -> dense, length -> 2, values -> List(-4.676051829725837, 0.9677414434843))</td></tr><tr><td>1</td><td>0</td><td>Map(vectorType -> dense, length -> 2, values -> List(3.0649982652345846, -1.1348390297023678))</td></tr><tr><td>0</td><td>1</td><td>Map(vectorType -> dense, length -> 2, values -> List(-7.346754205800324, 5.238014242213437))</td></tr><tr><td>1</td><td>0</td><td>Map(vectorType -> dense, length -> 2, values -> List(-0.2950535672123393, -0.22673553279496178))</td></tr><tr><td>1</td><td>0</td><td>Map(vectorType -> dense, length -> 2, values -> List(1.937264908048494, -2.54275075984208))</td></tr><tr><td>1</td><td>0</td><td>Map(vectorType -> dense, length -> 2, values -> List(2.075352829718506, -1.8049313395291142))</td></tr><tr><td>0</td><td>1</td><td>Map(vectorType -> dense, length -> 2, values -> List(-4.970788588463213, 1.3314006873626998))</td></tr><tr><td>1</td><td>0</td><td>Map(vectorType -> dense, length -> 2, values -> List(2.1750031061333353, -0.9580682603151646))</td></tr><tr><td>1</td><td>0</td><td>Map(vectorType -> dense, length -> 2, values -> List(2.429413826943072, -3.44417335730377))</td></tr><tr><td>1</td><td>0</td><td>Map(vectorType -> dense, length -> 2, values -> List(3.3650049292694186, 0.5624340150809102))</td></tr><tr><td>1</td><td>0</td><td>Map(vectorType -> dense, length -> 2, values -> List(1.205537044997321, 1.315886496793601))</td></tr><tr><td>1</td><td>0</td><td>Map(vectorType -> dense, length -> 2, values -> List(3.3231552224306244, -0.4747538482010823))</td></tr><tr><td>1</td><td>0</td><td>Map(vectorType -> dense, length -> 2, values -> List(1.9270997575978313, -1.460184988708072))</td></tr><tr><td>1</td><td>0</td><td>Map(vectorType -> dense, length -> 2, values -> List(4.038281827650134, 1.3557245619959968))</td></tr><tr><td>0</td><td>1</td><td>Map(vectorType -> dense, length -> 2, values -> List(-6.176848765923755, -5.103514894361796))</td></tr><tr><td>0</td><td>1</td><td>Map(vectorType -> dense, length -> 2, values -> List(-10.924685586759175, 3.699998471871134))</td></tr><tr><td>0</td><td>1</td><td>Map(vectorType -> dense, length -> 2, values -> List(-2.1166345166823373, -0.2963682967476071))</td></tr><tr><td>1</td><td>0</td><td>Map(vectorType -> dense, length -> 2, values -> List(3.0095468861563317, -0.243545681202486))</td></tr><tr><td>1</td><td>0</td><td>Map(vectorType -> dense, length -> 2, values -> List(0.9817847142179241, -0.7965515125202817))</td></tr><tr><td>1</td><td>0</td><td>Map(vectorType -> dense, length -> 2, values -> List(-0.35757923049032636, -2.125968004265042))</td></tr><tr><td>1</td><td>0</td><td>Map(vectorType -> dense, length -> 2, values -> List(3.191110025081194, 1.847526444761871))</td></tr><tr><td>1</td><td>0</td><td>Map(vectorType -> dense, length -> 2, values -> List(2.990601886844637, -1.6299580146726662))</td></tr><tr><td>1</td><td>0</td><td>Map(vectorType -> dense, length -> 2, values -> List(3.191106313310075, -0.5788301325936451))</td></tr><tr><td>1</td><td>0</td><td>Map(vectorType -> dense, length -> 2, values -> List(4.587924963183574, 2.7586997322892137))</td></tr><tr><td>1</td><td>0</td><td>Map(vectorType -> dense, length -> 2, values -> List(2.483730733194703, 1.1878941827853875))</td></tr><tr><td>1</td><td>0</td><td>Map(vectorType -> dense, length -> 2, values -> List(2.396556629015861, 0.2505243553016716))</td></tr><tr><td>1</td><td>0</td><td>Map(vectorType -> dense, length -> 2, values -> List(0.7789298236156389, 2.1224758723954773))</td></tr><tr><td>1</td><td>0</td><td>Map(vectorType -> dense, length -> 2, values -> List(3.137227995833936, 1.486714010385516))</td></tr><tr><td>0</td><td>1</td><td>Map(vectorType -> dense, length -> 2, values -> List(-2.7326073652576093, 3.9416999500655043))</td></tr><tr><td>0</td><td>1</td><td>Map(vectorType -> dense, length -> 2, values -> List(-6.221551679069684, 1.3888876163638892))</td></tr><tr><td>1</td><td>0</td><td>Map(vectorType -> dense, length -> 2, values -> List(2.221820777512973, 0.35684672329234746))</td></tr><tr><td>0</td><td>1</td><td>Map(vectorType -> dense, length -> 2, values -> List(-5.302474403497606, 6.717504287902137))</td></tr><tr><td>0</td><td>1</td><td>Map(vectorType -> dense, length -> 2, values -> List(-7.241629190977243, 3.6522555297061396))</td></tr><tr><td>0</td><td>1</td><td>Map(vectorType -> dense, length -> 2, values -> List(-4.203521962751312, -1.1752088219527228))</td></tr><tr><td>1</td><td>0</td><td>Map(vectorType -> dense, length -> 2, values -> List(2.4974388911606744, 2.016761089657906))</td></tr><tr><td>0</td><td>1</td><td>Map(vectorType -> dense, length -> 2, values -> List(-3.631819328529832, 1.9547209619987518))</td></tr><tr><td>0</td><td>1</td><td>Map(vectorType -> dense, length -> 2, values -> List(-3.516154429778133, 3.8552149374108557))</td></tr><tr><td>1</td><td>0</td><td>Map(vectorType -> dense, length -> 2, values -> List(2.6126494511410927, 1.101505250877788))</td></tr><tr><td>1</td><td>0</td><td>Map(vectorType -> dense, length -> 2, values -> List(0.09602362590836018, 0.12973343110973548))</td></tr><tr><td>1</td><td>1</td><td>Map(vectorType -> dense, length -> 2, values -> List(-2.0430592577934314, -6.421169886591277))</td></tr><tr><td>1</td><td>0</td><td>Map(vectorType -> dense, length -> 2, values -> List(3.0640534834955355, 2.1801773735430845))</td></tr><tr><td>1</td><td>0</td><td>Map(vectorType -> dense, length -> 2, values -> List(1.6021766967898312, -0.2923389949332684))</td></tr><tr><td>0</td><td>1</td><td>Map(vectorType -> dense, length -> 2, values -> List(-3.762621443878961, -5.980033549309579))</td></tr><tr><td>1</td><td>0</td><td>Map(vectorType -> dense, length -> 2, values -> List(0.9247529181246392, -2.3004572704552135))</td></tr><tr><td>1</td><td>0</td><td>Map(vectorType -> dense, length -> 2, values -> List(3.2854587367562074, -0.20113435938521462))</td></tr><tr><td>1</td><td>0</td><td>Map(vectorType -> dense, length -> 2, values -> List(1.5534852463993922, -0.9789963158207404))</td></tr><tr><td>1</td><td>0</td><td>Map(vectorType -> dense, length -> 2, values -> List(0.39842934176183803, -2.1593127242758463))</td></tr><tr><td>1</td><td>0</td><td>Map(vectorType -> dense, length -> 2, values -> List(2.2985453437371177, 0.9312581750160045))</td></tr><tr><td>0</td><td>0</td><td>Map(vectorType -> dense, length -> 2, values -> List(0.542424088151976, 1.3159100480444743))</td></tr><tr><td>1</td><td>0</td><td>Map(vectorType -> dense, length -> 2, values -> List(2.057009504309962, -0.32015344453125083))</td></tr><tr><td>1</td><td>0</td><td>Map(vectorType -> dense, length -> 2, values -> List(3.4215074893256583, 2.443368505138404))</td></tr><tr><td>1</td><td>0</td><td>Map(vectorType -> dense, length -> 2, values -> List(0.47199124930973096, -3.699574203312585))</td></tr><tr><td>0</td><td>1</td><td>Map(vectorType -> dense, length -> 2, values -> List(-4.699365785201365, 0.19578348601557083))</td></tr><tr><td>1</td><td>0</td><td>Map(vectorType -> dense, length -> 2, values -> List(3.640177266356688, -0.786168171276902))</td></tr><tr><td>1</td><td>0</td><td>Map(vectorType -> dense, length -> 2, values -> List(3.5915291765229544, -2.602797029692257))</td></tr><tr><td>0</td><td>1</td><td>Map(vectorType -> dense, length -> 2, values -> List(-4.145449783640533, -0.7668141287529167))</td></tr><tr><td>0</td><td>1</td><td>Map(vectorType -> dense, length -> 2, values -> List(-7.665396811495929, 0.8597276809314314))</td></tr><tr><td>1</td><td>0</td><td>Map(vectorType -> dense, length -> 2, values -> List(2.0086120468983655, -0.4293118113846647))</td></tr><tr><td>1</td><td>0</td><td>Map(vectorType -> dense, length -> 2, values -> List(2.9182657286307934, 1.6989775538427376))</td></tr><tr><td>1</td><td>0</td><td>Map(vectorType -> dense, length -> 2, values -> List(0.5002975911258666, -0.10663763480732191))</td></tr><tr><td>1</td><td>0</td><td>Map(vectorType -> dense, length -> 2, values -> List(1.909818136290534, 0.6508212257862362))</td></tr><tr><td>1</td><td>0</td><td>Map(vectorType -> dense, length -> 2, values -> List(3.7817716673916792, 0.3258596453595585))</td></tr><tr><td>1</td><td>0</td><td>Map(vectorType -> dense, length -> 2, values -> List(2.706012962066895, 0.2194726288777049))</td></tr><tr><td>0</td><td>1</td><td>Map(vectorType -> dense, length -> 2, values -> List(-6.284144085196279, -2.034757025450057))</td></tr><tr><td>1</td><td>0</td><td>Map(vectorType -> dense, length -> 2, values -> List(3.4277546285096903, 0.9917374104621859))</td></tr><tr><td>1</td><td>0</td><td>Map(vectorType -> dense, length -> 2, values -> List(1.9996290036610866, 0.29306859391553763))</td></tr><tr><td>1</td><td>0</td><td>Map(vectorType -> dense, length -> 2, values -> List(2.4711187702674877, 0.3347524795996754))</td></tr><tr><td>1</td><td>0</td><td>Map(vectorType -> dense, length -> 2, values -> List(3.6440513653380244, 1.2402738149716068))</td></tr><tr><td>1</td><td>0</td><td>Map(vectorType -> dense, length -> 2, values -> List(2.344124268696747, -0.6821411046260262))</td></tr><tr><td>1</td><td>0</td><td>Map(vectorType -> dense, length -> 2, values -> List(1.1419920938905654, 1.9604465077671769))</td></tr><tr><td>1</td><td>0</td><td>Map(vectorType -> dense, length -> 2, values -> List(1.349669736242352, -0.36924900183406884))</td></tr><tr><td>0</td><td>1</td><td>Map(vectorType -> dense, length -> 2, values -> List(-2.760941448865499, 1.0776852596095776))</td></tr><tr><td>1</td><td>0</td><td>Map(vectorType -> dense, length -> 2, values -> List(1.967592331203069, 0.17569391630596184))</td></tr><tr><td>1</td><td>0</td><td>Map(vectorType -> dense, length -> 2, values -> List(2.92861018720084, 0.49442119061084133))</td></tr><tr><td>1</td><td>0</td><td>Map(vectorType -> dense, length -> 2, values -> List(2.92380174883021, -0.3770005363916792))</td></tr><tr><td>1</td><td>0</td><td>Map(vectorType -> dense, length -> 2, values -> List(3.99267514417972, -0.9590122600837145))</td></tr><tr><td>1</td><td>0</td><td>Map(vectorType -> dense, length -> 2, values -> List(-0.1550016743349039, 0.437623165978837))</td></tr><tr><td>0</td><td>0</td><td>Map(vectorType -> dense, length -> 2, values -> List(0.9332696314803103, 2.104094210067527))</td></tr><tr><td>1</td><td>0</td><td>Map(vectorType -> dense, length -> 2, values -> List(1.927925359175412, -0.8916821038232392))</td></tr><tr><td>1</td><td>0</td><td>Map(vectorType -> dense, length -> 2, values -> List(2.6200332486414437, -2.499901967771065))</td></tr><tr><td>0</td><td>1</td><td>Map(vectorType -> dense, length -> 2, values -> List(-5.998338685657266, 0.09094919644802113))</td></tr><tr><td>1</td><td>0</td><td>Map(vectorType -> dense, length -> 2, values -> List(2.9193091202939803, 0.00920458204064542))</td></tr><tr><td>1</td><td>0</td><td>Map(vectorType -> dense, length -> 2, values -> List(3.3390068299273357, 0.022205192232515797))</td></tr><tr><td>1</td><td>0</td><td>Map(vectorType -> dense, length -> 2, values -> List(2.0131436791939663, -0.7777677776660812))</td></tr><tr><td>1</td><td>1</td><td>Map(vectorType -> dense, length -> 2, values -> List(-1.9867140066590794, -2.314011967419204))</td></tr><tr><td>1</td><td>0</td><td>Map(vectorType -> dense, length -> 2, values -> List(1.6681361466415952, -0.8615607699852146))</td></tr><tr><td>1</td><td>0</td><td>Map(vectorType -> dense, length -> 2, values -> List(0.37085180302599974, -0.11351277941469305))</td></tr><tr><td>1</td><td>0</td><td>Map(vectorType -> dense, length -> 2, values -> List(1.8473344702440129, -2.5389956007011905))</td></tr><tr><td>1</td><td>0</td><td>Map(vectorType -> dense, length -> 2, values -> List(4.6989076587167675, 0.4319223845700211))</td></tr><tr><td>1</td><td>0</td><td>Map(vectorType -> dense, length -> 2, values -> List(1.2820590739521003, -2.5486667521841357))</td></tr><tr><td>1</td><td>0</td><td>Map(vectorType -> dense, length -> 2, values -> List(2.312212316213461, -0.4016780429615857))</td></tr><tr><td>1</td><td>0</td><td>Map(vectorType -> dense, length -> 2, values -> List(4.654989276563036, 0.7816110211582356))</td></tr><tr><td>1</td><td>0</td><td>Map(vectorType -> dense, length -> 2, values -> List(3.940006591278556, 2.0282316570124226))</td></tr><tr><td>0</td><td>1</td><td>Map(vectorType -> dense, length -> 2, values -> List(-4.945506936786711, -3.003421434951423))</td></tr><tr><td>1</td><td>0</td><td>Map(vectorType -> dense, length -> 2, values -> List(0.914998417180693, -2.476833776056108))</td></tr><tr><td>0</td><td>1</td><td>Map(vectorType -> dense, length -> 2, values -> List(-4.545111927264468, 0.8152831423276554))</td></tr><tr><td>0</td><td>1</td><td>Map(vectorType -> dense, length -> 2, values -> List(-4.43843746105249, 0.9915664239722887))</td></tr><tr><td>1</td><td>0</td><td>Map(vectorType -> dense, length -> 2, values -> List(2.193054644119214, 1.8037661137139487))</td></tr><tr><td>0</td><td>0</td><td>Map(vectorType -> dense, length -> 2, values -> List(-0.6638567906972933, -0.43647680208109413))</td></tr><tr><td>1</td><td>0</td><td>Map(vectorType -> dense, length -> 2, values -> List(2.2389060523360547, 0.4541898722408363))</td></tr><tr><td>1</td><td>0</td><td>Map(vectorType -> dense, length -> 2, values -> List(2.123312146064986, 1.1937465406902616))</td></tr><tr><td>1</td><td>0</td><td>Map(vectorType -> dense, length -> 2, values -> List(2.613018230636058, 1.830449829701576))</td></tr><tr><td>1</td><td>0</td><td>Map(vectorType -> dense, length -> 2, values -> List(3.2081451461269004, 2.233177743167421))</td></tr><tr><td>1</td><td>0</td><td>Map(vectorType -> dense, length -> 2, values -> List(0.30648072797555426, -2.1830779549000954))</td></tr><tr><td>0</td><td>1</td><td>Map(vectorType -> dense, length -> 2, values -> List(-2.4701834157673517, 1.4985062241646343))</td></tr><tr><td>1</td><td>0</td><td>Map(vectorType -> dense, length -> 2, values -> List(3.4516812564733845, 2.134583339853946))</td></tr><tr><td>1</td><td>0</td><td>Map(vectorType -> dense, length -> 2, values -> List(3.897097812804002, -0.7301335297261968))</td></tr><tr><td>0</td><td>0</td><td>Map(vectorType -> dense, length -> 2, values -> List(-0.9808644845488861, 2.208486711616481))</td></tr><tr><td>1</td><td>0</td><td>Map(vectorType -> dense, length -> 2, values -> List(1.2561462947029458, -1.066752884858787))</td></tr><tr><td>0</td><td>1</td><td>Map(vectorType -> dense, length -> 2, values -> List(-3.2425605374516238, 1.7767952397711555))</td></tr><tr><td>1</td><td>0</td><td>Map(vectorType -> dense, length -> 2, values -> List(1.555850428173458, 1.0370146428298208))</td></tr><tr><td>1</td><td>0</td><td>Map(vectorType -> dense, length -> 2, values -> List(1.248159847609764, 1.5874420077235567))</td></tr><tr><td>0</td><td>1</td><td>Map(vectorType -> dense, length -> 2, values -> List(-4.327845296903541, 4.045772564967691))</td></tr><tr><td>1</td><td>0</td><td>Map(vectorType -> dense, length -> 2, values -> List(1.0765041197499041, -1.8020325644596087))</td></tr><tr><td>0</td><td>1</td><td>Map(vectorType -> dense, length -> 2, values -> List(-2.50954496723855, 2.526584455419936))</td></tr><tr><td>1</td><td>0</td><td>Map(vectorType -> dense, length -> 2, values -> List(2.2151432129344313, -0.029865010034000328))</td></tr><tr><td>1</td><td>0</td><td>Map(vectorType -> dense, length -> 2, values -> List(1.1727987075491468, 0.47442206362079425))</td></tr><tr><td>1</td><td>0</td><td>Map(vectorType -> dense, length -> 2, values -> List(2.833807992032256, 1.0172307504970854))</td></tr><tr><td>1</td><td>0</td><td>Map(vectorType -> dense, length -> 2, values -> List(1.855453295571189, 1.5700116743471624))</td></tr><tr><td>1</td><td>0</td><td>Map(vectorType -> dense, length -> 2, values -> List(1.3274463600967459, -0.7764124994109081))</td></tr><tr><td>1</td><td>0</td><td>Map(vectorType -> dense, length -> 2, values -> List(2.800307381480742, 1.664836753413479))</td></tr><tr><td>1</td><td>0</td><td>Map(vectorType -> dense, length -> 2, values -> List(3.1717779665128187, 2.073908798274623))</td></tr><tr><td>1</td><td>0</td><td>Map(vectorType -> dense, length -> 2, values -> List(4.083484325194264, 0.48428396052725586))</td></tr><tr><td>0</td><td>1</td><td>Map(vectorType -> dense, length -> 2, values -> List(-3.4724383684210407, 1.67141372334568))</td></tr><tr><td>0</td><td>1</td><td>Map(vectorType -> dense, length -> 2, values -> List(-16.304886649594216, 7.769016888373382))</td></tr><tr><td>1</td><td>0</td><td>Map(vectorType -> dense, length -> 2, values -> List(2.557864367016561, 2.4918528797022423))</td></tr><tr><td>1</td><td>0</td><td>Map(vectorType -> dense, length -> 2, values -> List(2.9662787832842827, 0.06878661072296705))</td></tr><tr><td>1</td><td>0</td><td>Map(vectorType -> dense, length -> 2, values -> List(2.755006335869314, 1.7923416963765513))</td></tr><tr><td>1</td><td>1</td><td>Map(vectorType -> dense, length -> 2, values -> List(-1.3691351808117749, -2.1081563937309458))</td></tr><tr><td>1</td><td>0</td><td>Map(vectorType -> dense, length -> 2, values -> List(0.4172973149060333, -0.11641726210993464))</td></tr><tr><td>1</td><td>0</td><td>Map(vectorType -> dense, length -> 2, values -> List(3.835024205957114, -0.898388161674005))</td></tr><tr><td>0</td><td>1</td><td>Map(vectorType -> dense, length -> 2, values -> List(-5.9257508235346075, -1.2272168607935359))</td></tr><tr><td>1</td><td>0</td><td>Map(vectorType -> dense, length -> 2, values -> List(-0.6449111936209141, -3.4229995421977764))</td></tr><tr><td>1</td><td>0</td><td>Map(vectorType -> dense, length -> 2, values -> List(2.6814869751157433, -1.4422864689137533))</td></tr><tr><td>1</td><td>0</td><td>Map(vectorType -> dense, length -> 2, values -> List(2.0398691822622053, 0.9024618581445207))</td></tr><tr><td>1</td><td>0</td><td>Map(vectorType -> dense, length -> 2, values -> List(1.398066199236754, 1.770668243981824))</td></tr><tr><td>1</td><td>0</td><td>Map(vectorType -> dense, length -> 2, values -> List(3.5333063582933635, 1.24575801773039))</td></tr><tr><td>1</td><td>0</td><td>Map(vectorType -> dense, length -> 2, values -> List(1.9887795302556113, -1.89779269317917))</td></tr><tr><td>1</td><td>0</td><td>Map(vectorType -> dense, length -> 2, values -> List(1.996428720313028, 0.20618971131568076))</td></tr><tr><td>1</td><td>0</td><td>Map(vectorType -> dense, length -> 2, values -> List(0.5202003908111569, 0.9725121025461498))</td></tr><tr><td>1</td><td>0</td><td>Map(vectorType -> dense, length -> 2, values -> List(3.1695815905766174, 2.0872157681880967))</td></tr><tr><td>1</td><td>0</td><td>Map(vectorType -> dense, length -> 2, values -> List(2.200773740164568, -1.2849087344346048))</td></tr><tr><td>0</td><td>1</td><td>Map(vectorType -> dense, length -> 2, values -> List(-3.821070903352409, -2.3032097346083917))</td></tr><tr><td>1</td><td>0</td><td>Map(vectorType -> dense, length -> 2, values -> List(2.982860087893478, 0.6727472975250199))</td></tr><tr><td>1</td><td>0</td><td>Map(vectorType -> dense, length -> 2, values -> List(2.4788739595090217, 2.361880554620532))</td></tr><tr><td>1</td><td>0</td><td>Map(vectorType -> dense, length -> 2, values -> List(1.2709931213159007, -0.5093856426258698))</td></tr><tr><td>1</td><td>0</td><td>Map(vectorType -> dense, length -> 2, values -> List(2.2331919146098254, 1.297562775248254))</td></tr><tr><td>1</td><td>0</td><td>Map(vectorType -> dense, length -> 2, values -> List(0.056133712562133314, 0.22718349542905497))</td></tr><tr><td>1</td><td>1</td><td>Map(vectorType -> dense, length -> 2, values -> List(-2.3153533394197727, -4.385275754541184))</td></tr><tr><td>1</td><td>0</td><td>Map(vectorType -> dense, length -> 2, values -> List(2.2823230571574515, 2.464672104779668))</td></tr><tr><td>0</td><td>1</td><td>Map(vectorType -> dense, length -> 2, values -> List(-4.750434988655813, 1.4881141767755597))</td></tr><tr><td>1</td><td>0</td><td>Map(vectorType -> dense, length -> 2, values -> List(1.7247932814230538, -0.9973003162547251))</td></tr><tr><td>0</td><td>0</td><td>Map(vectorType -> dense, length -> 2, values -> List(0.7411296510979193, 2.449879330556573))</td></tr><tr><td>1</td><td>0</td><td>Map(vectorType -> dense, length -> 2, values -> List(2.891766211587366, 0.977084587771863))</td></tr><tr><td>1</td><td>0</td><td>Map(vectorType -> dense, length -> 2, values -> List(1.6530673209399034, 4.551659142222769))</td></tr><tr><td>0</td><td>1</td><td>Map(vectorType -> dense, length -> 2, values -> List(-3.1007913344299807, 1.235066483028626))</td></tr><tr><td>1</td><td>0</td><td>Map(vectorType -> dense, length -> 2, values -> List(4.060697611933903, 0.5604610750609345))</td></tr><tr><td>1</td><td>0</td><td>Map(vectorType -> dense, length -> 2, values -> List(2.790874981685018, 1.076940538969515))</td></tr><tr><td>1</td><td>0</td><td>Map(vectorType -> dense, length -> 2, values -> List(1.4736233044459313, 1.5896954369820397))</td></tr><tr><td>1</td><td>0</td><td>Map(vectorType -> dense, length -> 2, values -> List(0.2291929713893269, -1.5145707554059142))</td></tr><tr><td>1</td><td>0</td><td>Map(vectorType -> dense, length -> 2, values -> List(2.551013784403687, 0.7632289241818467))</td></tr><tr><td>0</td><td>1</td><td>Map(vectorType -> dense, length -> 2, values -> List(-3.712438548894881, 1.0577555061741135))</td></tr><tr><td>0</td><td>1</td><td>Map(vectorType -> dense, length -> 2, values -> List(-5.0903628610901865, 2.017432705941421))</td></tr><tr><td>1</td><td>0</td><td>Map(vectorType -> dense, length -> 2, values -> List(0.6000880992881495, 0.8377175598703596))</td></tr><tr><td>0</td><td>1</td><td>Map(vectorType -> dense, length -> 2, values -> List(-2.7879467302084433, -3.382584454086203))</td></tr><tr><td>1</td><td>0</td><td>Map(vectorType -> dense, length -> 2, values -> List(1.4075327339711794, -1.5044468375239244))</td></tr><tr><td>0</td><td>1</td><td>Map(vectorType -> dense, length -> 2, values -> List(-7.252797143875283, 5.49090430233696))</td></tr><tr><td>1</td><td>1</td><td>Map(vectorType -> dense, length -> 2, values -> List(-1.2977246878630824, -7.7230573252406876))</td></tr><tr><td>1</td><td>0</td><td>Map(vectorType -> dense, length -> 2, values -> List(-1.0757467319114502, -8.28748333708094))</td></tr><tr><td>1</td><td>0</td><td>Map(vectorType -> dense, length -> 2, values -> List(1.2486618339884528, -1.5942810552468651))</td></tr><tr><td>1</td><td>0</td><td>Map(vectorType -> dense, length -> 2, values -> List(1.2558234134005026, -4.113567176044441))</td></tr><tr><td>1</td><td>0</td><td>Map(vectorType -> dense, length -> 2, values -> List(1.1655096888161074, 1.664229389288278))</td></tr><tr><td>0</td><td>1</td><td>Map(vectorType -> dense, length -> 2, values -> List(-4.090543310340465, -2.8004631372638533))</td></tr><tr><td>1</td><td>0</td><td>Map(vectorType -> dense, length -> 2, values -> List(1.8859797779694114, -1.670721679773254))</td></tr><tr><td>1</td><td>0</td><td>Map(vectorType -> dense, length -> 2, values -> List(2.7650027918677633, 2.1591489715386922))</td></tr><tr><td>0</td><td>1</td><td>Map(vectorType -> dense, length -> 2, values -> List(-2.2250366914743682, -1.939927827030339))</td></tr><tr><td>1</td><td>0</td><td>Map(vectorType -> dense, length -> 2, values -> List(1.130582097681733, 1.4097615238920558))</td></tr><tr><td>0</td><td>0</td><td>Map(vectorType -> dense, length -> 2, values -> List(0.7331273774331185, 1.9419884383163164))</td></tr><tr><td>1</td><td>0</td><td>Map(vectorType -> dense, length -> 2, values -> List(2.331619157745097, -0.7894519727749363))</td></tr><tr><td>0</td><td>1</td><td>Map(vectorType -> dense, length -> 2, values -> List(-2.6948525682230757, 1.9420011894412628))</td></tr><tr><td>0</td><td>1</td><td>Map(vectorType -> dense, length -> 2, values -> List(-3.3760441048029453, 2.331377578459931))</td></tr><tr><td>1</td><td>0</td><td>Map(vectorType -> dense, length -> 2, values -> List(0.19969486970744776, -1.0754137523919416))</td></tr><tr><td>1</td><td>0</td><td>Map(vectorType -> dense, length -> 2, values -> List(1.1749920441007746, -1.0104810609185944))</td></tr><tr><td>1</td><td>0</td><td>Map(vectorType -> dense, length -> 2, values -> List(1.2915001552911294, -4.95986054770475))</td></tr><tr><td>0</td><td>1</td><td>Map(vectorType -> dense, length -> 2, values -> List(-8.62316837995109, 3.4564106380793023))</td></tr><tr><td>1</td><td>0</td><td>Map(vectorType -> dense, length -> 2, values -> List(4.425562342734112, 0.7853450148775316))</td></tr><tr><td>1</td><td>0</td><td>Map(vectorType -> dense, length -> 2, values -> List(0.6192938271623817, -0.6357898420661944))</td></tr><tr><td>1</td><td>0</td><td>Map(vectorType -> dense, length -> 2, values -> List(3.249456589361688, -1.2847946773825833))</td></tr><tr><td>1</td><td>0</td><td>Map(vectorType -> dense, length -> 2, values -> List(3.3499794247879007, -2.6709504428938526))</td></tr><tr><td>1</td><td>0</td><td>Map(vectorType -> dense, length -> 2, values -> List(0.8590471150995695, -0.09676338102649315))</td></tr><tr><td>1</td><td>0</td><td>Map(vectorType -> dense, length -> 2, values -> List(3.153846915866264, 0.8707764321748559))</td></tr><tr><td>1</td><td>0</td><td>Map(vectorType -> dense, length -> 2, values -> List(-0.34622347304999, -1.5398703522206656))</td></tr><tr><td>1</td><td>0</td><td>Map(vectorType -> dense, length -> 2, values -> List(2.4592427765273936, -0.6003197511282811))</td></tr><tr><td>1</td><td>0</td><td>Map(vectorType -> dense, length -> 2, values -> List(1.5287555778359285, -0.4048615538044331))</td></tr><tr><td>1</td><td>0</td><td>Map(vectorType -> dense, length -> 2, values -> List(1.7720258700967124, -0.803503014434994))</td></tr><tr><td>1</td><td>0</td><td>Map(vectorType -> dense, length -> 2, values -> List(2.678085191313472, 1.4834036616823287))</td></tr><tr><td>0</td><td>1</td><td>Map(vectorType -> dense, length -> 2, values -> List(-4.0248937788414745, 2.9388442248977937))</td></tr><tr><td>1</td><td>0</td><td>Map(vectorType -> dense, length -> 2, values -> List(2.1344731172656486, -1.517245622815041))</td></tr><tr><td>0</td><td>1</td><td>Map(vectorType -> dense, length -> 2, values -> List(-5.160869926813539, 2.3801089865141543))</td></tr><tr><td>0</td><td>0</td><td>Map(vectorType -> dense, length -> 2, values -> List(-0.5354608003698782, -0.3803804509380937))</td></tr><tr><td>1</td><td>0</td><td>Map(vectorType -> dense, length -> 2, values -> List(-0.3428217359545053, -3.5313738153028877))</td></tr><tr><td>1</td><td>0</td><td>Map(vectorType -> dense, length -> 2, values -> List(4.193390244985366, -2.3653110586351427))</td></tr><tr><td>1</td><td>0</td><td>Map(vectorType -> dense, length -> 2, values -> List(1.1418271770489359, -5.594535868456152))</td></tr><tr><td>1</td><td>0</td><td>Map(vectorType -> dense, length -> 2, values -> List(1.664010998953224, -2.3875173612100076))</td></tr><tr><td>1</td><td>0</td><td>Map(vectorType -> dense, length -> 2, values -> List(-1.0108230779795002, -1.091429306814634))</td></tr><tr><td>1</td><td>0</td><td>Map(vectorType -> dense, length -> 2, values -> List(1.2997860372752292, 1.8198140572884016))</td></tr><tr><td>1</td><td>0</td><td>Map(vectorType -> dense, length -> 2, values -> List(2.3713421938590287, 1.6800979291229732))</td></tr><tr><td>1</td><td>0</td><td>Map(vectorType -> dense, length -> 2, values -> List(1.6644065095239404, 0.21377464094397797))</td></tr><tr><td>1</td><td>0</td><td>Map(vectorType -> dense, length -> 2, values -> List(1.9259835298962638, 1.1367397049354833))</td></tr><tr><td>1</td><td>0</td><td>Map(vectorType -> dense, length -> 2, values -> List(4.233491591622636, -0.18411049913664243))</td></tr><tr><td>1</td><td>0</td><td>Map(vectorType -> dense, length -> 2, values -> List(2.67551654832496, -2.313756960760067))</td></tr><tr><td>1</td><td>0</td><td>Map(vectorType -> dense, length -> 2, values -> List(3.8331251057796765, -0.4958136647931506))</td></tr><tr><td>1</td><td>0</td><td>Map(vectorType -> dense, length -> 2, values -> List(2.549197271080616, -0.22812922776495775))</td></tr><tr><td>1</td><td>0</td><td>Map(vectorType -> dense, length -> 2, values -> List(4.690796039132359, 0.7668032380496332))</td></tr><tr><td>1</td><td>0</td><td>Map(vectorType -> dense, length -> 2, values -> List(2.023256911330983, -1.2601331159344544))</td></tr><tr><td>1</td><td>0</td><td>Map(vectorType -> dense, length -> 2, values -> List(2.893402316494323, 1.4503596008448243))</td></tr><tr><td>1</td><td>0</td><td>Map(vectorType -> dense, length -> 2, values -> List(3.499122181891035, -1.7992493424731142))</td></tr><tr><td>1</td><td>0</td><td>Map(vectorType -> dense, length -> 2, values -> List(2.1520101253443116, 0.8293390875025686))</td></tr><tr><td>1</td><td>0</td><td>Map(vectorType -> dense, length -> 2, values -> List(2.053277400329513, -1.6150382046289566))</td></tr><tr><td>1</td><td>0</td><td>Map(vectorType -> dense, length -> 2, values -> List(3.87388097251528, -1.0833015533293562))</td></tr><tr><td>1</td><td>0</td><td>Map(vectorType -> dense, length -> 2, values -> List(4.060289488002569, -0.1220610343738378))</td></tr><tr><td>1</td><td>0</td><td>Map(vectorType -> dense, length -> 2, values -> List(0.09858059215940665, 0.21337209338157492))</td></tr><tr><td>1</td><td>0</td><td>Map(vectorType -> dense, length -> 2, values -> List(1.0884184965311121, -1.2917113284606192))</td></tr><tr><td>1</td><td>0</td><td>Map(vectorType -> dense, length -> 2, values -> List(0.48134742985143564, 0.17786319025918332))</td></tr><tr><td>1</td><td>0</td><td>Map(vectorType -> dense, length -> 2, values -> List(4.866027926474258, 2.1292326072497127))</td></tr><tr><td>0</td><td>1</td><td>Map(vectorType -> dense, length -> 2, values -> List(-5.912410291355404, -3.4795749998679417))</td></tr><tr><td>0</td><td>1</td><td>Map(vectorType -> dense, length -> 2, values -> List(-8.73365338296719, 0.5733501846849253))</td></tr><tr><td>0</td><td>1</td><td>Map(vectorType -> dense, length -> 2, values -> List(-6.4336545461706285, 3.573672988510644))</td></tr><tr><td>0</td><td>1</td><td>Map(vectorType -> dense, length -> 2, values -> List(-3.790047527744144, 3.580897052024049))</td></tr><tr><td>0</td><td>1</td><td>Map(vectorType -> dense, length -> 2, values -> List(-1.2550749425072116, 1.900624363993427))</td></tr><tr><td>0</td><td>1</td><td>Map(vectorType -> dense, length -> 2, values -> List(-10.365673359932295, -1.6705402060588808))</td></tr><tr><td>1</td><td>0</td><td>Map(vectorType -> dense, length -> 2, values -> List(5.470429900908385, 0.6700472198383458))</td></tr></tbody></table></div>"
      ]
     },
     "metadata": {
      "application/vnd.databricks.v1+output": {
       "addedWidgets": {},
       "aggData": [],
       "aggError": "",
       "aggOverflow": false,
       "aggSchema": [],
       "aggSeriesLimitReached": false,
       "aggType": "",
       "arguments": {},
       "columnCustomDisplayInfos": {},
       "data": [
        [
         "0",
         1,
         {
          "length": 2,
          "values": [
           -9.184755209858798,
           -1.9468700303852997
          ],
          "vectorType": "dense"
         }
        ],
        [
         "0",
         1,
         {
          "length": 2,
          "values": [
           -2.385702628982577,
           3.764859062972658
          ],
          "vectorType": "dense"
         }
        ],
        [
         "0",
         1,
         {
          "length": 2,
          "values": [
           -5.728855490819108,
           1.0742285887048915
          ],
          "vectorType": "dense"
         }
        ],
        [
         "0",
         1,
         {
          "length": 2,
          "values": [
           -7.116691259621306,
           -10.266555635124405
          ],
          "vectorType": "dense"
         }
        ],
        [
         "0",
         1,
         {
          "length": 2,
          "values": [
           -3.931842466790753,
           1.9463589770798275
          ],
          "vectorType": "dense"
         }
        ],
        [
         "0",
         1,
         {
          "length": 2,
          "values": [
           -2.3781546249740986,
           -3.9464564299158127
          ],
          "vectorType": "dense"
         }
        ],
        [
         "0",
         1,
         {
          "length": 2,
          "values": [
           -2.236915058609935,
           2.6876664141795787
          ],
          "vectorType": "dense"
         }
        ],
        [
         "0",
         1,
         {
          "length": 2,
          "values": [
           -2.1414142815514485,
           -2.3381866491831156
          ],
          "vectorType": "dense"
         }
        ],
        [
         "0",
         1,
         {
          "length": 2,
          "values": [
           -3.172133150308517,
           -3.3888311376864144
          ],
          "vectorType": "dense"
         }
        ],
        [
         "0",
         1,
         {
          "length": 2,
          "values": [
           -6.346162835225129,
           -7.720380945492959
          ],
          "vectorType": "dense"
         }
        ],
        [
         "0",
         0,
         {
          "length": 2,
          "values": [
           0.8097013190408896,
           2.656937672621719
          ],
          "vectorType": "dense"
         }
        ],
        [
         "0",
         1,
         {
          "length": 2,
          "values": [
           -2.6487698390097,
           -0.06650940530101429
          ],
          "vectorType": "dense"
         }
        ],
        [
         "0",
         1,
         {
          "length": 2,
          "values": [
           -8.177838822068551,
           -2.6986020073253876
          ],
          "vectorType": "dense"
         }
        ],
        [
         "0",
         0,
         {
          "length": 2,
          "values": [
           -0.34182514389774243,
           0.9674280261783395
          ],
          "vectorType": "dense"
         }
        ],
        [
         "0",
         1,
         {
          "length": 2,
          "values": [
           -4.338561717694848,
           -4.856809831831542
          ],
          "vectorType": "dense"
         }
        ],
        [
         "0",
         1,
         {
          "length": 2,
          "values": [
           -4.07207318021357,
           -2.9744439832196963
          ],
          "vectorType": "dense"
         }
        ],
        [
         "0",
         0,
         {
          "length": 2,
          "values": [
           -0.22985276950326078,
           1.563382113820491
          ],
          "vectorType": "dense"
         }
        ],
        [
         "0",
         1,
         {
          "length": 2,
          "values": [
           -4.414126949591796,
           -1.4174231504677404
          ],
          "vectorType": "dense"
         }
        ],
        [
         "0",
         1,
         {
          "length": 2,
          "values": [
           -4.944353041108302,
           4.110716527760167
          ],
          "vectorType": "dense"
         }
        ],
        [
         "1",
         0,
         {
          "length": 2,
          "values": [
           1.235975828519116,
           0.18804949002889026
          ],
          "vectorType": "dense"
         }
        ],
        [
         "1",
         0,
         {
          "length": 2,
          "values": [
           1.5767738400518536,
           -0.5723046247698896
          ],
          "vectorType": "dense"
         }
        ],
        [
         "1",
         0,
         {
          "length": 2,
          "values": [
           3.5542090442654697,
           -1.6614879693604343
          ],
          "vectorType": "dense"
         }
        ],
        [
         "0",
         1,
         {
          "length": 2,
          "values": [
           -4.729049722976225,
           -3.3020582651138817
          ],
          "vectorType": "dense"
         }
        ],
        [
         "0",
         1,
         {
          "length": 2,
          "values": [
           -4.204824406832293,
           5.123858058987457
          ],
          "vectorType": "dense"
         }
        ],
        [
         "0",
         1,
         {
          "length": 2,
          "values": [
           -4.945280748242438,
           1.5423951430023812
          ],
          "vectorType": "dense"
         }
        ],
        [
         "0",
         1,
         {
          "length": 2,
          "values": [
           -7.092322358888266,
           -2.0168357342714707
          ],
          "vectorType": "dense"
         }
        ],
        [
         "0",
         1,
         {
          "length": 2,
          "values": [
           -3.5071766582289667,
           -2.1697159942950077
          ],
          "vectorType": "dense"
         }
        ],
        [
         "0",
         1,
         {
          "length": 2,
          "values": [
           -3.061360211796454,
           1.874902631018983
          ],
          "vectorType": "dense"
         }
        ],
        [
         "0",
         1,
         {
          "length": 2,
          "values": [
           -4.003741273398027,
           -0.5367698596377992
          ],
          "vectorType": "dense"
         }
        ],
        [
         "0",
         1,
         {
          "length": 2,
          "values": [
           -1.7138017616568975,
           1.5223655018101776
          ],
          "vectorType": "dense"
         }
        ],
        [
         "0",
         1,
         {
          "length": 2,
          "values": [
           -6.0541185274085345,
           0.7565118002441548
          ],
          "vectorType": "dense"
         }
        ],
        [
         "0",
         1,
         {
          "length": 2,
          "values": [
           -2.899684688150535,
           -4.001774372782243
          ],
          "vectorType": "dense"
         }
        ],
        [
         "0",
         1,
         {
          "length": 2,
          "values": [
           -4.550778483480172,
           -0.33723941876735425
          ],
          "vectorType": "dense"
         }
        ],
        [
         "0",
         1,
         {
          "length": 2,
          "values": [
           -4.98621537857523,
           1.1315932229451566
          ],
          "vectorType": "dense"
         }
        ],
        [
         "0",
         1,
         {
          "length": 2,
          "values": [
           -2.9827163130446697,
           -0.7577564966701601
          ],
          "vectorType": "dense"
         }
        ],
        [
         "0",
         1,
         {
          "length": 2,
          "values": [
           -2.7639371844217004,
           0.3540444207048967
          ],
          "vectorType": "dense"
         }
        ],
        [
         "0",
         1,
         {
          "length": 2,
          "values": [
           -1.295059249402728,
           -0.9123934661705099
          ],
          "vectorType": "dense"
         }
        ],
        [
         "1",
         0,
         {
          "length": 2,
          "values": [
           3.746017295612612,
           1.4122305036725344
          ],
          "vectorType": "dense"
         }
        ],
        [
         "0",
         0,
         {
          "length": 2,
          "values": [
           0.9971914775009062,
           3.3483467310234842
          ],
          "vectorType": "dense"
         }
        ],
        [
         "0",
         0,
         {
          "length": 2,
          "values": [
           -0.764591355604326,
           -0.8854648371667375
          ],
          "vectorType": "dense"
         }
        ],
        [
         "0",
         0,
         {
          "length": 2,
          "values": [
           2.149062522258757,
           1.922300194308556
          ],
          "vectorType": "dense"
         }
        ],
        [
         "0",
         0,
         {
          "length": 2,
          "values": [
           0.09324933698075474,
           -2.2587645315178184
          ],
          "vectorType": "dense"
         }
        ],
        [
         "0",
         1,
         {
          "length": 2,
          "values": [
           -9.080010225451238,
           -2.016898441324291
          ],
          "vectorType": "dense"
         }
        ],
        [
         "0",
         0,
         {
          "length": 2,
          "values": [
           -0.9895830367496765,
           -0.9840641476689251
          ],
          "vectorType": "dense"
         }
        ],
        [
         "0",
         0,
         {
          "length": 2,
          "values": [
           0.2932884879762997,
           0.13697856412444143
          ],
          "vectorType": "dense"
         }
        ],
        [
         "0",
         1,
         {
          "length": 2,
          "values": [
           -5.376209908961654,
           0.13475840449503856
          ],
          "vectorType": "dense"
         }
        ],
        [
         "1",
         0,
         {
          "length": 2,
          "values": [
           4.577908595212511,
           -1.4829155084495484
          ],
          "vectorType": "dense"
         }
        ],
        [
         "0",
         1,
         {
          "length": 2,
          "values": [
           -1.6985123749994018,
           -2.350203862012345
          ],
          "vectorType": "dense"
         }
        ],
        [
         "1",
         0,
         {
          "length": 2,
          "values": [
           2.1345670832706904,
           -0.09574536366108702
          ],
          "vectorType": "dense"
         }
        ],
        [
         "1",
         0,
         {
          "length": 2,
          "values": [
           1.566100993427759,
           1.2073708547187902
          ],
          "vectorType": "dense"
         }
        ],
        [
         "1",
         0,
         {
          "length": 2,
          "values": [
           3.539790914613369,
           1.281368109614397
          ],
          "vectorType": "dense"
         }
        ],
        [
         "1",
         0,
         {
          "length": 2,
          "values": [
           3.155037949380859,
           1.6874737964866235
          ],
          "vectorType": "dense"
         }
        ],
        [
         "1",
         0,
         {
          "length": 2,
          "values": [
           3.4474551464077874,
           0.49778071959150105
          ],
          "vectorType": "dense"
         }
        ],
        [
         "0",
         1,
         {
          "length": 2,
          "values": [
           -3.2996476093220637,
           1.1299435737147892
          ],
          "vectorType": "dense"
         }
        ],
        [
         "0",
         0,
         {
          "length": 2,
          "values": [
           0.6740262135577757,
           2.114549136533497
          ],
          "vectorType": "dense"
         }
        ],
        [
         "1",
         0,
         {
          "length": 2,
          "values": [
           2.8556457728003637,
           -0.15258887411272043
          ],
          "vectorType": "dense"
         }
        ],
        [
         "0",
         1,
         {
          "length": 2,
          "values": [
           -4.644652068242386,
           2.3083015082587246
          ],
          "vectorType": "dense"
         }
        ],
        [
         "0",
         1,
         {
          "length": 2,
          "values": [
           -2.174949156248412,
           -0.9712614383238205
          ],
          "vectorType": "dense"
         }
        ],
        [
         "1",
         0,
         {
          "length": 2,
          "values": [
           3.718187379898406,
           1.7860700970608108
          ],
          "vectorType": "dense"
         }
        ],
        [
         "1",
         0,
         {
          "length": 2,
          "values": [
           4.132326931707893,
           -2.4016792608874233
          ],
          "vectorType": "dense"
         }
        ],
        [
         "1",
         0,
         {
          "length": 2,
          "values": [
           2.383738224783428,
           -2.7552338144184616
          ],
          "vectorType": "dense"
         }
        ],
        [
         "1",
         0,
         {
          "length": 2,
          "values": [
           2.5766161014186637,
           -3.1359126501904933
          ],
          "vectorType": "dense"
         }
        ],
        [
         "0",
         1,
         {
          "length": 2,
          "values": [
           -4.7549283181968045,
           -3.0090328746490678
          ],
          "vectorType": "dense"
         }
        ],
        [
         "1",
         0,
         {
          "length": 2,
          "values": [
           2.3120978470008,
           -3.2651167207221268
          ],
          "vectorType": "dense"
         }
        ],
        [
         "0",
         1,
         {
          "length": 2,
          "values": [
           -1.690120795036984,
           -1.5393221159132306
          ],
          "vectorType": "dense"
         }
        ],
        [
         "0",
         1,
         {
          "length": 2,
          "values": [
           -1.8107121691780637,
           -0.7221048150632118
          ],
          "vectorType": "dense"
         }
        ],
        [
         "1",
         0,
         {
          "length": 2,
          "values": [
           2.7834755915717917,
           -2.308617372387838
          ],
          "vectorType": "dense"
         }
        ],
        [
         "1",
         0,
         {
          "length": 2,
          "values": [
           3.5155550218280442,
           0.657730735549507
          ],
          "vectorType": "dense"
         }
        ],
        [
         "1",
         1,
         {
          "length": 2,
          "values": [
           -4.326196052613209,
           -9.194435551699886
          ],
          "vectorType": "dense"
         }
        ],
        [
         "1",
         0,
         {
          "length": 2,
          "values": [
           3.2584124133410364,
           0.9370136471243264
          ],
          "vectorType": "dense"
         }
        ],
        [
         "0",
         1,
         {
          "length": 2,
          "values": [
           -2.702218505205821,
           4.433240984891397
          ],
          "vectorType": "dense"
         }
        ],
        [
         "1",
         0,
         {
          "length": 2,
          "values": [
           0.3075851279890566,
           -7.381317395929899
          ],
          "vectorType": "dense"
         }
        ],
        [
         "0",
         1,
         {
          "length": 2,
          "values": [
           -5.498866892103152,
           -0.9375005134764515
          ],
          "vectorType": "dense"
         }
        ],
        [
         "0",
         0,
         {
          "length": 2,
          "values": [
           0.36139120652866014,
           -0.1196338211958474
          ],
          "vectorType": "dense"
         }
        ],
        [
         "1",
         0,
         {
          "length": 2,
          "values": [
           2.627664570741694,
           0.6966963492687757
          ],
          "vectorType": "dense"
         }
        ],
        [
         "0",
         1,
         {
          "length": 2,
          "values": [
           -1.4269120607028623,
           1.9653720916439372
          ],
          "vectorType": "dense"
         }
        ],
        [
         "1",
         0,
         {
          "length": 2,
          "values": [
           0.8337842392556142,
           -1.9638768597292673
          ],
          "vectorType": "dense"
         }
        ],
        [
         "0",
         1,
         {
          "length": 2,
          "values": [
           -6.225418799624563,
           -0.9192606901744491
          ],
          "vectorType": "dense"
         }
        ],
        [
         "0",
         1,
         {
          "length": 2,
          "values": [
           -11.658456435666892,
           -4.7444425930734235
          ],
          "vectorType": "dense"
         }
        ],
        [
         "1",
         0,
         {
          "length": 2,
          "values": [
           2.0198004469637176,
           0.25467574616148353
          ],
          "vectorType": "dense"
         }
        ],
        [
         "1",
         0,
         {
          "length": 2,
          "values": [
           1.6369445986800977,
           -1.7144405868911354
          ],
          "vectorType": "dense"
         }
        ],
        [
         "1",
         1,
         {
          "length": 2,
          "values": [
           -1.1664352709963526,
           -2.5123052861935284
          ],
          "vectorType": "dense"
         }
        ],
        [
         "0",
         1,
         {
          "length": 2,
          "values": [
           -10.759775351229562,
           2.25599785781172
          ],
          "vectorType": "dense"
         }
        ],
        [
         "0",
         1,
         {
          "length": 2,
          "values": [
           -5.030384877079519,
           -0.7737283569771864
          ],
          "vectorType": "dense"
         }
        ],
        [
         "1",
         0,
         {
          "length": 2,
          "values": [
           2.1725526922012715,
           -0.496441168924977
          ],
          "vectorType": "dense"
         }
        ],
        [
         "0",
         1,
         {
          "length": 2,
          "values": [
           -3.285344627777663,
           1.6667704797343097
          ],
          "vectorType": "dense"
         }
        ],
        [
         "0",
         0,
         {
          "length": 2,
          "values": [
           -0.607073784243589,
           -0.16207191874894683
          ],
          "vectorType": "dense"
         }
        ],
        [
         "0",
         1,
         {
          "length": 2,
          "values": [
           -3.5804132398493693,
           2.2047219162839213
          ],
          "vectorType": "dense"
         }
        ],
        [
         "1",
         0,
         {
          "length": 2,
          "values": [
           0.9333368663416973,
           -0.9268859190310914
          ],
          "vectorType": "dense"
         }
        ],
        [
         "1",
         1,
         {
          "length": 2,
          "values": [
           -1.2584973023904544,
           -1.014684255071954
          ],
          "vectorType": "dense"
         }
        ],
        [
         "1",
         0,
         {
          "length": 2,
          "values": [
           1.5868676958892003,
           1.6182329540103404
          ],
          "vectorType": "dense"
         }
        ],
        [
         "0",
         0,
         {
          "length": 2,
          "values": [
           -0.2522755916003695,
           0.530884424915292
          ],
          "vectorType": "dense"
         }
        ],
        [
         "1",
         0,
         {
          "length": 2,
          "values": [
           2.844928349652454,
           2.8911037319207855
          ],
          "vectorType": "dense"
         }
        ],
        [
         "1",
         0,
         {
          "length": 2,
          "values": [
           1.9632226839332967,
           0.9643084982548302
          ],
          "vectorType": "dense"
         }
        ],
        [
         "0",
         1,
         {
          "length": 2,
          "values": [
           -2.773425247151511,
           -0.557509976757413
          ],
          "vectorType": "dense"
         }
        ],
        [
         "0",
         1,
         {
          "length": 2,
          "values": [
           -4.392363138171209,
           2.1216408918292844
          ],
          "vectorType": "dense"
         }
        ],
        [
         "1",
         0,
         {
          "length": 2,
          "values": [
           2.589804073230505,
           -0.21344611982789297
          ],
          "vectorType": "dense"
         }
        ],
        [
         "1",
         0,
         {
          "length": 2,
          "values": [
           3.900905764302463,
           -1.1890204211664386
          ],
          "vectorType": "dense"
         }
        ],
        [
         "1",
         0,
         {
          "length": 2,
          "values": [
           2.8157536467617743,
           -0.36756056672604126
          ],
          "vectorType": "dense"
         }
        ],
        [
         "0",
         0,
         {
          "length": 2,
          "values": [
           -0.6157390843403041,
           -0.6383499883109449
          ],
          "vectorType": "dense"
         }
        ],
        [
         "0",
         0,
         {
          "length": 2,
          "values": [
           0.43247968428512473,
           1.390820523329051
          ],
          "vectorType": "dense"
         }
        ],
        [
         "1",
         0,
         {
          "length": 2,
          "values": [
           4.551024418715486,
           -3.5256837878131457
          ],
          "vectorType": "dense"
         }
        ],
        [
         "1",
         0,
         {
          "length": 2,
          "values": [
           3.445152170485421,
           1.4233700401235052
          ],
          "vectorType": "dense"
         }
        ],
        [
         "1",
         0,
         {
          "length": 2,
          "values": [
           2.1141000788234177,
           -1.8477477817558619
          ],
          "vectorType": "dense"
         }
        ],
        [
         "1",
         0,
         {
          "length": 2,
          "values": [
           2.688986180588338,
           -1.4188133337752493
          ],
          "vectorType": "dense"
         }
        ],
        [
         "0",
         1,
         {
          "length": 2,
          "values": [
           -3.2110913432991848,
           -4.043198634073635
          ],
          "vectorType": "dense"
         }
        ],
        [
         "1",
         0,
         {
          "length": 2,
          "values": [
           0.7486126561287516,
           -1.7960581752732854
          ],
          "vectorType": "dense"
         }
        ],
        [
         "1",
         0,
         {
          "length": 2,
          "values": [
           3.1562288887130996,
           1.0348388776990332
          ],
          "vectorType": "dense"
         }
        ],
        [
         "0",
         1,
         {
          "length": 2,
          "values": [
           -13.044643947118486,
           -0.9806503574605676
          ],
          "vectorType": "dense"
         }
        ],
        [
         "1",
         0,
         {
          "length": 2,
          "values": [
           2.2267205341066245,
           -0.6668239016416191
          ],
          "vectorType": "dense"
         }
        ],
        [
         "1",
         0,
         {
          "length": 2,
          "values": [
           2.4906395353764794,
           -2.5964017081976385
          ],
          "vectorType": "dense"
         }
        ],
        [
         "1",
         0,
         {
          "length": 2,
          "values": [
           0.10325956887870977,
           -2.2781390146787253
          ],
          "vectorType": "dense"
         }
        ],
        [
         "1",
         1,
         {
          "length": 2,
          "values": [
           -3.5881369364374964,
           -3.9228814330897817
          ],
          "vectorType": "dense"
         }
        ],
        [
         "1",
         0,
         {
          "length": 2,
          "values": [
           1.3477627936910612,
           -3.553098748124878
          ],
          "vectorType": "dense"
         }
        ],
        [
         "1",
         0,
         {
          "length": 2,
          "values": [
           2.507910978274425,
           -3.248461200088754
          ],
          "vectorType": "dense"
         }
        ],
        [
         "1",
         0,
         {
          "length": 2,
          "values": [
           2.0442308647877296,
           -0.3046168360404698
          ],
          "vectorType": "dense"
         }
        ],
        [
         "1",
         0,
         {
          "length": 2,
          "values": [
           2.0952255918005553,
           -3.6638720623651575
          ],
          "vectorType": "dense"
         }
        ],
        [
         "0",
         1,
         {
          "length": 2,
          "values": [
           -3.1077931629832842,
           -1.5680098728032148
          ],
          "vectorType": "dense"
         }
        ],
        [
         "0",
         1,
         {
          "length": 2,
          "values": [
           -4.952368008219316,
           -2.382749650207092
          ],
          "vectorType": "dense"
         }
        ],
        [
         "0",
         0,
         {
          "length": 2,
          "values": [
           -0.8502661181133304,
           2.304707467911811
          ],
          "vectorType": "dense"
         }
        ],
        [
         "1",
         0,
         {
          "length": 2,
          "values": [
           2.9633917342885567,
           -0.37117988308380523
          ],
          "vectorType": "dense"
         }
        ],
        [
         "0",
         1,
         {
          "length": 2,
          "values": [
           -3.331202091345631,
           1.3243920287519007
          ],
          "vectorType": "dense"
         }
        ],
        [
         "0",
         1,
         {
          "length": 2,
          "values": [
           -12.8832762090226,
           -2.314585872823187
          ],
          "vectorType": "dense"
         }
        ],
        [
         "1",
         0,
         {
          "length": 2,
          "values": [
           0.770066100541669,
           0.06405286022784357
          ],
          "vectorType": "dense"
         }
        ],
        [
         "1",
         0,
         {
          "length": 2,
          "values": [
           2.200579246024579,
           0.7349585441539866
          ],
          "vectorType": "dense"
         }
        ],
        [
         "1",
         0,
         {
          "length": 2,
          "values": [
           3.1406488057317365,
           1.8757585568762567
          ],
          "vectorType": "dense"
         }
        ],
        [
         "0",
         0,
         {
          "length": 2,
          "values": [
           0.6383188466749707,
           0.9105648277387001
          ],
          "vectorType": "dense"
         }
        ],
        [
         "0",
         1,
         {
          "length": 2,
          "values": [
           -1.9174462720607244,
           3.534971965704516
          ],
          "vectorType": "dense"
         }
        ],
        [
         "1",
         1,
         {
          "length": 2,
          "values": [
           -1.4076297975592051,
           -1.303782215446646
          ],
          "vectorType": "dense"
         }
        ],
        [
         "0",
         1,
         {
          "length": 2,
          "values": [
           -4.639608949805652,
           1.480714296902346
          ],
          "vectorType": "dense"
         }
        ],
        [
         "1",
         0,
         {
          "length": 2,
          "values": [
           1.875816842535797,
           -1.4219794520209585
          ],
          "vectorType": "dense"
         }
        ],
        [
         "0",
         1,
         {
          "length": 2,
          "values": [
           -1.4308104644206412,
           1.0486812201637816
          ],
          "vectorType": "dense"
         }
        ],
        [
         "0",
         1,
         {
          "length": 2,
          "values": [
           -1.3514379025047487,
           1.1531268416676224
          ],
          "vectorType": "dense"
         }
        ],
        [
         "1",
         0,
         {
          "length": 2,
          "values": [
           0.7084914339488595,
           1.5668536574634873
          ],
          "vectorType": "dense"
         }
        ],
        [
         "0",
         1,
         {
          "length": 2,
          "values": [
           -2.16950708077604,
           2.823776100829295
          ],
          "vectorType": "dense"
         }
        ],
        [
         "0",
         0,
         {
          "length": 2,
          "values": [
           1.9751024733516598,
           0.4190187545862016
          ],
          "vectorType": "dense"
         }
        ],
        [
         "1",
         0,
         {
          "length": 2,
          "values": [
           2.59850309522373,
           0.48191143623214344
          ],
          "vectorType": "dense"
         }
        ],
        [
         "1",
         0,
         {
          "length": 2,
          "values": [
           3.2551431766212113,
           0.417953650542393
          ],
          "vectorType": "dense"
         }
        ],
        [
         "0",
         1,
         {
          "length": 2,
          "values": [
           -3.778701596515092,
           -0.8596252179512075
          ],
          "vectorType": "dense"
         }
        ],
        [
         "1",
         0,
         {
          "length": 2,
          "values": [
           1.9902834824907458,
           -1.3281865083916466
          ],
          "vectorType": "dense"
         }
        ],
        [
         "1",
         0,
         {
          "length": 2,
          "values": [
           5.010599890275268,
           -0.5741947482063134
          ],
          "vectorType": "dense"
         }
        ],
        [
         "0",
         1,
         {
          "length": 2,
          "values": [
           -1.3438380019594123,
           1.2736502780620558
          ],
          "vectorType": "dense"
         }
        ],
        [
         "1",
         0,
         {
          "length": 2,
          "values": [
           2.4538097168107567,
           -0.8976654414043106
          ],
          "vectorType": "dense"
         }
        ],
        [
         "1",
         0,
         {
          "length": 2,
          "values": [
           1.8356664765287183,
           0.09094674191163107
          ],
          "vectorType": "dense"
         }
        ],
        [
         "1",
         0,
         {
          "length": 2,
          "values": [
           4.342668621633104,
           0.8927867080020948
          ],
          "vectorType": "dense"
         }
        ],
        [
         "1",
         0,
         {
          "length": 2,
          "values": [
           0.7321686848841821,
           -3.698927716334959
          ],
          "vectorType": "dense"
         }
        ],
        [
         "0",
         1,
         {
          "length": 2,
          "values": [
           -2.3978879545325613,
           -4.8337356419503745
          ],
          "vectorType": "dense"
         }
        ],
        [
         "1",
         0,
         {
          "length": 2,
          "values": [
           -0.3927530826218365,
           -1.0821159150961952
          ],
          "vectorType": "dense"
         }
        ],
        [
         "1",
         0,
         {
          "length": 2,
          "values": [
           0.41196532673628217,
           0.389288784006076
          ],
          "vectorType": "dense"
         }
        ],
        [
         "1",
         0,
         {
          "length": 2,
          "values": [
           3.0472436872382715,
           2.235817238795145
          ],
          "vectorType": "dense"
         }
        ],
        [
         "1",
         0,
         {
          "length": 2,
          "values": [
           1.4412955434660437,
           -0.305601552317848
          ],
          "vectorType": "dense"
         }
        ],
        [
         "1",
         0,
         {
          "length": 2,
          "values": [
           -0.08311297195894712,
           -7.144073768197734
          ],
          "vectorType": "dense"
         }
        ],
        [
         "1",
         1,
         {
          "length": 2,
          "values": [
           -7.087070838949417,
           -12.562140868978332
          ],
          "vectorType": "dense"
         }
        ],
        [
         "1",
         0,
         {
          "length": 2,
          "values": [
           3.7401136372673087,
           -0.2502813056021372
          ],
          "vectorType": "dense"
         }
        ],
        [
         "1",
         0,
         {
          "length": 2,
          "values": [
           0.9683207941410804,
           -0.9441135819226691
          ],
          "vectorType": "dense"
         }
        ],
        [
         "1",
         0,
         {
          "length": 2,
          "values": [
           2.416593560539964,
           -0.005547531739681007
          ],
          "vectorType": "dense"
         }
        ],
        [
         "0",
         1,
         {
          "length": 2,
          "values": [
           -4.0971826377870375,
           0.3784708057605489
          ],
          "vectorType": "dense"
         }
        ],
        [
         "1",
         0,
         {
          "length": 2,
          "values": [
           0.7509422555127223,
           3.0679491866145
          ],
          "vectorType": "dense"
         }
        ],
        [
         "1",
         0,
         {
          "length": 2,
          "values": [
           3.651433651563705,
           0.6740556439403642
          ],
          "vectorType": "dense"
         }
        ],
        [
         "1",
         0,
         {
          "length": 2,
          "values": [
           4.676097103502341,
           1.10288682345121
          ],
          "vectorType": "dense"
         }
        ],
        [
         "1",
         0,
         {
          "length": 2,
          "values": [
           0.5972562440800077,
           -1.7840810718355007
          ],
          "vectorType": "dense"
         }
        ],
        [
         "0",
         1,
         {
          "length": 2,
          "values": [
           -3.384352890865804,
           2.908477953178305
          ],
          "vectorType": "dense"
         }
        ],
        [
         "0",
         1,
         {
          "length": 2,
          "values": [
           -6.144479695567227,
           2.0158789937746477
          ],
          "vectorType": "dense"
         }
        ],
        [
         "1",
         0,
         {
          "length": 2,
          "values": [
           1.3238664840948287,
           -1.468002337228917
          ],
          "vectorType": "dense"
         }
        ],
        [
         "0",
         1,
         {
          "length": 2,
          "values": [
           -5.489322772303608,
           4.162167037247703
          ],
          "vectorType": "dense"
         }
        ],
        [
         "1",
         0,
         {
          "length": 2,
          "values": [
           2.9947681268795883,
           2.7364532614587054
          ],
          "vectorType": "dense"
         }
        ],
        [
         "1",
         0,
         {
          "length": 2,
          "values": [
           4.382876252034909,
           -0.006866239711844024
          ],
          "vectorType": "dense"
         }
        ],
        [
         "0",
         1,
         {
          "length": 2,
          "values": [
           -1.2125676804145147,
           2.0372463953120428
          ],
          "vectorType": "dense"
         }
        ],
        [
         "0",
         1,
         {
          "length": 2,
          "values": [
           -5.065204235707061,
           1.783582969267652
          ],
          "vectorType": "dense"
         }
        ],
        [
         "1",
         0,
         {
          "length": 2,
          "values": [
           1.9759628006688976,
           1.84115939446237
          ],
          "vectorType": "dense"
         }
        ],
        [
         "1",
         0,
         {
          "length": 2,
          "values": [
           2.512665538094374,
           -0.11415185728328553
          ],
          "vectorType": "dense"
         }
        ],
        [
         "0",
         0,
         {
          "length": 2,
          "values": [
           0.9466549351985862,
           1.6832724441193998
          ],
          "vectorType": "dense"
         }
        ],
        [
         "0",
         1,
         {
          "length": 2,
          "values": [
           -2.8168897774102652,
           -1.2639909533709472
          ],
          "vectorType": "dense"
         }
        ],
        [
         "1",
         0,
         {
          "length": 2,
          "values": [
           3.4809234523308104,
           -1.6182680772420517
          ],
          "vectorType": "dense"
         }
        ],
        [
         "1",
         0,
         {
          "length": 2,
          "values": [
           4.654633990732292,
           0.2227188459265475
          ],
          "vectorType": "dense"
         }
        ],
        [
         "1",
         0,
         {
          "length": 2,
          "values": [
           5.346913394805295,
           -1.0258552141595594
          ],
          "vectorType": "dense"
         }
        ],
        [
         "1",
         1,
         {
          "length": 2,
          "values": [
           -1.1698684180216836,
           -7.008319995898495
          ],
          "vectorType": "dense"
         }
        ],
        [
         "0",
         1,
         {
          "length": 2,
          "values": [
           -2.953702919945471,
           -0.7058008217765863
          ],
          "vectorType": "dense"
         }
        ],
        [
         "1",
         0,
         {
          "length": 2,
          "values": [
           4.971327817743079,
           3.3832279834158325
          ],
          "vectorType": "dense"
         }
        ],
        [
         "1",
         0,
         {
          "length": 2,
          "values": [
           4.060452888239647,
           1.2450706432840835
          ],
          "vectorType": "dense"
         }
        ],
        [
         "0",
         1,
         {
          "length": 2,
          "values": [
           -9.504307055873683,
           5.598558051824166
          ],
          "vectorType": "dense"
         }
        ],
        [
         "0",
         1,
         {
          "length": 2,
          "values": [
           -8.99924713748581,
           -0.5805202806336891
          ],
          "vectorType": "dense"
         }
        ],
        [
         "0",
         0,
         {
          "length": 2,
          "values": [
           -0.7582113387114503,
           1.6071184807982521
          ],
          "vectorType": "dense"
         }
        ],
        [
         "1",
         0,
         {
          "length": 2,
          "values": [
           2.657021716338433,
           -0.5394611319693707
          ],
          "vectorType": "dense"
         }
        ],
        [
         "0",
         0,
         {
          "length": 2,
          "values": [
           0.3896761071631376,
           0.9883726891537293
          ],
          "vectorType": "dense"
         }
        ],
        [
         "1",
         0,
         {
          "length": 2,
          "values": [
           3.8856465678206793,
           -0.8153542849565183
          ],
          "vectorType": "dense"
         }
        ],
        [
         "0",
         0,
         {
          "length": 2,
          "values": [
           -0.3645553815353931,
           3.5713188418258013
          ],
          "vectorType": "dense"
         }
        ],
        [
         "1",
         0,
         {
          "length": 2,
          "values": [
           2.8333978267575493,
           0.39837916234531845
          ],
          "vectorType": "dense"
         }
        ],
        [
         "1",
         0,
         {
          "length": 2,
          "values": [
           3.307373480730301,
           -0.1556042796224762
          ],
          "vectorType": "dense"
         }
        ],
        [
         "1",
         0,
         {
          "length": 2,
          "values": [
           3.3543529255868116,
           1.1027621091603794
          ],
          "vectorType": "dense"
         }
        ],
        [
         "0",
         1,
         {
          "length": 2,
          "values": [
           -6.517382011166436,
           -8.004126823765688
          ],
          "vectorType": "dense"
         }
        ],
        [
         "1",
         0,
         {
          "length": 2,
          "values": [
           1.716225078957832,
           0.5426880190282252
          ],
          "vectorType": "dense"
         }
        ],
        [
         "1",
         0,
         {
          "length": 2,
          "values": [
           5.560842943398813,
           0.4774274929424864
          ],
          "vectorType": "dense"
         }
        ],
        [
         "0",
         1,
         {
          "length": 2,
          "values": [
           -1.7780969513569727,
           -2.7741462134520165
          ],
          "vectorType": "dense"
         }
        ],
        [
         "0",
         1,
         {
          "length": 2,
          "values": [
           -2.6091890818216363,
           -1.5600490304583217
          ],
          "vectorType": "dense"
         }
        ],
        [
         "1",
         0,
         {
          "length": 2,
          "values": [
           2.81656023352004,
           0.9692577223481751
          ],
          "vectorType": "dense"
         }
        ],
        [
         "0",
         1,
         {
          "length": 2,
          "values": [
           -2.4962424475167926,
           -2.276479789862448
          ],
          "vectorType": "dense"
         }
        ],
        [
         "0",
         1,
         {
          "length": 2,
          "values": [
           -1.275904513829326,
           2.4411110438899812
          ],
          "vectorType": "dense"
         }
        ],
        [
         "0",
         1,
         {
          "length": 2,
          "values": [
           -3.470143981958466,
           2.275846405119393
          ],
          "vectorType": "dense"
         }
        ],
        [
         "0",
         1,
         {
          "length": 2,
          "values": [
           -1.2555703424425486,
           -0.38205709440413826
          ],
          "vectorType": "dense"
         }
        ],
        [
         "1",
         0,
         {
          "length": 2,
          "values": [
           1.4721360446853025,
           -0.11678749584162215
          ],
          "vectorType": "dense"
         }
        ],
        [
         "0",
         1,
         {
          "length": 2,
          "values": [
           -1.6480106203166893,
           2.100442902308144
          ],
          "vectorType": "dense"
         }
        ],
        [
         "0",
         1,
         {
          "length": 2,
          "values": [
           -9.028645224281451,
           0.6545968488688727
          ],
          "vectorType": "dense"
         }
        ],
        [
         "0",
         1,
         {
          "length": 2,
          "values": [
           -4.550586028792268,
           -3.0839256264353505
          ],
          "vectorType": "dense"
         }
        ],
        [
         "1",
         0,
         {
          "length": 2,
          "values": [
           0.7805032063552411,
           -0.6522753252252638
          ],
          "vectorType": "dense"
         }
        ],
        [
         "0",
         0,
         {
          "length": 2,
          "values": [
           0.22289648137749804,
           0.7012045041875619
          ],
          "vectorType": "dense"
         }
        ],
        [
         "1",
         0,
         {
          "length": 2,
          "values": [
           3.451858114839652,
           -1.3057897654953268
          ],
          "vectorType": "dense"
         }
        ],
        [
         "0",
         0,
         {
          "length": 2,
          "values": [
           -0.4461518298391931,
           2.7852570082147827
          ],
          "vectorType": "dense"
         }
        ],
        [
         "1",
         0,
         {
          "length": 2,
          "values": [
           -0.3141617966983834,
           -2.0757343005542124
          ],
          "vectorType": "dense"
         }
        ],
        [
         "1",
         0,
         {
          "length": 2,
          "values": [
           2.0573816635646485,
           2.4706139080117415
          ],
          "vectorType": "dense"
         }
        ],
        [
         "0",
         1,
         {
          "length": 2,
          "values": [
           -4.804741578644551,
           3.0264400192113654
          ],
          "vectorType": "dense"
         }
        ],
        [
         "1",
         0,
         {
          "length": 2,
          "values": [
           2.9960742986927817,
           0.3964292123288678
          ],
          "vectorType": "dense"
         }
        ],
        [
         "0",
         1,
         {
          "length": 2,
          "values": [
           -12.27421974008282,
           7.536778598643883
          ],
          "vectorType": "dense"
         }
        ],
        [
         "0",
         1,
         {
          "length": 2,
          "values": [
           -3.3692320216392955,
           -2.585550416174371
          ],
          "vectorType": "dense"
         }
        ],
        [
         "0",
         1,
         {
          "length": 2,
          "values": [
           -2.5065608023508408,
           -2.6123498850288525
          ],
          "vectorType": "dense"
         }
        ],
        [
         "0",
         1,
         {
          "length": 2,
          "values": [
           -1.3169097348008016,
           -2.152585452838559
          ],
          "vectorType": "dense"
         }
        ],
        [
         "1",
         0,
         {
          "length": 2,
          "values": [
           0.3884145349104365,
           -2.274796313785692
          ],
          "vectorType": "dense"
         }
        ],
        [
         "1",
         0,
         {
          "length": 2,
          "values": [
           2.7545093134335943,
           -1.0858792262280101
          ],
          "vectorType": "dense"
         }
        ],
        [
         "0",
         1,
         {
          "length": 2,
          "values": [
           -4.939235008379087,
           2.845820435747167
          ],
          "vectorType": "dense"
         }
        ],
        [
         "0",
         1,
         {
          "length": 2,
          "values": [
           -4.294298799576767,
           4.662172958398716
          ],
          "vectorType": "dense"
         }
        ],
        [
         "1",
         0,
         {
          "length": 2,
          "values": [
           2.371415206580928,
           0.7327578143464887
          ],
          "vectorType": "dense"
         }
        ],
        [
         "1",
         0,
         {
          "length": 2,
          "values": [
           0.9663400342412815,
           -0.43805274138140315
          ],
          "vectorType": "dense"
         }
        ],
        [
         "1",
         0,
         {
          "length": 2,
          "values": [
           2.973182700588683,
           -1.8093817105584709
          ],
          "vectorType": "dense"
         }
        ],
        [
         "0",
         1,
         {
          "length": 2,
          "values": [
           -1.8016617480543298,
           -0.16631461790202312
          ],
          "vectorType": "dense"
         }
        ],
        [
         "1",
         0,
         {
          "length": 2,
          "values": [
           2.476180734357764,
           1.4173293464504262
          ],
          "vectorType": "dense"
         }
        ],
        [
         "1",
         0,
         {
          "length": 2,
          "values": [
           0.8253131039081664,
           1.249148354188872
          ],
          "vectorType": "dense"
         }
        ],
        [
         "1",
         0,
         {
          "length": 2,
          "values": [
           3.891273417938517,
           -0.5380972756254689
          ],
          "vectorType": "dense"
         }
        ],
        [
         "1",
         0,
         {
          "length": 2,
          "values": [
           0.3892356039180487,
           0.613875324449998
          ],
          "vectorType": "dense"
         }
        ],
        [
         "1",
         0,
         {
          "length": 2,
          "values": [
           1.4560401949184865,
           0.20154941477167584
          ],
          "vectorType": "dense"
         }
        ],
        [
         "0",
         1,
         {
          "length": 2,
          "values": [
           -2.7531455233218116,
           -3.4627267693133152
          ],
          "vectorType": "dense"
         }
        ],
        [
         "0",
         1,
         {
          "length": 2,
          "values": [
           -3.254391152333232,
           0.12509042564652945
          ],
          "vectorType": "dense"
         }
        ],
        [
         "1",
         0,
         {
          "length": 2,
          "values": [
           4.015606929779589,
           1.3530568336035458
          ],
          "vectorType": "dense"
         }
        ],
        [
         "1",
         0,
         {
          "length": 2,
          "values": [
           3.673181280856314,
           1.2904935620339735
          ],
          "vectorType": "dense"
         }
        ],
        [
         "0",
         1,
         {
          "length": 2,
          "values": [
           -3.3134086631131745,
           3.9356892675858393
          ],
          "vectorType": "dense"
         }
        ],
        [
         "1",
         0,
         {
          "length": 2,
          "values": [
           4.0330586952594905,
           -1.1615240891991265
          ],
          "vectorType": "dense"
         }
        ],
        [
         "1",
         0,
         {
          "length": 2,
          "values": [
           2.332181276558638,
           1.3477938157103568
          ],
          "vectorType": "dense"
         }
        ],
        [
         "0",
         1,
         {
          "length": 2,
          "values": [
           -8.396459114567051,
           4.150252991487551
          ],
          "vectorType": "dense"
         }
        ],
        [
         "0",
         1,
         {
          "length": 2,
          "values": [
           -2.645241099769492,
           3.947699392177443
          ],
          "vectorType": "dense"
         }
        ],
        [
         "1",
         0,
         {
          "length": 2,
          "values": [
           0.6811695085597811,
           1.134992456901795
          ],
          "vectorType": "dense"
         }
        ],
        [
         "0",
         1,
         {
          "length": 2,
          "values": [
           -3.3473504750853267,
           2.1526758988005272
          ],
          "vectorType": "dense"
         }
        ],
        [
         "1",
         0,
         {
          "length": 2,
          "values": [
           2.225762082820186,
           1.2139315550121692
          ],
          "vectorType": "dense"
         }
        ],
        [
         "1",
         0,
         {
          "length": 2,
          "values": [
           4.473648316810695,
           1.7395986990016745
          ],
          "vectorType": "dense"
         }
        ],
        [
         "1",
         1,
         {
          "length": 2,
          "values": [
           -1.3214586745096857,
           -4.785266054191078
          ],
          "vectorType": "dense"
         }
        ],
        [
         "1",
         0,
         {
          "length": 2,
          "values": [
           1.8484634072018238,
           1.5827355092570183
          ],
          "vectorType": "dense"
         }
        ],
        [
         "0",
         1,
         {
          "length": 2,
          "values": [
           -3.7922288801761828,
           1.025330459219364
          ],
          "vectorType": "dense"
         }
        ],
        [
         "1",
         0,
         {
          "length": 2,
          "values": [
           2.2793125444788847,
           -2.075859442194888
          ],
          "vectorType": "dense"
         }
        ],
        [
         "1",
         0,
         {
          "length": 2,
          "values": [
           3.2259316385038423,
           1.1710430842293764
          ],
          "vectorType": "dense"
         }
        ],
        [
         "1",
         0,
         {
          "length": 2,
          "values": [
           -1.0249988966720756,
           -2.3591861092433453
          ],
          "vectorType": "dense"
         }
        ],
        [
         "1",
         0,
         {
          "length": 2,
          "values": [
           2.580285458084775,
           -0.7285720474808405
          ],
          "vectorType": "dense"
         }
        ],
        [
         "1",
         0,
         {
          "length": 2,
          "values": [
           2.4836978332373185,
           -0.4601914826896939
          ],
          "vectorType": "dense"
         }
        ],
        [
         "0",
         1,
         {
          "length": 2,
          "values": [
           -7.13756173714527,
           2.073018195139842
          ],
          "vectorType": "dense"
         }
        ],
        [
         "1",
         0,
         {
          "length": 2,
          "values": [
           3.029815222770883,
           0.648897838165118
          ],
          "vectorType": "dense"
         }
        ],
        [
         "0",
         1,
         {
          "length": 2,
          "values": [
           -7.078782066793522,
           -0.5277587995773976
          ],
          "vectorType": "dense"
         }
        ],
        [
         "0",
         1,
         {
          "length": 2,
          "values": [
           -1.3129437515041626,
           1.7738650170431625
          ],
          "vectorType": "dense"
         }
        ],
        [
         "0",
         1,
         {
          "length": 2,
          "values": [
           -3.7083865255645923,
           2.8050089983868287
          ],
          "vectorType": "dense"
         }
        ],
        [
         "0",
         0,
         {
          "length": 2,
          "values": [
           -0.4600742739863428,
           -0.3938197686403613
          ],
          "vectorType": "dense"
         }
        ],
        [
         "0",
         1,
         {
          "length": 2,
          "values": [
           -6.387030007430574,
           1.821491442867628
          ],
          "vectorType": "dense"
         }
        ],
        [
         "0",
         1,
         {
          "length": 2,
          "values": [
           -5.250924689588624,
           -3.891107225655192
          ],
          "vectorType": "dense"
         }
        ],
        [
         "0",
         1,
         {
          "length": 2,
          "values": [
           -8.726183381467218,
           -3.2769939657143716
          ],
          "vectorType": "dense"
         }
        ],
        [
         "0",
         1,
         {
          "length": 2,
          "values": [
           -3.6880727649812464,
           -1.0647092355384506
          ],
          "vectorType": "dense"
         }
        ],
        [
         "0",
         1,
         {
          "length": 2,
          "values": [
           -3.3752809812447255,
           3.3682641746415576
          ],
          "vectorType": "dense"
         }
        ],
        [
         "0",
         0,
         {
          "length": 2,
          "values": [
           0.8394710078446104,
           3.4970080337579934
          ],
          "vectorType": "dense"
         }
        ],
        [
         "0",
         1,
         {
          "length": 2,
          "values": [
           -3.2814852588700103,
           0.9898022792791088
          ],
          "vectorType": "dense"
         }
        ],
        [
         "0",
         0,
         {
          "length": 2,
          "values": [
           1.9070908891938627,
           3.119201237203347
          ],
          "vectorType": "dense"
         }
        ],
        [
         "0",
         1,
         {
          "length": 2,
          "values": [
           -1.6133623365757193,
           2.4723978983559065
          ],
          "vectorType": "dense"
         }
        ],
        [
         "0",
         1,
         {
          "length": 2,
          "values": [
           -6.613906806066417,
           5.997998810891651
          ],
          "vectorType": "dense"
         }
        ],
        [
         "1",
         0,
         {
          "length": 2,
          "values": [
           1.4633883060156407,
           -1.685149060625749
          ],
          "vectorType": "dense"
         }
        ],
        [
         "1",
         0,
         {
          "length": 2,
          "values": [
           2.0103835029649497,
           1.1025164598842423
          ],
          "vectorType": "dense"
         }
        ],
        [
         "1",
         0,
         {
          "length": 2,
          "values": [
           2.282332040471847,
           -0.009485293138450299
          ],
          "vectorType": "dense"
         }
        ],
        [
         "1",
         0,
         {
          "length": 2,
          "values": [
           0.7390927619274819,
           -3.149749157849665
          ],
          "vectorType": "dense"
         }
        ],
        [
         "1",
         0,
         {
          "length": 2,
          "values": [
           4.502600696719506,
           3.166486413631368
          ],
          "vectorType": "dense"
         }
        ],
        [
         "1",
         0,
         {
          "length": 2,
          "values": [
           3.1559773740122634,
           -0.4099410900241174
          ],
          "vectorType": "dense"
         }
        ],
        [
         "0",
         1,
         {
          "length": 2,
          "values": [
           -7.6694012070934345,
           3.072602737491275
          ],
          "vectorType": "dense"
         }
        ],
        [
         "1",
         0,
         {
          "length": 2,
          "values": [
           3.6359367261303492,
           -1.5881896245823244
          ],
          "vectorType": "dense"
         }
        ],
        [
         "0",
         0,
         {
          "length": 2,
          "values": [
           -0.3370489251204577,
           3.1416091727542197
          ],
          "vectorType": "dense"
         }
        ],
        [
         "1",
         0,
         {
          "length": 2,
          "values": [
           1.2754611078320632,
           -0.8483065631109162
          ],
          "vectorType": "dense"
         }
        ],
        [
         "1",
         0,
         {
          "length": 2,
          "values": [
           4.342193381795932,
           0.3216949991143457
          ],
          "vectorType": "dense"
         }
        ],
        [
         "0",
         0,
         {
          "length": 2,
          "values": [
           -0.01741546771171315,
           3.456302109699558
          ],
          "vectorType": "dense"
         }
        ],
        [
         "1",
         0,
         {
          "length": 2,
          "values": [
           3.4893557720452133,
           2.6317667234807156
          ],
          "vectorType": "dense"
         }
        ],
        [
         "1",
         0,
         {
          "length": 2,
          "values": [
           1.864907931297847,
           0.9012711860481959
          ],
          "vectorType": "dense"
         }
        ],
        [
         "0",
         1,
         {
          "length": 2,
          "values": [
           -4.955907441716645,
           1.3399440378897656
          ],
          "vectorType": "dense"
         }
        ],
        [
         "1",
         0,
         {
          "length": 2,
          "values": [
           2.4685506209044195,
           0.1379049225435279
          ],
          "vectorType": "dense"
         }
        ],
        [
         "0",
         1,
         {
          "length": 2,
          "values": [
           -3.781732576915012,
           1.9002354094267013
          ],
          "vectorType": "dense"
         }
        ],
        [
         "0",
         1,
         {
          "length": 2,
          "values": [
           -2.634937310206687,
           -0.5766476067361099
          ],
          "vectorType": "dense"
         }
        ],
        [
         "1",
         0,
         {
          "length": 2,
          "values": [
           1.3714782673685932,
           -0.005800357721781113
          ],
          "vectorType": "dense"
         }
        ],
        [
         "1",
         0,
         {
          "length": 2,
          "values": [
           4.13524399446935,
           1.375298122929749
          ],
          "vectorType": "dense"
         }
        ],
        [
         "1",
         0,
         {
          "length": 2,
          "values": [
           0.6863363877211871,
           -1.6935195059813446
          ],
          "vectorType": "dense"
         }
        ],
        [
         "1",
         0,
         {
          "length": 2,
          "values": [
           4.308338698860459,
           1.9767468042610254
          ],
          "vectorType": "dense"
         }
        ],
        [
         "1",
         0,
         {
          "length": 2,
          "values": [
           -0.4029548635748549,
           -3.7201606544330987
          ],
          "vectorType": "dense"
         }
        ],
        [
         "1",
         0,
         {
          "length": 2,
          "values": [
           3.000965262243705,
           -0.35384887774716584
          ],
          "vectorType": "dense"
         }
        ],
        [
         "1",
         1,
         {
          "length": 2,
          "values": [
           -3.1312530328587043,
           -4.269702670189467
          ],
          "vectorType": "dense"
         }
        ],
        [
         "1",
         0,
         {
          "length": 2,
          "values": [
           0.41746953769710166,
           0.8078657343689332
          ],
          "vectorType": "dense"
         }
        ],
        [
         "1",
         0,
         {
          "length": 2,
          "values": [
           1.4189745870297155,
           -1.3927526376556778
          ],
          "vectorType": "dense"
         }
        ],
        [
         "1",
         0,
         {
          "length": 2,
          "values": [
           2.8680647531464465,
           0.268408338101326
          ],
          "vectorType": "dense"
         }
        ],
        [
         "1",
         0,
         {
          "length": 2,
          "values": [
           3.3628867182650546,
           0.8068906366540134
          ],
          "vectorType": "dense"
         }
        ],
        [
         "1",
         0,
         {
          "length": 2,
          "values": [
           3.3120858684223364,
           1.4409083819701411
          ],
          "vectorType": "dense"
         }
        ],
        [
         "1",
         0,
         {
          "length": 2,
          "values": [
           4.7655170071007955,
           0.5424845304417008
          ],
          "vectorType": "dense"
         }
        ],
        [
         "0",
         0,
         {
          "length": 2,
          "values": [
           2.383785278667096,
           0.8233910735604927
          ],
          "vectorType": "dense"
         }
        ],
        [
         "1",
         0,
         {
          "length": 2,
          "values": [
           2.7846458146634814,
           2.530807159428553
          ],
          "vectorType": "dense"
         }
        ],
        [
         "1",
         0,
         {
          "length": 2,
          "values": [
           3.3908581737798005,
           -0.7533011314133292
          ],
          "vectorType": "dense"
         }
        ],
        [
         "0",
         1,
         {
          "length": 2,
          "values": [
           -6.58444232820841,
           1.4835570760795582
          ],
          "vectorType": "dense"
         }
        ],
        [
         "1",
         0,
         {
          "length": 2,
          "values": [
           1.4540511062050259,
           -0.5914224783050939
          ],
          "vectorType": "dense"
         }
        ],
        [
         "0",
         1,
         {
          "length": 2,
          "values": [
           -7.176618434402277,
           -0.05509758012513949
          ],
          "vectorType": "dense"
         }
        ],
        [
         "1",
         0,
         {
          "length": 2,
          "values": [
           3.5756891739127767,
           -0.890799182251582
          ],
          "vectorType": "dense"
         }
        ],
        [
         "1",
         0,
         {
          "length": 2,
          "values": [
           3.0543451401303825,
           0.17905583600501274
          ],
          "vectorType": "dense"
         }
        ],
        [
         "1",
         0,
         {
          "length": 2,
          "values": [
           3.0717330303073704,
           0.3057893730497704
          ],
          "vectorType": "dense"
         }
        ],
        [
         "1",
         0,
         {
          "length": 2,
          "values": [
           3.850152005362842,
           1.5233860034932076
          ],
          "vectorType": "dense"
         }
        ],
        [
         "1",
         0,
         {
          "length": 2,
          "values": [
           5.3855177059185495,
           -0.5557664886960754
          ],
          "vectorType": "dense"
         }
        ],
        [
         "1",
         0,
         {
          "length": 2,
          "values": [
           4.65358766791471,
           3.062692587047921
          ],
          "vectorType": "dense"
         }
        ],
        [
         "1",
         0,
         {
          "length": 2,
          "values": [
           4.024001690818717,
           2.5406715203364776
          ],
          "vectorType": "dense"
         }
        ],
        [
         "1",
         0,
         {
          "length": 2,
          "values": [
           3.3448788008728587,
           0.06850277259966837
          ],
          "vectorType": "dense"
         }
        ],
        [
         "1",
         0,
         {
          "length": 2,
          "values": [
           3.2969410508974435,
           3.1359500887137717
          ],
          "vectorType": "dense"
         }
        ],
        [
         "1",
         0,
         {
          "length": 2,
          "values": [
           2.134525984500311,
           0.0043889867928022935
          ],
          "vectorType": "dense"
         }
        ],
        [
         "1",
         0,
         {
          "length": 2,
          "values": [
           4.034467235871257,
           0.2404864516410689
          ],
          "vectorType": "dense"
         }
        ],
        [
         "1",
         0,
         {
          "length": 2,
          "values": [
           3.762104298066469,
           -4.39433394265753
          ],
          "vectorType": "dense"
         }
        ],
        [
         "1",
         0,
         {
          "length": 2,
          "values": [
           4.86695697440386,
           2.337158334463167
          ],
          "vectorType": "dense"
         }
        ],
        [
         "1",
         0,
         {
          "length": 2,
          "values": [
           4.743075110258775,
           1.7968209625108593
          ],
          "vectorType": "dense"
         }
        ],
        [
         "0",
         1,
         {
          "length": 2,
          "values": [
           -1.8936500638857314,
           2.3901349362668816
          ],
          "vectorType": "dense"
         }
        ],
        [
         "1",
         1,
         {
          "length": 2,
          "values": [
           -1.571548343734521,
           -6.503377020577063
          ],
          "vectorType": "dense"
         }
        ],
        [
         "1",
         0,
         {
          "length": 2,
          "values": [
           4.023080366038678,
           1.4009737529462152
          ],
          "vectorType": "dense"
         }
        ],
        [
         "1",
         0,
         {
          "length": 2,
          "values": [
           1.29372782598917,
           -3.4677573783806075
          ],
          "vectorType": "dense"
         }
        ],
        [
         "0",
         1,
         {
          "length": 2,
          "values": [
           -1.8332274202713865,
           4.317723822665098
          ],
          "vectorType": "dense"
         }
        ],
        [
         "1",
         0,
         {
          "length": 2,
          "values": [
           1.808789015235209,
           -0.39585898806435427
          ],
          "vectorType": "dense"
         }
        ],
        [
         "0",
         1,
         {
          "length": 2,
          "values": [
           -7.230123567830955,
           0.035670410920752404
          ],
          "vectorType": "dense"
         }
        ],
        [
         "1",
         0,
         {
          "length": 2,
          "values": [
           3.1428847812274205,
           0.741873771312808
          ],
          "vectorType": "dense"
         }
        ],
        [
         "1",
         0,
         {
          "length": 2,
          "values": [
           2.8847298001152506,
           0.46432306918826133
          ],
          "vectorType": "dense"
         }
        ],
        [
         "1",
         0,
         {
          "length": 2,
          "values": [
           3.146885056706513,
           1.7696912547970154
          ],
          "vectorType": "dense"
         }
        ],
        [
         "1",
         0,
         {
          "length": 2,
          "values": [
           4.624310577223516,
           1.8340046311486002
          ],
          "vectorType": "dense"
         }
        ],
        [
         "0",
         1,
         {
          "length": 2,
          "values": [
           -2.248531903058634,
           0.3482295351152985
          ],
          "vectorType": "dense"
         }
        ],
        [
         "0",
         1,
         {
          "length": 2,
          "values": [
           -2.105948215451635,
           -1.1209875925308008
          ],
          "vectorType": "dense"
         }
        ],
        [
         "0",
         1,
         {
          "length": 2,
          "values": [
           -1.7843799140989622,
           0.2689849572661148
          ],
          "vectorType": "dense"
         }
        ],
        [
         "1",
         0,
         {
          "length": 2,
          "values": [
           0.527232708197753,
           -1.264758768867036
          ],
          "vectorType": "dense"
         }
        ],
        [
         "1",
         0,
         {
          "length": 2,
          "values": [
           3.2106759241477616,
           -1.1024730816943964
          ],
          "vectorType": "dense"
         }
        ],
        [
         "1",
         0,
         {
          "length": 2,
          "values": [
           4.382566769758078,
           0.7604346273021849
          ],
          "vectorType": "dense"
         }
        ],
        [
         "1",
         0,
         {
          "length": 2,
          "values": [
           3.80666840292402,
           0.9091186263481879
          ],
          "vectorType": "dense"
         }
        ],
        [
         "0",
         1,
         {
          "length": 2,
          "values": [
           -3.3167555762556,
           1.5756664220302594
          ],
          "vectorType": "dense"
         }
        ],
        [
         "1",
         0,
         {
          "length": 2,
          "values": [
           2.3911719850536737,
           -0.9891604207881478
          ],
          "vectorType": "dense"
         }
        ],
        [
         "0",
         1,
         {
          "length": 2,
          "values": [
           -4.676051829725837,
           0.9677414434843
          ],
          "vectorType": "dense"
         }
        ],
        [
         "1",
         0,
         {
          "length": 2,
          "values": [
           3.0649982652345846,
           -1.1348390297023678
          ],
          "vectorType": "dense"
         }
        ],
        [
         "0",
         1,
         {
          "length": 2,
          "values": [
           -7.346754205800324,
           5.238014242213437
          ],
          "vectorType": "dense"
         }
        ],
        [
         "1",
         0,
         {
          "length": 2,
          "values": [
           -0.2950535672123393,
           -0.22673553279496178
          ],
          "vectorType": "dense"
         }
        ],
        [
         "1",
         0,
         {
          "length": 2,
          "values": [
           1.937264908048494,
           -2.54275075984208
          ],
          "vectorType": "dense"
         }
        ],
        [
         "1",
         0,
         {
          "length": 2,
          "values": [
           2.075352829718506,
           -1.8049313395291142
          ],
          "vectorType": "dense"
         }
        ],
        [
         "0",
         1,
         {
          "length": 2,
          "values": [
           -4.970788588463213,
           1.3314006873626998
          ],
          "vectorType": "dense"
         }
        ],
        [
         "1",
         0,
         {
          "length": 2,
          "values": [
           2.1750031061333353,
           -0.9580682603151646
          ],
          "vectorType": "dense"
         }
        ],
        [
         "1",
         0,
         {
          "length": 2,
          "values": [
           2.429413826943072,
           -3.44417335730377
          ],
          "vectorType": "dense"
         }
        ],
        [
         "1",
         0,
         {
          "length": 2,
          "values": [
           3.3650049292694186,
           0.5624340150809102
          ],
          "vectorType": "dense"
         }
        ],
        [
         "1",
         0,
         {
          "length": 2,
          "values": [
           1.205537044997321,
           1.315886496793601
          ],
          "vectorType": "dense"
         }
        ],
        [
         "1",
         0,
         {
          "length": 2,
          "values": [
           3.3231552224306244,
           -0.4747538482010823
          ],
          "vectorType": "dense"
         }
        ],
        [
         "1",
         0,
         {
          "length": 2,
          "values": [
           1.9270997575978313,
           -1.460184988708072
          ],
          "vectorType": "dense"
         }
        ],
        [
         "1",
         0,
         {
          "length": 2,
          "values": [
           4.038281827650134,
           1.3557245619959968
          ],
          "vectorType": "dense"
         }
        ],
        [
         "0",
         1,
         {
          "length": 2,
          "values": [
           -6.176848765923755,
           -5.103514894361796
          ],
          "vectorType": "dense"
         }
        ],
        [
         "0",
         1,
         {
          "length": 2,
          "values": [
           -10.924685586759175,
           3.699998471871134
          ],
          "vectorType": "dense"
         }
        ],
        [
         "0",
         1,
         {
          "length": 2,
          "values": [
           -2.1166345166823373,
           -0.2963682967476071
          ],
          "vectorType": "dense"
         }
        ],
        [
         "1",
         0,
         {
          "length": 2,
          "values": [
           3.0095468861563317,
           -0.243545681202486
          ],
          "vectorType": "dense"
         }
        ],
        [
         "1",
         0,
         {
          "length": 2,
          "values": [
           0.9817847142179241,
           -0.7965515125202817
          ],
          "vectorType": "dense"
         }
        ],
        [
         "1",
         0,
         {
          "length": 2,
          "values": [
           -0.35757923049032636,
           -2.125968004265042
          ],
          "vectorType": "dense"
         }
        ],
        [
         "1",
         0,
         {
          "length": 2,
          "values": [
           3.191110025081194,
           1.847526444761871
          ],
          "vectorType": "dense"
         }
        ],
        [
         "1",
         0,
         {
          "length": 2,
          "values": [
           2.990601886844637,
           -1.6299580146726662
          ],
          "vectorType": "dense"
         }
        ],
        [
         "1",
         0,
         {
          "length": 2,
          "values": [
           3.191106313310075,
           -0.5788301325936451
          ],
          "vectorType": "dense"
         }
        ],
        [
         "1",
         0,
         {
          "length": 2,
          "values": [
           4.587924963183574,
           2.7586997322892137
          ],
          "vectorType": "dense"
         }
        ],
        [
         "1",
         0,
         {
          "length": 2,
          "values": [
           2.483730733194703,
           1.1878941827853875
          ],
          "vectorType": "dense"
         }
        ],
        [
         "1",
         0,
         {
          "length": 2,
          "values": [
           2.396556629015861,
           0.2505243553016716
          ],
          "vectorType": "dense"
         }
        ],
        [
         "1",
         0,
         {
          "length": 2,
          "values": [
           0.7789298236156389,
           2.1224758723954773
          ],
          "vectorType": "dense"
         }
        ],
        [
         "1",
         0,
         {
          "length": 2,
          "values": [
           3.137227995833936,
           1.486714010385516
          ],
          "vectorType": "dense"
         }
        ],
        [
         "0",
         1,
         {
          "length": 2,
          "values": [
           -2.7326073652576093,
           3.9416999500655043
          ],
          "vectorType": "dense"
         }
        ],
        [
         "0",
         1,
         {
          "length": 2,
          "values": [
           -6.221551679069684,
           1.3888876163638892
          ],
          "vectorType": "dense"
         }
        ],
        [
         "1",
         0,
         {
          "length": 2,
          "values": [
           2.221820777512973,
           0.35684672329234746
          ],
          "vectorType": "dense"
         }
        ],
        [
         "0",
         1,
         {
          "length": 2,
          "values": [
           -5.302474403497606,
           6.717504287902137
          ],
          "vectorType": "dense"
         }
        ],
        [
         "0",
         1,
         {
          "length": 2,
          "values": [
           -7.241629190977243,
           3.6522555297061396
          ],
          "vectorType": "dense"
         }
        ],
        [
         "0",
         1,
         {
          "length": 2,
          "values": [
           -4.203521962751312,
           -1.1752088219527228
          ],
          "vectorType": "dense"
         }
        ],
        [
         "1",
         0,
         {
          "length": 2,
          "values": [
           2.4974388911606744,
           2.016761089657906
          ],
          "vectorType": "dense"
         }
        ],
        [
         "0",
         1,
         {
          "length": 2,
          "values": [
           -3.631819328529832,
           1.9547209619987518
          ],
          "vectorType": "dense"
         }
        ],
        [
         "0",
         1,
         {
          "length": 2,
          "values": [
           -3.516154429778133,
           3.8552149374108557
          ],
          "vectorType": "dense"
         }
        ],
        [
         "1",
         0,
         {
          "length": 2,
          "values": [
           2.6126494511410927,
           1.101505250877788
          ],
          "vectorType": "dense"
         }
        ],
        [
         "1",
         0,
         {
          "length": 2,
          "values": [
           0.09602362590836018,
           0.12973343110973548
          ],
          "vectorType": "dense"
         }
        ],
        [
         "1",
         1,
         {
          "length": 2,
          "values": [
           -2.0430592577934314,
           -6.421169886591277
          ],
          "vectorType": "dense"
         }
        ],
        [
         "1",
         0,
         {
          "length": 2,
          "values": [
           3.0640534834955355,
           2.1801773735430845
          ],
          "vectorType": "dense"
         }
        ],
        [
         "1",
         0,
         {
          "length": 2,
          "values": [
           1.6021766967898312,
           -0.2923389949332684
          ],
          "vectorType": "dense"
         }
        ],
        [
         "0",
         1,
         {
          "length": 2,
          "values": [
           -3.762621443878961,
           -5.980033549309579
          ],
          "vectorType": "dense"
         }
        ],
        [
         "1",
         0,
         {
          "length": 2,
          "values": [
           0.9247529181246392,
           -2.3004572704552135
          ],
          "vectorType": "dense"
         }
        ],
        [
         "1",
         0,
         {
          "length": 2,
          "values": [
           3.2854587367562074,
           -0.20113435938521462
          ],
          "vectorType": "dense"
         }
        ],
        [
         "1",
         0,
         {
          "length": 2,
          "values": [
           1.5534852463993922,
           -0.9789963158207404
          ],
          "vectorType": "dense"
         }
        ],
        [
         "1",
         0,
         {
          "length": 2,
          "values": [
           0.39842934176183803,
           -2.1593127242758463
          ],
          "vectorType": "dense"
         }
        ],
        [
         "1",
         0,
         {
          "length": 2,
          "values": [
           2.2985453437371177,
           0.9312581750160045
          ],
          "vectorType": "dense"
         }
        ],
        [
         "0",
         0,
         {
          "length": 2,
          "values": [
           0.542424088151976,
           1.3159100480444743
          ],
          "vectorType": "dense"
         }
        ],
        [
         "1",
         0,
         {
          "length": 2,
          "values": [
           2.057009504309962,
           -0.32015344453125083
          ],
          "vectorType": "dense"
         }
        ],
        [
         "1",
         0,
         {
          "length": 2,
          "values": [
           3.4215074893256583,
           2.443368505138404
          ],
          "vectorType": "dense"
         }
        ],
        [
         "1",
         0,
         {
          "length": 2,
          "values": [
           0.47199124930973096,
           -3.699574203312585
          ],
          "vectorType": "dense"
         }
        ],
        [
         "0",
         1,
         {
          "length": 2,
          "values": [
           -4.699365785201365,
           0.19578348601557083
          ],
          "vectorType": "dense"
         }
        ],
        [
         "1",
         0,
         {
          "length": 2,
          "values": [
           3.640177266356688,
           -0.786168171276902
          ],
          "vectorType": "dense"
         }
        ],
        [
         "1",
         0,
         {
          "length": 2,
          "values": [
           3.5915291765229544,
           -2.602797029692257
          ],
          "vectorType": "dense"
         }
        ],
        [
         "0",
         1,
         {
          "length": 2,
          "values": [
           -4.145449783640533,
           -0.7668141287529167
          ],
          "vectorType": "dense"
         }
        ],
        [
         "0",
         1,
         {
          "length": 2,
          "values": [
           -7.665396811495929,
           0.8597276809314314
          ],
          "vectorType": "dense"
         }
        ],
        [
         "1",
         0,
         {
          "length": 2,
          "values": [
           2.0086120468983655,
           -0.4293118113846647
          ],
          "vectorType": "dense"
         }
        ],
        [
         "1",
         0,
         {
          "length": 2,
          "values": [
           2.9182657286307934,
           1.6989775538427376
          ],
          "vectorType": "dense"
         }
        ],
        [
         "1",
         0,
         {
          "length": 2,
          "values": [
           0.5002975911258666,
           -0.10663763480732191
          ],
          "vectorType": "dense"
         }
        ],
        [
         "1",
         0,
         {
          "length": 2,
          "values": [
           1.909818136290534,
           0.6508212257862362
          ],
          "vectorType": "dense"
         }
        ],
        [
         "1",
         0,
         {
          "length": 2,
          "values": [
           3.7817716673916792,
           0.3258596453595585
          ],
          "vectorType": "dense"
         }
        ],
        [
         "1",
         0,
         {
          "length": 2,
          "values": [
           2.706012962066895,
           0.2194726288777049
          ],
          "vectorType": "dense"
         }
        ],
        [
         "0",
         1,
         {
          "length": 2,
          "values": [
           -6.284144085196279,
           -2.034757025450057
          ],
          "vectorType": "dense"
         }
        ],
        [
         "1",
         0,
         {
          "length": 2,
          "values": [
           3.4277546285096903,
           0.9917374104621859
          ],
          "vectorType": "dense"
         }
        ],
        [
         "1",
         0,
         {
          "length": 2,
          "values": [
           1.9996290036610866,
           0.29306859391553763
          ],
          "vectorType": "dense"
         }
        ],
        [
         "1",
         0,
         {
          "length": 2,
          "values": [
           2.4711187702674877,
           0.3347524795996754
          ],
          "vectorType": "dense"
         }
        ],
        [
         "1",
         0,
         {
          "length": 2,
          "values": [
           3.6440513653380244,
           1.2402738149716068
          ],
          "vectorType": "dense"
         }
        ],
        [
         "1",
         0,
         {
          "length": 2,
          "values": [
           2.344124268696747,
           -0.6821411046260262
          ],
          "vectorType": "dense"
         }
        ],
        [
         "1",
         0,
         {
          "length": 2,
          "values": [
           1.1419920938905654,
           1.9604465077671769
          ],
          "vectorType": "dense"
         }
        ],
        [
         "1",
         0,
         {
          "length": 2,
          "values": [
           1.349669736242352,
           -0.36924900183406884
          ],
          "vectorType": "dense"
         }
        ],
        [
         "0",
         1,
         {
          "length": 2,
          "values": [
           -2.760941448865499,
           1.0776852596095776
          ],
          "vectorType": "dense"
         }
        ],
        [
         "1",
         0,
         {
          "length": 2,
          "values": [
           1.967592331203069,
           0.17569391630596184
          ],
          "vectorType": "dense"
         }
        ],
        [
         "1",
         0,
         {
          "length": 2,
          "values": [
           2.92861018720084,
           0.49442119061084133
          ],
          "vectorType": "dense"
         }
        ],
        [
         "1",
         0,
         {
          "length": 2,
          "values": [
           2.92380174883021,
           -0.3770005363916792
          ],
          "vectorType": "dense"
         }
        ],
        [
         "1",
         0,
         {
          "length": 2,
          "values": [
           3.99267514417972,
           -0.9590122600837145
          ],
          "vectorType": "dense"
         }
        ],
        [
         "1",
         0,
         {
          "length": 2,
          "values": [
           -0.1550016743349039,
           0.437623165978837
          ],
          "vectorType": "dense"
         }
        ],
        [
         "0",
         0,
         {
          "length": 2,
          "values": [
           0.9332696314803103,
           2.104094210067527
          ],
          "vectorType": "dense"
         }
        ],
        [
         "1",
         0,
         {
          "length": 2,
          "values": [
           1.927925359175412,
           -0.8916821038232392
          ],
          "vectorType": "dense"
         }
        ],
        [
         "1",
         0,
         {
          "length": 2,
          "values": [
           2.6200332486414437,
           -2.499901967771065
          ],
          "vectorType": "dense"
         }
        ],
        [
         "0",
         1,
         {
          "length": 2,
          "values": [
           -5.998338685657266,
           0.09094919644802113
          ],
          "vectorType": "dense"
         }
        ],
        [
         "1",
         0,
         {
          "length": 2,
          "values": [
           2.9193091202939803,
           0.00920458204064542
          ],
          "vectorType": "dense"
         }
        ],
        [
         "1",
         0,
         {
          "length": 2,
          "values": [
           3.3390068299273357,
           0.022205192232515797
          ],
          "vectorType": "dense"
         }
        ],
        [
         "1",
         0,
         {
          "length": 2,
          "values": [
           2.0131436791939663,
           -0.7777677776660812
          ],
          "vectorType": "dense"
         }
        ],
        [
         "1",
         1,
         {
          "length": 2,
          "values": [
           -1.9867140066590794,
           -2.314011967419204
          ],
          "vectorType": "dense"
         }
        ],
        [
         "1",
         0,
         {
          "length": 2,
          "values": [
           1.6681361466415952,
           -0.8615607699852146
          ],
          "vectorType": "dense"
         }
        ],
        [
         "1",
         0,
         {
          "length": 2,
          "values": [
           0.37085180302599974,
           -0.11351277941469305
          ],
          "vectorType": "dense"
         }
        ],
        [
         "1",
         0,
         {
          "length": 2,
          "values": [
           1.8473344702440129,
           -2.5389956007011905
          ],
          "vectorType": "dense"
         }
        ],
        [
         "1",
         0,
         {
          "length": 2,
          "values": [
           4.6989076587167675,
           0.4319223845700211
          ],
          "vectorType": "dense"
         }
        ],
        [
         "1",
         0,
         {
          "length": 2,
          "values": [
           1.2820590739521003,
           -2.5486667521841357
          ],
          "vectorType": "dense"
         }
        ],
        [
         "1",
         0,
         {
          "length": 2,
          "values": [
           2.312212316213461,
           -0.4016780429615857
          ],
          "vectorType": "dense"
         }
        ],
        [
         "1",
         0,
         {
          "length": 2,
          "values": [
           4.654989276563036,
           0.7816110211582356
          ],
          "vectorType": "dense"
         }
        ],
        [
         "1",
         0,
         {
          "length": 2,
          "values": [
           3.940006591278556,
           2.0282316570124226
          ],
          "vectorType": "dense"
         }
        ],
        [
         "0",
         1,
         {
          "length": 2,
          "values": [
           -4.945506936786711,
           -3.003421434951423
          ],
          "vectorType": "dense"
         }
        ],
        [
         "1",
         0,
         {
          "length": 2,
          "values": [
           0.914998417180693,
           -2.476833776056108
          ],
          "vectorType": "dense"
         }
        ],
        [
         "0",
         1,
         {
          "length": 2,
          "values": [
           -4.545111927264468,
           0.8152831423276554
          ],
          "vectorType": "dense"
         }
        ],
        [
         "0",
         1,
         {
          "length": 2,
          "values": [
           -4.43843746105249,
           0.9915664239722887
          ],
          "vectorType": "dense"
         }
        ],
        [
         "1",
         0,
         {
          "length": 2,
          "values": [
           2.193054644119214,
           1.8037661137139487
          ],
          "vectorType": "dense"
         }
        ],
        [
         "0",
         0,
         {
          "length": 2,
          "values": [
           -0.6638567906972933,
           -0.43647680208109413
          ],
          "vectorType": "dense"
         }
        ],
        [
         "1",
         0,
         {
          "length": 2,
          "values": [
           2.2389060523360547,
           0.4541898722408363
          ],
          "vectorType": "dense"
         }
        ],
        [
         "1",
         0,
         {
          "length": 2,
          "values": [
           2.123312146064986,
           1.1937465406902616
          ],
          "vectorType": "dense"
         }
        ],
        [
         "1",
         0,
         {
          "length": 2,
          "values": [
           2.613018230636058,
           1.830449829701576
          ],
          "vectorType": "dense"
         }
        ],
        [
         "1",
         0,
         {
          "length": 2,
          "values": [
           3.2081451461269004,
           2.233177743167421
          ],
          "vectorType": "dense"
         }
        ],
        [
         "1",
         0,
         {
          "length": 2,
          "values": [
           0.30648072797555426,
           -2.1830779549000954
          ],
          "vectorType": "dense"
         }
        ],
        [
         "0",
         1,
         {
          "length": 2,
          "values": [
           -2.4701834157673517,
           1.4985062241646343
          ],
          "vectorType": "dense"
         }
        ],
        [
         "1",
         0,
         {
          "length": 2,
          "values": [
           3.4516812564733845,
           2.134583339853946
          ],
          "vectorType": "dense"
         }
        ],
        [
         "1",
         0,
         {
          "length": 2,
          "values": [
           3.897097812804002,
           -0.7301335297261968
          ],
          "vectorType": "dense"
         }
        ],
        [
         "0",
         0,
         {
          "length": 2,
          "values": [
           -0.9808644845488861,
           2.208486711616481
          ],
          "vectorType": "dense"
         }
        ],
        [
         "1",
         0,
         {
          "length": 2,
          "values": [
           1.2561462947029458,
           -1.066752884858787
          ],
          "vectorType": "dense"
         }
        ],
        [
         "0",
         1,
         {
          "length": 2,
          "values": [
           -3.2425605374516238,
           1.7767952397711555
          ],
          "vectorType": "dense"
         }
        ],
        [
         "1",
         0,
         {
          "length": 2,
          "values": [
           1.555850428173458,
           1.0370146428298208
          ],
          "vectorType": "dense"
         }
        ],
        [
         "1",
         0,
         {
          "length": 2,
          "values": [
           1.248159847609764,
           1.5874420077235567
          ],
          "vectorType": "dense"
         }
        ],
        [
         "0",
         1,
         {
          "length": 2,
          "values": [
           -4.327845296903541,
           4.045772564967691
          ],
          "vectorType": "dense"
         }
        ],
        [
         "1",
         0,
         {
          "length": 2,
          "values": [
           1.0765041197499041,
           -1.8020325644596087
          ],
          "vectorType": "dense"
         }
        ],
        [
         "0",
         1,
         {
          "length": 2,
          "values": [
           -2.50954496723855,
           2.526584455419936
          ],
          "vectorType": "dense"
         }
        ],
        [
         "1",
         0,
         {
          "length": 2,
          "values": [
           2.2151432129344313,
           -0.029865010034000328
          ],
          "vectorType": "dense"
         }
        ],
        [
         "1",
         0,
         {
          "length": 2,
          "values": [
           1.1727987075491468,
           0.47442206362079425
          ],
          "vectorType": "dense"
         }
        ],
        [
         "1",
         0,
         {
          "length": 2,
          "values": [
           2.833807992032256,
           1.0172307504970854
          ],
          "vectorType": "dense"
         }
        ],
        [
         "1",
         0,
         {
          "length": 2,
          "values": [
           1.855453295571189,
           1.5700116743471624
          ],
          "vectorType": "dense"
         }
        ],
        [
         "1",
         0,
         {
          "length": 2,
          "values": [
           1.3274463600967459,
           -0.7764124994109081
          ],
          "vectorType": "dense"
         }
        ],
        [
         "1",
         0,
         {
          "length": 2,
          "values": [
           2.800307381480742,
           1.664836753413479
          ],
          "vectorType": "dense"
         }
        ],
        [
         "1",
         0,
         {
          "length": 2,
          "values": [
           3.1717779665128187,
           2.073908798274623
          ],
          "vectorType": "dense"
         }
        ],
        [
         "1",
         0,
         {
          "length": 2,
          "values": [
           4.083484325194264,
           0.48428396052725586
          ],
          "vectorType": "dense"
         }
        ],
        [
         "0",
         1,
         {
          "length": 2,
          "values": [
           -3.4724383684210407,
           1.67141372334568
          ],
          "vectorType": "dense"
         }
        ],
        [
         "0",
         1,
         {
          "length": 2,
          "values": [
           -16.304886649594216,
           7.769016888373382
          ],
          "vectorType": "dense"
         }
        ],
        [
         "1",
         0,
         {
          "length": 2,
          "values": [
           2.557864367016561,
           2.4918528797022423
          ],
          "vectorType": "dense"
         }
        ],
        [
         "1",
         0,
         {
          "length": 2,
          "values": [
           2.9662787832842827,
           0.06878661072296705
          ],
          "vectorType": "dense"
         }
        ],
        [
         "1",
         0,
         {
          "length": 2,
          "values": [
           2.755006335869314,
           1.7923416963765513
          ],
          "vectorType": "dense"
         }
        ],
        [
         "1",
         1,
         {
          "length": 2,
          "values": [
           -1.3691351808117749,
           -2.1081563937309458
          ],
          "vectorType": "dense"
         }
        ],
        [
         "1",
         0,
         {
          "length": 2,
          "values": [
           0.4172973149060333,
           -0.11641726210993464
          ],
          "vectorType": "dense"
         }
        ],
        [
         "1",
         0,
         {
          "length": 2,
          "values": [
           3.835024205957114,
           -0.898388161674005
          ],
          "vectorType": "dense"
         }
        ],
        [
         "0",
         1,
         {
          "length": 2,
          "values": [
           -5.9257508235346075,
           -1.2272168607935359
          ],
          "vectorType": "dense"
         }
        ],
        [
         "1",
         0,
         {
          "length": 2,
          "values": [
           -0.6449111936209141,
           -3.4229995421977764
          ],
          "vectorType": "dense"
         }
        ],
        [
         "1",
         0,
         {
          "length": 2,
          "values": [
           2.6814869751157433,
           -1.4422864689137533
          ],
          "vectorType": "dense"
         }
        ],
        [
         "1",
         0,
         {
          "length": 2,
          "values": [
           2.0398691822622053,
           0.9024618581445207
          ],
          "vectorType": "dense"
         }
        ],
        [
         "1",
         0,
         {
          "length": 2,
          "values": [
           1.398066199236754,
           1.770668243981824
          ],
          "vectorType": "dense"
         }
        ],
        [
         "1",
         0,
         {
          "length": 2,
          "values": [
           3.5333063582933635,
           1.24575801773039
          ],
          "vectorType": "dense"
         }
        ],
        [
         "1",
         0,
         {
          "length": 2,
          "values": [
           1.9887795302556113,
           -1.89779269317917
          ],
          "vectorType": "dense"
         }
        ],
        [
         "1",
         0,
         {
          "length": 2,
          "values": [
           1.996428720313028,
           0.20618971131568076
          ],
          "vectorType": "dense"
         }
        ],
        [
         "1",
         0,
         {
          "length": 2,
          "values": [
           0.5202003908111569,
           0.9725121025461498
          ],
          "vectorType": "dense"
         }
        ],
        [
         "1",
         0,
         {
          "length": 2,
          "values": [
           3.1695815905766174,
           2.0872157681880967
          ],
          "vectorType": "dense"
         }
        ],
        [
         "1",
         0,
         {
          "length": 2,
          "values": [
           2.200773740164568,
           -1.2849087344346048
          ],
          "vectorType": "dense"
         }
        ],
        [
         "0",
         1,
         {
          "length": 2,
          "values": [
           -3.821070903352409,
           -2.3032097346083917
          ],
          "vectorType": "dense"
         }
        ],
        [
         "1",
         0,
         {
          "length": 2,
          "values": [
           2.982860087893478,
           0.6727472975250199
          ],
          "vectorType": "dense"
         }
        ],
        [
         "1",
         0,
         {
          "length": 2,
          "values": [
           2.4788739595090217,
           2.361880554620532
          ],
          "vectorType": "dense"
         }
        ],
        [
         "1",
         0,
         {
          "length": 2,
          "values": [
           1.2709931213159007,
           -0.5093856426258698
          ],
          "vectorType": "dense"
         }
        ],
        [
         "1",
         0,
         {
          "length": 2,
          "values": [
           2.2331919146098254,
           1.297562775248254
          ],
          "vectorType": "dense"
         }
        ],
        [
         "1",
         0,
         {
          "length": 2,
          "values": [
           0.056133712562133314,
           0.22718349542905497
          ],
          "vectorType": "dense"
         }
        ],
        [
         "1",
         1,
         {
          "length": 2,
          "values": [
           -2.3153533394197727,
           -4.385275754541184
          ],
          "vectorType": "dense"
         }
        ],
        [
         "1",
         0,
         {
          "length": 2,
          "values": [
           2.2823230571574515,
           2.464672104779668
          ],
          "vectorType": "dense"
         }
        ],
        [
         "0",
         1,
         {
          "length": 2,
          "values": [
           -4.750434988655813,
           1.4881141767755597
          ],
          "vectorType": "dense"
         }
        ],
        [
         "1",
         0,
         {
          "length": 2,
          "values": [
           1.7247932814230538,
           -0.9973003162547251
          ],
          "vectorType": "dense"
         }
        ],
        [
         "0",
         0,
         {
          "length": 2,
          "values": [
           0.7411296510979193,
           2.449879330556573
          ],
          "vectorType": "dense"
         }
        ],
        [
         "1",
         0,
         {
          "length": 2,
          "values": [
           2.891766211587366,
           0.977084587771863
          ],
          "vectorType": "dense"
         }
        ],
        [
         "1",
         0,
         {
          "length": 2,
          "values": [
           1.6530673209399034,
           4.551659142222769
          ],
          "vectorType": "dense"
         }
        ],
        [
         "0",
         1,
         {
          "length": 2,
          "values": [
           -3.1007913344299807,
           1.235066483028626
          ],
          "vectorType": "dense"
         }
        ],
        [
         "1",
         0,
         {
          "length": 2,
          "values": [
           4.060697611933903,
           0.5604610750609345
          ],
          "vectorType": "dense"
         }
        ],
        [
         "1",
         0,
         {
          "length": 2,
          "values": [
           2.790874981685018,
           1.076940538969515
          ],
          "vectorType": "dense"
         }
        ],
        [
         "1",
         0,
         {
          "length": 2,
          "values": [
           1.4736233044459313,
           1.5896954369820397
          ],
          "vectorType": "dense"
         }
        ],
        [
         "1",
         0,
         {
          "length": 2,
          "values": [
           0.2291929713893269,
           -1.5145707554059142
          ],
          "vectorType": "dense"
         }
        ],
        [
         "1",
         0,
         {
          "length": 2,
          "values": [
           2.551013784403687,
           0.7632289241818467
          ],
          "vectorType": "dense"
         }
        ],
        [
         "0",
         1,
         {
          "length": 2,
          "values": [
           -3.712438548894881,
           1.0577555061741135
          ],
          "vectorType": "dense"
         }
        ],
        [
         "0",
         1,
         {
          "length": 2,
          "values": [
           -5.0903628610901865,
           2.017432705941421
          ],
          "vectorType": "dense"
         }
        ],
        [
         "1",
         0,
         {
          "length": 2,
          "values": [
           0.6000880992881495,
           0.8377175598703596
          ],
          "vectorType": "dense"
         }
        ],
        [
         "0",
         1,
         {
          "length": 2,
          "values": [
           -2.7879467302084433,
           -3.382584454086203
          ],
          "vectorType": "dense"
         }
        ],
        [
         "1",
         0,
         {
          "length": 2,
          "values": [
           1.4075327339711794,
           -1.5044468375239244
          ],
          "vectorType": "dense"
         }
        ],
        [
         "0",
         1,
         {
          "length": 2,
          "values": [
           -7.252797143875283,
           5.49090430233696
          ],
          "vectorType": "dense"
         }
        ],
        [
         "1",
         1,
         {
          "length": 2,
          "values": [
           -1.2977246878630824,
           -7.7230573252406876
          ],
          "vectorType": "dense"
         }
        ],
        [
         "1",
         0,
         {
          "length": 2,
          "values": [
           -1.0757467319114502,
           -8.28748333708094
          ],
          "vectorType": "dense"
         }
        ],
        [
         "1",
         0,
         {
          "length": 2,
          "values": [
           1.2486618339884528,
           -1.5942810552468651
          ],
          "vectorType": "dense"
         }
        ],
        [
         "1",
         0,
         {
          "length": 2,
          "values": [
           1.2558234134005026,
           -4.113567176044441
          ],
          "vectorType": "dense"
         }
        ],
        [
         "1",
         0,
         {
          "length": 2,
          "values": [
           1.1655096888161074,
           1.664229389288278
          ],
          "vectorType": "dense"
         }
        ],
        [
         "0",
         1,
         {
          "length": 2,
          "values": [
           -4.090543310340465,
           -2.8004631372638533
          ],
          "vectorType": "dense"
         }
        ],
        [
         "1",
         0,
         {
          "length": 2,
          "values": [
           1.8859797779694114,
           -1.670721679773254
          ],
          "vectorType": "dense"
         }
        ],
        [
         "1",
         0,
         {
          "length": 2,
          "values": [
           2.7650027918677633,
           2.1591489715386922
          ],
          "vectorType": "dense"
         }
        ],
        [
         "0",
         1,
         {
          "length": 2,
          "values": [
           -2.2250366914743682,
           -1.939927827030339
          ],
          "vectorType": "dense"
         }
        ],
        [
         "1",
         0,
         {
          "length": 2,
          "values": [
           1.130582097681733,
           1.4097615238920558
          ],
          "vectorType": "dense"
         }
        ],
        [
         "0",
         0,
         {
          "length": 2,
          "values": [
           0.7331273774331185,
           1.9419884383163164
          ],
          "vectorType": "dense"
         }
        ],
        [
         "1",
         0,
         {
          "length": 2,
          "values": [
           2.331619157745097,
           -0.7894519727749363
          ],
          "vectorType": "dense"
         }
        ],
        [
         "0",
         1,
         {
          "length": 2,
          "values": [
           -2.6948525682230757,
           1.9420011894412628
          ],
          "vectorType": "dense"
         }
        ],
        [
         "0",
         1,
         {
          "length": 2,
          "values": [
           -3.3760441048029453,
           2.331377578459931
          ],
          "vectorType": "dense"
         }
        ],
        [
         "1",
         0,
         {
          "length": 2,
          "values": [
           0.19969486970744776,
           -1.0754137523919416
          ],
          "vectorType": "dense"
         }
        ],
        [
         "1",
         0,
         {
          "length": 2,
          "values": [
           1.1749920441007746,
           -1.0104810609185944
          ],
          "vectorType": "dense"
         }
        ],
        [
         "1",
         0,
         {
          "length": 2,
          "values": [
           1.2915001552911294,
           -4.95986054770475
          ],
          "vectorType": "dense"
         }
        ],
        [
         "0",
         1,
         {
          "length": 2,
          "values": [
           -8.62316837995109,
           3.4564106380793023
          ],
          "vectorType": "dense"
         }
        ],
        [
         "1",
         0,
         {
          "length": 2,
          "values": [
           4.425562342734112,
           0.7853450148775316
          ],
          "vectorType": "dense"
         }
        ],
        [
         "1",
         0,
         {
          "length": 2,
          "values": [
           0.6192938271623817,
           -0.6357898420661944
          ],
          "vectorType": "dense"
         }
        ],
        [
         "1",
         0,
         {
          "length": 2,
          "values": [
           3.249456589361688,
           -1.2847946773825833
          ],
          "vectorType": "dense"
         }
        ],
        [
         "1",
         0,
         {
          "length": 2,
          "values": [
           3.3499794247879007,
           -2.6709504428938526
          ],
          "vectorType": "dense"
         }
        ],
        [
         "1",
         0,
         {
          "length": 2,
          "values": [
           0.8590471150995695,
           -0.09676338102649315
          ],
          "vectorType": "dense"
         }
        ],
        [
         "1",
         0,
         {
          "length": 2,
          "values": [
           3.153846915866264,
           0.8707764321748559
          ],
          "vectorType": "dense"
         }
        ],
        [
         "1",
         0,
         {
          "length": 2,
          "values": [
           -0.34622347304999,
           -1.5398703522206656
          ],
          "vectorType": "dense"
         }
        ],
        [
         "1",
         0,
         {
          "length": 2,
          "values": [
           2.4592427765273936,
           -0.6003197511282811
          ],
          "vectorType": "dense"
         }
        ],
        [
         "1",
         0,
         {
          "length": 2,
          "values": [
           1.5287555778359285,
           -0.4048615538044331
          ],
          "vectorType": "dense"
         }
        ],
        [
         "1",
         0,
         {
          "length": 2,
          "values": [
           1.7720258700967124,
           -0.803503014434994
          ],
          "vectorType": "dense"
         }
        ],
        [
         "1",
         0,
         {
          "length": 2,
          "values": [
           2.678085191313472,
           1.4834036616823287
          ],
          "vectorType": "dense"
         }
        ],
        [
         "0",
         1,
         {
          "length": 2,
          "values": [
           -4.0248937788414745,
           2.9388442248977937
          ],
          "vectorType": "dense"
         }
        ],
        [
         "1",
         0,
         {
          "length": 2,
          "values": [
           2.1344731172656486,
           -1.517245622815041
          ],
          "vectorType": "dense"
         }
        ],
        [
         "0",
         1,
         {
          "length": 2,
          "values": [
           -5.160869926813539,
           2.3801089865141543
          ],
          "vectorType": "dense"
         }
        ],
        [
         "0",
         0,
         {
          "length": 2,
          "values": [
           -0.5354608003698782,
           -0.3803804509380937
          ],
          "vectorType": "dense"
         }
        ],
        [
         "1",
         0,
         {
          "length": 2,
          "values": [
           -0.3428217359545053,
           -3.5313738153028877
          ],
          "vectorType": "dense"
         }
        ],
        [
         "1",
         0,
         {
          "length": 2,
          "values": [
           4.193390244985366,
           -2.3653110586351427
          ],
          "vectorType": "dense"
         }
        ],
        [
         "1",
         0,
         {
          "length": 2,
          "values": [
           1.1418271770489359,
           -5.594535868456152
          ],
          "vectorType": "dense"
         }
        ],
        [
         "1",
         0,
         {
          "length": 2,
          "values": [
           1.664010998953224,
           -2.3875173612100076
          ],
          "vectorType": "dense"
         }
        ],
        [
         "1",
         0,
         {
          "length": 2,
          "values": [
           -1.0108230779795002,
           -1.091429306814634
          ],
          "vectorType": "dense"
         }
        ],
        [
         "1",
         0,
         {
          "length": 2,
          "values": [
           1.2997860372752292,
           1.8198140572884016
          ],
          "vectorType": "dense"
         }
        ],
        [
         "1",
         0,
         {
          "length": 2,
          "values": [
           2.3713421938590287,
           1.6800979291229732
          ],
          "vectorType": "dense"
         }
        ],
        [
         "1",
         0,
         {
          "length": 2,
          "values": [
           1.6644065095239404,
           0.21377464094397797
          ],
          "vectorType": "dense"
         }
        ],
        [
         "1",
         0,
         {
          "length": 2,
          "values": [
           1.9259835298962638,
           1.1367397049354833
          ],
          "vectorType": "dense"
         }
        ],
        [
         "1",
         0,
         {
          "length": 2,
          "values": [
           4.233491591622636,
           -0.18411049913664243
          ],
          "vectorType": "dense"
         }
        ],
        [
         "1",
         0,
         {
          "length": 2,
          "values": [
           2.67551654832496,
           -2.313756960760067
          ],
          "vectorType": "dense"
         }
        ],
        [
         "1",
         0,
         {
          "length": 2,
          "values": [
           3.8331251057796765,
           -0.4958136647931506
          ],
          "vectorType": "dense"
         }
        ],
        [
         "1",
         0,
         {
          "length": 2,
          "values": [
           2.549197271080616,
           -0.22812922776495775
          ],
          "vectorType": "dense"
         }
        ],
        [
         "1",
         0,
         {
          "length": 2,
          "values": [
           4.690796039132359,
           0.7668032380496332
          ],
          "vectorType": "dense"
         }
        ],
        [
         "1",
         0,
         {
          "length": 2,
          "values": [
           2.023256911330983,
           -1.2601331159344544
          ],
          "vectorType": "dense"
         }
        ],
        [
         "1",
         0,
         {
          "length": 2,
          "values": [
           2.893402316494323,
           1.4503596008448243
          ],
          "vectorType": "dense"
         }
        ],
        [
         "1",
         0,
         {
          "length": 2,
          "values": [
           3.499122181891035,
           -1.7992493424731142
          ],
          "vectorType": "dense"
         }
        ],
        [
         "1",
         0,
         {
          "length": 2,
          "values": [
           2.1520101253443116,
           0.8293390875025686
          ],
          "vectorType": "dense"
         }
        ],
        [
         "1",
         0,
         {
          "length": 2,
          "values": [
           2.053277400329513,
           -1.6150382046289566
          ],
          "vectorType": "dense"
         }
        ],
        [
         "1",
         0,
         {
          "length": 2,
          "values": [
           3.87388097251528,
           -1.0833015533293562
          ],
          "vectorType": "dense"
         }
        ],
        [
         "1",
         0,
         {
          "length": 2,
          "values": [
           4.060289488002569,
           -0.1220610343738378
          ],
          "vectorType": "dense"
         }
        ],
        [
         "1",
         0,
         {
          "length": 2,
          "values": [
           0.09858059215940665,
           0.21337209338157492
          ],
          "vectorType": "dense"
         }
        ],
        [
         "1",
         0,
         {
          "length": 2,
          "values": [
           1.0884184965311121,
           -1.2917113284606192
          ],
          "vectorType": "dense"
         }
        ],
        [
         "1",
         0,
         {
          "length": 2,
          "values": [
           0.48134742985143564,
           0.17786319025918332
          ],
          "vectorType": "dense"
         }
        ],
        [
         "1",
         0,
         {
          "length": 2,
          "values": [
           4.866027926474258,
           2.1292326072497127
          ],
          "vectorType": "dense"
         }
        ],
        [
         "0",
         1,
         {
          "length": 2,
          "values": [
           -5.912410291355404,
           -3.4795749998679417
          ],
          "vectorType": "dense"
         }
        ],
        [
         "0",
         1,
         {
          "length": 2,
          "values": [
           -8.73365338296719,
           0.5733501846849253
          ],
          "vectorType": "dense"
         }
        ],
        [
         "0",
         1,
         {
          "length": 2,
          "values": [
           -6.4336545461706285,
           3.573672988510644
          ],
          "vectorType": "dense"
         }
        ],
        [
         "0",
         1,
         {
          "length": 2,
          "values": [
           -3.790047527744144,
           3.580897052024049
          ],
          "vectorType": "dense"
         }
        ],
        [
         "0",
         1,
         {
          "length": 2,
          "values": [
           -1.2550749425072116,
           1.900624363993427
          ],
          "vectorType": "dense"
         }
        ],
        [
         "0",
         1,
         {
          "length": 2,
          "values": [
           -10.365673359932295,
           -1.6705402060588808
          ],
          "vectorType": "dense"
         }
        ],
        [
         "1",
         0,
         {
          "length": 2,
          "values": [
           5.470429900908385,
           0.6700472198383458
          ],
          "vectorType": "dense"
         }
        ]
       ],
       "datasetInfos": [],
       "dbfsResultPath": null,
       "isJsonSchema": true,
       "metadata": {},
       "overflow": false,
       "plotOptions": {
        "customPlotOptions": {},
        "displayType": "table",
        "pivotAggregation": null,
        "pivotColumns": null,
        "xColumns": null,
        "yColumns": null
       },
       "removedWidgets": [],
       "schema": [
        {
         "metadata": "{}",
         "name": "label",
         "type": "\"string\""
        },
        {
         "metadata": "{\"ml_attr\":{\"type\":\"nominal\",\"num_vals\":2}}",
         "name": "cluster",
         "type": "\"integer\""
        },
        {
         "metadata": "{\"ml_attr\":{\"num_attrs\":2}}",
         "name": "pca_features",
         "type": "{\"type\":\"udt\",\"class\":\"org.apache.spark.ml.linalg.VectorUDT\",\"pyClass\":\"pyspark.ml.linalg.VectorUDT\",\"sqlType\":{\"type\":\"struct\",\"fields\":[{\"name\":\"type\",\"type\":\"byte\",\"nullable\":false,\"metadata\":{}},{\"name\":\"size\",\"type\":\"integer\",\"nullable\":true,\"metadata\":{}},{\"name\":\"indices\",\"type\":{\"type\":\"array\",\"elementType\":\"integer\",\"containsNull\":false},\"nullable\":true,\"metadata\":{}},{\"name\":\"values\",\"type\":{\"type\":\"array\",\"elementType\":\"double\",\"containsNull\":false},\"nullable\":true,\"metadata\":{}}]}}"
        }
       ],
       "type": "table"
      }
     },
     "output_type": "display_data"
    }
   ],
   "source": [
    "from pyspark.ml.clustering import KMeans\n",
    "from pyspark.ml.evaluation import ClusteringEvaluator\n",
    "\n",
    "# Prepare data for clustering\n",
    "kmeans = KMeans(k=2, featuresCol=\"pca_features\", predictionCol=\"cluster\")\n",
    "kmeans_model = kmeans.fit(result)\n",
    "clustered = kmeans_model.transform(result)\n",
    "\n",
    "# Evaluate clustering\n",
    "evaluator = ClusteringEvaluator(\n",
    "   predictionCol=\"cluster\",\n",
    "   featuresCol=\"pca_features\",\n",
    "   metricName=\"silhouette\"\n",
    ")\n",
    "silhouette = evaluator.evaluate(clustered)\n",
    "\n",
    "print(f\"Silhouette score: {silhouette:.3f}\")\n",
    "\n",
    "# Visualize clusters\n",
    "display(clustered.select(\"label\", \"cluster\", \"pca_features\"))"
   ]
  },
  {
   "cell_type": "code",
   "execution_count": 0,
   "metadata": {
    "application/vnd.databricks.v1+cell": {
     "cellMetadata": {
      "byteLimit": 2048000,
      "rowLimit": 10000
     },
     "inputWidgets": {},
     "nuid": "92850e4e-d326-4124-ac23-919a11d69535",
     "showTitle": false,
     "tableResultSettingsMap": {},
     "title": ""
    }
   },
   "outputs": [
    {
     "output_type": "stream",
     "name": "stdout",
     "output_type": "stream",
     "text": [
      "Dataset Summary:\nOriginal dimensions: 30\nReduced dimensions: 2\nData points: 569\n\nDimensionality Reduction Performance:\nTotal explained variance: 0.632\nClustering quality (Silhouette): 0.671\n"
     ]
    },
    {
     "output_type": "stream",
     "name": "stderr",
     "output_type": "stream",
     "text": [
      "/databricks/spark/python/pyspark/sql/pandas/conversion.py:122: UserWarning: toPandas attempted Arrow optimization because 'spark.sql.execution.arrow.pyspark.enabled' is set to true; however, failed by the reason below:\n  Unable to convert the field pca_features. If this column is not necessary, you may consider dropping it or converting to primitive type before the conversion.\nDirect cause: Unsupported type in conversion to Arrow: VectorUDT()\nAttempting non-optimization as 'spark.sql.execution.arrow.pyspark.fallback.enabled' is set to true.\n  warn(msg)\n/databricks/spark/python/pyspark/sql/pandas/conversion.py:467: UserWarning: createDataFrame attempted Arrow optimization because 'spark.sql.execution.arrow.pyspark.enabled' is set to true; however, failed by the reason below:\n  Could not convert DenseVector([-9.1848, -1.9469]) with type DenseVector: did not recognize Python value type when inferring an Arrow data type\nAttempting non-optimization as 'spark.sql.execution.arrow.pyspark.fallback.enabled' is set to true.\n  warn(msg)\n"
     ]
    },
    {
     "output_type": "display_data",
     "data": {
      "text/html": [
       "<style scoped>\n",
       "  .table-result-container {\n",
       "    max-height: 300px;\n",
       "    overflow: auto;\n",
       "  }\n",
       "  table, th, td {\n",
       "    border: 1px solid black;\n",
       "    border-collapse: collapse;\n",
       "  }\n",
       "  th, td {\n",
       "    padding: 5px;\n",
       "  }\n",
       "  th {\n",
       "    text-align: left;\n",
       "  }\n",
       "</style><div class='table-result-container'><table class='table-result'><thead style='background-color: white'><tr><th>label</th><th>cluster</th><th>pca_features</th><th>PC1</th><th>PC2</th></tr></thead><tbody><tr><td>0</td><td>1</td><td>Map(vectorType -> dense, length -> 2, values -> List(-9.184755209858798, -1.9468700303852997))</td><td>-9.184755209858798</td><td>-1.9468700303852997</td></tr><tr><td>0</td><td>1</td><td>Map(vectorType -> dense, length -> 2, values -> List(-2.385702628982577, 3.764859062972658))</td><td>-2.385702628982577</td><td>3.764859062972658</td></tr><tr><td>0</td><td>1</td><td>Map(vectorType -> dense, length -> 2, values -> List(-5.728855490819108, 1.0742285887048915))</td><td>-5.728855490819108</td><td>1.0742285887048915</td></tr><tr><td>0</td><td>1</td><td>Map(vectorType -> dense, length -> 2, values -> List(-7.116691259621306, -10.266555635124405))</td><td>-7.116691259621306</td><td>-10.266555635124405</td></tr><tr><td>0</td><td>1</td><td>Map(vectorType -> dense, length -> 2, values -> List(-3.931842466790753, 1.9463589770798275))</td><td>-3.931842466790753</td><td>1.9463589770798275</td></tr><tr><td>0</td><td>1</td><td>Map(vectorType -> dense, length -> 2, values -> List(-2.3781546249740986, -3.9464564299158127))</td><td>-2.3781546249740986</td><td>-3.9464564299158127</td></tr><tr><td>0</td><td>1</td><td>Map(vectorType -> dense, length -> 2, values -> List(-2.236915058609935, 2.6876664141795787))</td><td>-2.236915058609935</td><td>2.6876664141795787</td></tr><tr><td>0</td><td>1</td><td>Map(vectorType -> dense, length -> 2, values -> List(-2.1414142815514485, -2.3381866491831156))</td><td>-2.1414142815514485</td><td>-2.3381866491831156</td></tr><tr><td>0</td><td>1</td><td>Map(vectorType -> dense, length -> 2, values -> List(-3.172133150308517, -3.3888311376864144))</td><td>-3.172133150308517</td><td>-3.3888311376864144</td></tr><tr><td>0</td><td>1</td><td>Map(vectorType -> dense, length -> 2, values -> List(-6.346162835225129, -7.720380945492959))</td><td>-6.346162835225129</td><td>-7.720380945492959</td></tr><tr><td>0</td><td>0</td><td>Map(vectorType -> dense, length -> 2, values -> List(0.8097013190408896, 2.656937672621719))</td><td>0.8097013190408896</td><td>2.656937672621719</td></tr><tr><td>0</td><td>1</td><td>Map(vectorType -> dense, length -> 2, values -> List(-2.6487698390097, -0.06650940530101429))</td><td>-2.6487698390097</td><td>-0.06650940530101429</td></tr><tr><td>0</td><td>1</td><td>Map(vectorType -> dense, length -> 2, values -> List(-8.177838822068551, -2.6986020073253876))</td><td>-8.177838822068551</td><td>-2.6986020073253876</td></tr><tr><td>0</td><td>0</td><td>Map(vectorType -> dense, length -> 2, values -> List(-0.34182514389774243, 0.9674280261783395))</td><td>-0.34182514389774243</td><td>0.9674280261783395</td></tr><tr><td>0</td><td>1</td><td>Map(vectorType -> dense, length -> 2, values -> List(-4.338561717694848, -4.856809831831542))</td><td>-4.338561717694848</td><td>-4.856809831831542</td></tr><tr><td>0</td><td>1</td><td>Map(vectorType -> dense, length -> 2, values -> List(-4.07207318021357, -2.9744439832196963))</td><td>-4.07207318021357</td><td>-2.9744439832196963</td></tr><tr><td>0</td><td>0</td><td>Map(vectorType -> dense, length -> 2, values -> List(-0.22985276950326078, 1.563382113820491))</td><td>-0.22985276950326078</td><td>1.563382113820491</td></tr><tr><td>0</td><td>1</td><td>Map(vectorType -> dense, length -> 2, values -> List(-4.414126949591796, -1.4174231504677404))</td><td>-4.414126949591796</td><td>-1.4174231504677404</td></tr><tr><td>0</td><td>1</td><td>Map(vectorType -> dense, length -> 2, values -> List(-4.944353041108302, 4.110716527760167))</td><td>-4.944353041108302</td><td>4.110716527760167</td></tr><tr><td>1</td><td>0</td><td>Map(vectorType -> dense, length -> 2, values -> List(1.235975828519116, 0.18804949002889026))</td><td>1.235975828519116</td><td>0.18804949002889026</td></tr><tr><td>1</td><td>0</td><td>Map(vectorType -> dense, length -> 2, values -> List(1.5767738400518536, -0.5723046247698896))</td><td>1.5767738400518536</td><td>-0.5723046247698896</td></tr><tr><td>1</td><td>0</td><td>Map(vectorType -> dense, length -> 2, values -> List(3.5542090442654697, -1.6614879693604343))</td><td>3.5542090442654697</td><td>-1.6614879693604343</td></tr><tr><td>0</td><td>1</td><td>Map(vectorType -> dense, length -> 2, values -> List(-4.729049722976225, -3.3020582651138817))</td><td>-4.729049722976225</td><td>-3.3020582651138817</td></tr><tr><td>0</td><td>1</td><td>Map(vectorType -> dense, length -> 2, values -> List(-4.204824406832293, 5.123858058987457))</td><td>-4.204824406832293</td><td>5.123858058987457</td></tr><tr><td>0</td><td>1</td><td>Map(vectorType -> dense, length -> 2, values -> List(-4.945280748242438, 1.5423951430023812))</td><td>-4.945280748242438</td><td>1.5423951430023812</td></tr><tr><td>0</td><td>1</td><td>Map(vectorType -> dense, length -> 2, values -> List(-7.092322358888266, -2.0168357342714707))</td><td>-7.092322358888266</td><td>-2.0168357342714707</td></tr><tr><td>0</td><td>1</td><td>Map(vectorType -> dense, length -> 2, values -> List(-3.5071766582289667, -2.1697159942950077))</td><td>-3.5071766582289667</td><td>-2.1697159942950077</td></tr><tr><td>0</td><td>1</td><td>Map(vectorType -> dense, length -> 2, values -> List(-3.061360211796454, 1.874902631018983))</td><td>-3.061360211796454</td><td>1.874902631018983</td></tr><tr><td>0</td><td>1</td><td>Map(vectorType -> dense, length -> 2, values -> List(-4.003741273398027, -0.5367698596377992))</td><td>-4.003741273398027</td><td>-0.5367698596377992</td></tr><tr><td>0</td><td>1</td><td>Map(vectorType -> dense, length -> 2, values -> List(-1.7138017616568975, 1.5223655018101776))</td><td>-1.7138017616568975</td><td>1.5223655018101776</td></tr><tr><td>0</td><td>1</td><td>Map(vectorType -> dense, length -> 2, values -> List(-6.0541185274085345, 0.7565118002441548))</td><td>-6.0541185274085345</td><td>0.7565118002441548</td></tr><tr><td>0</td><td>1</td><td>Map(vectorType -> dense, length -> 2, values -> List(-2.899684688150535, -4.001774372782243))</td><td>-2.899684688150535</td><td>-4.001774372782243</td></tr><tr><td>0</td><td>1</td><td>Map(vectorType -> dense, length -> 2, values -> List(-4.550778483480172, -0.33723941876735425))</td><td>-4.550778483480172</td><td>-0.33723941876735425</td></tr><tr><td>0</td><td>1</td><td>Map(vectorType -> dense, length -> 2, values -> List(-4.98621537857523, 1.1315932229451566))</td><td>-4.98621537857523</td><td>1.1315932229451566</td></tr><tr><td>0</td><td>1</td><td>Map(vectorType -> dense, length -> 2, values -> List(-2.9827163130446697, -0.7577564966701601))</td><td>-2.9827163130446697</td><td>-0.7577564966701601</td></tr><tr><td>0</td><td>1</td><td>Map(vectorType -> dense, length -> 2, values -> List(-2.7639371844217004, 0.3540444207048967))</td><td>-2.7639371844217004</td><td>0.3540444207048967</td></tr><tr><td>0</td><td>1</td><td>Map(vectorType -> dense, length -> 2, values -> List(-1.295059249402728, -0.9123934661705099))</td><td>-1.295059249402728</td><td>-0.9123934661705099</td></tr><tr><td>1</td><td>0</td><td>Map(vectorType -> dense, length -> 2, values -> List(3.746017295612612, 1.4122305036725344))</td><td>3.746017295612612</td><td>1.4122305036725344</td></tr><tr><td>0</td><td>0</td><td>Map(vectorType -> dense, length -> 2, values -> List(0.9971914775009062, 3.3483467310234842))</td><td>0.9971914775009062</td><td>3.3483467310234842</td></tr><tr><td>0</td><td>0</td><td>Map(vectorType -> dense, length -> 2, values -> List(-0.764591355604326, -0.8854648371667375))</td><td>-0.764591355604326</td><td>-0.8854648371667375</td></tr><tr><td>0</td><td>0</td><td>Map(vectorType -> dense, length -> 2, values -> List(2.149062522258757, 1.922300194308556))</td><td>2.149062522258757</td><td>1.922300194308556</td></tr><tr><td>0</td><td>0</td><td>Map(vectorType -> dense, length -> 2, values -> List(0.09324933698075474, -2.2587645315178184))</td><td>0.09324933698075474</td><td>-2.2587645315178184</td></tr><tr><td>0</td><td>1</td><td>Map(vectorType -> dense, length -> 2, values -> List(-9.080010225451238, -2.016898441324291))</td><td>-9.080010225451238</td><td>-2.016898441324291</td></tr><tr><td>0</td><td>0</td><td>Map(vectorType -> dense, length -> 2, values -> List(-0.9895830367496765, -0.9840641476689251))</td><td>-0.9895830367496765</td><td>-0.9840641476689251</td></tr><tr><td>0</td><td>0</td><td>Map(vectorType -> dense, length -> 2, values -> List(0.2932884879762997, 0.13697856412444143))</td><td>0.2932884879762997</td><td>0.13697856412444143</td></tr><tr><td>0</td><td>1</td><td>Map(vectorType -> dense, length -> 2, values -> List(-5.376209908961654, 0.13475840449503856))</td><td>-5.376209908961654</td><td>0.13475840449503856</td></tr><tr><td>1</td><td>0</td><td>Map(vectorType -> dense, length -> 2, values -> List(4.577908595212511, -1.4829155084495484))</td><td>4.577908595212511</td><td>-1.4829155084495484</td></tr><tr><td>0</td><td>1</td><td>Map(vectorType -> dense, length -> 2, values -> List(-1.6985123749994018, -2.350203862012345))</td><td>-1.6985123749994018</td><td>-2.350203862012345</td></tr><tr><td>1</td><td>0</td><td>Map(vectorType -> dense, length -> 2, values -> List(2.1345670832706904, -0.09574536366108702))</td><td>2.1345670832706904</td><td>-0.09574536366108702</td></tr><tr><td>1</td><td>0</td><td>Map(vectorType -> dense, length -> 2, values -> List(1.566100993427759, 1.2073708547187902))</td><td>1.566100993427759</td><td>1.2073708547187902</td></tr><tr><td>1</td><td>0</td><td>Map(vectorType -> dense, length -> 2, values -> List(3.539790914613369, 1.281368109614397))</td><td>3.539790914613369</td><td>1.281368109614397</td></tr><tr><td>1</td><td>0</td><td>Map(vectorType -> dense, length -> 2, values -> List(3.155037949380859, 1.6874737964866235))</td><td>3.155037949380859</td><td>1.6874737964866235</td></tr><tr><td>1</td><td>0</td><td>Map(vectorType -> dense, length -> 2, values -> List(3.4474551464077874, 0.49778071959150105))</td><td>3.4474551464077874</td><td>0.49778071959150105</td></tr><tr><td>0</td><td>1</td><td>Map(vectorType -> dense, length -> 2, values -> List(-3.2996476093220637, 1.1299435737147892))</td><td>-3.2996476093220637</td><td>1.1299435737147892</td></tr><tr><td>0</td><td>0</td><td>Map(vectorType -> dense, length -> 2, values -> List(0.6740262135577757, 2.114549136533497))</td><td>0.6740262135577757</td><td>2.114549136533497</td></tr><tr><td>1</td><td>0</td><td>Map(vectorType -> dense, length -> 2, values -> List(2.8556457728003637, -0.15258887411272043))</td><td>2.8556457728003637</td><td>-0.15258887411272043</td></tr><tr><td>0</td><td>1</td><td>Map(vectorType -> dense, length -> 2, values -> List(-4.644652068242386, 2.3083015082587246))</td><td>-4.644652068242386</td><td>2.3083015082587246</td></tr><tr><td>0</td><td>1</td><td>Map(vectorType -> dense, length -> 2, values -> List(-2.174949156248412, -0.9712614383238205))</td><td>-2.174949156248412</td><td>-0.9712614383238205</td></tr><tr><td>1</td><td>0</td><td>Map(vectorType -> dense, length -> 2, values -> List(3.718187379898406, 1.7860700970608108))</td><td>3.718187379898406</td><td>1.7860700970608108</td></tr><tr><td>1</td><td>0</td><td>Map(vectorType -> dense, length -> 2, values -> List(4.132326931707893, -2.4016792608874233))</td><td>4.132326931707893</td><td>-2.4016792608874233</td></tr><tr><td>1</td><td>0</td><td>Map(vectorType -> dense, length -> 2, values -> List(2.383738224783428, -2.7552338144184616))</td><td>2.383738224783428</td><td>-2.7552338144184616</td></tr><tr><td>1</td><td>0</td><td>Map(vectorType -> dense, length -> 2, values -> List(2.5766161014186637, -3.1359126501904933))</td><td>2.5766161014186637</td><td>-3.1359126501904933</td></tr><tr><td>0</td><td>1</td><td>Map(vectorType -> dense, length -> 2, values -> List(-4.7549283181968045, -3.0090328746490678))</td><td>-4.7549283181968045</td><td>-3.0090328746490678</td></tr><tr><td>1</td><td>0</td><td>Map(vectorType -> dense, length -> 2, values -> List(2.3120978470008, -3.2651167207221268))</td><td>2.3120978470008</td><td>-3.2651167207221268</td></tr><tr><td>0</td><td>1</td><td>Map(vectorType -> dense, length -> 2, values -> List(-1.690120795036984, -1.5393221159132306))</td><td>-1.690120795036984</td><td>-1.5393221159132306</td></tr><tr><td>0</td><td>1</td><td>Map(vectorType -> dense, length -> 2, values -> List(-1.8107121691780637, -0.7221048150632118))</td><td>-1.8107121691780637</td><td>-0.7221048150632118</td></tr><tr><td>1</td><td>0</td><td>Map(vectorType -> dense, length -> 2, values -> List(2.7834755915717917, -2.308617372387838))</td><td>2.7834755915717917</td><td>-2.308617372387838</td></tr><tr><td>1</td><td>0</td><td>Map(vectorType -> dense, length -> 2, values -> List(3.5155550218280442, 0.657730735549507))</td><td>3.5155550218280442</td><td>0.657730735549507</td></tr><tr><td>1</td><td>1</td><td>Map(vectorType -> dense, length -> 2, values -> List(-4.326196052613209, -9.194435551699886))</td><td>-4.326196052613209</td><td>-9.194435551699886</td></tr><tr><td>1</td><td>0</td><td>Map(vectorType -> dense, length -> 2, values -> List(3.2584124133410364, 0.9370136471243264))</td><td>3.2584124133410364</td><td>0.9370136471243264</td></tr><tr><td>0</td><td>1</td><td>Map(vectorType -> dense, length -> 2, values -> List(-2.702218505205821, 4.433240984891397))</td><td>-2.702218505205821</td><td>4.433240984891397</td></tr><tr><td>1</td><td>0</td><td>Map(vectorType -> dense, length -> 2, values -> List(0.3075851279890566, -7.381317395929899))</td><td>0.3075851279890566</td><td>-7.381317395929899</td></tr><tr><td>0</td><td>1</td><td>Map(vectorType -> dense, length -> 2, values -> List(-5.498866892103152, -0.9375005134764515))</td><td>-5.498866892103152</td><td>-0.9375005134764515</td></tr><tr><td>0</td><td>0</td><td>Map(vectorType -> dense, length -> 2, values -> List(0.36139120652866014, -0.1196338211958474))</td><td>0.36139120652866014</td><td>-0.1196338211958474</td></tr><tr><td>1</td><td>0</td><td>Map(vectorType -> dense, length -> 2, values -> List(2.627664570741694, 0.6966963492687757))</td><td>2.627664570741694</td><td>0.6966963492687757</td></tr><tr><td>0</td><td>1</td><td>Map(vectorType -> dense, length -> 2, values -> List(-1.4269120607028623, 1.9653720916439372))</td><td>-1.4269120607028623</td><td>1.9653720916439372</td></tr><tr><td>1</td><td>0</td><td>Map(vectorType -> dense, length -> 2, values -> List(0.8337842392556142, -1.9638768597292673))</td><td>0.8337842392556142</td><td>-1.9638768597292673</td></tr><tr><td>0</td><td>1</td><td>Map(vectorType -> dense, length -> 2, values -> List(-6.225418799624563, -0.9192606901744491))</td><td>-6.225418799624563</td><td>-0.9192606901744491</td></tr><tr><td>0</td><td>1</td><td>Map(vectorType -> dense, length -> 2, values -> List(-11.658456435666892, -4.7444425930734235))</td><td>-11.658456435666892</td><td>-4.7444425930734235</td></tr><tr><td>1</td><td>0</td><td>Map(vectorType -> dense, length -> 2, values -> List(2.0198004469637176, 0.25467574616148353))</td><td>2.0198004469637176</td><td>0.25467574616148353</td></tr><tr><td>1</td><td>0</td><td>Map(vectorType -> dense, length -> 2, values -> List(1.6369445986800977, -1.7144405868911354))</td><td>1.6369445986800977</td><td>-1.7144405868911354</td></tr><tr><td>1</td><td>1</td><td>Map(vectorType -> dense, length -> 2, values -> List(-1.1664352709963526, -2.5123052861935284))</td><td>-1.1664352709963526</td><td>-2.5123052861935284</td></tr><tr><td>0</td><td>1</td><td>Map(vectorType -> dense, length -> 2, values -> List(-10.759775351229562, 2.25599785781172))</td><td>-10.759775351229562</td><td>2.25599785781172</td></tr><tr><td>0</td><td>1</td><td>Map(vectorType -> dense, length -> 2, values -> List(-5.030384877079519, -0.7737283569771864))</td><td>-5.030384877079519</td><td>-0.7737283569771864</td></tr><tr><td>1</td><td>0</td><td>Map(vectorType -> dense, length -> 2, values -> List(2.1725526922012715, -0.496441168924977))</td><td>2.1725526922012715</td><td>-0.496441168924977</td></tr><tr><td>0</td><td>1</td><td>Map(vectorType -> dense, length -> 2, values -> List(-3.285344627777663, 1.6667704797343097))</td><td>-3.285344627777663</td><td>1.6667704797343097</td></tr><tr><td>0</td><td>0</td><td>Map(vectorType -> dense, length -> 2, values -> List(-0.607073784243589, -0.16207191874894683))</td><td>-0.607073784243589</td><td>-0.16207191874894683</td></tr><tr><td>0</td><td>1</td><td>Map(vectorType -> dense, length -> 2, values -> List(-3.5804132398493693, 2.2047219162839213))</td><td>-3.5804132398493693</td><td>2.2047219162839213</td></tr><tr><td>1</td><td>0</td><td>Map(vectorType -> dense, length -> 2, values -> List(0.9333368663416973, -0.9268859190310914))</td><td>0.9333368663416973</td><td>-0.9268859190310914</td></tr><tr><td>1</td><td>1</td><td>Map(vectorType -> dense, length -> 2, values -> List(-1.2584973023904544, -1.014684255071954))</td><td>-1.2584973023904544</td><td>-1.014684255071954</td></tr><tr><td>1</td><td>0</td><td>Map(vectorType -> dense, length -> 2, values -> List(1.5868676958892003, 1.6182329540103404))</td><td>1.5868676958892003</td><td>1.6182329540103404</td></tr><tr><td>0</td><td>0</td><td>Map(vectorType -> dense, length -> 2, values -> List(-0.2522755916003695, 0.530884424915292))</td><td>-0.2522755916003695</td><td>0.530884424915292</td></tr><tr><td>1</td><td>0</td><td>Map(vectorType -> dense, length -> 2, values -> List(2.844928349652454, 2.8911037319207855))</td><td>2.844928349652454</td><td>2.8911037319207855</td></tr><tr><td>1</td><td>0</td><td>Map(vectorType -> dense, length -> 2, values -> List(1.9632226839332967, 0.9643084982548302))</td><td>1.9632226839332967</td><td>0.9643084982548302</td></tr><tr><td>0</td><td>1</td><td>Map(vectorType -> dense, length -> 2, values -> List(-2.773425247151511, -0.557509976757413))</td><td>-2.773425247151511</td><td>-0.557509976757413</td></tr><tr><td>0</td><td>1</td><td>Map(vectorType -> dense, length -> 2, values -> List(-4.392363138171209, 2.1216408918292844))</td><td>-4.392363138171209</td><td>2.1216408918292844</td></tr><tr><td>1</td><td>0</td><td>Map(vectorType -> dense, length -> 2, values -> List(2.589804073230505, -0.21344611982789297))</td><td>2.589804073230505</td><td>-0.21344611982789297</td></tr><tr><td>1</td><td>0</td><td>Map(vectorType -> dense, length -> 2, values -> List(3.900905764302463, -1.1890204211664386))</td><td>3.900905764302463</td><td>-1.1890204211664386</td></tr><tr><td>1</td><td>0</td><td>Map(vectorType -> dense, length -> 2, values -> List(2.8157536467617743, -0.36756056672604126))</td><td>2.8157536467617743</td><td>-0.36756056672604126</td></tr><tr><td>0</td><td>0</td><td>Map(vectorType -> dense, length -> 2, values -> List(-0.6157390843403041, -0.6383499883109449))</td><td>-0.6157390843403041</td><td>-0.6383499883109449</td></tr><tr><td>0</td><td>0</td><td>Map(vectorType -> dense, length -> 2, values -> List(0.43247968428512473, 1.390820523329051))</td><td>0.43247968428512473</td><td>1.390820523329051</td></tr><tr><td>1</td><td>0</td><td>Map(vectorType -> dense, length -> 2, values -> List(4.551024418715486, -3.5256837878131457))</td><td>4.551024418715486</td><td>-3.5256837878131457</td></tr><tr><td>1</td><td>0</td><td>Map(vectorType -> dense, length -> 2, values -> List(3.445152170485421, 1.4233700401235052))</td><td>3.445152170485421</td><td>1.4233700401235052</td></tr><tr><td>1</td><td>0</td><td>Map(vectorType -> dense, length -> 2, values -> List(2.1141000788234177, -1.8477477817558619))</td><td>2.1141000788234177</td><td>-1.8477477817558619</td></tr><tr><td>1</td><td>0</td><td>Map(vectorType -> dense, length -> 2, values -> List(2.688986180588338, -1.4188133337752493))</td><td>2.688986180588338</td><td>-1.4188133337752493</td></tr><tr><td>0</td><td>1</td><td>Map(vectorType -> dense, length -> 2, values -> List(-3.2110913432991848, -4.043198634073635))</td><td>-3.2110913432991848</td><td>-4.043198634073635</td></tr><tr><td>1</td><td>0</td><td>Map(vectorType -> dense, length -> 2, values -> List(0.7486126561287516, -1.7960581752732854))</td><td>0.7486126561287516</td><td>-1.7960581752732854</td></tr><tr><td>1</td><td>0</td><td>Map(vectorType -> dense, length -> 2, values -> List(3.1562288887130996, 1.0348388776990332))</td><td>3.1562288887130996</td><td>1.0348388776990332</td></tr><tr><td>0</td><td>1</td><td>Map(vectorType -> dense, length -> 2, values -> List(-13.044643947118486, -0.9806503574605676))</td><td>-13.044643947118486</td><td>-0.9806503574605676</td></tr><tr><td>1</td><td>0</td><td>Map(vectorType -> dense, length -> 2, values -> List(2.2267205341066245, -0.6668239016416191))</td><td>2.2267205341066245</td><td>-0.6668239016416191</td></tr><tr><td>1</td><td>0</td><td>Map(vectorType -> dense, length -> 2, values -> List(2.4906395353764794, -2.5964017081976385))</td><td>2.4906395353764794</td><td>-2.5964017081976385</td></tr><tr><td>1</td><td>0</td><td>Map(vectorType -> dense, length -> 2, values -> List(0.10325956887870977, -2.2781390146787253))</td><td>0.10325956887870977</td><td>-2.2781390146787253</td></tr><tr><td>1</td><td>1</td><td>Map(vectorType -> dense, length -> 2, values -> List(-3.5881369364374964, -3.9228814330897817))</td><td>-3.5881369364374964</td><td>-3.9228814330897817</td></tr><tr><td>1</td><td>0</td><td>Map(vectorType -> dense, length -> 2, values -> List(1.3477627936910612, -3.553098748124878))</td><td>1.3477627936910612</td><td>-3.553098748124878</td></tr><tr><td>1</td><td>0</td><td>Map(vectorType -> dense, length -> 2, values -> List(2.507910978274425, -3.248461200088754))</td><td>2.507910978274425</td><td>-3.248461200088754</td></tr><tr><td>1</td><td>0</td><td>Map(vectorType -> dense, length -> 2, values -> List(2.0442308647877296, -0.3046168360404698))</td><td>2.0442308647877296</td><td>-0.3046168360404698</td></tr><tr><td>1</td><td>0</td><td>Map(vectorType -> dense, length -> 2, values -> List(2.0952255918005553, -3.6638720623651575))</td><td>2.0952255918005553</td><td>-3.6638720623651575</td></tr><tr><td>0</td><td>1</td><td>Map(vectorType -> dense, length -> 2, values -> List(-3.1077931629832842, -1.5680098728032148))</td><td>-3.1077931629832842</td><td>-1.5680098728032148</td></tr><tr><td>0</td><td>1</td><td>Map(vectorType -> dense, length -> 2, values -> List(-4.952368008219316, -2.382749650207092))</td><td>-4.952368008219316</td><td>-2.382749650207092</td></tr><tr><td>0</td><td>0</td><td>Map(vectorType -> dense, length -> 2, values -> List(-0.8502661181133304, 2.304707467911811))</td><td>-0.8502661181133304</td><td>2.304707467911811</td></tr><tr><td>1</td><td>0</td><td>Map(vectorType -> dense, length -> 2, values -> List(2.9633917342885567, -0.37117988308380523))</td><td>2.9633917342885567</td><td>-0.37117988308380523</td></tr><tr><td>0</td><td>1</td><td>Map(vectorType -> dense, length -> 2, values -> List(-3.331202091345631, 1.3243920287519007))</td><td>-3.331202091345631</td><td>1.3243920287519007</td></tr><tr><td>0</td><td>1</td><td>Map(vectorType -> dense, length -> 2, values -> List(-12.8832762090226, -2.314585872823187))</td><td>-12.8832762090226</td><td>-2.314585872823187</td></tr><tr><td>1</td><td>0</td><td>Map(vectorType -> dense, length -> 2, values -> List(0.770066100541669, 0.06405286022784357))</td><td>0.770066100541669</td><td>0.06405286022784357</td></tr><tr><td>1</td><td>0</td><td>Map(vectorType -> dense, length -> 2, values -> List(2.200579246024579, 0.7349585441539866))</td><td>2.200579246024579</td><td>0.7349585441539866</td></tr><tr><td>1</td><td>0</td><td>Map(vectorType -> dense, length -> 2, values -> List(3.1406488057317365, 1.8757585568762567))</td><td>3.1406488057317365</td><td>1.8757585568762567</td></tr><tr><td>0</td><td>0</td><td>Map(vectorType -> dense, length -> 2, values -> List(0.6383188466749707, 0.9105648277387001))</td><td>0.6383188466749707</td><td>0.9105648277387001</td></tr><tr><td>0</td><td>1</td><td>Map(vectorType -> dense, length -> 2, values -> List(-1.9174462720607244, 3.534971965704516))</td><td>-1.9174462720607244</td><td>3.534971965704516</td></tr><tr><td>1</td><td>1</td><td>Map(vectorType -> dense, length -> 2, values -> List(-1.4076297975592051, -1.303782215446646))</td><td>-1.4076297975592051</td><td>-1.303782215446646</td></tr><tr><td>0</td><td>1</td><td>Map(vectorType -> dense, length -> 2, values -> List(-4.639608949805652, 1.480714296902346))</td><td>-4.639608949805652</td><td>1.480714296902346</td></tr><tr><td>1</td><td>0</td><td>Map(vectorType -> dense, length -> 2, values -> List(1.875816842535797, -1.4219794520209585))</td><td>1.875816842535797</td><td>-1.4219794520209585</td></tr><tr><td>0</td><td>1</td><td>Map(vectorType -> dense, length -> 2, values -> List(-1.4308104644206412, 1.0486812201637816))</td><td>-1.4308104644206412</td><td>1.0486812201637816</td></tr><tr><td>0</td><td>1</td><td>Map(vectorType -> dense, length -> 2, values -> List(-1.3514379025047487, 1.1531268416676224))</td><td>-1.3514379025047487</td><td>1.1531268416676224</td></tr><tr><td>1</td><td>0</td><td>Map(vectorType -> dense, length -> 2, values -> List(0.7084914339488595, 1.5668536574634873))</td><td>0.7084914339488595</td><td>1.5668536574634873</td></tr><tr><td>0</td><td>1</td><td>Map(vectorType -> dense, length -> 2, values -> List(-2.16950708077604, 2.823776100829295))</td><td>-2.16950708077604</td><td>2.823776100829295</td></tr><tr><td>0</td><td>0</td><td>Map(vectorType -> dense, length -> 2, values -> List(1.9751024733516598, 0.4190187545862016))</td><td>1.9751024733516598</td><td>0.4190187545862016</td></tr><tr><td>1</td><td>0</td><td>Map(vectorType -> dense, length -> 2, values -> List(2.59850309522373, 0.48191143623214344))</td><td>2.59850309522373</td><td>0.48191143623214344</td></tr><tr><td>1</td><td>0</td><td>Map(vectorType -> dense, length -> 2, values -> List(3.2551431766212113, 0.417953650542393))</td><td>3.2551431766212113</td><td>0.417953650542393</td></tr><tr><td>0</td><td>1</td><td>Map(vectorType -> dense, length -> 2, values -> List(-3.778701596515092, -0.8596252179512075))</td><td>-3.778701596515092</td><td>-0.8596252179512075</td></tr><tr><td>1</td><td>0</td><td>Map(vectorType -> dense, length -> 2, values -> List(1.9902834824907458, -1.3281865083916466))</td><td>1.9902834824907458</td><td>-1.3281865083916466</td></tr><tr><td>1</td><td>0</td><td>Map(vectorType -> dense, length -> 2, values -> List(5.010599890275268, -0.5741947482063134))</td><td>5.010599890275268</td><td>-0.5741947482063134</td></tr><tr><td>0</td><td>1</td><td>Map(vectorType -> dense, length -> 2, values -> List(-1.3438380019594123, 1.2736502780620558))</td><td>-1.3438380019594123</td><td>1.2736502780620558</td></tr><tr><td>1</td><td>0</td><td>Map(vectorType -> dense, length -> 2, values -> List(2.4538097168107567, -0.8976654414043106))</td><td>2.4538097168107567</td><td>-0.8976654414043106</td></tr><tr><td>1</td><td>0</td><td>Map(vectorType -> dense, length -> 2, values -> List(1.8356664765287183, 0.09094674191163107))</td><td>1.8356664765287183</td><td>0.09094674191163107</td></tr><tr><td>1</td><td>0</td><td>Map(vectorType -> dense, length -> 2, values -> List(4.342668621633104, 0.8927867080020948))</td><td>4.342668621633104</td><td>0.8927867080020948</td></tr><tr><td>1</td><td>0</td><td>Map(vectorType -> dense, length -> 2, values -> List(0.7321686848841821, -3.698927716334959))</td><td>0.7321686848841821</td><td>-3.698927716334959</td></tr><tr><td>0</td><td>1</td><td>Map(vectorType -> dense, length -> 2, values -> List(-2.3978879545325613, -4.8337356419503745))</td><td>-2.3978879545325613</td><td>-4.8337356419503745</td></tr><tr><td>1</td><td>0</td><td>Map(vectorType -> dense, length -> 2, values -> List(-0.3927530826218365, -1.0821159150961952))</td><td>-0.3927530826218365</td><td>-1.0821159150961952</td></tr><tr><td>1</td><td>0</td><td>Map(vectorType -> dense, length -> 2, values -> List(0.41196532673628217, 0.389288784006076))</td><td>0.41196532673628217</td><td>0.389288784006076</td></tr><tr><td>1</td><td>0</td><td>Map(vectorType -> dense, length -> 2, values -> List(3.0472436872382715, 2.235817238795145))</td><td>3.0472436872382715</td><td>2.235817238795145</td></tr><tr><td>1</td><td>0</td><td>Map(vectorType -> dense, length -> 2, values -> List(1.4412955434660437, -0.305601552317848))</td><td>1.4412955434660437</td><td>-0.305601552317848</td></tr><tr><td>1</td><td>0</td><td>Map(vectorType -> dense, length -> 2, values -> List(-0.08311297195894712, -7.144073768197734))</td><td>-0.08311297195894712</td><td>-7.144073768197734</td></tr><tr><td>1</td><td>1</td><td>Map(vectorType -> dense, length -> 2, values -> List(-7.087070838949417, -12.562140868978332))</td><td>-7.087070838949417</td><td>-12.562140868978332</td></tr><tr><td>1</td><td>0</td><td>Map(vectorType -> dense, length -> 2, values -> List(3.7401136372673087, -0.2502813056021372))</td><td>3.7401136372673087</td><td>-0.2502813056021372</td></tr><tr><td>1</td><td>0</td><td>Map(vectorType -> dense, length -> 2, values -> List(0.9683207941410804, -0.9441135819226691))</td><td>0.9683207941410804</td><td>-0.9441135819226691</td></tr><tr><td>1</td><td>0</td><td>Map(vectorType -> dense, length -> 2, values -> List(2.416593560539964, -0.005547531739681007))</td><td>2.416593560539964</td><td>-0.005547531739681007</td></tr><tr><td>0</td><td>1</td><td>Map(vectorType -> dense, length -> 2, values -> List(-4.0971826377870375, 0.3784708057605489))</td><td>-4.0971826377870375</td><td>0.3784708057605489</td></tr><tr><td>1</td><td>0</td><td>Map(vectorType -> dense, length -> 2, values -> List(0.7509422555127223, 3.0679491866145))</td><td>0.7509422555127223</td><td>3.0679491866145</td></tr><tr><td>1</td><td>0</td><td>Map(vectorType -> dense, length -> 2, values -> List(3.651433651563705, 0.6740556439403642))</td><td>3.651433651563705</td><td>0.6740556439403642</td></tr><tr><td>1</td><td>0</td><td>Map(vectorType -> dense, length -> 2, values -> List(4.676097103502341, 1.10288682345121))</td><td>4.676097103502341</td><td>1.10288682345121</td></tr><tr><td>1</td><td>0</td><td>Map(vectorType -> dense, length -> 2, values -> List(0.5972562440800077, -1.7840810718355007))</td><td>0.5972562440800077</td><td>-1.7840810718355007</td></tr><tr><td>0</td><td>1</td><td>Map(vectorType -> dense, length -> 2, values -> List(-3.384352890865804, 2.908477953178305))</td><td>-3.384352890865804</td><td>2.908477953178305</td></tr><tr><td>0</td><td>1</td><td>Map(vectorType -> dense, length -> 2, values -> List(-6.144479695567227, 2.0158789937746477))</td><td>-6.144479695567227</td><td>2.0158789937746477</td></tr><tr><td>1</td><td>0</td><td>Map(vectorType -> dense, length -> 2, values -> List(1.3238664840948287, -1.468002337228917))</td><td>1.3238664840948287</td><td>-1.468002337228917</td></tr><tr><td>0</td><td>1</td><td>Map(vectorType -> dense, length -> 2, values -> List(-5.489322772303608, 4.162167037247703))</td><td>-5.489322772303608</td><td>4.162167037247703</td></tr><tr><td>1</td><td>0</td><td>Map(vectorType -> dense, length -> 2, values -> List(2.9947681268795883, 2.7364532614587054))</td><td>2.9947681268795883</td><td>2.7364532614587054</td></tr><tr><td>1</td><td>0</td><td>Map(vectorType -> dense, length -> 2, values -> List(4.382876252034909, -0.006866239711844024))</td><td>4.382876252034909</td><td>-0.006866239711844024</td></tr><tr><td>0</td><td>1</td><td>Map(vectorType -> dense, length -> 2, values -> List(-1.2125676804145147, 2.0372463953120428))</td><td>-1.2125676804145147</td><td>2.0372463953120428</td></tr><tr><td>0</td><td>1</td><td>Map(vectorType -> dense, length -> 2, values -> List(-5.065204235707061, 1.783582969267652))</td><td>-5.065204235707061</td><td>1.783582969267652</td></tr><tr><td>1</td><td>0</td><td>Map(vectorType -> dense, length -> 2, values -> List(1.9759628006688976, 1.84115939446237))</td><td>1.9759628006688976</td><td>1.84115939446237</td></tr><tr><td>1</td><td>0</td><td>Map(vectorType -> dense, length -> 2, values -> List(2.512665538094374, -0.11415185728328553))</td><td>2.512665538094374</td><td>-0.11415185728328553</td></tr><tr><td>0</td><td>0</td><td>Map(vectorType -> dense, length -> 2, values -> List(0.9466549351985862, 1.6832724441193998))</td><td>0.9466549351985862</td><td>1.6832724441193998</td></tr><tr><td>0</td><td>1</td><td>Map(vectorType -> dense, length -> 2, values -> List(-2.8168897774102652, -1.2639909533709472))</td><td>-2.8168897774102652</td><td>-1.2639909533709472</td></tr><tr><td>1</td><td>0</td><td>Map(vectorType -> dense, length -> 2, values -> List(3.4809234523308104, -1.6182680772420517))</td><td>3.4809234523308104</td><td>-1.6182680772420517</td></tr><tr><td>1</td><td>0</td><td>Map(vectorType -> dense, length -> 2, values -> List(4.654633990732292, 0.2227188459265475))</td><td>4.654633990732292</td><td>0.2227188459265475</td></tr><tr><td>1</td><td>0</td><td>Map(vectorType -> dense, length -> 2, values -> List(5.346913394805295, -1.0258552141595594))</td><td>5.346913394805295</td><td>-1.0258552141595594</td></tr><tr><td>1</td><td>1</td><td>Map(vectorType -> dense, length -> 2, values -> List(-1.1698684180216836, -7.008319995898495))</td><td>-1.1698684180216836</td><td>-7.008319995898495</td></tr><tr><td>0</td><td>1</td><td>Map(vectorType -> dense, length -> 2, values -> List(-2.953702919945471, -0.7058008217765863))</td><td>-2.953702919945471</td><td>-0.7058008217765863</td></tr><tr><td>1</td><td>0</td><td>Map(vectorType -> dense, length -> 2, values -> List(4.971327817743079, 3.3832279834158325))</td><td>4.971327817743079</td><td>3.3832279834158325</td></tr><tr><td>1</td><td>0</td><td>Map(vectorType -> dense, length -> 2, values -> List(4.060452888239647, 1.2450706432840835))</td><td>4.060452888239647</td><td>1.2450706432840835</td></tr><tr><td>0</td><td>1</td><td>Map(vectorType -> dense, length -> 2, values -> List(-9.504307055873683, 5.598558051824166))</td><td>-9.504307055873683</td><td>5.598558051824166</td></tr><tr><td>0</td><td>1</td><td>Map(vectorType -> dense, length -> 2, values -> List(-8.99924713748581, -0.5805202806336891))</td><td>-8.99924713748581</td><td>-0.5805202806336891</td></tr><tr><td>0</td><td>0</td><td>Map(vectorType -> dense, length -> 2, values -> List(-0.7582113387114503, 1.6071184807982521))</td><td>-0.7582113387114503</td><td>1.6071184807982521</td></tr><tr><td>1</td><td>0</td><td>Map(vectorType -> dense, length -> 2, values -> List(2.657021716338433, -0.5394611319693707))</td><td>2.657021716338433</td><td>-0.5394611319693707</td></tr><tr><td>0</td><td>0</td><td>Map(vectorType -> dense, length -> 2, values -> List(0.3896761071631376, 0.9883726891537293))</td><td>0.3896761071631376</td><td>0.9883726891537293</td></tr><tr><td>1</td><td>0</td><td>Map(vectorType -> dense, length -> 2, values -> List(3.8856465678206793, -0.8153542849565183))</td><td>3.8856465678206793</td><td>-0.8153542849565183</td></tr><tr><td>0</td><td>0</td><td>Map(vectorType -> dense, length -> 2, values -> List(-0.3645553815353931, 3.5713188418258013))</td><td>-0.3645553815353931</td><td>3.5713188418258013</td></tr><tr><td>1</td><td>0</td><td>Map(vectorType -> dense, length -> 2, values -> List(2.8333978267575493, 0.39837916234531845))</td><td>2.8333978267575493</td><td>0.39837916234531845</td></tr><tr><td>1</td><td>0</td><td>Map(vectorType -> dense, length -> 2, values -> List(3.307373480730301, -0.1556042796224762))</td><td>3.307373480730301</td><td>-0.1556042796224762</td></tr><tr><td>1</td><td>0</td><td>Map(vectorType -> dense, length -> 2, values -> List(3.3543529255868116, 1.1027621091603794))</td><td>3.3543529255868116</td><td>1.1027621091603794</td></tr><tr><td>0</td><td>1</td><td>Map(vectorType -> dense, length -> 2, values -> List(-6.517382011166436, -8.004126823765688))</td><td>-6.517382011166436</td><td>-8.004126823765688</td></tr><tr><td>1</td><td>0</td><td>Map(vectorType -> dense, length -> 2, values -> List(1.716225078957832, 0.5426880190282252))</td><td>1.716225078957832</td><td>0.5426880190282252</td></tr><tr><td>1</td><td>0</td><td>Map(vectorType -> dense, length -> 2, values -> List(5.560842943398813, 0.4774274929424864))</td><td>5.560842943398813</td><td>0.4774274929424864</td></tr><tr><td>0</td><td>1</td><td>Map(vectorType -> dense, length -> 2, values -> List(-1.7780969513569727, -2.7741462134520165))</td><td>-1.7780969513569727</td><td>-2.7741462134520165</td></tr><tr><td>0</td><td>1</td><td>Map(vectorType -> dense, length -> 2, values -> List(-2.6091890818216363, -1.5600490304583217))</td><td>-2.6091890818216363</td><td>-1.5600490304583217</td></tr><tr><td>1</td><td>0</td><td>Map(vectorType -> dense, length -> 2, values -> List(2.81656023352004, 0.9692577223481751))</td><td>2.81656023352004</td><td>0.9692577223481751</td></tr><tr><td>0</td><td>1</td><td>Map(vectorType -> dense, length -> 2, values -> List(-2.4962424475167926, -2.276479789862448))</td><td>-2.4962424475167926</td><td>-2.276479789862448</td></tr><tr><td>0</td><td>1</td><td>Map(vectorType -> dense, length -> 2, values -> List(-1.275904513829326, 2.4411110438899812))</td><td>-1.275904513829326</td><td>2.4411110438899812</td></tr><tr><td>0</td><td>1</td><td>Map(vectorType -> dense, length -> 2, values -> List(-3.470143981958466, 2.275846405119393))</td><td>-3.470143981958466</td><td>2.275846405119393</td></tr><tr><td>0</td><td>1</td><td>Map(vectorType -> dense, length -> 2, values -> List(-1.2555703424425486, -0.38205709440413826))</td><td>-1.2555703424425486</td><td>-0.38205709440413826</td></tr><tr><td>1</td><td>0</td><td>Map(vectorType -> dense, length -> 2, values -> List(1.4721360446853025, -0.11678749584162215))</td><td>1.4721360446853025</td><td>-0.11678749584162215</td></tr><tr><td>0</td><td>1</td><td>Map(vectorType -> dense, length -> 2, values -> List(-1.6480106203166893, 2.100442902308144))</td><td>-1.6480106203166893</td><td>2.100442902308144</td></tr><tr><td>0</td><td>1</td><td>Map(vectorType -> dense, length -> 2, values -> List(-9.028645224281451, 0.6545968488688727))</td><td>-9.028645224281451</td><td>0.6545968488688727</td></tr><tr><td>0</td><td>1</td><td>Map(vectorType -> dense, length -> 2, values -> List(-4.550586028792268, -3.0839256264353505))</td><td>-4.550586028792268</td><td>-3.0839256264353505</td></tr><tr><td>1</td><td>0</td><td>Map(vectorType -> dense, length -> 2, values -> List(0.7805032063552411, -0.6522753252252638))</td><td>0.7805032063552411</td><td>-0.6522753252252638</td></tr><tr><td>0</td><td>0</td><td>Map(vectorType -> dense, length -> 2, values -> List(0.22289648137749804, 0.7012045041875619))</td><td>0.22289648137749804</td><td>0.7012045041875619</td></tr><tr><td>1</td><td>0</td><td>Map(vectorType -> dense, length -> 2, values -> List(3.451858114839652, -1.3057897654953268))</td><td>3.451858114839652</td><td>-1.3057897654953268</td></tr><tr><td>0</td><td>0</td><td>Map(vectorType -> dense, length -> 2, values -> List(-0.4461518298391931, 2.7852570082147827))</td><td>-0.4461518298391931</td><td>2.7852570082147827</td></tr><tr><td>1</td><td>0</td><td>Map(vectorType -> dense, length -> 2, values -> List(-0.3141617966983834, -2.0757343005542124))</td><td>-0.3141617966983834</td><td>-2.0757343005542124</td></tr><tr><td>1</td><td>0</td><td>Map(vectorType -> dense, length -> 2, values -> List(2.0573816635646485, 2.4706139080117415))</td><td>2.0573816635646485</td><td>2.4706139080117415</td></tr><tr><td>0</td><td>1</td><td>Map(vectorType -> dense, length -> 2, values -> List(-4.804741578644551, 3.0264400192113654))</td><td>-4.804741578644551</td><td>3.0264400192113654</td></tr><tr><td>1</td><td>0</td><td>Map(vectorType -> dense, length -> 2, values -> List(2.9960742986927817, 0.3964292123288678))</td><td>2.9960742986927817</td><td>0.3964292123288678</td></tr><tr><td>0</td><td>1</td><td>Map(vectorType -> dense, length -> 2, values -> List(-12.27421974008282, 7.536778598643883))</td><td>-12.27421974008282</td><td>7.536778598643883</td></tr><tr><td>0</td><td>1</td><td>Map(vectorType -> dense, length -> 2, values -> List(-3.3692320216392955, -2.585550416174371))</td><td>-3.3692320216392955</td><td>-2.585550416174371</td></tr><tr><td>0</td><td>1</td><td>Map(vectorType -> dense, length -> 2, values -> List(-2.5065608023508408, -2.6123498850288525))</td><td>-2.5065608023508408</td><td>-2.6123498850288525</td></tr><tr><td>0</td><td>1</td><td>Map(vectorType -> dense, length -> 2, values -> List(-1.3169097348008016, -2.152585452838559))</td><td>-1.3169097348008016</td><td>-2.152585452838559</td></tr><tr><td>1</td><td>0</td><td>Map(vectorType -> dense, length -> 2, values -> List(0.3884145349104365, -2.274796313785692))</td><td>0.3884145349104365</td><td>-2.274796313785692</td></tr><tr><td>1</td><td>0</td><td>Map(vectorType -> dense, length -> 2, values -> List(2.7545093134335943, -1.0858792262280101))</td><td>2.7545093134335943</td><td>-1.0858792262280101</td></tr><tr><td>0</td><td>1</td><td>Map(vectorType -> dense, length -> 2, values -> List(-4.939235008379087, 2.845820435747167))</td><td>-4.939235008379087</td><td>2.845820435747167</td></tr><tr><td>0</td><td>1</td><td>Map(vectorType -> dense, length -> 2, values -> List(-4.294298799576767, 4.662172958398716))</td><td>-4.294298799576767</td><td>4.662172958398716</td></tr><tr><td>1</td><td>0</td><td>Map(vectorType -> dense, length -> 2, values -> List(2.371415206580928, 0.7327578143464887))</td><td>2.371415206580928</td><td>0.7327578143464887</td></tr><tr><td>1</td><td>0</td><td>Map(vectorType -> dense, length -> 2, values -> List(0.9663400342412815, -0.43805274138140315))</td><td>0.9663400342412815</td><td>-0.43805274138140315</td></tr><tr><td>1</td><td>0</td><td>Map(vectorType -> dense, length -> 2, values -> List(2.973182700588683, -1.8093817105584709))</td><td>2.973182700588683</td><td>-1.8093817105584709</td></tr><tr><td>0</td><td>1</td><td>Map(vectorType -> dense, length -> 2, values -> List(-1.8016617480543298, -0.16631461790202312))</td><td>-1.8016617480543298</td><td>-0.16631461790202312</td></tr><tr><td>1</td><td>0</td><td>Map(vectorType -> dense, length -> 2, values -> List(2.476180734357764, 1.4173293464504262))</td><td>2.476180734357764</td><td>1.4173293464504262</td></tr><tr><td>1</td><td>0</td><td>Map(vectorType -> dense, length -> 2, values -> List(0.8253131039081664, 1.249148354188872))</td><td>0.8253131039081664</td><td>1.249148354188872</td></tr><tr><td>1</td><td>0</td><td>Map(vectorType -> dense, length -> 2, values -> List(3.891273417938517, -0.5380972756254689))</td><td>3.891273417938517</td><td>-0.5380972756254689</td></tr><tr><td>1</td><td>0</td><td>Map(vectorType -> dense, length -> 2, values -> List(0.3892356039180487, 0.613875324449998))</td><td>0.3892356039180487</td><td>0.613875324449998</td></tr><tr><td>1</td><td>0</td><td>Map(vectorType -> dense, length -> 2, values -> List(1.4560401949184865, 0.20154941477167584))</td><td>1.4560401949184865</td><td>0.20154941477167584</td></tr><tr><td>0</td><td>1</td><td>Map(vectorType -> dense, length -> 2, values -> List(-2.7531455233218116, -3.4627267693133152))</td><td>-2.7531455233218116</td><td>-3.4627267693133152</td></tr><tr><td>0</td><td>1</td><td>Map(vectorType -> dense, length -> 2, values -> List(-3.254391152333232, 0.12509042564652945))</td><td>-3.254391152333232</td><td>0.12509042564652945</td></tr><tr><td>1</td><td>0</td><td>Map(vectorType -> dense, length -> 2, values -> List(4.015606929779589, 1.3530568336035458))</td><td>4.015606929779589</td><td>1.3530568336035458</td></tr><tr><td>1</td><td>0</td><td>Map(vectorType -> dense, length -> 2, values -> List(3.673181280856314, 1.2904935620339735))</td><td>3.673181280856314</td><td>1.2904935620339735</td></tr><tr><td>0</td><td>1</td><td>Map(vectorType -> dense, length -> 2, values -> List(-3.3134086631131745, 3.9356892675858393))</td><td>-3.3134086631131745</td><td>3.9356892675858393</td></tr><tr><td>1</td><td>0</td><td>Map(vectorType -> dense, length -> 2, values -> List(4.0330586952594905, -1.1615240891991265))</td><td>4.0330586952594905</td><td>-1.1615240891991265</td></tr><tr><td>1</td><td>0</td><td>Map(vectorType -> dense, length -> 2, values -> List(2.332181276558638, 1.3477938157103568))</td><td>2.332181276558638</td><td>1.3477938157103568</td></tr><tr><td>0</td><td>1</td><td>Map(vectorType -> dense, length -> 2, values -> List(-8.396459114567051, 4.150252991487551))</td><td>-8.396459114567051</td><td>4.150252991487551</td></tr><tr><td>0</td><td>1</td><td>Map(vectorType -> dense, length -> 2, values -> List(-2.645241099769492, 3.947699392177443))</td><td>-2.645241099769492</td><td>3.947699392177443</td></tr><tr><td>1</td><td>0</td><td>Map(vectorType -> dense, length -> 2, values -> List(0.6811695085597811, 1.134992456901795))</td><td>0.6811695085597811</td><td>1.134992456901795</td></tr><tr><td>0</td><td>1</td><td>Map(vectorType -> dense, length -> 2, values -> List(-3.3473504750853267, 2.1526758988005272))</td><td>-3.3473504750853267</td><td>2.1526758988005272</td></tr><tr><td>1</td><td>0</td><td>Map(vectorType -> dense, length -> 2, values -> List(2.225762082820186, 1.2139315550121692))</td><td>2.225762082820186</td><td>1.2139315550121692</td></tr><tr><td>1</td><td>0</td><td>Map(vectorType -> dense, length -> 2, values -> List(4.473648316810695, 1.7395986990016745))</td><td>4.473648316810695</td><td>1.7395986990016745</td></tr><tr><td>1</td><td>1</td><td>Map(vectorType -> dense, length -> 2, values -> List(-1.3214586745096857, -4.785266054191078))</td><td>-1.3214586745096857</td><td>-4.785266054191078</td></tr><tr><td>1</td><td>0</td><td>Map(vectorType -> dense, length -> 2, values -> List(1.8484634072018238, 1.5827355092570183))</td><td>1.8484634072018238</td><td>1.5827355092570183</td></tr><tr><td>0</td><td>1</td><td>Map(vectorType -> dense, length -> 2, values -> List(-3.7922288801761828, 1.025330459219364))</td><td>-3.7922288801761828</td><td>1.025330459219364</td></tr><tr><td>1</td><td>0</td><td>Map(vectorType -> dense, length -> 2, values -> List(2.2793125444788847, -2.075859442194888))</td><td>2.2793125444788847</td><td>-2.075859442194888</td></tr><tr><td>1</td><td>0</td><td>Map(vectorType -> dense, length -> 2, values -> List(3.2259316385038423, 1.1710430842293764))</td><td>3.2259316385038423</td><td>1.1710430842293764</td></tr><tr><td>1</td><td>0</td><td>Map(vectorType -> dense, length -> 2, values -> List(-1.0249988966720756, -2.3591861092433453))</td><td>-1.0249988966720756</td><td>-2.3591861092433453</td></tr><tr><td>1</td><td>0</td><td>Map(vectorType -> dense, length -> 2, values -> List(2.580285458084775, -0.7285720474808405))</td><td>2.580285458084775</td><td>-0.7285720474808405</td></tr><tr><td>1</td><td>0</td><td>Map(vectorType -> dense, length -> 2, values -> List(2.4836978332373185, -0.4601914826896939))</td><td>2.4836978332373185</td><td>-0.4601914826896939</td></tr><tr><td>0</td><td>1</td><td>Map(vectorType -> dense, length -> 2, values -> List(-7.13756173714527, 2.073018195139842))</td><td>-7.13756173714527</td><td>2.073018195139842</td></tr><tr><td>1</td><td>0</td><td>Map(vectorType -> dense, length -> 2, values -> List(3.029815222770883, 0.648897838165118))</td><td>3.029815222770883</td><td>0.648897838165118</td></tr><tr><td>0</td><td>1</td><td>Map(vectorType -> dense, length -> 2, values -> List(-7.078782066793522, -0.5277587995773976))</td><td>-7.078782066793522</td><td>-0.5277587995773976</td></tr><tr><td>0</td><td>1</td><td>Map(vectorType -> dense, length -> 2, values -> List(-1.3129437515041626, 1.7738650170431625))</td><td>-1.3129437515041626</td><td>1.7738650170431625</td></tr><tr><td>0</td><td>1</td><td>Map(vectorType -> dense, length -> 2, values -> List(-3.7083865255645923, 2.8050089983868287))</td><td>-3.7083865255645923</td><td>2.8050089983868287</td></tr><tr><td>0</td><td>0</td><td>Map(vectorType -> dense, length -> 2, values -> List(-0.4600742739863428, -0.3938197686403613))</td><td>-0.4600742739863428</td><td>-0.3938197686403613</td></tr><tr><td>0</td><td>1</td><td>Map(vectorType -> dense, length -> 2, values -> List(-6.387030007430574, 1.821491442867628))</td><td>-6.387030007430574</td><td>1.821491442867628</td></tr><tr><td>0</td><td>1</td><td>Map(vectorType -> dense, length -> 2, values -> List(-5.250924689588624, -3.891107225655192))</td><td>-5.250924689588624</td><td>-3.891107225655192</td></tr><tr><td>0</td><td>1</td><td>Map(vectorType -> dense, length -> 2, values -> List(-8.726183381467218, -3.2769939657143716))</td><td>-8.726183381467218</td><td>-3.2769939657143716</td></tr><tr><td>0</td><td>1</td><td>Map(vectorType -> dense, length -> 2, values -> List(-3.6880727649812464, -1.0647092355384506))</td><td>-3.6880727649812464</td><td>-1.0647092355384506</td></tr><tr><td>0</td><td>1</td><td>Map(vectorType -> dense, length -> 2, values -> List(-3.3752809812447255, 3.3682641746415576))</td><td>-3.3752809812447255</td><td>3.3682641746415576</td></tr><tr><td>0</td><td>0</td><td>Map(vectorType -> dense, length -> 2, values -> List(0.8394710078446104, 3.4970080337579934))</td><td>0.8394710078446104</td><td>3.4970080337579934</td></tr><tr><td>0</td><td>1</td><td>Map(vectorType -> dense, length -> 2, values -> List(-3.2814852588700103, 0.9898022792791088))</td><td>-3.2814852588700103</td><td>0.9898022792791088</td></tr><tr><td>0</td><td>0</td><td>Map(vectorType -> dense, length -> 2, values -> List(1.9070908891938627, 3.119201237203347))</td><td>1.9070908891938627</td><td>3.119201237203347</td></tr><tr><td>0</td><td>1</td><td>Map(vectorType -> dense, length -> 2, values -> List(-1.6133623365757193, 2.4723978983559065))</td><td>-1.6133623365757193</td><td>2.4723978983559065</td></tr><tr><td>0</td><td>1</td><td>Map(vectorType -> dense, length -> 2, values -> List(-6.613906806066417, 5.997998810891651))</td><td>-6.613906806066417</td><td>5.997998810891651</td></tr><tr><td>1</td><td>0</td><td>Map(vectorType -> dense, length -> 2, values -> List(1.4633883060156407, -1.685149060625749))</td><td>1.4633883060156407</td><td>-1.685149060625749</td></tr><tr><td>1</td><td>0</td><td>Map(vectorType -> dense, length -> 2, values -> List(2.0103835029649497, 1.1025164598842423))</td><td>2.0103835029649497</td><td>1.1025164598842423</td></tr><tr><td>1</td><td>0</td><td>Map(vectorType -> dense, length -> 2, values -> List(2.282332040471847, -0.009485293138450299))</td><td>2.282332040471847</td><td>-0.009485293138450299</td></tr><tr><td>1</td><td>0</td><td>Map(vectorType -> dense, length -> 2, values -> List(0.7390927619274819, -3.149749157849665))</td><td>0.7390927619274819</td><td>-3.149749157849665</td></tr><tr><td>1</td><td>0</td><td>Map(vectorType -> dense, length -> 2, values -> List(4.502600696719506, 3.166486413631368))</td><td>4.502600696719506</td><td>3.166486413631368</td></tr><tr><td>1</td><td>0</td><td>Map(vectorType -> dense, length -> 2, values -> List(3.1559773740122634, -0.4099410900241174))</td><td>3.1559773740122634</td><td>-0.4099410900241174</td></tr><tr><td>0</td><td>1</td><td>Map(vectorType -> dense, length -> 2, values -> List(-7.6694012070934345, 3.072602737491275))</td><td>-7.6694012070934345</td><td>3.072602737491275</td></tr><tr><td>1</td><td>0</td><td>Map(vectorType -> dense, length -> 2, values -> List(3.6359367261303492, -1.5881896245823244))</td><td>3.6359367261303492</td><td>-1.5881896245823244</td></tr><tr><td>0</td><td>0</td><td>Map(vectorType -> dense, length -> 2, values -> List(-0.3370489251204577, 3.1416091727542197))</td><td>-0.3370489251204577</td><td>3.1416091727542197</td></tr><tr><td>1</td><td>0</td><td>Map(vectorType -> dense, length -> 2, values -> List(1.2754611078320632, -0.8483065631109162))</td><td>1.2754611078320632</td><td>-0.8483065631109162</td></tr><tr><td>1</td><td>0</td><td>Map(vectorType -> dense, length -> 2, values -> List(4.342193381795932, 0.3216949991143457))</td><td>4.342193381795932</td><td>0.3216949991143457</td></tr><tr><td>0</td><td>0</td><td>Map(vectorType -> dense, length -> 2, values -> List(-0.01741546771171315, 3.456302109699558))</td><td>-0.01741546771171315</td><td>3.456302109699558</td></tr><tr><td>1</td><td>0</td><td>Map(vectorType -> dense, length -> 2, values -> List(3.4893557720452133, 2.6317667234807156))</td><td>3.4893557720452133</td><td>2.6317667234807156</td></tr><tr><td>1</td><td>0</td><td>Map(vectorType -> dense, length -> 2, values -> List(1.864907931297847, 0.9012711860481959))</td><td>1.864907931297847</td><td>0.9012711860481959</td></tr><tr><td>0</td><td>1</td><td>Map(vectorType -> dense, length -> 2, values -> List(-4.955907441716645, 1.3399440378897656))</td><td>-4.955907441716645</td><td>1.3399440378897656</td></tr><tr><td>1</td><td>0</td><td>Map(vectorType -> dense, length -> 2, values -> List(2.4685506209044195, 0.1379049225435279))</td><td>2.4685506209044195</td><td>0.1379049225435279</td></tr><tr><td>0</td><td>1</td><td>Map(vectorType -> dense, length -> 2, values -> List(-3.781732576915012, 1.9002354094267013))</td><td>-3.781732576915012</td><td>1.9002354094267013</td></tr><tr><td>0</td><td>1</td><td>Map(vectorType -> dense, length -> 2, values -> List(-2.634937310206687, -0.5766476067361099))</td><td>-2.634937310206687</td><td>-0.5766476067361099</td></tr><tr><td>1</td><td>0</td><td>Map(vectorType -> dense, length -> 2, values -> List(1.3714782673685932, -0.005800357721781113))</td><td>1.3714782673685932</td><td>-0.005800357721781113</td></tr><tr><td>1</td><td>0</td><td>Map(vectorType -> dense, length -> 2, values -> List(4.13524399446935, 1.375298122929749))</td><td>4.13524399446935</td><td>1.375298122929749</td></tr><tr><td>1</td><td>0</td><td>Map(vectorType -> dense, length -> 2, values -> List(0.6863363877211871, -1.6935195059813446))</td><td>0.6863363877211871</td><td>-1.6935195059813446</td></tr><tr><td>1</td><td>0</td><td>Map(vectorType -> dense, length -> 2, values -> List(4.308338698860459, 1.9767468042610254))</td><td>4.308338698860459</td><td>1.9767468042610254</td></tr><tr><td>1</td><td>0</td><td>Map(vectorType -> dense, length -> 2, values -> List(-0.4029548635748549, -3.7201606544330987))</td><td>-0.4029548635748549</td><td>-3.7201606544330987</td></tr><tr><td>1</td><td>0</td><td>Map(vectorType -> dense, length -> 2, values -> List(3.000965262243705, -0.35384887774716584))</td><td>3.000965262243705</td><td>-0.35384887774716584</td></tr><tr><td>1</td><td>1</td><td>Map(vectorType -> dense, length -> 2, values -> List(-3.1312530328587043, -4.269702670189467))</td><td>-3.1312530328587043</td><td>-4.269702670189467</td></tr><tr><td>1</td><td>0</td><td>Map(vectorType -> dense, length -> 2, values -> List(0.41746953769710166, 0.8078657343689332))</td><td>0.41746953769710166</td><td>0.8078657343689332</td></tr><tr><td>1</td><td>0</td><td>Map(vectorType -> dense, length -> 2, values -> List(1.4189745870297155, -1.3927526376556778))</td><td>1.4189745870297155</td><td>-1.3927526376556778</td></tr><tr><td>1</td><td>0</td><td>Map(vectorType -> dense, length -> 2, values -> List(2.8680647531464465, 0.268408338101326))</td><td>2.8680647531464465</td><td>0.268408338101326</td></tr><tr><td>1</td><td>0</td><td>Map(vectorType -> dense, length -> 2, values -> List(3.3628867182650546, 0.8068906366540134))</td><td>3.3628867182650546</td><td>0.8068906366540134</td></tr><tr><td>1</td><td>0</td><td>Map(vectorType -> dense, length -> 2, values -> List(3.3120858684223364, 1.4409083819701411))</td><td>3.3120858684223364</td><td>1.4409083819701411</td></tr><tr><td>1</td><td>0</td><td>Map(vectorType -> dense, length -> 2, values -> List(4.7655170071007955, 0.5424845304417008))</td><td>4.7655170071007955</td><td>0.5424845304417008</td></tr><tr><td>0</td><td>0</td><td>Map(vectorType -> dense, length -> 2, values -> List(2.383785278667096, 0.8233910735604927))</td><td>2.383785278667096</td><td>0.8233910735604927</td></tr><tr><td>1</td><td>0</td><td>Map(vectorType -> dense, length -> 2, values -> List(2.7846458146634814, 2.530807159428553))</td><td>2.7846458146634814</td><td>2.530807159428553</td></tr><tr><td>1</td><td>0</td><td>Map(vectorType -> dense, length -> 2, values -> List(3.3908581737798005, -0.7533011314133292))</td><td>3.3908581737798005</td><td>-0.7533011314133292</td></tr><tr><td>0</td><td>1</td><td>Map(vectorType -> dense, length -> 2, values -> List(-6.58444232820841, 1.4835570760795582))</td><td>-6.58444232820841</td><td>1.4835570760795582</td></tr><tr><td>1</td><td>0</td><td>Map(vectorType -> dense, length -> 2, values -> List(1.4540511062050259, -0.5914224783050939))</td><td>1.4540511062050259</td><td>-0.5914224783050939</td></tr><tr><td>0</td><td>1</td><td>Map(vectorType -> dense, length -> 2, values -> List(-7.176618434402277, -0.05509758012513949))</td><td>-7.176618434402277</td><td>-0.05509758012513949</td></tr><tr><td>1</td><td>0</td><td>Map(vectorType -> dense, length -> 2, values -> List(3.5756891739127767, -0.890799182251582))</td><td>3.5756891739127767</td><td>-0.890799182251582</td></tr><tr><td>1</td><td>0</td><td>Map(vectorType -> dense, length -> 2, values -> List(3.0543451401303825, 0.17905583600501274))</td><td>3.0543451401303825</td><td>0.17905583600501274</td></tr><tr><td>1</td><td>0</td><td>Map(vectorType -> dense, length -> 2, values -> List(3.0717330303073704, 0.3057893730497704))</td><td>3.0717330303073704</td><td>0.3057893730497704</td></tr><tr><td>1</td><td>0</td><td>Map(vectorType -> dense, length -> 2, values -> List(3.850152005362842, 1.5233860034932076))</td><td>3.850152005362842</td><td>1.5233860034932076</td></tr><tr><td>1</td><td>0</td><td>Map(vectorType -> dense, length -> 2, values -> List(5.3855177059185495, -0.5557664886960754))</td><td>5.3855177059185495</td><td>-0.5557664886960754</td></tr><tr><td>1</td><td>0</td><td>Map(vectorType -> dense, length -> 2, values -> List(4.65358766791471, 3.062692587047921))</td><td>4.65358766791471</td><td>3.062692587047921</td></tr><tr><td>1</td><td>0</td><td>Map(vectorType -> dense, length -> 2, values -> List(4.024001690818717, 2.5406715203364776))</td><td>4.024001690818717</td><td>2.5406715203364776</td></tr><tr><td>1</td><td>0</td><td>Map(vectorType -> dense, length -> 2, values -> List(3.3448788008728587, 0.06850277259966837))</td><td>3.3448788008728587</td><td>0.06850277259966837</td></tr><tr><td>1</td><td>0</td><td>Map(vectorType -> dense, length -> 2, values -> List(3.2969410508974435, 3.1359500887137717))</td><td>3.2969410508974435</td><td>3.1359500887137717</td></tr><tr><td>1</td><td>0</td><td>Map(vectorType -> dense, length -> 2, values -> List(2.134525984500311, 0.0043889867928022935))</td><td>2.134525984500311</td><td>0.0043889867928022935</td></tr><tr><td>1</td><td>0</td><td>Map(vectorType -> dense, length -> 2, values -> List(4.034467235871257, 0.2404864516410689))</td><td>4.034467235871257</td><td>0.2404864516410689</td></tr><tr><td>1</td><td>0</td><td>Map(vectorType -> dense, length -> 2, values -> List(3.762104298066469, -4.39433394265753))</td><td>3.762104298066469</td><td>-4.39433394265753</td></tr><tr><td>1</td><td>0</td><td>Map(vectorType -> dense, length -> 2, values -> List(4.86695697440386, 2.337158334463167))</td><td>4.86695697440386</td><td>2.337158334463167</td></tr><tr><td>1</td><td>0</td><td>Map(vectorType -> dense, length -> 2, values -> List(4.743075110258775, 1.7968209625108593))</td><td>4.743075110258775</td><td>1.7968209625108593</td></tr><tr><td>0</td><td>1</td><td>Map(vectorType -> dense, length -> 2, values -> List(-1.8936500638857314, 2.3901349362668816))</td><td>-1.8936500638857314</td><td>2.3901349362668816</td></tr><tr><td>1</td><td>1</td><td>Map(vectorType -> dense, length -> 2, values -> List(-1.571548343734521, -6.503377020577063))</td><td>-1.571548343734521</td><td>-6.503377020577063</td></tr><tr><td>1</td><td>0</td><td>Map(vectorType -> dense, length -> 2, values -> List(4.023080366038678, 1.4009737529462152))</td><td>4.023080366038678</td><td>1.4009737529462152</td></tr><tr><td>1</td><td>0</td><td>Map(vectorType -> dense, length -> 2, values -> List(1.29372782598917, -3.4677573783806075))</td><td>1.29372782598917</td><td>-3.4677573783806075</td></tr><tr><td>0</td><td>1</td><td>Map(vectorType -> dense, length -> 2, values -> List(-1.8332274202713865, 4.317723822665098))</td><td>-1.8332274202713865</td><td>4.317723822665098</td></tr><tr><td>1</td><td>0</td><td>Map(vectorType -> dense, length -> 2, values -> List(1.808789015235209, -0.39585898806435427))</td><td>1.808789015235209</td><td>-0.39585898806435427</td></tr><tr><td>0</td><td>1</td><td>Map(vectorType -> dense, length -> 2, values -> List(-7.230123567830955, 0.035670410920752404))</td><td>-7.230123567830955</td><td>0.035670410920752404</td></tr><tr><td>1</td><td>0</td><td>Map(vectorType -> dense, length -> 2, values -> List(3.1428847812274205, 0.741873771312808))</td><td>3.1428847812274205</td><td>0.741873771312808</td></tr><tr><td>1</td><td>0</td><td>Map(vectorType -> dense, length -> 2, values -> List(2.8847298001152506, 0.46432306918826133))</td><td>2.8847298001152506</td><td>0.46432306918826133</td></tr><tr><td>1</td><td>0</td><td>Map(vectorType -> dense, length -> 2, values -> List(3.146885056706513, 1.7696912547970154))</td><td>3.146885056706513</td><td>1.7696912547970154</td></tr><tr><td>1</td><td>0</td><td>Map(vectorType -> dense, length -> 2, values -> List(4.624310577223516, 1.8340046311486002))</td><td>4.624310577223516</td><td>1.8340046311486002</td></tr><tr><td>0</td><td>1</td><td>Map(vectorType -> dense, length -> 2, values -> List(-2.248531903058634, 0.3482295351152985))</td><td>-2.248531903058634</td><td>0.3482295351152985</td></tr><tr><td>0</td><td>1</td><td>Map(vectorType -> dense, length -> 2, values -> List(-2.105948215451635, -1.1209875925308008))</td><td>-2.105948215451635</td><td>-1.1209875925308008</td></tr><tr><td>0</td><td>1</td><td>Map(vectorType -> dense, length -> 2, values -> List(-1.7843799140989622, 0.2689849572661148))</td><td>-1.7843799140989622</td><td>0.2689849572661148</td></tr><tr><td>1</td><td>0</td><td>Map(vectorType -> dense, length -> 2, values -> List(0.527232708197753, -1.264758768867036))</td><td>0.527232708197753</td><td>-1.264758768867036</td></tr><tr><td>1</td><td>0</td><td>Map(vectorType -> dense, length -> 2, values -> List(3.2106759241477616, -1.1024730816943964))</td><td>3.2106759241477616</td><td>-1.1024730816943964</td></tr><tr><td>1</td><td>0</td><td>Map(vectorType -> dense, length -> 2, values -> List(4.382566769758078, 0.7604346273021849))</td><td>4.382566769758078</td><td>0.7604346273021849</td></tr><tr><td>1</td><td>0</td><td>Map(vectorType -> dense, length -> 2, values -> List(3.80666840292402, 0.9091186263481879))</td><td>3.80666840292402</td><td>0.9091186263481879</td></tr><tr><td>0</td><td>1</td><td>Map(vectorType -> dense, length -> 2, values -> List(-3.3167555762556, 1.5756664220302594))</td><td>-3.3167555762556</td><td>1.5756664220302594</td></tr><tr><td>1</td><td>0</td><td>Map(vectorType -> dense, length -> 2, values -> List(2.3911719850536737, -0.9891604207881478))</td><td>2.3911719850536737</td><td>-0.9891604207881478</td></tr><tr><td>0</td><td>1</td><td>Map(vectorType -> dense, length -> 2, values -> List(-4.676051829725837, 0.9677414434843))</td><td>-4.676051829725837</td><td>0.9677414434843</td></tr><tr><td>1</td><td>0</td><td>Map(vectorType -> dense, length -> 2, values -> List(3.0649982652345846, -1.1348390297023678))</td><td>3.0649982652345846</td><td>-1.1348390297023678</td></tr><tr><td>0</td><td>1</td><td>Map(vectorType -> dense, length -> 2, values -> List(-7.346754205800324, 5.238014242213437))</td><td>-7.346754205800324</td><td>5.238014242213437</td></tr><tr><td>1</td><td>0</td><td>Map(vectorType -> dense, length -> 2, values -> List(-0.2950535672123393, -0.22673553279496178))</td><td>-0.2950535672123393</td><td>-0.22673553279496178</td></tr><tr><td>1</td><td>0</td><td>Map(vectorType -> dense, length -> 2, values -> List(1.937264908048494, -2.54275075984208))</td><td>1.937264908048494</td><td>-2.54275075984208</td></tr><tr><td>1</td><td>0</td><td>Map(vectorType -> dense, length -> 2, values -> List(2.075352829718506, -1.8049313395291142))</td><td>2.075352829718506</td><td>-1.8049313395291142</td></tr><tr><td>0</td><td>1</td><td>Map(vectorType -> dense, length -> 2, values -> List(-4.970788588463213, 1.3314006873626998))</td><td>-4.970788588463213</td><td>1.3314006873626998</td></tr><tr><td>1</td><td>0</td><td>Map(vectorType -> dense, length -> 2, values -> List(2.1750031061333353, -0.9580682603151646))</td><td>2.1750031061333353</td><td>-0.9580682603151646</td></tr><tr><td>1</td><td>0</td><td>Map(vectorType -> dense, length -> 2, values -> List(2.429413826943072, -3.44417335730377))</td><td>2.429413826943072</td><td>-3.44417335730377</td></tr><tr><td>1</td><td>0</td><td>Map(vectorType -> dense, length -> 2, values -> List(3.3650049292694186, 0.5624340150809102))</td><td>3.3650049292694186</td><td>0.5624340150809102</td></tr><tr><td>1</td><td>0</td><td>Map(vectorType -> dense, length -> 2, values -> List(1.205537044997321, 1.315886496793601))</td><td>1.205537044997321</td><td>1.315886496793601</td></tr><tr><td>1</td><td>0</td><td>Map(vectorType -> dense, length -> 2, values -> List(3.3231552224306244, -0.4747538482010823))</td><td>3.3231552224306244</td><td>-0.4747538482010823</td></tr><tr><td>1</td><td>0</td><td>Map(vectorType -> dense, length -> 2, values -> List(1.9270997575978313, -1.460184988708072))</td><td>1.9270997575978313</td><td>-1.460184988708072</td></tr><tr><td>1</td><td>0</td><td>Map(vectorType -> dense, length -> 2, values -> List(4.038281827650134, 1.3557245619959968))</td><td>4.038281827650134</td><td>1.3557245619959968</td></tr><tr><td>0</td><td>1</td><td>Map(vectorType -> dense, length -> 2, values -> List(-6.176848765923755, -5.103514894361796))</td><td>-6.176848765923755</td><td>-5.103514894361796</td></tr><tr><td>0</td><td>1</td><td>Map(vectorType -> dense, length -> 2, values -> List(-10.924685586759175, 3.699998471871134))</td><td>-10.924685586759175</td><td>3.699998471871134</td></tr><tr><td>0</td><td>1</td><td>Map(vectorType -> dense, length -> 2, values -> List(-2.1166345166823373, -0.2963682967476071))</td><td>-2.1166345166823373</td><td>-0.2963682967476071</td></tr><tr><td>1</td><td>0</td><td>Map(vectorType -> dense, length -> 2, values -> List(3.0095468861563317, -0.243545681202486))</td><td>3.0095468861563317</td><td>-0.243545681202486</td></tr><tr><td>1</td><td>0</td><td>Map(vectorType -> dense, length -> 2, values -> List(0.9817847142179241, -0.7965515125202817))</td><td>0.9817847142179241</td><td>-0.7965515125202817</td></tr><tr><td>1</td><td>0</td><td>Map(vectorType -> dense, length -> 2, values -> List(-0.35757923049032636, -2.125968004265042))</td><td>-0.35757923049032636</td><td>-2.125968004265042</td></tr><tr><td>1</td><td>0</td><td>Map(vectorType -> dense, length -> 2, values -> List(3.191110025081194, 1.847526444761871))</td><td>3.191110025081194</td><td>1.847526444761871</td></tr><tr><td>1</td><td>0</td><td>Map(vectorType -> dense, length -> 2, values -> List(2.990601886844637, -1.6299580146726662))</td><td>2.990601886844637</td><td>-1.6299580146726662</td></tr><tr><td>1</td><td>0</td><td>Map(vectorType -> dense, length -> 2, values -> List(3.191106313310075, -0.5788301325936451))</td><td>3.191106313310075</td><td>-0.5788301325936451</td></tr><tr><td>1</td><td>0</td><td>Map(vectorType -> dense, length -> 2, values -> List(4.587924963183574, 2.7586997322892137))</td><td>4.587924963183574</td><td>2.7586997322892137</td></tr><tr><td>1</td><td>0</td><td>Map(vectorType -> dense, length -> 2, values -> List(2.483730733194703, 1.1878941827853875))</td><td>2.483730733194703</td><td>1.1878941827853875</td></tr><tr><td>1</td><td>0</td><td>Map(vectorType -> dense, length -> 2, values -> List(2.396556629015861, 0.2505243553016716))</td><td>2.396556629015861</td><td>0.2505243553016716</td></tr><tr><td>1</td><td>0</td><td>Map(vectorType -> dense, length -> 2, values -> List(0.7789298236156389, 2.1224758723954773))</td><td>0.7789298236156389</td><td>2.1224758723954773</td></tr><tr><td>1</td><td>0</td><td>Map(vectorType -> dense, length -> 2, values -> List(3.137227995833936, 1.486714010385516))</td><td>3.137227995833936</td><td>1.486714010385516</td></tr><tr><td>0</td><td>1</td><td>Map(vectorType -> dense, length -> 2, values -> List(-2.7326073652576093, 3.9416999500655043))</td><td>-2.7326073652576093</td><td>3.9416999500655043</td></tr><tr><td>0</td><td>1</td><td>Map(vectorType -> dense, length -> 2, values -> List(-6.221551679069684, 1.3888876163638892))</td><td>-6.221551679069684</td><td>1.3888876163638892</td></tr><tr><td>1</td><td>0</td><td>Map(vectorType -> dense, length -> 2, values -> List(2.221820777512973, 0.35684672329234746))</td><td>2.221820777512973</td><td>0.35684672329234746</td></tr><tr><td>0</td><td>1</td><td>Map(vectorType -> dense, length -> 2, values -> List(-5.302474403497606, 6.717504287902137))</td><td>-5.302474403497606</td><td>6.717504287902137</td></tr><tr><td>0</td><td>1</td><td>Map(vectorType -> dense, length -> 2, values -> List(-7.241629190977243, 3.6522555297061396))</td><td>-7.241629190977243</td><td>3.6522555297061396</td></tr><tr><td>0</td><td>1</td><td>Map(vectorType -> dense, length -> 2, values -> List(-4.203521962751312, -1.1752088219527228))</td><td>-4.203521962751312</td><td>-1.1752088219527228</td></tr><tr><td>1</td><td>0</td><td>Map(vectorType -> dense, length -> 2, values -> List(2.4974388911606744, 2.016761089657906))</td><td>2.4974388911606744</td><td>2.016761089657906</td></tr><tr><td>0</td><td>1</td><td>Map(vectorType -> dense, length -> 2, values -> List(-3.631819328529832, 1.9547209619987518))</td><td>-3.631819328529832</td><td>1.9547209619987518</td></tr><tr><td>0</td><td>1</td><td>Map(vectorType -> dense, length -> 2, values -> List(-3.516154429778133, 3.8552149374108557))</td><td>-3.516154429778133</td><td>3.8552149374108557</td></tr><tr><td>1</td><td>0</td><td>Map(vectorType -> dense, length -> 2, values -> List(2.6126494511410927, 1.101505250877788))</td><td>2.6126494511410927</td><td>1.101505250877788</td></tr><tr><td>1</td><td>0</td><td>Map(vectorType -> dense, length -> 2, values -> List(0.09602362590836018, 0.12973343110973548))</td><td>0.09602362590836018</td><td>0.12973343110973548</td></tr><tr><td>1</td><td>1</td><td>Map(vectorType -> dense, length -> 2, values -> List(-2.0430592577934314, -6.421169886591277))</td><td>-2.0430592577934314</td><td>-6.421169886591277</td></tr><tr><td>1</td><td>0</td><td>Map(vectorType -> dense, length -> 2, values -> List(3.0640534834955355, 2.1801773735430845))</td><td>3.0640534834955355</td><td>2.1801773735430845</td></tr><tr><td>1</td><td>0</td><td>Map(vectorType -> dense, length -> 2, values -> List(1.6021766967898312, -0.2923389949332684))</td><td>1.6021766967898312</td><td>-0.2923389949332684</td></tr><tr><td>0</td><td>1</td><td>Map(vectorType -> dense, length -> 2, values -> List(-3.762621443878961, -5.980033549309579))</td><td>-3.762621443878961</td><td>-5.980033549309579</td></tr><tr><td>1</td><td>0</td><td>Map(vectorType -> dense, length -> 2, values -> List(0.9247529181246392, -2.3004572704552135))</td><td>0.9247529181246392</td><td>-2.3004572704552135</td></tr><tr><td>1</td><td>0</td><td>Map(vectorType -> dense, length -> 2, values -> List(3.2854587367562074, -0.20113435938521462))</td><td>3.2854587367562074</td><td>-0.20113435938521462</td></tr><tr><td>1</td><td>0</td><td>Map(vectorType -> dense, length -> 2, values -> List(1.5534852463993922, -0.9789963158207404))</td><td>1.5534852463993922</td><td>-0.9789963158207404</td></tr><tr><td>1</td><td>0</td><td>Map(vectorType -> dense, length -> 2, values -> List(0.39842934176183803, -2.1593127242758463))</td><td>0.39842934176183803</td><td>-2.1593127242758463</td></tr><tr><td>1</td><td>0</td><td>Map(vectorType -> dense, length -> 2, values -> List(2.2985453437371177, 0.9312581750160045))</td><td>2.2985453437371177</td><td>0.9312581750160045</td></tr><tr><td>0</td><td>0</td><td>Map(vectorType -> dense, length -> 2, values -> List(0.542424088151976, 1.3159100480444743))</td><td>0.542424088151976</td><td>1.3159100480444743</td></tr><tr><td>1</td><td>0</td><td>Map(vectorType -> dense, length -> 2, values -> List(2.057009504309962, -0.32015344453125083))</td><td>2.057009504309962</td><td>-0.32015344453125083</td></tr><tr><td>1</td><td>0</td><td>Map(vectorType -> dense, length -> 2, values -> List(3.4215074893256583, 2.443368505138404))</td><td>3.4215074893256583</td><td>2.443368505138404</td></tr><tr><td>1</td><td>0</td><td>Map(vectorType -> dense, length -> 2, values -> List(0.47199124930973096, -3.699574203312585))</td><td>0.47199124930973096</td><td>-3.699574203312585</td></tr><tr><td>0</td><td>1</td><td>Map(vectorType -> dense, length -> 2, values -> List(-4.699365785201365, 0.19578348601557083))</td><td>-4.699365785201365</td><td>0.19578348601557083</td></tr><tr><td>1</td><td>0</td><td>Map(vectorType -> dense, length -> 2, values -> List(3.640177266356688, -0.786168171276902))</td><td>3.640177266356688</td><td>-0.786168171276902</td></tr><tr><td>1</td><td>0</td><td>Map(vectorType -> dense, length -> 2, values -> List(3.5915291765229544, -2.602797029692257))</td><td>3.5915291765229544</td><td>-2.602797029692257</td></tr><tr><td>0</td><td>1</td><td>Map(vectorType -> dense, length -> 2, values -> List(-4.145449783640533, -0.7668141287529167))</td><td>-4.145449783640533</td><td>-0.7668141287529167</td></tr><tr><td>0</td><td>1</td><td>Map(vectorType -> dense, length -> 2, values -> List(-7.665396811495929, 0.8597276809314314))</td><td>-7.665396811495929</td><td>0.8597276809314314</td></tr><tr><td>1</td><td>0</td><td>Map(vectorType -> dense, length -> 2, values -> List(2.0086120468983655, -0.4293118113846647))</td><td>2.0086120468983655</td><td>-0.4293118113846647</td></tr><tr><td>1</td><td>0</td><td>Map(vectorType -> dense, length -> 2, values -> List(2.9182657286307934, 1.6989775538427376))</td><td>2.9182657286307934</td><td>1.6989775538427376</td></tr><tr><td>1</td><td>0</td><td>Map(vectorType -> dense, length -> 2, values -> List(0.5002975911258666, -0.10663763480732191))</td><td>0.5002975911258666</td><td>-0.10663763480732191</td></tr><tr><td>1</td><td>0</td><td>Map(vectorType -> dense, length -> 2, values -> List(1.909818136290534, 0.6508212257862362))</td><td>1.909818136290534</td><td>0.6508212257862362</td></tr><tr><td>1</td><td>0</td><td>Map(vectorType -> dense, length -> 2, values -> List(3.7817716673916792, 0.3258596453595585))</td><td>3.7817716673916792</td><td>0.3258596453595585</td></tr><tr><td>1</td><td>0</td><td>Map(vectorType -> dense, length -> 2, values -> List(2.706012962066895, 0.2194726288777049))</td><td>2.706012962066895</td><td>0.2194726288777049</td></tr><tr><td>0</td><td>1</td><td>Map(vectorType -> dense, length -> 2, values -> List(-6.284144085196279, -2.034757025450057))</td><td>-6.284144085196279</td><td>-2.034757025450057</td></tr><tr><td>1</td><td>0</td><td>Map(vectorType -> dense, length -> 2, values -> List(3.4277546285096903, 0.9917374104621859))</td><td>3.4277546285096903</td><td>0.9917374104621859</td></tr><tr><td>1</td><td>0</td><td>Map(vectorType -> dense, length -> 2, values -> List(1.9996290036610866, 0.29306859391553763))</td><td>1.9996290036610866</td><td>0.29306859391553763</td></tr><tr><td>1</td><td>0</td><td>Map(vectorType -> dense, length -> 2, values -> List(2.4711187702674877, 0.3347524795996754))</td><td>2.4711187702674877</td><td>0.3347524795996754</td></tr><tr><td>1</td><td>0</td><td>Map(vectorType -> dense, length -> 2, values -> List(3.6440513653380244, 1.2402738149716068))</td><td>3.6440513653380244</td><td>1.2402738149716068</td></tr><tr><td>1</td><td>0</td><td>Map(vectorType -> dense, length -> 2, values -> List(2.344124268696747, -0.6821411046260262))</td><td>2.344124268696747</td><td>-0.6821411046260262</td></tr><tr><td>1</td><td>0</td><td>Map(vectorType -> dense, length -> 2, values -> List(1.1419920938905654, 1.9604465077671769))</td><td>1.1419920938905654</td><td>1.9604465077671769</td></tr><tr><td>1</td><td>0</td><td>Map(vectorType -> dense, length -> 2, values -> List(1.349669736242352, -0.36924900183406884))</td><td>1.349669736242352</td><td>-0.36924900183406884</td></tr><tr><td>0</td><td>1</td><td>Map(vectorType -> dense, length -> 2, values -> List(-2.760941448865499, 1.0776852596095776))</td><td>-2.760941448865499</td><td>1.0776852596095776</td></tr><tr><td>1</td><td>0</td><td>Map(vectorType -> dense, length -> 2, values -> List(1.967592331203069, 0.17569391630596184))</td><td>1.967592331203069</td><td>0.17569391630596184</td></tr><tr><td>1</td><td>0</td><td>Map(vectorType -> dense, length -> 2, values -> List(2.92861018720084, 0.49442119061084133))</td><td>2.92861018720084</td><td>0.49442119061084133</td></tr><tr><td>1</td><td>0</td><td>Map(vectorType -> dense, length -> 2, values -> List(2.92380174883021, -0.3770005363916792))</td><td>2.92380174883021</td><td>-0.3770005363916792</td></tr><tr><td>1</td><td>0</td><td>Map(vectorType -> dense, length -> 2, values -> List(3.99267514417972, -0.9590122600837145))</td><td>3.99267514417972</td><td>-0.9590122600837145</td></tr><tr><td>1</td><td>0</td><td>Map(vectorType -> dense, length -> 2, values -> List(-0.1550016743349039, 0.437623165978837))</td><td>-0.1550016743349039</td><td>0.437623165978837</td></tr><tr><td>0</td><td>0</td><td>Map(vectorType -> dense, length -> 2, values -> List(0.9332696314803103, 2.104094210067527))</td><td>0.9332696314803103</td><td>2.104094210067527</td></tr><tr><td>1</td><td>0</td><td>Map(vectorType -> dense, length -> 2, values -> List(1.927925359175412, -0.8916821038232392))</td><td>1.927925359175412</td><td>-0.8916821038232392</td></tr><tr><td>1</td><td>0</td><td>Map(vectorType -> dense, length -> 2, values -> List(2.6200332486414437, -2.499901967771065))</td><td>2.6200332486414437</td><td>-2.499901967771065</td></tr><tr><td>0</td><td>1</td><td>Map(vectorType -> dense, length -> 2, values -> List(-5.998338685657266, 0.09094919644802113))</td><td>-5.998338685657266</td><td>0.09094919644802113</td></tr><tr><td>1</td><td>0</td><td>Map(vectorType -> dense, length -> 2, values -> List(2.9193091202939803, 0.00920458204064542))</td><td>2.9193091202939803</td><td>0.00920458204064542</td></tr><tr><td>1</td><td>0</td><td>Map(vectorType -> dense, length -> 2, values -> List(3.3390068299273357, 0.022205192232515797))</td><td>3.3390068299273357</td><td>0.022205192232515797</td></tr><tr><td>1</td><td>0</td><td>Map(vectorType -> dense, length -> 2, values -> List(2.0131436791939663, -0.7777677776660812))</td><td>2.0131436791939663</td><td>-0.7777677776660812</td></tr><tr><td>1</td><td>1</td><td>Map(vectorType -> dense, length -> 2, values -> List(-1.9867140066590794, -2.314011967419204))</td><td>-1.9867140066590794</td><td>-2.314011967419204</td></tr><tr><td>1</td><td>0</td><td>Map(vectorType -> dense, length -> 2, values -> List(1.6681361466415952, -0.8615607699852146))</td><td>1.6681361466415952</td><td>-0.8615607699852146</td></tr><tr><td>1</td><td>0</td><td>Map(vectorType -> dense, length -> 2, values -> List(0.37085180302599974, -0.11351277941469305))</td><td>0.37085180302599974</td><td>-0.11351277941469305</td></tr><tr><td>1</td><td>0</td><td>Map(vectorType -> dense, length -> 2, values -> List(1.8473344702440129, -2.5389956007011905))</td><td>1.8473344702440129</td><td>-2.5389956007011905</td></tr><tr><td>1</td><td>0</td><td>Map(vectorType -> dense, length -> 2, values -> List(4.6989076587167675, 0.4319223845700211))</td><td>4.6989076587167675</td><td>0.4319223845700211</td></tr><tr><td>1</td><td>0</td><td>Map(vectorType -> dense, length -> 2, values -> List(1.2820590739521003, -2.5486667521841357))</td><td>1.2820590739521003</td><td>-2.5486667521841357</td></tr><tr><td>1</td><td>0</td><td>Map(vectorType -> dense, length -> 2, values -> List(2.312212316213461, -0.4016780429615857))</td><td>2.312212316213461</td><td>-0.4016780429615857</td></tr><tr><td>1</td><td>0</td><td>Map(vectorType -> dense, length -> 2, values -> List(4.654989276563036, 0.7816110211582356))</td><td>4.654989276563036</td><td>0.7816110211582356</td></tr><tr><td>1</td><td>0</td><td>Map(vectorType -> dense, length -> 2, values -> List(3.940006591278556, 2.0282316570124226))</td><td>3.940006591278556</td><td>2.0282316570124226</td></tr><tr><td>0</td><td>1</td><td>Map(vectorType -> dense, length -> 2, values -> List(-4.945506936786711, -3.003421434951423))</td><td>-4.945506936786711</td><td>-3.003421434951423</td></tr><tr><td>1</td><td>0</td><td>Map(vectorType -> dense, length -> 2, values -> List(0.914998417180693, -2.476833776056108))</td><td>0.914998417180693</td><td>-2.476833776056108</td></tr><tr><td>0</td><td>1</td><td>Map(vectorType -> dense, length -> 2, values -> List(-4.545111927264468, 0.8152831423276554))</td><td>-4.545111927264468</td><td>0.8152831423276554</td></tr><tr><td>0</td><td>1</td><td>Map(vectorType -> dense, length -> 2, values -> List(-4.43843746105249, 0.9915664239722887))</td><td>-4.43843746105249</td><td>0.9915664239722887</td></tr><tr><td>1</td><td>0</td><td>Map(vectorType -> dense, length -> 2, values -> List(2.193054644119214, 1.8037661137139487))</td><td>2.193054644119214</td><td>1.8037661137139487</td></tr><tr><td>0</td><td>0</td><td>Map(vectorType -> dense, length -> 2, values -> List(-0.6638567906972933, -0.43647680208109413))</td><td>-0.6638567906972933</td><td>-0.43647680208109413</td></tr><tr><td>1</td><td>0</td><td>Map(vectorType -> dense, length -> 2, values -> List(2.2389060523360547, 0.4541898722408363))</td><td>2.2389060523360547</td><td>0.4541898722408363</td></tr><tr><td>1</td><td>0</td><td>Map(vectorType -> dense, length -> 2, values -> List(2.123312146064986, 1.1937465406902616))</td><td>2.123312146064986</td><td>1.1937465406902616</td></tr><tr><td>1</td><td>0</td><td>Map(vectorType -> dense, length -> 2, values -> List(2.613018230636058, 1.830449829701576))</td><td>2.613018230636058</td><td>1.830449829701576</td></tr><tr><td>1</td><td>0</td><td>Map(vectorType -> dense, length -> 2, values -> List(3.2081451461269004, 2.233177743167421))</td><td>3.2081451461269004</td><td>2.233177743167421</td></tr><tr><td>1</td><td>0</td><td>Map(vectorType -> dense, length -> 2, values -> List(0.30648072797555426, -2.1830779549000954))</td><td>0.30648072797555426</td><td>-2.1830779549000954</td></tr><tr><td>0</td><td>1</td><td>Map(vectorType -> dense, length -> 2, values -> List(-2.4701834157673517, 1.4985062241646343))</td><td>-2.4701834157673517</td><td>1.4985062241646343</td></tr><tr><td>1</td><td>0</td><td>Map(vectorType -> dense, length -> 2, values -> List(3.4516812564733845, 2.134583339853946))</td><td>3.4516812564733845</td><td>2.134583339853946</td></tr><tr><td>1</td><td>0</td><td>Map(vectorType -> dense, length -> 2, values -> List(3.897097812804002, -0.7301335297261968))</td><td>3.897097812804002</td><td>-0.7301335297261968</td></tr><tr><td>0</td><td>0</td><td>Map(vectorType -> dense, length -> 2, values -> List(-0.9808644845488861, 2.208486711616481))</td><td>-0.9808644845488861</td><td>2.208486711616481</td></tr><tr><td>1</td><td>0</td><td>Map(vectorType -> dense, length -> 2, values -> List(1.2561462947029458, -1.066752884858787))</td><td>1.2561462947029458</td><td>-1.066752884858787</td></tr><tr><td>0</td><td>1</td><td>Map(vectorType -> dense, length -> 2, values -> List(-3.2425605374516238, 1.7767952397711555))</td><td>-3.2425605374516238</td><td>1.7767952397711555</td></tr><tr><td>1</td><td>0</td><td>Map(vectorType -> dense, length -> 2, values -> List(1.555850428173458, 1.0370146428298208))</td><td>1.555850428173458</td><td>1.0370146428298208</td></tr><tr><td>1</td><td>0</td><td>Map(vectorType -> dense, length -> 2, values -> List(1.248159847609764, 1.5874420077235567))</td><td>1.248159847609764</td><td>1.5874420077235567</td></tr><tr><td>0</td><td>1</td><td>Map(vectorType -> dense, length -> 2, values -> List(-4.327845296903541, 4.045772564967691))</td><td>-4.327845296903541</td><td>4.045772564967691</td></tr><tr><td>1</td><td>0</td><td>Map(vectorType -> dense, length -> 2, values -> List(1.0765041197499041, -1.8020325644596087))</td><td>1.0765041197499041</td><td>-1.8020325644596087</td></tr><tr><td>0</td><td>1</td><td>Map(vectorType -> dense, length -> 2, values -> List(-2.50954496723855, 2.526584455419936))</td><td>-2.50954496723855</td><td>2.526584455419936</td></tr><tr><td>1</td><td>0</td><td>Map(vectorType -> dense, length -> 2, values -> List(2.2151432129344313, -0.029865010034000328))</td><td>2.2151432129344313</td><td>-0.029865010034000328</td></tr><tr><td>1</td><td>0</td><td>Map(vectorType -> dense, length -> 2, values -> List(1.1727987075491468, 0.47442206362079425))</td><td>1.1727987075491468</td><td>0.47442206362079425</td></tr><tr><td>1</td><td>0</td><td>Map(vectorType -> dense, length -> 2, values -> List(2.833807992032256, 1.0172307504970854))</td><td>2.833807992032256</td><td>1.0172307504970854</td></tr><tr><td>1</td><td>0</td><td>Map(vectorType -> dense, length -> 2, values -> List(1.855453295571189, 1.5700116743471624))</td><td>1.855453295571189</td><td>1.5700116743471624</td></tr><tr><td>1</td><td>0</td><td>Map(vectorType -> dense, length -> 2, values -> List(1.3274463600967459, -0.7764124994109081))</td><td>1.3274463600967459</td><td>-0.7764124994109081</td></tr><tr><td>1</td><td>0</td><td>Map(vectorType -> dense, length -> 2, values -> List(2.800307381480742, 1.664836753413479))</td><td>2.800307381480742</td><td>1.664836753413479</td></tr><tr><td>1</td><td>0</td><td>Map(vectorType -> dense, length -> 2, values -> List(3.1717779665128187, 2.073908798274623))</td><td>3.1717779665128187</td><td>2.073908798274623</td></tr><tr><td>1</td><td>0</td><td>Map(vectorType -> dense, length -> 2, values -> List(4.083484325194264, 0.48428396052725586))</td><td>4.083484325194264</td><td>0.48428396052725586</td></tr><tr><td>0</td><td>1</td><td>Map(vectorType -> dense, length -> 2, values -> List(-3.4724383684210407, 1.67141372334568))</td><td>-3.4724383684210407</td><td>1.67141372334568</td></tr><tr><td>0</td><td>1</td><td>Map(vectorType -> dense, length -> 2, values -> List(-16.304886649594216, 7.769016888373382))</td><td>-16.304886649594216</td><td>7.769016888373382</td></tr><tr><td>1</td><td>0</td><td>Map(vectorType -> dense, length -> 2, values -> List(2.557864367016561, 2.4918528797022423))</td><td>2.557864367016561</td><td>2.4918528797022423</td></tr><tr><td>1</td><td>0</td><td>Map(vectorType -> dense, length -> 2, values -> List(2.9662787832842827, 0.06878661072296705))</td><td>2.9662787832842827</td><td>0.06878661072296705</td></tr><tr><td>1</td><td>0</td><td>Map(vectorType -> dense, length -> 2, values -> List(2.755006335869314, 1.7923416963765513))</td><td>2.755006335869314</td><td>1.7923416963765513</td></tr><tr><td>1</td><td>1</td><td>Map(vectorType -> dense, length -> 2, values -> List(-1.3691351808117749, -2.1081563937309458))</td><td>-1.3691351808117749</td><td>-2.1081563937309458</td></tr><tr><td>1</td><td>0</td><td>Map(vectorType -> dense, length -> 2, values -> List(0.4172973149060333, -0.11641726210993464))</td><td>0.4172973149060333</td><td>-0.11641726210993464</td></tr><tr><td>1</td><td>0</td><td>Map(vectorType -> dense, length -> 2, values -> List(3.835024205957114, -0.898388161674005))</td><td>3.835024205957114</td><td>-0.898388161674005</td></tr><tr><td>0</td><td>1</td><td>Map(vectorType -> dense, length -> 2, values -> List(-5.9257508235346075, -1.2272168607935359))</td><td>-5.9257508235346075</td><td>-1.2272168607935359</td></tr><tr><td>1</td><td>0</td><td>Map(vectorType -> dense, length -> 2, values -> List(-0.6449111936209141, -3.4229995421977764))</td><td>-0.6449111936209141</td><td>-3.4229995421977764</td></tr><tr><td>1</td><td>0</td><td>Map(vectorType -> dense, length -> 2, values -> List(2.6814869751157433, -1.4422864689137533))</td><td>2.6814869751157433</td><td>-1.4422864689137533</td></tr><tr><td>1</td><td>0</td><td>Map(vectorType -> dense, length -> 2, values -> List(2.0398691822622053, 0.9024618581445207))</td><td>2.0398691822622053</td><td>0.9024618581445207</td></tr><tr><td>1</td><td>0</td><td>Map(vectorType -> dense, length -> 2, values -> List(1.398066199236754, 1.770668243981824))</td><td>1.398066199236754</td><td>1.770668243981824</td></tr><tr><td>1</td><td>0</td><td>Map(vectorType -> dense, length -> 2, values -> List(3.5333063582933635, 1.24575801773039))</td><td>3.5333063582933635</td><td>1.24575801773039</td></tr><tr><td>1</td><td>0</td><td>Map(vectorType -> dense, length -> 2, values -> List(1.9887795302556113, -1.89779269317917))</td><td>1.9887795302556113</td><td>-1.89779269317917</td></tr><tr><td>1</td><td>0</td><td>Map(vectorType -> dense, length -> 2, values -> List(1.996428720313028, 0.20618971131568076))</td><td>1.996428720313028</td><td>0.20618971131568076</td></tr><tr><td>1</td><td>0</td><td>Map(vectorType -> dense, length -> 2, values -> List(0.5202003908111569, 0.9725121025461498))</td><td>0.5202003908111569</td><td>0.9725121025461498</td></tr><tr><td>1</td><td>0</td><td>Map(vectorType -> dense, length -> 2, values -> List(3.1695815905766174, 2.0872157681880967))</td><td>3.1695815905766174</td><td>2.0872157681880967</td></tr><tr><td>1</td><td>0</td><td>Map(vectorType -> dense, length -> 2, values -> List(2.200773740164568, -1.2849087344346048))</td><td>2.200773740164568</td><td>-1.2849087344346048</td></tr><tr><td>0</td><td>1</td><td>Map(vectorType -> dense, length -> 2, values -> List(-3.821070903352409, -2.3032097346083917))</td><td>-3.821070903352409</td><td>-2.3032097346083917</td></tr><tr><td>1</td><td>0</td><td>Map(vectorType -> dense, length -> 2, values -> List(2.982860087893478, 0.6727472975250199))</td><td>2.982860087893478</td><td>0.6727472975250199</td></tr><tr><td>1</td><td>0</td><td>Map(vectorType -> dense, length -> 2, values -> List(2.4788739595090217, 2.361880554620532))</td><td>2.4788739595090217</td><td>2.361880554620532</td></tr><tr><td>1</td><td>0</td><td>Map(vectorType -> dense, length -> 2, values -> List(1.2709931213159007, -0.5093856426258698))</td><td>1.2709931213159007</td><td>-0.5093856426258698</td></tr><tr><td>1</td><td>0</td><td>Map(vectorType -> dense, length -> 2, values -> List(2.2331919146098254, 1.297562775248254))</td><td>2.2331919146098254</td><td>1.297562775248254</td></tr><tr><td>1</td><td>0</td><td>Map(vectorType -> dense, length -> 2, values -> List(0.056133712562133314, 0.22718349542905497))</td><td>0.056133712562133314</td><td>0.22718349542905497</td></tr><tr><td>1</td><td>1</td><td>Map(vectorType -> dense, length -> 2, values -> List(-2.3153533394197727, -4.385275754541184))</td><td>-2.3153533394197727</td><td>-4.385275754541184</td></tr><tr><td>1</td><td>0</td><td>Map(vectorType -> dense, length -> 2, values -> List(2.2823230571574515, 2.464672104779668))</td><td>2.2823230571574515</td><td>2.464672104779668</td></tr><tr><td>0</td><td>1</td><td>Map(vectorType -> dense, length -> 2, values -> List(-4.750434988655813, 1.4881141767755597))</td><td>-4.750434988655813</td><td>1.4881141767755597</td></tr><tr><td>1</td><td>0</td><td>Map(vectorType -> dense, length -> 2, values -> List(1.7247932814230538, -0.9973003162547251))</td><td>1.7247932814230538</td><td>-0.9973003162547251</td></tr><tr><td>0</td><td>0</td><td>Map(vectorType -> dense, length -> 2, values -> List(0.7411296510979193, 2.449879330556573))</td><td>0.7411296510979193</td><td>2.449879330556573</td></tr><tr><td>1</td><td>0</td><td>Map(vectorType -> dense, length -> 2, values -> List(2.891766211587366, 0.977084587771863))</td><td>2.891766211587366</td><td>0.977084587771863</td></tr><tr><td>1</td><td>0</td><td>Map(vectorType -> dense, length -> 2, values -> List(1.6530673209399034, 4.551659142222769))</td><td>1.6530673209399034</td><td>4.551659142222769</td></tr><tr><td>0</td><td>1</td><td>Map(vectorType -> dense, length -> 2, values -> List(-3.1007913344299807, 1.235066483028626))</td><td>-3.1007913344299807</td><td>1.235066483028626</td></tr><tr><td>1</td><td>0</td><td>Map(vectorType -> dense, length -> 2, values -> List(4.060697611933903, 0.5604610750609345))</td><td>4.060697611933903</td><td>0.5604610750609345</td></tr><tr><td>1</td><td>0</td><td>Map(vectorType -> dense, length -> 2, values -> List(2.790874981685018, 1.076940538969515))</td><td>2.790874981685018</td><td>1.076940538969515</td></tr><tr><td>1</td><td>0</td><td>Map(vectorType -> dense, length -> 2, values -> List(1.4736233044459313, 1.5896954369820397))</td><td>1.4736233044459313</td><td>1.5896954369820397</td></tr><tr><td>1</td><td>0</td><td>Map(vectorType -> dense, length -> 2, values -> List(0.2291929713893269, -1.5145707554059142))</td><td>0.2291929713893269</td><td>-1.5145707554059142</td></tr><tr><td>1</td><td>0</td><td>Map(vectorType -> dense, length -> 2, values -> List(2.551013784403687, 0.7632289241818467))</td><td>2.551013784403687</td><td>0.7632289241818467</td></tr><tr><td>0</td><td>1</td><td>Map(vectorType -> dense, length -> 2, values -> List(-3.712438548894881, 1.0577555061741135))</td><td>-3.712438548894881</td><td>1.0577555061741135</td></tr><tr><td>0</td><td>1</td><td>Map(vectorType -> dense, length -> 2, values -> List(-5.0903628610901865, 2.017432705941421))</td><td>-5.0903628610901865</td><td>2.017432705941421</td></tr><tr><td>1</td><td>0</td><td>Map(vectorType -> dense, length -> 2, values -> List(0.6000880992881495, 0.8377175598703596))</td><td>0.6000880992881495</td><td>0.8377175598703596</td></tr><tr><td>0</td><td>1</td><td>Map(vectorType -> dense, length -> 2, values -> List(-2.7879467302084433, -3.382584454086203))</td><td>-2.7879467302084433</td><td>-3.382584454086203</td></tr><tr><td>1</td><td>0</td><td>Map(vectorType -> dense, length -> 2, values -> List(1.4075327339711794, -1.5044468375239244))</td><td>1.4075327339711794</td><td>-1.5044468375239244</td></tr><tr><td>0</td><td>1</td><td>Map(vectorType -> dense, length -> 2, values -> List(-7.252797143875283, 5.49090430233696))</td><td>-7.252797143875283</td><td>5.49090430233696</td></tr><tr><td>1</td><td>1</td><td>Map(vectorType -> dense, length -> 2, values -> List(-1.2977246878630824, -7.7230573252406876))</td><td>-1.2977246878630824</td><td>-7.7230573252406876</td></tr><tr><td>1</td><td>0</td><td>Map(vectorType -> dense, length -> 2, values -> List(-1.0757467319114502, -8.28748333708094))</td><td>-1.0757467319114502</td><td>-8.28748333708094</td></tr><tr><td>1</td><td>0</td><td>Map(vectorType -> dense, length -> 2, values -> List(1.2486618339884528, -1.5942810552468651))</td><td>1.2486618339884528</td><td>-1.5942810552468651</td></tr><tr><td>1</td><td>0</td><td>Map(vectorType -> dense, length -> 2, values -> List(1.2558234134005026, -4.113567176044441))</td><td>1.2558234134005026</td><td>-4.113567176044441</td></tr><tr><td>1</td><td>0</td><td>Map(vectorType -> dense, length -> 2, values -> List(1.1655096888161074, 1.664229389288278))</td><td>1.1655096888161074</td><td>1.664229389288278</td></tr><tr><td>0</td><td>1</td><td>Map(vectorType -> dense, length -> 2, values -> List(-4.090543310340465, -2.8004631372638533))</td><td>-4.090543310340465</td><td>-2.8004631372638533</td></tr><tr><td>1</td><td>0</td><td>Map(vectorType -> dense, length -> 2, values -> List(1.8859797779694114, -1.670721679773254))</td><td>1.8859797779694114</td><td>-1.670721679773254</td></tr><tr><td>1</td><td>0</td><td>Map(vectorType -> dense, length -> 2, values -> List(2.7650027918677633, 2.1591489715386922))</td><td>2.7650027918677633</td><td>2.1591489715386922</td></tr><tr><td>0</td><td>1</td><td>Map(vectorType -> dense, length -> 2, values -> List(-2.2250366914743682, -1.939927827030339))</td><td>-2.2250366914743682</td><td>-1.939927827030339</td></tr><tr><td>1</td><td>0</td><td>Map(vectorType -> dense, length -> 2, values -> List(1.130582097681733, 1.4097615238920558))</td><td>1.130582097681733</td><td>1.4097615238920558</td></tr><tr><td>0</td><td>0</td><td>Map(vectorType -> dense, length -> 2, values -> List(0.7331273774331185, 1.9419884383163164))</td><td>0.7331273774331185</td><td>1.9419884383163164</td></tr><tr><td>1</td><td>0</td><td>Map(vectorType -> dense, length -> 2, values -> List(2.331619157745097, -0.7894519727749363))</td><td>2.331619157745097</td><td>-0.7894519727749363</td></tr><tr><td>0</td><td>1</td><td>Map(vectorType -> dense, length -> 2, values -> List(-2.6948525682230757, 1.9420011894412628))</td><td>-2.6948525682230757</td><td>1.9420011894412628</td></tr><tr><td>0</td><td>1</td><td>Map(vectorType -> dense, length -> 2, values -> List(-3.3760441048029453, 2.331377578459931))</td><td>-3.3760441048029453</td><td>2.331377578459931</td></tr><tr><td>1</td><td>0</td><td>Map(vectorType -> dense, length -> 2, values -> List(0.19969486970744776, -1.0754137523919416))</td><td>0.19969486970744776</td><td>-1.0754137523919416</td></tr><tr><td>1</td><td>0</td><td>Map(vectorType -> dense, length -> 2, values -> List(1.1749920441007746, -1.0104810609185944))</td><td>1.1749920441007746</td><td>-1.0104810609185944</td></tr><tr><td>1</td><td>0</td><td>Map(vectorType -> dense, length -> 2, values -> List(1.2915001552911294, -4.95986054770475))</td><td>1.2915001552911294</td><td>-4.95986054770475</td></tr><tr><td>0</td><td>1</td><td>Map(vectorType -> dense, length -> 2, values -> List(-8.62316837995109, 3.4564106380793023))</td><td>-8.62316837995109</td><td>3.4564106380793023</td></tr><tr><td>1</td><td>0</td><td>Map(vectorType -> dense, length -> 2, values -> List(4.425562342734112, 0.7853450148775316))</td><td>4.425562342734112</td><td>0.7853450148775316</td></tr><tr><td>1</td><td>0</td><td>Map(vectorType -> dense, length -> 2, values -> List(0.6192938271623817, -0.6357898420661944))</td><td>0.6192938271623817</td><td>-0.6357898420661944</td></tr><tr><td>1</td><td>0</td><td>Map(vectorType -> dense, length -> 2, values -> List(3.249456589361688, -1.2847946773825833))</td><td>3.249456589361688</td><td>-1.2847946773825833</td></tr><tr><td>1</td><td>0</td><td>Map(vectorType -> dense, length -> 2, values -> List(3.3499794247879007, -2.6709504428938526))</td><td>3.3499794247879007</td><td>-2.6709504428938526</td></tr><tr><td>1</td><td>0</td><td>Map(vectorType -> dense, length -> 2, values -> List(0.8590471150995695, -0.09676338102649315))</td><td>0.8590471150995695</td><td>-0.09676338102649315</td></tr><tr><td>1</td><td>0</td><td>Map(vectorType -> dense, length -> 2, values -> List(3.153846915866264, 0.8707764321748559))</td><td>3.153846915866264</td><td>0.8707764321748559</td></tr><tr><td>1</td><td>0</td><td>Map(vectorType -> dense, length -> 2, values -> List(-0.34622347304999, -1.5398703522206656))</td><td>-0.34622347304999</td><td>-1.5398703522206656</td></tr><tr><td>1</td><td>0</td><td>Map(vectorType -> dense, length -> 2, values -> List(2.4592427765273936, -0.6003197511282811))</td><td>2.4592427765273936</td><td>-0.6003197511282811</td></tr><tr><td>1</td><td>0</td><td>Map(vectorType -> dense, length -> 2, values -> List(1.5287555778359285, -0.4048615538044331))</td><td>1.5287555778359285</td><td>-0.4048615538044331</td></tr><tr><td>1</td><td>0</td><td>Map(vectorType -> dense, length -> 2, values -> List(1.7720258700967124, -0.803503014434994))</td><td>1.7720258700967124</td><td>-0.803503014434994</td></tr><tr><td>1</td><td>0</td><td>Map(vectorType -> dense, length -> 2, values -> List(2.678085191313472, 1.4834036616823287))</td><td>2.678085191313472</td><td>1.4834036616823287</td></tr><tr><td>0</td><td>1</td><td>Map(vectorType -> dense, length -> 2, values -> List(-4.0248937788414745, 2.9388442248977937))</td><td>-4.0248937788414745</td><td>2.9388442248977937</td></tr><tr><td>1</td><td>0</td><td>Map(vectorType -> dense, length -> 2, values -> List(2.1344731172656486, -1.517245622815041))</td><td>2.1344731172656486</td><td>-1.517245622815041</td></tr><tr><td>0</td><td>1</td><td>Map(vectorType -> dense, length -> 2, values -> List(-5.160869926813539, 2.3801089865141543))</td><td>-5.160869926813539</td><td>2.3801089865141543</td></tr><tr><td>0</td><td>0</td><td>Map(vectorType -> dense, length -> 2, values -> List(-0.5354608003698782, -0.3803804509380937))</td><td>-0.5354608003698782</td><td>-0.3803804509380937</td></tr><tr><td>1</td><td>0</td><td>Map(vectorType -> dense, length -> 2, values -> List(-0.3428217359545053, -3.5313738153028877))</td><td>-0.3428217359545053</td><td>-3.5313738153028877</td></tr><tr><td>1</td><td>0</td><td>Map(vectorType -> dense, length -> 2, values -> List(4.193390244985366, -2.3653110586351427))</td><td>4.193390244985366</td><td>-2.3653110586351427</td></tr><tr><td>1</td><td>0</td><td>Map(vectorType -> dense, length -> 2, values -> List(1.1418271770489359, -5.594535868456152))</td><td>1.1418271770489359</td><td>-5.594535868456152</td></tr><tr><td>1</td><td>0</td><td>Map(vectorType -> dense, length -> 2, values -> List(1.664010998953224, -2.3875173612100076))</td><td>1.664010998953224</td><td>-2.3875173612100076</td></tr><tr><td>1</td><td>0</td><td>Map(vectorType -> dense, length -> 2, values -> List(-1.0108230779795002, -1.091429306814634))</td><td>-1.0108230779795002</td><td>-1.091429306814634</td></tr><tr><td>1</td><td>0</td><td>Map(vectorType -> dense, length -> 2, values -> List(1.2997860372752292, 1.8198140572884016))</td><td>1.2997860372752292</td><td>1.8198140572884016</td></tr><tr><td>1</td><td>0</td><td>Map(vectorType -> dense, length -> 2, values -> List(2.3713421938590287, 1.6800979291229732))</td><td>2.3713421938590287</td><td>1.6800979291229732</td></tr><tr><td>1</td><td>0</td><td>Map(vectorType -> dense, length -> 2, values -> List(1.6644065095239404, 0.21377464094397797))</td><td>1.6644065095239404</td><td>0.21377464094397797</td></tr><tr><td>1</td><td>0</td><td>Map(vectorType -> dense, length -> 2, values -> List(1.9259835298962638, 1.1367397049354833))</td><td>1.9259835298962638</td><td>1.1367397049354833</td></tr><tr><td>1</td><td>0</td><td>Map(vectorType -> dense, length -> 2, values -> List(4.233491591622636, -0.18411049913664243))</td><td>4.233491591622636</td><td>-0.18411049913664243</td></tr><tr><td>1</td><td>0</td><td>Map(vectorType -> dense, length -> 2, values -> List(2.67551654832496, -2.313756960760067))</td><td>2.67551654832496</td><td>-2.313756960760067</td></tr><tr><td>1</td><td>0</td><td>Map(vectorType -> dense, length -> 2, values -> List(3.8331251057796765, -0.4958136647931506))</td><td>3.8331251057796765</td><td>-0.4958136647931506</td></tr><tr><td>1</td><td>0</td><td>Map(vectorType -> dense, length -> 2, values -> List(2.549197271080616, -0.22812922776495775))</td><td>2.549197271080616</td><td>-0.22812922776495775</td></tr><tr><td>1</td><td>0</td><td>Map(vectorType -> dense, length -> 2, values -> List(4.690796039132359, 0.7668032380496332))</td><td>4.690796039132359</td><td>0.7668032380496332</td></tr><tr><td>1</td><td>0</td><td>Map(vectorType -> dense, length -> 2, values -> List(2.023256911330983, -1.2601331159344544))</td><td>2.023256911330983</td><td>-1.2601331159344544</td></tr><tr><td>1</td><td>0</td><td>Map(vectorType -> dense, length -> 2, values -> List(2.893402316494323, 1.4503596008448243))</td><td>2.893402316494323</td><td>1.4503596008448243</td></tr><tr><td>1</td><td>0</td><td>Map(vectorType -> dense, length -> 2, values -> List(3.499122181891035, -1.7992493424731142))</td><td>3.499122181891035</td><td>-1.7992493424731142</td></tr><tr><td>1</td><td>0</td><td>Map(vectorType -> dense, length -> 2, values -> List(2.1520101253443116, 0.8293390875025686))</td><td>2.1520101253443116</td><td>0.8293390875025686</td></tr><tr><td>1</td><td>0</td><td>Map(vectorType -> dense, length -> 2, values -> List(2.053277400329513, -1.6150382046289566))</td><td>2.053277400329513</td><td>-1.6150382046289566</td></tr><tr><td>1</td><td>0</td><td>Map(vectorType -> dense, length -> 2, values -> List(3.87388097251528, -1.0833015533293562))</td><td>3.87388097251528</td><td>-1.0833015533293562</td></tr><tr><td>1</td><td>0</td><td>Map(vectorType -> dense, length -> 2, values -> List(4.060289488002569, -0.1220610343738378))</td><td>4.060289488002569</td><td>-0.1220610343738378</td></tr><tr><td>1</td><td>0</td><td>Map(vectorType -> dense, length -> 2, values -> List(0.09858059215940665, 0.21337209338157492))</td><td>0.09858059215940665</td><td>0.21337209338157492</td></tr><tr><td>1</td><td>0</td><td>Map(vectorType -> dense, length -> 2, values -> List(1.0884184965311121, -1.2917113284606192))</td><td>1.0884184965311121</td><td>-1.2917113284606192</td></tr><tr><td>1</td><td>0</td><td>Map(vectorType -> dense, length -> 2, values -> List(0.48134742985143564, 0.17786319025918332))</td><td>0.48134742985143564</td><td>0.17786319025918332</td></tr><tr><td>1</td><td>0</td><td>Map(vectorType -> dense, length -> 2, values -> List(4.866027926474258, 2.1292326072497127))</td><td>4.866027926474258</td><td>2.1292326072497127</td></tr><tr><td>0</td><td>1</td><td>Map(vectorType -> dense, length -> 2, values -> List(-5.912410291355404, -3.4795749998679417))</td><td>-5.912410291355404</td><td>-3.4795749998679417</td></tr><tr><td>0</td><td>1</td><td>Map(vectorType -> dense, length -> 2, values -> List(-8.73365338296719, 0.5733501846849253))</td><td>-8.73365338296719</td><td>0.5733501846849253</td></tr><tr><td>0</td><td>1</td><td>Map(vectorType -> dense, length -> 2, values -> List(-6.4336545461706285, 3.573672988510644))</td><td>-6.4336545461706285</td><td>3.573672988510644</td></tr><tr><td>0</td><td>1</td><td>Map(vectorType -> dense, length -> 2, values -> List(-3.790047527744144, 3.580897052024049))</td><td>-3.790047527744144</td><td>3.580897052024049</td></tr><tr><td>0</td><td>1</td><td>Map(vectorType -> dense, length -> 2, values -> List(-1.2550749425072116, 1.900624363993427))</td><td>-1.2550749425072116</td><td>1.900624363993427</td></tr><tr><td>0</td><td>1</td><td>Map(vectorType -> dense, length -> 2, values -> List(-10.365673359932295, -1.6705402060588808))</td><td>-10.365673359932295</td><td>-1.6705402060588808</td></tr><tr><td>1</td><td>0</td><td>Map(vectorType -> dense, length -> 2, values -> List(5.470429900908385, 0.6700472198383458))</td><td>5.470429900908385</td><td>0.6700472198383458</td></tr></tbody></table></div>"
      ]
     },
     "metadata": {
      "application/vnd.databricks.v1+output": {
       "addedWidgets": {},
       "aggData": [],
       "aggError": "",
       "aggOverflow": false,
       "aggSchema": [],
       "aggSeriesLimitReached": false,
       "aggType": "",
       "arguments": {},
       "columnCustomDisplayInfos": {},
       "data": [
        [
         "0",
         1,
         {
          "length": 2,
          "values": [
           -9.184755209858798,
           -1.9468700303852997
          ],
          "vectorType": "dense"
         },
         -9.184755209858798,
         -1.9468700303852997
        ],
        [
         "0",
         1,
         {
          "length": 2,
          "values": [
           -2.385702628982577,
           3.764859062972658
          ],
          "vectorType": "dense"
         },
         -2.385702628982577,
         3.764859062972658
        ],
        [
         "0",
         1,
         {
          "length": 2,
          "values": [
           -5.728855490819108,
           1.0742285887048915
          ],
          "vectorType": "dense"
         },
         -5.728855490819108,
         1.0742285887048915
        ],
        [
         "0",
         1,
         {
          "length": 2,
          "values": [
           -7.116691259621306,
           -10.266555635124405
          ],
          "vectorType": "dense"
         },
         -7.116691259621306,
         -10.266555635124405
        ],
        [
         "0",
         1,
         {
          "length": 2,
          "values": [
           -3.931842466790753,
           1.9463589770798275
          ],
          "vectorType": "dense"
         },
         -3.931842466790753,
         1.9463589770798275
        ],
        [
         "0",
         1,
         {
          "length": 2,
          "values": [
           -2.3781546249740986,
           -3.9464564299158127
          ],
          "vectorType": "dense"
         },
         -2.3781546249740986,
         -3.9464564299158127
        ],
        [
         "0",
         1,
         {
          "length": 2,
          "values": [
           -2.236915058609935,
           2.6876664141795787
          ],
          "vectorType": "dense"
         },
         -2.236915058609935,
         2.6876664141795787
        ],
        [
         "0",
         1,
         {
          "length": 2,
          "values": [
           -2.1414142815514485,
           -2.3381866491831156
          ],
          "vectorType": "dense"
         },
         -2.1414142815514485,
         -2.3381866491831156
        ],
        [
         "0",
         1,
         {
          "length": 2,
          "values": [
           -3.172133150308517,
           -3.3888311376864144
          ],
          "vectorType": "dense"
         },
         -3.172133150308517,
         -3.3888311376864144
        ],
        [
         "0",
         1,
         {
          "length": 2,
          "values": [
           -6.346162835225129,
           -7.720380945492959
          ],
          "vectorType": "dense"
         },
         -6.346162835225129,
         -7.720380945492959
        ],
        [
         "0",
         0,
         {
          "length": 2,
          "values": [
           0.8097013190408896,
           2.656937672621719
          ],
          "vectorType": "dense"
         },
         0.8097013190408896,
         2.656937672621719
        ],
        [
         "0",
         1,
         {
          "length": 2,
          "values": [
           -2.6487698390097,
           -0.06650940530101429
          ],
          "vectorType": "dense"
         },
         -2.6487698390097,
         -0.06650940530101429
        ],
        [
         "0",
         1,
         {
          "length": 2,
          "values": [
           -8.177838822068551,
           -2.6986020073253876
          ],
          "vectorType": "dense"
         },
         -8.177838822068551,
         -2.6986020073253876
        ],
        [
         "0",
         0,
         {
          "length": 2,
          "values": [
           -0.34182514389774243,
           0.9674280261783395
          ],
          "vectorType": "dense"
         },
         -0.34182514389774243,
         0.9674280261783395
        ],
        [
         "0",
         1,
         {
          "length": 2,
          "values": [
           -4.338561717694848,
           -4.856809831831542
          ],
          "vectorType": "dense"
         },
         -4.338561717694848,
         -4.856809831831542
        ],
        [
         "0",
         1,
         {
          "length": 2,
          "values": [
           -4.07207318021357,
           -2.9744439832196963
          ],
          "vectorType": "dense"
         },
         -4.07207318021357,
         -2.9744439832196963
        ],
        [
         "0",
         0,
         {
          "length": 2,
          "values": [
           -0.22985276950326078,
           1.563382113820491
          ],
          "vectorType": "dense"
         },
         -0.22985276950326078,
         1.563382113820491
        ],
        [
         "0",
         1,
         {
          "length": 2,
          "values": [
           -4.414126949591796,
           -1.4174231504677404
          ],
          "vectorType": "dense"
         },
         -4.414126949591796,
         -1.4174231504677404
        ],
        [
         "0",
         1,
         {
          "length": 2,
          "values": [
           -4.944353041108302,
           4.110716527760167
          ],
          "vectorType": "dense"
         },
         -4.944353041108302,
         4.110716527760167
        ],
        [
         "1",
         0,
         {
          "length": 2,
          "values": [
           1.235975828519116,
           0.18804949002889026
          ],
          "vectorType": "dense"
         },
         1.235975828519116,
         0.18804949002889026
        ],
        [
         "1",
         0,
         {
          "length": 2,
          "values": [
           1.5767738400518536,
           -0.5723046247698896
          ],
          "vectorType": "dense"
         },
         1.5767738400518536,
         -0.5723046247698896
        ],
        [
         "1",
         0,
         {
          "length": 2,
          "values": [
           3.5542090442654697,
           -1.6614879693604343
          ],
          "vectorType": "dense"
         },
         3.5542090442654697,
         -1.6614879693604343
        ],
        [
         "0",
         1,
         {
          "length": 2,
          "values": [
           -4.729049722976225,
           -3.3020582651138817
          ],
          "vectorType": "dense"
         },
         -4.729049722976225,
         -3.3020582651138817
        ],
        [
         "0",
         1,
         {
          "length": 2,
          "values": [
           -4.204824406832293,
           5.123858058987457
          ],
          "vectorType": "dense"
         },
         -4.204824406832293,
         5.123858058987457
        ],
        [
         "0",
         1,
         {
          "length": 2,
          "values": [
           -4.945280748242438,
           1.5423951430023812
          ],
          "vectorType": "dense"
         },
         -4.945280748242438,
         1.5423951430023812
        ],
        [
         "0",
         1,
         {
          "length": 2,
          "values": [
           -7.092322358888266,
           -2.0168357342714707
          ],
          "vectorType": "dense"
         },
         -7.092322358888266,
         -2.0168357342714707
        ],
        [
         "0",
         1,
         {
          "length": 2,
          "values": [
           -3.5071766582289667,
           -2.1697159942950077
          ],
          "vectorType": "dense"
         },
         -3.5071766582289667,
         -2.1697159942950077
        ],
        [
         "0",
         1,
         {
          "length": 2,
          "values": [
           -3.061360211796454,
           1.874902631018983
          ],
          "vectorType": "dense"
         },
         -3.061360211796454,
         1.874902631018983
        ],
        [
         "0",
         1,
         {
          "length": 2,
          "values": [
           -4.003741273398027,
           -0.5367698596377992
          ],
          "vectorType": "dense"
         },
         -4.003741273398027,
         -0.5367698596377992
        ],
        [
         "0",
         1,
         {
          "length": 2,
          "values": [
           -1.7138017616568975,
           1.5223655018101776
          ],
          "vectorType": "dense"
         },
         -1.7138017616568975,
         1.5223655018101776
        ],
        [
         "0",
         1,
         {
          "length": 2,
          "values": [
           -6.0541185274085345,
           0.7565118002441548
          ],
          "vectorType": "dense"
         },
         -6.0541185274085345,
         0.7565118002441548
        ],
        [
         "0",
         1,
         {
          "length": 2,
          "values": [
           -2.899684688150535,
           -4.001774372782243
          ],
          "vectorType": "dense"
         },
         -2.899684688150535,
         -4.001774372782243
        ],
        [
         "0",
         1,
         {
          "length": 2,
          "values": [
           -4.550778483480172,
           -0.33723941876735425
          ],
          "vectorType": "dense"
         },
         -4.550778483480172,
         -0.33723941876735425
        ],
        [
         "0",
         1,
         {
          "length": 2,
          "values": [
           -4.98621537857523,
           1.1315932229451566
          ],
          "vectorType": "dense"
         },
         -4.98621537857523,
         1.1315932229451566
        ],
        [
         "0",
         1,
         {
          "length": 2,
          "values": [
           -2.9827163130446697,
           -0.7577564966701601
          ],
          "vectorType": "dense"
         },
         -2.9827163130446697,
         -0.7577564966701601
        ],
        [
         "0",
         1,
         {
          "length": 2,
          "values": [
           -2.7639371844217004,
           0.3540444207048967
          ],
          "vectorType": "dense"
         },
         -2.7639371844217004,
         0.3540444207048967
        ],
        [
         "0",
         1,
         {
          "length": 2,
          "values": [
           -1.295059249402728,
           -0.9123934661705099
          ],
          "vectorType": "dense"
         },
         -1.295059249402728,
         -0.9123934661705099
        ],
        [
         "1",
         0,
         {
          "length": 2,
          "values": [
           3.746017295612612,
           1.4122305036725344
          ],
          "vectorType": "dense"
         },
         3.746017295612612,
         1.4122305036725344
        ],
        [
         "0",
         0,
         {
          "length": 2,
          "values": [
           0.9971914775009062,
           3.3483467310234842
          ],
          "vectorType": "dense"
         },
         0.9971914775009062,
         3.3483467310234842
        ],
        [
         "0",
         0,
         {
          "length": 2,
          "values": [
           -0.764591355604326,
           -0.8854648371667375
          ],
          "vectorType": "dense"
         },
         -0.764591355604326,
         -0.8854648371667375
        ],
        [
         "0",
         0,
         {
          "length": 2,
          "values": [
           2.149062522258757,
           1.922300194308556
          ],
          "vectorType": "dense"
         },
         2.149062522258757,
         1.922300194308556
        ],
        [
         "0",
         0,
         {
          "length": 2,
          "values": [
           0.09324933698075474,
           -2.2587645315178184
          ],
          "vectorType": "dense"
         },
         0.09324933698075474,
         -2.2587645315178184
        ],
        [
         "0",
         1,
         {
          "length": 2,
          "values": [
           -9.080010225451238,
           -2.016898441324291
          ],
          "vectorType": "dense"
         },
         -9.080010225451238,
         -2.016898441324291
        ],
        [
         "0",
         0,
         {
          "length": 2,
          "values": [
           -0.9895830367496765,
           -0.9840641476689251
          ],
          "vectorType": "dense"
         },
         -0.9895830367496765,
         -0.9840641476689251
        ],
        [
         "0",
         0,
         {
          "length": 2,
          "values": [
           0.2932884879762997,
           0.13697856412444143
          ],
          "vectorType": "dense"
         },
         0.2932884879762997,
         0.13697856412444143
        ],
        [
         "0",
         1,
         {
          "length": 2,
          "values": [
           -5.376209908961654,
           0.13475840449503856
          ],
          "vectorType": "dense"
         },
         -5.376209908961654,
         0.13475840449503856
        ],
        [
         "1",
         0,
         {
          "length": 2,
          "values": [
           4.577908595212511,
           -1.4829155084495484
          ],
          "vectorType": "dense"
         },
         4.577908595212511,
         -1.4829155084495484
        ],
        [
         "0",
         1,
         {
          "length": 2,
          "values": [
           -1.6985123749994018,
           -2.350203862012345
          ],
          "vectorType": "dense"
         },
         -1.6985123749994018,
         -2.350203862012345
        ],
        [
         "1",
         0,
         {
          "length": 2,
          "values": [
           2.1345670832706904,
           -0.09574536366108702
          ],
          "vectorType": "dense"
         },
         2.1345670832706904,
         -0.09574536366108702
        ],
        [
         "1",
         0,
         {
          "length": 2,
          "values": [
           1.566100993427759,
           1.2073708547187902
          ],
          "vectorType": "dense"
         },
         1.566100993427759,
         1.2073708547187902
        ],
        [
         "1",
         0,
         {
          "length": 2,
          "values": [
           3.539790914613369,
           1.281368109614397
          ],
          "vectorType": "dense"
         },
         3.539790914613369,
         1.281368109614397
        ],
        [
         "1",
         0,
         {
          "length": 2,
          "values": [
           3.155037949380859,
           1.6874737964866235
          ],
          "vectorType": "dense"
         },
         3.155037949380859,
         1.6874737964866235
        ],
        [
         "1",
         0,
         {
          "length": 2,
          "values": [
           3.4474551464077874,
           0.49778071959150105
          ],
          "vectorType": "dense"
         },
         3.4474551464077874,
         0.49778071959150105
        ],
        [
         "0",
         1,
         {
          "length": 2,
          "values": [
           -3.2996476093220637,
           1.1299435737147892
          ],
          "vectorType": "dense"
         },
         -3.2996476093220637,
         1.1299435737147892
        ],
        [
         "0",
         0,
         {
          "length": 2,
          "values": [
           0.6740262135577757,
           2.114549136533497
          ],
          "vectorType": "dense"
         },
         0.6740262135577757,
         2.114549136533497
        ],
        [
         "1",
         0,
         {
          "length": 2,
          "values": [
           2.8556457728003637,
           -0.15258887411272043
          ],
          "vectorType": "dense"
         },
         2.8556457728003637,
         -0.15258887411272043
        ],
        [
         "0",
         1,
         {
          "length": 2,
          "values": [
           -4.644652068242386,
           2.3083015082587246
          ],
          "vectorType": "dense"
         },
         -4.644652068242386,
         2.3083015082587246
        ],
        [
         "0",
         1,
         {
          "length": 2,
          "values": [
           -2.174949156248412,
           -0.9712614383238205
          ],
          "vectorType": "dense"
         },
         -2.174949156248412,
         -0.9712614383238205
        ],
        [
         "1",
         0,
         {
          "length": 2,
          "values": [
           3.718187379898406,
           1.7860700970608108
          ],
          "vectorType": "dense"
         },
         3.718187379898406,
         1.7860700970608108
        ],
        [
         "1",
         0,
         {
          "length": 2,
          "values": [
           4.132326931707893,
           -2.4016792608874233
          ],
          "vectorType": "dense"
         },
         4.132326931707893,
         -2.4016792608874233
        ],
        [
         "1",
         0,
         {
          "length": 2,
          "values": [
           2.383738224783428,
           -2.7552338144184616
          ],
          "vectorType": "dense"
         },
         2.383738224783428,
         -2.7552338144184616
        ],
        [
         "1",
         0,
         {
          "length": 2,
          "values": [
           2.5766161014186637,
           -3.1359126501904933
          ],
          "vectorType": "dense"
         },
         2.5766161014186637,
         -3.1359126501904933
        ],
        [
         "0",
         1,
         {
          "length": 2,
          "values": [
           -4.7549283181968045,
           -3.0090328746490678
          ],
          "vectorType": "dense"
         },
         -4.7549283181968045,
         -3.0090328746490678
        ],
        [
         "1",
         0,
         {
          "length": 2,
          "values": [
           2.3120978470008,
           -3.2651167207221268
          ],
          "vectorType": "dense"
         },
         2.3120978470008,
         -3.2651167207221268
        ],
        [
         "0",
         1,
         {
          "length": 2,
          "values": [
           -1.690120795036984,
           -1.5393221159132306
          ],
          "vectorType": "dense"
         },
         -1.690120795036984,
         -1.5393221159132306
        ],
        [
         "0",
         1,
         {
          "length": 2,
          "values": [
           -1.8107121691780637,
           -0.7221048150632118
          ],
          "vectorType": "dense"
         },
         -1.8107121691780637,
         -0.7221048150632118
        ],
        [
         "1",
         0,
         {
          "length": 2,
          "values": [
           2.7834755915717917,
           -2.308617372387838
          ],
          "vectorType": "dense"
         },
         2.7834755915717917,
         -2.308617372387838
        ],
        [
         "1",
         0,
         {
          "length": 2,
          "values": [
           3.5155550218280442,
           0.657730735549507
          ],
          "vectorType": "dense"
         },
         3.5155550218280442,
         0.657730735549507
        ],
        [
         "1",
         1,
         {
          "length": 2,
          "values": [
           -4.326196052613209,
           -9.194435551699886
          ],
          "vectorType": "dense"
         },
         -4.326196052613209,
         -9.194435551699886
        ],
        [
         "1",
         0,
         {
          "length": 2,
          "values": [
           3.2584124133410364,
           0.9370136471243264
          ],
          "vectorType": "dense"
         },
         3.2584124133410364,
         0.9370136471243264
        ],
        [
         "0",
         1,
         {
          "length": 2,
          "values": [
           -2.702218505205821,
           4.433240984891397
          ],
          "vectorType": "dense"
         },
         -2.702218505205821,
         4.433240984891397
        ],
        [
         "1",
         0,
         {
          "length": 2,
          "values": [
           0.3075851279890566,
           -7.381317395929899
          ],
          "vectorType": "dense"
         },
         0.3075851279890566,
         -7.381317395929899
        ],
        [
         "0",
         1,
         {
          "length": 2,
          "values": [
           -5.498866892103152,
           -0.9375005134764515
          ],
          "vectorType": "dense"
         },
         -5.498866892103152,
         -0.9375005134764515
        ],
        [
         "0",
         0,
         {
          "length": 2,
          "values": [
           0.36139120652866014,
           -0.1196338211958474
          ],
          "vectorType": "dense"
         },
         0.36139120652866014,
         -0.1196338211958474
        ],
        [
         "1",
         0,
         {
          "length": 2,
          "values": [
           2.627664570741694,
           0.6966963492687757
          ],
          "vectorType": "dense"
         },
         2.627664570741694,
         0.6966963492687757
        ],
        [
         "0",
         1,
         {
          "length": 2,
          "values": [
           -1.4269120607028623,
           1.9653720916439372
          ],
          "vectorType": "dense"
         },
         -1.4269120607028623,
         1.9653720916439372
        ],
        [
         "1",
         0,
         {
          "length": 2,
          "values": [
           0.8337842392556142,
           -1.9638768597292673
          ],
          "vectorType": "dense"
         },
         0.8337842392556142,
         -1.9638768597292673
        ],
        [
         "0",
         1,
         {
          "length": 2,
          "values": [
           -6.225418799624563,
           -0.9192606901744491
          ],
          "vectorType": "dense"
         },
         -6.225418799624563,
         -0.9192606901744491
        ],
        [
         "0",
         1,
         {
          "length": 2,
          "values": [
           -11.658456435666892,
           -4.7444425930734235
          ],
          "vectorType": "dense"
         },
         -11.658456435666892,
         -4.7444425930734235
        ],
        [
         "1",
         0,
         {
          "length": 2,
          "values": [
           2.0198004469637176,
           0.25467574616148353
          ],
          "vectorType": "dense"
         },
         2.0198004469637176,
         0.25467574616148353
        ],
        [
         "1",
         0,
         {
          "length": 2,
          "values": [
           1.6369445986800977,
           -1.7144405868911354
          ],
          "vectorType": "dense"
         },
         1.6369445986800977,
         -1.7144405868911354
        ],
        [
         "1",
         1,
         {
          "length": 2,
          "values": [
           -1.1664352709963526,
           -2.5123052861935284
          ],
          "vectorType": "dense"
         },
         -1.1664352709963526,
         -2.5123052861935284
        ],
        [
         "0",
         1,
         {
          "length": 2,
          "values": [
           -10.759775351229562,
           2.25599785781172
          ],
          "vectorType": "dense"
         },
         -10.759775351229562,
         2.25599785781172
        ],
        [
         "0",
         1,
         {
          "length": 2,
          "values": [
           -5.030384877079519,
           -0.7737283569771864
          ],
          "vectorType": "dense"
         },
         -5.030384877079519,
         -0.7737283569771864
        ],
        [
         "1",
         0,
         {
          "length": 2,
          "values": [
           2.1725526922012715,
           -0.496441168924977
          ],
          "vectorType": "dense"
         },
         2.1725526922012715,
         -0.496441168924977
        ],
        [
         "0",
         1,
         {
          "length": 2,
          "values": [
           -3.285344627777663,
           1.6667704797343097
          ],
          "vectorType": "dense"
         },
         -3.285344627777663,
         1.6667704797343097
        ],
        [
         "0",
         0,
         {
          "length": 2,
          "values": [
           -0.607073784243589,
           -0.16207191874894683
          ],
          "vectorType": "dense"
         },
         -0.607073784243589,
         -0.16207191874894683
        ],
        [
         "0",
         1,
         {
          "length": 2,
          "values": [
           -3.5804132398493693,
           2.2047219162839213
          ],
          "vectorType": "dense"
         },
         -3.5804132398493693,
         2.2047219162839213
        ],
        [
         "1",
         0,
         {
          "length": 2,
          "values": [
           0.9333368663416973,
           -0.9268859190310914
          ],
          "vectorType": "dense"
         },
         0.9333368663416973,
         -0.9268859190310914
        ],
        [
         "1",
         1,
         {
          "length": 2,
          "values": [
           -1.2584973023904544,
           -1.014684255071954
          ],
          "vectorType": "dense"
         },
         -1.2584973023904544,
         -1.014684255071954
        ],
        [
         "1",
         0,
         {
          "length": 2,
          "values": [
           1.5868676958892003,
           1.6182329540103404
          ],
          "vectorType": "dense"
         },
         1.5868676958892003,
         1.6182329540103404
        ],
        [
         "0",
         0,
         {
          "length": 2,
          "values": [
           -0.2522755916003695,
           0.530884424915292
          ],
          "vectorType": "dense"
         },
         -0.2522755916003695,
         0.530884424915292
        ],
        [
         "1",
         0,
         {
          "length": 2,
          "values": [
           2.844928349652454,
           2.8911037319207855
          ],
          "vectorType": "dense"
         },
         2.844928349652454,
         2.8911037319207855
        ],
        [
         "1",
         0,
         {
          "length": 2,
          "values": [
           1.9632226839332967,
           0.9643084982548302
          ],
          "vectorType": "dense"
         },
         1.9632226839332967,
         0.9643084982548302
        ],
        [
         "0",
         1,
         {
          "length": 2,
          "values": [
           -2.773425247151511,
           -0.557509976757413
          ],
          "vectorType": "dense"
         },
         -2.773425247151511,
         -0.557509976757413
        ],
        [
         "0",
         1,
         {
          "length": 2,
          "values": [
           -4.392363138171209,
           2.1216408918292844
          ],
          "vectorType": "dense"
         },
         -4.392363138171209,
         2.1216408918292844
        ],
        [
         "1",
         0,
         {
          "length": 2,
          "values": [
           2.589804073230505,
           -0.21344611982789297
          ],
          "vectorType": "dense"
         },
         2.589804073230505,
         -0.21344611982789297
        ],
        [
         "1",
         0,
         {
          "length": 2,
          "values": [
           3.900905764302463,
           -1.1890204211664386
          ],
          "vectorType": "dense"
         },
         3.900905764302463,
         -1.1890204211664386
        ],
        [
         "1",
         0,
         {
          "length": 2,
          "values": [
           2.8157536467617743,
           -0.36756056672604126
          ],
          "vectorType": "dense"
         },
         2.8157536467617743,
         -0.36756056672604126
        ],
        [
         "0",
         0,
         {
          "length": 2,
          "values": [
           -0.6157390843403041,
           -0.6383499883109449
          ],
          "vectorType": "dense"
         },
         -0.6157390843403041,
         -0.6383499883109449
        ],
        [
         "0",
         0,
         {
          "length": 2,
          "values": [
           0.43247968428512473,
           1.390820523329051
          ],
          "vectorType": "dense"
         },
         0.43247968428512473,
         1.390820523329051
        ],
        [
         "1",
         0,
         {
          "length": 2,
          "values": [
           4.551024418715486,
           -3.5256837878131457
          ],
          "vectorType": "dense"
         },
         4.551024418715486,
         -3.5256837878131457
        ],
        [
         "1",
         0,
         {
          "length": 2,
          "values": [
           3.445152170485421,
           1.4233700401235052
          ],
          "vectorType": "dense"
         },
         3.445152170485421,
         1.4233700401235052
        ],
        [
         "1",
         0,
         {
          "length": 2,
          "values": [
           2.1141000788234177,
           -1.8477477817558619
          ],
          "vectorType": "dense"
         },
         2.1141000788234177,
         -1.8477477817558619
        ],
        [
         "1",
         0,
         {
          "length": 2,
          "values": [
           2.688986180588338,
           -1.4188133337752493
          ],
          "vectorType": "dense"
         },
         2.688986180588338,
         -1.4188133337752493
        ],
        [
         "0",
         1,
         {
          "length": 2,
          "values": [
           -3.2110913432991848,
           -4.043198634073635
          ],
          "vectorType": "dense"
         },
         -3.2110913432991848,
         -4.043198634073635
        ],
        [
         "1",
         0,
         {
          "length": 2,
          "values": [
           0.7486126561287516,
           -1.7960581752732854
          ],
          "vectorType": "dense"
         },
         0.7486126561287516,
         -1.7960581752732854
        ],
        [
         "1",
         0,
         {
          "length": 2,
          "values": [
           3.1562288887130996,
           1.0348388776990332
          ],
          "vectorType": "dense"
         },
         3.1562288887130996,
         1.0348388776990332
        ],
        [
         "0",
         1,
         {
          "length": 2,
          "values": [
           -13.044643947118486,
           -0.9806503574605676
          ],
          "vectorType": "dense"
         },
         -13.044643947118486,
         -0.9806503574605676
        ],
        [
         "1",
         0,
         {
          "length": 2,
          "values": [
           2.2267205341066245,
           -0.6668239016416191
          ],
          "vectorType": "dense"
         },
         2.2267205341066245,
         -0.6668239016416191
        ],
        [
         "1",
         0,
         {
          "length": 2,
          "values": [
           2.4906395353764794,
           -2.5964017081976385
          ],
          "vectorType": "dense"
         },
         2.4906395353764794,
         -2.5964017081976385
        ],
        [
         "1",
         0,
         {
          "length": 2,
          "values": [
           0.10325956887870977,
           -2.2781390146787253
          ],
          "vectorType": "dense"
         },
         0.10325956887870977,
         -2.2781390146787253
        ],
        [
         "1",
         1,
         {
          "length": 2,
          "values": [
           -3.5881369364374964,
           -3.9228814330897817
          ],
          "vectorType": "dense"
         },
         -3.5881369364374964,
         -3.9228814330897817
        ],
        [
         "1",
         0,
         {
          "length": 2,
          "values": [
           1.3477627936910612,
           -3.553098748124878
          ],
          "vectorType": "dense"
         },
         1.3477627936910612,
         -3.553098748124878
        ],
        [
         "1",
         0,
         {
          "length": 2,
          "values": [
           2.507910978274425,
           -3.248461200088754
          ],
          "vectorType": "dense"
         },
         2.507910978274425,
         -3.248461200088754
        ],
        [
         "1",
         0,
         {
          "length": 2,
          "values": [
           2.0442308647877296,
           -0.3046168360404698
          ],
          "vectorType": "dense"
         },
         2.0442308647877296,
         -0.3046168360404698
        ],
        [
         "1",
         0,
         {
          "length": 2,
          "values": [
           2.0952255918005553,
           -3.6638720623651575
          ],
          "vectorType": "dense"
         },
         2.0952255918005553,
         -3.6638720623651575
        ],
        [
         "0",
         1,
         {
          "length": 2,
          "values": [
           -3.1077931629832842,
           -1.5680098728032148
          ],
          "vectorType": "dense"
         },
         -3.1077931629832842,
         -1.5680098728032148
        ],
        [
         "0",
         1,
         {
          "length": 2,
          "values": [
           -4.952368008219316,
           -2.382749650207092
          ],
          "vectorType": "dense"
         },
         -4.952368008219316,
         -2.382749650207092
        ],
        [
         "0",
         0,
         {
          "length": 2,
          "values": [
           -0.8502661181133304,
           2.304707467911811
          ],
          "vectorType": "dense"
         },
         -0.8502661181133304,
         2.304707467911811
        ],
        [
         "1",
         0,
         {
          "length": 2,
          "values": [
           2.9633917342885567,
           -0.37117988308380523
          ],
          "vectorType": "dense"
         },
         2.9633917342885567,
         -0.37117988308380523
        ],
        [
         "0",
         1,
         {
          "length": 2,
          "values": [
           -3.331202091345631,
           1.3243920287519007
          ],
          "vectorType": "dense"
         },
         -3.331202091345631,
         1.3243920287519007
        ],
        [
         "0",
         1,
         {
          "length": 2,
          "values": [
           -12.8832762090226,
           -2.314585872823187
          ],
          "vectorType": "dense"
         },
         -12.8832762090226,
         -2.314585872823187
        ],
        [
         "1",
         0,
         {
          "length": 2,
          "values": [
           0.770066100541669,
           0.06405286022784357
          ],
          "vectorType": "dense"
         },
         0.770066100541669,
         0.06405286022784357
        ],
        [
         "1",
         0,
         {
          "length": 2,
          "values": [
           2.200579246024579,
           0.7349585441539866
          ],
          "vectorType": "dense"
         },
         2.200579246024579,
         0.7349585441539866
        ],
        [
         "1",
         0,
         {
          "length": 2,
          "values": [
           3.1406488057317365,
           1.8757585568762567
          ],
          "vectorType": "dense"
         },
         3.1406488057317365,
         1.8757585568762567
        ],
        [
         "0",
         0,
         {
          "length": 2,
          "values": [
           0.6383188466749707,
           0.9105648277387001
          ],
          "vectorType": "dense"
         },
         0.6383188466749707,
         0.9105648277387001
        ],
        [
         "0",
         1,
         {
          "length": 2,
          "values": [
           -1.9174462720607244,
           3.534971965704516
          ],
          "vectorType": "dense"
         },
         -1.9174462720607244,
         3.534971965704516
        ],
        [
         "1",
         1,
         {
          "length": 2,
          "values": [
           -1.4076297975592051,
           -1.303782215446646
          ],
          "vectorType": "dense"
         },
         -1.4076297975592051,
         -1.303782215446646
        ],
        [
         "0",
         1,
         {
          "length": 2,
          "values": [
           -4.639608949805652,
           1.480714296902346
          ],
          "vectorType": "dense"
         },
         -4.639608949805652,
         1.480714296902346
        ],
        [
         "1",
         0,
         {
          "length": 2,
          "values": [
           1.875816842535797,
           -1.4219794520209585
          ],
          "vectorType": "dense"
         },
         1.875816842535797,
         -1.4219794520209585
        ],
        [
         "0",
         1,
         {
          "length": 2,
          "values": [
           -1.4308104644206412,
           1.0486812201637816
          ],
          "vectorType": "dense"
         },
         -1.4308104644206412,
         1.0486812201637816
        ],
        [
         "0",
         1,
         {
          "length": 2,
          "values": [
           -1.3514379025047487,
           1.1531268416676224
          ],
          "vectorType": "dense"
         },
         -1.3514379025047487,
         1.1531268416676224
        ],
        [
         "1",
         0,
         {
          "length": 2,
          "values": [
           0.7084914339488595,
           1.5668536574634873
          ],
          "vectorType": "dense"
         },
         0.7084914339488595,
         1.5668536574634873
        ],
        [
         "0",
         1,
         {
          "length": 2,
          "values": [
           -2.16950708077604,
           2.823776100829295
          ],
          "vectorType": "dense"
         },
         -2.16950708077604,
         2.823776100829295
        ],
        [
         "0",
         0,
         {
          "length": 2,
          "values": [
           1.9751024733516598,
           0.4190187545862016
          ],
          "vectorType": "dense"
         },
         1.9751024733516598,
         0.4190187545862016
        ],
        [
         "1",
         0,
         {
          "length": 2,
          "values": [
           2.59850309522373,
           0.48191143623214344
          ],
          "vectorType": "dense"
         },
         2.59850309522373,
         0.48191143623214344
        ],
        [
         "1",
         0,
         {
          "length": 2,
          "values": [
           3.2551431766212113,
           0.417953650542393
          ],
          "vectorType": "dense"
         },
         3.2551431766212113,
         0.417953650542393
        ],
        [
         "0",
         1,
         {
          "length": 2,
          "values": [
           -3.778701596515092,
           -0.8596252179512075
          ],
          "vectorType": "dense"
         },
         -3.778701596515092,
         -0.8596252179512075
        ],
        [
         "1",
         0,
         {
          "length": 2,
          "values": [
           1.9902834824907458,
           -1.3281865083916466
          ],
          "vectorType": "dense"
         },
         1.9902834824907458,
         -1.3281865083916466
        ],
        [
         "1",
         0,
         {
          "length": 2,
          "values": [
           5.010599890275268,
           -0.5741947482063134
          ],
          "vectorType": "dense"
         },
         5.010599890275268,
         -0.5741947482063134
        ],
        [
         "0",
         1,
         {
          "length": 2,
          "values": [
           -1.3438380019594123,
           1.2736502780620558
          ],
          "vectorType": "dense"
         },
         -1.3438380019594123,
         1.2736502780620558
        ],
        [
         "1",
         0,
         {
          "length": 2,
          "values": [
           2.4538097168107567,
           -0.8976654414043106
          ],
          "vectorType": "dense"
         },
         2.4538097168107567,
         -0.8976654414043106
        ],
        [
         "1",
         0,
         {
          "length": 2,
          "values": [
           1.8356664765287183,
           0.09094674191163107
          ],
          "vectorType": "dense"
         },
         1.8356664765287183,
         0.09094674191163107
        ],
        [
         "1",
         0,
         {
          "length": 2,
          "values": [
           4.342668621633104,
           0.8927867080020948
          ],
          "vectorType": "dense"
         },
         4.342668621633104,
         0.8927867080020948
        ],
        [
         "1",
         0,
         {
          "length": 2,
          "values": [
           0.7321686848841821,
           -3.698927716334959
          ],
          "vectorType": "dense"
         },
         0.7321686848841821,
         -3.698927716334959
        ],
        [
         "0",
         1,
         {
          "length": 2,
          "values": [
           -2.3978879545325613,
           -4.8337356419503745
          ],
          "vectorType": "dense"
         },
         -2.3978879545325613,
         -4.8337356419503745
        ],
        [
         "1",
         0,
         {
          "length": 2,
          "values": [
           -0.3927530826218365,
           -1.0821159150961952
          ],
          "vectorType": "dense"
         },
         -0.3927530826218365,
         -1.0821159150961952
        ],
        [
         "1",
         0,
         {
          "length": 2,
          "values": [
           0.41196532673628217,
           0.389288784006076
          ],
          "vectorType": "dense"
         },
         0.41196532673628217,
         0.389288784006076
        ],
        [
         "1",
         0,
         {
          "length": 2,
          "values": [
           3.0472436872382715,
           2.235817238795145
          ],
          "vectorType": "dense"
         },
         3.0472436872382715,
         2.235817238795145
        ],
        [
         "1",
         0,
         {
          "length": 2,
          "values": [
           1.4412955434660437,
           -0.305601552317848
          ],
          "vectorType": "dense"
         },
         1.4412955434660437,
         -0.305601552317848
        ],
        [
         "1",
         0,
         {
          "length": 2,
          "values": [
           -0.08311297195894712,
           -7.144073768197734
          ],
          "vectorType": "dense"
         },
         -0.08311297195894712,
         -7.144073768197734
        ],
        [
         "1",
         1,
         {
          "length": 2,
          "values": [
           -7.087070838949417,
           -12.562140868978332
          ],
          "vectorType": "dense"
         },
         -7.087070838949417,
         -12.562140868978332
        ],
        [
         "1",
         0,
         {
          "length": 2,
          "values": [
           3.7401136372673087,
           -0.2502813056021372
          ],
          "vectorType": "dense"
         },
         3.7401136372673087,
         -0.2502813056021372
        ],
        [
         "1",
         0,
         {
          "length": 2,
          "values": [
           0.9683207941410804,
           -0.9441135819226691
          ],
          "vectorType": "dense"
         },
         0.9683207941410804,
         -0.9441135819226691
        ],
        [
         "1",
         0,
         {
          "length": 2,
          "values": [
           2.416593560539964,
           -0.005547531739681007
          ],
          "vectorType": "dense"
         },
         2.416593560539964,
         -0.005547531739681007
        ],
        [
         "0",
         1,
         {
          "length": 2,
          "values": [
           -4.0971826377870375,
           0.3784708057605489
          ],
          "vectorType": "dense"
         },
         -4.0971826377870375,
         0.3784708057605489
        ],
        [
         "1",
         0,
         {
          "length": 2,
          "values": [
           0.7509422555127223,
           3.0679491866145
          ],
          "vectorType": "dense"
         },
         0.7509422555127223,
         3.0679491866145
        ],
        [
         "1",
         0,
         {
          "length": 2,
          "values": [
           3.651433651563705,
           0.6740556439403642
          ],
          "vectorType": "dense"
         },
         3.651433651563705,
         0.6740556439403642
        ],
        [
         "1",
         0,
         {
          "length": 2,
          "values": [
           4.676097103502341,
           1.10288682345121
          ],
          "vectorType": "dense"
         },
         4.676097103502341,
         1.10288682345121
        ],
        [
         "1",
         0,
         {
          "length": 2,
          "values": [
           0.5972562440800077,
           -1.7840810718355007
          ],
          "vectorType": "dense"
         },
         0.5972562440800077,
         -1.7840810718355007
        ],
        [
         "0",
         1,
         {
          "length": 2,
          "values": [
           -3.384352890865804,
           2.908477953178305
          ],
          "vectorType": "dense"
         },
         -3.384352890865804,
         2.908477953178305
        ],
        [
         "0",
         1,
         {
          "length": 2,
          "values": [
           -6.144479695567227,
           2.0158789937746477
          ],
          "vectorType": "dense"
         },
         -6.144479695567227,
         2.0158789937746477
        ],
        [
         "1",
         0,
         {
          "length": 2,
          "values": [
           1.3238664840948287,
           -1.468002337228917
          ],
          "vectorType": "dense"
         },
         1.3238664840948287,
         -1.468002337228917
        ],
        [
         "0",
         1,
         {
          "length": 2,
          "values": [
           -5.489322772303608,
           4.162167037247703
          ],
          "vectorType": "dense"
         },
         -5.489322772303608,
         4.162167037247703
        ],
        [
         "1",
         0,
         {
          "length": 2,
          "values": [
           2.9947681268795883,
           2.7364532614587054
          ],
          "vectorType": "dense"
         },
         2.9947681268795883,
         2.7364532614587054
        ],
        [
         "1",
         0,
         {
          "length": 2,
          "values": [
           4.382876252034909,
           -0.006866239711844024
          ],
          "vectorType": "dense"
         },
         4.382876252034909,
         -0.006866239711844024
        ],
        [
         "0",
         1,
         {
          "length": 2,
          "values": [
           -1.2125676804145147,
           2.0372463953120428
          ],
          "vectorType": "dense"
         },
         -1.2125676804145147,
         2.0372463953120428
        ],
        [
         "0",
         1,
         {
          "length": 2,
          "values": [
           -5.065204235707061,
           1.783582969267652
          ],
          "vectorType": "dense"
         },
         -5.065204235707061,
         1.783582969267652
        ],
        [
         "1",
         0,
         {
          "length": 2,
          "values": [
           1.9759628006688976,
           1.84115939446237
          ],
          "vectorType": "dense"
         },
         1.9759628006688976,
         1.84115939446237
        ],
        [
         "1",
         0,
         {
          "length": 2,
          "values": [
           2.512665538094374,
           -0.11415185728328553
          ],
          "vectorType": "dense"
         },
         2.512665538094374,
         -0.11415185728328553
        ],
        [
         "0",
         0,
         {
          "length": 2,
          "values": [
           0.9466549351985862,
           1.6832724441193998
          ],
          "vectorType": "dense"
         },
         0.9466549351985862,
         1.6832724441193998
        ],
        [
         "0",
         1,
         {
          "length": 2,
          "values": [
           -2.8168897774102652,
           -1.2639909533709472
          ],
          "vectorType": "dense"
         },
         -2.8168897774102652,
         -1.2639909533709472
        ],
        [
         "1",
         0,
         {
          "length": 2,
          "values": [
           3.4809234523308104,
           -1.6182680772420517
          ],
          "vectorType": "dense"
         },
         3.4809234523308104,
         -1.6182680772420517
        ],
        [
         "1",
         0,
         {
          "length": 2,
          "values": [
           4.654633990732292,
           0.2227188459265475
          ],
          "vectorType": "dense"
         },
         4.654633990732292,
         0.2227188459265475
        ],
        [
         "1",
         0,
         {
          "length": 2,
          "values": [
           5.346913394805295,
           -1.0258552141595594
          ],
          "vectorType": "dense"
         },
         5.346913394805295,
         -1.0258552141595594
        ],
        [
         "1",
         1,
         {
          "length": 2,
          "values": [
           -1.1698684180216836,
           -7.008319995898495
          ],
          "vectorType": "dense"
         },
         -1.1698684180216836,
         -7.008319995898495
        ],
        [
         "0",
         1,
         {
          "length": 2,
          "values": [
           -2.953702919945471,
           -0.7058008217765863
          ],
          "vectorType": "dense"
         },
         -2.953702919945471,
         -0.7058008217765863
        ],
        [
         "1",
         0,
         {
          "length": 2,
          "values": [
           4.971327817743079,
           3.3832279834158325
          ],
          "vectorType": "dense"
         },
         4.971327817743079,
         3.3832279834158325
        ],
        [
         "1",
         0,
         {
          "length": 2,
          "values": [
           4.060452888239647,
           1.2450706432840835
          ],
          "vectorType": "dense"
         },
         4.060452888239647,
         1.2450706432840835
        ],
        [
         "0",
         1,
         {
          "length": 2,
          "values": [
           -9.504307055873683,
           5.598558051824166
          ],
          "vectorType": "dense"
         },
         -9.504307055873683,
         5.598558051824166
        ],
        [
         "0",
         1,
         {
          "length": 2,
          "values": [
           -8.99924713748581,
           -0.5805202806336891
          ],
          "vectorType": "dense"
         },
         -8.99924713748581,
         -0.5805202806336891
        ],
        [
         "0",
         0,
         {
          "length": 2,
          "values": [
           -0.7582113387114503,
           1.6071184807982521
          ],
          "vectorType": "dense"
         },
         -0.7582113387114503,
         1.6071184807982521
        ],
        [
         "1",
         0,
         {
          "length": 2,
          "values": [
           2.657021716338433,
           -0.5394611319693707
          ],
          "vectorType": "dense"
         },
         2.657021716338433,
         -0.5394611319693707
        ],
        [
         "0",
         0,
         {
          "length": 2,
          "values": [
           0.3896761071631376,
           0.9883726891537293
          ],
          "vectorType": "dense"
         },
         0.3896761071631376,
         0.9883726891537293
        ],
        [
         "1",
         0,
         {
          "length": 2,
          "values": [
           3.8856465678206793,
           -0.8153542849565183
          ],
          "vectorType": "dense"
         },
         3.8856465678206793,
         -0.8153542849565183
        ],
        [
         "0",
         0,
         {
          "length": 2,
          "values": [
           -0.3645553815353931,
           3.5713188418258013
          ],
          "vectorType": "dense"
         },
         -0.3645553815353931,
         3.5713188418258013
        ],
        [
         "1",
         0,
         {
          "length": 2,
          "values": [
           2.8333978267575493,
           0.39837916234531845
          ],
          "vectorType": "dense"
         },
         2.8333978267575493,
         0.39837916234531845
        ],
        [
         "1",
         0,
         {
          "length": 2,
          "values": [
           3.307373480730301,
           -0.1556042796224762
          ],
          "vectorType": "dense"
         },
         3.307373480730301,
         -0.1556042796224762
        ],
        [
         "1",
         0,
         {
          "length": 2,
          "values": [
           3.3543529255868116,
           1.1027621091603794
          ],
          "vectorType": "dense"
         },
         3.3543529255868116,
         1.1027621091603794
        ],
        [
         "0",
         1,
         {
          "length": 2,
          "values": [
           -6.517382011166436,
           -8.004126823765688
          ],
          "vectorType": "dense"
         },
         -6.517382011166436,
         -8.004126823765688
        ],
        [
         "1",
         0,
         {
          "length": 2,
          "values": [
           1.716225078957832,
           0.5426880190282252
          ],
          "vectorType": "dense"
         },
         1.716225078957832,
         0.5426880190282252
        ],
        [
         "1",
         0,
         {
          "length": 2,
          "values": [
           5.560842943398813,
           0.4774274929424864
          ],
          "vectorType": "dense"
         },
         5.560842943398813,
         0.4774274929424864
        ],
        [
         "0",
         1,
         {
          "length": 2,
          "values": [
           -1.7780969513569727,
           -2.7741462134520165
          ],
          "vectorType": "dense"
         },
         -1.7780969513569727,
         -2.7741462134520165
        ],
        [
         "0",
         1,
         {
          "length": 2,
          "values": [
           -2.6091890818216363,
           -1.5600490304583217
          ],
          "vectorType": "dense"
         },
         -2.6091890818216363,
         -1.5600490304583217
        ],
        [
         "1",
         0,
         {
          "length": 2,
          "values": [
           2.81656023352004,
           0.9692577223481751
          ],
          "vectorType": "dense"
         },
         2.81656023352004,
         0.9692577223481751
        ],
        [
         "0",
         1,
         {
          "length": 2,
          "values": [
           -2.4962424475167926,
           -2.276479789862448
          ],
          "vectorType": "dense"
         },
         -2.4962424475167926,
         -2.276479789862448
        ],
        [
         "0",
         1,
         {
          "length": 2,
          "values": [
           -1.275904513829326,
           2.4411110438899812
          ],
          "vectorType": "dense"
         },
         -1.275904513829326,
         2.4411110438899812
        ],
        [
         "0",
         1,
         {
          "length": 2,
          "values": [
           -3.470143981958466,
           2.275846405119393
          ],
          "vectorType": "dense"
         },
         -3.470143981958466,
         2.275846405119393
        ],
        [
         "0",
         1,
         {
          "length": 2,
          "values": [
           -1.2555703424425486,
           -0.38205709440413826
          ],
          "vectorType": "dense"
         },
         -1.2555703424425486,
         -0.38205709440413826
        ],
        [
         "1",
         0,
         {
          "length": 2,
          "values": [
           1.4721360446853025,
           -0.11678749584162215
          ],
          "vectorType": "dense"
         },
         1.4721360446853025,
         -0.11678749584162215
        ],
        [
         "0",
         1,
         {
          "length": 2,
          "values": [
           -1.6480106203166893,
           2.100442902308144
          ],
          "vectorType": "dense"
         },
         -1.6480106203166893,
         2.100442902308144
        ],
        [
         "0",
         1,
         {
          "length": 2,
          "values": [
           -9.028645224281451,
           0.6545968488688727
          ],
          "vectorType": "dense"
         },
         -9.028645224281451,
         0.6545968488688727
        ],
        [
         "0",
         1,
         {
          "length": 2,
          "values": [
           -4.550586028792268,
           -3.0839256264353505
          ],
          "vectorType": "dense"
         },
         -4.550586028792268,
         -3.0839256264353505
        ],
        [
         "1",
         0,
         {
          "length": 2,
          "values": [
           0.7805032063552411,
           -0.6522753252252638
          ],
          "vectorType": "dense"
         },
         0.7805032063552411,
         -0.6522753252252638
        ],
        [
         "0",
         0,
         {
          "length": 2,
          "values": [
           0.22289648137749804,
           0.7012045041875619
          ],
          "vectorType": "dense"
         },
         0.22289648137749804,
         0.7012045041875619
        ],
        [
         "1",
         0,
         {
          "length": 2,
          "values": [
           3.451858114839652,
           -1.3057897654953268
          ],
          "vectorType": "dense"
         },
         3.451858114839652,
         -1.3057897654953268
        ],
        [
         "0",
         0,
         {
          "length": 2,
          "values": [
           -0.4461518298391931,
           2.7852570082147827
          ],
          "vectorType": "dense"
         },
         -0.4461518298391931,
         2.7852570082147827
        ],
        [
         "1",
         0,
         {
          "length": 2,
          "values": [
           -0.3141617966983834,
           -2.0757343005542124
          ],
          "vectorType": "dense"
         },
         -0.3141617966983834,
         -2.0757343005542124
        ],
        [
         "1",
         0,
         {
          "length": 2,
          "values": [
           2.0573816635646485,
           2.4706139080117415
          ],
          "vectorType": "dense"
         },
         2.0573816635646485,
         2.4706139080117415
        ],
        [
         "0",
         1,
         {
          "length": 2,
          "values": [
           -4.804741578644551,
           3.0264400192113654
          ],
          "vectorType": "dense"
         },
         -4.804741578644551,
         3.0264400192113654
        ],
        [
         "1",
         0,
         {
          "length": 2,
          "values": [
           2.9960742986927817,
           0.3964292123288678
          ],
          "vectorType": "dense"
         },
         2.9960742986927817,
         0.3964292123288678
        ],
        [
         "0",
         1,
         {
          "length": 2,
          "values": [
           -12.27421974008282,
           7.536778598643883
          ],
          "vectorType": "dense"
         },
         -12.27421974008282,
         7.536778598643883
        ],
        [
         "0",
         1,
         {
          "length": 2,
          "values": [
           -3.3692320216392955,
           -2.585550416174371
          ],
          "vectorType": "dense"
         },
         -3.3692320216392955,
         -2.585550416174371
        ],
        [
         "0",
         1,
         {
          "length": 2,
          "values": [
           -2.5065608023508408,
           -2.6123498850288525
          ],
          "vectorType": "dense"
         },
         -2.5065608023508408,
         -2.6123498850288525
        ],
        [
         "0",
         1,
         {
          "length": 2,
          "values": [
           -1.3169097348008016,
           -2.152585452838559
          ],
          "vectorType": "dense"
         },
         -1.3169097348008016,
         -2.152585452838559
        ],
        [
         "1",
         0,
         {
          "length": 2,
          "values": [
           0.3884145349104365,
           -2.274796313785692
          ],
          "vectorType": "dense"
         },
         0.3884145349104365,
         -2.274796313785692
        ],
        [
         "1",
         0,
         {
          "length": 2,
          "values": [
           2.7545093134335943,
           -1.0858792262280101
          ],
          "vectorType": "dense"
         },
         2.7545093134335943,
         -1.0858792262280101
        ],
        [
         "0",
         1,
         {
          "length": 2,
          "values": [
           -4.939235008379087,
           2.845820435747167
          ],
          "vectorType": "dense"
         },
         -4.939235008379087,
         2.845820435747167
        ],
        [
         "0",
         1,
         {
          "length": 2,
          "values": [
           -4.294298799576767,
           4.662172958398716
          ],
          "vectorType": "dense"
         },
         -4.294298799576767,
         4.662172958398716
        ],
        [
         "1",
         0,
         {
          "length": 2,
          "values": [
           2.371415206580928,
           0.7327578143464887
          ],
          "vectorType": "dense"
         },
         2.371415206580928,
         0.7327578143464887
        ],
        [
         "1",
         0,
         {
          "length": 2,
          "values": [
           0.9663400342412815,
           -0.43805274138140315
          ],
          "vectorType": "dense"
         },
         0.9663400342412815,
         -0.43805274138140315
        ],
        [
         "1",
         0,
         {
          "length": 2,
          "values": [
           2.973182700588683,
           -1.8093817105584709
          ],
          "vectorType": "dense"
         },
         2.973182700588683,
         -1.8093817105584709
        ],
        [
         "0",
         1,
         {
          "length": 2,
          "values": [
           -1.8016617480543298,
           -0.16631461790202312
          ],
          "vectorType": "dense"
         },
         -1.8016617480543298,
         -0.16631461790202312
        ],
        [
         "1",
         0,
         {
          "length": 2,
          "values": [
           2.476180734357764,
           1.4173293464504262
          ],
          "vectorType": "dense"
         },
         2.476180734357764,
         1.4173293464504262
        ],
        [
         "1",
         0,
         {
          "length": 2,
          "values": [
           0.8253131039081664,
           1.249148354188872
          ],
          "vectorType": "dense"
         },
         0.8253131039081664,
         1.249148354188872
        ],
        [
         "1",
         0,
         {
          "length": 2,
          "values": [
           3.891273417938517,
           -0.5380972756254689
          ],
          "vectorType": "dense"
         },
         3.891273417938517,
         -0.5380972756254689
        ],
        [
         "1",
         0,
         {
          "length": 2,
          "values": [
           0.3892356039180487,
           0.613875324449998
          ],
          "vectorType": "dense"
         },
         0.3892356039180487,
         0.613875324449998
        ],
        [
         "1",
         0,
         {
          "length": 2,
          "values": [
           1.4560401949184865,
           0.20154941477167584
          ],
          "vectorType": "dense"
         },
         1.4560401949184865,
         0.20154941477167584
        ],
        [
         "0",
         1,
         {
          "length": 2,
          "values": [
           -2.7531455233218116,
           -3.4627267693133152
          ],
          "vectorType": "dense"
         },
         -2.7531455233218116,
         -3.4627267693133152
        ],
        [
         "0",
         1,
         {
          "length": 2,
          "values": [
           -3.254391152333232,
           0.12509042564652945
          ],
          "vectorType": "dense"
         },
         -3.254391152333232,
         0.12509042564652945
        ],
        [
         "1",
         0,
         {
          "length": 2,
          "values": [
           4.015606929779589,
           1.3530568336035458
          ],
          "vectorType": "dense"
         },
         4.015606929779589,
         1.3530568336035458
        ],
        [
         "1",
         0,
         {
          "length": 2,
          "values": [
           3.673181280856314,
           1.2904935620339735
          ],
          "vectorType": "dense"
         },
         3.673181280856314,
         1.2904935620339735
        ],
        [
         "0",
         1,
         {
          "length": 2,
          "values": [
           -3.3134086631131745,
           3.9356892675858393
          ],
          "vectorType": "dense"
         },
         -3.3134086631131745,
         3.9356892675858393
        ],
        [
         "1",
         0,
         {
          "length": 2,
          "values": [
           4.0330586952594905,
           -1.1615240891991265
          ],
          "vectorType": "dense"
         },
         4.0330586952594905,
         -1.1615240891991265
        ],
        [
         "1",
         0,
         {
          "length": 2,
          "values": [
           2.332181276558638,
           1.3477938157103568
          ],
          "vectorType": "dense"
         },
         2.332181276558638,
         1.3477938157103568
        ],
        [
         "0",
         1,
         {
          "length": 2,
          "values": [
           -8.396459114567051,
           4.150252991487551
          ],
          "vectorType": "dense"
         },
         -8.396459114567051,
         4.150252991487551
        ],
        [
         "0",
         1,
         {
          "length": 2,
          "values": [
           -2.645241099769492,
           3.947699392177443
          ],
          "vectorType": "dense"
         },
         -2.645241099769492,
         3.947699392177443
        ],
        [
         "1",
         0,
         {
          "length": 2,
          "values": [
           0.6811695085597811,
           1.134992456901795
          ],
          "vectorType": "dense"
         },
         0.6811695085597811,
         1.134992456901795
        ],
        [
         "0",
         1,
         {
          "length": 2,
          "values": [
           -3.3473504750853267,
           2.1526758988005272
          ],
          "vectorType": "dense"
         },
         -3.3473504750853267,
         2.1526758988005272
        ],
        [
         "1",
         0,
         {
          "length": 2,
          "values": [
           2.225762082820186,
           1.2139315550121692
          ],
          "vectorType": "dense"
         },
         2.225762082820186,
         1.2139315550121692
        ],
        [
         "1",
         0,
         {
          "length": 2,
          "values": [
           4.473648316810695,
           1.7395986990016745
          ],
          "vectorType": "dense"
         },
         4.473648316810695,
         1.7395986990016745
        ],
        [
         "1",
         1,
         {
          "length": 2,
          "values": [
           -1.3214586745096857,
           -4.785266054191078
          ],
          "vectorType": "dense"
         },
         -1.3214586745096857,
         -4.785266054191078
        ],
        [
         "1",
         0,
         {
          "length": 2,
          "values": [
           1.8484634072018238,
           1.5827355092570183
          ],
          "vectorType": "dense"
         },
         1.8484634072018238,
         1.5827355092570183
        ],
        [
         "0",
         1,
         {
          "length": 2,
          "values": [
           -3.7922288801761828,
           1.025330459219364
          ],
          "vectorType": "dense"
         },
         -3.7922288801761828,
         1.025330459219364
        ],
        [
         "1",
         0,
         {
          "length": 2,
          "values": [
           2.2793125444788847,
           -2.075859442194888
          ],
          "vectorType": "dense"
         },
         2.2793125444788847,
         -2.075859442194888
        ],
        [
         "1",
         0,
         {
          "length": 2,
          "values": [
           3.2259316385038423,
           1.1710430842293764
          ],
          "vectorType": "dense"
         },
         3.2259316385038423,
         1.1710430842293764
        ],
        [
         "1",
         0,
         {
          "length": 2,
          "values": [
           -1.0249988966720756,
           -2.3591861092433453
          ],
          "vectorType": "dense"
         },
         -1.0249988966720756,
         -2.3591861092433453
        ],
        [
         "1",
         0,
         {
          "length": 2,
          "values": [
           2.580285458084775,
           -0.7285720474808405
          ],
          "vectorType": "dense"
         },
         2.580285458084775,
         -0.7285720474808405
        ],
        [
         "1",
         0,
         {
          "length": 2,
          "values": [
           2.4836978332373185,
           -0.4601914826896939
          ],
          "vectorType": "dense"
         },
         2.4836978332373185,
         -0.4601914826896939
        ],
        [
         "0",
         1,
         {
          "length": 2,
          "values": [
           -7.13756173714527,
           2.073018195139842
          ],
          "vectorType": "dense"
         },
         -7.13756173714527,
         2.073018195139842
        ],
        [
         "1",
         0,
         {
          "length": 2,
          "values": [
           3.029815222770883,
           0.648897838165118
          ],
          "vectorType": "dense"
         },
         3.029815222770883,
         0.648897838165118
        ],
        [
         "0",
         1,
         {
          "length": 2,
          "values": [
           -7.078782066793522,
           -0.5277587995773976
          ],
          "vectorType": "dense"
         },
         -7.078782066793522,
         -0.5277587995773976
        ],
        [
         "0",
         1,
         {
          "length": 2,
          "values": [
           -1.3129437515041626,
           1.7738650170431625
          ],
          "vectorType": "dense"
         },
         -1.3129437515041626,
         1.7738650170431625
        ],
        [
         "0",
         1,
         {
          "length": 2,
          "values": [
           -3.7083865255645923,
           2.8050089983868287
          ],
          "vectorType": "dense"
         },
         -3.7083865255645923,
         2.8050089983868287
        ],
        [
         "0",
         0,
         {
          "length": 2,
          "values": [
           -0.4600742739863428,
           -0.3938197686403613
          ],
          "vectorType": "dense"
         },
         -0.4600742739863428,
         -0.3938197686403613
        ],
        [
         "0",
         1,
         {
          "length": 2,
          "values": [
           -6.387030007430574,
           1.821491442867628
          ],
          "vectorType": "dense"
         },
         -6.387030007430574,
         1.821491442867628
        ],
        [
         "0",
         1,
         {
          "length": 2,
          "values": [
           -5.250924689588624,
           -3.891107225655192
          ],
          "vectorType": "dense"
         },
         -5.250924689588624,
         -3.891107225655192
        ],
        [
         "0",
         1,
         {
          "length": 2,
          "values": [
           -8.726183381467218,
           -3.2769939657143716
          ],
          "vectorType": "dense"
         },
         -8.726183381467218,
         -3.2769939657143716
        ],
        [
         "0",
         1,
         {
          "length": 2,
          "values": [
           -3.6880727649812464,
           -1.0647092355384506
          ],
          "vectorType": "dense"
         },
         -3.6880727649812464,
         -1.0647092355384506
        ],
        [
         "0",
         1,
         {
          "length": 2,
          "values": [
           -3.3752809812447255,
           3.3682641746415576
          ],
          "vectorType": "dense"
         },
         -3.3752809812447255,
         3.3682641746415576
        ],
        [
         "0",
         0,
         {
          "length": 2,
          "values": [
           0.8394710078446104,
           3.4970080337579934
          ],
          "vectorType": "dense"
         },
         0.8394710078446104,
         3.4970080337579934
        ],
        [
         "0",
         1,
         {
          "length": 2,
          "values": [
           -3.2814852588700103,
           0.9898022792791088
          ],
          "vectorType": "dense"
         },
         -3.2814852588700103,
         0.9898022792791088
        ],
        [
         "0",
         0,
         {
          "length": 2,
          "values": [
           1.9070908891938627,
           3.119201237203347
          ],
          "vectorType": "dense"
         },
         1.9070908891938627,
         3.119201237203347
        ],
        [
         "0",
         1,
         {
          "length": 2,
          "values": [
           -1.6133623365757193,
           2.4723978983559065
          ],
          "vectorType": "dense"
         },
         -1.6133623365757193,
         2.4723978983559065
        ],
        [
         "0",
         1,
         {
          "length": 2,
          "values": [
           -6.613906806066417,
           5.997998810891651
          ],
          "vectorType": "dense"
         },
         -6.613906806066417,
         5.997998810891651
        ],
        [
         "1",
         0,
         {
          "length": 2,
          "values": [
           1.4633883060156407,
           -1.685149060625749
          ],
          "vectorType": "dense"
         },
         1.4633883060156407,
         -1.685149060625749
        ],
        [
         "1",
         0,
         {
          "length": 2,
          "values": [
           2.0103835029649497,
           1.1025164598842423
          ],
          "vectorType": "dense"
         },
         2.0103835029649497,
         1.1025164598842423
        ],
        [
         "1",
         0,
         {
          "length": 2,
          "values": [
           2.282332040471847,
           -0.009485293138450299
          ],
          "vectorType": "dense"
         },
         2.282332040471847,
         -0.009485293138450299
        ],
        [
         "1",
         0,
         {
          "length": 2,
          "values": [
           0.7390927619274819,
           -3.149749157849665
          ],
          "vectorType": "dense"
         },
         0.7390927619274819,
         -3.149749157849665
        ],
        [
         "1",
         0,
         {
          "length": 2,
          "values": [
           4.502600696719506,
           3.166486413631368
          ],
          "vectorType": "dense"
         },
         4.502600696719506,
         3.166486413631368
        ],
        [
         "1",
         0,
         {
          "length": 2,
          "values": [
           3.1559773740122634,
           -0.4099410900241174
          ],
          "vectorType": "dense"
         },
         3.1559773740122634,
         -0.4099410900241174
        ],
        [
         "0",
         1,
         {
          "length": 2,
          "values": [
           -7.6694012070934345,
           3.072602737491275
          ],
          "vectorType": "dense"
         },
         -7.6694012070934345,
         3.072602737491275
        ],
        [
         "1",
         0,
         {
          "length": 2,
          "values": [
           3.6359367261303492,
           -1.5881896245823244
          ],
          "vectorType": "dense"
         },
         3.6359367261303492,
         -1.5881896245823244
        ],
        [
         "0",
         0,
         {
          "length": 2,
          "values": [
           -0.3370489251204577,
           3.1416091727542197
          ],
          "vectorType": "dense"
         },
         -0.3370489251204577,
         3.1416091727542197
        ],
        [
         "1",
         0,
         {
          "length": 2,
          "values": [
           1.2754611078320632,
           -0.8483065631109162
          ],
          "vectorType": "dense"
         },
         1.2754611078320632,
         -0.8483065631109162
        ],
        [
         "1",
         0,
         {
          "length": 2,
          "values": [
           4.342193381795932,
           0.3216949991143457
          ],
          "vectorType": "dense"
         },
         4.342193381795932,
         0.3216949991143457
        ],
        [
         "0",
         0,
         {
          "length": 2,
          "values": [
           -0.01741546771171315,
           3.456302109699558
          ],
          "vectorType": "dense"
         },
         -0.01741546771171315,
         3.456302109699558
        ],
        [
         "1",
         0,
         {
          "length": 2,
          "values": [
           3.4893557720452133,
           2.6317667234807156
          ],
          "vectorType": "dense"
         },
         3.4893557720452133,
         2.6317667234807156
        ],
        [
         "1",
         0,
         {
          "length": 2,
          "values": [
           1.864907931297847,
           0.9012711860481959
          ],
          "vectorType": "dense"
         },
         1.864907931297847,
         0.9012711860481959
        ],
        [
         "0",
         1,
         {
          "length": 2,
          "values": [
           -4.955907441716645,
           1.3399440378897656
          ],
          "vectorType": "dense"
         },
         -4.955907441716645,
         1.3399440378897656
        ],
        [
         "1",
         0,
         {
          "length": 2,
          "values": [
           2.4685506209044195,
           0.1379049225435279
          ],
          "vectorType": "dense"
         },
         2.4685506209044195,
         0.1379049225435279
        ],
        [
         "0",
         1,
         {
          "length": 2,
          "values": [
           -3.781732576915012,
           1.9002354094267013
          ],
          "vectorType": "dense"
         },
         -3.781732576915012,
         1.9002354094267013
        ],
        [
         "0",
         1,
         {
          "length": 2,
          "values": [
           -2.634937310206687,
           -0.5766476067361099
          ],
          "vectorType": "dense"
         },
         -2.634937310206687,
         -0.5766476067361099
        ],
        [
         "1",
         0,
         {
          "length": 2,
          "values": [
           1.3714782673685932,
           -0.005800357721781113
          ],
          "vectorType": "dense"
         },
         1.3714782673685932,
         -0.005800357721781113
        ],
        [
         "1",
         0,
         {
          "length": 2,
          "values": [
           4.13524399446935,
           1.375298122929749
          ],
          "vectorType": "dense"
         },
         4.13524399446935,
         1.375298122929749
        ],
        [
         "1",
         0,
         {
          "length": 2,
          "values": [
           0.6863363877211871,
           -1.6935195059813446
          ],
          "vectorType": "dense"
         },
         0.6863363877211871,
         -1.6935195059813446
        ],
        [
         "1",
         0,
         {
          "length": 2,
          "values": [
           4.308338698860459,
           1.9767468042610254
          ],
          "vectorType": "dense"
         },
         4.308338698860459,
         1.9767468042610254
        ],
        [
         "1",
         0,
         {
          "length": 2,
          "values": [
           -0.4029548635748549,
           -3.7201606544330987
          ],
          "vectorType": "dense"
         },
         -0.4029548635748549,
         -3.7201606544330987
        ],
        [
         "1",
         0,
         {
          "length": 2,
          "values": [
           3.000965262243705,
           -0.35384887774716584
          ],
          "vectorType": "dense"
         },
         3.000965262243705,
         -0.35384887774716584
        ],
        [
         "1",
         1,
         {
          "length": 2,
          "values": [
           -3.1312530328587043,
           -4.269702670189467
          ],
          "vectorType": "dense"
         },
         -3.1312530328587043,
         -4.269702670189467
        ],
        [
         "1",
         0,
         {
          "length": 2,
          "values": [
           0.41746953769710166,
           0.8078657343689332
          ],
          "vectorType": "dense"
         },
         0.41746953769710166,
         0.8078657343689332
        ],
        [
         "1",
         0,
         {
          "length": 2,
          "values": [
           1.4189745870297155,
           -1.3927526376556778
          ],
          "vectorType": "dense"
         },
         1.4189745870297155,
         -1.3927526376556778
        ],
        [
         "1",
         0,
         {
          "length": 2,
          "values": [
           2.8680647531464465,
           0.268408338101326
          ],
          "vectorType": "dense"
         },
         2.8680647531464465,
         0.268408338101326
        ],
        [
         "1",
         0,
         {
          "length": 2,
          "values": [
           3.3628867182650546,
           0.8068906366540134
          ],
          "vectorType": "dense"
         },
         3.3628867182650546,
         0.8068906366540134
        ],
        [
         "1",
         0,
         {
          "length": 2,
          "values": [
           3.3120858684223364,
           1.4409083819701411
          ],
          "vectorType": "dense"
         },
         3.3120858684223364,
         1.4409083819701411
        ],
        [
         "1",
         0,
         {
          "length": 2,
          "values": [
           4.7655170071007955,
           0.5424845304417008
          ],
          "vectorType": "dense"
         },
         4.7655170071007955,
         0.5424845304417008
        ],
        [
         "0",
         0,
         {
          "length": 2,
          "values": [
           2.383785278667096,
           0.8233910735604927
          ],
          "vectorType": "dense"
         },
         2.383785278667096,
         0.8233910735604927
        ],
        [
         "1",
         0,
         {
          "length": 2,
          "values": [
           2.7846458146634814,
           2.530807159428553
          ],
          "vectorType": "dense"
         },
         2.7846458146634814,
         2.530807159428553
        ],
        [
         "1",
         0,
         {
          "length": 2,
          "values": [
           3.3908581737798005,
           -0.7533011314133292
          ],
          "vectorType": "dense"
         },
         3.3908581737798005,
         -0.7533011314133292
        ],
        [
         "0",
         1,
         {
          "length": 2,
          "values": [
           -6.58444232820841,
           1.4835570760795582
          ],
          "vectorType": "dense"
         },
         -6.58444232820841,
         1.4835570760795582
        ],
        [
         "1",
         0,
         {
          "length": 2,
          "values": [
           1.4540511062050259,
           -0.5914224783050939
          ],
          "vectorType": "dense"
         },
         1.4540511062050259,
         -0.5914224783050939
        ],
        [
         "0",
         1,
         {
          "length": 2,
          "values": [
           -7.176618434402277,
           -0.05509758012513949
          ],
          "vectorType": "dense"
         },
         -7.176618434402277,
         -0.05509758012513949
        ],
        [
         "1",
         0,
         {
          "length": 2,
          "values": [
           3.5756891739127767,
           -0.890799182251582
          ],
          "vectorType": "dense"
         },
         3.5756891739127767,
         -0.890799182251582
        ],
        [
         "1",
         0,
         {
          "length": 2,
          "values": [
           3.0543451401303825,
           0.17905583600501274
          ],
          "vectorType": "dense"
         },
         3.0543451401303825,
         0.17905583600501274
        ],
        [
         "1",
         0,
         {
          "length": 2,
          "values": [
           3.0717330303073704,
           0.3057893730497704
          ],
          "vectorType": "dense"
         },
         3.0717330303073704,
         0.3057893730497704
        ],
        [
         "1",
         0,
         {
          "length": 2,
          "values": [
           3.850152005362842,
           1.5233860034932076
          ],
          "vectorType": "dense"
         },
         3.850152005362842,
         1.5233860034932076
        ],
        [
         "1",
         0,
         {
          "length": 2,
          "values": [
           5.3855177059185495,
           -0.5557664886960754
          ],
          "vectorType": "dense"
         },
         5.3855177059185495,
         -0.5557664886960754
        ],
        [
         "1",
         0,
         {
          "length": 2,
          "values": [
           4.65358766791471,
           3.062692587047921
          ],
          "vectorType": "dense"
         },
         4.65358766791471,
         3.062692587047921
        ],
        [
         "1",
         0,
         {
          "length": 2,
          "values": [
           4.024001690818717,
           2.5406715203364776
          ],
          "vectorType": "dense"
         },
         4.024001690818717,
         2.5406715203364776
        ],
        [
         "1",
         0,
         {
          "length": 2,
          "values": [
           3.3448788008728587,
           0.06850277259966837
          ],
          "vectorType": "dense"
         },
         3.3448788008728587,
         0.06850277259966837
        ],
        [
         "1",
         0,
         {
          "length": 2,
          "values": [
           3.2969410508974435,
           3.1359500887137717
          ],
          "vectorType": "dense"
         },
         3.2969410508974435,
         3.1359500887137717
        ],
        [
         "1",
         0,
         {
          "length": 2,
          "values": [
           2.134525984500311,
           0.0043889867928022935
          ],
          "vectorType": "dense"
         },
         2.134525984500311,
         0.0043889867928022935
        ],
        [
         "1",
         0,
         {
          "length": 2,
          "values": [
           4.034467235871257,
           0.2404864516410689
          ],
          "vectorType": "dense"
         },
         4.034467235871257,
         0.2404864516410689
        ],
        [
         "1",
         0,
         {
          "length": 2,
          "values": [
           3.762104298066469,
           -4.39433394265753
          ],
          "vectorType": "dense"
         },
         3.762104298066469,
         -4.39433394265753
        ],
        [
         "1",
         0,
         {
          "length": 2,
          "values": [
           4.86695697440386,
           2.337158334463167
          ],
          "vectorType": "dense"
         },
         4.86695697440386,
         2.337158334463167
        ],
        [
         "1",
         0,
         {
          "length": 2,
          "values": [
           4.743075110258775,
           1.7968209625108593
          ],
          "vectorType": "dense"
         },
         4.743075110258775,
         1.7968209625108593
        ],
        [
         "0",
         1,
         {
          "length": 2,
          "values": [
           -1.8936500638857314,
           2.3901349362668816
          ],
          "vectorType": "dense"
         },
         -1.8936500638857314,
         2.3901349362668816
        ],
        [
         "1",
         1,
         {
          "length": 2,
          "values": [
           -1.571548343734521,
           -6.503377020577063
          ],
          "vectorType": "dense"
         },
         -1.571548343734521,
         -6.503377020577063
        ],
        [
         "1",
         0,
         {
          "length": 2,
          "values": [
           4.023080366038678,
           1.4009737529462152
          ],
          "vectorType": "dense"
         },
         4.023080366038678,
         1.4009737529462152
        ],
        [
         "1",
         0,
         {
          "length": 2,
          "values": [
           1.29372782598917,
           -3.4677573783806075
          ],
          "vectorType": "dense"
         },
         1.29372782598917,
         -3.4677573783806075
        ],
        [
         "0",
         1,
         {
          "length": 2,
          "values": [
           -1.8332274202713865,
           4.317723822665098
          ],
          "vectorType": "dense"
         },
         -1.8332274202713865,
         4.317723822665098
        ],
        [
         "1",
         0,
         {
          "length": 2,
          "values": [
           1.808789015235209,
           -0.39585898806435427
          ],
          "vectorType": "dense"
         },
         1.808789015235209,
         -0.39585898806435427
        ],
        [
         "0",
         1,
         {
          "length": 2,
          "values": [
           -7.230123567830955,
           0.035670410920752404
          ],
          "vectorType": "dense"
         },
         -7.230123567830955,
         0.035670410920752404
        ],
        [
         "1",
         0,
         {
          "length": 2,
          "values": [
           3.1428847812274205,
           0.741873771312808
          ],
          "vectorType": "dense"
         },
         3.1428847812274205,
         0.741873771312808
        ],
        [
         "1",
         0,
         {
          "length": 2,
          "values": [
           2.8847298001152506,
           0.46432306918826133
          ],
          "vectorType": "dense"
         },
         2.8847298001152506,
         0.46432306918826133
        ],
        [
         "1",
         0,
         {
          "length": 2,
          "values": [
           3.146885056706513,
           1.7696912547970154
          ],
          "vectorType": "dense"
         },
         3.146885056706513,
         1.7696912547970154
        ],
        [
         "1",
         0,
         {
          "length": 2,
          "values": [
           4.624310577223516,
           1.8340046311486002
          ],
          "vectorType": "dense"
         },
         4.624310577223516,
         1.8340046311486002
        ],
        [
         "0",
         1,
         {
          "length": 2,
          "values": [
           -2.248531903058634,
           0.3482295351152985
          ],
          "vectorType": "dense"
         },
         -2.248531903058634,
         0.3482295351152985
        ],
        [
         "0",
         1,
         {
          "length": 2,
          "values": [
           -2.105948215451635,
           -1.1209875925308008
          ],
          "vectorType": "dense"
         },
         -2.105948215451635,
         -1.1209875925308008
        ],
        [
         "0",
         1,
         {
          "length": 2,
          "values": [
           -1.7843799140989622,
           0.2689849572661148
          ],
          "vectorType": "dense"
         },
         -1.7843799140989622,
         0.2689849572661148
        ],
        [
         "1",
         0,
         {
          "length": 2,
          "values": [
           0.527232708197753,
           -1.264758768867036
          ],
          "vectorType": "dense"
         },
         0.527232708197753,
         -1.264758768867036
        ],
        [
         "1",
         0,
         {
          "length": 2,
          "values": [
           3.2106759241477616,
           -1.1024730816943964
          ],
          "vectorType": "dense"
         },
         3.2106759241477616,
         -1.1024730816943964
        ],
        [
         "1",
         0,
         {
          "length": 2,
          "values": [
           4.382566769758078,
           0.7604346273021849
          ],
          "vectorType": "dense"
         },
         4.382566769758078,
         0.7604346273021849
        ],
        [
         "1",
         0,
         {
          "length": 2,
          "values": [
           3.80666840292402,
           0.9091186263481879
          ],
          "vectorType": "dense"
         },
         3.80666840292402,
         0.9091186263481879
        ],
        [
         "0",
         1,
         {
          "length": 2,
          "values": [
           -3.3167555762556,
           1.5756664220302594
          ],
          "vectorType": "dense"
         },
         -3.3167555762556,
         1.5756664220302594
        ],
        [
         "1",
         0,
         {
          "length": 2,
          "values": [
           2.3911719850536737,
           -0.9891604207881478
          ],
          "vectorType": "dense"
         },
         2.3911719850536737,
         -0.9891604207881478
        ],
        [
         "0",
         1,
         {
          "length": 2,
          "values": [
           -4.676051829725837,
           0.9677414434843
          ],
          "vectorType": "dense"
         },
         -4.676051829725837,
         0.9677414434843
        ],
        [
         "1",
         0,
         {
          "length": 2,
          "values": [
           3.0649982652345846,
           -1.1348390297023678
          ],
          "vectorType": "dense"
         },
         3.0649982652345846,
         -1.1348390297023678
        ],
        [
         "0",
         1,
         {
          "length": 2,
          "values": [
           -7.346754205800324,
           5.238014242213437
          ],
          "vectorType": "dense"
         },
         -7.346754205800324,
         5.238014242213437
        ],
        [
         "1",
         0,
         {
          "length": 2,
          "values": [
           -0.2950535672123393,
           -0.22673553279496178
          ],
          "vectorType": "dense"
         },
         -0.2950535672123393,
         -0.22673553279496178
        ],
        [
         "1",
         0,
         {
          "length": 2,
          "values": [
           1.937264908048494,
           -2.54275075984208
          ],
          "vectorType": "dense"
         },
         1.937264908048494,
         -2.54275075984208
        ],
        [
         "1",
         0,
         {
          "length": 2,
          "values": [
           2.075352829718506,
           -1.8049313395291142
          ],
          "vectorType": "dense"
         },
         2.075352829718506,
         -1.8049313395291142
        ],
        [
         "0",
         1,
         {
          "length": 2,
          "values": [
           -4.970788588463213,
           1.3314006873626998
          ],
          "vectorType": "dense"
         },
         -4.970788588463213,
         1.3314006873626998
        ],
        [
         "1",
         0,
         {
          "length": 2,
          "values": [
           2.1750031061333353,
           -0.9580682603151646
          ],
          "vectorType": "dense"
         },
         2.1750031061333353,
         -0.9580682603151646
        ],
        [
         "1",
         0,
         {
          "length": 2,
          "values": [
           2.429413826943072,
           -3.44417335730377
          ],
          "vectorType": "dense"
         },
         2.429413826943072,
         -3.44417335730377
        ],
        [
         "1",
         0,
         {
          "length": 2,
          "values": [
           3.3650049292694186,
           0.5624340150809102
          ],
          "vectorType": "dense"
         },
         3.3650049292694186,
         0.5624340150809102
        ],
        [
         "1",
         0,
         {
          "length": 2,
          "values": [
           1.205537044997321,
           1.315886496793601
          ],
          "vectorType": "dense"
         },
         1.205537044997321,
         1.315886496793601
        ],
        [
         "1",
         0,
         {
          "length": 2,
          "values": [
           3.3231552224306244,
           -0.4747538482010823
          ],
          "vectorType": "dense"
         },
         3.3231552224306244,
         -0.4747538482010823
        ],
        [
         "1",
         0,
         {
          "length": 2,
          "values": [
           1.9270997575978313,
           -1.460184988708072
          ],
          "vectorType": "dense"
         },
         1.9270997575978313,
         -1.460184988708072
        ],
        [
         "1",
         0,
         {
          "length": 2,
          "values": [
           4.038281827650134,
           1.3557245619959968
          ],
          "vectorType": "dense"
         },
         4.038281827650134,
         1.3557245619959968
        ],
        [
         "0",
         1,
         {
          "length": 2,
          "values": [
           -6.176848765923755,
           -5.103514894361796
          ],
          "vectorType": "dense"
         },
         -6.176848765923755,
         -5.103514894361796
        ],
        [
         "0",
         1,
         {
          "length": 2,
          "values": [
           -10.924685586759175,
           3.699998471871134
          ],
          "vectorType": "dense"
         },
         -10.924685586759175,
         3.699998471871134
        ],
        [
         "0",
         1,
         {
          "length": 2,
          "values": [
           -2.1166345166823373,
           -0.2963682967476071
          ],
          "vectorType": "dense"
         },
         -2.1166345166823373,
         -0.2963682967476071
        ],
        [
         "1",
         0,
         {
          "length": 2,
          "values": [
           3.0095468861563317,
           -0.243545681202486
          ],
          "vectorType": "dense"
         },
         3.0095468861563317,
         -0.243545681202486
        ],
        [
         "1",
         0,
         {
          "length": 2,
          "values": [
           0.9817847142179241,
           -0.7965515125202817
          ],
          "vectorType": "dense"
         },
         0.9817847142179241,
         -0.7965515125202817
        ],
        [
         "1",
         0,
         {
          "length": 2,
          "values": [
           -0.35757923049032636,
           -2.125968004265042
          ],
          "vectorType": "dense"
         },
         -0.35757923049032636,
         -2.125968004265042
        ],
        [
         "1",
         0,
         {
          "length": 2,
          "values": [
           3.191110025081194,
           1.847526444761871
          ],
          "vectorType": "dense"
         },
         3.191110025081194,
         1.847526444761871
        ],
        [
         "1",
         0,
         {
          "length": 2,
          "values": [
           2.990601886844637,
           -1.6299580146726662
          ],
          "vectorType": "dense"
         },
         2.990601886844637,
         -1.6299580146726662
        ],
        [
         "1",
         0,
         {
          "length": 2,
          "values": [
           3.191106313310075,
           -0.5788301325936451
          ],
          "vectorType": "dense"
         },
         3.191106313310075,
         -0.5788301325936451
        ],
        [
         "1",
         0,
         {
          "length": 2,
          "values": [
           4.587924963183574,
           2.7586997322892137
          ],
          "vectorType": "dense"
         },
         4.587924963183574,
         2.7586997322892137
        ],
        [
         "1",
         0,
         {
          "length": 2,
          "values": [
           2.483730733194703,
           1.1878941827853875
          ],
          "vectorType": "dense"
         },
         2.483730733194703,
         1.1878941827853875
        ],
        [
         "1",
         0,
         {
          "length": 2,
          "values": [
           2.396556629015861,
           0.2505243553016716
          ],
          "vectorType": "dense"
         },
         2.396556629015861,
         0.2505243553016716
        ],
        [
         "1",
         0,
         {
          "length": 2,
          "values": [
           0.7789298236156389,
           2.1224758723954773
          ],
          "vectorType": "dense"
         },
         0.7789298236156389,
         2.1224758723954773
        ],
        [
         "1",
         0,
         {
          "length": 2,
          "values": [
           3.137227995833936,
           1.486714010385516
          ],
          "vectorType": "dense"
         },
         3.137227995833936,
         1.486714010385516
        ],
        [
         "0",
         1,
         {
          "length": 2,
          "values": [
           -2.7326073652576093,
           3.9416999500655043
          ],
          "vectorType": "dense"
         },
         -2.7326073652576093,
         3.9416999500655043
        ],
        [
         "0",
         1,
         {
          "length": 2,
          "values": [
           -6.221551679069684,
           1.3888876163638892
          ],
          "vectorType": "dense"
         },
         -6.221551679069684,
         1.3888876163638892
        ],
        [
         "1",
         0,
         {
          "length": 2,
          "values": [
           2.221820777512973,
           0.35684672329234746
          ],
          "vectorType": "dense"
         },
         2.221820777512973,
         0.35684672329234746
        ],
        [
         "0",
         1,
         {
          "length": 2,
          "values": [
           -5.302474403497606,
           6.717504287902137
          ],
          "vectorType": "dense"
         },
         -5.302474403497606,
         6.717504287902137
        ],
        [
         "0",
         1,
         {
          "length": 2,
          "values": [
           -7.241629190977243,
           3.6522555297061396
          ],
          "vectorType": "dense"
         },
         -7.241629190977243,
         3.6522555297061396
        ],
        [
         "0",
         1,
         {
          "length": 2,
          "values": [
           -4.203521962751312,
           -1.1752088219527228
          ],
          "vectorType": "dense"
         },
         -4.203521962751312,
         -1.1752088219527228
        ],
        [
         "1",
         0,
         {
          "length": 2,
          "values": [
           2.4974388911606744,
           2.016761089657906
          ],
          "vectorType": "dense"
         },
         2.4974388911606744,
         2.016761089657906
        ],
        [
         "0",
         1,
         {
          "length": 2,
          "values": [
           -3.631819328529832,
           1.9547209619987518
          ],
          "vectorType": "dense"
         },
         -3.631819328529832,
         1.9547209619987518
        ],
        [
         "0",
         1,
         {
          "length": 2,
          "values": [
           -3.516154429778133,
           3.8552149374108557
          ],
          "vectorType": "dense"
         },
         -3.516154429778133,
         3.8552149374108557
        ],
        [
         "1",
         0,
         {
          "length": 2,
          "values": [
           2.6126494511410927,
           1.101505250877788
          ],
          "vectorType": "dense"
         },
         2.6126494511410927,
         1.101505250877788
        ],
        [
         "1",
         0,
         {
          "length": 2,
          "values": [
           0.09602362590836018,
           0.12973343110973548
          ],
          "vectorType": "dense"
         },
         0.09602362590836018,
         0.12973343110973548
        ],
        [
         "1",
         1,
         {
          "length": 2,
          "values": [
           -2.0430592577934314,
           -6.421169886591277
          ],
          "vectorType": "dense"
         },
         -2.0430592577934314,
         -6.421169886591277
        ],
        [
         "1",
         0,
         {
          "length": 2,
          "values": [
           3.0640534834955355,
           2.1801773735430845
          ],
          "vectorType": "dense"
         },
         3.0640534834955355,
         2.1801773735430845
        ],
        [
         "1",
         0,
         {
          "length": 2,
          "values": [
           1.6021766967898312,
           -0.2923389949332684
          ],
          "vectorType": "dense"
         },
         1.6021766967898312,
         -0.2923389949332684
        ],
        [
         "0",
         1,
         {
          "length": 2,
          "values": [
           -3.762621443878961,
           -5.980033549309579
          ],
          "vectorType": "dense"
         },
         -3.762621443878961,
         -5.980033549309579
        ],
        [
         "1",
         0,
         {
          "length": 2,
          "values": [
           0.9247529181246392,
           -2.3004572704552135
          ],
          "vectorType": "dense"
         },
         0.9247529181246392,
         -2.3004572704552135
        ],
        [
         "1",
         0,
         {
          "length": 2,
          "values": [
           3.2854587367562074,
           -0.20113435938521462
          ],
          "vectorType": "dense"
         },
         3.2854587367562074,
         -0.20113435938521462
        ],
        [
         "1",
         0,
         {
          "length": 2,
          "values": [
           1.5534852463993922,
           -0.9789963158207404
          ],
          "vectorType": "dense"
         },
         1.5534852463993922,
         -0.9789963158207404
        ],
        [
         "1",
         0,
         {
          "length": 2,
          "values": [
           0.39842934176183803,
           -2.1593127242758463
          ],
          "vectorType": "dense"
         },
         0.39842934176183803,
         -2.1593127242758463
        ],
        [
         "1",
         0,
         {
          "length": 2,
          "values": [
           2.2985453437371177,
           0.9312581750160045
          ],
          "vectorType": "dense"
         },
         2.2985453437371177,
         0.9312581750160045
        ],
        [
         "0",
         0,
         {
          "length": 2,
          "values": [
           0.542424088151976,
           1.3159100480444743
          ],
          "vectorType": "dense"
         },
         0.542424088151976,
         1.3159100480444743
        ],
        [
         "1",
         0,
         {
          "length": 2,
          "values": [
           2.057009504309962,
           -0.32015344453125083
          ],
          "vectorType": "dense"
         },
         2.057009504309962,
         -0.32015344453125083
        ],
        [
         "1",
         0,
         {
          "length": 2,
          "values": [
           3.4215074893256583,
           2.443368505138404
          ],
          "vectorType": "dense"
         },
         3.4215074893256583,
         2.443368505138404
        ],
        [
         "1",
         0,
         {
          "length": 2,
          "values": [
           0.47199124930973096,
           -3.699574203312585
          ],
          "vectorType": "dense"
         },
         0.47199124930973096,
         -3.699574203312585
        ],
        [
         "0",
         1,
         {
          "length": 2,
          "values": [
           -4.699365785201365,
           0.19578348601557083
          ],
          "vectorType": "dense"
         },
         -4.699365785201365,
         0.19578348601557083
        ],
        [
         "1",
         0,
         {
          "length": 2,
          "values": [
           3.640177266356688,
           -0.786168171276902
          ],
          "vectorType": "dense"
         },
         3.640177266356688,
         -0.786168171276902
        ],
        [
         "1",
         0,
         {
          "length": 2,
          "values": [
           3.5915291765229544,
           -2.602797029692257
          ],
          "vectorType": "dense"
         },
         3.5915291765229544,
         -2.602797029692257
        ],
        [
         "0",
         1,
         {
          "length": 2,
          "values": [
           -4.145449783640533,
           -0.7668141287529167
          ],
          "vectorType": "dense"
         },
         -4.145449783640533,
         -0.7668141287529167
        ],
        [
         "0",
         1,
         {
          "length": 2,
          "values": [
           -7.665396811495929,
           0.8597276809314314
          ],
          "vectorType": "dense"
         },
         -7.665396811495929,
         0.8597276809314314
        ],
        [
         "1",
         0,
         {
          "length": 2,
          "values": [
           2.0086120468983655,
           -0.4293118113846647
          ],
          "vectorType": "dense"
         },
         2.0086120468983655,
         -0.4293118113846647
        ],
        [
         "1",
         0,
         {
          "length": 2,
          "values": [
           2.9182657286307934,
           1.6989775538427376
          ],
          "vectorType": "dense"
         },
         2.9182657286307934,
         1.6989775538427376
        ],
        [
         "1",
         0,
         {
          "length": 2,
          "values": [
           0.5002975911258666,
           -0.10663763480732191
          ],
          "vectorType": "dense"
         },
         0.5002975911258666,
         -0.10663763480732191
        ],
        [
         "1",
         0,
         {
          "length": 2,
          "values": [
           1.909818136290534,
           0.6508212257862362
          ],
          "vectorType": "dense"
         },
         1.909818136290534,
         0.6508212257862362
        ],
        [
         "1",
         0,
         {
          "length": 2,
          "values": [
           3.7817716673916792,
           0.3258596453595585
          ],
          "vectorType": "dense"
         },
         3.7817716673916792,
         0.3258596453595585
        ],
        [
         "1",
         0,
         {
          "length": 2,
          "values": [
           2.706012962066895,
           0.2194726288777049
          ],
          "vectorType": "dense"
         },
         2.706012962066895,
         0.2194726288777049
        ],
        [
         "0",
         1,
         {
          "length": 2,
          "values": [
           -6.284144085196279,
           -2.034757025450057
          ],
          "vectorType": "dense"
         },
         -6.284144085196279,
         -2.034757025450057
        ],
        [
         "1",
         0,
         {
          "length": 2,
          "values": [
           3.4277546285096903,
           0.9917374104621859
          ],
          "vectorType": "dense"
         },
         3.4277546285096903,
         0.9917374104621859
        ],
        [
         "1",
         0,
         {
          "length": 2,
          "values": [
           1.9996290036610866,
           0.29306859391553763
          ],
          "vectorType": "dense"
         },
         1.9996290036610866,
         0.29306859391553763
        ],
        [
         "1",
         0,
         {
          "length": 2,
          "values": [
           2.4711187702674877,
           0.3347524795996754
          ],
          "vectorType": "dense"
         },
         2.4711187702674877,
         0.3347524795996754
        ],
        [
         "1",
         0,
         {
          "length": 2,
          "values": [
           3.6440513653380244,
           1.2402738149716068
          ],
          "vectorType": "dense"
         },
         3.6440513653380244,
         1.2402738149716068
        ],
        [
         "1",
         0,
         {
          "length": 2,
          "values": [
           2.344124268696747,
           -0.6821411046260262
          ],
          "vectorType": "dense"
         },
         2.344124268696747,
         -0.6821411046260262
        ],
        [
         "1",
         0,
         {
          "length": 2,
          "values": [
           1.1419920938905654,
           1.9604465077671769
          ],
          "vectorType": "dense"
         },
         1.1419920938905654,
         1.9604465077671769
        ],
        [
         "1",
         0,
         {
          "length": 2,
          "values": [
           1.349669736242352,
           -0.36924900183406884
          ],
          "vectorType": "dense"
         },
         1.349669736242352,
         -0.36924900183406884
        ],
        [
         "0",
         1,
         {
          "length": 2,
          "values": [
           -2.760941448865499,
           1.0776852596095776
          ],
          "vectorType": "dense"
         },
         -2.760941448865499,
         1.0776852596095776
        ],
        [
         "1",
         0,
         {
          "length": 2,
          "values": [
           1.967592331203069,
           0.17569391630596184
          ],
          "vectorType": "dense"
         },
         1.967592331203069,
         0.17569391630596184
        ],
        [
         "1",
         0,
         {
          "length": 2,
          "values": [
           2.92861018720084,
           0.49442119061084133
          ],
          "vectorType": "dense"
         },
         2.92861018720084,
         0.49442119061084133
        ],
        [
         "1",
         0,
         {
          "length": 2,
          "values": [
           2.92380174883021,
           -0.3770005363916792
          ],
          "vectorType": "dense"
         },
         2.92380174883021,
         -0.3770005363916792
        ],
        [
         "1",
         0,
         {
          "length": 2,
          "values": [
           3.99267514417972,
           -0.9590122600837145
          ],
          "vectorType": "dense"
         },
         3.99267514417972,
         -0.9590122600837145
        ],
        [
         "1",
         0,
         {
          "length": 2,
          "values": [
           -0.1550016743349039,
           0.437623165978837
          ],
          "vectorType": "dense"
         },
         -0.1550016743349039,
         0.437623165978837
        ],
        [
         "0",
         0,
         {
          "length": 2,
          "values": [
           0.9332696314803103,
           2.104094210067527
          ],
          "vectorType": "dense"
         },
         0.9332696314803103,
         2.104094210067527
        ],
        [
         "1",
         0,
         {
          "length": 2,
          "values": [
           1.927925359175412,
           -0.8916821038232392
          ],
          "vectorType": "dense"
         },
         1.927925359175412,
         -0.8916821038232392
        ],
        [
         "1",
         0,
         {
          "length": 2,
          "values": [
           2.6200332486414437,
           -2.499901967771065
          ],
          "vectorType": "dense"
         },
         2.6200332486414437,
         -2.499901967771065
        ],
        [
         "0",
         1,
         {
          "length": 2,
          "values": [
           -5.998338685657266,
           0.09094919644802113
          ],
          "vectorType": "dense"
         },
         -5.998338685657266,
         0.09094919644802113
        ],
        [
         "1",
         0,
         {
          "length": 2,
          "values": [
           2.9193091202939803,
           0.00920458204064542
          ],
          "vectorType": "dense"
         },
         2.9193091202939803,
         0.00920458204064542
        ],
        [
         "1",
         0,
         {
          "length": 2,
          "values": [
           3.3390068299273357,
           0.022205192232515797
          ],
          "vectorType": "dense"
         },
         3.3390068299273357,
         0.022205192232515797
        ],
        [
         "1",
         0,
         {
          "length": 2,
          "values": [
           2.0131436791939663,
           -0.7777677776660812
          ],
          "vectorType": "dense"
         },
         2.0131436791939663,
         -0.7777677776660812
        ],
        [
         "1",
         1,
         {
          "length": 2,
          "values": [
           -1.9867140066590794,
           -2.314011967419204
          ],
          "vectorType": "dense"
         },
         -1.9867140066590794,
         -2.314011967419204
        ],
        [
         "1",
         0,
         {
          "length": 2,
          "values": [
           1.6681361466415952,
           -0.8615607699852146
          ],
          "vectorType": "dense"
         },
         1.6681361466415952,
         -0.8615607699852146
        ],
        [
         "1",
         0,
         {
          "length": 2,
          "values": [
           0.37085180302599974,
           -0.11351277941469305
          ],
          "vectorType": "dense"
         },
         0.37085180302599974,
         -0.11351277941469305
        ],
        [
         "1",
         0,
         {
          "length": 2,
          "values": [
           1.8473344702440129,
           -2.5389956007011905
          ],
          "vectorType": "dense"
         },
         1.8473344702440129,
         -2.5389956007011905
        ],
        [
         "1",
         0,
         {
          "length": 2,
          "values": [
           4.6989076587167675,
           0.4319223845700211
          ],
          "vectorType": "dense"
         },
         4.6989076587167675,
         0.4319223845700211
        ],
        [
         "1",
         0,
         {
          "length": 2,
          "values": [
           1.2820590739521003,
           -2.5486667521841357
          ],
          "vectorType": "dense"
         },
         1.2820590739521003,
         -2.5486667521841357
        ],
        [
         "1",
         0,
         {
          "length": 2,
          "values": [
           2.312212316213461,
           -0.4016780429615857
          ],
          "vectorType": "dense"
         },
         2.312212316213461,
         -0.4016780429615857
        ],
        [
         "1",
         0,
         {
          "length": 2,
          "values": [
           4.654989276563036,
           0.7816110211582356
          ],
          "vectorType": "dense"
         },
         4.654989276563036,
         0.7816110211582356
        ],
        [
         "1",
         0,
         {
          "length": 2,
          "values": [
           3.940006591278556,
           2.0282316570124226
          ],
          "vectorType": "dense"
         },
         3.940006591278556,
         2.0282316570124226
        ],
        [
         "0",
         1,
         {
          "length": 2,
          "values": [
           -4.945506936786711,
           -3.003421434951423
          ],
          "vectorType": "dense"
         },
         -4.945506936786711,
         -3.003421434951423
        ],
        [
         "1",
         0,
         {
          "length": 2,
          "values": [
           0.914998417180693,
           -2.476833776056108
          ],
          "vectorType": "dense"
         },
         0.914998417180693,
         -2.476833776056108
        ],
        [
         "0",
         1,
         {
          "length": 2,
          "values": [
           -4.545111927264468,
           0.8152831423276554
          ],
          "vectorType": "dense"
         },
         -4.545111927264468,
         0.8152831423276554
        ],
        [
         "0",
         1,
         {
          "length": 2,
          "values": [
           -4.43843746105249,
           0.9915664239722887
          ],
          "vectorType": "dense"
         },
         -4.43843746105249,
         0.9915664239722887
        ],
        [
         "1",
         0,
         {
          "length": 2,
          "values": [
           2.193054644119214,
           1.8037661137139487
          ],
          "vectorType": "dense"
         },
         2.193054644119214,
         1.8037661137139487
        ],
        [
         "0",
         0,
         {
          "length": 2,
          "values": [
           -0.6638567906972933,
           -0.43647680208109413
          ],
          "vectorType": "dense"
         },
         -0.6638567906972933,
         -0.43647680208109413
        ],
        [
         "1",
         0,
         {
          "length": 2,
          "values": [
           2.2389060523360547,
           0.4541898722408363
          ],
          "vectorType": "dense"
         },
         2.2389060523360547,
         0.4541898722408363
        ],
        [
         "1",
         0,
         {
          "length": 2,
          "values": [
           2.123312146064986,
           1.1937465406902616
          ],
          "vectorType": "dense"
         },
         2.123312146064986,
         1.1937465406902616
        ],
        [
         "1",
         0,
         {
          "length": 2,
          "values": [
           2.613018230636058,
           1.830449829701576
          ],
          "vectorType": "dense"
         },
         2.613018230636058,
         1.830449829701576
        ],
        [
         "1",
         0,
         {
          "length": 2,
          "values": [
           3.2081451461269004,
           2.233177743167421
          ],
          "vectorType": "dense"
         },
         3.2081451461269004,
         2.233177743167421
        ],
        [
         "1",
         0,
         {
          "length": 2,
          "values": [
           0.30648072797555426,
           -2.1830779549000954
          ],
          "vectorType": "dense"
         },
         0.30648072797555426,
         -2.1830779549000954
        ],
        [
         "0",
         1,
         {
          "length": 2,
          "values": [
           -2.4701834157673517,
           1.4985062241646343
          ],
          "vectorType": "dense"
         },
         -2.4701834157673517,
         1.4985062241646343
        ],
        [
         "1",
         0,
         {
          "length": 2,
          "values": [
           3.4516812564733845,
           2.134583339853946
          ],
          "vectorType": "dense"
         },
         3.4516812564733845,
         2.134583339853946
        ],
        [
         "1",
         0,
         {
          "length": 2,
          "values": [
           3.897097812804002,
           -0.7301335297261968
          ],
          "vectorType": "dense"
         },
         3.897097812804002,
         -0.7301335297261968
        ],
        [
         "0",
         0,
         {
          "length": 2,
          "values": [
           -0.9808644845488861,
           2.208486711616481
          ],
          "vectorType": "dense"
         },
         -0.9808644845488861,
         2.208486711616481
        ],
        [
         "1",
         0,
         {
          "length": 2,
          "values": [
           1.2561462947029458,
           -1.066752884858787
          ],
          "vectorType": "dense"
         },
         1.2561462947029458,
         -1.066752884858787
        ],
        [
         "0",
         1,
         {
          "length": 2,
          "values": [
           -3.2425605374516238,
           1.7767952397711555
          ],
          "vectorType": "dense"
         },
         -3.2425605374516238,
         1.7767952397711555
        ],
        [
         "1",
         0,
         {
          "length": 2,
          "values": [
           1.555850428173458,
           1.0370146428298208
          ],
          "vectorType": "dense"
         },
         1.555850428173458,
         1.0370146428298208
        ],
        [
         "1",
         0,
         {
          "length": 2,
          "values": [
           1.248159847609764,
           1.5874420077235567
          ],
          "vectorType": "dense"
         },
         1.248159847609764,
         1.5874420077235567
        ],
        [
         "0",
         1,
         {
          "length": 2,
          "values": [
           -4.327845296903541,
           4.045772564967691
          ],
          "vectorType": "dense"
         },
         -4.327845296903541,
         4.045772564967691
        ],
        [
         "1",
         0,
         {
          "length": 2,
          "values": [
           1.0765041197499041,
           -1.8020325644596087
          ],
          "vectorType": "dense"
         },
         1.0765041197499041,
         -1.8020325644596087
        ],
        [
         "0",
         1,
         {
          "length": 2,
          "values": [
           -2.50954496723855,
           2.526584455419936
          ],
          "vectorType": "dense"
         },
         -2.50954496723855,
         2.526584455419936
        ],
        [
         "1",
         0,
         {
          "length": 2,
          "values": [
           2.2151432129344313,
           -0.029865010034000328
          ],
          "vectorType": "dense"
         },
         2.2151432129344313,
         -0.029865010034000328
        ],
        [
         "1",
         0,
         {
          "length": 2,
          "values": [
           1.1727987075491468,
           0.47442206362079425
          ],
          "vectorType": "dense"
         },
         1.1727987075491468,
         0.47442206362079425
        ],
        [
         "1",
         0,
         {
          "length": 2,
          "values": [
           2.833807992032256,
           1.0172307504970854
          ],
          "vectorType": "dense"
         },
         2.833807992032256,
         1.0172307504970854
        ],
        [
         "1",
         0,
         {
          "length": 2,
          "values": [
           1.855453295571189,
           1.5700116743471624
          ],
          "vectorType": "dense"
         },
         1.855453295571189,
         1.5700116743471624
        ],
        [
         "1",
         0,
         {
          "length": 2,
          "values": [
           1.3274463600967459,
           -0.7764124994109081
          ],
          "vectorType": "dense"
         },
         1.3274463600967459,
         -0.7764124994109081
        ],
        [
         "1",
         0,
         {
          "length": 2,
          "values": [
           2.800307381480742,
           1.664836753413479
          ],
          "vectorType": "dense"
         },
         2.800307381480742,
         1.664836753413479
        ],
        [
         "1",
         0,
         {
          "length": 2,
          "values": [
           3.1717779665128187,
           2.073908798274623
          ],
          "vectorType": "dense"
         },
         3.1717779665128187,
         2.073908798274623
        ],
        [
         "1",
         0,
         {
          "length": 2,
          "values": [
           4.083484325194264,
           0.48428396052725586
          ],
          "vectorType": "dense"
         },
         4.083484325194264,
         0.48428396052725586
        ],
        [
         "0",
         1,
         {
          "length": 2,
          "values": [
           -3.4724383684210407,
           1.67141372334568
          ],
          "vectorType": "dense"
         },
         -3.4724383684210407,
         1.67141372334568
        ],
        [
         "0",
         1,
         {
          "length": 2,
          "values": [
           -16.304886649594216,
           7.769016888373382
          ],
          "vectorType": "dense"
         },
         -16.304886649594216,
         7.769016888373382
        ],
        [
         "1",
         0,
         {
          "length": 2,
          "values": [
           2.557864367016561,
           2.4918528797022423
          ],
          "vectorType": "dense"
         },
         2.557864367016561,
         2.4918528797022423
        ],
        [
         "1",
         0,
         {
          "length": 2,
          "values": [
           2.9662787832842827,
           0.06878661072296705
          ],
          "vectorType": "dense"
         },
         2.9662787832842827,
         0.06878661072296705
        ],
        [
         "1",
         0,
         {
          "length": 2,
          "values": [
           2.755006335869314,
           1.7923416963765513
          ],
          "vectorType": "dense"
         },
         2.755006335869314,
         1.7923416963765513
        ],
        [
         "1",
         1,
         {
          "length": 2,
          "values": [
           -1.3691351808117749,
           -2.1081563937309458
          ],
          "vectorType": "dense"
         },
         -1.3691351808117749,
         -2.1081563937309458
        ],
        [
         "1",
         0,
         {
          "length": 2,
          "values": [
           0.4172973149060333,
           -0.11641726210993464
          ],
          "vectorType": "dense"
         },
         0.4172973149060333,
         -0.11641726210993464
        ],
        [
         "1",
         0,
         {
          "length": 2,
          "values": [
           3.835024205957114,
           -0.898388161674005
          ],
          "vectorType": "dense"
         },
         3.835024205957114,
         -0.898388161674005
        ],
        [
         "0",
         1,
         {
          "length": 2,
          "values": [
           -5.9257508235346075,
           -1.2272168607935359
          ],
          "vectorType": "dense"
         },
         -5.9257508235346075,
         -1.2272168607935359
        ],
        [
         "1",
         0,
         {
          "length": 2,
          "values": [
           -0.6449111936209141,
           -3.4229995421977764
          ],
          "vectorType": "dense"
         },
         -0.6449111936209141,
         -3.4229995421977764
        ],
        [
         "1",
         0,
         {
          "length": 2,
          "values": [
           2.6814869751157433,
           -1.4422864689137533
          ],
          "vectorType": "dense"
         },
         2.6814869751157433,
         -1.4422864689137533
        ],
        [
         "1",
         0,
         {
          "length": 2,
          "values": [
           2.0398691822622053,
           0.9024618581445207
          ],
          "vectorType": "dense"
         },
         2.0398691822622053,
         0.9024618581445207
        ],
        [
         "1",
         0,
         {
          "length": 2,
          "values": [
           1.398066199236754,
           1.770668243981824
          ],
          "vectorType": "dense"
         },
         1.398066199236754,
         1.770668243981824
        ],
        [
         "1",
         0,
         {
          "length": 2,
          "values": [
           3.5333063582933635,
           1.24575801773039
          ],
          "vectorType": "dense"
         },
         3.5333063582933635,
         1.24575801773039
        ],
        [
         "1",
         0,
         {
          "length": 2,
          "values": [
           1.9887795302556113,
           -1.89779269317917
          ],
          "vectorType": "dense"
         },
         1.9887795302556113,
         -1.89779269317917
        ],
        [
         "1",
         0,
         {
          "length": 2,
          "values": [
           1.996428720313028,
           0.20618971131568076
          ],
          "vectorType": "dense"
         },
         1.996428720313028,
         0.20618971131568076
        ],
        [
         "1",
         0,
         {
          "length": 2,
          "values": [
           0.5202003908111569,
           0.9725121025461498
          ],
          "vectorType": "dense"
         },
         0.5202003908111569,
         0.9725121025461498
        ],
        [
         "1",
         0,
         {
          "length": 2,
          "values": [
           3.1695815905766174,
           2.0872157681880967
          ],
          "vectorType": "dense"
         },
         3.1695815905766174,
         2.0872157681880967
        ],
        [
         "1",
         0,
         {
          "length": 2,
          "values": [
           2.200773740164568,
           -1.2849087344346048
          ],
          "vectorType": "dense"
         },
         2.200773740164568,
         -1.2849087344346048
        ],
        [
         "0",
         1,
         {
          "length": 2,
          "values": [
           -3.821070903352409,
           -2.3032097346083917
          ],
          "vectorType": "dense"
         },
         -3.821070903352409,
         -2.3032097346083917
        ],
        [
         "1",
         0,
         {
          "length": 2,
          "values": [
           2.982860087893478,
           0.6727472975250199
          ],
          "vectorType": "dense"
         },
         2.982860087893478,
         0.6727472975250199
        ],
        [
         "1",
         0,
         {
          "length": 2,
          "values": [
           2.4788739595090217,
           2.361880554620532
          ],
          "vectorType": "dense"
         },
         2.4788739595090217,
         2.361880554620532
        ],
        [
         "1",
         0,
         {
          "length": 2,
          "values": [
           1.2709931213159007,
           -0.5093856426258698
          ],
          "vectorType": "dense"
         },
         1.2709931213159007,
         -0.5093856426258698
        ],
        [
         "1",
         0,
         {
          "length": 2,
          "values": [
           2.2331919146098254,
           1.297562775248254
          ],
          "vectorType": "dense"
         },
         2.2331919146098254,
         1.297562775248254
        ],
        [
         "1",
         0,
         {
          "length": 2,
          "values": [
           0.056133712562133314,
           0.22718349542905497
          ],
          "vectorType": "dense"
         },
         0.056133712562133314,
         0.22718349542905497
        ],
        [
         "1",
         1,
         {
          "length": 2,
          "values": [
           -2.3153533394197727,
           -4.385275754541184
          ],
          "vectorType": "dense"
         },
         -2.3153533394197727,
         -4.385275754541184
        ],
        [
         "1",
         0,
         {
          "length": 2,
          "values": [
           2.2823230571574515,
           2.464672104779668
          ],
          "vectorType": "dense"
         },
         2.2823230571574515,
         2.464672104779668
        ],
        [
         "0",
         1,
         {
          "length": 2,
          "values": [
           -4.750434988655813,
           1.4881141767755597
          ],
          "vectorType": "dense"
         },
         -4.750434988655813,
         1.4881141767755597
        ],
        [
         "1",
         0,
         {
          "length": 2,
          "values": [
           1.7247932814230538,
           -0.9973003162547251
          ],
          "vectorType": "dense"
         },
         1.7247932814230538,
         -0.9973003162547251
        ],
        [
         "0",
         0,
         {
          "length": 2,
          "values": [
           0.7411296510979193,
           2.449879330556573
          ],
          "vectorType": "dense"
         },
         0.7411296510979193,
         2.449879330556573
        ],
        [
         "1",
         0,
         {
          "length": 2,
          "values": [
           2.891766211587366,
           0.977084587771863
          ],
          "vectorType": "dense"
         },
         2.891766211587366,
         0.977084587771863
        ],
        [
         "1",
         0,
         {
          "length": 2,
          "values": [
           1.6530673209399034,
           4.551659142222769
          ],
          "vectorType": "dense"
         },
         1.6530673209399034,
         4.551659142222769
        ],
        [
         "0",
         1,
         {
          "length": 2,
          "values": [
           -3.1007913344299807,
           1.235066483028626
          ],
          "vectorType": "dense"
         },
         -3.1007913344299807,
         1.235066483028626
        ],
        [
         "1",
         0,
         {
          "length": 2,
          "values": [
           4.060697611933903,
           0.5604610750609345
          ],
          "vectorType": "dense"
         },
         4.060697611933903,
         0.5604610750609345
        ],
        [
         "1",
         0,
         {
          "length": 2,
          "values": [
           2.790874981685018,
           1.076940538969515
          ],
          "vectorType": "dense"
         },
         2.790874981685018,
         1.076940538969515
        ],
        [
         "1",
         0,
         {
          "length": 2,
          "values": [
           1.4736233044459313,
           1.5896954369820397
          ],
          "vectorType": "dense"
         },
         1.4736233044459313,
         1.5896954369820397
        ],
        [
         "1",
         0,
         {
          "length": 2,
          "values": [
           0.2291929713893269,
           -1.5145707554059142
          ],
          "vectorType": "dense"
         },
         0.2291929713893269,
         -1.5145707554059142
        ],
        [
         "1",
         0,
         {
          "length": 2,
          "values": [
           2.551013784403687,
           0.7632289241818467
          ],
          "vectorType": "dense"
         },
         2.551013784403687,
         0.7632289241818467
        ],
        [
         "0",
         1,
         {
          "length": 2,
          "values": [
           -3.712438548894881,
           1.0577555061741135
          ],
          "vectorType": "dense"
         },
         -3.712438548894881,
         1.0577555061741135
        ],
        [
         "0",
         1,
         {
          "length": 2,
          "values": [
           -5.0903628610901865,
           2.017432705941421
          ],
          "vectorType": "dense"
         },
         -5.0903628610901865,
         2.017432705941421
        ],
        [
         "1",
         0,
         {
          "length": 2,
          "values": [
           0.6000880992881495,
           0.8377175598703596
          ],
          "vectorType": "dense"
         },
         0.6000880992881495,
         0.8377175598703596
        ],
        [
         "0",
         1,
         {
          "length": 2,
          "values": [
           -2.7879467302084433,
           -3.382584454086203
          ],
          "vectorType": "dense"
         },
         -2.7879467302084433,
         -3.382584454086203
        ],
        [
         "1",
         0,
         {
          "length": 2,
          "values": [
           1.4075327339711794,
           -1.5044468375239244
          ],
          "vectorType": "dense"
         },
         1.4075327339711794,
         -1.5044468375239244
        ],
        [
         "0",
         1,
         {
          "length": 2,
          "values": [
           -7.252797143875283,
           5.49090430233696
          ],
          "vectorType": "dense"
         },
         -7.252797143875283,
         5.49090430233696
        ],
        [
         "1",
         1,
         {
          "length": 2,
          "values": [
           -1.2977246878630824,
           -7.7230573252406876
          ],
          "vectorType": "dense"
         },
         -1.2977246878630824,
         -7.7230573252406876
        ],
        [
         "1",
         0,
         {
          "length": 2,
          "values": [
           -1.0757467319114502,
           -8.28748333708094
          ],
          "vectorType": "dense"
         },
         -1.0757467319114502,
         -8.28748333708094
        ],
        [
         "1",
         0,
         {
          "length": 2,
          "values": [
           1.2486618339884528,
           -1.5942810552468651
          ],
          "vectorType": "dense"
         },
         1.2486618339884528,
         -1.5942810552468651
        ],
        [
         "1",
         0,
         {
          "length": 2,
          "values": [
           1.2558234134005026,
           -4.113567176044441
          ],
          "vectorType": "dense"
         },
         1.2558234134005026,
         -4.113567176044441
        ],
        [
         "1",
         0,
         {
          "length": 2,
          "values": [
           1.1655096888161074,
           1.664229389288278
          ],
          "vectorType": "dense"
         },
         1.1655096888161074,
         1.664229389288278
        ],
        [
         "0",
         1,
         {
          "length": 2,
          "values": [
           -4.090543310340465,
           -2.8004631372638533
          ],
          "vectorType": "dense"
         },
         -4.090543310340465,
         -2.8004631372638533
        ],
        [
         "1",
         0,
         {
          "length": 2,
          "values": [
           1.8859797779694114,
           -1.670721679773254
          ],
          "vectorType": "dense"
         },
         1.8859797779694114,
         -1.670721679773254
        ],
        [
         "1",
         0,
         {
          "length": 2,
          "values": [
           2.7650027918677633,
           2.1591489715386922
          ],
          "vectorType": "dense"
         },
         2.7650027918677633,
         2.1591489715386922
        ],
        [
         "0",
         1,
         {
          "length": 2,
          "values": [
           -2.2250366914743682,
           -1.939927827030339
          ],
          "vectorType": "dense"
         },
         -2.2250366914743682,
         -1.939927827030339
        ],
        [
         "1",
         0,
         {
          "length": 2,
          "values": [
           1.130582097681733,
           1.4097615238920558
          ],
          "vectorType": "dense"
         },
         1.130582097681733,
         1.4097615238920558
        ],
        [
         "0",
         0,
         {
          "length": 2,
          "values": [
           0.7331273774331185,
           1.9419884383163164
          ],
          "vectorType": "dense"
         },
         0.7331273774331185,
         1.9419884383163164
        ],
        [
         "1",
         0,
         {
          "length": 2,
          "values": [
           2.331619157745097,
           -0.7894519727749363
          ],
          "vectorType": "dense"
         },
         2.331619157745097,
         -0.7894519727749363
        ],
        [
         "0",
         1,
         {
          "length": 2,
          "values": [
           -2.6948525682230757,
           1.9420011894412628
          ],
          "vectorType": "dense"
         },
         -2.6948525682230757,
         1.9420011894412628
        ],
        [
         "0",
         1,
         {
          "length": 2,
          "values": [
           -3.3760441048029453,
           2.331377578459931
          ],
          "vectorType": "dense"
         },
         -3.3760441048029453,
         2.331377578459931
        ],
        [
         "1",
         0,
         {
          "length": 2,
          "values": [
           0.19969486970744776,
           -1.0754137523919416
          ],
          "vectorType": "dense"
         },
         0.19969486970744776,
         -1.0754137523919416
        ],
        [
         "1",
         0,
         {
          "length": 2,
          "values": [
           1.1749920441007746,
           -1.0104810609185944
          ],
          "vectorType": "dense"
         },
         1.1749920441007746,
         -1.0104810609185944
        ],
        [
         "1",
         0,
         {
          "length": 2,
          "values": [
           1.2915001552911294,
           -4.95986054770475
          ],
          "vectorType": "dense"
         },
         1.2915001552911294,
         -4.95986054770475
        ],
        [
         "0",
         1,
         {
          "length": 2,
          "values": [
           -8.62316837995109,
           3.4564106380793023
          ],
          "vectorType": "dense"
         },
         -8.62316837995109,
         3.4564106380793023
        ],
        [
         "1",
         0,
         {
          "length": 2,
          "values": [
           4.425562342734112,
           0.7853450148775316
          ],
          "vectorType": "dense"
         },
         4.425562342734112,
         0.7853450148775316
        ],
        [
         "1",
         0,
         {
          "length": 2,
          "values": [
           0.6192938271623817,
           -0.6357898420661944
          ],
          "vectorType": "dense"
         },
         0.6192938271623817,
         -0.6357898420661944
        ],
        [
         "1",
         0,
         {
          "length": 2,
          "values": [
           3.249456589361688,
           -1.2847946773825833
          ],
          "vectorType": "dense"
         },
         3.249456589361688,
         -1.2847946773825833
        ],
        [
         "1",
         0,
         {
          "length": 2,
          "values": [
           3.3499794247879007,
           -2.6709504428938526
          ],
          "vectorType": "dense"
         },
         3.3499794247879007,
         -2.6709504428938526
        ],
        [
         "1",
         0,
         {
          "length": 2,
          "values": [
           0.8590471150995695,
           -0.09676338102649315
          ],
          "vectorType": "dense"
         },
         0.8590471150995695,
         -0.09676338102649315
        ],
        [
         "1",
         0,
         {
          "length": 2,
          "values": [
           3.153846915866264,
           0.8707764321748559
          ],
          "vectorType": "dense"
         },
         3.153846915866264,
         0.8707764321748559
        ],
        [
         "1",
         0,
         {
          "length": 2,
          "values": [
           -0.34622347304999,
           -1.5398703522206656
          ],
          "vectorType": "dense"
         },
         -0.34622347304999,
         -1.5398703522206656
        ],
        [
         "1",
         0,
         {
          "length": 2,
          "values": [
           2.4592427765273936,
           -0.6003197511282811
          ],
          "vectorType": "dense"
         },
         2.4592427765273936,
         -0.6003197511282811
        ],
        [
         "1",
         0,
         {
          "length": 2,
          "values": [
           1.5287555778359285,
           -0.4048615538044331
          ],
          "vectorType": "dense"
         },
         1.5287555778359285,
         -0.4048615538044331
        ],
        [
         "1",
         0,
         {
          "length": 2,
          "values": [
           1.7720258700967124,
           -0.803503014434994
          ],
          "vectorType": "dense"
         },
         1.7720258700967124,
         -0.803503014434994
        ],
        [
         "1",
         0,
         {
          "length": 2,
          "values": [
           2.678085191313472,
           1.4834036616823287
          ],
          "vectorType": "dense"
         },
         2.678085191313472,
         1.4834036616823287
        ],
        [
         "0",
         1,
         {
          "length": 2,
          "values": [
           -4.0248937788414745,
           2.9388442248977937
          ],
          "vectorType": "dense"
         },
         -4.0248937788414745,
         2.9388442248977937
        ],
        [
         "1",
         0,
         {
          "length": 2,
          "values": [
           2.1344731172656486,
           -1.517245622815041
          ],
          "vectorType": "dense"
         },
         2.1344731172656486,
         -1.517245622815041
        ],
        [
         "0",
         1,
         {
          "length": 2,
          "values": [
           -5.160869926813539,
           2.3801089865141543
          ],
          "vectorType": "dense"
         },
         -5.160869926813539,
         2.3801089865141543
        ],
        [
         "0",
         0,
         {
          "length": 2,
          "values": [
           -0.5354608003698782,
           -0.3803804509380937
          ],
          "vectorType": "dense"
         },
         -0.5354608003698782,
         -0.3803804509380937
        ],
        [
         "1",
         0,
         {
          "length": 2,
          "values": [
           -0.3428217359545053,
           -3.5313738153028877
          ],
          "vectorType": "dense"
         },
         -0.3428217359545053,
         -3.5313738153028877
        ],
        [
         "1",
         0,
         {
          "length": 2,
          "values": [
           4.193390244985366,
           -2.3653110586351427
          ],
          "vectorType": "dense"
         },
         4.193390244985366,
         -2.3653110586351427
        ],
        [
         "1",
         0,
         {
          "length": 2,
          "values": [
           1.1418271770489359,
           -5.594535868456152
          ],
          "vectorType": "dense"
         },
         1.1418271770489359,
         -5.594535868456152
        ],
        [
         "1",
         0,
         {
          "length": 2,
          "values": [
           1.664010998953224,
           -2.3875173612100076
          ],
          "vectorType": "dense"
         },
         1.664010998953224,
         -2.3875173612100076
        ],
        [
         "1",
         0,
         {
          "length": 2,
          "values": [
           -1.0108230779795002,
           -1.091429306814634
          ],
          "vectorType": "dense"
         },
         -1.0108230779795002,
         -1.091429306814634
        ],
        [
         "1",
         0,
         {
          "length": 2,
          "values": [
           1.2997860372752292,
           1.8198140572884016
          ],
          "vectorType": "dense"
         },
         1.2997860372752292,
         1.8198140572884016
        ],
        [
         "1",
         0,
         {
          "length": 2,
          "values": [
           2.3713421938590287,
           1.6800979291229732
          ],
          "vectorType": "dense"
         },
         2.3713421938590287,
         1.6800979291229732
        ],
        [
         "1",
         0,
         {
          "length": 2,
          "values": [
           1.6644065095239404,
           0.21377464094397797
          ],
          "vectorType": "dense"
         },
         1.6644065095239404,
         0.21377464094397797
        ],
        [
         "1",
         0,
         {
          "length": 2,
          "values": [
           1.9259835298962638,
           1.1367397049354833
          ],
          "vectorType": "dense"
         },
         1.9259835298962638,
         1.1367397049354833
        ],
        [
         "1",
         0,
         {
          "length": 2,
          "values": [
           4.233491591622636,
           -0.18411049913664243
          ],
          "vectorType": "dense"
         },
         4.233491591622636,
         -0.18411049913664243
        ],
        [
         "1",
         0,
         {
          "length": 2,
          "values": [
           2.67551654832496,
           -2.313756960760067
          ],
          "vectorType": "dense"
         },
         2.67551654832496,
         -2.313756960760067
        ],
        [
         "1",
         0,
         {
          "length": 2,
          "values": [
           3.8331251057796765,
           -0.4958136647931506
          ],
          "vectorType": "dense"
         },
         3.8331251057796765,
         -0.4958136647931506
        ],
        [
         "1",
         0,
         {
          "length": 2,
          "values": [
           2.549197271080616,
           -0.22812922776495775
          ],
          "vectorType": "dense"
         },
         2.549197271080616,
         -0.22812922776495775
        ],
        [
         "1",
         0,
         {
          "length": 2,
          "values": [
           4.690796039132359,
           0.7668032380496332
          ],
          "vectorType": "dense"
         },
         4.690796039132359,
         0.7668032380496332
        ],
        [
         "1",
         0,
         {
          "length": 2,
          "values": [
           2.023256911330983,
           -1.2601331159344544
          ],
          "vectorType": "dense"
         },
         2.023256911330983,
         -1.2601331159344544
        ],
        [
         "1",
         0,
         {
          "length": 2,
          "values": [
           2.893402316494323,
           1.4503596008448243
          ],
          "vectorType": "dense"
         },
         2.893402316494323,
         1.4503596008448243
        ],
        [
         "1",
         0,
         {
          "length": 2,
          "values": [
           3.499122181891035,
           -1.7992493424731142
          ],
          "vectorType": "dense"
         },
         3.499122181891035,
         -1.7992493424731142
        ],
        [
         "1",
         0,
         {
          "length": 2,
          "values": [
           2.1520101253443116,
           0.8293390875025686
          ],
          "vectorType": "dense"
         },
         2.1520101253443116,
         0.8293390875025686
        ],
        [
         "1",
         0,
         {
          "length": 2,
          "values": [
           2.053277400329513,
           -1.6150382046289566
          ],
          "vectorType": "dense"
         },
         2.053277400329513,
         -1.6150382046289566
        ],
        [
         "1",
         0,
         {
          "length": 2,
          "values": [
           3.87388097251528,
           -1.0833015533293562
          ],
          "vectorType": "dense"
         },
         3.87388097251528,
         -1.0833015533293562
        ],
        [
         "1",
         0,
         {
          "length": 2,
          "values": [
           4.060289488002569,
           -0.1220610343738378
          ],
          "vectorType": "dense"
         },
         4.060289488002569,
         -0.1220610343738378
        ],
        [
         "1",
         0,
         {
          "length": 2,
          "values": [
           0.09858059215940665,
           0.21337209338157492
          ],
          "vectorType": "dense"
         },
         0.09858059215940665,
         0.21337209338157492
        ],
        [
         "1",
         0,
         {
          "length": 2,
          "values": [
           1.0884184965311121,
           -1.2917113284606192
          ],
          "vectorType": "dense"
         },
         1.0884184965311121,
         -1.2917113284606192
        ],
        [
         "1",
         0,
         {
          "length": 2,
          "values": [
           0.48134742985143564,
           0.17786319025918332
          ],
          "vectorType": "dense"
         },
         0.48134742985143564,
         0.17786319025918332
        ],
        [
         "1",
         0,
         {
          "length": 2,
          "values": [
           4.866027926474258,
           2.1292326072497127
          ],
          "vectorType": "dense"
         },
         4.866027926474258,
         2.1292326072497127
        ],
        [
         "0",
         1,
         {
          "length": 2,
          "values": [
           -5.912410291355404,
           -3.4795749998679417
          ],
          "vectorType": "dense"
         },
         -5.912410291355404,
         -3.4795749998679417
        ],
        [
         "0",
         1,
         {
          "length": 2,
          "values": [
           -8.73365338296719,
           0.5733501846849253
          ],
          "vectorType": "dense"
         },
         -8.73365338296719,
         0.5733501846849253
        ],
        [
         "0",
         1,
         {
          "length": 2,
          "values": [
           -6.4336545461706285,
           3.573672988510644
          ],
          "vectorType": "dense"
         },
         -6.4336545461706285,
         3.573672988510644
        ],
        [
         "0",
         1,
         {
          "length": 2,
          "values": [
           -3.790047527744144,
           3.580897052024049
          ],
          "vectorType": "dense"
         },
         -3.790047527744144,
         3.580897052024049
        ],
        [
         "0",
         1,
         {
          "length": 2,
          "values": [
           -1.2550749425072116,
           1.900624363993427
          ],
          "vectorType": "dense"
         },
         -1.2550749425072116,
         1.900624363993427
        ],
        [
         "0",
         1,
         {
          "length": 2,
          "values": [
           -10.365673359932295,
           -1.6705402060588808
          ],
          "vectorType": "dense"
         },
         -10.365673359932295,
         -1.6705402060588808
        ],
        [
         "1",
         0,
         {
          "length": 2,
          "values": [
           5.470429900908385,
           0.6700472198383458
          ],
          "vectorType": "dense"
         },
         5.470429900908385,
         0.6700472198383458
        ]
       ],
       "datasetInfos": [],
       "dbfsResultPath": null,
       "isJsonSchema": true,
       "metadata": {},
       "overflow": false,
       "plotOptions": {
        "customPlotOptions": {},
        "displayType": "table",
        "pivotAggregation": null,
        "pivotColumns": null,
        "xColumns": null,
        "yColumns": null
       },
       "removedWidgets": [],
       "schema": [
        {
         "metadata": "{}",
         "name": "label",
         "type": "\"string\""
        },
        {
         "metadata": "{}",
         "name": "cluster",
         "type": "\"long\""
        },
        {
         "metadata": "{}",
         "name": "pca_features",
         "type": "{\"type\":\"udt\",\"class\":\"org.apache.spark.ml.linalg.VectorUDT\",\"pyClass\":\"pyspark.ml.linalg.VectorUDT\",\"sqlType\":{\"type\":\"struct\",\"fields\":[{\"name\":\"type\",\"type\":\"byte\",\"nullable\":false,\"metadata\":{}},{\"name\":\"size\",\"type\":\"integer\",\"nullable\":true,\"metadata\":{}},{\"name\":\"indices\",\"type\":{\"type\":\"array\",\"elementType\":\"integer\",\"containsNull\":false},\"nullable\":true,\"metadata\":{}},{\"name\":\"values\",\"type\":{\"type\":\"array\",\"elementType\":\"double\",\"containsNull\":false},\"nullable\":true,\"metadata\":{}}]}}"
        },
        {
         "metadata": "{}",
         "name": "PC1",
         "type": "\"double\""
        },
        {
         "metadata": "{}",
         "name": "PC2",
         "type": "\"double\""
        }
       ],
       "type": "table"
      }
     },
     "output_type": "display_data"
    }
   ],
   "source": [
    "# Compare original vs reduced dimensions\n",
    "print(\"Dataset Summary:\")\n",
    "print(f\"Original dimensions: {len(bc.feature_names)}\")\n",
    "print(f\"Reduced dimensions: 2\")\n",
    "print(f\"Data points: {df.count()}\")\n",
    "print(\"\\nDimensionality Reduction Performance:\")\n",
    "print(f\"Total explained variance: {sum(explained_variance):.3f}\")\n",
    "print(f\"Clustering quality (Silhouette): {silhouette:.3f}\")\n",
    "\n",
    "# Save results to a table if needed\n",
    "clustered.write.mode(\"overwrite\").saveAsTable(\"dimensionality_reduction_results\")\n",
    "\n",
    "# Final visualization with both original labels and clusters\n",
    "final_viz = clustered.select(\"label\", \"cluster\", \"pca_features\").toPandas()\n",
    "final_viz['PC1'] = final_viz['pca_features'].apply(lambda x: float(x[0]))\n",
    "final_viz['PC2'] = final_viz['pca_features'].apply(lambda x: float(x[1]))\n",
    "\n",
    "display(spark.createDataFrame(final_viz), \"scatter\", {\n",
    "    \"x\": \"PC1\",\n",
    "    \"y\": \"PC2\",\n",
    "    \"color\": [\"label\", \"cluster\"]  # This will create two visualizations\n",
    "})"
   ]
  },
  {
   "cell_type": "code",
   "execution_count": 0,
   "metadata": {
    "application/vnd.databricks.v1+cell": {
     "cellMetadata": {},
     "inputWidgets": {},
     "nuid": "30bbf923-b86b-4e47-ac18-e8bec51dc503",
     "showTitle": false,
     "tableResultSettingsMap": {},
     "title": ""
    }
   },
   "outputs": [],
   "source": []
  }
 ],
 "metadata": {
  "application/vnd.databricks.v1+notebook": {
   "dashboards": [],
   "environmentMetadata": null,
   "language": "python",
   "notebookMetadata": {
    "pythonIndentUnit": 4
   },
   "notebookName": "Dimensionality_Reduction_Databricks",
   "widgets": {}
  }
 },
 "nbformat": 4,
 "nbformat_minor": 0
}
